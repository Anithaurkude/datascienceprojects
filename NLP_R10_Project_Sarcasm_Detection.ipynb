{
  "nbformat": 4,
  "nbformat_minor": 0,
  "metadata": {
    "accelerator": "GPU",
    "colab": {
      "name": "NLP_R10_Project_Sarcasm Detection.ipynb",
      "provenance": [],
      "collapsed_sections": []
    },
    "kernelspec": {
      "display_name": "Python 3",
      "language": "python",
      "name": "python3"
    },
    "language_info": {
      "codemirror_mode": {
        "name": "ipython",
        "version": 3
      },
      "file_extension": ".py",
      "mimetype": "text/x-python",
      "name": "python",
      "nbconvert_exporter": "python",
      "pygments_lexer": "ipython3",
      "version": "3.7.3"
    }
  },
  "cells": [
    {
      "cell_type": "markdown",
      "metadata": {
        "id": "bI7SIeJ_oZMU"
      },
      "source": [
        "<img src=\"http://drive.google.com/uc?export=view&id=1tpOCamr9aWz817atPnyXus8w5gJ3mIts\" width=500px>\n",
        "\n",
        "Proprietary content. © Great Learning. All Rights Reserved. Unauthorized use or distribution prohibited."
      ]
    },
    {
      "cell_type": "markdown",
      "metadata": {
        "id": "Eukag7wEoPZu"
      },
      "source": [
        "### Package Version:\n",
        "- tensorflow==2.2.0\n",
        "- pandas==1.0.5\n",
        "- numpy==1.18.5\n",
        "- google==2.0.3"
      ]
    },
    {
      "cell_type": "markdown",
      "metadata": {
        "id": "pp68FAQf9aMN"
      },
      "source": [
        "# Sarcasm Detection"
      ]
    },
    {
      "cell_type": "markdown",
      "metadata": {
        "id": "bEahVPtWX5ve"
      },
      "source": [
        "### Dataset\n",
        "\n",
        "#### Acknowledgement\n",
        "Misra, Rishabh, and Prahal Arora. \"Sarcasm Detection using Hybrid Neural Network.\" arXiv preprint arXiv:1908.07414 (2019).\n",
        "\n",
        "**Required Files given in below link.**\n",
        "\n",
        "https://drive.google.com/drive/folders/1xUnF35naPGU63xwRDVGc-DkZ3M8V5mMk"
      ]
    },
    {
      "cell_type": "markdown",
      "metadata": {
        "id": "vAk6BRUh8CqL"
      },
      "source": [
        "### Load Data "
      ]
    },
    {
      "cell_type": "code",
      "metadata": {
        "id": "iP8nX_-Tq3t1"
      },
      "source": [
        "#importing necessary libraries\r\n",
        "import numpy as np \r\n",
        "import pandas as pd \r\n",
        "import os\r\n",
        "import re\r\n",
        "import matplotlib.pyplot as plt\r\n",
        "from tensorflow.python.keras.preprocessing.text import Tokenizer\r\n",
        "from tensorflow.python.keras.preprocessing.sequence import pad_sequences\r\n",
        "from keras.models import Sequential\r\n",
        "from keras.layers import Dense, Embedding, GRU, LSTM, Bidirectional,Dropout\r\n",
        "from keras.layers.embeddings import Embedding\r\n",
        "from keras.initializers import Constant\r\n",
        "from keras.callbacks import ModelCheckpoint\r\n",
        "from keras.models import load_model"
      ],
      "execution_count": 2,
      "outputs": []
    },
    {
      "cell_type": "code",
      "metadata": {
        "id": "v8-PQsV0DrAZ",
        "colab": {
          "base_uri": "https://localhost:8080/"
        },
        "outputId": "cfd091b2-dccb-4923-f167-28b806050088"
      },
      "source": [
        "from google.colab import drive\r\n",
        "drive.mount('/content/drive')"
      ],
      "execution_count": 3,
      "outputs": [
        {
          "output_type": "stream",
          "text": [
            "Mounted at /content/drive\n"
          ],
          "name": "stdout"
        }
      ]
    },
    {
      "cell_type": "code",
      "metadata": {
        "id": "p3SNV5fAXT7v"
      },
      "source": [
        "import os\r\n",
        "os.chdir('/content/drive/MyDrive/Colab Notebooks/data/project')"
      ],
      "execution_count": 4,
      "outputs": []
    },
    {
      "cell_type": "code",
      "metadata": {
        "id": "WYKYyd5fwMyy"
      },
      "source": [
        "#reading json data\r\n",
        "sardf = pd.read_json('Sarcasm_Headlines_Dataset.json',lines=True)"
      ],
      "execution_count": 5,
      "outputs": []
    },
    {
      "cell_type": "markdown",
      "metadata": {
        "id": "z6pXf7A78E2H"
      },
      "source": [
        "### Drop `article_link` from dataset "
      ]
    },
    {
      "cell_type": "code",
      "metadata": {
        "id": "-WUNHq5zEV0n"
      },
      "source": [
        "#dropping article_link\r\n",
        "sarnewdf = sardf.drop(['article_link'],axis=1)"
      ],
      "execution_count": 6,
      "outputs": []
    },
    {
      "cell_type": "markdown",
      "metadata": {
        "id": "D0h6IOxU8OdH"
      },
      "source": [
        "### Get length of each headline and add a column for \r\n",
        "\r\n",
        "1.   List item\r\n",
        "2.   List item\r\n",
        "\r\n",
        "that "
      ]
    },
    {
      "cell_type": "code",
      "metadata": {
        "id": "MLpiBRDmEV2l"
      },
      "source": [
        "#creating new column with the length of the headline column\r\n",
        "sarnewdf['length'] = sarnewdf['headline'].str.len()"
      ],
      "execution_count": 7,
      "outputs": []
    },
    {
      "cell_type": "code",
      "metadata": {
        "colab": {
          "base_uri": "https://localhost:8080/"
        },
        "id": "F88S1k-DsJFh",
        "outputId": "766411f8-c4aa-44f2-989e-4391a2728a53"
      },
      "source": [
        "sarnewdf['headline']"
      ],
      "execution_count": 8,
      "outputs": [
        {
          "output_type": "execute_result",
          "data": {
            "text/plain": [
              "0        former versace store clerk sues over secret 'b...\n",
              "1        the 'roseanne' revival catches up to our thorn...\n",
              "2        mom starting to fear son's web series closest ...\n",
              "3        boehner just wants wife to listen, not come up...\n",
              "4        j.k. rowling wishes snape happy birthday in th...\n",
              "                               ...                        \n",
              "26704                 american politics in moral free-fall\n",
              "26705                              america's best 20 hikes\n",
              "26706                                reparations and obama\n",
              "26707    israeli ban targeting boycott supporters raise...\n",
              "26708                    gourmet gifts for the foodie 2014\n",
              "Name: headline, Length: 26709, dtype: object"
            ]
          },
          "metadata": {
            "tags": []
          },
          "execution_count": 8
        }
      ]
    },
    {
      "cell_type": "code",
      "metadata": {
        "id": "GPvMdLh4whjB"
      },
      "source": [
        "#converting to lower character\r\n",
        "sarnewdf['headline'] = sarnewdf['headline'].apply(lambda s: s.lower())"
      ],
      "execution_count": 9,
      "outputs": []
    },
    {
      "cell_type": "code",
      "metadata": {
        "id": "lqUY3yZMuvMn"
      },
      "source": [
        "specialcharc = '{}[]/?*&^%$#@!~.,_-'\r\n"
      ],
      "execution_count": 10,
      "outputs": []
    },
    {
      "cell_type": "code",
      "metadata": {
        "colab": {
          "base_uri": "https://localhost:8080/"
        },
        "id": "QiT9HPojw4N5",
        "outputId": "316cb922-0050-47b2-fb40-c7e9b48f3dcf"
      },
      "source": [
        "sarnewdf.headline.str.strip(specialcharc).astype(bool).any()\r\n"
      ],
      "execution_count": 11,
      "outputs": [
        {
          "output_type": "execute_result",
          "data": {
            "text/plain": [
              "True"
            ]
          },
          "metadata": {
            "tags": []
          },
          "execution_count": 11
        }
      ]
    },
    {
      "cell_type": "code",
      "metadata": {
        "colab": {
          "base_uri": "https://localhost:8080/"
        },
        "id": "7nWvmA5sxAnN",
        "outputId": "f0235566-e916-424b-e714-1781804f29e3"
      },
      "source": [
        "sarnewdf['headline'][1:10]\r\n"
      ],
      "execution_count": 12,
      "outputs": [
        {
          "output_type": "execute_result",
          "data": {
            "text/plain": [
              "1    the 'roseanne' revival catches up to our thorn...\n",
              "2    mom starting to fear son's web series closest ...\n",
              "3    boehner just wants wife to listen, not come up...\n",
              "4    j.k. rowling wishes snape happy birthday in th...\n",
              "5                          advancing the world's women\n",
              "6       the fascinating case for eating lab-grown meat\n",
              "7    this ceo will send your kids to school, if you...\n",
              "8    top snake handler leaves sinking huckabee camp...\n",
              "9    friday's morning email: inside trump's presser...\n",
              "Name: headline, dtype: object"
            ]
          },
          "metadata": {
            "tags": []
          },
          "execution_count": 12
        }
      ]
    },
    {
      "cell_type": "code",
      "metadata": {
        "id": "RvlC1pAyxFzo"
      },
      "source": [
        "#keeping only letters and removing other special characters and numbers\r\n",
        "sarnewdf['headline'] = sarnewdf['headline'].apply(lambda s: re.sub('[^a-z ]','',s))\r\n"
      ],
      "execution_count": 13,
      "outputs": []
    },
    {
      "cell_type": "code",
      "metadata": {
        "colab": {
          "base_uri": "https://localhost:8080/"
        },
        "id": "NZQB1KccxYsp",
        "outputId": "f96a0f6f-22f1-4488-b19a-1cac715ecbce"
      },
      "source": [
        "sarnewdf['headline'][1:10]"
      ],
      "execution_count": 16,
      "outputs": [
        {
          "output_type": "execute_result",
          "data": {
            "text/plain": [
              "1    the roseanne revival catches up to our thorny ...\n",
              "2    mom starting to fear sons web series closest t...\n",
              "3    boehner just wants wife to listen not come up ...\n",
              "4    jk rowling wishes snape happy birthday in the ...\n",
              "5                           advancing the worlds women\n",
              "6        the fascinating case for eating labgrown meat\n",
              "7    this ceo will send your kids to school if you ...\n",
              "8    top snake handler leaves sinking huckabee camp...\n",
              "9    fridays morning email inside trumps presser fo...\n",
              "Name: headline, dtype: object"
            ]
          },
          "metadata": {
            "tags": []
          },
          "execution_count": 16
        }
      ]
    },
    {
      "cell_type": "code",
      "metadata": {
        "id": "T-RFIAfjxeeN"
      },
      "source": [
        "#removing spaces\r\n",
        "sarnewdf['headline'] = sarnewdf['headline'].apply(lambda s: s.strip())\r\n"
      ],
      "execution_count": 14,
      "outputs": []
    },
    {
      "cell_type": "code",
      "metadata": {
        "colab": {
          "base_uri": "https://localhost:8080/"
        },
        "id": "0h19RVbsxkaF",
        "outputId": "c54fc452-bec7-48f6-ab20-9d1b47bdbb6e"
      },
      "source": [
        "sarnewdf['headline'][1:10]"
      ],
      "execution_count": 15,
      "outputs": [
        {
          "output_type": "execute_result",
          "data": {
            "text/plain": [
              "1    the roseanne revival catches up to our thorny ...\n",
              "2    mom starting to fear sons web series closest t...\n",
              "3    boehner just wants wife to listen not come up ...\n",
              "4    jk rowling wishes snape happy birthday in the ...\n",
              "5                           advancing the worlds women\n",
              "6        the fascinating case for eating labgrown meat\n",
              "7    this ceo will send your kids to school if you ...\n",
              "8    top snake handler leaves sinking huckabee camp...\n",
              "9    fridays morning email inside trumps presser fo...\n",
              "Name: headline, dtype: object"
            ]
          },
          "metadata": {
            "tags": []
          },
          "execution_count": 15
        }
      ]
    },
    {
      "cell_type": "code",
      "metadata": {
        "colab": {
          "base_uri": "https://localhost:8080/"
        },
        "id": "j5donJo_Oeh1",
        "outputId": "21ee0f35-50d5-4ab8-81dd-381cf4b8d474"
      },
      "source": [
        "!pip install stopwords"
      ],
      "execution_count": 17,
      "outputs": [
        {
          "output_type": "stream",
          "text": [
            "Collecting stopwords\n",
            "  Downloading https://files.pythonhosted.org/packages/11/ca/a9739ab06b080e09f87eb9e65ca84cbc528fde1d724bf2bbca1b96e5e883/stopwords-1.0.0-py2.py3-none-any.whl\n",
            "Installing collected packages: stopwords\n",
            "Successfully installed stopwords-1.0.0\n"
          ],
          "name": "stdout"
        }
      ]
    },
    {
      "cell_type": "code",
      "metadata": {
        "colab": {
          "base_uri": "https://localhost:8080/"
        },
        "id": "_8_1sJcZO7Ye",
        "outputId": "3a8ae7aa-0645-4aa4-e789-915496ea2dd3"
      },
      "source": [
        "import nltk\r\n",
        "nltk.download(\"popular\")"
      ],
      "execution_count": 16,
      "outputs": [
        {
          "output_type": "stream",
          "text": [
            "[nltk_data] Downloading collection 'popular'\n",
            "[nltk_data]    | \n",
            "[nltk_data]    | Downloading package cmudict to /root/nltk_data...\n",
            "[nltk_data]    |   Unzipping corpora/cmudict.zip.\n",
            "[nltk_data]    | Downloading package gazetteers to /root/nltk_data...\n",
            "[nltk_data]    |   Unzipping corpora/gazetteers.zip.\n",
            "[nltk_data]    | Downloading package genesis to /root/nltk_data...\n",
            "[nltk_data]    |   Unzipping corpora/genesis.zip.\n",
            "[nltk_data]    | Downloading package gutenberg to /root/nltk_data...\n",
            "[nltk_data]    |   Unzipping corpora/gutenberg.zip.\n",
            "[nltk_data]    | Downloading package inaugural to /root/nltk_data...\n",
            "[nltk_data]    |   Unzipping corpora/inaugural.zip.\n",
            "[nltk_data]    | Downloading package movie_reviews to\n",
            "[nltk_data]    |     /root/nltk_data...\n",
            "[nltk_data]    |   Unzipping corpora/movie_reviews.zip.\n",
            "[nltk_data]    | Downloading package names to /root/nltk_data...\n",
            "[nltk_data]    |   Unzipping corpora/names.zip.\n",
            "[nltk_data]    | Downloading package shakespeare to /root/nltk_data...\n",
            "[nltk_data]    |   Unzipping corpora/shakespeare.zip.\n",
            "[nltk_data]    | Downloading package stopwords to /root/nltk_data...\n",
            "[nltk_data]    |   Unzipping corpora/stopwords.zip.\n",
            "[nltk_data]    | Downloading package treebank to /root/nltk_data...\n",
            "[nltk_data]    |   Unzipping corpora/treebank.zip.\n",
            "[nltk_data]    | Downloading package twitter_samples to\n",
            "[nltk_data]    |     /root/nltk_data...\n",
            "[nltk_data]    |   Unzipping corpora/twitter_samples.zip.\n",
            "[nltk_data]    | Downloading package omw to /root/nltk_data...\n",
            "[nltk_data]    |   Unzipping corpora/omw.zip.\n",
            "[nltk_data]    | Downloading package wordnet to /root/nltk_data...\n",
            "[nltk_data]    |   Unzipping corpora/wordnet.zip.\n",
            "[nltk_data]    | Downloading package wordnet_ic to /root/nltk_data...\n",
            "[nltk_data]    |   Unzipping corpora/wordnet_ic.zip.\n",
            "[nltk_data]    | Downloading package words to /root/nltk_data...\n",
            "[nltk_data]    |   Unzipping corpora/words.zip.\n",
            "[nltk_data]    | Downloading package maxent_ne_chunker to\n",
            "[nltk_data]    |     /root/nltk_data...\n",
            "[nltk_data]    |   Unzipping chunkers/maxent_ne_chunker.zip.\n",
            "[nltk_data]    | Downloading package punkt to /root/nltk_data...\n",
            "[nltk_data]    |   Unzipping tokenizers/punkt.zip.\n",
            "[nltk_data]    | Downloading package snowball_data to\n",
            "[nltk_data]    |     /root/nltk_data...\n",
            "[nltk_data]    | Downloading package averaged_perceptron_tagger to\n",
            "[nltk_data]    |     /root/nltk_data...\n",
            "[nltk_data]    |   Unzipping taggers/averaged_perceptron_tagger.zip.\n",
            "[nltk_data]    | \n",
            "[nltk_data]  Done downloading collection popular\n"
          ],
          "name": "stdout"
        },
        {
          "output_type": "execute_result",
          "data": {
            "text/plain": [
              "True"
            ]
          },
          "metadata": {
            "tags": []
          },
          "execution_count": 16
        }
      ]
    },
    {
      "cell_type": "markdown",
      "metadata": {
        "id": "mF2iaIIOOdss"
      },
      "source": [
        ""
      ]
    },
    {
      "cell_type": "code",
      "metadata": {
        "colab": {
          "base_uri": "https://localhost:8080/"
        },
        "id": "KWgPFSSAs1Wm",
        "outputId": "456ca09f-173b-45fb-a682-5bbaf9476aaa"
      },
      "source": [
        "import stopwords\r\n",
        "from nltk.corpus import stopwords\r\n",
        "print(stopwords.words('english'))\r\n"
      ],
      "execution_count": 14,
      "outputs": [
        {
          "output_type": "stream",
          "text": [
            "['i', 'me', 'my', 'myself', 'we', 'our', 'ours', 'ourselves', 'you', \"you're\", \"you've\", \"you'll\", \"you'd\", 'your', 'yours', 'yourself', 'yourselves', 'he', 'him', 'his', 'himself', 'she', \"she's\", 'her', 'hers', 'herself', 'it', \"it's\", 'its', 'itself', 'they', 'them', 'their', 'theirs', 'themselves', 'what', 'which', 'who', 'whom', 'this', 'that', \"that'll\", 'these', 'those', 'am', 'is', 'are', 'was', 'were', 'be', 'been', 'being', 'have', 'has', 'had', 'having', 'do', 'does', 'did', 'doing', 'a', 'an', 'the', 'and', 'but', 'if', 'or', 'because', 'as', 'until', 'while', 'of', 'at', 'by', 'for', 'with', 'about', 'against', 'between', 'into', 'through', 'during', 'before', 'after', 'above', 'below', 'to', 'from', 'up', 'down', 'in', 'out', 'on', 'off', 'over', 'under', 'again', 'further', 'then', 'once', 'here', 'there', 'when', 'where', 'why', 'how', 'all', 'any', 'both', 'each', 'few', 'more', 'most', 'other', 'some', 'such', 'no', 'nor', 'not', 'only', 'own', 'same', 'so', 'than', 'too', 'very', 's', 't', 'can', 'will', 'just', 'don', \"don't\", 'should', \"should've\", 'now', 'd', 'll', 'm', 'o', 're', 've', 'y', 'ain', 'aren', \"aren't\", 'couldn', \"couldn't\", 'didn', \"didn't\", 'doesn', \"doesn't\", 'hadn', \"hadn't\", 'hasn', \"hasn't\", 'haven', \"haven't\", 'isn', \"isn't\", 'ma', 'mightn', \"mightn't\", 'mustn', \"mustn't\", 'needn', \"needn't\", 'shan', \"shan't\", 'shouldn', \"shouldn't\", 'wasn', \"wasn't\", 'weren', \"weren't\", 'won', \"won't\", 'wouldn', \"wouldn't\"]\n"
          ],
          "name": "stdout"
        }
      ]
    },
    {
      "cell_type": "code",
      "metadata": {
        "colab": {
          "base_uri": "https://localhost:8080/"
        },
        "id": "b_7Sc8bRO6EV",
        "outputId": "2fddc5db-50aa-4d9d-eec0-410256057a4d"
      },
      "source": [
        "# stop_words = set(stopwords.words('english')) \r\n",
        "# #Below stop words are present in the text\r\n",
        "# sarnewdf['headline'].apply(lambda x: ' '.join([text for text in x.split() if text in stop_words]))"
      ],
      "execution_count": 22,
      "outputs": [
        {
          "output_type": "execute_result",
          "data": {
            "text/plain": [
              "0                     over for\n",
              "1        the up to our for and\n",
              "2          to she will have to\n",
              "3          just to not up with\n",
              "4                  in the most\n",
              "                 ...          \n",
              "26704                       in\n",
              "26705                         \n",
              "26706                      and\n",
              "26707                         \n",
              "26708                  for the\n",
              "Name: headline, Length: 26709, dtype: object"
            ]
          },
          "metadata": {
            "tags": []
          },
          "execution_count": 22
        }
      ]
    },
    {
      "cell_type": "code",
      "metadata": {
        "id": "YykdQLegRXdu"
      },
      "source": [
        "# #removing emoji's and converting short form of words to full form\r\n",
        "# def clean_text(text):\r\n",
        "    \r\n",
        "#     text = \" \".join(filter(lambda x:x[0]!='@', text.split()))\r\n",
        "#     emoji = re.compile(\"[\"\r\n",
        "#                            u\"\\U0001F600-\\U0001FFFF\"  # emoticons\r\n",
        "#                            u\"\\U0001F300-\\U0001F5FF\"  # symbols & pictographs\r\n",
        "#                            u\"\\U0001F680-\\U0001F6FF\"  # transport & map symbols\r\n",
        "#                            u\"\\U0001F1E0-\\U0001F1FF\"  # flags (iOS)\r\n",
        "#                            u\"\\U00002702-\\U000027B0\"\r\n",
        "#                            u\"\\U000024C2-\\U0001F251\"\r\n",
        "#                            \"]+\", flags=re.UNICODE)\r\n",
        "    \r\n",
        "#     text = emoji.sub(r'', text)\r\n",
        "#     text = text.lower()\r\n",
        "#     text = re.sub(r\"i'm\", \"i am\", text)\r\n",
        "#     text = re.sub(r\"he's\", \"he is\", text)\r\n",
        "#     text = re.sub(r\"she's\", \"she is\", text)\r\n",
        "#     text = re.sub(r\"that's\", \"that is\", text)        \r\n",
        "#     text = re.sub(r\"what's\", \"what is\", text)\r\n",
        "#     text = re.sub(r\"where's\", \"where is\", text) \r\n",
        "#     text = re.sub(r\"\\'ll\", \" will\", text)  \r\n",
        "#     text = re.sub(r\"\\'ve\", \" have\", text)  \r\n",
        "#     text = re.sub(r\"\\'re\", \" are\", text)\r\n",
        "#     text = re.sub(r\"\\'d\", \" would\", text)\r\n",
        "#     text = re.sub(r\"\\'ve\", \" have\", text)\r\n",
        "#     text = re.sub(r\"won't\", \"will not\", text)\r\n",
        "#     text = re.sub(r\"don't\", \"do not\", text)\r\n",
        "#     text = re.sub(r\"did't\", \"did not\", text)\r\n",
        "#     text = re.sub(r\"can't\", \"can not\", text)\r\n",
        "#     text = re.sub(r\"it's\", \"it is\", text)\r\n",
        "#     text = re.sub(r\"couldn't\", \"could not\", text)\r\n",
        "#     text = re.sub(r\"have't\", \"have not\", text)\r\n",
        "#     text = re.sub(r\"[,.\\\"\\'!@#$%^&*(){}?/;`~:<>+=-]\", \"\", text)\r\n",
        "#     return text"
      ],
      "execution_count": 15,
      "outputs": []
    },
    {
      "cell_type": "code",
      "metadata": {
        "id": "ag_iaEkrRRI5"
      },
      "source": [
        "# #removing stop words\r\n",
        "# import string\r\n",
        "# from nltk.tokenize import word_tokenize\r\n",
        "# from nltk.corpus import stopwords\r\n",
        "# def CleanTokenize(df):\r\n",
        "#     head_lines = list()\r\n",
        "#     lines = sarnewdf[\"headline\"].values.tolist()\r\n",
        "\r\n",
        "#     for line in lines:\r\n",
        "#         line = clean_text(line)\r\n",
        "#         # tokenize the text\r\n",
        "#         tokens = word_tokenize(line)\r\n",
        "#         # remove puntuations\r\n",
        "#         table = str.maketrans('', '', string.punctuation)\r\n",
        "#         stripped = [w.translate(table) for w in tokens]\r\n",
        "#         # remove non alphabetic characters\r\n",
        "#         words = [word for word in stripped if word.isalpha()]\r\n",
        "#         stop_words = set(stopwords.words(\"english\"))\r\n",
        "#         # remove stop words\r\n",
        "#         words = [w for w in words if not w in stop_words]\r\n",
        "#         head_lines.append(words)\r\n",
        "#     return head_lines\r\n",
        "\r\n",
        "# head_lines = CleanTokenize(sarnewdf)\r\n",
        "# head_lines[0:10]"
      ],
      "execution_count": 50,
      "outputs": []
    },
    {
      "cell_type": "code",
      "metadata": {
        "id": "IXIsCg9kPVCt"
      },
      "source": [
        "#forming text after removing stop words from it\r\n",
        "#sarnewdf['headline1'] = sarnewdf['headline'].apply(lambda x: ' '.join([text for text in x.split() if text not in stop_words]))"
      ],
      "execution_count": 51,
      "outputs": []
    },
    {
      "cell_type": "code",
      "metadata": {
        "id": "xLff8wjHPujA"
      },
      "source": [
        "# #looking at most occuring words\r\n",
        "# from collections import Counter\r\n",
        "# from wordcloud import WordCloud, ImageColorGenerator\r\n",
        "# pos_data = sarnewdf.loc[sarnewdf['is_sarcastic'] == 1]\r\n",
        "\r\n",
        "# pos_lines = [j for sub in pos_data for j in sub] \r\n",
        "# word_could_dict=Counter(pos_lines)\r\n",
        "\r\n",
        "# wordcloud = WordCloud(width = 1000, height = 500).generate_from_frequencies(word_could_dict)\r\n",
        "# plt.figure(figsize=(15,8))\r\n",
        "# plt.imshow(wordcloud)\r\n",
        "# plt.axis(\"off\")"
      ],
      "execution_count": 49,
      "outputs": []
    },
    {
      "cell_type": "markdown",
      "metadata": {
        "id": "SMF-wjJ2aMwm"
      },
      "source": [
        "### Initialize parameter values\n",
        "- Set values for max_features, maxlen, & embedding_size\n",
        "- max_features: Number of words to take from tokenizer(most frequent words)\n",
        "- maxlen: Maximum length of each sentence to be limited to 25\n",
        "- embedding_size: size of embedding vector"
      ]
    },
    {
      "cell_type": "markdown",
      "metadata": {
        "id": "9abSe-bM8fn9"
      },
      "source": [
        "### Apply `tensorflow.keras` Tokenizer and get indices \n",
        "\n",
        "\n",
        "\n",
        "for words \n",
        "- Initialize Tokenizer object with number of words as 10000\n",
        "- Fit the tokenizer object on headline column\n",
        "- Convert the text to sequence\n"
      ]
    },
    {
      "cell_type": "code",
      "metadata": {
        "id": "y8g4l0KfF3eh"
      },
      "source": [
        "import tensorflow as tf\r\n",
        "from tensorflow import keras\r\n",
        "from tensorflow.keras.preprocessing.text import Tokenizer\r\n",
        "from tensorflow.keras.preprocessing.sequence import pad_sequences\r\n",
        "\r\n",
        "padding_type='post'\r\n",
        "oov_tok='<oov>'"
      ],
      "execution_count": 18,
      "outputs": []
    },
    {
      "cell_type": "code",
      "metadata": {
        "id": "jPw9gAN_EV6m"
      },
      "source": [
        "max_features = 10000\n",
        "maxlen = 25\n",
        "embedding_size = 200\n",
        "trunc_type='post'\n",
        "\n"
      ],
      "execution_count": 19,
      "outputs": []
    },
    {
      "cell_type": "code",
      "metadata": {
        "id": "080cfGQLIkQf"
      },
      "source": [
        "#fitting tokenizer object column and converting it to sequences\r\n",
        "tokenizer = Tokenizer()\r\n",
        "tokenizer.fit_on_texts(sarnewdf['headline'])\r\n",
        "sequences = tokenizer.texts_to_sequences(sarnewdf['headline'])\r\n",
        "\r\n"
      ],
      "execution_count": 21,
      "outputs": []
    },
    {
      "cell_type": "markdown",
      "metadata": {
        "id": "xeZpwPO4bOkZ"
      },
      "source": [
        "### Pad sequences \n",
        "- Pad each example with a maximum length\n",
        "- Convert target column into numpy array"
      ]
    },
    {
      "cell_type": "code",
      "metadata": {
        "id": "6BPJCWUcSofL"
      },
      "source": [
        "#padding zeros to make all words of same length,using post padding\r\n",
        "#forming features and labels\r\n",
        "lines_pad = pad_sequences(sequences, maxlen=maxlen, padding='post' )\r\n",
        "\r\n",
        "\r\n"
      ],
      "execution_count": 22,
      "outputs": []
    },
    {
      "cell_type": "code",
      "metadata": {
        "colab": {
          "base_uri": "https://localhost:8080/"
        },
        "id": "lZeY9RiQ9n5k",
        "outputId": "4c7b5ab7-f3d6-4721-b8f9-cea4b5a4f543"
      },
      "source": [
        "#converting target into numpy array\r\n",
        "sentiment =  sarnewdf['is_sarcastic'].values\r\n",
        "sentiment"
      ],
      "execution_count": 23,
      "outputs": [
        {
          "output_type": "execute_result",
          "data": {
            "text/plain": [
              "array([0, 0, 1, ..., 0, 0, 0])"
            ]
          },
          "metadata": {
            "tags": []
          },
          "execution_count": 23
        }
      ]
    },
    {
      "cell_type": "code",
      "metadata": {
        "id": "Oyvf8QhMTXvP"
      },
      "source": [
        "indices = np.arange(lines_pad.shape[0])\r\n",
        "np.random.shuffle(indices)\r\n",
        "lines_pad = lines_pad[indices]\r\n",
        "sentiment = sentiment[indices]\r\n"
      ],
      "execution_count": 24,
      "outputs": []
    },
    {
      "cell_type": "markdown",
      "metadata": {
        "id": "WJLyKg-98rH_"
      },
      "source": [
        "### Vocab mapping\n",
        "- There is no word for 0th index"
      ]
    },
    {
      "cell_type": "code",
      "metadata": {
        "id": "vCNgtnQqdbZn",
        "colab": {
          "base_uri": "https://localhost:8080/"
        },
        "outputId": "03a864d4-23f9-4bd9-ed93-5a5c5ad9fa34"
      },
      "source": [
        "word_index = tokenizer.word_index\r\n",
        "print(\"unique tokens - \",len(word_index))"
      ],
      "execution_count": 25,
      "outputs": [
        {
          "output_type": "stream",
          "text": [
            "unique tokens -  27629\n"
          ],
          "name": "stdout"
        }
      ]
    },
    {
      "cell_type": "code",
      "metadata": {
        "colab": {
          "base_uri": "https://localhost:8080/"
        },
        "id": "-QfASBVLqt3v",
        "outputId": "998a0202-d0f3-4dca-d1ad-ffb0df8612ad"
      },
      "source": [
        "word_index"
      ],
      "execution_count": 26,
      "outputs": [
        {
          "output_type": "execute_result",
          "data": {
            "text/plain": [
              "{'to': 1,\n",
              " 'of': 2,\n",
              " 'the': 3,\n",
              " 'in': 4,\n",
              " 'for': 5,\n",
              " 'a': 6,\n",
              " 'on': 7,\n",
              " 'and': 8,\n",
              " 'with': 9,\n",
              " 'is': 10,\n",
              " 'new': 11,\n",
              " 'trump': 12,\n",
              " 'man': 13,\n",
              " 'from': 14,\n",
              " 'at': 15,\n",
              " 'about': 16,\n",
              " 'you': 17,\n",
              " 'this': 18,\n",
              " 'by': 19,\n",
              " 'after': 20,\n",
              " 'be': 21,\n",
              " 'how': 22,\n",
              " 'out': 23,\n",
              " 'it': 24,\n",
              " 'that': 25,\n",
              " 'as': 26,\n",
              " 'up': 27,\n",
              " 'not': 28,\n",
              " 'are': 29,\n",
              " 'your': 30,\n",
              " 'what': 31,\n",
              " 'his': 32,\n",
              " 'he': 33,\n",
              " 'just': 34,\n",
              " 'who': 35,\n",
              " 'us': 36,\n",
              " 'has': 37,\n",
              " 'will': 38,\n",
              " 'more': 39,\n",
              " 'all': 40,\n",
              " 'report': 41,\n",
              " 'into': 42,\n",
              " 'one': 43,\n",
              " 'why': 44,\n",
              " 'have': 45,\n",
              " 'area': 46,\n",
              " 'over': 47,\n",
              " 'donald': 48,\n",
              " 'says': 49,\n",
              " 'day': 50,\n",
              " 'woman': 51,\n",
              " 'can': 52,\n",
              " 'its': 53,\n",
              " 'time': 54,\n",
              " 'no': 55,\n",
              " 'first': 56,\n",
              " 'like': 57,\n",
              " 'get': 58,\n",
              " 'her': 59,\n",
              " 'trumps': 60,\n",
              " 'people': 61,\n",
              " 'an': 62,\n",
              " 'i': 63,\n",
              " 'now': 64,\n",
              " 'obama': 65,\n",
              " 'house': 66,\n",
              " 'off': 67,\n",
              " 'life': 68,\n",
              " 'make': 69,\n",
              " 'still': 70,\n",
              " 'women': 71,\n",
              " 'was': 72,\n",
              " 'than': 73,\n",
              " 'my': 74,\n",
              " 'white': 75,\n",
              " 'we': 76,\n",
              " 'back': 77,\n",
              " 'clinton': 78,\n",
              " 'down': 79,\n",
              " 'if': 80,\n",
              " 'when': 81,\n",
              " 'world': 82,\n",
              " 'years': 83,\n",
              " 'could': 84,\n",
              " 'family': 85,\n",
              " 'their': 86,\n",
              " 'do': 87,\n",
              " 'before': 88,\n",
              " 'americans': 89,\n",
              " 'most': 90,\n",
              " 'way': 91,\n",
              " 'black': 92,\n",
              " 'they': 93,\n",
              " 'gop': 94,\n",
              " 'study': 95,\n",
              " 'year': 96,\n",
              " 'bill': 97,\n",
              " 'yearold': 98,\n",
              " 'should': 99,\n",
              " 'so': 100,\n",
              " 'would': 101,\n",
              " 'him': 102,\n",
              " 'best': 103,\n",
              " 'police': 104,\n",
              " 'only': 105,\n",
              " 'watch': 106,\n",
              " 'really': 107,\n",
              " 'but': 108,\n",
              " 'american': 109,\n",
              " 'being': 110,\n",
              " 'show': 111,\n",
              " 'school': 112,\n",
              " 'cant': 113,\n",
              " 'know': 114,\n",
              " 'things': 115,\n",
              " 'good': 116,\n",
              " 'home': 117,\n",
              " 'during': 118,\n",
              " 'death': 119,\n",
              " 'president': 120,\n",
              " 'finds': 121,\n",
              " 'say': 122,\n",
              " 'video': 123,\n",
              " 'nation': 124,\n",
              " 'going': 125,\n",
              " 'love': 126,\n",
              " 'health': 127,\n",
              " 'or': 128,\n",
              " 'last': 129,\n",
              " 'state': 130,\n",
              " 'hillary': 131,\n",
              " 'big': 132,\n",
              " 'parents': 133,\n",
              " 'may': 134,\n",
              " 'too': 135,\n",
              " 'against': 136,\n",
              " 'every': 137,\n",
              " 'she': 138,\n",
              " 'mom': 139,\n",
              " 'kids': 140,\n",
              " 'campaign': 141,\n",
              " 'need': 142,\n",
              " 'gets': 143,\n",
              " 'these': 144,\n",
              " 'getting': 145,\n",
              " 'party': 146,\n",
              " 'little': 147,\n",
              " 'some': 148,\n",
              " 'work': 149,\n",
              " 'right': 150,\n",
              " 'change': 151,\n",
              " 'take': 152,\n",
              " 'our': 153,\n",
              " 'dead': 154,\n",
              " 'dont': 155,\n",
              " 'makes': 156,\n",
              " 'america': 157,\n",
              " 'calls': 158,\n",
              " 'news': 159,\n",
              " 'court': 160,\n",
              " 'doesnt': 161,\n",
              " 'other': 162,\n",
              " 'john': 163,\n",
              " 'through': 164,\n",
              " 'while': 165,\n",
              " 'heres': 166,\n",
              " 'own': 167,\n",
              " 'want': 168,\n",
              " 'never': 169,\n",
              " 'look': 170,\n",
              " 'child': 171,\n",
              " 'takes': 172,\n",
              " 'war': 173,\n",
              " 'nations': 174,\n",
              " 'see': 175,\n",
              " 'gay': 176,\n",
              " 'next': 177,\n",
              " 'where': 178,\n",
              " 'local': 179,\n",
              " 'stop': 180,\n",
              " 'hes': 181,\n",
              " 'star': 182,\n",
              " 'go': 183,\n",
              " 'even': 184,\n",
              " 'real': 185,\n",
              " 'guy': 186,\n",
              " 'election': 187,\n",
              " 'again': 188,\n",
              " 'college': 189,\n",
              " 'bush': 190,\n",
              " 'office': 191,\n",
              " 'plan': 192,\n",
              " 'another': 193,\n",
              " 'got': 194,\n",
              " 'thing': 195,\n",
              " 'game': 196,\n",
              " 'dad': 197,\n",
              " 'week': 198,\n",
              " 'around': 199,\n",
              " 'made': 200,\n",
              " 'them': 201,\n",
              " 'help': 202,\n",
              " 'dog': 203,\n",
              " 'baby': 204,\n",
              " 'wants': 205,\n",
              " 'gun': 206,\n",
              " 'million': 207,\n",
              " 'job': 208,\n",
              " 'debate': 209,\n",
              " 'live': 210,\n",
              " 'actually': 211,\n",
              " 'care': 212,\n",
              " 'congress': 213,\n",
              " 'friends': 214,\n",
              " 'high': 215,\n",
              " 'finally': 216,\n",
              " 'much': 217,\n",
              " 'north': 218,\n",
              " 'been': 219,\n",
              " 'me': 220,\n",
              " 'under': 221,\n",
              " 'ever': 222,\n",
              " 'sex': 223,\n",
              " 'national': 224,\n",
              " 'students': 225,\n",
              " 'mans': 226,\n",
              " 'couple': 227,\n",
              " 'ways': 228,\n",
              " 'climate': 229,\n",
              " 'bad': 230,\n",
              " 'money': 231,\n",
              " 'wont': 232,\n",
              " 'top': 233,\n",
              " 'season': 234,\n",
              " 'god': 235,\n",
              " 'two': 236,\n",
              " 'shows': 237,\n",
              " 'better': 238,\n",
              " 'give': 239,\n",
              " 'there': 240,\n",
              " 'story': 241,\n",
              " 'night': 242,\n",
              " 'media': 243,\n",
              " 'teen': 244,\n",
              " 'shooting': 245,\n",
              " 'had': 246,\n",
              " 'men': 247,\n",
              " 'were': 248,\n",
              " 'trying': 249,\n",
              " 'sexual': 250,\n",
              " 'reveals': 251,\n",
              " 'paul': 252,\n",
              " 'senate': 253,\n",
              " 'without': 254,\n",
              " 'away': 255,\n",
              " 'city': 256,\n",
              " 'supreme': 257,\n",
              " 'history': 258,\n",
              " 'old': 259,\n",
              " 'food': 260,\n",
              " 'announces': 261,\n",
              " 'making': 262,\n",
              " 'everyone': 263,\n",
              " 'children': 264,\n",
              " 'attack': 265,\n",
              " 'fight': 266,\n",
              " 'business': 267,\n",
              " 'any': 268,\n",
              " 'deal': 269,\n",
              " 'enough': 270,\n",
              " 'facebook': 271,\n",
              " 'york': 272,\n",
              " 'face': 273,\n",
              " 'movie': 274,\n",
              " 'end': 275,\n",
              " 'introduces': 276,\n",
              " 'great': 277,\n",
              " 'pope': 278,\n",
              " 'sanders': 279,\n",
              " 'part': 280,\n",
              " 'law': 281,\n",
              " 'does': 282,\n",
              " 'friend': 283,\n",
              " 'tell': 284,\n",
              " 'call': 285,\n",
              " 'tv': 286,\n",
              " 'former': 287,\n",
              " 'entire': 288,\n",
              " 'son': 289,\n",
              " 'fire': 290,\n",
              " 'wedding': 291,\n",
              " 'film': 292,\n",
              " 'found': 293,\n",
              " 'find': 294,\n",
              " 'book': 295,\n",
              " 'body': 296,\n",
              " 'government': 297,\n",
              " 'think': 298,\n",
              " 'come': 299,\n",
              " 'email': 300,\n",
              " 'girl': 301,\n",
              " 'pretty': 302,\n",
              " 'republican': 303,\n",
              " 'support': 304,\n",
              " 'speech': 305,\n",
              " 'single': 306,\n",
              " 'coming': 307,\n",
              " 'morning': 308,\n",
              " 'self': 309,\n",
              " 'photos': 310,\n",
              " 'presidential': 311,\n",
              " 'james': 312,\n",
              " 'car': 313,\n",
              " 'future': 314,\n",
              " 'republicans': 315,\n",
              " 'use': 316,\n",
              " 'keep': 317,\n",
              " 'power': 318,\n",
              " 'thinks': 319,\n",
              " 'public': 320,\n",
              " 'run': 321,\n",
              " 'very': 322,\n",
              " 'didnt': 323,\n",
              " 'rights': 324,\n",
              " 'christmas': 325,\n",
              " 'name': 326,\n",
              " 'already': 327,\n",
              " 'democrats': 328,\n",
              " 'talk': 329,\n",
              " 'case': 330,\n",
              " 'company': 331,\n",
              " 'fans': 332,\n",
              " 'marriage': 333,\n",
              " 'violence': 334,\n",
              " 'girls': 335,\n",
              " 'voters': 336,\n",
              " 'behind': 337,\n",
              " 'line': 338,\n",
              " 'im': 339,\n",
              " 'between': 340,\n",
              " 'releases': 341,\n",
              " 'worlds': 342,\n",
              " 'tax': 343,\n",
              " 'th': 344,\n",
              " 'race': 345,\n",
              " 'killed': 346,\n",
              " 'security': 347,\n",
              " 'vote': 348,\n",
              " 'human': 349,\n",
              " 'states': 350,\n",
              " 'something': 351,\n",
              " 'doing': 352,\n",
              " 'secret': 353,\n",
              " 'used': 354,\n",
              " 'goes': 355,\n",
              " 'having': 356,\n",
              " 'long': 357,\n",
              " 'might': 358,\n",
              " 'must': 359,\n",
              " 'group': 360,\n",
              " 'days': 361,\n",
              " 'asks': 362,\n",
              " 'free': 363,\n",
              " 'ban': 364,\n",
              " 'win': 365,\n",
              " 'bernie': 366,\n",
              " 'second': 367,\n",
              " 'twitter': 368,\n",
              " 'student': 369,\n",
              " 'team': 370,\n",
              " 'times': 371,\n",
              " 'boy': 372,\n",
              " 'open': 373,\n",
              " 'looking': 374,\n",
              " 'poll': 375,\n",
              " 'room': 376,\n",
              " 'department': 377,\n",
              " 'because': 378,\n",
              " 'ad': 379,\n",
              " 'once': 380,\n",
              " 'ryan': 381,\n",
              " 'sure': 382,\n",
              " 'middle': 383,\n",
              " 'each': 384,\n",
              " 'political': 385,\n",
              " 'inside': 386,\n",
              " 'teacher': 387,\n",
              " 'minutes': 388,\n",
              " 'claims': 389,\n",
              " 'control': 390,\n",
              " 'super': 391,\n",
              " 'judge': 392,\n",
              " 'art': 393,\n",
              " 'many': 394,\n",
              " 'country': 395,\n",
              " 'forced': 396,\n",
              " 'lets': 397,\n",
              " 'music': 398,\n",
              " 'perfect': 399,\n",
              " 'save': 400,\n",
              " 'meet': 401,\n",
              " 'plans': 402,\n",
              " 'missing': 403,\n",
              " 'running': 404,\n",
              " 'here': 405,\n",
              " 'unveils': 406,\n",
              " 'obamacare': 407,\n",
              " 'reports': 408,\n",
              " 'living': 409,\n",
              " 'everything': 410,\n",
              " 'same': 411,\n",
              " 'scientists': 412,\n",
              " 'social': 413,\n",
              " 'put': 414,\n",
              " 'wife': 415,\n",
              " 'youre': 416,\n",
              " 'tells': 417,\n",
              " 'california': 418,\n",
              " 'always': 419,\n",
              " 'justice': 420,\n",
              " 'photo': 421,\n",
              " 'person': 422,\n",
              " 'summer': 423,\n",
              " 'red': 424,\n",
              " 'dies': 425,\n",
              " 'until': 426,\n",
              " 'let': 427,\n",
              " 'texas': 428,\n",
              " 'female': 429,\n",
              " 'full': 430,\n",
              " 'looks': 431,\n",
              " 'talks': 432,\n",
              " 'candidate': 433,\n",
              " 'did': 434,\n",
              " 'pay': 435,\n",
              " 'ready': 436,\n",
              " 'comes': 437,\n",
              " 'head': 438,\n",
              " 'michael': 439,\n",
              " 'secretary': 440,\n",
              " 'employee': 441,\n",
              " 'mike': 442,\n",
              " 'mother': 443,\n",
              " 'needs': 444,\n",
              " 'warns': 445,\n",
              " 'water': 446,\n",
              " 'list': 447,\n",
              " 'father': 448,\n",
              " 'lives': 449,\n",
              " 'past': 450,\n",
              " 'admits': 451,\n",
              " 'taking': 452,\n",
              " 'wall': 453,\n",
              " 'ceo': 454,\n",
              " 'working': 455,\n",
              " 'womens': 456,\n",
              " 'cancer': 457,\n",
              " 'set': 458,\n",
              " 'wrong': 459,\n",
              " 'crisis': 460,\n",
              " 'record': 461,\n",
              " 'gives': 462,\n",
              " 'today': 463,\n",
              " 'biden': 464,\n",
              " 'idea': 465,\n",
              " 'thought': 466,\n",
              " 'kim': 467,\n",
              " 'letter': 468,\n",
              " 'george': 469,\n",
              " 'shot': 470,\n",
              " 'hot': 471,\n",
              " 'cruz': 472,\n",
              " 'wins': 473,\n",
              " 'stars': 474,\n",
              " 'left': 475,\n",
              " 'town': 476,\n",
              " 'heart': 477,\n",
              " 'hours': 478,\n",
              " 'dream': 479,\n",
              " 'probably': 480,\n",
              " 'start': 481,\n",
              " 'romney': 482,\n",
              " 'young': 483,\n",
              " 'meeting': 484,\n",
              " 'south': 485,\n",
              " 'korea': 486,\n",
              " 'lost': 487,\n",
              " 'daughter': 488,\n",
              " 'percent': 489,\n",
              " 'education': 490,\n",
              " 'tips': 491,\n",
              " 'service': 492,\n",
              " 'nothing': 493,\n",
              " 'moms': 494,\n",
              " 'fbi': 495,\n",
              " 'street': 496,\n",
              " 'month': 497,\n",
              " 'obamas': 498,\n",
              " 'place': 499,\n",
              " 'kill': 500,\n",
              " 'age': 501,\n",
              " 'three': 502,\n",
              " 'isis': 503,\n",
              " 'shes': 504,\n",
              " 'russia': 505,\n",
              " 'thousands': 506,\n",
              " 'breaking': 507,\n",
              " 'phone': 508,\n",
              " 'fucking': 509,\n",
              " 'few': 510,\n",
              " 'believe': 511,\n",
              " 'tweets': 512,\n",
              " 'together': 513,\n",
              " 'someone': 514,\n",
              " 'rock': 515,\n",
              " 'eating': 516,\n",
              " 'chief': 517,\n",
              " 'march': 518,\n",
              " 'yet': 519,\n",
              " 'washington': 520,\n",
              " 'officials': 521,\n",
              " 'restaurant': 522,\n",
              " 'administration': 523,\n",
              " 'talking': 524,\n",
              " 'online': 525,\n",
              " 'feel': 526,\n",
              " 'cat': 527,\n",
              " 'leaves': 528,\n",
              " 'ted': 529,\n",
              " 'francis': 530,\n",
              " 'questions': 531,\n",
              " 'military': 532,\n",
              " 'fan': 533,\n",
              " 'class': 534,\n",
              " 'guide': 535,\n",
              " 'order': 536,\n",
              " 'owner': 537,\n",
              " 'director': 538,\n",
              " 'months': 539,\n",
              " 'federal': 540,\n",
              " 'chris': 541,\n",
              " 'attacks': 542,\n",
              " 'birthday': 543,\n",
              " 'earth': 544,\n",
              " 'move': 545,\n",
              " 'whats': 546,\n",
              " 'internet': 547,\n",
              " 'giving': 548,\n",
              " 'air': 549,\n",
              " 'drug': 550,\n",
              " 'problem': 551,\n",
              " 'hollywood': 552,\n",
              " 'florida': 553,\n",
              " 'ask': 554,\n",
              " 'beautiful': 555,\n",
              " 'word': 556,\n",
              " 'small': 557,\n",
              " 'king': 558,\n",
              " 'reason': 559,\n",
              " 'sleep': 560,\n",
              " 'latest': 561,\n",
              " 'series': 562,\n",
              " 'happy': 563,\n",
              " 'nuclear': 564,\n",
              " 'americas': 565,\n",
              " 'congressman': 566,\n",
              " 'different': 567,\n",
              " 'assault': 568,\n",
              " 'buy': 569,\n",
              " 'personal': 570,\n",
              " 'rules': 571,\n",
              " 'less': 572,\n",
              " 'majority': 573,\n",
              " 'prison': 574,\n",
              " 'told': 575,\n",
              " 'democratic': 576,\n",
              " 'outside': 577,\n",
              " 'lot': 578,\n",
              " 'those': 579,\n",
              " 'shit': 580,\n",
              " 'moment': 581,\n",
              " 'isnt': 582,\n",
              " 'iran': 583,\n",
              " 'reasons': 584,\n",
              " 'leaders': 585,\n",
              " 'holiday': 586,\n",
              " 'fox': 587,\n",
              " 'community': 588,\n",
              " 'leave': 589,\n",
              " 'travel': 590,\n",
              " 'kind': 591,\n",
              " 'system': 592,\n",
              " 'rise': 593,\n",
              " 'hard': 594,\n",
              " 'play': 595,\n",
              " 'victims': 596,\n",
              " 'fun': 597,\n",
              " 'favorite': 598,\n",
              " 'mark': 599,\n",
              " 'issues': 600,\n",
              " 'interview': 601,\n",
              " 'relationship': 602,\n",
              " 'hell': 603,\n",
              " 'response': 604,\n",
              " 'jimmy': 605,\n",
              " 'huge': 606,\n",
              " 'box': 607,\n",
              " 'celebrates': 608,\n",
              " 'special': 609,\n",
              " 'mothers': 610,\n",
              " 'excited': 611,\n",
              " 'kid': 612,\n",
              " 'huffpost': 613,\n",
              " 'read': 614,\n",
              " 'immigration': 615,\n",
              " 'protest': 616,\n",
              " 'bar': 617,\n",
              " 'straight': 618,\n",
              " 'scott': 619,\n",
              " 'gift': 620,\n",
              " 'following': 621,\n",
              " 'hope': 622,\n",
              " 'cops': 623,\n",
              " 'using': 624,\n",
              " 'offers': 625,\n",
              " 'thinking': 626,\n",
              " 'message': 627,\n",
              " 'trailer': 628,\n",
              " 'well': 629,\n",
              " 'trip': 630,\n",
              " 'knows': 631,\n",
              " 'politics': 632,\n",
              " 'weekend': 633,\n",
              " 'ice': 634,\n",
              " 'watching': 635,\n",
              " 'candidates': 636,\n",
              " 'visit': 637,\n",
              " 'stephen': 638,\n",
              " 'muslim': 639,\n",
              " 'lessons': 640,\n",
              " 'david': 641,\n",
              " 'union': 642,\n",
              " 'hate': 643,\n",
              " 'tom': 644,\n",
              " 'since': 645,\n",
              " 'china': 646,\n",
              " 'hit': 647,\n",
              " 'russian': 648,\n",
              " 'cop': 649,\n",
              " 'st': 650,\n",
              " 'cover': 651,\n",
              " 'accused': 652,\n",
              " 'taylor': 653,\n",
              " 'front': 654,\n",
              " 'bring': 655,\n",
              " 'anything': 656,\n",
              " 'senator': 657,\n",
              " 'schools': 658,\n",
              " 'himself': 659,\n",
              " 'conversation': 660,\n",
              " 'hair': 661,\n",
              " 'millions': 662,\n",
              " 'un': 663,\n",
              " 'queer': 664,\n",
              " 'drunk': 665,\n",
              " 'least': 666,\n",
              " 'date': 667,\n",
              " 'employees': 668,\n",
              " 'chinese': 669,\n",
              " 'adorable': 670,\n",
              " 'birth': 671,\n",
              " 'words': 672,\n",
              " 'joe': 673,\n",
              " 'hour': 674,\n",
              " 'syria': 675,\n",
              " 'powerful': 676,\n",
              " 's': 677,\n",
              " 'theyre': 678,\n",
              " 'united': 679,\n",
              " 'reality': 680,\n",
              " 'leader': 681,\n",
              " 'mass': 682,\n",
              " 'billion': 683,\n",
              " 'become': 684,\n",
              " 'investigation': 685,\n",
              " 'opens': 686,\n",
              " 'whole': 687,\n",
              " 'third': 688,\n",
              " 'am': 689,\n",
              " 'theres': 690,\n",
              " 'learned': 691,\n",
              " 'break': 692,\n",
              " 'totally': 693,\n",
              " 'career': 694,\n",
              " 'true': 695,\n",
              " 'waiting': 696,\n",
              " 'returns': 697,\n",
              " 'early': 698,\n",
              " 'syrian': 699,\n",
              " 'massive': 700,\n",
              " 'almost': 701,\n",
              " 'wars': 702,\n",
              " 'fashion': 703,\n",
              " 'turn': 704,\n",
              " 'workers': 705,\n",
              " 'breaks': 706,\n",
              " 'point': 707,\n",
              " 'fall': 708,\n",
              " 'feels': 709,\n",
              " 'girlfriend': 710,\n",
              " 'policy': 711,\n",
              " 'stage': 712,\n",
              " 'die': 713,\n",
              " 'hits': 714,\n",
              " 'killing': 715,\n",
              " 'apple': 716,\n",
              " 'sports': 717,\n",
              " 'awards': 718,\n",
              " 'worried': 719,\n",
              " 'kills': 720,\n",
              " 'abortion': 721,\n",
              " 'iraq': 722,\n",
              " 'song': 723,\n",
              " 'wearing': 724,\n",
              " 'dance': 725,\n",
              " 'dating': 726,\n",
              " 'turns': 727,\n",
              " 'teens': 728,\n",
              " 'completely': 729,\n",
              " 'puts': 730,\n",
              " 'spends': 731,\n",
              " 'dinner': 732,\n",
              " 'vows': 733,\n",
              " 'sick': 734,\n",
              " 'late': 735,\n",
              " 'crash': 736,\n",
              " 'worst': 737,\n",
              " 'names': 738,\n",
              " 'final': 739,\n",
              " 'global': 740,\n",
              " 'weird': 741,\n",
              " 'signs': 742,\n",
              " 'sign': 743,\n",
              " 'murder': 744,\n",
              " 'host': 745,\n",
              " 'pence': 746,\n",
              " 'prince': 747,\n",
              " 'trans': 748,\n",
              " 'experience': 749,\n",
              " 'reportedly': 750,\n",
              " 'decision': 751,\n",
              " 'adds': 752,\n",
              " 'fighting': 753,\n",
              " 'surprise': 754,\n",
              " 'hands': 755,\n",
              " 'post': 756,\n",
              " 'transgender': 757,\n",
              " 'key': 758,\n",
              " 'anniversary': 759,\n",
              " 'moving': 760,\n",
              " 'seen': 761,\n",
              " 'called': 762,\n",
              " 'center': 763,\n",
              " 'force': 764,\n",
              " 'paris': 765,\n",
              " 'members': 766,\n",
              " 'advice': 767,\n",
              " 'bus': 768,\n",
              " 'road': 769,\n",
              " 'struggling': 770,\n",
              " 'discover': 771,\n",
              " 'nfl': 772,\n",
              " 'act': 773,\n",
              " 'across': 774,\n",
              " 'kardashian': 775,\n",
              " 'return': 776,\n",
              " 'keeps': 777,\n",
              " 'users': 778,\n",
              " 'official': 779,\n",
              " 'store': 780,\n",
              " 'fear': 781,\n",
              " 'lose': 782,\n",
              " 'longer': 783,\n",
              " 'voice': 784,\n",
              " 'rubio': 785,\n",
              " 'peace': 786,\n",
              " 'brings': 787,\n",
              " 'boys': 788,\n",
              " 'planned': 789,\n",
              " 'lead': 790,\n",
              " 'weeks': 791,\n",
              " 'walking': 792,\n",
              " 'important': 793,\n",
              " 'university': 794,\n",
              " 'reform': 795,\n",
              " 'coworker': 796,\n",
              " 'light': 797,\n",
              " 'ferguson': 798,\n",
              " 'industry': 799,\n",
              " 'suicide': 800,\n",
              " 'starting': 801,\n",
              " 'program': 802,\n",
              " 'artist': 803,\n",
              " 'oil': 804,\n",
              " 'coffee': 805,\n",
              " 'whether': 806,\n",
              " 'weight': 807,\n",
              " 'worth': 808,\n",
              " 'eat': 809,\n",
              " 'west': 810,\n",
              " 'oscars': 811,\n",
              " 'audience': 812,\n",
              " 'hoping': 813,\n",
              " 'steve': 814,\n",
              " 'jobs': 815,\n",
              " 'wait': 816,\n",
              " 'suspect': 817,\n",
              " 'harry': 818,\n",
              " 'given': 819,\n",
              " 'stand': 820,\n",
              " 'magazine': 821,\n",
              " 'question': 822,\n",
              " 'band': 823,\n",
              " 'biggest': 824,\n",
              " 'hall': 825,\n",
              " 'nyc': 826,\n",
              " 'which': 827,\n",
              " 'major': 828,\n",
              " 'michelle': 829,\n",
              " 'beauty': 830,\n",
              " 'risk': 831,\n",
              " 'remember': 832,\n",
              " 'chicago': 833,\n",
              " 'possible': 834,\n",
              " 'test': 835,\n",
              " 'apartment': 836,\n",
              " 'governor': 837,\n",
              " 'iowa': 838,\n",
              " 'executive': 839,\n",
              " 'success': 840,\n",
              " 'mind': 841,\n",
              " 'chance': 842,\n",
              " 'amazon': 843,\n",
              " 'protesters': 844,\n",
              " 'ideas': 845,\n",
              " 'refugees': 846,\n",
              " 'williams': 847,\n",
              " 'abuse': 848,\n",
              " 'clearly': 849,\n",
              " 'role': 850,\n",
              " 'supporters': 851,\n",
              " 'google': 852,\n",
              " 'hurricane': 853,\n",
              " 'space': 854,\n",
              " 'moore': 855,\n",
              " 'carolina': 856,\n",
              " 'allegations': 857,\n",
              " 'halloween': 858,\n",
              " 'poor': 859,\n",
              " 'five': 860,\n",
              " 'planet': 861,\n",
              " 'hand': 862,\n",
              " 'playing': 863,\n",
              " 'cool': 864,\n",
              " 'mental': 865,\n",
              " 'try': 866,\n",
              " 'cut': 867,\n",
              " 'tour': 868,\n",
              " 'hear': 869,\n",
              " 'demands': 870,\n",
              " 'press': 871,\n",
              " 'wishes': 872,\n",
              " 'green': 873,\n",
              " 'problems': 874,\n",
              " 'asking': 875,\n",
              " 'celebrate': 876,\n",
              " 'push': 877,\n",
              " 'fuck': 878,\n",
              " 'oscar': 879,\n",
              " 'park': 880,\n",
              " 'far': 881,\n",
              " 'homeless': 882,\n",
              " 'plane': 883,\n",
              " 'football': 884,\n",
              " 'eyes': 885,\n",
              " 'general': 886,\n",
              " 'jr': 887,\n",
              " 'doctor': 888,\n",
              " 'vacation': 889,\n",
              " 'throws': 890,\n",
              " 'ben': 891,\n",
              " 'table': 892,\n",
              " 'hilarious': 893,\n",
              " 'pregnant': 894,\n",
              " 'dying': 895,\n",
              " 'colbert': 896,\n",
              " 'side': 897,\n",
              " 'urges': 898,\n",
              " 'reveal': 899,\n",
              " 'simple': 900,\n",
              " 'economy': 901,\n",
              " 'emotional': 902,\n",
              " 'robert': 903,\n",
              " 'building': 904,\n",
              " 'learn': 905,\n",
              " 'number': 906,\n",
              " 'minute': 907,\n",
              " 'rest': 908,\n",
              " 'album': 909,\n",
              " 'church': 910,\n",
              " 'begins': 911,\n",
              " 'deadly': 912,\n",
              " 'happened': 913,\n",
              " 'uses': 914,\n",
              " 'families': 915,\n",
              " 'card': 916,\n",
              " 'kerry': 917,\n",
              " 'picture': 918,\n",
              " 'marijuana': 919,\n",
              " 'fails': 920,\n",
              " 'sean': 921,\n",
              " 'voter': 922,\n",
              " 'proud': 923,\n",
              " 'humans': 924,\n",
              " 'board': 925,\n",
              " 'shares': 926,\n",
              " 'leads': 927,\n",
              " 'feeling': 928,\n",
              " 'suggests': 929,\n",
              " 'amazing': 930,\n",
              " 'results': 931,\n",
              " 'guys': 932,\n",
              " 'worse': 933,\n",
              " 'check': 934,\n",
              " 'queen': 935,\n",
              " 'jenner': 936,\n",
              " 'racist': 937,\n",
              " 'arrested': 938,\n",
              " 'driving': 939,\n",
              " 'male': 940,\n",
              " 'leaving': 941,\n",
              " 'address': 942,\n",
              " 'performance': 943,\n",
              " 'receives': 944,\n",
              " 'amid': 945,\n",
              " 'epa': 946,\n",
              " 'finding': 947,\n",
              " 'door': 948,\n",
              " 'movies': 949,\n",
              " 'officer': 950,\n",
              " 'netflix': 951,\n",
              " 'easy': 952,\n",
              " 'desperate': 953,\n",
              " 'hero': 954,\n",
              " 'quietly': 955,\n",
              " 'data': 956,\n",
              " 'cnn': 957,\n",
              " 'demand': 958,\n",
              " 'website': 959,\n",
              " 'explains': 960,\n",
              " 'older': 961,\n",
              " 'lgbt': 962,\n",
              " 'pizza': 963,\n",
              " 'close': 964,\n",
              " 'rally': 965,\n",
              " 'sales': 966,\n",
              " 'apparently': 967,\n",
              " 'dads': 968,\n",
              " 'went': 969,\n",
              " 'chicken': 970,\n",
              " 'dogs': 971,\n",
              " 'opening': 972,\n",
              " 'mean': 973,\n",
              " 'said': 974,\n",
              " 'apologizes': 975,\n",
              " 'teachers': 976,\n",
              " 'culture': 977,\n",
              " 'elizabeth': 978,\n",
              " 'ebola': 979,\n",
              " 'responds': 980,\n",
              " 'done': 981,\n",
              " 'matter': 982,\n",
              " 'documentary': 983,\n",
              " 'near': 984,\n",
              " 'boss': 985,\n",
              " 'steps': 986,\n",
              " 'snl': 987,\n",
              " 'fake': 988,\n",
              " 'religious': 989,\n",
              " 'bathroom': 990,\n",
              " 'bowl': 991,\n",
              " 'spring': 992,\n",
              " 'repeal': 993,\n",
              " 'shop': 994,\n",
              " 'harassment': 995,\n",
              " 'israel': 996,\n",
              " 'dark': 997,\n",
              " 'likely': 998,\n",
              " 'east': 999,\n",
              " 'leading': 1000,\n",
              " ...}"
            ]
          },
          "metadata": {
            "tags": []
          },
          "execution_count": 26
        }
      ]
    },
    {
      "cell_type": "markdown",
      "metadata": {
        "id": "VRiNX58Rb3oJ"
      },
      "source": [
        "### Set number of words\n",
        "- Since the above 0th index doesn't have a word, add 1 to the length of the vocabulary"
      ]
    },
    {
      "cell_type": "code",
      "metadata": {
        "id": "Dfwq6ou8ck2f",
        "colab": {
          "base_uri": "https://localhost:8080/"
        },
        "outputId": "173adb6b-d127-4119-c119-d9197804ae15"
      },
      "source": [
        "num_words = len(tokenizer.word_index) + 1\n",
        "print(num_words)"
      ],
      "execution_count": 27,
      "outputs": [
        {
          "output_type": "stream",
          "text": [
            "27630\n"
          ],
          "name": "stdout"
        }
      ]
    },
    {
      "cell_type": "code",
      "metadata": {
        "colab": {
          "base_uri": "https://localhost:8080/"
        },
        "id": "zo85I8OLURjJ",
        "outputId": "c510a7c3-3088-48f7-f059-42dc27db17d2"
      },
      "source": [
        "#forming train,test data\r\n",
        "validation_split = 0.2\r\n",
        "num_validation_samples = int(validation_split * lines_pad.shape[0])\r\n",
        "print(num_validation_samples)\r\n",
        "X_train_pad = lines_pad[:-num_validation_samples]\r\n",
        "y_train = sentiment[:-num_validation_samples]\r\n",
        "X_test_pad = lines_pad[-num_validation_samples:]\r\n",
        "y_test = sentiment[-num_validation_samples:]"
      ],
      "execution_count": 28,
      "outputs": [
        {
          "output_type": "stream",
          "text": [
            "5341\n"
          ],
          "name": "stdout"
        }
      ]
    },
    {
      "cell_type": "code",
      "metadata": {
        "colab": {
          "base_uri": "https://localhost:8080/"
        },
        "id": "TNZ8yELVUUul",
        "outputId": "674c684d-88b6-470b-9955-5dd02bcd81e3"
      },
      "source": [
        "print('Shape of X_train_pad:', X_train_pad.shape)\r\n",
        "print('Shape of y_train:', y_train.shape)\r\n",
        "\r\n",
        "print('Shape of X_test_pad:', X_test_pad.shape)\r\n",
        "print('Shape of y_test:', y_test.shape)"
      ],
      "execution_count": 29,
      "outputs": [
        {
          "output_type": "stream",
          "text": [
            "Shape of X_train_pad: (21368, 25)\n",
            "Shape of y_train: (21368,)\n",
            "Shape of X_test_pad: (5341, 25)\n",
            "Shape of y_test: (5341,)\n"
          ],
          "name": "stdout"
        }
      ]
    },
    {
      "cell_type": "markdown",
      "metadata": {
        "id": "bUF1TuQa8ux0"
      },
      "source": [
        "### Load Glove Word Embeddings \n",
        "\n",
        "\n",
        "\n",
        "```\n",
        "# This is formatted as code\n",
        "```\n",
        "\n",
        "\n"
      ]
    },
    {
      "cell_type": "markdown",
      "metadata": {
        "id": "prHSzdQUcZhm"
      },
      "source": [
        "### Create embedding matrix"
      ]
    },
    {
      "cell_type": "code",
      "metadata": {
        "id": "elZ-T5aFGZmZ"
      },
      "source": [
        "EMBEDDING_FILE = './glove.6B.200d.txt'\n",
        "\n",
        "embeddings = {}\n",
        "for o in open(EMBEDDING_FILE):\n",
        "    word = o.split(\" \")[0]\n",
        "    # print(word)\n",
        "    embd = o.split(\" \")[1:]\n",
        "    embd = np.asarray(embd, dtype='float32')\n",
        "    # print(embd)\n",
        "    embeddings[word] = embd\n",
        "\n",
        "# create a weight matrix for words in training docs\n",
        "embedding_matrix = np.zeros((num_words, 200))\n",
        "\n",
        "for word, i in tokenizer.word_index.items():\n",
        "\tembedding_vector = embeddings.get(word)\n",
        "\tif embedding_vector is not None:\n",
        "\t\tembedding_matrix[i] = embedding_vector"
      ],
      "execution_count": 30,
      "outputs": []
    },
    {
      "cell_type": "code",
      "metadata": {
        "colab": {
          "base_uri": "https://localhost:8080/"
        },
        "id": "URCLuRGqUb4J",
        "outputId": "ce865b4e-7656-4a9c-8c66-af73edd8fd36"
      },
      "source": [
        "print('Found %s word vectors.' % len(embeddings))\r\n"
      ],
      "execution_count": 31,
      "outputs": [
        {
          "output_type": "stream",
          "text": [
            "Found 400000 word vectors.\n"
          ],
          "name": "stdout"
        }
      ]
    },
    {
      "cell_type": "markdown",
      "metadata": {
        "id": "u7IbWuEX82Ra"
      },
      "source": [
        "### Define model \n",
        "- Hint: Use Sequential model instance and then add Embedding layer, Bidirectional(LSTM) layer, flatten it, then dense and dropout layers as required. \n",
        "In the end add a final dense layer with sigmoid activation for binary classification."
      ]
    },
    {
      "cell_type": "code",
      "metadata": {
        "id": "_Bhcpo258lc4"
      },
      "source": [
        ""
      ],
      "execution_count": null,
      "outputs": []
    },
    {
      "cell_type": "code",
      "metadata": {
        "id": "IS961vWSUrj1"
      },
      "source": [
        "#forming embedding layer and assigning weights calculated from the Glove object\r\n",
        "embedding_layer = Embedding(num_words,\r\n",
        "                            embedding_size,\r\n",
        "                            weights=[embedding_matrix],\r\n",
        "                            input_length=maxlen,\r\n",
        "                            trainable=False)"
      ],
      "execution_count": 32,
      "outputs": []
    },
    {
      "cell_type": "code",
      "metadata": {
        "id": "N875wn21VImf"
      },
      "source": [
        "#creating sequential model\r\n",
        "#model1\r\n",
        "model = Sequential()\r\n",
        "model.add(embedding_layer)\r\n",
        "model.add(tf.keras.layers.SpatialDropout1D(0.3))\r\n",
        "model.add(Bidirectional(LSTM(embedding_size, dropout=0.2, recurrent_dropout=0.25)))\r\n",
        "model.add(Dense(embedding_size, activation='relu'))\r\n",
        "model.add(Dropout(0.5))\r\n",
        "model.add(Dense(1, activation='sigmoid'))\r\n"
      ],
      "execution_count": 46,
      "outputs": []
    },
    {
      "cell_type": "markdown",
      "metadata": {
        "id": "xoI7_8Y1cqTj"
      },
      "source": [
        "### Compile the model "
      ]
    },
    {
      "cell_type": "code",
      "metadata": {
        "id": "-jJiPHeNoJ3U",
        "colab": {
          "base_uri": "https://localhost:8080/"
        },
        "outputId": "5a4d70a2-41db-483a-f400-24714e477831"
      },
      "source": [
        "\r\n",
        "#compiling the model\r\n",
        "model.compile(loss='binary_crossentropy', optimizer='adam', metrics=['acc'])\r\n",
        "\r\n",
        "print('Summary of the built model...')\r\n",
        "print(model.summary())"
      ],
      "execution_count": 90,
      "outputs": [
        {
          "output_type": "stream",
          "text": [
            "Summary of the built model...\n",
            "Model: \"sequential_2\"\n",
            "_________________________________________________________________\n",
            "Layer (type)                 Output Shape              Param #   \n",
            "=================================================================\n",
            "embedding (Embedding)        (None, 25, 200)           5498600   \n",
            "_________________________________________________________________\n",
            "spatial_dropout1d_1 (Spatial (None, 25, 200)           0         \n",
            "_________________________________________________________________\n",
            "bidirectional_1 (Bidirection (None, 400)               641600    \n",
            "_________________________________________________________________\n",
            "dense_2 (Dense)              (None, 200)               80200     \n",
            "_________________________________________________________________\n",
            "dropout_1 (Dropout)          (None, 200)               0         \n",
            "_________________________________________________________________\n",
            "dense_3 (Dense)              (None, 1)                 201       \n",
            "=================================================================\n",
            "Total params: 6,220,601\n",
            "Trainable params: 722,001\n",
            "Non-trainable params: 5,498,600\n",
            "_________________________________________________________________\n",
            "None\n"
          ],
          "name": "stdout"
        }
      ]
    },
    {
      "cell_type": "markdown",
      "metadata": {
        "id": "7s4nmqcecw3a"
      },
      "source": [
        "### Fit the model "
      ]
    },
    {
      "cell_type": "code",
      "metadata": {
        "colab": {
          "base_uri": "https://localhost:8080/"
        },
        "id": "hZgz3F_6V1pS",
        "outputId": "8891f4d6-9e02-4de4-93e8-b280898f1f11"
      },
      "source": [
        "history = model.fit(X_train_pad, y_train, batch_size=32, epochs=25, validation_data=(X_test_pad, y_test), verbose=2)\r\n"
      ],
      "execution_count": 91,
      "outputs": [
        {
          "output_type": "stream",
          "text": [
            "Epoch 1/25\n",
            "668/668 - 125s - loss: 0.5575 - acc: 0.7119 - val_loss: 0.4852 - val_acc: 0.7706\n",
            "Epoch 2/25\n",
            "668/668 - 122s - loss: 0.4824 - acc: 0.7686 - val_loss: 0.4399 - val_acc: 0.7918\n",
            "Epoch 3/25\n",
            "668/668 - 121s - loss: 0.4391 - acc: 0.7934 - val_loss: 0.4173 - val_acc: 0.8025\n",
            "Epoch 4/25\n",
            "668/668 - 120s - loss: 0.4041 - acc: 0.8155 - val_loss: 0.4014 - val_acc: 0.8130\n",
            "Epoch 5/25\n",
            "668/668 - 120s - loss: 0.3685 - acc: 0.8350 - val_loss: 0.4027 - val_acc: 0.8160\n",
            "Epoch 6/25\n",
            "668/668 - 120s - loss: 0.3489 - acc: 0.8441 - val_loss: 0.3910 - val_acc: 0.8182\n",
            "Epoch 7/25\n",
            "668/668 - 122s - loss: 0.3190 - acc: 0.8619 - val_loss: 0.4059 - val_acc: 0.8259\n",
            "Epoch 8/25\n",
            "668/668 - 124s - loss: 0.2981 - acc: 0.8677 - val_loss: 0.4160 - val_acc: 0.8218\n",
            "Epoch 9/25\n",
            "668/668 - 123s - loss: 0.2743 - acc: 0.8818 - val_loss: 0.4103 - val_acc: 0.8236\n",
            "Epoch 10/25\n",
            "668/668 - 122s - loss: 0.2580 - acc: 0.8893 - val_loss: 0.4253 - val_acc: 0.8270\n",
            "Epoch 11/25\n",
            "668/668 - 127s - loss: 0.2347 - acc: 0.9000 - val_loss: 0.4363 - val_acc: 0.8268\n",
            "Epoch 12/25\n",
            "668/668 - 126s - loss: 0.2254 - acc: 0.9067 - val_loss: 0.4362 - val_acc: 0.8283\n",
            "Epoch 13/25\n",
            "668/668 - 124s - loss: 0.2105 - acc: 0.9137 - val_loss: 0.4417 - val_acc: 0.8364\n",
            "Epoch 14/25\n",
            "668/668 - 124s - loss: 0.2001 - acc: 0.9188 - val_loss: 0.4580 - val_acc: 0.8285\n",
            "Epoch 15/25\n",
            "668/668 - 122s - loss: 0.1936 - acc: 0.9192 - val_loss: 0.4303 - val_acc: 0.8292\n",
            "Epoch 16/25\n",
            "668/668 - 122s - loss: 0.1781 - acc: 0.9269 - val_loss: 0.4817 - val_acc: 0.8317\n",
            "Epoch 17/25\n",
            "668/668 - 122s - loss: 0.1739 - acc: 0.9293 - val_loss: 0.4886 - val_acc: 0.8379\n",
            "Epoch 18/25\n",
            "668/668 - 128s - loss: 0.1576 - acc: 0.9376 - val_loss: 0.4850 - val_acc: 0.8264\n",
            "Epoch 19/25\n",
            "668/668 - 130s - loss: 0.1581 - acc: 0.9379 - val_loss: 0.4826 - val_acc: 0.8354\n",
            "Epoch 20/25\n",
            "668/668 - 123s - loss: 0.1527 - acc: 0.9382 - val_loss: 0.4935 - val_acc: 0.8306\n",
            "Epoch 21/25\n",
            "668/668 - 124s - loss: 0.1458 - acc: 0.9430 - val_loss: 0.5019 - val_acc: 0.8311\n",
            "Epoch 22/25\n",
            "668/668 - 124s - loss: 0.1423 - acc: 0.9437 - val_loss: 0.5168 - val_acc: 0.8292\n",
            "Epoch 23/25\n",
            "668/668 - 125s - loss: 0.1327 - acc: 0.9498 - val_loss: 0.5155 - val_acc: 0.8315\n",
            "Epoch 24/25\n",
            "668/668 - 128s - loss: 0.1332 - acc: 0.9460 - val_loss: 0.5577 - val_acc: 0.8251\n",
            "Epoch 25/25\n",
            "668/668 - 123s - loss: 0.1259 - acc: 0.9505 - val_loss: 0.5492 - val_acc: 0.8364\n"
          ],
          "name": "stdout"
        }
      ]
    },
    {
      "cell_type": "code",
      "metadata": {
        "colab": {
          "base_uri": "https://localhost:8080/"
        },
        "id": "Y66x28DnpVK_",
        "outputId": "8df058e4-ffb3-4dd0-8756-33b985f5d053"
      },
      "source": [
        "#model2\r\n",
        "model = Sequential()\r\n",
        "model.add(embedding_layer)\r\n",
        "model.add(tf.keras.layers.SpatialDropout1D(0.3))\r\n",
        "model.add(Bidirectional(LSTM(600, dropout=0.2,recurrent_dropout=0.2)))\r\n",
        "model.add(Dense(500, activation='relu'))\r\n",
        "model.add(Dropout(0.5))\r\n",
        "model.add(Dense(1, activation='sigmoid'))\r\n",
        "model.compile(loss='binary_crossentropy', optimizer='adam', metrics=['acc'])\r\n",
        "history = model.fit(X_train_pad, y_train, batch_size=32, epochs=25, validation_data=(X_test_pad, y_test), verbose=2)"
      ],
      "execution_count": 32,
      "outputs": [
        {
          "output_type": "stream",
          "text": [
            "WARNING:tensorflow:Layer lstm_2 will not use cuDNN kernel since it doesn't meet the cuDNN kernel criteria. It will use generic GPU kernel as fallback when running on GPU\n",
            "WARNING:tensorflow:Layer lstm_2 will not use cuDNN kernel since it doesn't meet the cuDNN kernel criteria. It will use generic GPU kernel as fallback when running on GPU\n",
            "WARNING:tensorflow:Layer lstm_2 will not use cuDNN kernel since it doesn't meet the cuDNN kernel criteria. It will use generic GPU kernel as fallback when running on GPU\n",
            "Epoch 1/25\n",
            "668/668 - 132s - loss: 0.5580 - acc: 0.7137 - val_loss: 0.4721 - val_acc: 0.7735\n",
            "Epoch 2/25\n",
            "668/668 - 126s - loss: 0.4886 - acc: 0.7645 - val_loss: 0.4310 - val_acc: 0.7965\n",
            "Epoch 3/25\n",
            "668/668 - 126s - loss: 0.4375 - acc: 0.7947 - val_loss: 0.4133 - val_acc: 0.8055\n",
            "Epoch 4/25\n",
            "668/668 - 126s - loss: 0.3957 - acc: 0.8202 - val_loss: 0.4011 - val_acc: 0.8238\n",
            "Epoch 5/25\n",
            "668/668 - 126s - loss: 0.3567 - acc: 0.8396 - val_loss: 0.4049 - val_acc: 0.8221\n",
            "Epoch 6/25\n",
            "668/668 - 126s - loss: 0.3143 - acc: 0.8617 - val_loss: 0.4047 - val_acc: 0.8244\n",
            "Epoch 7/25\n",
            "668/668 - 126s - loss: 0.2775 - acc: 0.8809 - val_loss: 0.4245 - val_acc: 0.8240\n",
            "Epoch 8/25\n",
            "668/668 - 126s - loss: 0.2431 - acc: 0.8978 - val_loss: 0.4465 - val_acc: 0.8249\n",
            "Epoch 9/25\n",
            "668/668 - 126s - loss: 0.2076 - acc: 0.9125 - val_loss: 0.5076 - val_acc: 0.8216\n",
            "Epoch 10/25\n",
            "668/668 - 127s - loss: 0.1863 - acc: 0.9231 - val_loss: 0.4753 - val_acc: 0.8281\n",
            "Epoch 11/25\n",
            "668/668 - 126s - loss: 0.1619 - acc: 0.9350 - val_loss: 0.5026 - val_acc: 0.8268\n",
            "Epoch 12/25\n",
            "668/668 - 126s - loss: 0.1460 - acc: 0.9414 - val_loss: 0.5213 - val_acc: 0.8244\n",
            "Epoch 13/25\n",
            "668/668 - 125s - loss: 0.1306 - acc: 0.9492 - val_loss: 0.5675 - val_acc: 0.8279\n",
            "Epoch 14/25\n",
            "668/668 - 125s - loss: 0.1157 - acc: 0.9553 - val_loss: 0.6061 - val_acc: 0.8248\n",
            "Epoch 15/25\n",
            "668/668 - 123s - loss: 0.1134 - acc: 0.9566 - val_loss: 0.5546 - val_acc: 0.8218\n",
            "Epoch 16/25\n",
            "668/668 - 123s - loss: 0.1057 - acc: 0.9593 - val_loss: 0.5758 - val_acc: 0.8253\n",
            "Epoch 17/25\n",
            "668/668 - 123s - loss: 0.0963 - acc: 0.9643 - val_loss: 0.6252 - val_acc: 0.8236\n",
            "Epoch 18/25\n",
            "668/668 - 123s - loss: 0.0877 - acc: 0.9682 - val_loss: 0.6549 - val_acc: 0.8212\n",
            "Epoch 19/25\n",
            "668/668 - 123s - loss: 0.0852 - acc: 0.9674 - val_loss: 0.6671 - val_acc: 0.8236\n",
            "Epoch 20/25\n",
            "668/668 - 123s - loss: 0.0832 - acc: 0.9695 - val_loss: 0.6623 - val_acc: 0.8268\n",
            "Epoch 21/25\n",
            "668/668 - 123s - loss: 0.0736 - acc: 0.9714 - val_loss: 0.6874 - val_acc: 0.8229\n",
            "Epoch 22/25\n",
            "668/668 - 123s - loss: 0.0744 - acc: 0.9738 - val_loss: 0.6872 - val_acc: 0.8276\n",
            "Epoch 23/25\n",
            "668/668 - 123s - loss: 0.0714 - acc: 0.9723 - val_loss: 0.7060 - val_acc: 0.8221\n",
            "Epoch 24/25\n",
            "668/668 - 123s - loss: 0.0681 - acc: 0.9751 - val_loss: 0.6826 - val_acc: 0.8274\n",
            "Epoch 25/25\n",
            "668/668 - 124s - loss: 0.0700 - acc: 0.9738 - val_loss: 0.7083 - val_acc: 0.8206\n"
          ],
          "name": "stdout"
        }
      ]
    },
    {
      "cell_type": "code",
      "metadata": {
        "colab": {
          "base_uri": "https://localhost:8080/"
        },
        "id": "Xx3DQ4cptjYS",
        "outputId": "f8b8819a-de61-4c07-a53b-3e5be2faa6ae"
      },
      "source": [
        "#model3, using 2 bidirectional LSTM with reutrn sequences\r\n",
        "model = Sequential()\r\n",
        "model.add(embedding_layer)\r\n",
        "#model.add(tf.keras.layers.SpatialDropout1D(0.3))\r\n",
        "model.add(Bidirectional(LSTM(400, return_sequences = True,dropout=0.2, recurrent_dropout=0.25) , merge_mode ='sum'))\r\n",
        "#model.add(Bidirectional(LSTM(150, return_sequences = True) , merge_mode ='concat'))\r\n",
        "model.add(Bidirectional(LSTM(100, dropout=0.2, recurrent_dropout=0.25) , merge_mode ='sum'))\r\n",
        "model.add(Dense(100, activation='relu'))\r\n",
        "model.add(Dropout(0.2))\r\n",
        "model.add(Dense(1, activation='sigmoid'))\r\n",
        "model.compile(loss='binary_crossentropy', optimizer='adam', metrics=['acc'])\r\n",
        "history = model.fit(X_train_pad, y_train, batch_size=100, epochs=20, validation_data=(X_test_pad, y_test), verbose=2)"
      ],
      "execution_count": 33,
      "outputs": [
        {
          "output_type": "stream",
          "text": [
            "Epoch 1/20\n",
            "214/214 - 372s - loss: 0.4918 - acc: 0.7582 - val_loss: 0.4133 - val_acc: 0.8051\n",
            "Epoch 2/20\n",
            "214/214 - 360s - loss: 0.3717 - acc: 0.8341 - val_loss: 0.3603 - val_acc: 0.8377\n",
            "Epoch 3/20\n",
            "214/214 - 361s - loss: 0.3126 - acc: 0.8635 - val_loss: 0.3353 - val_acc: 0.8510\n",
            "Epoch 4/20\n",
            "214/214 - 356s - loss: 0.2627 - acc: 0.8912 - val_loss: 0.3182 - val_acc: 0.8581\n",
            "Epoch 5/20\n",
            "214/214 - 358s - loss: 0.2226 - acc: 0.9078 - val_loss: 0.3439 - val_acc: 0.8560\n",
            "Epoch 6/20\n",
            "214/214 - 356s - loss: 0.1854 - acc: 0.9237 - val_loss: 0.3242 - val_acc: 0.8693\n",
            "Epoch 7/20\n",
            "214/214 - 359s - loss: 0.1500 - acc: 0.9402 - val_loss: 0.3583 - val_acc: 0.8680\n",
            "Epoch 8/20\n",
            "214/214 - 356s - loss: 0.1126 - acc: 0.9559 - val_loss: 0.3692 - val_acc: 0.8712\n",
            "Epoch 9/20\n",
            "214/214 - 358s - loss: 0.0942 - acc: 0.9644 - val_loss: 0.3812 - val_acc: 0.8734\n",
            "Epoch 10/20\n",
            "214/214 - 357s - loss: 0.0741 - acc: 0.9705 - val_loss: 0.4685 - val_acc: 0.8779\n",
            "Epoch 11/20\n",
            "214/214 - 355s - loss: 0.0644 - acc: 0.9761 - val_loss: 0.5375 - val_acc: 0.8746\n",
            "Epoch 12/20\n",
            "214/214 - 358s - loss: 0.0468 - acc: 0.9831 - val_loss: 0.5044 - val_acc: 0.8770\n",
            "Epoch 13/20\n",
            "214/214 - 356s - loss: 0.0438 - acc: 0.9848 - val_loss: 0.4806 - val_acc: 0.8746\n",
            "Epoch 14/20\n",
            "214/214 - 358s - loss: 0.0377 - acc: 0.9854 - val_loss: 0.5344 - val_acc: 0.8804\n",
            "Epoch 15/20\n",
            "214/214 - 358s - loss: 0.0280 - acc: 0.9897 - val_loss: 0.6038 - val_acc: 0.8753\n",
            "Epoch 16/20\n",
            "214/214 - 355s - loss: 0.0307 - acc: 0.9884 - val_loss: 0.5761 - val_acc: 0.8740\n",
            "Epoch 17/20\n",
            "214/214 - 357s - loss: 0.0259 - acc: 0.9911 - val_loss: 0.6296 - val_acc: 0.8751\n",
            "Epoch 18/20\n",
            "214/214 - 354s - loss: 0.0252 - acc: 0.9906 - val_loss: 0.6145 - val_acc: 0.8746\n",
            "Epoch 19/20\n",
            "214/214 - 356s - loss: 0.0231 - acc: 0.9918 - val_loss: 0.6073 - val_acc: 0.8781\n",
            "Epoch 20/20\n",
            "214/214 - 354s - loss: 0.0207 - acc: 0.9927 - val_loss: 0.6224 - val_acc: 0.8759\n"
          ],
          "name": "stdout"
        }
      ]
    },
    {
      "cell_type": "code",
      "metadata": {
        "colab": {
          "base_uri": "https://localhost:8080/"
        },
        "id": "f-T-HT5har-n",
        "outputId": "ef0d8ac7-6303-471a-e41c-5c8cea96df50"
      },
      "source": [
        "model.summary()"
      ],
      "execution_count": 47,
      "outputs": [
        {
          "output_type": "stream",
          "text": [
            "Model: \"sequential\"\n",
            "_________________________________________________________________\n",
            "Layer (type)                 Output Shape              Param #   \n",
            "=================================================================\n",
            "embedding (Embedding)        (None, 25, 200)           5526000   \n",
            "_________________________________________________________________\n",
            "bidirectional (Bidirectional (None, 25, 400)           1923200   \n",
            "_________________________________________________________________\n",
            "bidirectional_1 (Bidirection (None, 100)               400800    \n",
            "_________________________________________________________________\n",
            "dense (Dense)                (None, 100)               10100     \n",
            "_________________________________________________________________\n",
            "dropout (Dropout)            (None, 100)               0         \n",
            "_________________________________________________________________\n",
            "dense_1 (Dense)              (None, 1)                 101       \n",
            "=================================================================\n",
            "Total params: 7,860,201\n",
            "Trainable params: 2,334,201\n",
            "Non-trainable params: 5,526,000\n",
            "_________________________________________________________________\n"
          ],
          "name": "stdout"
        }
      ]
    },
    {
      "cell_type": "code",
      "metadata": {
        "colab": {
          "base_uri": "https://localhost:8080/"
        },
        "id": "O2yhMw0gML4h",
        "outputId": "a3d08fa8-cb68-48c1-fe3a-bd04924a3ce2"
      },
      "source": [
        "#model4\r\n",
        "model = Sequential()\r\n",
        "model.add(embedding_layer)\r\n",
        "#model.add(tf.keras.layers.SpatialDropout1D(0.3))\r\n",
        "model.add(Bidirectional(LSTM(300, return_sequences = True, dropout=0.2, recurrent_dropout=0.25) , merge_mode ='sum'))\r\n",
        "model.add(Bidirectional(LSTM(200, dropout=0.2, recurrent_dropout=0.25) , merge_mode ='sum'))\r\n",
        "model.add(Dense(300, activation='relu'))\r\n",
        "model.add(Dropout(0.8))\r\n",
        "model.add(Dense(1, activation='sigmoid'))\r\n",
        "model.compile(loss='binary_crossentropy', optimizer='adam', metrics=['acc'])\r\n",
        "history = model.fit(X_train_pad, y_train, batch_size=32, epochs=40, validation_data=(X_test_pad, y_test), verbose=2)"
      ],
      "execution_count": null,
      "outputs": [
        {
          "output_type": "stream",
          "text": [
            "WARNING:tensorflow:Layer lstm_5 will not use cuDNN kernel since it doesn't meet the cuDNN kernel criteria. It will use generic GPU kernel as fallback when running on GPU\n",
            "WARNING:tensorflow:Layer lstm_5 will not use cuDNN kernel since it doesn't meet the cuDNN kernel criteria. It will use generic GPU kernel as fallback when running on GPU\n",
            "WARNING:tensorflow:Layer lstm_5 will not use cuDNN kernel since it doesn't meet the cuDNN kernel criteria. It will use generic GPU kernel as fallback when running on GPU\n",
            "WARNING:tensorflow:Layer lstm_6 will not use cuDNN kernel since it doesn't meet the cuDNN kernel criteria. It will use generic GPU kernel as fallback when running on GPU\n",
            "WARNING:tensorflow:Layer lstm_6 will not use cuDNN kernel since it doesn't meet the cuDNN kernel criteria. It will use generic GPU kernel as fallback when running on GPU\n",
            "WARNING:tensorflow:Layer lstm_6 will not use cuDNN kernel since it doesn't meet the cuDNN kernel criteria. It will use generic GPU kernel as fallback when running on GPU\n",
            "Epoch 1/40\n",
            "668/668 - 251s - loss: 0.5374 - acc: 0.7351 - val_loss: 0.4563 - val_acc: 0.7849\n",
            "Epoch 2/40\n",
            "668/668 - 245s - loss: 0.4513 - acc: 0.7913 - val_loss: 0.4224 - val_acc: 0.8053\n",
            "Epoch 3/40\n",
            "668/668 - 240s - loss: 0.3871 - acc: 0.8253 - val_loss: 0.4093 - val_acc: 0.8115\n",
            "Epoch 4/40\n",
            "668/668 - 232s - loss: 0.3298 - acc: 0.8553 - val_loss: 0.4091 - val_acc: 0.8191\n",
            "Epoch 5/40\n",
            "668/668 - 227s - loss: 0.2687 - acc: 0.8857 - val_loss: 0.4570 - val_acc: 0.8064\n",
            "Epoch 6/40\n",
            "668/668 - 228s - loss: 0.2175 - acc: 0.9076 - val_loss: 0.5054 - val_acc: 0.8090\n",
            "Epoch 7/40\n",
            "668/668 - 226s - loss: 0.1651 - acc: 0.9336 - val_loss: 0.5579 - val_acc: 0.8231\n",
            "Epoch 8/40\n",
            "668/668 - 225s - loss: 0.1345 - acc: 0.9468 - val_loss: 0.6092 - val_acc: 0.8233\n",
            "Epoch 9/40\n",
            "668/668 - 223s - loss: 0.1060 - acc: 0.9610 - val_loss: 0.6135 - val_acc: 0.8229\n",
            "Epoch 10/40\n",
            "668/668 - 226s - loss: 0.0859 - acc: 0.9676 - val_loss: 0.6826 - val_acc: 0.8236\n",
            "Epoch 11/40\n",
            "668/668 - 226s - loss: 0.0700 - acc: 0.9741 - val_loss: 0.7479 - val_acc: 0.8156\n",
            "Epoch 12/40\n",
            "668/668 - 224s - loss: 0.0602 - acc: 0.9782 - val_loss: 0.8240 - val_acc: 0.8270\n",
            "Epoch 13/40\n",
            "668/668 - 222s - loss: 0.0524 - acc: 0.9803 - val_loss: 0.8330 - val_acc: 0.8262\n",
            "Epoch 14/40\n",
            "668/668 - 223s - loss: 0.0525 - acc: 0.9816 - val_loss: 0.8334 - val_acc: 0.8274\n",
            "Epoch 15/40\n",
            "668/668 - 227s - loss: 0.0661 - acc: 0.9788 - val_loss: 0.9570 - val_acc: 0.8160\n",
            "Epoch 16/40\n",
            "668/668 - 226s - loss: 0.0739 - acc: 0.9754 - val_loss: 0.7569 - val_acc: 0.8262\n",
            "Epoch 17/40\n",
            "668/668 - 227s - loss: 0.0548 - acc: 0.9805 - val_loss: 0.8304 - val_acc: 0.8225\n",
            "Epoch 18/40\n",
            "668/668 - 225s - loss: 0.0424 - acc: 0.9855 - val_loss: 1.0617 - val_acc: 0.8291\n",
            "Epoch 19/40\n",
            "668/668 - 224s - loss: 0.0408 - acc: 0.9861 - val_loss: 0.8993 - val_acc: 0.8311\n",
            "Epoch 20/40\n",
            "668/668 - 225s - loss: 0.0535 - acc: 0.9810 - val_loss: 1.0024 - val_acc: 0.8291\n",
            "Epoch 21/40\n",
            "668/668 - 225s - loss: 0.0285 - acc: 0.9912 - val_loss: 0.9872 - val_acc: 0.8240\n",
            "Epoch 22/40\n",
            "668/668 - 225s - loss: 0.0249 - acc: 0.9921 - val_loss: 1.0580 - val_acc: 0.8277\n",
            "Epoch 23/40\n",
            "668/668 - 225s - loss: 0.0231 - acc: 0.9915 - val_loss: 1.1785 - val_acc: 0.8296\n",
            "Epoch 24/40\n",
            "668/668 - 225s - loss: 0.0224 - acc: 0.9923 - val_loss: 1.2147 - val_acc: 0.8292\n",
            "Epoch 25/40\n",
            "668/668 - 224s - loss: 0.0252 - acc: 0.9911 - val_loss: 1.2032 - val_acc: 0.8203\n",
            "Epoch 26/40\n",
            "668/668 - 225s - loss: 0.0211 - acc: 0.9928 - val_loss: 1.2078 - val_acc: 0.8270\n",
            "Epoch 27/40\n",
            "668/668 - 227s - loss: 0.0236 - acc: 0.9919 - val_loss: 1.0962 - val_acc: 0.8201\n",
            "Epoch 28/40\n",
            "668/668 - 226s - loss: 0.0222 - acc: 0.9922 - val_loss: 1.1934 - val_acc: 0.8218\n",
            "Epoch 29/40\n",
            "668/668 - 226s - loss: 0.0229 - acc: 0.9919 - val_loss: 1.1639 - val_acc: 0.8261\n",
            "Epoch 30/40\n",
            "668/668 - 228s - loss: 0.0218 - acc: 0.9927 - val_loss: 1.0772 - val_acc: 0.8234\n",
            "Epoch 31/40\n",
            "668/668 - 228s - loss: 0.0216 - acc: 0.9925 - val_loss: 1.1656 - val_acc: 0.8332\n",
            "Epoch 32/40\n",
            "668/668 - 229s - loss: 0.0267 - acc: 0.9911 - val_loss: 1.0085 - val_acc: 0.8300\n",
            "Epoch 33/40\n",
            "668/668 - 227s - loss: 0.0213 - acc: 0.9926 - val_loss: 1.1116 - val_acc: 0.8279\n",
            "Epoch 34/40\n",
            "668/668 - 227s - loss: 0.0217 - acc: 0.9924 - val_loss: 1.0898 - val_acc: 0.8233\n",
            "Epoch 35/40\n",
            "668/668 - 225s - loss: 0.0218 - acc: 0.9934 - val_loss: 1.1118 - val_acc: 0.8233\n",
            "Epoch 36/40\n"
          ],
          "name": "stdout"
        }
      ]
    },
    {
      "cell_type": "code",
      "metadata": {
        "id": "LEmQNV9xpV4u"
      },
      "source": [
        ""
      ],
      "execution_count": null,
      "outputs": []
    },
    {
      "cell_type": "code",
      "metadata": {
        "colab": {
          "base_uri": "https://localhost:8080/",
          "height": 545
        },
        "id": "AdY5oAG_Xyq_",
        "outputId": "bba21fcd-5cce-4c6e-a42d-f803f1b565ca"
      },
      "source": [
        "#using Model3\r\n",
        "acc = history.history['acc']\r\n",
        "val_acc = history.history['val_acc']\r\n",
        "loss = history.history['loss']\r\n",
        "val_loss = history.history['val_loss']\r\n",
        "\r\n",
        "epochs = range(1, len(acc)+1)\r\n",
        "\r\n",
        "plt.plot(epochs, acc, 'g', label='Training accuracy')\r\n",
        "plt.plot(epochs, val_acc, 'r', label='Validation accuracy')\r\n",
        "plt.title('Training and validation accuracy')\r\n",
        "plt.legend()\r\n",
        "\r\n",
        "plt.figure()\r\n",
        "\r\n",
        "plt.plot(epochs, loss, 'g', label='Training loss')\r\n",
        "plt.plot(epochs, val_loss, 'r', label='Validation loss')\r\n",
        "plt.title('Training and validation loss')\r\n",
        "plt.legend()\r\n",
        "\r\n",
        "plt.show()"
      ],
      "execution_count": 34,
      "outputs": [
        {
          "output_type": "display_data",
          "data": {
            "image/png": "[encoded data removed]",
            "text/plain": [
              "<Figure size 432x288 with 1 Axes>"
            ]
          },
          "metadata": {
            "tags": [],
            "needs_background": "light"
          }
        },
        {
          "output_type": "display_data",
          "data": {
            "image/png": "[encoded data removed]",
            "text/plain": [
              "<Figure size 432x288 with 1 Axes>"
            ]
          },
          "metadata": {
            "tags": [],
            "needs_background": "light"
          }
        }
      ]
    },
    {
      "cell_type": "code",
      "metadata": {
        "id": "KpnEOjyeX5rl"
      },
      "source": [
        "def predict_sarcasm(s):\r\n",
        "    x_final = pd.DataFrame({\"headline\":[s]})\r\n",
        "    \r\n",
        "    test_sequences = tokenizer.texts_to_sequences(x_final)\r\n",
        "    test_review_pad = pad_sequences(test_sequences, maxlen=maxlen, padding='post')\r\n",
        "    pred = model.predict(test_review_pad)\r\n",
        "    pred*=100\r\n",
        "    if pred[0][0]>=50: return \"It's a sarcasm!\" \r\n",
        "    else: return \"It's not a sarcasm.\""
      ],
      "execution_count": 39,
      "outputs": []
    },
    {
      "cell_type": "code",
      "metadata": {
        "id": "NN789zNnJ5PL",
        "colab": {
          "base_uri": "https://localhost:8080/",
          "height": 35
        },
        "outputId": "7cf3f827-f3bb-43df-ee54-633e40ba407f"
      },
      "source": [
        "predict_sarcasm(\"I am an Indian. I am very happy because India lost the match by 1 runs.\")\r\n"
      ],
      "execution_count": 40,
      "outputs": [
        {
          "output_type": "execute_result",
          "data": {
            "application/vnd.google.colaboratory.intrinsic+json": {
              "type": "string"
            },
            "text/plain": [
              "\"It's a sarcasm!\""
            ]
          },
          "metadata": {
            "tags": []
          },
          "execution_count": 40
        }
      ]
    },
    {
      "cell_type": "code",
      "metadata": {
        "colab": {
          "base_uri": "https://localhost:8080/",
          "height": 35
        },
        "id": "aTxDFuHczW3n",
        "outputId": "3a5b90ea-cb5d-44d0-ae84-711fe2d10d59"
      },
      "source": [
        "predict_sarcasm(\"You just broke my car window. Great job.\")\r\n"
      ],
      "execution_count": 41,
      "outputs": [
        {
          "output_type": "execute_result",
          "data": {
            "application/vnd.google.colaboratory.intrinsic+json": {
              "type": "string"
            },
            "text/plain": [
              "\"It's a sarcasm!\""
            ]
          },
          "metadata": {
            "tags": []
          },
          "execution_count": 41
        }
      ]
    },
    {
      "cell_type": "code",
      "metadata": {
        "colab": {
          "base_uri": "https://localhost:8080/",
          "height": 35
        },
        "id": "UP35lZ6azgb-",
        "outputId": "968b430e-f74c-4617-f7f2-277ee945d563"
      },
      "source": [
        "predict_sarcasm(\"It is very hot, i think it is going to rain heavily\")\r\n"
      ],
      "execution_count": 42,
      "outputs": [
        {
          "output_type": "execute_result",
          "data": {
            "application/vnd.google.colaboratory.intrinsic+json": {
              "type": "string"
            },
            "text/plain": [
              "\"It's a sarcasm!\""
            ]
          },
          "metadata": {
            "tags": []
          },
          "execution_count": 42
        }
      ]
    },
    {
      "cell_type": "markdown",
      "metadata": {
        "id": "vk7KtYUTaeFR"
      },
      "source": [
        "Conclusion : we predicted sarcasm or not using bidirectional LSTM. Model3 with 2 bidirectional LSTM and return sequences predicted with 88% accuracy"
      ]
    },
    {
      "cell_type": "code",
      "metadata": {
        "id": "L85snHmHbApq"
      },
      "source": [
        ""
      ],
      "execution_count": null,
      "outputs": []
    }
  ]
}