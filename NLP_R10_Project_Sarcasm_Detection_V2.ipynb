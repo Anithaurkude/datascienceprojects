{
  "nbformat": 4,
  "nbformat_minor": 0,
  "metadata": {
    "accelerator": "GPU",
    "colab": {
      "name": "NLP_R10_Project_Sarcasm_Detection_V1.ipynb",
      "provenance": [],
      "collapsed_sections": []
    },
    "kernelspec": {
      "display_name": "Python 3",
      "language": "python",
      "name": "python3"
    },
    "language_info": {
      "codemirror_mode": {
        "name": "ipython",
        "version": 3
      },
      "file_extension": ".py",
      "mimetype": "text/x-python",
      "name": "python",
      "nbconvert_exporter": "python",
      "pygments_lexer": "ipython3",
      "version": "3.7.3"
    }
  },
  "cells": [
    {
      "cell_type": "markdown",
      "metadata": {
        "id": "bI7SIeJ_oZMU"
      },
      "source": [
        "<img src=\"http://drive.google.com/uc?export=view&id=1tpOCamr9aWz817atPnyXus8w5gJ3mIts\" width=500px>\n",
        "\n",
        "Proprietary content. © Great Learning. All Rights Reserved. Unauthorized use or distribution prohibited."
      ]
    },
    {
      "cell_type": "markdown",
      "metadata": {
        "id": "Eukag7wEoPZu"
      },
      "source": [
        "### Package Version:\n",
        "- tensorflow==2.2.0\n",
        "- pandas==1.0.5\n",
        "- numpy==1.18.5\n",
        "- google==2.0.3"
      ]
    },
    {
      "cell_type": "markdown",
      "metadata": {
        "id": "pp68FAQf9aMN"
      },
      "source": [
        "# Sarcasm Detection"
      ]
    },
    {
      "cell_type": "markdown",
      "metadata": {
        "id": "bEahVPtWX5ve"
      },
      "source": [
        "### Dataset\n",
        "\n",
        "#### Acknowledgement\n",
        "Misra, Rishabh, and Prahal Arora. \"Sarcasm Detection using Hybrid Neural Network.\" arXiv preprint arXiv:1908.07414 (2019).\n",
        "\n",
        "**Required Files given in below link.**\n",
        "\n",
        "https://drive.google.com/drive/folders/1xUnF35naPGU63xwRDVGc-DkZ3M8V5mMk"
      ]
    },
    {
      "cell_type": "markdown",
      "metadata": {
        "id": "vAk6BRUh8CqL"
      },
      "source": [
        "### Load Data "
      ]
    },
    {
      "cell_type": "code",
      "metadata": {
        "id": "iP8nX_-Tq3t1"
      },
      "source": [
        "#importing necessary libraries\r\n",
        "import numpy as np \r\n",
        "import pandas as pd \r\n",
        "import os\r\n",
        "import re\r\n",
        "import matplotlib.pyplot as plt\r\n",
        "from tensorflow.python.keras.preprocessing.text import Tokenizer\r\n",
        "from tensorflow.python.keras.preprocessing.sequence import pad_sequences\r\n",
        "from keras.models import Sequential\r\n",
        "from keras.layers import Dense, Embedding, GRU, LSTM, Bidirectional,Dropout,Flatten\r\n",
        "from keras.layers.embeddings import Embedding\r\n",
        "from keras.initializers import Constant\r\n",
        "from keras.callbacks import ModelCheckpoint\r\n",
        "from keras.models import load_model"
      ],
      "execution_count": 2,
      "outputs": []
    },
    {
      "cell_type": "code",
      "metadata": {
        "id": "v8-PQsV0DrAZ",
        "colab": {
          "base_uri": "https://localhost:8080/"
        },
        "outputId": "ec22d1df-01dc-4950-bf29-31d59d4f0283"
      },
      "source": [
        "from google.colab import drive\r\n",
        "drive.mount('/content/drive')"
      ],
      "execution_count": 3,
      "outputs": [
        {
          "output_type": "stream",
          "text": [
            "Mounted at /content/drive\n"
          ],
          "name": "stdout"
        }
      ]
    },
    {
      "cell_type": "code",
      "metadata": {
        "id": "p3SNV5fAXT7v"
      },
      "source": [
        "import os\r\n",
        "os.chdir('/content/drive/MyDrive/Colab Notebooks/data/project')"
      ],
      "execution_count": 4,
      "outputs": []
    },
    {
      "cell_type": "code",
      "metadata": {
        "id": "WYKYyd5fwMyy"
      },
      "source": [
        "#reading json data\r\n",
        "sardf = pd.read_json('Sarcasm_Headlines_Dataset.json',lines=True)"
      ],
      "execution_count": 5,
      "outputs": []
    },
    {
      "cell_type": "markdown",
      "metadata": {
        "id": "z6pXf7A78E2H"
      },
      "source": [
        "### Drop `article_link` from dataset "
      ]
    },
    {
      "cell_type": "code",
      "metadata": {
        "id": "-WUNHq5zEV0n"
      },
      "source": [
        "#dropping article_link\r\n",
        "sarnewdf = sardf.drop(['article_link'],axis=1)"
      ],
      "execution_count": 6,
      "outputs": []
    },
    {
      "cell_type": "markdown",
      "metadata": {
        "id": "D0h6IOxU8OdH"
      },
      "source": [
        "### Get length of each headline and add a column for \r\n",
        "\r\n",
        "1.   List item\r\n",
        "2.   List item\r\n",
        "\r\n",
        "that "
      ]
    },
    {
      "cell_type": "code",
      "metadata": {
        "colab": {
          "base_uri": "https://localhost:8080/"
        },
        "id": "JOSiphdWzHD5",
        "outputId": "0d8eb0a8-8797-43ec-f2a5-11728762ab8d"
      },
      "source": [
        "sarnewdf['headline'].str.len()"
      ],
      "execution_count": 7,
      "outputs": [
        {
          "output_type": "execute_result",
          "data": {
            "text/plain": [
              "0        78\n",
              "1        84\n",
              "2        79\n",
              "3        84\n",
              "4        64\n",
              "         ..\n",
              "26704    36\n",
              "26705    23\n",
              "26706    21\n",
              "26707    60\n",
              "26708    33\n",
              "Name: headline, Length: 26709, dtype: int64"
            ]
          },
          "metadata": {
            "tags": []
          },
          "execution_count": 7
        }
      ]
    },
    {
      "cell_type": "code",
      "metadata": {
        "id": "MLpiBRDmEV2l"
      },
      "source": [
        "#creating new column with the length of the headline column\r\n",
        "sarnewdf['headline1'] = sarnewdf['headline'].apply(lambda s:s.split())"
      ],
      "execution_count": 10,
      "outputs": []
    },
    {
      "cell_type": "code",
      "metadata": {
        "id": "F88S1k-DsJFh"
      },
      "source": [
        "sarnewdf['length'] = sarnewdf['headline1'].str.len()"
      ],
      "execution_count": 11,
      "outputs": []
    },
    {
      "cell_type": "code",
      "metadata": {
        "id": "GPvMdLh4whjB"
      },
      "source": [
        "#converting to lower character\r\n",
        "sarnewdf['headline'] = sarnewdf['headline'].apply(lambda s: s.lower())"
      ],
      "execution_count": 12,
      "outputs": []
    },
    {
      "cell_type": "code",
      "metadata": {
        "id": "lqUY3yZMuvMn"
      },
      "source": [
        "specialcharc = '{}[]/?*&^%$#@!~.,_-'\r\n"
      ],
      "execution_count": 13,
      "outputs": []
    },
    {
      "cell_type": "code",
      "metadata": {
        "colab": {
          "base_uri": "https://localhost:8080/"
        },
        "id": "QiT9HPojw4N5",
        "outputId": "9f6e127f-563b-420e-c961-45dafa373433"
      },
      "source": [
        "sarnewdf.headline.str.strip(specialcharc).astype(bool).any()\r\n"
      ],
      "execution_count": 14,
      "outputs": [
        {
          "output_type": "execute_result",
          "data": {
            "text/plain": [
              "True"
            ]
          },
          "metadata": {
            "tags": []
          },
          "execution_count": 14
        }
      ]
    },
    {
      "cell_type": "code",
      "metadata": {
        "colab": {
          "base_uri": "https://localhost:8080/"
        },
        "id": "7nWvmA5sxAnN",
        "outputId": "1c584d81-93bd-42a1-96e0-165f64547fc0"
      },
      "source": [
        "sarnewdf['headline'][1:10]\r\n"
      ],
      "execution_count": 15,
      "outputs": [
        {
          "output_type": "execute_result",
          "data": {
            "text/plain": [
              "1    the 'roseanne' revival catches up to our thorn...\n",
              "2    mom starting to fear son's web series closest ...\n",
              "3    boehner just wants wife to listen, not come up...\n",
              "4    j.k. rowling wishes snape happy birthday in th...\n",
              "5                          advancing the world's women\n",
              "6       the fascinating case for eating lab-grown meat\n",
              "7    this ceo will send your kids to school, if you...\n",
              "8    top snake handler leaves sinking huckabee camp...\n",
              "9    friday's morning email: inside trump's presser...\n",
              "Name: headline, dtype: object"
            ]
          },
          "metadata": {
            "tags": []
          },
          "execution_count": 15
        }
      ]
    },
    {
      "cell_type": "code",
      "metadata": {
        "id": "RvlC1pAyxFzo"
      },
      "source": [
        "#keeping only letters and removing other special characters and numbers\r\n",
        "sarnewdf['headline'] = sarnewdf['headline'].apply(lambda s: re.sub('[^a-z ]','',s))\r\n"
      ],
      "execution_count": 16,
      "outputs": []
    },
    {
      "cell_type": "code",
      "metadata": {
        "colab": {
          "base_uri": "https://localhost:8080/"
        },
        "id": "NZQB1KccxYsp",
        "outputId": "ac0e299b-2f36-4db3-c5d8-bd4ce3d642b8"
      },
      "source": [
        "sarnewdf['headline'][1:10]"
      ],
      "execution_count": 17,
      "outputs": [
        {
          "output_type": "execute_result",
          "data": {
            "text/plain": [
              "1    the roseanne revival catches up to our thorny ...\n",
              "2    mom starting to fear sons web series closest t...\n",
              "3    boehner just wants wife to listen not come up ...\n",
              "4    jk rowling wishes snape happy birthday in the ...\n",
              "5                           advancing the worlds women\n",
              "6        the fascinating case for eating labgrown meat\n",
              "7    this ceo will send your kids to school if you ...\n",
              "8    top snake handler leaves sinking huckabee camp...\n",
              "9    fridays morning email inside trumps presser fo...\n",
              "Name: headline, dtype: object"
            ]
          },
          "metadata": {
            "tags": []
          },
          "execution_count": 17
        }
      ]
    },
    {
      "cell_type": "code",
      "metadata": {
        "id": "T-RFIAfjxeeN"
      },
      "source": [
        "#removing spaces\r\n",
        "sarnewdf['headline'] = sarnewdf['headline'].apply(lambda s: s.strip())\r\n"
      ],
      "execution_count": null,
      "outputs": []
    },
    {
      "cell_type": "code",
      "metadata": {
        "colab": {
          "base_uri": "https://localhost:8080/"
        },
        "id": "0h19RVbsxkaF",
        "outputId": "26f193e3-089c-44fd-c6f8-340f0ca73615"
      },
      "source": [
        "sarnewdf['headline'][1:10]"
      ],
      "execution_count": 18,
      "outputs": [
        {
          "output_type": "execute_result",
          "data": {
            "text/plain": [
              "1    the roseanne revival catches up to our thorny ...\n",
              "2    mom starting to fear sons web series closest t...\n",
              "3    boehner just wants wife to listen not come up ...\n",
              "4    jk rowling wishes snape happy birthday in the ...\n",
              "5                           advancing the worlds women\n",
              "6        the fascinating case for eating labgrown meat\n",
              "7    this ceo will send your kids to school if you ...\n",
              "8    top snake handler leaves sinking huckabee camp...\n",
              "9    fridays morning email inside trumps presser fo...\n",
              "Name: headline, dtype: object"
            ]
          },
          "metadata": {
            "tags": []
          },
          "execution_count": 18
        }
      ]
    },
    {
      "cell_type": "code",
      "metadata": {
        "id": "j5donJo_Oeh1"
      },
      "source": [
        "# !pip install stopwords"
      ],
      "execution_count": null,
      "outputs": []
    },
    {
      "cell_type": "code",
      "metadata": {
        "id": "_8_1sJcZO7Ye"
      },
      "source": [
        "# import nltk\r\n",
        "# nltk.download(\"popular\")"
      ],
      "execution_count": null,
      "outputs": []
    },
    {
      "cell_type": "markdown",
      "metadata": {
        "id": "mF2iaIIOOdss"
      },
      "source": [
        ""
      ]
    },
    {
      "cell_type": "code",
      "metadata": {
        "id": "KWgPFSSAs1Wm"
      },
      "source": [
        "# import stopwords\r\n",
        "# from nltk.corpus import stopwords\r\n",
        "# print(stopwords.words('english'))\r\n"
      ],
      "execution_count": null,
      "outputs": []
    },
    {
      "cell_type": "code",
      "metadata": {
        "id": "b_7Sc8bRO6EV"
      },
      "source": [
        "# stop_words = set(stopwords.words('english')) \r\n",
        "# #Below stop words are present in the text\r\n",
        "# sarnewdf['headline'].apply(lambda x: ' '.join([text for text in x.split() if text in stop_words]))"
      ],
      "execution_count": null,
      "outputs": []
    },
    {
      "cell_type": "code",
      "metadata": {
        "id": "YykdQLegRXdu"
      },
      "source": [
        "# #removing emoji's and converting short form of words to full form\r\n",
        "# def clean_text(text):\r\n",
        "    \r\n",
        "#     text = \" \".join(filter(lambda x:x[0]!='@', text.split()))\r\n",
        "#     emoji = re.compile(\"[\"\r\n",
        "#                            u\"\\U0001F600-\\U0001FFFF\"  # emoticons\r\n",
        "#                            u\"\\U0001F300-\\U0001F5FF\"  # symbols & pictographs\r\n",
        "#                            u\"\\U0001F680-\\U0001F6FF\"  # transport & map symbols\r\n",
        "#                            u\"\\U0001F1E0-\\U0001F1FF\"  # flags (iOS)\r\n",
        "#                            u\"\\U00002702-\\U000027B0\"\r\n",
        "#                            u\"\\U000024C2-\\U0001F251\"\r\n",
        "#                            \"]+\", flags=re.UNICODE)\r\n",
        "    \r\n",
        "#     text = emoji.sub(r'', text)\r\n",
        "#     text = text.lower()\r\n",
        "#     text = re.sub(r\"i'm\", \"i am\", text)\r\n",
        "#     text = re.sub(r\"he's\", \"he is\", text)\r\n",
        "#     text = re.sub(r\"she's\", \"she is\", text)\r\n",
        "#     text = re.sub(r\"that's\", \"that is\", text)        \r\n",
        "#     text = re.sub(r\"what's\", \"what is\", text)\r\n",
        "#     text = re.sub(r\"where's\", \"where is\", text) \r\n",
        "#     text = re.sub(r\"\\'ll\", \" will\", text)  \r\n",
        "#     text = re.sub(r\"\\'ve\", \" have\", text)  \r\n",
        "#     text = re.sub(r\"\\'re\", \" are\", text)\r\n",
        "#     text = re.sub(r\"\\'d\", \" would\", text)\r\n",
        "#     text = re.sub(r\"\\'ve\", \" have\", text)\r\n",
        "#     text = re.sub(r\"won't\", \"will not\", text)\r\n",
        "#     text = re.sub(r\"don't\", \"do not\", text)\r\n",
        "#     text = re.sub(r\"did't\", \"did not\", text)\r\n",
        "#     text = re.sub(r\"can't\", \"can not\", text)\r\n",
        "#     text = re.sub(r\"it's\", \"it is\", text)\r\n",
        "#     text = re.sub(r\"couldn't\", \"could not\", text)\r\n",
        "#     text = re.sub(r\"have't\", \"have not\", text)\r\n",
        "#     text = re.sub(r\"[,.\\\"\\'!@#$%^&*(){}?/;`~:<>+=-]\", \"\", text)\r\n",
        "#     return text"
      ],
      "execution_count": null,
      "outputs": []
    },
    {
      "cell_type": "code",
      "metadata": {
        "id": "ag_iaEkrRRI5"
      },
      "source": [
        "# #removing stop words\r\n",
        "# import string\r\n",
        "# from nltk.tokenize import word_tokenize\r\n",
        "# from nltk.corpus import stopwords\r\n",
        "# def CleanTokenize(df):\r\n",
        "#     head_lines = list()\r\n",
        "#     lines = sarnewdf[\"headline\"].values.tolist()\r\n",
        "\r\n",
        "#     for line in lines:\r\n",
        "#         line = clean_text(line)\r\n",
        "#         # tokenize the text\r\n",
        "#         tokens = word_tokenize(line)\r\n",
        "#         # remove puntuations\r\n",
        "#         table = str.maketrans('', '', string.punctuation)\r\n",
        "#         stripped = [w.translate(table) for w in tokens]\r\n",
        "#         # remove non alphabetic characters\r\n",
        "#         words = [word for word in stripped if word.isalpha()]\r\n",
        "#         stop_words = set(stopwords.words(\"english\"))\r\n",
        "#         # remove stop words\r\n",
        "#         words = [w for w in words if not w in stop_words]\r\n",
        "#         head_lines.append(words)\r\n",
        "#     return head_lines\r\n",
        "\r\n",
        "# head_lines = CleanTokenize(sarnewdf)\r\n",
        "# head_lines[0:10]"
      ],
      "execution_count": null,
      "outputs": []
    },
    {
      "cell_type": "code",
      "metadata": {
        "id": "IXIsCg9kPVCt"
      },
      "source": [
        "#forming text after removing stop words from it\r\n",
        "#sarnewdf['headline1'] = sarnewdf['headline'].apply(lambda x: ' '.join([text for text in x.split() if text not in stop_words]))"
      ],
      "execution_count": null,
      "outputs": []
    },
    {
      "cell_type": "code",
      "metadata": {
        "id": "xLff8wjHPujA"
      },
      "source": [
        "# #looking at most occuring words\r\n",
        "# from collections import Counter\r\n",
        "# from wordcloud import WordCloud, ImageColorGenerator\r\n",
        "# pos_data = sarnewdf.loc[sarnewdf['is_sarcastic'] == 1]\r\n",
        "\r\n",
        "# pos_lines = [j for sub in pos_data for j in sub] \r\n",
        "# word_could_dict=Counter(pos_lines)\r\n",
        "\r\n",
        "# wordcloud = WordCloud(width = 1000, height = 500).generate_from_frequencies(word_could_dict)\r\n",
        "# plt.figure(figsize=(15,8))\r\n",
        "# plt.imshow(wordcloud)\r\n",
        "# plt.axis(\"off\")"
      ],
      "execution_count": null,
      "outputs": []
    },
    {
      "cell_type": "markdown",
      "metadata": {
        "id": "SMF-wjJ2aMwm"
      },
      "source": [
        "### Initialize parameter values\n",
        "- Set values for max_features, maxlen, & embedding_size\n",
        "- max_features: Number of words to take from tokenizer(most frequent words)\n",
        "- maxlen: Maximum length of each sentence to be limited to 25\n",
        "- embedding_size: size of embedding vector"
      ]
    },
    {
      "cell_type": "markdown",
      "metadata": {
        "id": "9abSe-bM8fn9"
      },
      "source": [
        "### Apply `tensorflow.keras` Tokenizer and get indices \n",
        "\n",
        "\n",
        "\n",
        "for words \n",
        "- Initialize Tokenizer object with number of words as 10000\n",
        "- Fit the tokenizer object on headline column\n",
        "- Convert the text to sequence\n"
      ]
    },
    {
      "cell_type": "code",
      "metadata": {
        "id": "y8g4l0KfF3eh"
      },
      "source": [
        "import tensorflow as tf\r\n",
        "from tensorflow import keras\r\n",
        "from tensorflow.keras.preprocessing.text import Tokenizer\r\n",
        "from tensorflow.keras.preprocessing.sequence import pad_sequences\r\n",
        "\r\n",
        "# padding_type='post'\r\n",
        "# oov_tok='<oov>'"
      ],
      "execution_count": 19,
      "outputs": []
    },
    {
      "cell_type": "code",
      "metadata": {
        "id": "jPw9gAN_EV6m"
      },
      "source": [
        "max_features = 10000\n",
        "maxlen = 25\n",
        "embedding_size = 200\n",
        "trunc_type='post'\n",
        "\n"
      ],
      "execution_count": 20,
      "outputs": []
    },
    {
      "cell_type": "code",
      "metadata": {
        "id": "080cfGQLIkQf"
      },
      "source": [
        "#fitting tokenizer object column and converting it to sequences\r\n",
        "tokenizer = Tokenizer(max_features)\r\n",
        "tokenizer.fit_on_texts(sarnewdf['headline'])\r\n",
        "sequences = tokenizer.texts_to_sequences(sarnewdf['headline'])\r\n",
        "\r\n"
      ],
      "execution_count": 21,
      "outputs": []
    },
    {
      "cell_type": "markdown",
      "metadata": {
        "id": "xeZpwPO4bOkZ"
      },
      "source": [
        "### Pad sequences \n",
        "- Pad each example with a maximum length\n",
        "- Convert target column into numpy array"
      ]
    },
    {
      "cell_type": "code",
      "metadata": {
        "id": "6BPJCWUcSofL"
      },
      "source": [
        "#padding zeros to make all words of same length,using post padding\r\n",
        "#forming features and labels\r\n",
        "lines_pad = pad_sequences(sequences, maxlen=maxlen, padding='post' )\r\n",
        "\r\n",
        "\r\n"
      ],
      "execution_count": 22,
      "outputs": []
    },
    {
      "cell_type": "code",
      "metadata": {
        "colab": {
          "base_uri": "https://localhost:8080/"
        },
        "id": "lZeY9RiQ9n5k",
        "outputId": "834fe3e8-52d3-48ef-fc4b-e361f21d11a4"
      },
      "source": [
        "#converting target into numpy array\r\n",
        "sentiment =  sarnewdf['is_sarcastic'].values\r\n",
        "sentiment"
      ],
      "execution_count": 23,
      "outputs": [
        {
          "output_type": "execute_result",
          "data": {
            "text/plain": [
              "array([0, 0, 1, ..., 0, 0, 0])"
            ]
          },
          "metadata": {
            "tags": []
          },
          "execution_count": 23
        }
      ]
    },
    {
      "cell_type": "markdown",
      "metadata": {
        "id": "WJLyKg-98rH_"
      },
      "source": [
        "### Vocab mapping\n",
        "- There is no word for 0th index"
      ]
    },
    {
      "cell_type": "code",
      "metadata": {
        "id": "vCNgtnQqdbZn",
        "colab": {
          "base_uri": "https://localhost:8080/"
        },
        "outputId": "1094dcc6-42a9-4d3c-cb18-473f3ca8c44c"
      },
      "source": [
        "word_index = tokenizer.word_index\r\n",
        "print(\"unique tokens - \",len(word_index))"
      ],
      "execution_count": 24,
      "outputs": [
        {
          "output_type": "stream",
          "text": [
            "unique tokens -  27629\n"
          ],
          "name": "stdout"
        }
      ]
    },
    {
      "cell_type": "code",
      "metadata": {
        "colab": {
          "base_uri": "https://localhost:8080/"
        },
        "id": "-QfASBVLqt3v",
        "outputId": "fa24babd-8128-4df4-ea2e-a47d038c1b48"
      },
      "source": [
        "word_index"
      ],
      "execution_count": 25,
      "outputs": [
        {
          "output_type": "execute_result",
          "data": {
            "text/plain": [
              "{'to': 1,\n",
              " 'of': 2,\n",
              " 'the': 3,\n",
              " 'in': 4,\n",
              " 'for': 5,\n",
              " 'a': 6,\n",
              " 'on': 7,\n",
              " 'and': 8,\n",
              " 'with': 9,\n",
              " 'is': 10,\n",
              " 'new': 11,\n",
              " 'trump': 12,\n",
              " 'man': 13,\n",
              " 'from': 14,\n",
              " 'at': 15,\n",
              " 'about': 16,\n",
              " 'you': 17,\n",
              " 'this': 18,\n",
              " 'by': 19,\n",
              " 'after': 20,\n",
              " 'be': 21,\n",
              " 'how': 22,\n",
              " 'out': 23,\n",
              " 'it': 24,\n",
              " 'that': 25,\n",
              " 'as': 26,\n",
              " 'up': 27,\n",
              " 'not': 28,\n",
              " 'are': 29,\n",
              " 'your': 30,\n",
              " 'what': 31,\n",
              " 'his': 32,\n",
              " 'he': 33,\n",
              " 'just': 34,\n",
              " 'who': 35,\n",
              " 'us': 36,\n",
              " 'has': 37,\n",
              " 'will': 38,\n",
              " 'more': 39,\n",
              " 'all': 40,\n",
              " 'report': 41,\n",
              " 'into': 42,\n",
              " 'one': 43,\n",
              " 'why': 44,\n",
              " 'have': 45,\n",
              " 'area': 46,\n",
              " 'over': 47,\n",
              " 'donald': 48,\n",
              " 'says': 49,\n",
              " 'day': 50,\n",
              " 'woman': 51,\n",
              " 'can': 52,\n",
              " 'its': 53,\n",
              " 'time': 54,\n",
              " 'no': 55,\n",
              " 'first': 56,\n",
              " 'like': 57,\n",
              " 'get': 58,\n",
              " 'her': 59,\n",
              " 'trumps': 60,\n",
              " 'people': 61,\n",
              " 'an': 62,\n",
              " 'i': 63,\n",
              " 'now': 64,\n",
              " 'obama': 65,\n",
              " 'house': 66,\n",
              " 'off': 67,\n",
              " 'life': 68,\n",
              " 'make': 69,\n",
              " 'still': 70,\n",
              " 'women': 71,\n",
              " 'was': 72,\n",
              " 'than': 73,\n",
              " 'my': 74,\n",
              " 'white': 75,\n",
              " 'we': 76,\n",
              " 'back': 77,\n",
              " 'clinton': 78,\n",
              " 'down': 79,\n",
              " 'if': 80,\n",
              " 'when': 81,\n",
              " 'world': 82,\n",
              " 'years': 83,\n",
              " 'could': 84,\n",
              " 'family': 85,\n",
              " 'their': 86,\n",
              " 'do': 87,\n",
              " 'before': 88,\n",
              " 'americans': 89,\n",
              " 'most': 90,\n",
              " 'way': 91,\n",
              " 'black': 92,\n",
              " 'they': 93,\n",
              " 'gop': 94,\n",
              " 'study': 95,\n",
              " 'year': 96,\n",
              " 'bill': 97,\n",
              " 'yearold': 98,\n",
              " 'should': 99,\n",
              " 'so': 100,\n",
              " 'would': 101,\n",
              " 'him': 102,\n",
              " 'best': 103,\n",
              " 'police': 104,\n",
              " 'only': 105,\n",
              " 'watch': 106,\n",
              " 'really': 107,\n",
              " 'but': 108,\n",
              " 'american': 109,\n",
              " 'being': 110,\n",
              " 'show': 111,\n",
              " 'school': 112,\n",
              " 'cant': 113,\n",
              " 'know': 114,\n",
              " 'things': 115,\n",
              " 'good': 116,\n",
              " 'home': 117,\n",
              " 'during': 118,\n",
              " 'death': 119,\n",
              " 'president': 120,\n",
              " 'finds': 121,\n",
              " 'say': 122,\n",
              " 'video': 123,\n",
              " 'nation': 124,\n",
              " 'going': 125,\n",
              " 'love': 126,\n",
              " 'health': 127,\n",
              " 'or': 128,\n",
              " 'last': 129,\n",
              " 'state': 130,\n",
              " 'hillary': 131,\n",
              " 'big': 132,\n",
              " 'parents': 133,\n",
              " 'may': 134,\n",
              " 'too': 135,\n",
              " 'against': 136,\n",
              " 'every': 137,\n",
              " 'she': 138,\n",
              " 'mom': 139,\n",
              " 'kids': 140,\n",
              " 'campaign': 141,\n",
              " 'need': 142,\n",
              " 'gets': 143,\n",
              " 'these': 144,\n",
              " 'getting': 145,\n",
              " 'party': 146,\n",
              " 'little': 147,\n",
              " 'some': 148,\n",
              " 'work': 149,\n",
              " 'right': 150,\n",
              " 'change': 151,\n",
              " 'take': 152,\n",
              " 'our': 153,\n",
              " 'dead': 154,\n",
              " 'dont': 155,\n",
              " 'makes': 156,\n",
              " 'america': 157,\n",
              " 'calls': 158,\n",
              " 'news': 159,\n",
              " 'court': 160,\n",
              " 'doesnt': 161,\n",
              " 'other': 162,\n",
              " 'john': 163,\n",
              " 'through': 164,\n",
              " 'while': 165,\n",
              " 'heres': 166,\n",
              " 'own': 167,\n",
              " 'want': 168,\n",
              " 'never': 169,\n",
              " 'look': 170,\n",
              " 'child': 171,\n",
              " 'takes': 172,\n",
              " 'war': 173,\n",
              " 'nations': 174,\n",
              " 'see': 175,\n",
              " 'gay': 176,\n",
              " 'next': 177,\n",
              " 'where': 178,\n",
              " 'local': 179,\n",
              " 'stop': 180,\n",
              " 'hes': 181,\n",
              " 'star': 182,\n",
              " 'go': 183,\n",
              " 'even': 184,\n",
              " 'real': 185,\n",
              " 'guy': 186,\n",
              " 'election': 187,\n",
              " 'again': 188,\n",
              " 'college': 189,\n",
              " 'bush': 190,\n",
              " 'office': 191,\n",
              " 'plan': 192,\n",
              " 'another': 193,\n",
              " 'got': 194,\n",
              " 'thing': 195,\n",
              " 'game': 196,\n",
              " 'dad': 197,\n",
              " 'week': 198,\n",
              " 'around': 199,\n",
              " 'made': 200,\n",
              " 'them': 201,\n",
              " 'help': 202,\n",
              " 'dog': 203,\n",
              " 'baby': 204,\n",
              " 'wants': 205,\n",
              " 'gun': 206,\n",
              " 'million': 207,\n",
              " 'job': 208,\n",
              " 'debate': 209,\n",
              " 'live': 210,\n",
              " 'actually': 211,\n",
              " 'care': 212,\n",
              " 'congress': 213,\n",
              " 'friends': 214,\n",
              " 'high': 215,\n",
              " 'finally': 216,\n",
              " 'much': 217,\n",
              " 'north': 218,\n",
              " 'been': 219,\n",
              " 'me': 220,\n",
              " 'under': 221,\n",
              " 'ever': 222,\n",
              " 'sex': 223,\n",
              " 'national': 224,\n",
              " 'students': 225,\n",
              " 'mans': 226,\n",
              " 'couple': 227,\n",
              " 'ways': 228,\n",
              " 'climate': 229,\n",
              " 'bad': 230,\n",
              " 'money': 231,\n",
              " 'wont': 232,\n",
              " 'top': 233,\n",
              " 'season': 234,\n",
              " 'god': 235,\n",
              " 'two': 236,\n",
              " 'shows': 237,\n",
              " 'better': 238,\n",
              " 'give': 239,\n",
              " 'there': 240,\n",
              " 'story': 241,\n",
              " 'night': 242,\n",
              " 'media': 243,\n",
              " 'teen': 244,\n",
              " 'shooting': 245,\n",
              " 'had': 246,\n",
              " 'men': 247,\n",
              " 'were': 248,\n",
              " 'trying': 249,\n",
              " 'sexual': 250,\n",
              " 'reveals': 251,\n",
              " 'paul': 252,\n",
              " 'senate': 253,\n",
              " 'without': 254,\n",
              " 'away': 255,\n",
              " 'city': 256,\n",
              " 'supreme': 257,\n",
              " 'history': 258,\n",
              " 'old': 259,\n",
              " 'food': 260,\n",
              " 'announces': 261,\n",
              " 'making': 262,\n",
              " 'everyone': 263,\n",
              " 'children': 264,\n",
              " 'attack': 265,\n",
              " 'fight': 266,\n",
              " 'business': 267,\n",
              " 'any': 268,\n",
              " 'deal': 269,\n",
              " 'enough': 270,\n",
              " 'facebook': 271,\n",
              " 'york': 272,\n",
              " 'face': 273,\n",
              " 'movie': 274,\n",
              " 'end': 275,\n",
              " 'introduces': 276,\n",
              " 'great': 277,\n",
              " 'pope': 278,\n",
              " 'sanders': 279,\n",
              " 'part': 280,\n",
              " 'law': 281,\n",
              " 'does': 282,\n",
              " 'friend': 283,\n",
              " 'tell': 284,\n",
              " 'call': 285,\n",
              " 'tv': 286,\n",
              " 'former': 287,\n",
              " 'entire': 288,\n",
              " 'son': 289,\n",
              " 'fire': 290,\n",
              " 'wedding': 291,\n",
              " 'film': 292,\n",
              " 'found': 293,\n",
              " 'find': 294,\n",
              " 'book': 295,\n",
              " 'body': 296,\n",
              " 'government': 297,\n",
              " 'think': 298,\n",
              " 'come': 299,\n",
              " 'email': 300,\n",
              " 'girl': 301,\n",
              " 'pretty': 302,\n",
              " 'republican': 303,\n",
              " 'support': 304,\n",
              " 'speech': 305,\n",
              " 'single': 306,\n",
              " 'coming': 307,\n",
              " 'morning': 308,\n",
              " 'self': 309,\n",
              " 'photos': 310,\n",
              " 'presidential': 311,\n",
              " 'james': 312,\n",
              " 'car': 313,\n",
              " 'future': 314,\n",
              " 'republicans': 315,\n",
              " 'use': 316,\n",
              " 'keep': 317,\n",
              " 'power': 318,\n",
              " 'thinks': 319,\n",
              " 'public': 320,\n",
              " 'run': 321,\n",
              " 'very': 322,\n",
              " 'didnt': 323,\n",
              " 'rights': 324,\n",
              " 'christmas': 325,\n",
              " 'name': 326,\n",
              " 'already': 327,\n",
              " 'democrats': 328,\n",
              " 'talk': 329,\n",
              " 'case': 330,\n",
              " 'company': 331,\n",
              " 'fans': 332,\n",
              " 'marriage': 333,\n",
              " 'violence': 334,\n",
              " 'girls': 335,\n",
              " 'voters': 336,\n",
              " 'behind': 337,\n",
              " 'line': 338,\n",
              " 'im': 339,\n",
              " 'between': 340,\n",
              " 'releases': 341,\n",
              " 'worlds': 342,\n",
              " 'tax': 343,\n",
              " 'th': 344,\n",
              " 'race': 345,\n",
              " 'killed': 346,\n",
              " 'security': 347,\n",
              " 'vote': 348,\n",
              " 'human': 349,\n",
              " 'states': 350,\n",
              " 'something': 351,\n",
              " 'doing': 352,\n",
              " 'secret': 353,\n",
              " 'used': 354,\n",
              " 'goes': 355,\n",
              " 'having': 356,\n",
              " 'long': 357,\n",
              " 'might': 358,\n",
              " 'must': 359,\n",
              " 'group': 360,\n",
              " 'days': 361,\n",
              " 'asks': 362,\n",
              " 'free': 363,\n",
              " 'ban': 364,\n",
              " 'win': 365,\n",
              " 'bernie': 366,\n",
              " 'second': 367,\n",
              " 'twitter': 368,\n",
              " 'student': 369,\n",
              " 'team': 370,\n",
              " 'times': 371,\n",
              " 'boy': 372,\n",
              " 'open': 373,\n",
              " 'looking': 374,\n",
              " 'poll': 375,\n",
              " 'room': 376,\n",
              " 'department': 377,\n",
              " 'because': 378,\n",
              " 'ad': 379,\n",
              " 'once': 380,\n",
              " 'ryan': 381,\n",
              " 'sure': 382,\n",
              " 'middle': 383,\n",
              " 'each': 384,\n",
              " 'political': 385,\n",
              " 'inside': 386,\n",
              " 'teacher': 387,\n",
              " 'minutes': 388,\n",
              " 'claims': 389,\n",
              " 'control': 390,\n",
              " 'super': 391,\n",
              " 'judge': 392,\n",
              " 'art': 393,\n",
              " 'many': 394,\n",
              " 'country': 395,\n",
              " 'forced': 396,\n",
              " 'lets': 397,\n",
              " 'music': 398,\n",
              " 'perfect': 399,\n",
              " 'save': 400,\n",
              " 'meet': 401,\n",
              " 'plans': 402,\n",
              " 'missing': 403,\n",
              " 'running': 404,\n",
              " 'here': 405,\n",
              " 'unveils': 406,\n",
              " 'obamacare': 407,\n",
              " 'reports': 408,\n",
              " 'living': 409,\n",
              " 'everything': 410,\n",
              " 'same': 411,\n",
              " 'scientists': 412,\n",
              " 'social': 413,\n",
              " 'put': 414,\n",
              " 'wife': 415,\n",
              " 'youre': 416,\n",
              " 'tells': 417,\n",
              " 'california': 418,\n",
              " 'always': 419,\n",
              " 'justice': 420,\n",
              " 'photo': 421,\n",
              " 'person': 422,\n",
              " 'summer': 423,\n",
              " 'red': 424,\n",
              " 'dies': 425,\n",
              " 'until': 426,\n",
              " 'let': 427,\n",
              " 'texas': 428,\n",
              " 'female': 429,\n",
              " 'full': 430,\n",
              " 'looks': 431,\n",
              " 'talks': 432,\n",
              " 'candidate': 433,\n",
              " 'did': 434,\n",
              " 'pay': 435,\n",
              " 'ready': 436,\n",
              " 'comes': 437,\n",
              " 'head': 438,\n",
              " 'michael': 439,\n",
              " 'secretary': 440,\n",
              " 'employee': 441,\n",
              " 'mike': 442,\n",
              " 'mother': 443,\n",
              " 'needs': 444,\n",
              " 'warns': 445,\n",
              " 'water': 446,\n",
              " 'list': 447,\n",
              " 'father': 448,\n",
              " 'lives': 449,\n",
              " 'past': 450,\n",
              " 'admits': 451,\n",
              " 'taking': 452,\n",
              " 'wall': 453,\n",
              " 'ceo': 454,\n",
              " 'working': 455,\n",
              " 'womens': 456,\n",
              " 'cancer': 457,\n",
              " 'set': 458,\n",
              " 'wrong': 459,\n",
              " 'crisis': 460,\n",
              " 'record': 461,\n",
              " 'gives': 462,\n",
              " 'today': 463,\n",
              " 'biden': 464,\n",
              " 'idea': 465,\n",
              " 'thought': 466,\n",
              " 'kim': 467,\n",
              " 'letter': 468,\n",
              " 'george': 469,\n",
              " 'shot': 470,\n",
              " 'hot': 471,\n",
              " 'cruz': 472,\n",
              " 'wins': 473,\n",
              " 'stars': 474,\n",
              " 'left': 475,\n",
              " 'town': 476,\n",
              " 'heart': 477,\n",
              " 'hours': 478,\n",
              " 'dream': 479,\n",
              " 'probably': 480,\n",
              " 'start': 481,\n",
              " 'romney': 482,\n",
              " 'young': 483,\n",
              " 'meeting': 484,\n",
              " 'south': 485,\n",
              " 'korea': 486,\n",
              " 'lost': 487,\n",
              " 'daughter': 488,\n",
              " 'percent': 489,\n",
              " 'education': 490,\n",
              " 'tips': 491,\n",
              " 'service': 492,\n",
              " 'nothing': 493,\n",
              " 'moms': 494,\n",
              " 'fbi': 495,\n",
              " 'street': 496,\n",
              " 'month': 497,\n",
              " 'obamas': 498,\n",
              " 'place': 499,\n",
              " 'kill': 500,\n",
              " 'age': 501,\n",
              " 'three': 502,\n",
              " 'isis': 503,\n",
              " 'shes': 504,\n",
              " 'russia': 505,\n",
              " 'thousands': 506,\n",
              " 'breaking': 507,\n",
              " 'phone': 508,\n",
              " 'fucking': 509,\n",
              " 'few': 510,\n",
              " 'believe': 511,\n",
              " 'tweets': 512,\n",
              " 'together': 513,\n",
              " 'someone': 514,\n",
              " 'rock': 515,\n",
              " 'eating': 516,\n",
              " 'chief': 517,\n",
              " 'march': 518,\n",
              " 'yet': 519,\n",
              " 'washington': 520,\n",
              " 'officials': 521,\n",
              " 'restaurant': 522,\n",
              " 'administration': 523,\n",
              " 'talking': 524,\n",
              " 'online': 525,\n",
              " 'feel': 526,\n",
              " 'cat': 527,\n",
              " 'leaves': 528,\n",
              " 'ted': 529,\n",
              " 'francis': 530,\n",
              " 'questions': 531,\n",
              " 'military': 532,\n",
              " 'fan': 533,\n",
              " 'class': 534,\n",
              " 'guide': 535,\n",
              " 'order': 536,\n",
              " 'owner': 537,\n",
              " 'director': 538,\n",
              " 'months': 539,\n",
              " 'federal': 540,\n",
              " 'chris': 541,\n",
              " 'attacks': 542,\n",
              " 'birthday': 543,\n",
              " 'earth': 544,\n",
              " 'move': 545,\n",
              " 'whats': 546,\n",
              " 'internet': 547,\n",
              " 'giving': 548,\n",
              " 'air': 549,\n",
              " 'drug': 550,\n",
              " 'problem': 551,\n",
              " 'hollywood': 552,\n",
              " 'florida': 553,\n",
              " 'ask': 554,\n",
              " 'beautiful': 555,\n",
              " 'word': 556,\n",
              " 'small': 557,\n",
              " 'king': 558,\n",
              " 'reason': 559,\n",
              " 'sleep': 560,\n",
              " 'latest': 561,\n",
              " 'series': 562,\n",
              " 'happy': 563,\n",
              " 'nuclear': 564,\n",
              " 'americas': 565,\n",
              " 'congressman': 566,\n",
              " 'different': 567,\n",
              " 'assault': 568,\n",
              " 'buy': 569,\n",
              " 'personal': 570,\n",
              " 'rules': 571,\n",
              " 'less': 572,\n",
              " 'majority': 573,\n",
              " 'prison': 574,\n",
              " 'told': 575,\n",
              " 'democratic': 576,\n",
              " 'outside': 577,\n",
              " 'lot': 578,\n",
              " 'those': 579,\n",
              " 'shit': 580,\n",
              " 'moment': 581,\n",
              " 'isnt': 582,\n",
              " 'iran': 583,\n",
              " 'reasons': 584,\n",
              " 'leaders': 585,\n",
              " 'holiday': 586,\n",
              " 'fox': 587,\n",
              " 'community': 588,\n",
              " 'leave': 589,\n",
              " 'travel': 590,\n",
              " 'kind': 591,\n",
              " 'system': 592,\n",
              " 'rise': 593,\n",
              " 'hard': 594,\n",
              " 'play': 595,\n",
              " 'victims': 596,\n",
              " 'fun': 597,\n",
              " 'favorite': 598,\n",
              " 'mark': 599,\n",
              " 'issues': 600,\n",
              " 'interview': 601,\n",
              " 'relationship': 602,\n",
              " 'hell': 603,\n",
              " 'response': 604,\n",
              " 'jimmy': 605,\n",
              " 'huge': 606,\n",
              " 'box': 607,\n",
              " 'celebrates': 608,\n",
              " 'special': 609,\n",
              " 'mothers': 610,\n",
              " 'excited': 611,\n",
              " 'kid': 612,\n",
              " 'huffpost': 613,\n",
              " 'read': 614,\n",
              " 'immigration': 615,\n",
              " 'protest': 616,\n",
              " 'bar': 617,\n",
              " 'straight': 618,\n",
              " 'scott': 619,\n",
              " 'gift': 620,\n",
              " 'following': 621,\n",
              " 'hope': 622,\n",
              " 'cops': 623,\n",
              " 'using': 624,\n",
              " 'offers': 625,\n",
              " 'thinking': 626,\n",
              " 'message': 627,\n",
              " 'trailer': 628,\n",
              " 'well': 629,\n",
              " 'trip': 630,\n",
              " 'knows': 631,\n",
              " 'politics': 632,\n",
              " 'weekend': 633,\n",
              " 'ice': 634,\n",
              " 'watching': 635,\n",
              " 'candidates': 636,\n",
              " 'visit': 637,\n",
              " 'stephen': 638,\n",
              " 'muslim': 639,\n",
              " 'lessons': 640,\n",
              " 'david': 641,\n",
              " 'union': 642,\n",
              " 'hate': 643,\n",
              " 'tom': 644,\n",
              " 'since': 645,\n",
              " 'china': 646,\n",
              " 'hit': 647,\n",
              " 'russian': 648,\n",
              " 'cop': 649,\n",
              " 'st': 650,\n",
              " 'cover': 651,\n",
              " 'accused': 652,\n",
              " 'taylor': 653,\n",
              " 'front': 654,\n",
              " 'bring': 655,\n",
              " 'anything': 656,\n",
              " 'senator': 657,\n",
              " 'schools': 658,\n",
              " 'himself': 659,\n",
              " 'conversation': 660,\n",
              " 'hair': 661,\n",
              " 'millions': 662,\n",
              " 'un': 663,\n",
              " 'queer': 664,\n",
              " 'drunk': 665,\n",
              " 'least': 666,\n",
              " 'date': 667,\n",
              " 'employees': 668,\n",
              " 'chinese': 669,\n",
              " 'adorable': 670,\n",
              " 'birth': 671,\n",
              " 'words': 672,\n",
              " 'joe': 673,\n",
              " 'hour': 674,\n",
              " 'syria': 675,\n",
              " 'powerful': 676,\n",
              " 's': 677,\n",
              " 'theyre': 678,\n",
              " 'united': 679,\n",
              " 'reality': 680,\n",
              " 'leader': 681,\n",
              " 'mass': 682,\n",
              " 'billion': 683,\n",
              " 'become': 684,\n",
              " 'investigation': 685,\n",
              " 'opens': 686,\n",
              " 'whole': 687,\n",
              " 'third': 688,\n",
              " 'am': 689,\n",
              " 'theres': 690,\n",
              " 'learned': 691,\n",
              " 'break': 692,\n",
              " 'totally': 693,\n",
              " 'career': 694,\n",
              " 'true': 695,\n",
              " 'waiting': 696,\n",
              " 'returns': 697,\n",
              " 'early': 698,\n",
              " 'syrian': 699,\n",
              " 'massive': 700,\n",
              " 'almost': 701,\n",
              " 'wars': 702,\n",
              " 'fashion': 703,\n",
              " 'turn': 704,\n",
              " 'workers': 705,\n",
              " 'breaks': 706,\n",
              " 'point': 707,\n",
              " 'fall': 708,\n",
              " 'feels': 709,\n",
              " 'girlfriend': 710,\n",
              " 'policy': 711,\n",
              " 'stage': 712,\n",
              " 'die': 713,\n",
              " 'hits': 714,\n",
              " 'killing': 715,\n",
              " 'apple': 716,\n",
              " 'sports': 717,\n",
              " 'awards': 718,\n",
              " 'worried': 719,\n",
              " 'kills': 720,\n",
              " 'abortion': 721,\n",
              " 'iraq': 722,\n",
              " 'song': 723,\n",
              " 'wearing': 724,\n",
              " 'dance': 725,\n",
              " 'dating': 726,\n",
              " 'turns': 727,\n",
              " 'teens': 728,\n",
              " 'completely': 729,\n",
              " 'puts': 730,\n",
              " 'spends': 731,\n",
              " 'dinner': 732,\n",
              " 'vows': 733,\n",
              " 'sick': 734,\n",
              " 'late': 735,\n",
              " 'crash': 736,\n",
              " 'worst': 737,\n",
              " 'names': 738,\n",
              " 'final': 739,\n",
              " 'global': 740,\n",
              " 'weird': 741,\n",
              " 'signs': 742,\n",
              " 'sign': 743,\n",
              " 'murder': 744,\n",
              " 'host': 745,\n",
              " 'pence': 746,\n",
              " 'prince': 747,\n",
              " 'trans': 748,\n",
              " 'experience': 749,\n",
              " 'reportedly': 750,\n",
              " 'decision': 751,\n",
              " 'adds': 752,\n",
              " 'fighting': 753,\n",
              " 'surprise': 754,\n",
              " 'hands': 755,\n",
              " 'post': 756,\n",
              " 'transgender': 757,\n",
              " 'key': 758,\n",
              " 'anniversary': 759,\n",
              " 'moving': 760,\n",
              " 'seen': 761,\n",
              " 'called': 762,\n",
              " 'center': 763,\n",
              " 'force': 764,\n",
              " 'paris': 765,\n",
              " 'members': 766,\n",
              " 'advice': 767,\n",
              " 'bus': 768,\n",
              " 'road': 769,\n",
              " 'struggling': 770,\n",
              " 'discover': 771,\n",
              " 'nfl': 772,\n",
              " 'act': 773,\n",
              " 'across': 774,\n",
              " 'kardashian': 775,\n",
              " 'return': 776,\n",
              " 'keeps': 777,\n",
              " 'users': 778,\n",
              " 'official': 779,\n",
              " 'store': 780,\n",
              " 'fear': 781,\n",
              " 'lose': 782,\n",
              " 'longer': 783,\n",
              " 'voice': 784,\n",
              " 'rubio': 785,\n",
              " 'peace': 786,\n",
              " 'brings': 787,\n",
              " 'boys': 788,\n",
              " 'planned': 789,\n",
              " 'lead': 790,\n",
              " 'weeks': 791,\n",
              " 'walking': 792,\n",
              " 'important': 793,\n",
              " 'university': 794,\n",
              " 'reform': 795,\n",
              " 'coworker': 796,\n",
              " 'light': 797,\n",
              " 'ferguson': 798,\n",
              " 'industry': 799,\n",
              " 'suicide': 800,\n",
              " 'starting': 801,\n",
              " 'program': 802,\n",
              " 'artist': 803,\n",
              " 'oil': 804,\n",
              " 'coffee': 805,\n",
              " 'whether': 806,\n",
              " 'weight': 807,\n",
              " 'worth': 808,\n",
              " 'eat': 809,\n",
              " 'west': 810,\n",
              " 'oscars': 811,\n",
              " 'audience': 812,\n",
              " 'hoping': 813,\n",
              " 'steve': 814,\n",
              " 'jobs': 815,\n",
              " 'wait': 816,\n",
              " 'suspect': 817,\n",
              " 'harry': 818,\n",
              " 'given': 819,\n",
              " 'stand': 820,\n",
              " 'magazine': 821,\n",
              " 'question': 822,\n",
              " 'band': 823,\n",
              " 'biggest': 824,\n",
              " 'hall': 825,\n",
              " 'nyc': 826,\n",
              " 'which': 827,\n",
              " 'major': 828,\n",
              " 'michelle': 829,\n",
              " 'beauty': 830,\n",
              " 'risk': 831,\n",
              " 'remember': 832,\n",
              " 'chicago': 833,\n",
              " 'possible': 834,\n",
              " 'test': 835,\n",
              " 'apartment': 836,\n",
              " 'governor': 837,\n",
              " 'iowa': 838,\n",
              " 'executive': 839,\n",
              " 'success': 840,\n",
              " 'mind': 841,\n",
              " 'chance': 842,\n",
              " 'amazon': 843,\n",
              " 'protesters': 844,\n",
              " 'ideas': 845,\n",
              " 'refugees': 846,\n",
              " 'williams': 847,\n",
              " 'abuse': 848,\n",
              " 'clearly': 849,\n",
              " 'role': 850,\n",
              " 'supporters': 851,\n",
              " 'google': 852,\n",
              " 'hurricane': 853,\n",
              " 'space': 854,\n",
              " 'moore': 855,\n",
              " 'carolina': 856,\n",
              " 'allegations': 857,\n",
              " 'halloween': 858,\n",
              " 'poor': 859,\n",
              " 'five': 860,\n",
              " 'planet': 861,\n",
              " 'hand': 862,\n",
              " 'playing': 863,\n",
              " 'cool': 864,\n",
              " 'mental': 865,\n",
              " 'try': 866,\n",
              " 'cut': 867,\n",
              " 'tour': 868,\n",
              " 'hear': 869,\n",
              " 'demands': 870,\n",
              " 'press': 871,\n",
              " 'wishes': 872,\n",
              " 'green': 873,\n",
              " 'problems': 874,\n",
              " 'asking': 875,\n",
              " 'celebrate': 876,\n",
              " 'push': 877,\n",
              " 'fuck': 878,\n",
              " 'oscar': 879,\n",
              " 'park': 880,\n",
              " 'far': 881,\n",
              " 'homeless': 882,\n",
              " 'plane': 883,\n",
              " 'football': 884,\n",
              " 'eyes': 885,\n",
              " 'general': 886,\n",
              " 'jr': 887,\n",
              " 'doctor': 888,\n",
              " 'vacation': 889,\n",
              " 'throws': 890,\n",
              " 'ben': 891,\n",
              " 'table': 892,\n",
              " 'hilarious': 893,\n",
              " 'pregnant': 894,\n",
              " 'dying': 895,\n",
              " 'colbert': 896,\n",
              " 'side': 897,\n",
              " 'urges': 898,\n",
              " 'reveal': 899,\n",
              " 'simple': 900,\n",
              " 'economy': 901,\n",
              " 'emotional': 902,\n",
              " 'robert': 903,\n",
              " 'building': 904,\n",
              " 'learn': 905,\n",
              " 'number': 906,\n",
              " 'minute': 907,\n",
              " 'rest': 908,\n",
              " 'album': 909,\n",
              " 'church': 910,\n",
              " 'begins': 911,\n",
              " 'deadly': 912,\n",
              " 'happened': 913,\n",
              " 'uses': 914,\n",
              " 'families': 915,\n",
              " 'card': 916,\n",
              " 'kerry': 917,\n",
              " 'picture': 918,\n",
              " 'marijuana': 919,\n",
              " 'fails': 920,\n",
              " 'sean': 921,\n",
              " 'voter': 922,\n",
              " 'proud': 923,\n",
              " 'humans': 924,\n",
              " 'board': 925,\n",
              " 'shares': 926,\n",
              " 'leads': 927,\n",
              " 'feeling': 928,\n",
              " 'suggests': 929,\n",
              " 'amazing': 930,\n",
              " 'results': 931,\n",
              " 'guys': 932,\n",
              " 'worse': 933,\n",
              " 'check': 934,\n",
              " 'queen': 935,\n",
              " 'jenner': 936,\n",
              " 'racist': 937,\n",
              " 'arrested': 938,\n",
              " 'driving': 939,\n",
              " 'male': 940,\n",
              " 'leaving': 941,\n",
              " 'address': 942,\n",
              " 'performance': 943,\n",
              " 'receives': 944,\n",
              " 'amid': 945,\n",
              " 'epa': 946,\n",
              " 'finding': 947,\n",
              " 'door': 948,\n",
              " 'movies': 949,\n",
              " 'officer': 950,\n",
              " 'netflix': 951,\n",
              " 'easy': 952,\n",
              " 'desperate': 953,\n",
              " 'hero': 954,\n",
              " 'quietly': 955,\n",
              " 'data': 956,\n",
              " 'cnn': 957,\n",
              " 'demand': 958,\n",
              " 'website': 959,\n",
              " 'explains': 960,\n",
              " 'older': 961,\n",
              " 'lgbt': 962,\n",
              " 'pizza': 963,\n",
              " 'close': 964,\n",
              " 'rally': 965,\n",
              " 'sales': 966,\n",
              " 'apparently': 967,\n",
              " 'dads': 968,\n",
              " 'went': 969,\n",
              " 'chicken': 970,\n",
              " 'dogs': 971,\n",
              " 'opening': 972,\n",
              " 'mean': 973,\n",
              " 'said': 974,\n",
              " 'apologizes': 975,\n",
              " 'teachers': 976,\n",
              " 'culture': 977,\n",
              " 'elizabeth': 978,\n",
              " 'ebola': 979,\n",
              " 'responds': 980,\n",
              " 'done': 981,\n",
              " 'matter': 982,\n",
              " 'documentary': 983,\n",
              " 'near': 984,\n",
              " 'boss': 985,\n",
              " 'steps': 986,\n",
              " 'snl': 987,\n",
              " 'fake': 988,\n",
              " 'religious': 989,\n",
              " 'bathroom': 990,\n",
              " 'bowl': 991,\n",
              " 'spring': 992,\n",
              " 'repeal': 993,\n",
              " 'shop': 994,\n",
              " 'harassment': 995,\n",
              " 'israel': 996,\n",
              " 'dark': 997,\n",
              " 'likely': 998,\n",
              " 'east': 999,\n",
              " 'leading': 1000,\n",
              " ...}"
            ]
          },
          "metadata": {
            "tags": []
          },
          "execution_count": 25
        }
      ]
    },
    {
      "cell_type": "markdown",
      "metadata": {
        "id": "VRiNX58Rb3oJ"
      },
      "source": [
        "### Set number of words\n",
        "- Since the above 0th index doesn't have a word, add 1 to the length of the vocabulary"
      ]
    },
    {
      "cell_type": "code",
      "metadata": {
        "id": "Dfwq6ou8ck2f",
        "colab": {
          "base_uri": "https://localhost:8080/"
        },
        "outputId": "a9537d61-ce3c-42b4-b807-c800b54dba2c"
      },
      "source": [
        "num_words = len(tokenizer.word_index) + 1\n",
        "print(num_words)"
      ],
      "execution_count": 26,
      "outputs": [
        {
          "output_type": "stream",
          "text": [
            "27630\n"
          ],
          "name": "stdout"
        }
      ]
    },
    {
      "cell_type": "code",
      "metadata": {
        "colab": {
          "base_uri": "https://localhost:8080/"
        },
        "id": "URCLuRGqUb4J",
        "outputId": "d5395c70-a3c0-46d0-8c4c-4ee619182e63"
      },
      "source": [
        "print('Found %s word vectors.' % len(embeddings))\r\n"
      ],
      "execution_count": 28,
      "outputs": [
        {
          "output_type": "stream",
          "text": [
            "Found 400000 word vectors.\n"
          ],
          "name": "stdout"
        }
      ]
    },
    {
      "cell_type": "markdown",
      "metadata": {
        "id": "bUF1TuQa8ux0"
      },
      "source": [
        "### Load Glove Word Embeddings \n",
        "\n",
        "\n",
        "\n",
        "```\n",
        "# This is formatted as code\n",
        "```\n",
        "\n",
        "\n"
      ]
    },
    {
      "cell_type": "markdown",
      "metadata": {
        "id": "prHSzdQUcZhm"
      },
      "source": [
        "### Create embedding matrix"
      ]
    },
    {
      "cell_type": "code",
      "metadata": {
        "id": "elZ-T5aFGZmZ"
      },
      "source": [
        "EMBEDDING_FILE = './glove.6B.200d.txt'\n",
        "\n",
        "embeddings = {}\n",
        "for o in open(EMBEDDING_FILE):\n",
        "    word = o.split(\" \")[0]\n",
        "    # print(word)\n",
        "    embd = o.split(\" \")[1:]\n",
        "    embd = np.asarray(embd, dtype='float32')\n",
        "    # print(embd)\n",
        "    embeddings[word] = embd\n",
        "\n",
        "# create a weight matrix for words in training docs\n",
        "embedding_matrix = np.zeros((num_words, 200))\n",
        "\n",
        "for word, i in tokenizer.word_index.items():\n",
        "\tembedding_vector = embeddings.get(word)\n",
        "\tif embedding_vector is not None:\n",
        "\t\tembedding_matrix[i] = embedding_vector"
      ],
      "execution_count": 27,
      "outputs": []
    },
    {
      "cell_type": "markdown",
      "metadata": {
        "id": "u7IbWuEX82Ra"
      },
      "source": [
        "### Define model \n",
        "- Hint: Use Sequential model instance and then add Embedding layer, Bidirectional(LSTM) layer, flatten it, then dense and dropout layers as required. \n",
        "In the end add a final dense layer with sigmoid activation for binary classification."
      ]
    },
    {
      "cell_type": "code",
      "metadata": {
        "id": "IS961vWSUrj1"
      },
      "source": [
        "#forming embedding layer and assigning weights calculated from the Glove object\r\n",
        "embedding_layer = Embedding(num_words,\r\n",
        "                            embedding_size,\r\n",
        "                            weights=[embedding_matrix],\r\n",
        "                            input_length=maxlen,\r\n",
        "                            trainable=False)"
      ],
      "execution_count": 29,
      "outputs": []
    },
    {
      "cell_type": "code",
      "metadata": {
        "id": "unUQIMx95agH",
        "outputId": "e60620e0-e9f6-44b6-d36e-a674db034c73",
        "colab": {
          "base_uri": "https://localhost:8080/"
        }
      },
      "source": [
        "#model3, using 2 bidirectional LSTM with reutrn sequences\r\n",
        "model = Sequential()\r\n",
        "model.add(embedding_layer)\r\n",
        "#model.add(tf.keras.layers.SpatialDropout1D(0.3))\r\n",
        "model.add(Bidirectional(LSTM(400, return_sequences = True,dropout=0.2, recurrent_dropout=0.25) , merge_mode ='sum'))\r\n",
        "#model.add(Bidirectional(LSTM(150, return_sequences = True) , merge_mode ='concat'))\r\n",
        "model.add(Bidirectional(LSTM(100, dropout=0.2, recurrent_dropout=0.25) , merge_mode ='sum'))\r\n",
        "model.add(Flatten())\r\n",
        "model.add(Dense(100, activation='relu'))\r\n",
        "model.add(Dropout(0.2))\r\n",
        "model.add(Dense(1, activation='sigmoid'))\r\n",
        "model.compile(loss='binary_crossentropy', optimizer='adam', metrics=['acc'])\r\n",
        "history = model.fit(lines_pad, sentiment, batch_size=100, epochs=25, verbose=2)\r\n"
      ],
      "execution_count": 32,
      "outputs": [
        {
          "output_type": "stream",
          "text": [
            "WARNING:tensorflow:Layer lstm_2 will not use cuDNN kernel since it doesn't meet the cuDNN kernel criteria. It will use generic GPU kernel as fallback when running on GPU\n",
            "WARNING:tensorflow:Layer lstm_2 will not use cuDNN kernel since it doesn't meet the cuDNN kernel criteria. It will use generic GPU kernel as fallback when running on GPU\n",
            "WARNING:tensorflow:Layer lstm_2 will not use cuDNN kernel since it doesn't meet the cuDNN kernel criteria. It will use generic GPU kernel as fallback when running on GPU\n",
            "WARNING:tensorflow:Layer lstm_3 will not use cuDNN kernel since it doesn't meet the cuDNN kernel criteria. It will use generic GPU kernel as fallback when running on GPU\n",
            "WARNING:tensorflow:Layer lstm_3 will not use cuDNN kernel since it doesn't meet the cuDNN kernel criteria. It will use generic GPU kernel as fallback when running on GPU\n",
            "WARNING:tensorflow:Layer lstm_3 will not use cuDNN kernel since it doesn't meet the cuDNN kernel criteria. It will use generic GPU kernel as fallback when running on GPU\n",
            "Epoch 1/25\n",
            "268/268 - 94s - loss: 0.4830 - acc: 0.7652\n",
            "Epoch 2/25\n",
            "268/268 - 87s - loss: 0.3690 - acc: 0.8357\n",
            "Epoch 3/25\n",
            "268/268 - 87s - loss: 0.3121 - acc: 0.8661\n",
            "Epoch 4/25\n",
            "268/268 - 87s - loss: 0.2708 - acc: 0.8869\n",
            "Epoch 5/25\n",
            "268/268 - 86s - loss: 0.2262 - acc: 0.9040\n",
            "Epoch 6/25\n",
            "268/268 - 87s - loss: 0.1918 - acc: 0.9221\n",
            "Epoch 7/25\n",
            "268/268 - 91s - loss: 0.1583 - acc: 0.9372\n",
            "Epoch 8/25\n",
            "268/268 - 89s - loss: 0.1297 - acc: 0.9475\n",
            "Epoch 9/25\n",
            "268/268 - 87s - loss: 0.1031 - acc: 0.9588\n",
            "Epoch 10/25\n",
            "268/268 - 87s - loss: 0.0865 - acc: 0.9666\n",
            "Epoch 11/25\n",
            "268/268 - 87s - loss: 0.0658 - acc: 0.9748\n",
            "Epoch 12/25\n",
            "268/268 - 87s - loss: 0.0590 - acc: 0.9774\n",
            "Epoch 13/25\n",
            "268/268 - 88s - loss: 0.0453 - acc: 0.9822\n",
            "Epoch 14/25\n",
            "268/268 - 88s - loss: 0.0414 - acc: 0.9848\n",
            "Epoch 15/25\n",
            "268/268 - 88s - loss: 0.0436 - acc: 0.9842\n",
            "Epoch 16/25\n",
            "268/268 - 87s - loss: 0.0298 - acc: 0.9893\n",
            "Epoch 17/25\n",
            "268/268 - 88s - loss: 0.0280 - acc: 0.9900\n",
            "Epoch 18/25\n",
            "268/268 - 89s - loss: 0.0268 - acc: 0.9904\n",
            "Epoch 19/25\n",
            "268/268 - 87s - loss: 0.0222 - acc: 0.9925\n",
            "Epoch 20/25\n",
            "268/268 - 87s - loss: 0.0279 - acc: 0.9898\n",
            "Epoch 21/25\n",
            "268/268 - 88s - loss: 0.0247 - acc: 0.9913\n",
            "Epoch 22/25\n",
            "268/268 - 88s - loss: 0.0222 - acc: 0.9923\n",
            "Epoch 23/25\n",
            "268/268 - 88s - loss: 0.0213 - acc: 0.9925\n",
            "Epoch 24/25\n",
            "268/268 - 88s - loss: 0.0172 - acc: 0.9942\n",
            "Epoch 25/25\n",
            "268/268 - 88s - loss: 0.0171 - acc: 0.9935\n"
          ],
          "name": "stdout"
        }
      ]
    },
    {
      "cell_type": "code",
      "metadata": {
        "id": "NwjJAXIHXYec"
      },
      "source": [
        "Model accuracy on training data is 99%"
      ],
      "execution_count": null,
      "outputs": []
    },
    {
      "cell_type": "markdown",
      "metadata": {
        "id": "9wZIj-EaXYzg"
      },
      "source": [
        ""
      ]
    },
    {
      "cell_type": "code",
      "metadata": {
        "id": "lsbFrwAb8p-v",
        "outputId": "a606a0ca-2e4a-4ff5-fd18-10ece490b6cf",
        "colab": {
          "base_uri": "https://localhost:8080/"
        }
      },
      "source": [
        "model1.summary()"
      ],
      "execution_count": 38,
      "outputs": [
        {
          "output_type": "stream",
          "text": [
            "Model: \"sequential_1\"\n",
            "_________________________________________________________________\n",
            "Layer (type)                 Output Shape              Param #   \n",
            "=================================================================\n",
            "embedding (Embedding)        (None, 25, 200)           5526000   \n",
            "_________________________________________________________________\n",
            "spatial_dropout1d_1 (Spatial (None, 25, 200)           0         \n",
            "_________________________________________________________________\n",
            "bidirectional_1 (Bidirection (None, 400)               641600    \n",
            "_________________________________________________________________\n",
            "flatten_1 (Flatten)          (None, 400)               0         \n",
            "_________________________________________________________________\n",
            "dense_2 (Dense)              (None, 200)               80200     \n",
            "_________________________________________________________________\n",
            "dropout_1 (Dropout)          (None, 200)               0         \n",
            "_________________________________________________________________\n",
            "dense_3 (Dense)              (None, 1)                 201       \n",
            "=================================================================\n",
            "Total params: 6,248,001\n",
            "Trainable params: 722,001\n",
            "Non-trainable params: 5,526,000\n",
            "_________________________________________________________________\n"
          ],
          "name": "stdout"
        }
      ]
    },
    {
      "cell_type": "code",
      "metadata": {
        "id": "zo85I8OLURjJ"
      },
      "source": [
        "#forming train,test data to check model accuracy on validation data\r\n",
        "from sklearn.model_selection import train_test_split\r\n",
        "X_train, X_test,y_train,y_test = train_test_split(lines_pad,sentiment,test_size=0.20,random_state=45)"
      ],
      "execution_count": 34,
      "outputs": []
    },
    {
      "cell_type": "code",
      "metadata": {
        "id": "N875wn21VImf"
      },
      "source": [
        "#creating sequential model\r\n",
        "#using one bidirectional LSTM without return sequence\r\n",
        "#model1\r\n",
        "model = Sequential()\r\n",
        "model.add(embedding_layer)\r\n",
        "model.add(tf.keras.layers.SpatialDropout1D(0.3))\r\n",
        "model.add(Bidirectional(LSTM(embedding_size, dropout=0.2, recurrent_dropout=0.25)))\r\n",
        "model.add(Flatten())\r\n",
        "model.add(Dense(embedding_size, activation='relu'))\r\n",
        "model.add(Dropout(0.5))\r\n",
        "model.add(Dense(1, activation='sigmoid'))\r\n"
      ],
      "execution_count": null,
      "outputs": []
    },
    {
      "cell_type": "code",
      "metadata": {
        "colab": {
          "base_uri": "https://localhost:8080/"
        },
        "id": "TNZ8yELVUUul",
        "outputId": "15267656-7820-4ac7-ed28-0257baf8145a"
      },
      "source": [
        "print('Shape of X_train_pad:', X_train.shape)\r\n",
        "print('Shape of y_train:', y_train.shape)\r\n",
        "\r\n",
        "print('Shape of X_test_pad:', X_test.shape)\r\n",
        "print('Shape of y_test:', y_test.shape)"
      ],
      "execution_count": 35,
      "outputs": [
        {
          "output_type": "stream",
          "text": [
            "Shape of X_train_pad: (21367, 25)\n",
            "Shape of y_train: (21367,)\n",
            "Shape of X_test_pad: (5342, 25)\n",
            "Shape of y_test: (5342,)\n"
          ],
          "name": "stdout"
        }
      ]
    },
    {
      "cell_type": "code",
      "metadata": {
        "id": "-jJiPHeNoJ3U",
        "colab": {
          "base_uri": "https://localhost:8080/"
        },
        "outputId": "b16b2719-e245-4c30-e25e-834c0fc8db98"
      },
      "source": [
        "\r\n",
        "#compiling the model\r\n",
        "model.compile(loss='binary_crossentropy', optimizer='adam', metrics=['acc'])\r\n",
        "\r\n",
        "print('Summary of the built model...')\r\n",
        "print(model.summary())"
      ],
      "execution_count": 68,
      "outputs": [
        {
          "output_type": "stream",
          "text": [
            "Summary of the built model...\n",
            "Model: \"sequential_3\"\n",
            "_________________________________________________________________\n",
            "Layer (type)                 Output Shape              Param #   \n",
            "=================================================================\n",
            "embedding_1 (Embedding)      (None, 25, 200)           5526000   \n",
            "_________________________________________________________________\n",
            "spatial_dropout1d_3 (Spatial (None, 25, 200)           0         \n",
            "_________________________________________________________________\n",
            "bidirectional_3 (Bidirection (None, 400)               641600    \n",
            "_________________________________________________________________\n",
            "flatten_1 (Flatten)          (None, 400)               0         \n",
            "_________________________________________________________________\n",
            "dense_4 (Dense)              (None, 200)               80200     \n",
            "_________________________________________________________________\n",
            "dropout_2 (Dropout)          (None, 200)               0         \n",
            "_________________________________________________________________\n",
            "dense_5 (Dense)              (None, 1)                 201       \n",
            "=================================================================\n",
            "Total params: 6,248,001\n",
            "Trainable params: 722,001\n",
            "Non-trainable params: 5,526,000\n",
            "_________________________________________________________________\n",
            "None\n"
          ],
          "name": "stdout"
        }
      ]
    },
    {
      "cell_type": "markdown",
      "metadata": {
        "id": "7s4nmqcecw3a"
      },
      "source": [
        "### Fit the model "
      ]
    },
    {
      "cell_type": "code",
      "metadata": {
        "colab": {
          "base_uri": "https://localhost:8080/"
        },
        "id": "hZgz3F_6V1pS",
        "outputId": "274173fd-2199-4a6e-edbe-731ce87f6594"
      },
      "source": [
        "history = model.fit(X_train, y_train, batch_size=100, epochs=25, validation_data=(X_test, y_test), verbose=2)\r\n"
      ],
      "execution_count": 69,
      "outputs": [
        {
          "output_type": "stream",
          "text": [
            "Epoch 1/25\n",
            "214/214 - 45s - loss: 0.5457 - acc: 0.7167 - val_loss: 0.4341 - val_acc: 0.7995\n",
            "Epoch 2/25\n",
            "214/214 - 40s - loss: 0.4402 - acc: 0.7931 - val_loss: 0.3775 - val_acc: 0.8265\n",
            "Epoch 3/25\n",
            "214/214 - 41s - loss: 0.3809 - acc: 0.8336 - val_loss: 0.3937 - val_acc: 0.8162\n",
            "Epoch 4/25\n",
            "214/214 - 40s - loss: 0.3436 - acc: 0.8489 - val_loss: 0.3108 - val_acc: 0.8611\n",
            "Epoch 5/25\n",
            "214/214 - 40s - loss: 0.3164 - acc: 0.8618 - val_loss: 0.3173 - val_acc: 0.8637\n",
            "Epoch 6/25\n",
            "214/214 - 39s - loss: 0.2908 - acc: 0.8728 - val_loss: 0.3143 - val_acc: 0.8652\n",
            "Epoch 7/25\n",
            "214/214 - 40s - loss: 0.2655 - acc: 0.8869 - val_loss: 0.3276 - val_acc: 0.8609\n",
            "Epoch 8/25\n",
            "214/214 - 40s - loss: 0.2481 - acc: 0.8943 - val_loss: 0.3140 - val_acc: 0.8701\n",
            "Epoch 9/25\n",
            "214/214 - 40s - loss: 0.2262 - acc: 0.9061 - val_loss: 0.3136 - val_acc: 0.8738\n",
            "Epoch 10/25\n",
            "214/214 - 41s - loss: 0.2071 - acc: 0.9142 - val_loss: 0.3238 - val_acc: 0.8662\n",
            "Epoch 11/25\n",
            "214/214 - 41s - loss: 0.1896 - acc: 0.9229 - val_loss: 0.3141 - val_acc: 0.8757\n",
            "Epoch 12/25\n",
            "214/214 - 40s - loss: 0.1746 - acc: 0.9292 - val_loss: 0.3244 - val_acc: 0.8733\n",
            "Epoch 13/25\n",
            "214/214 - 40s - loss: 0.1655 - acc: 0.9334 - val_loss: 0.3389 - val_acc: 0.8738\n",
            "Epoch 14/25\n",
            "214/214 - 40s - loss: 0.1550 - acc: 0.9402 - val_loss: 0.3557 - val_acc: 0.8744\n",
            "Epoch 15/25\n",
            "214/214 - 40s - loss: 0.1424 - acc: 0.9433 - val_loss: 0.3654 - val_acc: 0.8710\n",
            "Epoch 16/25\n",
            "214/214 - 40s - loss: 0.1334 - acc: 0.9459 - val_loss: 0.3462 - val_acc: 0.8778\n",
            "Epoch 17/25\n",
            "214/214 - 40s - loss: 0.1218 - acc: 0.9519 - val_loss: 0.3642 - val_acc: 0.8789\n",
            "Epoch 18/25\n",
            "214/214 - 40s - loss: 0.1186 - acc: 0.9530 - val_loss: 0.3711 - val_acc: 0.8817\n",
            "Epoch 19/25\n",
            "214/214 - 40s - loss: 0.1052 - acc: 0.9576 - val_loss: 0.3828 - val_acc: 0.8781\n",
            "Epoch 20/25\n",
            "214/214 - 40s - loss: 0.1032 - acc: 0.9594 - val_loss: 0.4166 - val_acc: 0.8798\n",
            "Epoch 21/25\n",
            "214/214 - 40s - loss: 0.0991 - acc: 0.9616 - val_loss: 0.4085 - val_acc: 0.8765\n",
            "Epoch 22/25\n",
            "214/214 - 41s - loss: 0.0910 - acc: 0.9649 - val_loss: 0.4227 - val_acc: 0.8800\n",
            "Epoch 23/25\n",
            "214/214 - 40s - loss: 0.0857 - acc: 0.9677 - val_loss: 0.4538 - val_acc: 0.8806\n",
            "Epoch 24/25\n",
            "214/214 - 39s - loss: 0.0852 - acc: 0.9688 - val_loss: 0.4319 - val_acc: 0.8733\n",
            "Epoch 25/25\n",
            "214/214 - 41s - loss: 0.0786 - acc: 0.9717 - val_loss: 0.4747 - val_acc: 0.8802\n"
          ],
          "name": "stdout"
        }
      ]
    },
    {
      "cell_type": "markdown",
      "metadata": {
        "id": "37QpT9cKXgaf"
      },
      "source": [
        "model accuracy on validation data is 88%"
      ]
    },
    {
      "cell_type": "code",
      "metadata": {
        "colab": {
          "base_uri": "https://localhost:8080/"
        },
        "id": "Xx3DQ4cptjYS",
        "outputId": "f019b2f2-6071-4d3c-e329-cc9e2af181d8"
      },
      "source": [
        "#model3, using 2 bidirectional LSTM with reutrn sequences and merge mode as sum\r\n",
        "model = Sequential()\r\n",
        "model.add(embedding_layer)\r\n",
        "#model.add(tf.keras.layers.SpatialDropout1D(0.3))\r\n",
        "model.add(Bidirectional(LSTM(400, return_sequences = True,dropout=0.2, recurrent_dropout=0.25) , merge_mode ='sum'))\r\n",
        "#model.add(Bidirectional(LSTM(150, return_sequences = True) , merge_mode ='concat'))\r\n",
        "model.add(Bidirectional(LSTM(100, dropout=0.2, recurrent_dropout=0.25) , merge_mode ='sum'))\r\n",
        "model.add(Flatten())\r\n",
        "model.add(Dense(100, activation='relu'))\r\n",
        "model.add(Dropout(0.2))\r\n",
        "model.add(Dense(1, activation='sigmoid'))\r\n",
        "model.compile(loss='binary_crossentropy', optimizer='adam', metrics=['acc'])\r\n",
        "history = model.fit(X_train, y_train, batch_size=100, epochs=20, validation_data=(X_test, y_test), verbose=2)"
      ],
      "execution_count": 36,
      "outputs": [
        {
          "output_type": "stream",
          "text": [
            "WARNING:tensorflow:Layer lstm_6 will not use cuDNN kernel since it doesn't meet the cuDNN kernel criteria. It will use generic GPU kernel as fallback when running on GPU\n",
            "WARNING:tensorflow:Layer lstm_6 will not use cuDNN kernel since it doesn't meet the cuDNN kernel criteria. It will use generic GPU kernel as fallback when running on GPU\n",
            "WARNING:tensorflow:Layer lstm_6 will not use cuDNN kernel since it doesn't meet the cuDNN kernel criteria. It will use generic GPU kernel as fallback when running on GPU\n",
            "WARNING:tensorflow:Layer lstm_7 will not use cuDNN kernel since it doesn't meet the cuDNN kernel criteria. It will use generic GPU kernel as fallback when running on GPU\n",
            "WARNING:tensorflow:Layer lstm_7 will not use cuDNN kernel since it doesn't meet the cuDNN kernel criteria. It will use generic GPU kernel as fallback when running on GPU\n",
            "WARNING:tensorflow:Layer lstm_7 will not use cuDNN kernel since it doesn't meet the cuDNN kernel criteria. It will use generic GPU kernel as fallback when running on GPU\n",
            "Epoch 1/20\n",
            "214/214 - 82s - loss: 0.5033 - acc: 0.7505 - val_loss: 0.4078 - val_acc: 0.8079\n",
            "Epoch 2/20\n",
            "214/214 - 75s - loss: 0.3845 - acc: 0.8256 - val_loss: 0.3772 - val_acc: 0.8308\n",
            "Epoch 3/20\n",
            "214/214 - 73s - loss: 0.3222 - acc: 0.8606 - val_loss: 0.3772 - val_acc: 0.8330\n",
            "Epoch 4/20\n",
            "214/214 - 74s - loss: 0.2827 - acc: 0.8802 - val_loss: 0.3210 - val_acc: 0.8568\n",
            "Epoch 5/20\n",
            "214/214 - 73s - loss: 0.2383 - acc: 0.9000 - val_loss: 0.3260 - val_acc: 0.8624\n",
            "Epoch 6/20\n",
            "214/214 - 73s - loss: 0.2022 - acc: 0.9167 - val_loss: 0.3282 - val_acc: 0.8686\n",
            "Epoch 7/20\n",
            "214/214 - 73s - loss: 0.1658 - acc: 0.9329 - val_loss: 0.3575 - val_acc: 0.8581\n",
            "Epoch 8/20\n",
            "214/214 - 73s - loss: 0.1337 - acc: 0.9472 - val_loss: 0.3767 - val_acc: 0.8663\n",
            "Epoch 9/20\n",
            "214/214 - 73s - loss: 0.1130 - acc: 0.9562 - val_loss: 0.4185 - val_acc: 0.8611\n",
            "Epoch 10/20\n",
            "214/214 - 73s - loss: 0.0846 - acc: 0.9671 - val_loss: 0.4980 - val_acc: 0.8534\n",
            "Epoch 11/20\n",
            "214/214 - 73s - loss: 0.0729 - acc: 0.9715 - val_loss: 0.5041 - val_acc: 0.8602\n",
            "Epoch 12/20\n",
            "214/214 - 73s - loss: 0.0567 - acc: 0.9785 - val_loss: 0.5653 - val_acc: 0.8590\n",
            "Epoch 13/20\n",
            "214/214 - 73s - loss: 0.0528 - acc: 0.9809 - val_loss: 0.5688 - val_acc: 0.8626\n",
            "Epoch 14/20\n",
            "214/214 - 73s - loss: 0.0415 - acc: 0.9839 - val_loss: 0.5882 - val_acc: 0.8643\n",
            "Epoch 15/20\n",
            "214/214 - 74s - loss: 0.0404 - acc: 0.9853 - val_loss: 0.5700 - val_acc: 0.8632\n",
            "Epoch 16/20\n",
            "214/214 - 74s - loss: 0.0327 - acc: 0.9889 - val_loss: 0.6158 - val_acc: 0.8648\n",
            "Epoch 17/20\n",
            "214/214 - 73s - loss: 0.0291 - acc: 0.9902 - val_loss: 0.6224 - val_acc: 0.8647\n",
            "Epoch 18/20\n",
            "214/214 - 74s - loss: 0.0284 - acc: 0.9897 - val_loss: 0.6134 - val_acc: 0.8684\n",
            "Epoch 19/20\n",
            "214/214 - 74s - loss: 0.0274 - acc: 0.9901 - val_loss: 0.6321 - val_acc: 0.8665\n",
            "Epoch 20/20\n",
            "214/214 - 73s - loss: 0.0222 - acc: 0.9922 - val_loss: 0.6430 - val_acc: 0.8654\n"
          ],
          "name": "stdout"
        }
      ]
    },
    {
      "cell_type": "code",
      "metadata": {
        "colab": {
          "base_uri": "https://localhost:8080/"
        },
        "id": "f-T-HT5har-n",
        "outputId": "ff93f405-f376-4249-e56d-0a2cbe8299b9"
      },
      "source": [
        "model.summary()"
      ],
      "execution_count": 37,
      "outputs": [
        {
          "output_type": "stream",
          "text": [
            "Model: \"sequential_4\"\n",
            "_________________________________________________________________\n",
            "Layer (type)                 Output Shape              Param #   \n",
            "=================================================================\n",
            "embedding (Embedding)        (None, 25, 200)           5526000   \n",
            "_________________________________________________________________\n",
            "bidirectional_6 (Bidirection (None, 25, 400)           1923200   \n",
            "_________________________________________________________________\n",
            "bidirectional_7 (Bidirection (None, 100)               400800    \n",
            "_________________________________________________________________\n",
            "flatten_4 (Flatten)          (None, 100)               0         \n",
            "_________________________________________________________________\n",
            "dense_8 (Dense)              (None, 100)               10100     \n",
            "_________________________________________________________________\n",
            "dropout_4 (Dropout)          (None, 100)               0         \n",
            "_________________________________________________________________\n",
            "dense_9 (Dense)              (None, 1)                 101       \n",
            "=================================================================\n",
            "Total params: 7,860,201\n",
            "Trainable params: 2,334,201\n",
            "Non-trainable params: 5,526,000\n",
            "_________________________________________________________________\n"
          ],
          "name": "stdout"
        }
      ]
    },
    {
      "cell_type": "markdown",
      "metadata": {
        "id": "RrWY83ArYMj2"
      },
      "source": [
        "Validation accuracy is 88%"
      ]
    },
    {
      "cell_type": "code",
      "metadata": {
        "colab": {
          "base_uri": "https://localhost:8080/",
          "height": 545
        },
        "id": "AdY5oAG_Xyq_",
        "outputId": "4ee39288-4465-4cc5-c573-670adf2e7f51"
      },
      "source": [
        "#using Model3\r\n",
        "acc = history.history['acc']\r\n",
        "val_acc = history.history['val_acc']\r\n",
        "loss = history.history['loss']\r\n",
        "val_loss = history.history['val_loss']\r\n",
        "\r\n",
        "epochs = range(1, len(acc)+1)\r\n",
        "\r\n",
        "plt.plot(epochs, acc, 'g', label='Training accuracy')\r\n",
        "plt.plot(epochs, val_acc, 'r', label='Validation accuracy')\r\n",
        "plt.title('Training and validation accuracy')\r\n",
        "plt.legend()\r\n",
        "\r\n",
        "plt.figure()\r\n",
        "\r\n",
        "plt.plot(epochs, loss, 'g', label='Training loss')\r\n",
        "plt.plot(epochs, val_loss, 'r', label='Validation loss')\r\n",
        "plt.title('Training and validation loss')\r\n",
        "plt.legend()\r\n",
        "\r\n",
        "plt.show()"
      ],
      "execution_count": 39,
      "outputs": [
        {
          "output_type": "display_data",
          "data": {
            "image/png": "[encoded data removed]",
            "text/plain": [
              "<Figure size 432x288 with 1 Axes>"
            ]
          },
          "metadata": {
            "tags": [],
            "needs_background": "light"
          }
        },
        {
          "output_type": "display_data",
          "data": {
            "image/png": "[encoded data removed]",
            "text/plain": [
              "<Figure size 432x288 with 1 Axes>"
            ]
          },
          "metadata": {
            "tags": [],
            "needs_background": "light"
          }
        }
      ]
    },
    {
      "cell_type": "code",
      "metadata": {
        "id": "KpnEOjyeX5rl"
      },
      "source": [
        "def predict_sarcasm(s):\r\n",
        "    x_final = pd.DataFrame({\"headline\":[s]})\r\n",
        "    \r\n",
        "    test_sequences = tokenizer.texts_to_sequences(x_final)\r\n",
        "    test_review_pad = pad_sequences(test_sequences, maxlen=maxlen, padding='post')\r\n",
        "    pred = model.predict(test_review_pad)\r\n",
        "    pred*=100\r\n",
        "    if pred[0][0]>=50: return \"It's a sarcasm!\" \r\n",
        "    else: return \"It's not a sarcasm.\""
      ],
      "execution_count": 40,
      "outputs": []
    },
    {
      "cell_type": "code",
      "metadata": {
        "id": "xjARfcCPcI95"
      },
      "source": [
        "X_test_pad[200:201]"
      ],
      "execution_count": null,
      "outputs": []
    },
    {
      "cell_type": "code",
      "metadata": {
        "colab": {
          "base_uri": "https://localhost:8080/",
          "height": 35
        },
        "id": "20E-tuTXcEmp",
        "outputId": "92b09356-faaa-4a09-da04-5ce0d1836464"
      },
      "source": [
        "predict_sarcasm(X_test[1:2])"
      ],
      "execution_count": 41,
      "outputs": [
        {
          "output_type": "execute_result",
          "data": {
            "application/vnd.google.colaboratory.intrinsic+json": {
              "type": "string"
            },
            "text/plain": [
              "\"It's a sarcasm!\""
            ]
          },
          "metadata": {
            "tags": []
          },
          "execution_count": 41
        }
      ]
    },
    {
      "cell_type": "code",
      "metadata": {
        "id": "NN789zNnJ5PL",
        "colab": {
          "base_uri": "https://localhost:8080/",
          "height": 35
        },
        "outputId": "2a0626af-91ab-44da-fa18-82c29dbabfd2"
      },
      "source": [
        "predict_sarcasm(\"I am an Indian. I am very happy because India lost the match by 1 runs.\")\r\n"
      ],
      "execution_count": 42,
      "outputs": [
        {
          "output_type": "execute_result",
          "data": {
            "application/vnd.google.colaboratory.intrinsic+json": {
              "type": "string"
            },
            "text/plain": [
              "\"It's a sarcasm!\""
            ]
          },
          "metadata": {
            "tags": []
          },
          "execution_count": 42
        }
      ]
    },
    {
      "cell_type": "code",
      "metadata": {
        "colab": {
          "base_uri": "https://localhost:8080/",
          "height": 35
        },
        "id": "aTxDFuHczW3n",
        "outputId": "d319264f-4954-4f96-a6ff-9ff230123e54"
      },
      "source": [
        "predict_sarcasm(\"You just broke my car window. Great job.\")\r\n"
      ],
      "execution_count": 43,
      "outputs": [
        {
          "output_type": "execute_result",
          "data": {
            "application/vnd.google.colaboratory.intrinsic+json": {
              "type": "string"
            },
            "text/plain": [
              "\"It's a sarcasm!\""
            ]
          },
          "metadata": {
            "tags": []
          },
          "execution_count": 43
        }
      ]
    },
    {
      "cell_type": "markdown",
      "metadata": {
        "id": "vk7KtYUTaeFR"
      },
      "source": [
        "Conclusion : we predicted sarcasm or not using bidirectional LSTM using with return_sequence true and false, The model was able to predict sarcas with almost 88%accuracy in validation data and 99% accuracy on training data. Also we saw few examples where model is predicting if sentence is saracasm or not"
      ]
    },
    {
      "cell_type": "code",
      "metadata": {
        "id": "L85snHmHbApq"
      },
      "source": [
        ""
      ],
      "execution_count": null,
      "outputs": []
    }
  ]
}