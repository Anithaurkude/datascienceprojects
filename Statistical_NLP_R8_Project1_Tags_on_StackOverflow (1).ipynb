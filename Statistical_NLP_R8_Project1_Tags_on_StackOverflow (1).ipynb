{
  "nbformat": 4,
  "nbformat_minor": 0,
  "metadata": {
    "colab": {
      "name": "Statistical NLP_R8_Project1_Tags on StackOverflow.ipynb",
      "provenance": [],
      "machine_shape": "hm"
    },
    "kernelspec": {
      "name": "python3",
      "display_name": "Python 3"
    },
    "accelerator": "GPU"
  },
  "cells": [
    {
      "cell_type": "code",
      "metadata": {
        "id": "goOJeBprcTjm",
        "outputId": "b99d84cb-987e-4df4-feb7-2d6ed7bacfc6",
        "colab": {
          "base_uri": "https://localhost:8080/",
          "height": 35
        }
      },
      "source": [
        "from google.colab import drive\n",
        "drive.mount('/content/gdrive')"
      ],
      "execution_count": 1,
      "outputs": [
        {
          "output_type": "stream",
          "text": [
            "Mounted at /content/gdrive\n"
          ],
          "name": "stdout"
        }
      ]
    },
    {
      "cell_type": "markdown",
      "metadata": {
        "id": "8ot6IKMbpJUQ"
      },
      "source": [
        "# New section"
      ]
    },
    {
      "cell_type": "markdown",
      "metadata": {
        "id": "8y3g8dykZsEe"
      },
      "source": [
        "**1. Load the dataset (5 points)\n",
        "a. Tip: As the dataset is large, use fewer rows. Check what is working well on your\n",
        "machine and decide accordingly**"
      ]
    },
    {
      "cell_type": "code",
      "metadata": {
        "id": "0Q16S5EVe7l_",
        "outputId": "def74ed5-809d-4830-941d-de36a0983e09",
        "colab": {
          "base_uri": "https://localhost:8080/",
          "height": 72
        }
      },
      "source": [
        "import pandas as pd\n",
        "import seaborn as sns\n",
        "import warnings\n",
        "warnings.filterwarnings(\"ignore\")\n",
        "from nltk.stem import PorterStemmer\n",
        "from sklearn.model_selection import train_test_split\n",
        "from nltk.corpus import stopwords \n",
        "from nltk.tokenize import word_tokenize \n",
        "from sklearn.preprocessing import MultiLabelBinarizer\n",
        "from sklearn.feature_extraction.text import CountVectorizer\n",
        "from sklearn.metrics import f1_score\n",
        "from sklearn.metrics import accuracy_score\n",
        "from sklearn.metrics import recall_score\n",
        "from sklearn.metrics import average_precision_score \n",
        "import numpy as np\n",
        "from sklearn.multiclass import OneVsRestClassifier\n",
        "from sklearn.metrics import classification_report\n",
        "from sklearn.linear_model import LogisticRegression\n",
        "\n",
        "from sklearn.svm import LinearSVC\n",
        "\n",
        "# pd.set_option('display.max_rows', 400)\n",
        "# pd.set_option('display.max_columns', 00)  \n",
        "# pd.set_option('display.expand_frame_repr', False)\n",
        "\n",
        "# pd.set_option('max_colwidth', -1)"
      ],
      "execution_count": 1,
      "outputs": [
        {
          "output_type": "stream",
          "text": [
            "/usr/local/lib/python3.6/dist-packages/statsmodels/tools/_testing.py:19: FutureWarning: pandas.util.testing is deprecated. Use the functions in the public API at pandas.testing instead.\n",
            "  import pandas.util.testing as tm\n"
          ],
          "name": "stderr"
        }
      ]
    },
    {
      "cell_type": "code",
      "metadata": {
        "id": "d5XkN5femqH7"
      },
      "source": [
        "#loading dataset from blogtext\n",
        "blogdf  = pd.read_csv('/content/gdrive/My Drive/Colab Notebooks/blogtext.csv')\n"
      ],
      "execution_count": 2,
      "outputs": []
    },
    {
      "cell_type": "code",
      "metadata": {
        "id": "ZlEZLU7unU5e",
        "outputId": "242d539d-f114-46c5-8390-f03b82a72f88",
        "colab": {
          "base_uri": "https://localhost:8080/",
          "height": 202
        }
      },
      "source": [
        "#checking the data\n",
        "blogdf.head()"
      ],
      "execution_count": 4,
      "outputs": [
        {
          "output_type": "execute_result",
          "data": {
            "text/html": [
              "<div>\n",
              "<style scoped>\n",
              "    .dataframe tbody tr th:only-of-type {\n",
              "        vertical-align: middle;\n",
              "    }\n",
              "\n",
              "    .dataframe tbody tr th {\n",
              "        vertical-align: top;\n",
              "    }\n",
              "\n",
              "    .dataframe thead th {\n",
              "        text-align: right;\n",
              "    }\n",
              "</style>\n",
              "<table border=\"1\" class=\"dataframe\">\n",
              "  <thead>\n",
              "    <tr style=\"text-align: right;\">\n",
              "      <th></th>\n",
              "      <th>id</th>\n",
              "      <th>gender</th>\n",
              "      <th>age</th>\n",
              "      <th>topic</th>\n",
              "      <th>sign</th>\n",
              "      <th>date</th>\n",
              "      <th>text</th>\n",
              "    </tr>\n",
              "  </thead>\n",
              "  <tbody>\n",
              "    <tr>\n",
              "      <th>0</th>\n",
              "      <td>2059027</td>\n",
              "      <td>male</td>\n",
              "      <td>15</td>\n",
              "      <td>Student</td>\n",
              "      <td>Leo</td>\n",
              "      <td>14,May,2004</td>\n",
              "      <td>Info has been found (+/- 100 pages,...</td>\n",
              "    </tr>\n",
              "    <tr>\n",
              "      <th>1</th>\n",
              "      <td>2059027</td>\n",
              "      <td>male</td>\n",
              "      <td>15</td>\n",
              "      <td>Student</td>\n",
              "      <td>Leo</td>\n",
              "      <td>13,May,2004</td>\n",
              "      <td>These are the team members:   Drewe...</td>\n",
              "    </tr>\n",
              "    <tr>\n",
              "      <th>2</th>\n",
              "      <td>2059027</td>\n",
              "      <td>male</td>\n",
              "      <td>15</td>\n",
              "      <td>Student</td>\n",
              "      <td>Leo</td>\n",
              "      <td>12,May,2004</td>\n",
              "      <td>In het kader van kernfusie op aarde...</td>\n",
              "    </tr>\n",
              "    <tr>\n",
              "      <th>3</th>\n",
              "      <td>2059027</td>\n",
              "      <td>male</td>\n",
              "      <td>15</td>\n",
              "      <td>Student</td>\n",
              "      <td>Leo</td>\n",
              "      <td>12,May,2004</td>\n",
              "      <td>testing!!!  testing!!!</td>\n",
              "    </tr>\n",
              "    <tr>\n",
              "      <th>4</th>\n",
              "      <td>3581210</td>\n",
              "      <td>male</td>\n",
              "      <td>33</td>\n",
              "      <td>InvestmentBanking</td>\n",
              "      <td>Aquarius</td>\n",
              "      <td>11,June,2004</td>\n",
              "      <td>Thanks to Yahoo!'s Toolbar I can ...</td>\n",
              "    </tr>\n",
              "  </tbody>\n",
              "</table>\n",
              "</div>"
            ],
            "text/plain": [
              "        id  ...                                               text\n",
              "0  2059027  ...             Info has been found (+/- 100 pages,...\n",
              "1  2059027  ...             These are the team members:   Drewe...\n",
              "2  2059027  ...             In het kader van kernfusie op aarde...\n",
              "3  2059027  ...                   testing!!!  testing!!!          \n",
              "4  3581210  ...               Thanks to Yahoo!'s Toolbar I can ...\n",
              "\n",
              "[5 rows x 7 columns]"
            ]
          },
          "metadata": {
            "tags": []
          },
          "execution_count": 4
        }
      ]
    },
    {
      "cell_type": "code",
      "metadata": {
        "id": "PkuyvHG4uGLf",
        "outputId": "274f485f-8f83-4ac6-fe97-d5c70674f767",
        "colab": {
          "base_uri": "https://localhost:8080/",
          "height": 260
        }
      },
      "source": [
        "#info of the data\n",
        "blogdf.info()\n",
        "#contains 5 object column and 2 integer columns"
      ],
      "execution_count": 5,
      "outputs": [
        {
          "output_type": "stream",
          "text": [
            "<class 'pandas.core.frame.DataFrame'>\n",
            "RangeIndex: 681284 entries, 0 to 681283\n",
            "Data columns (total 7 columns):\n",
            " #   Column  Non-Null Count   Dtype \n",
            "---  ------  --------------   ----- \n",
            " 0   id      681284 non-null  int64 \n",
            " 1   gender  681284 non-null  object\n",
            " 2   age     681284 non-null  int64 \n",
            " 3   topic   681284 non-null  object\n",
            " 4   sign    681284 non-null  object\n",
            " 5   date    681284 non-null  object\n",
            " 6   text    681284 non-null  object\n",
            "dtypes: int64(2), object(5)\n",
            "memory usage: 36.4+ MB\n"
          ],
          "name": "stdout"
        }
      ]
    },
    {
      "cell_type": "code",
      "metadata": {
        "id": "zkyYKKvluJqv",
        "outputId": "4a79f024-53e4-422b-c303-a77edce63c42",
        "colab": {
          "base_uri": "https://localhost:8080/",
          "height": 52
        }
      },
      "source": [
        "print('shape of the data is')\n",
        "blogdf.shape"
      ],
      "execution_count": 115,
      "outputs": [
        {
          "output_type": "stream",
          "text": [
            "shape of the data is\n"
          ],
          "name": "stdout"
        },
        {
          "output_type": "execute_result",
          "data": {
            "text/plain": [
              "(681284, 7)"
            ]
          },
          "metadata": {
            "tags": []
          },
          "execution_count": 115
        }
      ]
    },
    {
      "cell_type": "code",
      "metadata": {
        "id": "b2K50C-6nblA",
        "outputId": "d2cc2df9-9078-47c6-9bd2-057b6d0871c2",
        "colab": {
          "base_uri": "https://localhost:8080/",
          "height": 202
        }
      },
      "source": [
        "blogdf.tail()"
      ],
      "execution_count": 7,
      "outputs": [
        {
          "output_type": "execute_result",
          "data": {
            "text/html": [
              "<div>\n",
              "<style scoped>\n",
              "    .dataframe tbody tr th:only-of-type {\n",
              "        vertical-align: middle;\n",
              "    }\n",
              "\n",
              "    .dataframe tbody tr th {\n",
              "        vertical-align: top;\n",
              "    }\n",
              "\n",
              "    .dataframe thead th {\n",
              "        text-align: right;\n",
              "    }\n",
              "</style>\n",
              "<table border=\"1\" class=\"dataframe\">\n",
              "  <thead>\n",
              "    <tr style=\"text-align: right;\">\n",
              "      <th></th>\n",
              "      <th>id</th>\n",
              "      <th>gender</th>\n",
              "      <th>age</th>\n",
              "      <th>topic</th>\n",
              "      <th>sign</th>\n",
              "      <th>date</th>\n",
              "      <th>text</th>\n",
              "    </tr>\n",
              "  </thead>\n",
              "  <tbody>\n",
              "    <tr>\n",
              "      <th>681279</th>\n",
              "      <td>1713845</td>\n",
              "      <td>male</td>\n",
              "      <td>23</td>\n",
              "      <td>Student</td>\n",
              "      <td>Taurus</td>\n",
              "      <td>01,July,2004</td>\n",
              "      <td>Dear Susan,  I could write some really ...</td>\n",
              "    </tr>\n",
              "    <tr>\n",
              "      <th>681280</th>\n",
              "      <td>1713845</td>\n",
              "      <td>male</td>\n",
              "      <td>23</td>\n",
              "      <td>Student</td>\n",
              "      <td>Taurus</td>\n",
              "      <td>01,July,2004</td>\n",
              "      <td>Dear Susan,  'I have the second yeast i...</td>\n",
              "    </tr>\n",
              "    <tr>\n",
              "      <th>681281</th>\n",
              "      <td>1713845</td>\n",
              "      <td>male</td>\n",
              "      <td>23</td>\n",
              "      <td>Student</td>\n",
              "      <td>Taurus</td>\n",
              "      <td>01,July,2004</td>\n",
              "      <td>Dear Susan,  Your 'boyfriend' is fuckin...</td>\n",
              "    </tr>\n",
              "    <tr>\n",
              "      <th>681282</th>\n",
              "      <td>1713845</td>\n",
              "      <td>male</td>\n",
              "      <td>23</td>\n",
              "      <td>Student</td>\n",
              "      <td>Taurus</td>\n",
              "      <td>01,July,2004</td>\n",
              "      <td>Dear Susan:    Just to clarify, I am as...</td>\n",
              "    </tr>\n",
              "    <tr>\n",
              "      <th>681283</th>\n",
              "      <td>1713845</td>\n",
              "      <td>male</td>\n",
              "      <td>23</td>\n",
              "      <td>Student</td>\n",
              "      <td>Taurus</td>\n",
              "      <td>01,July,2004</td>\n",
              "      <td>Hey everybody...and Susan,  You might a...</td>\n",
              "    </tr>\n",
              "  </tbody>\n",
              "</table>\n",
              "</div>"
            ],
            "text/plain": [
              "             id  ...                                               text\n",
              "681279  1713845  ...         Dear Susan,  I could write some really ...\n",
              "681280  1713845  ...         Dear Susan,  'I have the second yeast i...\n",
              "681281  1713845  ...         Dear Susan,  Your 'boyfriend' is fuckin...\n",
              "681282  1713845  ...         Dear Susan:    Just to clarify, I am as...\n",
              "681283  1713845  ...         Hey everybody...and Susan,  You might a...\n",
              "\n",
              "[5 rows x 7 columns]"
            ]
          },
          "metadata": {
            "tags": []
          },
          "execution_count": 7
        }
      ]
    },
    {
      "cell_type": "code",
      "metadata": {
        "id": "DwJK85T5qCpb",
        "outputId": "8225dbf6-9562-4f5d-ac8c-514b7d9a924b",
        "colab": {
          "base_uri": "https://localhost:8080/",
          "height": 69
        }
      },
      "source": [
        "#both male and female are equal contributors of blogs\n",
        "blogdf['gender'].value_counts()"
      ],
      "execution_count": 8,
      "outputs": [
        {
          "output_type": "execute_result",
          "data": {
            "text/plain": [
              "male      345193\n",
              "female    336091\n",
              "Name: gender, dtype: int64"
            ]
          },
          "metadata": {
            "tags": []
          },
          "execution_count": 8
        }
      ]
    },
    {
      "cell_type": "code",
      "metadata": {
        "id": "iSVNcDADq62K",
        "outputId": "63726a14-3e7c-4ea8-b4fa-2ef25b7030ac",
        "colab": {
          "base_uri": "https://localhost:8080/",
          "height": 485
        }
      },
      "source": [
        "#the contributors of blog agewise\n",
        "blogdf['age'].value_counts()"
      ],
      "execution_count": 10,
      "outputs": [
        {
          "output_type": "execute_result",
          "data": {
            "text/plain": [
              "17    80859\n",
              "24    80071\n",
              "23    72889\n",
              "16    72708\n",
              "25    67051\n",
              "26    55312\n",
              "27    46124\n",
              "15    41767\n",
              "14    27400\n",
              "34    21347\n",
              "33    17584\n",
              "35    17462\n",
              "36    14229\n",
              "13    13133\n",
              "37     9317\n",
              "38     7545\n",
              "39     5556\n",
              "40     5016\n",
              "45     4482\n",
              "43     4230\n",
              "41     3738\n",
              "48     3572\n",
              "42     2908\n",
              "46     2733\n",
              "47     2207\n",
              "44     2044\n",
              "Name: age, dtype: int64"
            ]
          },
          "metadata": {
            "tags": []
          },
          "execution_count": 10
        }
      ]
    },
    {
      "cell_type": "code",
      "metadata": {
        "id": "abJ7xY-uqNcd",
        "outputId": "26c54301-e3f0-4931-b12a-f360688f5ba3",
        "colab": {
          "base_uri": "https://localhost:8080/",
          "height": 297
        }
      },
      "source": [
        "sns.countplot(x = 'age' , data = blogdf)\n"
      ],
      "execution_count": 68,
      "outputs": [
        {
          "output_type": "execute_result",
          "data": {
            "text/plain": [
              "<matplotlib.axes._subplots.AxesSubplot at 0x7f45beb91320>"
            ]
          },
          "metadata": {
            "tags": []
          },
          "execution_count": 68
        },
        {
          "output_type": "display_data",
          "data": {
            "image/png": "[encoded data removed]",
            "text/plain": [
              "<Figure size 432x288 with 1 Axes>"
            ]
          },
          "metadata": {
            "tags": [],
            "needs_background": "light"
          }
        }
      ]
    },
    {
      "cell_type": "markdown",
      "metadata": {
        "id": "_TymUyZArToD"
      },
      "source": [
        "Majority of the bloggers are between the age group 17 - 27"
      ]
    },
    {
      "cell_type": "markdown",
      "metadata": {
        "id": "LGWzHihirJNi"
      },
      "source": [
        ""
      ]
    },
    {
      "cell_type": "code",
      "metadata": {
        "id": "gXaFPIY2qQa7",
        "outputId": "dc669d8d-838e-4fdc-e813-4123cb7edd99",
        "colab": {
          "base_uri": "https://localhost:8080/",
          "height": 297
        }
      },
      "source": [
        "sns.countplot(x = 'gender' , data = blogdf)"
      ],
      "execution_count": 69,
      "outputs": [
        {
          "output_type": "execute_result",
          "data": {
            "text/plain": [
              "<matplotlib.axes._subplots.AxesSubplot at 0x7f45b987f630>"
            ]
          },
          "metadata": {
            "tags": []
          },
          "execution_count": 69
        },
        {
          "output_type": "display_data",
          "data": {
            "image/png": "[encoded data removed]",
            "text/plain": [
              "<Figure size 432x288 with 1 Axes>"
            ]
          },
          "metadata": {
            "tags": [],
            "needs_background": "light"
          }
        }
      ]
    },
    {
      "cell_type": "markdown",
      "metadata": {
        "id": "7r1UsSporZA6"
      },
      "source": [
        "Both men and women have contributed almost equally in blog posting"
      ]
    },
    {
      "cell_type": "code",
      "metadata": {
        "id": "rfpw_q_0rfbn",
        "outputId": "b1cef368-9e32-4b1e-cf8d-b4dec0647512",
        "colab": {
          "base_uri": "https://localhost:8080/",
          "height": 243
        }
      },
      "source": [
        "#contributors of blog according to sign\n",
        "blogdf['sign'].value_counts()"
      ],
      "execution_count": 70,
      "outputs": [
        {
          "output_type": "execute_result",
          "data": {
            "text/plain": [
              "Cancer         65048\n",
              "Aries          64979\n",
              "Taurus         62561\n",
              "Libra          62363\n",
              "Virgo          60399\n",
              "Scorpio        57161\n",
              "Pisces         54053\n",
              "Leo            53811\n",
              "Gemini         51985\n",
              "Sagittarius    50036\n",
              "Aquarius       49687\n",
              "Capricorn      49201\n",
              "Name: sign, dtype: int64"
            ]
          },
          "metadata": {
            "tags": []
          },
          "execution_count": 70
        }
      ]
    },
    {
      "cell_type": "code",
      "metadata": {
        "id": "XJgUM9NjslgX",
        "outputId": "e006f21b-8c3d-4031-c43b-a7bcafecf90d",
        "colab": {
          "base_uri": "https://localhost:8080/",
          "height": 447
        }
      },
      "source": [
        "#checking the number of male contributors of blog according to zodiac sign\n",
        "blogdf[blogdf['gender'] == 'male'].groupby(['sign']).count()"
      ],
      "execution_count": 71,
      "outputs": [
        {
          "output_type": "execute_result",
          "data": {
            "text/html": [
              "<div>\n",
              "<style scoped>\n",
              "    .dataframe tbody tr th:only-of-type {\n",
              "        vertical-align: middle;\n",
              "    }\n",
              "\n",
              "    .dataframe tbody tr th {\n",
              "        vertical-align: top;\n",
              "    }\n",
              "\n",
              "    .dataframe thead th {\n",
              "        text-align: right;\n",
              "    }\n",
              "</style>\n",
              "<table border=\"1\" class=\"dataframe\">\n",
              "  <thead>\n",
              "    <tr style=\"text-align: right;\">\n",
              "      <th></th>\n",
              "      <th>id</th>\n",
              "      <th>gender</th>\n",
              "      <th>age</th>\n",
              "      <th>topic</th>\n",
              "      <th>date</th>\n",
              "      <th>text</th>\n",
              "    </tr>\n",
              "    <tr>\n",
              "      <th>sign</th>\n",
              "      <th></th>\n",
              "      <th></th>\n",
              "      <th></th>\n",
              "      <th></th>\n",
              "      <th></th>\n",
              "      <th></th>\n",
              "    </tr>\n",
              "  </thead>\n",
              "  <tbody>\n",
              "    <tr>\n",
              "      <th>Aquarius</th>\n",
              "      <td>26687</td>\n",
              "      <td>26687</td>\n",
              "      <td>26687</td>\n",
              "      <td>26687</td>\n",
              "      <td>26687</td>\n",
              "      <td>26687</td>\n",
              "    </tr>\n",
              "    <tr>\n",
              "      <th>Aries</th>\n",
              "      <td>34034</td>\n",
              "      <td>34034</td>\n",
              "      <td>34034</td>\n",
              "      <td>34034</td>\n",
              "      <td>34034</td>\n",
              "      <td>34034</td>\n",
              "    </tr>\n",
              "    <tr>\n",
              "      <th>Cancer</th>\n",
              "      <td>31136</td>\n",
              "      <td>31136</td>\n",
              "      <td>31136</td>\n",
              "      <td>31136</td>\n",
              "      <td>31136</td>\n",
              "      <td>31136</td>\n",
              "    </tr>\n",
              "    <tr>\n",
              "      <th>Capricorn</th>\n",
              "      <td>22980</td>\n",
              "      <td>22980</td>\n",
              "      <td>22980</td>\n",
              "      <td>22980</td>\n",
              "      <td>22980</td>\n",
              "      <td>22980</td>\n",
              "    </tr>\n",
              "    <tr>\n",
              "      <th>Gemini</th>\n",
              "      <td>27718</td>\n",
              "      <td>27718</td>\n",
              "      <td>27718</td>\n",
              "      <td>27718</td>\n",
              "      <td>27718</td>\n",
              "      <td>27718</td>\n",
              "    </tr>\n",
              "    <tr>\n",
              "      <th>Leo</th>\n",
              "      <td>28652</td>\n",
              "      <td>28652</td>\n",
              "      <td>28652</td>\n",
              "      <td>28652</td>\n",
              "      <td>28652</td>\n",
              "      <td>28652</td>\n",
              "    </tr>\n",
              "    <tr>\n",
              "      <th>Libra</th>\n",
              "      <td>29812</td>\n",
              "      <td>29812</td>\n",
              "      <td>29812</td>\n",
              "      <td>29812</td>\n",
              "      <td>29812</td>\n",
              "      <td>29812</td>\n",
              "    </tr>\n",
              "    <tr>\n",
              "      <th>Pisces</th>\n",
              "      <td>26194</td>\n",
              "      <td>26194</td>\n",
              "      <td>26194</td>\n",
              "      <td>26194</td>\n",
              "      <td>26194</td>\n",
              "      <td>26194</td>\n",
              "    </tr>\n",
              "    <tr>\n",
              "      <th>Sagittarius</th>\n",
              "      <td>26288</td>\n",
              "      <td>26288</td>\n",
              "      <td>26288</td>\n",
              "      <td>26288</td>\n",
              "      <td>26288</td>\n",
              "      <td>26288</td>\n",
              "    </tr>\n",
              "    <tr>\n",
              "      <th>Scorpio</th>\n",
              "      <td>28234</td>\n",
              "      <td>28234</td>\n",
              "      <td>28234</td>\n",
              "      <td>28234</td>\n",
              "      <td>28234</td>\n",
              "      <td>28234</td>\n",
              "    </tr>\n",
              "    <tr>\n",
              "      <th>Taurus</th>\n",
              "      <td>34168</td>\n",
              "      <td>34168</td>\n",
              "      <td>34168</td>\n",
              "      <td>34168</td>\n",
              "      <td>34168</td>\n",
              "      <td>34168</td>\n",
              "    </tr>\n",
              "    <tr>\n",
              "      <th>Virgo</th>\n",
              "      <td>29290</td>\n",
              "      <td>29290</td>\n",
              "      <td>29290</td>\n",
              "      <td>29290</td>\n",
              "      <td>29290</td>\n",
              "      <td>29290</td>\n",
              "    </tr>\n",
              "  </tbody>\n",
              "</table>\n",
              "</div>"
            ],
            "text/plain": [
              "                id  gender    age  topic   date   text\n",
              "sign                                                  \n",
              "Aquarius     26687   26687  26687  26687  26687  26687\n",
              "Aries        34034   34034  34034  34034  34034  34034\n",
              "Cancer       31136   31136  31136  31136  31136  31136\n",
              "Capricorn    22980   22980  22980  22980  22980  22980\n",
              "Gemini       27718   27718  27718  27718  27718  27718\n",
              "Leo          28652   28652  28652  28652  28652  28652\n",
              "Libra        29812   29812  29812  29812  29812  29812\n",
              "Pisces       26194   26194  26194  26194  26194  26194\n",
              "Sagittarius  26288   26288  26288  26288  26288  26288\n",
              "Scorpio      28234   28234  28234  28234  28234  28234\n",
              "Taurus       34168   34168  34168  34168  34168  34168\n",
              "Virgo        29290   29290  29290  29290  29290  29290"
            ]
          },
          "metadata": {
            "tags": []
          },
          "execution_count": 71
        }
      ]
    },
    {
      "cell_type": "code",
      "metadata": {
        "id": "72zS23las-y2",
        "outputId": "d05a1deb-7eea-414e-e77d-cb8990969534",
        "colab": {
          "base_uri": "https://localhost:8080/",
          "height": 447
        }
      },
      "source": [
        "#checking the number of female contributors of blog according to zodiac sign\n",
        "blogdf[blogdf['gender'] == 'female'].groupby(['sign']).count()"
      ],
      "execution_count": 72,
      "outputs": [
        {
          "output_type": "execute_result",
          "data": {
            "text/html": [
              "<div>\n",
              "<style scoped>\n",
              "    .dataframe tbody tr th:only-of-type {\n",
              "        vertical-align: middle;\n",
              "    }\n",
              "\n",
              "    .dataframe tbody tr th {\n",
              "        vertical-align: top;\n",
              "    }\n",
              "\n",
              "    .dataframe thead th {\n",
              "        text-align: right;\n",
              "    }\n",
              "</style>\n",
              "<table border=\"1\" class=\"dataframe\">\n",
              "  <thead>\n",
              "    <tr style=\"text-align: right;\">\n",
              "      <th></th>\n",
              "      <th>id</th>\n",
              "      <th>gender</th>\n",
              "      <th>age</th>\n",
              "      <th>topic</th>\n",
              "      <th>date</th>\n",
              "      <th>text</th>\n",
              "    </tr>\n",
              "    <tr>\n",
              "      <th>sign</th>\n",
              "      <th></th>\n",
              "      <th></th>\n",
              "      <th></th>\n",
              "      <th></th>\n",
              "      <th></th>\n",
              "      <th></th>\n",
              "    </tr>\n",
              "  </thead>\n",
              "  <tbody>\n",
              "    <tr>\n",
              "      <th>Aquarius</th>\n",
              "      <td>23000</td>\n",
              "      <td>23000</td>\n",
              "      <td>23000</td>\n",
              "      <td>23000</td>\n",
              "      <td>23000</td>\n",
              "      <td>23000</td>\n",
              "    </tr>\n",
              "    <tr>\n",
              "      <th>Aries</th>\n",
              "      <td>30945</td>\n",
              "      <td>30945</td>\n",
              "      <td>30945</td>\n",
              "      <td>30945</td>\n",
              "      <td>30945</td>\n",
              "      <td>30945</td>\n",
              "    </tr>\n",
              "    <tr>\n",
              "      <th>Cancer</th>\n",
              "      <td>33912</td>\n",
              "      <td>33912</td>\n",
              "      <td>33912</td>\n",
              "      <td>33912</td>\n",
              "      <td>33912</td>\n",
              "      <td>33912</td>\n",
              "    </tr>\n",
              "    <tr>\n",
              "      <th>Capricorn</th>\n",
              "      <td>26221</td>\n",
              "      <td>26221</td>\n",
              "      <td>26221</td>\n",
              "      <td>26221</td>\n",
              "      <td>26221</td>\n",
              "      <td>26221</td>\n",
              "    </tr>\n",
              "    <tr>\n",
              "      <th>Gemini</th>\n",
              "      <td>24267</td>\n",
              "      <td>24267</td>\n",
              "      <td>24267</td>\n",
              "      <td>24267</td>\n",
              "      <td>24267</td>\n",
              "      <td>24267</td>\n",
              "    </tr>\n",
              "    <tr>\n",
              "      <th>Leo</th>\n",
              "      <td>25159</td>\n",
              "      <td>25159</td>\n",
              "      <td>25159</td>\n",
              "      <td>25159</td>\n",
              "      <td>25159</td>\n",
              "      <td>25159</td>\n",
              "    </tr>\n",
              "    <tr>\n",
              "      <th>Libra</th>\n",
              "      <td>32551</td>\n",
              "      <td>32551</td>\n",
              "      <td>32551</td>\n",
              "      <td>32551</td>\n",
              "      <td>32551</td>\n",
              "      <td>32551</td>\n",
              "    </tr>\n",
              "    <tr>\n",
              "      <th>Pisces</th>\n",
              "      <td>27859</td>\n",
              "      <td>27859</td>\n",
              "      <td>27859</td>\n",
              "      <td>27859</td>\n",
              "      <td>27859</td>\n",
              "      <td>27859</td>\n",
              "    </tr>\n",
              "    <tr>\n",
              "      <th>Sagittarius</th>\n",
              "      <td>23748</td>\n",
              "      <td>23748</td>\n",
              "      <td>23748</td>\n",
              "      <td>23748</td>\n",
              "      <td>23748</td>\n",
              "      <td>23748</td>\n",
              "    </tr>\n",
              "    <tr>\n",
              "      <th>Scorpio</th>\n",
              "      <td>28927</td>\n",
              "      <td>28927</td>\n",
              "      <td>28927</td>\n",
              "      <td>28927</td>\n",
              "      <td>28927</td>\n",
              "      <td>28927</td>\n",
              "    </tr>\n",
              "    <tr>\n",
              "      <th>Taurus</th>\n",
              "      <td>28393</td>\n",
              "      <td>28393</td>\n",
              "      <td>28393</td>\n",
              "      <td>28393</td>\n",
              "      <td>28393</td>\n",
              "      <td>28393</td>\n",
              "    </tr>\n",
              "    <tr>\n",
              "      <th>Virgo</th>\n",
              "      <td>31109</td>\n",
              "      <td>31109</td>\n",
              "      <td>31109</td>\n",
              "      <td>31109</td>\n",
              "      <td>31109</td>\n",
              "      <td>31109</td>\n",
              "    </tr>\n",
              "  </tbody>\n",
              "</table>\n",
              "</div>"
            ],
            "text/plain": [
              "                id  gender    age  topic   date   text\n",
              "sign                                                  \n",
              "Aquarius     23000   23000  23000  23000  23000  23000\n",
              "Aries        30945   30945  30945  30945  30945  30945\n",
              "Cancer       33912   33912  33912  33912  33912  33912\n",
              "Capricorn    26221   26221  26221  26221  26221  26221\n",
              "Gemini       24267   24267  24267  24267  24267  24267\n",
              "Leo          25159   25159  25159  25159  25159  25159\n",
              "Libra        32551   32551  32551  32551  32551  32551\n",
              "Pisces       27859   27859  27859  27859  27859  27859\n",
              "Sagittarius  23748   23748  23748  23748  23748  23748\n",
              "Scorpio      28927   28927  28927  28927  28927  28927\n",
              "Taurus       28393   28393  28393  28393  28393  28393\n",
              "Virgo        31109   31109  31109  31109  31109  31109"
            ]
          },
          "metadata": {
            "tags": []
          },
          "execution_count": 72
        }
      ]
    },
    {
      "cell_type": "markdown",
      "metadata": {
        "id": "9z1N2sHWuq74"
      },
      "source": [
        ""
      ]
    },
    {
      "cell_type": "markdown",
      "metadata": {
        "id": "CV-fIuVVhhS2"
      },
      "source": [
        "**Use case 1 :As the data size is huge considering only 96000 blogs for this use case. Considering equal number of male and female blog contributors according to zodiac sign**"
      ]
    },
    {
      "cell_type": "code",
      "metadata": {
        "id": "vXgyZ-RK2TXA"
      },
      "source": [
        "\n",
        "blogdf1 = blogdf.loc[(blogdf['gender'] == 'male') & (blogdf['sign'] == 'Virgo') ].head(4000)\n",
        "blogdf2 = blogdf.loc[(blogdf['gender'] == 'male') & (blogdf['sign'] == 'Taurus') ].tail(4000)\n",
        "blogdf3 = blogdf.loc[(blogdf['gender'] == 'male') & (blogdf['sign'] == 'Scorpio') ].sample(4000)\n",
        "blogdf4 = blogdf.loc[(blogdf['gender'] == 'male') & (blogdf['sign'] == 'Sagittarius') ].head(4000)\n",
        "blogdf5 = blogdf.loc[(blogdf['gender'] == 'male') & (blogdf['sign'] == 'Aquarius') ].tail(4000)\n",
        "blogdf6 = blogdf.loc[(blogdf['gender'] == 'male') & (blogdf['sign'] == 'Pisces') ].sample(4000)\n",
        "blogdf7 = blogdf.loc[(blogdf['gender'] == 'male') & (blogdf['sign'] == 'Libra') ].sample(4000)\n",
        "blogdf8 = blogdf.loc[(blogdf['gender'] == 'male') & (blogdf['sign'] == 'Leo') ].head(4000)\n",
        "blogdf9 = blogdf.loc[(blogdf['gender'] == 'male') & (blogdf['sign'] == 'Gemini') ].tail(4000)\n",
        "blogdf10 = blogdf.loc[(blogdf['gender'] == 'male') & (blogdf['sign'] == 'Capricorn') ].sample(4000)\n",
        "blogdf11 = blogdf.loc[(blogdf['gender'] == 'male') & (blogdf['sign'] == 'Cancer') ].head(4000)\n",
        "blogdf12 = blogdf.loc[(blogdf['gender'] == 'male') & (blogdf['sign'] == 'Aries') ].sample(4000)"
      ],
      "execution_count": 10,
      "outputs": []
    },
    {
      "cell_type": "code",
      "metadata": {
        "id": "V8-TPgX93wWT"
      },
      "source": [
        "blogfdf1 = blogdf.loc[(blogdf['gender'] == 'female') & (blogdf['sign'] == 'Virgo') ].head(4000)\n",
        "blogfdf2 = blogdf.loc[(blogdf['gender'] == 'female') & (blogdf['sign'] == 'Taurus') ].sample(4000)\n",
        "blogfdf3 = blogdf.loc[(blogdf['gender'] == 'female') & (blogdf['sign'] == 'Scorpio') ].tail(4000)\n",
        "blogfdf4 = blogdf.loc[(blogdf['gender'] == 'female') & (blogdf['sign'] == 'Sagittarius') ].sample(4000)\n",
        "blogfdf5 = blogdf.loc[(blogdf['gender'] == 'female') & (blogdf['sign'] == 'Aquarius') ].head(4000)\n",
        "blogfdf6 = blogdf.loc[(blogdf['gender'] == 'female') & (blogdf['sign'] == 'Pisces') ].tail(4000)\n",
        "blogfdf7 = blogdf.loc[(blogdf['gender'] == 'female') & (blogdf['sign'] == 'Libra') ].sample(4000)\n",
        "blogfdf8 = blogdf.loc[(blogdf['gender'] == 'female') & (blogdf['sign'] == 'Leo') ].head(4000)\n",
        "blogfdf9 = blogdf.loc[(blogdf['gender'] == 'female') & (blogdf['sign'] == 'Gemini') ].sample(4000)\n",
        "blogfdf10 = blogdf.loc[(blogdf['gender'] == 'female') & (blogdf['sign'] == 'Capricorn') ].tail(4000)\n",
        "blogfdf11 = blogdf.loc[(blogdf['gender'] == 'female') & (blogdf['sign'] == 'Cancer') ].sample(4000)\n",
        "blogfdf12 = blogdf.loc[(blogdf['gender'] == 'female') & (blogdf['sign'] == 'Aries') ].sample(4000)"
      ],
      "execution_count": 11,
      "outputs": []
    },
    {
      "cell_type": "code",
      "metadata": {
        "id": "hBa5RFDOBNLG",
        "outputId": "73faddff-6912-4a91-99ff-643fc221a081",
        "colab": {
          "base_uri": "https://localhost:8080/",
          "height": 35
        }
      },
      "source": [
        "blogdf1.shape"
      ],
      "execution_count": 107,
      "outputs": [
        {
          "output_type": "execute_result",
          "data": {
            "text/plain": [
              "(4000, 7)"
            ]
          },
          "metadata": {
            "tags": []
          },
          "execution_count": 107
        }
      ]
    },
    {
      "cell_type": "code",
      "metadata": {
        "id": "sENFyOa44hvg"
      },
      "source": [
        "#concatining the blog data\n",
        "finalblogdf = pd.concat([blogdf1,blogdf2,blogdf3,blogdf4,blogdf5,blogdf6,blogdf7,blogdf8,blogdf9,blogdf10,blogdf11,blogdf12,blogfdf1,blogfdf2,\n",
        "                         blogfdf3,blogfdf4,blogfdf5,blogfdf6,blogfdf7,blogfdf8,blogfdf9,blogfdf10,blogfdf11,blogfdf12])"
      ],
      "execution_count": 12,
      "outputs": []
    },
    {
      "cell_type": "code",
      "metadata": {
        "id": "WkxoN5Gd4l_r",
        "outputId": "e2b99510-997c-4c57-e745-25cc08122b30",
        "colab": {
          "base_uri": "https://localhost:8080/",
          "height": 35
        }
      },
      "source": [
        "finalblogdf.shape"
      ],
      "execution_count": 13,
      "outputs": [
        {
          "output_type": "execute_result",
          "data": {
            "text/plain": [
              "(96000, 7)"
            ]
          },
          "metadata": {
            "tags": []
          },
          "execution_count": 13
        }
      ]
    },
    {
      "cell_type": "code",
      "metadata": {
        "id": "CUaOxPfCm_Qu",
        "outputId": "41010f60-4cd8-44ce-9c76-b9d2113c4980",
        "colab": {
          "base_uri": "https://localhost:8080/",
          "height": 202
        }
      },
      "source": [
        "finalblogdf.head()"
      ],
      "execution_count": 14,
      "outputs": [
        {
          "output_type": "execute_result",
          "data": {
            "text/html": [
              "<div>\n",
              "<style scoped>\n",
              "    .dataframe tbody tr th:only-of-type {\n",
              "        vertical-align: middle;\n",
              "    }\n",
              "\n",
              "    .dataframe tbody tr th {\n",
              "        vertical-align: top;\n",
              "    }\n",
              "\n",
              "    .dataframe thead th {\n",
              "        text-align: right;\n",
              "    }\n",
              "</style>\n",
              "<table border=\"1\" class=\"dataframe\">\n",
              "  <thead>\n",
              "    <tr style=\"text-align: right;\">\n",
              "      <th></th>\n",
              "      <th>id</th>\n",
              "      <th>gender</th>\n",
              "      <th>age</th>\n",
              "      <th>topic</th>\n",
              "      <th>sign</th>\n",
              "      <th>date</th>\n",
              "      <th>text</th>\n",
              "    </tr>\n",
              "  </thead>\n",
              "  <tbody>\n",
              "    <tr>\n",
              "      <th>1210</th>\n",
              "      <td>3785178</td>\n",
              "      <td>male</td>\n",
              "      <td>17</td>\n",
              "      <td>Student</td>\n",
              "      <td>Virgo</td>\n",
              "      <td>30,June,2004</td>\n",
              "      <td>I cant believe that im actually making ...</td>\n",
              "    </tr>\n",
              "    <tr>\n",
              "      <th>1211</th>\n",
              "      <td>3785178</td>\n",
              "      <td>male</td>\n",
              "      <td>17</td>\n",
              "      <td>Student</td>\n",
              "      <td>Virgo</td>\n",
              "      <td>06,July,2004</td>\n",
              "      <td>So today was boring. Woke up at 9am...a...</td>\n",
              "    </tr>\n",
              "    <tr>\n",
              "      <th>1212</th>\n",
              "      <td>3785178</td>\n",
              "      <td>male</td>\n",
              "      <td>17</td>\n",
              "      <td>Student</td>\n",
              "      <td>Virgo</td>\n",
              "      <td>04,July,2004</td>\n",
              "      <td>What a shitty 4th of July. I guess it w...</td>\n",
              "    </tr>\n",
              "    <tr>\n",
              "      <th>1213</th>\n",
              "      <td>3785178</td>\n",
              "      <td>male</td>\n",
              "      <td>17</td>\n",
              "      <td>Student</td>\n",
              "      <td>Virgo</td>\n",
              "      <td>03,July,2004</td>\n",
              "      <td>So today was pretty damn uneventful. I ...</td>\n",
              "    </tr>\n",
              "    <tr>\n",
              "      <th>1214</th>\n",
              "      <td>3785178</td>\n",
              "      <td>male</td>\n",
              "      <td>17</td>\n",
              "      <td>Student</td>\n",
              "      <td>Virgo</td>\n",
              "      <td>02,July,2004</td>\n",
              "      <td>GOD DAMN IT! This is another major reas...</td>\n",
              "    </tr>\n",
              "  </tbody>\n",
              "</table>\n",
              "</div>"
            ],
            "text/plain": [
              "           id  ...                                               text\n",
              "1210  3785178  ...         I cant believe that im actually making ...\n",
              "1211  3785178  ...         So today was boring. Woke up at 9am...a...\n",
              "1212  3785178  ...         What a shitty 4th of July. I guess it w...\n",
              "1213  3785178  ...         So today was pretty damn uneventful. I ...\n",
              "1214  3785178  ...         GOD DAMN IT! This is another major reas...\n",
              "\n",
              "[5 rows x 7 columns]"
            ]
          },
          "metadata": {
            "tags": []
          },
          "execution_count": 14
        }
      ]
    },
    {
      "cell_type": "code",
      "metadata": {
        "id": "ymxfdrpN5MnG",
        "outputId": "b0c61ab7-5570-48e1-ffaa-80142b0cad9f",
        "colab": {
          "base_uri": "https://localhost:8080/",
          "height": 260
        }
      },
      "source": [
        "finalblogdf.info()"
      ],
      "execution_count": 13,
      "outputs": [
        {
          "output_type": "stream",
          "text": [
            "<class 'pandas.core.frame.DataFrame'>\n",
            "Int64Index: 96000 entries, 1210 to 438548\n",
            "Data columns (total 7 columns):\n",
            " #   Column  Non-Null Count  Dtype \n",
            "---  ------  --------------  ----- \n",
            " 0   id      96000 non-null  int64 \n",
            " 1   gender  96000 non-null  object\n",
            " 2   age     96000 non-null  int64 \n",
            " 3   topic   96000 non-null  object\n",
            " 4   sign    96000 non-null  object\n",
            " 5   date    96000 non-null  object\n",
            " 6   text    96000 non-null  object\n",
            "dtypes: int64(2), object(5)\n",
            "memory usage: 5.9+ MB\n"
          ],
          "name": "stdout"
        }
      ]
    },
    {
      "cell_type": "code",
      "metadata": {
        "id": "fAgo3YoL5Qlt",
        "outputId": "88384770-0df1-4dbd-c0b8-7d44329c6da6",
        "colab": {
          "base_uri": "https://localhost:8080/",
          "height": 299
        }
      },
      "source": [
        "sns.countplot(x ='gender',data= finalblogdf)"
      ],
      "execution_count": 79,
      "outputs": [
        {
          "output_type": "execute_result",
          "data": {
            "text/plain": [
              "<matplotlib.axes._subplots.AxesSubplot at 0x7f45b947d4a8>"
            ]
          },
          "metadata": {
            "tags": []
          },
          "execution_count": 79
        },
        {
          "output_type": "display_data",
          "data": {
            "image/png": "[encoded data removed]",
            "text/plain": [
              "<Figure size 432x288 with 1 Axes>"
            ]
          },
          "metadata": {
            "tags": [],
            "needs_background": "light"
          }
        }
      ]
    },
    {
      "cell_type": "code",
      "metadata": {
        "id": "sJqZO-cb5Vwh",
        "outputId": "a9a8003a-28e6-46d0-d5ed-8e112c6bb5d1",
        "colab": {
          "base_uri": "https://localhost:8080/",
          "height": 299
        }
      },
      "source": [
        "sns.countplot(x ='age',data= finalblogdf)"
      ],
      "execution_count": 80,
      "outputs": [
        {
          "output_type": "execute_result",
          "data": {
            "text/plain": [
              "<matplotlib.axes._subplots.AxesSubplot at 0x7f45b945cdd8>"
            ]
          },
          "metadata": {
            "tags": []
          },
          "execution_count": 80
        },
        {
          "output_type": "display_data",
          "data": {
            "image/png": "[encoded data removed]",
            "text/plain": [
              "<Figure size 432x288 with 1 Axes>"
            ]
          },
          "metadata": {
            "tags": [],
            "needs_background": "light"
          }
        }
      ]
    },
    {
      "cell_type": "code",
      "metadata": {
        "id": "sWZc7Z0p5YhM",
        "outputId": "2cf0c127-0ca1-4d0a-c227-e035bf1bb7e7",
        "colab": {
          "base_uri": "https://localhost:8080/",
          "height": 447
        }
      },
      "source": [
        "finalblogdf[finalblogdf['gender'] == 'female'].groupby(['sign']).count()"
      ],
      "execution_count": 81,
      "outputs": [
        {
          "output_type": "execute_result",
          "data": {
            "text/html": [
              "<div>\n",
              "<style scoped>\n",
              "    .dataframe tbody tr th:only-of-type {\n",
              "        vertical-align: middle;\n",
              "    }\n",
              "\n",
              "    .dataframe tbody tr th {\n",
              "        vertical-align: top;\n",
              "    }\n",
              "\n",
              "    .dataframe thead th {\n",
              "        text-align: right;\n",
              "    }\n",
              "</style>\n",
              "<table border=\"1\" class=\"dataframe\">\n",
              "  <thead>\n",
              "    <tr style=\"text-align: right;\">\n",
              "      <th></th>\n",
              "      <th>id</th>\n",
              "      <th>gender</th>\n",
              "      <th>age</th>\n",
              "      <th>topic</th>\n",
              "      <th>date</th>\n",
              "      <th>text</th>\n",
              "    </tr>\n",
              "    <tr>\n",
              "      <th>sign</th>\n",
              "      <th></th>\n",
              "      <th></th>\n",
              "      <th></th>\n",
              "      <th></th>\n",
              "      <th></th>\n",
              "      <th></th>\n",
              "    </tr>\n",
              "  </thead>\n",
              "  <tbody>\n",
              "    <tr>\n",
              "      <th>Aquarius</th>\n",
              "      <td>4000</td>\n",
              "      <td>4000</td>\n",
              "      <td>4000</td>\n",
              "      <td>4000</td>\n",
              "      <td>4000</td>\n",
              "      <td>4000</td>\n",
              "    </tr>\n",
              "    <tr>\n",
              "      <th>Aries</th>\n",
              "      <td>4000</td>\n",
              "      <td>4000</td>\n",
              "      <td>4000</td>\n",
              "      <td>4000</td>\n",
              "      <td>4000</td>\n",
              "      <td>4000</td>\n",
              "    </tr>\n",
              "    <tr>\n",
              "      <th>Cancer</th>\n",
              "      <td>4000</td>\n",
              "      <td>4000</td>\n",
              "      <td>4000</td>\n",
              "      <td>4000</td>\n",
              "      <td>4000</td>\n",
              "      <td>4000</td>\n",
              "    </tr>\n",
              "    <tr>\n",
              "      <th>Capricorn</th>\n",
              "      <td>4000</td>\n",
              "      <td>4000</td>\n",
              "      <td>4000</td>\n",
              "      <td>4000</td>\n",
              "      <td>4000</td>\n",
              "      <td>4000</td>\n",
              "    </tr>\n",
              "    <tr>\n",
              "      <th>Gemini</th>\n",
              "      <td>4000</td>\n",
              "      <td>4000</td>\n",
              "      <td>4000</td>\n",
              "      <td>4000</td>\n",
              "      <td>4000</td>\n",
              "      <td>4000</td>\n",
              "    </tr>\n",
              "    <tr>\n",
              "      <th>Leo</th>\n",
              "      <td>4000</td>\n",
              "      <td>4000</td>\n",
              "      <td>4000</td>\n",
              "      <td>4000</td>\n",
              "      <td>4000</td>\n",
              "      <td>4000</td>\n",
              "    </tr>\n",
              "    <tr>\n",
              "      <th>Libra</th>\n",
              "      <td>4000</td>\n",
              "      <td>4000</td>\n",
              "      <td>4000</td>\n",
              "      <td>4000</td>\n",
              "      <td>4000</td>\n",
              "      <td>4000</td>\n",
              "    </tr>\n",
              "    <tr>\n",
              "      <th>Pisces</th>\n",
              "      <td>4000</td>\n",
              "      <td>4000</td>\n",
              "      <td>4000</td>\n",
              "      <td>4000</td>\n",
              "      <td>4000</td>\n",
              "      <td>4000</td>\n",
              "    </tr>\n",
              "    <tr>\n",
              "      <th>Sagittarius</th>\n",
              "      <td>4000</td>\n",
              "      <td>4000</td>\n",
              "      <td>4000</td>\n",
              "      <td>4000</td>\n",
              "      <td>4000</td>\n",
              "      <td>4000</td>\n",
              "    </tr>\n",
              "    <tr>\n",
              "      <th>Scorpio</th>\n",
              "      <td>4000</td>\n",
              "      <td>4000</td>\n",
              "      <td>4000</td>\n",
              "      <td>4000</td>\n",
              "      <td>4000</td>\n",
              "      <td>4000</td>\n",
              "    </tr>\n",
              "    <tr>\n",
              "      <th>Taurus</th>\n",
              "      <td>4000</td>\n",
              "      <td>4000</td>\n",
              "      <td>4000</td>\n",
              "      <td>4000</td>\n",
              "      <td>4000</td>\n",
              "      <td>4000</td>\n",
              "    </tr>\n",
              "    <tr>\n",
              "      <th>Virgo</th>\n",
              "      <td>4000</td>\n",
              "      <td>4000</td>\n",
              "      <td>4000</td>\n",
              "      <td>4000</td>\n",
              "      <td>4000</td>\n",
              "      <td>4000</td>\n",
              "    </tr>\n",
              "  </tbody>\n",
              "</table>\n",
              "</div>"
            ],
            "text/plain": [
              "               id  gender   age  topic  date  text\n",
              "sign                                              \n",
              "Aquarius     4000    4000  4000   4000  4000  4000\n",
              "Aries        4000    4000  4000   4000  4000  4000\n",
              "Cancer       4000    4000  4000   4000  4000  4000\n",
              "Capricorn    4000    4000  4000   4000  4000  4000\n",
              "Gemini       4000    4000  4000   4000  4000  4000\n",
              "Leo          4000    4000  4000   4000  4000  4000\n",
              "Libra        4000    4000  4000   4000  4000  4000\n",
              "Pisces       4000    4000  4000   4000  4000  4000\n",
              "Sagittarius  4000    4000  4000   4000  4000  4000\n",
              "Scorpio      4000    4000  4000   4000  4000  4000\n",
              "Taurus       4000    4000  4000   4000  4000  4000\n",
              "Virgo        4000    4000  4000   4000  4000  4000"
            ]
          },
          "metadata": {
            "tags": []
          },
          "execution_count": 81
        }
      ]
    },
    {
      "cell_type": "code",
      "metadata": {
        "id": "3vWkLiEz5eYI",
        "outputId": "b1e07a5a-aa89-427c-b0fa-70fc9ee378c2",
        "colab": {
          "base_uri": "https://localhost:8080/",
          "height": 447
        }
      },
      "source": [
        "finalblogdf[finalblogdf['gender'] == 'male'].groupby(['sign']).count()"
      ],
      "execution_count": 82,
      "outputs": [
        {
          "output_type": "execute_result",
          "data": {
            "text/html": [
              "<div>\n",
              "<style scoped>\n",
              "    .dataframe tbody tr th:only-of-type {\n",
              "        vertical-align: middle;\n",
              "    }\n",
              "\n",
              "    .dataframe tbody tr th {\n",
              "        vertical-align: top;\n",
              "    }\n",
              "\n",
              "    .dataframe thead th {\n",
              "        text-align: right;\n",
              "    }\n",
              "</style>\n",
              "<table border=\"1\" class=\"dataframe\">\n",
              "  <thead>\n",
              "    <tr style=\"text-align: right;\">\n",
              "      <th></th>\n",
              "      <th>id</th>\n",
              "      <th>gender</th>\n",
              "      <th>age</th>\n",
              "      <th>topic</th>\n",
              "      <th>date</th>\n",
              "      <th>text</th>\n",
              "    </tr>\n",
              "    <tr>\n",
              "      <th>sign</th>\n",
              "      <th></th>\n",
              "      <th></th>\n",
              "      <th></th>\n",
              "      <th></th>\n",
              "      <th></th>\n",
              "      <th></th>\n",
              "    </tr>\n",
              "  </thead>\n",
              "  <tbody>\n",
              "    <tr>\n",
              "      <th>Aquarius</th>\n",
              "      <td>4000</td>\n",
              "      <td>4000</td>\n",
              "      <td>4000</td>\n",
              "      <td>4000</td>\n",
              "      <td>4000</td>\n",
              "      <td>4000</td>\n",
              "    </tr>\n",
              "    <tr>\n",
              "      <th>Aries</th>\n",
              "      <td>4000</td>\n",
              "      <td>4000</td>\n",
              "      <td>4000</td>\n",
              "      <td>4000</td>\n",
              "      <td>4000</td>\n",
              "      <td>4000</td>\n",
              "    </tr>\n",
              "    <tr>\n",
              "      <th>Cancer</th>\n",
              "      <td>4000</td>\n",
              "      <td>4000</td>\n",
              "      <td>4000</td>\n",
              "      <td>4000</td>\n",
              "      <td>4000</td>\n",
              "      <td>4000</td>\n",
              "    </tr>\n",
              "    <tr>\n",
              "      <th>Capricorn</th>\n",
              "      <td>4000</td>\n",
              "      <td>4000</td>\n",
              "      <td>4000</td>\n",
              "      <td>4000</td>\n",
              "      <td>4000</td>\n",
              "      <td>4000</td>\n",
              "    </tr>\n",
              "    <tr>\n",
              "      <th>Gemini</th>\n",
              "      <td>4000</td>\n",
              "      <td>4000</td>\n",
              "      <td>4000</td>\n",
              "      <td>4000</td>\n",
              "      <td>4000</td>\n",
              "      <td>4000</td>\n",
              "    </tr>\n",
              "    <tr>\n",
              "      <th>Leo</th>\n",
              "      <td>4000</td>\n",
              "      <td>4000</td>\n",
              "      <td>4000</td>\n",
              "      <td>4000</td>\n",
              "      <td>4000</td>\n",
              "      <td>4000</td>\n",
              "    </tr>\n",
              "    <tr>\n",
              "      <th>Libra</th>\n",
              "      <td>4000</td>\n",
              "      <td>4000</td>\n",
              "      <td>4000</td>\n",
              "      <td>4000</td>\n",
              "      <td>4000</td>\n",
              "      <td>4000</td>\n",
              "    </tr>\n",
              "    <tr>\n",
              "      <th>Pisces</th>\n",
              "      <td>4000</td>\n",
              "      <td>4000</td>\n",
              "      <td>4000</td>\n",
              "      <td>4000</td>\n",
              "      <td>4000</td>\n",
              "      <td>4000</td>\n",
              "    </tr>\n",
              "    <tr>\n",
              "      <th>Sagittarius</th>\n",
              "      <td>4000</td>\n",
              "      <td>4000</td>\n",
              "      <td>4000</td>\n",
              "      <td>4000</td>\n",
              "      <td>4000</td>\n",
              "      <td>4000</td>\n",
              "    </tr>\n",
              "    <tr>\n",
              "      <th>Scorpio</th>\n",
              "      <td>4000</td>\n",
              "      <td>4000</td>\n",
              "      <td>4000</td>\n",
              "      <td>4000</td>\n",
              "      <td>4000</td>\n",
              "      <td>4000</td>\n",
              "    </tr>\n",
              "    <tr>\n",
              "      <th>Taurus</th>\n",
              "      <td>4000</td>\n",
              "      <td>4000</td>\n",
              "      <td>4000</td>\n",
              "      <td>4000</td>\n",
              "      <td>4000</td>\n",
              "      <td>4000</td>\n",
              "    </tr>\n",
              "    <tr>\n",
              "      <th>Virgo</th>\n",
              "      <td>4000</td>\n",
              "      <td>4000</td>\n",
              "      <td>4000</td>\n",
              "      <td>4000</td>\n",
              "      <td>4000</td>\n",
              "      <td>4000</td>\n",
              "    </tr>\n",
              "  </tbody>\n",
              "</table>\n",
              "</div>"
            ],
            "text/plain": [
              "               id  gender   age  topic  date  text\n",
              "sign                                              \n",
              "Aquarius     4000    4000  4000   4000  4000  4000\n",
              "Aries        4000    4000  4000   4000  4000  4000\n",
              "Cancer       4000    4000  4000   4000  4000  4000\n",
              "Capricorn    4000    4000  4000   4000  4000  4000\n",
              "Gemini       4000    4000  4000   4000  4000  4000\n",
              "Leo          4000    4000  4000   4000  4000  4000\n",
              "Libra        4000    4000  4000   4000  4000  4000\n",
              "Pisces       4000    4000  4000   4000  4000  4000\n",
              "Sagittarius  4000    4000  4000   4000  4000  4000\n",
              "Scorpio      4000    4000  4000   4000  4000  4000\n",
              "Taurus       4000    4000  4000   4000  4000  4000\n",
              "Virgo        4000    4000  4000   4000  4000  4000"
            ]
          },
          "metadata": {
            "tags": []
          },
          "execution_count": 82
        }
      ]
    },
    {
      "cell_type": "markdown",
      "metadata": {
        "id": "a1E4NO1aZn3f"
      },
      "source": [
        ""
      ]
    },
    {
      "cell_type": "markdown",
      "metadata": {
        "id": "thoepGBJZn8e"
      },
      "source": [
        "2. Preprocess rows of the “text” column (7.5 points)\n",
        "a. Remove unwanted characters\n",
        "b. Convert text to lowercase\n",
        "c. Remove unwanted spaces\n",
        "d. Remove stopwords "
      ]
    },
    {
      "cell_type": "markdown",
      "metadata": {
        "id": "pS5zrvxOYvph"
      },
      "source": [
        "**As the blogs are in multiple languages,considering only the blogs which are in english and removing the other blogs**"
      ]
    },
    {
      "cell_type": "code",
      "metadata": {
        "id": "lV12DlHxhz2y",
        "outputId": "9f54ad61-c9a9-4b05-eac6-21f778f3c9b6",
        "colab": {
          "base_uri": "https://localhost:8080/",
          "height": 228
        }
      },
      "source": [
        "!pip install langid\n",
        "import langid"
      ],
      "execution_count": 15,
      "outputs": [
        {
          "output_type": "stream",
          "text": [
            "Collecting langid\n",
            "\u001b[?25l  Downloading https://files.pythonhosted.org/packages/ea/4c/0fb7d900d3b0b9c8703be316fbddffecdab23c64e1b46c7a83561d78bd43/langid-1.1.6.tar.gz (1.9MB)\n",
            "\u001b[K     |████████████████████████████████| 1.9MB 6.4MB/s \n",
            "\u001b[?25hRequirement already satisfied: numpy in /usr/local/lib/python3.6/dist-packages (from langid) (1.18.5)\n",
            "Building wheels for collected packages: langid\n",
            "  Building wheel for langid (setup.py) ... \u001b[?25l\u001b[?25hdone\n",
            "  Created wheel for langid: filename=langid-1.1.6-cp36-none-any.whl size=1941192 sha256=e9147520375c53319f128fd4e7c1fc41c0d515da8d3089b0451080860fa2141a\n",
            "  Stored in directory: /root/.cache/pip/wheels/29/bc/61/50a93be85d1afe9436c3dc61f38da8ad7b637a38af4824e86e\n",
            "Successfully built langid\n",
            "Installing collected packages: langid\n",
            "Successfully installed langid-1.1.6\n"
          ],
          "name": "stdout"
        }
      ]
    },
    {
      "cell_type": "code",
      "metadata": {
        "id": "G-jumKrzhP_x",
        "outputId": "8a53ad4a-337c-4dc7-b6d9-3cfb00ee0bd8",
        "colab": {
          "base_uri": "https://localhost:8080/",
          "height": 191
        }
      },
      "source": [
        "#checking the language\n",
        "finalblogdf['text'][1:10].apply(langid.classify)"
      ],
      "execution_count": 16,
      "outputs": [
        {
          "output_type": "execute_result",
          "data": {
            "text/plain": [
              "1211     (en, -6360.137987852097)\n",
              "1212      (en, -9854.25968503952)\n",
              "1213     (en, -4804.339765548706)\n",
              "1214    (en, -1514.0974280834198)\n",
              "1285    (en, -14017.135055541992)\n",
              "1286     (en, -731.4950740337372)\n",
              "1287      (fr, 1.828549861907959)\n",
              "1288    (en, -1845.2108483314514)\n",
              "1289      (en, -707.952995300293)\n",
              "Name: text, dtype: object"
            ]
          },
          "metadata": {
            "tags": []
          },
          "execution_count": 16
        }
      ]
    },
    {
      "cell_type": "code",
      "metadata": {
        "id": "otqF4MRtsQRG"
      },
      "source": [
        "# get the language id for each text\n",
        "ids_langid = finalblogdf['text'].apply(langid.classify)\n",
        "\n",
        "# get just the language label\n",
        "langs = ids_langid.apply(lambda tuple: tuple[0])"
      ],
      "execution_count": 17,
      "outputs": []
    },
    {
      "cell_type": "code",
      "metadata": {
        "id": "XVxQsHvLiozq",
        "outputId": "930aef76-6cbc-47ff-81c4-bc41c9e571b5",
        "colab": {
          "base_uri": "https://localhost:8080/",
          "height": 87
        }
      },
      "source": [
        "# how many unique language labels were applied?\n",
        "print(\"Number of tagged languages (estimated):\")\n",
        "print(len(langs.unique()))\n",
        "\n",
        "# percent of the total dataset in English\n",
        "print(\"Percent of data in English (estimated):\")\n",
        "print((sum(langs==\"en\")/len(langs))*100)"
      ],
      "execution_count": 18,
      "outputs": [
        {
          "output_type": "stream",
          "text": [
            "Number of tagged languages (estimated):\n",
            "66\n",
            "Percent of data in English (estimated):\n",
            "97.83020833333333\n"
          ],
          "name": "stdout"
        }
      ]
    },
    {
      "cell_type": "code",
      "metadata": {
        "id": "iqbo25z1mQ67"
      },
      "source": [
        "langs_df = pd.DataFrame(langs)\n",
        "\n",
        "# count the number of times we see each language\n",
        "langs_count = langs_df.text.value_counts()"
      ],
      "execution_count": 19,
      "outputs": []
    },
    {
      "cell_type": "code",
      "metadata": {
        "id": "z5xCBh9lmYOH",
        "outputId": "c00029a3-56a7-49ff-b7e8-42572bcb8ded",
        "colab": {
          "base_uri": "https://localhost:8080/",
          "height": 225
        }
      },
      "source": [
        "langs_count"
      ],
      "execution_count": 20,
      "outputs": [
        {
          "output_type": "execute_result",
          "data": {
            "text/plain": [
              "en    93917\n",
              "zh      218\n",
              "de      217\n",
              "tl      204\n",
              "id      192\n",
              "      ...  \n",
              "he        1\n",
              "ky        1\n",
              "ar        1\n",
              "ur        1\n",
              "oc        1\n",
              "Name: text, Length: 66, dtype: int64"
            ]
          },
          "metadata": {
            "tags": []
          },
          "execution_count": 20
        }
      ]
    },
    {
      "cell_type": "code",
      "metadata": {
        "id": "K9jAFUwimdid",
        "outputId": "8b2feb65-3462-48b9-994a-4bee47dde21f",
        "colab": {
          "base_uri": "https://localhost:8080/",
          "height": 415
        }
      },
      "source": [
        "langs_df[langs_df['text']=='en']"
      ],
      "execution_count": 21,
      "outputs": [
        {
          "output_type": "execute_result",
          "data": {
            "text/html": [
              "<div>\n",
              "<style scoped>\n",
              "    .dataframe tbody tr th:only-of-type {\n",
              "        vertical-align: middle;\n",
              "    }\n",
              "\n",
              "    .dataframe tbody tr th {\n",
              "        vertical-align: top;\n",
              "    }\n",
              "\n",
              "    .dataframe thead th {\n",
              "        text-align: right;\n",
              "    }\n",
              "</style>\n",
              "<table border=\"1\" class=\"dataframe\">\n",
              "  <thead>\n",
              "    <tr style=\"text-align: right;\">\n",
              "      <th></th>\n",
              "      <th>text</th>\n",
              "    </tr>\n",
              "  </thead>\n",
              "  <tbody>\n",
              "    <tr>\n",
              "      <th>1210</th>\n",
              "      <td>en</td>\n",
              "    </tr>\n",
              "    <tr>\n",
              "      <th>1211</th>\n",
              "      <td>en</td>\n",
              "    </tr>\n",
              "    <tr>\n",
              "      <th>1212</th>\n",
              "      <td>en</td>\n",
              "    </tr>\n",
              "    <tr>\n",
              "      <th>1213</th>\n",
              "      <td>en</td>\n",
              "    </tr>\n",
              "    <tr>\n",
              "      <th>1214</th>\n",
              "      <td>en</td>\n",
              "    </tr>\n",
              "    <tr>\n",
              "      <th>...</th>\n",
              "      <td>...</td>\n",
              "    </tr>\n",
              "    <tr>\n",
              "      <th>674206</th>\n",
              "      <td>en</td>\n",
              "    </tr>\n",
              "    <tr>\n",
              "      <th>679492</th>\n",
              "      <td>en</td>\n",
              "    </tr>\n",
              "    <tr>\n",
              "      <th>340940</th>\n",
              "      <td>en</td>\n",
              "    </tr>\n",
              "    <tr>\n",
              "      <th>20641</th>\n",
              "      <td>en</td>\n",
              "    </tr>\n",
              "    <tr>\n",
              "      <th>287939</th>\n",
              "      <td>en</td>\n",
              "    </tr>\n",
              "  </tbody>\n",
              "</table>\n",
              "<p>93917 rows × 1 columns</p>\n",
              "</div>"
            ],
            "text/plain": [
              "       text\n",
              "1210     en\n",
              "1211     en\n",
              "1212     en\n",
              "1213     en\n",
              "1214     en\n",
              "...     ...\n",
              "674206   en\n",
              "679492   en\n",
              "340940   en\n",
              "20641    en\n",
              "287939   en\n",
              "\n",
              "[93917 rows x 1 columns]"
            ]
          },
          "metadata": {
            "tags": []
          },
          "execution_count": 21
        }
      ]
    },
    {
      "cell_type": "code",
      "metadata": {
        "id": "iJBf2BvDoeYo"
      },
      "source": [
        "\n",
        "newdf = langs_df[langs_df['text']=='en'].index\n",
        "\n",
        "newdf = pd.DataFrame(newdf,columns=['index'])"
      ],
      "execution_count": 22,
      "outputs": []
    },
    {
      "cell_type": "code",
      "metadata": {
        "id": "096u16GwvecD"
      },
      "source": [
        "finalblogdf['index'] =finalblogdf.index"
      ],
      "execution_count": 23,
      "outputs": []
    },
    {
      "cell_type": "code",
      "metadata": {
        "id": "jrGc7G2zmvU7"
      },
      "source": [
        "finalblogdf1 = finalblogdf[finalblogdf['index'].isin(newdf['index'])]\n",
        "#considerign the index which is present in english language data"
      ],
      "execution_count": null,
      "outputs": []
    },
    {
      "cell_type": "code",
      "metadata": {
        "id": "Q45is5mKp6ky",
        "outputId": "4efbfe26-77fc-44ad-a8ff-09c55145e071",
        "colab": {
          "base_uri": "https://localhost:8080/",
          "height": 110
        }
      },
      "source": [
        "finalblogdf1.head(2)"
      ],
      "execution_count": 26,
      "outputs": [
        {
          "output_type": "execute_result",
          "data": {
            "text/html": [
              "<div>\n",
              "<style scoped>\n",
              "    .dataframe tbody tr th:only-of-type {\n",
              "        vertical-align: middle;\n",
              "    }\n",
              "\n",
              "    .dataframe tbody tr th {\n",
              "        vertical-align: top;\n",
              "    }\n",
              "\n",
              "    .dataframe thead th {\n",
              "        text-align: right;\n",
              "    }\n",
              "</style>\n",
              "<table border=\"1\" class=\"dataframe\">\n",
              "  <thead>\n",
              "    <tr style=\"text-align: right;\">\n",
              "      <th></th>\n",
              "      <th>id</th>\n",
              "      <th>gender</th>\n",
              "      <th>age</th>\n",
              "      <th>topic</th>\n",
              "      <th>sign</th>\n",
              "      <th>date</th>\n",
              "      <th>text</th>\n",
              "      <th>index</th>\n",
              "    </tr>\n",
              "  </thead>\n",
              "  <tbody>\n",
              "    <tr>\n",
              "      <th>1210</th>\n",
              "      <td>3785178</td>\n",
              "      <td>male</td>\n",
              "      <td>17</td>\n",
              "      <td>Student</td>\n",
              "      <td>Virgo</td>\n",
              "      <td>30,June,2004</td>\n",
              "      <td>I cant believe that im actually making ...</td>\n",
              "      <td>1210</td>\n",
              "    </tr>\n",
              "    <tr>\n",
              "      <th>1211</th>\n",
              "      <td>3785178</td>\n",
              "      <td>male</td>\n",
              "      <td>17</td>\n",
              "      <td>Student</td>\n",
              "      <td>Virgo</td>\n",
              "      <td>06,July,2004</td>\n",
              "      <td>So today was boring. Woke up at 9am...a...</td>\n",
              "      <td>1211</td>\n",
              "    </tr>\n",
              "  </tbody>\n",
              "</table>\n",
              "</div>"
            ],
            "text/plain": [
              "           id gender  ...                                               text index\n",
              "1210  3785178   male  ...         I cant believe that im actually making ...  1210\n",
              "1211  3785178   male  ...         So today was boring. Woke up at 9am...a...  1211\n",
              "\n",
              "[2 rows x 8 columns]"
            ]
          },
          "metadata": {
            "tags": []
          },
          "execution_count": 26
        }
      ]
    },
    {
      "cell_type": "code",
      "metadata": {
        "id": "0xZHsWbHrAuE",
        "outputId": "629e06ea-3026-46b8-9434-e0478a85e4b3",
        "colab": {
          "base_uri": "https://localhost:8080/",
          "height": 277
        }
      },
      "source": [
        "finalblogdf1.info()"
      ],
      "execution_count": 27,
      "outputs": [
        {
          "output_type": "stream",
          "text": [
            "<class 'pandas.core.frame.DataFrame'>\n",
            "Int64Index: 93887 entries, 1210 to 90828\n",
            "Data columns (total 8 columns):\n",
            " #   Column  Non-Null Count  Dtype \n",
            "---  ------  --------------  ----- \n",
            " 0   id      93887 non-null  int64 \n",
            " 1   gender  93887 non-null  object\n",
            " 2   age     93887 non-null  int64 \n",
            " 3   topic   93887 non-null  object\n",
            " 4   sign    93887 non-null  object\n",
            " 5   date    93887 non-null  object\n",
            " 6   text    93887 non-null  object\n",
            " 7   index   93887 non-null  int64 \n",
            "dtypes: int64(3), object(5)\n",
            "memory usage: 6.4+ MB\n"
          ],
          "name": "stdout"
        }
      ]
    },
    {
      "cell_type": "code",
      "metadata": {
        "id": "Bej9O8NsrDmf",
        "outputId": "c468a9be-8d2e-4ba7-d256-1ef72c900b29",
        "colab": {
          "base_uri": "https://localhost:8080/",
          "height": 35
        }
      },
      "source": [
        "finalblogdf1.shape"
      ],
      "execution_count": 28,
      "outputs": [
        {
          "output_type": "execute_result",
          "data": {
            "text/plain": [
              "(93887, 8)"
            ]
          },
          "metadata": {
            "tags": []
          },
          "execution_count": 28
        }
      ]
    },
    {
      "cell_type": "markdown",
      "metadata": {
        "id": "kt3m2NCoZP0J"
      },
      "source": [
        "**Converting to lowercase first to reduce memory of converting characters to both in upper and lower**"
      ]
    },
    {
      "cell_type": "code",
      "metadata": {
        "id": "eHwf4lL_bvhv",
        "outputId": "5e55d25d-61eb-4aa8-c112-a7c4d5454ea1",
        "colab": {
          "base_uri": "https://localhost:8080/",
          "height": 202
        }
      },
      "source": [
        "#Convert text to lowercase \n",
        "\n",
        "import re\n",
        "finalblogdf1['text']= finalblogdf1['text'].apply(lambda s: s.lower())\n",
        "finalblogdf1['topic']= finalblogdf1['topic'].apply(lambda s: s.lower())\n",
        "finalblogdf1['sign']= finalblogdf1['sign'].apply(lambda s: s.lower())\n",
        "finalblogdf1['gender']= finalblogdf1['gender'].apply(lambda s: s.lower())\n",
        "#converting to lower first to reduce the number of operation in pattern matching\n",
        "finalblogdf1.head()"
      ],
      "execution_count": 25,
      "outputs": [
        {
          "output_type": "execute_result",
          "data": {
            "text/html": [
              "<div>\n",
              "<style scoped>\n",
              "    .dataframe tbody tr th:only-of-type {\n",
              "        vertical-align: middle;\n",
              "    }\n",
              "\n",
              "    .dataframe tbody tr th {\n",
              "        vertical-align: top;\n",
              "    }\n",
              "\n",
              "    .dataframe thead th {\n",
              "        text-align: right;\n",
              "    }\n",
              "</style>\n",
              "<table border=\"1\" class=\"dataframe\">\n",
              "  <thead>\n",
              "    <tr style=\"text-align: right;\">\n",
              "      <th></th>\n",
              "      <th>id</th>\n",
              "      <th>gender</th>\n",
              "      <th>age</th>\n",
              "      <th>topic</th>\n",
              "      <th>sign</th>\n",
              "      <th>date</th>\n",
              "      <th>text</th>\n",
              "      <th>index</th>\n",
              "    </tr>\n",
              "  </thead>\n",
              "  <tbody>\n",
              "    <tr>\n",
              "      <th>1210</th>\n",
              "      <td>3785178</td>\n",
              "      <td>male</td>\n",
              "      <td>17</td>\n",
              "      <td>student</td>\n",
              "      <td>virgo</td>\n",
              "      <td>30,June,2004</td>\n",
              "      <td>i cant believe that im actually making ...</td>\n",
              "      <td>1210</td>\n",
              "    </tr>\n",
              "    <tr>\n",
              "      <th>1211</th>\n",
              "      <td>3785178</td>\n",
              "      <td>male</td>\n",
              "      <td>17</td>\n",
              "      <td>student</td>\n",
              "      <td>virgo</td>\n",
              "      <td>06,July,2004</td>\n",
              "      <td>so today was boring. woke up at 9am...a...</td>\n",
              "      <td>1211</td>\n",
              "    </tr>\n",
              "    <tr>\n",
              "      <th>1212</th>\n",
              "      <td>3785178</td>\n",
              "      <td>male</td>\n",
              "      <td>17</td>\n",
              "      <td>student</td>\n",
              "      <td>virgo</td>\n",
              "      <td>04,July,2004</td>\n",
              "      <td>what a shitty 4th of july. i guess it w...</td>\n",
              "      <td>1212</td>\n",
              "    </tr>\n",
              "    <tr>\n",
              "      <th>1213</th>\n",
              "      <td>3785178</td>\n",
              "      <td>male</td>\n",
              "      <td>17</td>\n",
              "      <td>student</td>\n",
              "      <td>virgo</td>\n",
              "      <td>03,July,2004</td>\n",
              "      <td>so today was pretty damn uneventful. i ...</td>\n",
              "      <td>1213</td>\n",
              "    </tr>\n",
              "    <tr>\n",
              "      <th>1214</th>\n",
              "      <td>3785178</td>\n",
              "      <td>male</td>\n",
              "      <td>17</td>\n",
              "      <td>student</td>\n",
              "      <td>virgo</td>\n",
              "      <td>02,July,2004</td>\n",
              "      <td>god damn it! this is another major reas...</td>\n",
              "      <td>1214</td>\n",
              "    </tr>\n",
              "  </tbody>\n",
              "</table>\n",
              "</div>"
            ],
            "text/plain": [
              "           id gender  ...                                               text index\n",
              "1210  3785178   male  ...         i cant believe that im actually making ...  1210\n",
              "1211  3785178   male  ...         so today was boring. woke up at 9am...a...  1211\n",
              "1212  3785178   male  ...         what a shitty 4th of july. i guess it w...  1212\n",
              "1213  3785178   male  ...         so today was pretty damn uneventful. i ...  1213\n",
              "1214  3785178   male  ...         god damn it! this is another major reas...  1214\n",
              "\n",
              "[5 rows x 8 columns]"
            ]
          },
          "metadata": {
            "tags": []
          },
          "execution_count": 25
        }
      ]
    },
    {
      "cell_type": "code",
      "metadata": {
        "id": "Bx3OVEjXi9_x"
      },
      "source": [
        "specialcharc = '{}[]/?*&^%$#@!~.,_-'"
      ],
      "execution_count": 140,
      "outputs": []
    },
    {
      "cell_type": "code",
      "metadata": {
        "id": "cjfEoT6Debn1",
        "outputId": "ee884cf6-fb3c-4b52-8b37-1046f30f605c",
        "colab": {
          "base_uri": "https://localhost:8080/",
          "height": 35
        }
      },
      "source": [
        "finalblogdf1.text.str.strip(specialcharc).astype(bool).any()"
      ],
      "execution_count": 141,
      "outputs": [
        {
          "output_type": "execute_result",
          "data": {
            "text/plain": [
              "True"
            ]
          },
          "metadata": {
            "tags": []
          },
          "execution_count": 141
        }
      ]
    },
    {
      "cell_type": "code",
      "metadata": {
        "id": "1-NRmdPllxtd",
        "outputId": "f204689f-71a1-4105-b0e7-9169dbd79dd8",
        "colab": {
          "base_uri": "https://localhost:8080/",
          "height": 191
        }
      },
      "source": [
        "finalblogdf1['text'][1:10]"
      ],
      "execution_count": 142,
      "outputs": [
        {
          "output_type": "execute_result",
          "data": {
            "text/plain": [
              "1211           so today was boring. woke up at 9am...a...\n",
              "1212           what a shitty 4th of july. i guess it w...\n",
              "1213           so today was pretty damn uneventful. i ...\n",
              "1214           god damn it! this is another major reas...\n",
              "1285               in september of 1996, i was backpac...\n",
              "1286                urllink transcendentalfloss   okay...\n",
              "1288               'roll down the window and let the w...\n",
              "1289               i don't have a cell phone, but i wa...\n",
              "1290               josh marshall made a  urllink  post...\n",
              "Name: text, dtype: object"
            ]
          },
          "metadata": {
            "tags": []
          },
          "execution_count": 142
        }
      ]
    },
    {
      "cell_type": "markdown",
      "metadata": {
        "id": "mA65PWHmZakj"
      },
      "source": [
        "Remove unwanted characters"
      ]
    },
    {
      "cell_type": "code",
      "metadata": {
        "id": "9N_zkOcdc3fF"
      },
      "source": [
        "#Remove unwanted characters \n",
        "finalblogdf1['text'] = finalblogdf1['text'].apply(lambda s: re.sub('[^a-z ]','',s))"
      ],
      "execution_count": 26,
      "outputs": []
    },
    {
      "cell_type": "code",
      "metadata": {
        "id": "WfccKGvGeFD7",
        "outputId": "b85f9aa0-7e11-4ac7-bf04-89768a5822d2",
        "colab": {
          "base_uri": "https://localhost:8080/",
          "height": 225
        }
      },
      "source": [
        "finalblogdf1['text']"
      ],
      "execution_count": 27,
      "outputs": [
        {
          "output_type": "execute_result",
          "data": {
            "text/plain": [
              "1210             i cant believe that im actually making ...\n",
              "1211             so today was boring woke up at amate br...\n",
              "1212             what a shitty th of july i guess it was...\n",
              "1213             so today was pretty damn uneventful i h...\n",
              "1214             god damn it this is another major reaso...\n",
              "                                ...                        \n",
              "674206                changing on a dime   and now the s...\n",
              "679492       kurtz tells captain willard you have the ri...\n",
              "340940                      recording is any working day...\n",
              "20641            sometimes its still sad that someone ju...\n",
              "287939           today is my birthday  it is a day that ...\n",
              "Name: text, Length: 93917, dtype: object"
            ]
          },
          "metadata": {
            "tags": []
          },
          "execution_count": 27
        }
      ]
    },
    {
      "cell_type": "markdown",
      "metadata": {
        "id": "QaAlRAV2ZigM"
      },
      "source": [
        "#c. Remove unwanted spaces\n"
      ]
    },
    {
      "cell_type": "code",
      "metadata": {
        "id": "TTBvRRTanwfS"
      },
      "source": [
        "\n",
        "finalblogdf1['text'] = finalblogdf1['text'].apply(lambda s: s.strip())"
      ],
      "execution_count": 28,
      "outputs": []
    },
    {
      "cell_type": "markdown",
      "metadata": {
        "id": "C8nFSrfNZhia"
      },
      "source": [
        ""
      ]
    },
    {
      "cell_type": "code",
      "metadata": {
        "id": "_nlMlMSAaWXt",
        "outputId": "e8c5548c-ab01-47a3-ce97-5ee0a3cf4c96",
        "colab": {
          "base_uri": "https://localhost:8080/",
          "height": 867
        }
      },
      "source": [
        "import nltk\n",
        "nltk.download(\"popular\")"
      ],
      "execution_count": 9,
      "outputs": [
        {
          "output_type": "stream",
          "text": [
            "[nltk_data] Downloading collection 'popular'\n",
            "[nltk_data]    | \n",
            "[nltk_data]    | Downloading package cmudict to /root/nltk_data...\n",
            "[nltk_data]    |   Package cmudict is already up-to-date!\n",
            "[nltk_data]    | Downloading package gazetteers to /root/nltk_data...\n",
            "[nltk_data]    |   Package gazetteers is already up-to-date!\n",
            "[nltk_data]    | Downloading package genesis to /root/nltk_data...\n",
            "[nltk_data]    |   Package genesis is already up-to-date!\n",
            "[nltk_data]    | Downloading package gutenberg to /root/nltk_data...\n",
            "[nltk_data]    |   Package gutenberg is already up-to-date!\n",
            "[nltk_data]    | Downloading package inaugural to /root/nltk_data...\n",
            "[nltk_data]    |   Package inaugural is already up-to-date!\n",
            "[nltk_data]    | Downloading package movie_reviews to\n",
            "[nltk_data]    |     /root/nltk_data...\n",
            "[nltk_data]    |   Package movie_reviews is already up-to-date!\n",
            "[nltk_data]    | Downloading package names to /root/nltk_data...\n",
            "[nltk_data]    |   Package names is already up-to-date!\n",
            "[nltk_data]    | Downloading package shakespeare to /root/nltk_data...\n",
            "[nltk_data]    |   Package shakespeare is already up-to-date!\n",
            "[nltk_data]    | Downloading package stopwords to /root/nltk_data...\n",
            "[nltk_data]    |   Package stopwords is already up-to-date!\n",
            "[nltk_data]    | Downloading package treebank to /root/nltk_data...\n",
            "[nltk_data]    |   Package treebank is already up-to-date!\n",
            "[nltk_data]    | Downloading package twitter_samples to\n",
            "[nltk_data]    |     /root/nltk_data...\n",
            "[nltk_data]    |   Package twitter_samples is already up-to-date!\n",
            "[nltk_data]    | Downloading package omw to /root/nltk_data...\n",
            "[nltk_data]    |   Package omw is already up-to-date!\n",
            "[nltk_data]    | Downloading package wordnet to /root/nltk_data...\n",
            "[nltk_data]    |   Package wordnet is already up-to-date!\n",
            "[nltk_data]    | Downloading package wordnet_ic to /root/nltk_data...\n",
            "[nltk_data]    |   Package wordnet_ic is already up-to-date!\n",
            "[nltk_data]    | Downloading package words to /root/nltk_data...\n",
            "[nltk_data]    |   Package words is already up-to-date!\n",
            "[nltk_data]    | Downloading package maxent_ne_chunker to\n",
            "[nltk_data]    |     /root/nltk_data...\n",
            "[nltk_data]    |   Package maxent_ne_chunker is already up-to-date!\n",
            "[nltk_data]    | Downloading package punkt to /root/nltk_data...\n",
            "[nltk_data]    |   Package punkt is already up-to-date!\n",
            "[nltk_data]    | Downloading package snowball_data to\n",
            "[nltk_data]    |     /root/nltk_data...\n",
            "[nltk_data]    |   Package snowball_data is already up-to-date!\n",
            "[nltk_data]    | Downloading package averaged_perceptron_tagger to\n",
            "[nltk_data]    |     /root/nltk_data...\n",
            "[nltk_data]    |   Package averaged_perceptron_tagger is already up-\n",
            "[nltk_data]    |       to-date!\n",
            "[nltk_data]    | \n",
            "[nltk_data]  Done downloading collection popular\n"
          ],
          "name": "stdout"
        },
        {
          "output_type": "execute_result",
          "data": {
            "text/plain": [
              "True"
            ]
          },
          "metadata": {
            "tags": []
          },
          "execution_count": 9
        }
      ]
    },
    {
      "cell_type": "code",
      "metadata": {
        "id": "46mZmLh-a-7Q",
        "outputId": "d263cda5-ee09-4eac-a206-2374ab9eac92",
        "colab": {
          "base_uri": "https://localhost:8080/",
          "height": 55
        }
      },
      "source": [
        "#stop words in english\n",
        "from nltk.corpus import stopwords\n",
        "print(stopwords.words('english'))"
      ],
      "execution_count": 30,
      "outputs": [
        {
          "output_type": "stream",
          "text": [
            "['i', 'me', 'my', 'myself', 'we', 'our', 'ours', 'ourselves', 'you', \"you're\", \"you've\", \"you'll\", \"you'd\", 'your', 'yours', 'yourself', 'yourselves', 'he', 'him', 'his', 'himself', 'she', \"she's\", 'her', 'hers', 'herself', 'it', \"it's\", 'its', 'itself', 'they', 'them', 'their', 'theirs', 'themselves', 'what', 'which', 'who', 'whom', 'this', 'that', \"that'll\", 'these', 'those', 'am', 'is', 'are', 'was', 'were', 'be', 'been', 'being', 'have', 'has', 'had', 'having', 'do', 'does', 'did', 'doing', 'a', 'an', 'the', 'and', 'but', 'if', 'or', 'because', 'as', 'until', 'while', 'of', 'at', 'by', 'for', 'with', 'about', 'against', 'between', 'into', 'through', 'during', 'before', 'after', 'above', 'below', 'to', 'from', 'up', 'down', 'in', 'out', 'on', 'off', 'over', 'under', 'again', 'further', 'then', 'once', 'here', 'there', 'when', 'where', 'why', 'how', 'all', 'any', 'both', 'each', 'few', 'more', 'most', 'other', 'some', 'such', 'no', 'nor', 'not', 'only', 'own', 'same', 'so', 'than', 'too', 'very', 's', 't', 'can', 'will', 'just', 'don', \"don't\", 'should', \"should've\", 'now', 'd', 'll', 'm', 'o', 're', 've', 'y', 'ain', 'aren', \"aren't\", 'couldn', \"couldn't\", 'didn', \"didn't\", 'doesn', \"doesn't\", 'hadn', \"hadn't\", 'hasn', \"hasn't\", 'haven', \"haven't\", 'isn', \"isn't\", 'ma', 'mightn', \"mightn't\", 'mustn', \"mustn't\", 'needn', \"needn't\", 'shan', \"shan't\", 'shouldn', \"shouldn't\", 'wasn', \"wasn't\", 'weren', \"weren't\", 'won', \"won't\", 'wouldn', \"wouldn't\"]\n"
          ],
          "name": "stdout"
        }
      ]
    },
    {
      "cell_type": "code",
      "metadata": {
        "id": "1_XwFeVJbE6w",
        "outputId": "6c6b85d8-f8b5-4fbd-c7ce-855855b9f36f",
        "colab": {
          "base_uri": "https://localhost:8080/",
          "height": 225
        }
      },
      "source": [
        "#stop words present in the blogs\n",
        "\n",
        "  \n",
        "stop_words = set(stopwords.words('english')) \n",
        "#Below stop words are present in the text\n",
        "finalblogdf1['text'].apply(lambda x: ' '.join([text for text in x.split() if text in stop_words]))"
      ],
      "execution_count": 31,
      "outputs": [
        {
          "output_type": "execute_result",
          "data": {
            "text/plain": [
              "1210      i that the i had of these i was in a to and bu...\n",
              "1211      so was up at which for me and was then and the...\n",
              "1212      what a of i it too for the between of i had to...\n",
              "1213      so was i had to up this to down to my in the i...\n",
              "1214      it this is why i because if you have a i do an...\n",
              "                                ...                        \n",
              "674206                        on a and now the is and no in\n",
              "679492    you have the to me but you have the to does do...\n",
              "340940                                        is any during\n",
              "20641     its that just up on you or that you and or tha...\n",
              "287939    is my it is a that me with and because i that ...\n",
              "Name: text, Length: 93917, dtype: object"
            ]
          },
          "metadata": {
            "tags": []
          },
          "execution_count": 31
        }
      ]
    },
    {
      "cell_type": "code",
      "metadata": {
        "id": "J_2ghV4HbpsC"
      },
      "source": [
        "#forming text after removing stop words from it\n",
        "finalblogdf1['text'] = finalblogdf1['text'].apply(lambda x: ' '.join([text for text in x.split() if text not in stop_words]))"
      ],
      "execution_count": 32,
      "outputs": []
    },
    {
      "cell_type": "code",
      "metadata": {
        "id": "NwtbaIs5eC_a",
        "outputId": "a452482d-094a-41b3-dc1b-946806d8a191",
        "colab": {
          "base_uri": "https://localhost:8080/",
          "height": 191
        }
      },
      "source": [
        "finalblogdf1['text'][1:10]"
      ],
      "execution_count": 37,
      "outputs": [
        {
          "output_type": "execute_result",
          "data": {
            "text/plain": [
              "1211    today boring woke amate breakfast lyn made ama...\n",
              "1212    shitty th july guess wasnt badexcept awkwardne...\n",
              "1213    today pretty damn uneventful wake early mornin...\n",
              "1214    god damn another major reason hate writing onl...\n",
              "1285    september backpacking israel landed northern h...\n",
              "1286    urllink transcendentalfloss okay various forms...\n",
              "1288    roll window let wind blow back hair bruce spri...\n",
              "1289    dont cell phone want one dont ipod want one fa...\n",
              "1290    josh marshall made urllink post blog last nigh...\n",
              "Name: text, dtype: object"
            ]
          },
          "metadata": {
            "tags": []
          },
          "execution_count": 37
        }
      ]
    },
    {
      "cell_type": "code",
      "metadata": {
        "id": "x5mcxjHe0h3N"
      },
      "source": [
        "#these are the unwanted words in the text which can be removed aswell\n",
        "words_to_be_removed = ['a','aa','aaa',\t'aaaa',\t'aaaaaa',\t'aaaaaaaa',\t'aaaaaaaaaaaaaaaaaaaaaaaaaaaaaah','aaaaaaaaaaaaaaaaaaaaaaaaaaaaaahahahahahahahahahahahaha',\t'aaaaaaaaaaaaaaaaaaaaaaaaaaaaaahahahahahahahahahahahaha','aaaaaaaaaaaaaaaaaaaarrrrrrrrrrgggggggggghh',\t'aaaaaaaaaaaaaaaaaaaarrrrrrrrrrgggggggggghh', 'hhhhhhhhhhhhhhhhhhhh','zzz','zzzs','zzzz','zzzzz','zzzzzz','zzzzzzz','zzzzzzzz','zzzzzzzzz','zzzzzzzzzz','zzzzzzzzzzz','zzzzzzzzzzzz','zzzzzzzzzzzzz\tzzzzzzzzzzzzzzzzzzzzzzzzzzzzzzzz','aaaaaaaaaaaaaaaaaaaarrrrrrrrrrgggggggggghh',\t'aaaaaaaaaaaaaaaaaaaarrrrrrrrrrgggggggggghh', 'hhhhhhhhhhhhhhhhhhhh',\t'aaaaaaaaaaahhhhhhhhhhhh',\t'aaaaaaaaaah',\t'aaaaaaaaaah',\t'aaaaaaaaagh',\t'aaaaaaaaagh','aaaaaaaaah',\t'aaaaaaaahhhhh',\t'aaaaaaa'\t,'aaaaaaah'\t,'aaaaaaand',\t'aaaaaah','aaaaaahhhh','aaaaaahhhhhhh',\t'aaaaaahhhhhhhhh',\t'aaaaaargh',\t'aaaaaaw',\t'aaaaaggggggghhhhh',\t'aaaaaggggggghhhhh', 'iiiiitttttccccchhhhhh',\t'aaaaah','aaaaahhh',\t'aaaaahhhh'\t,'aaaaahhhhh'\t,'aaaaahhhhhh',\t'aaaaargh',\n",
        "'zzzzzzzzzzzzzzzzzzzzz','zzzzzzzzzzzzzzzzzzzzz','zzzzzzzzzzzzzzzzzzzzzzzzzzzzzhuh','zzzzzzzzzzzzzzzzzzzzzzzzzzzzzzzz','zzzzzzzzzzzzzzzzzzz','zzzzzzzzzzzzzzz','zzzzzzzzzzzzz','zzzzzzzzzzzzz','zzzzzzzzzzz','zzzzzzzzzzz','zzzzzzzzi','zzzzzzzzi','zzzzzzwaaah oh','zzzzzzwaaah','zzzzzoh',\n",
        "'zzzzzoh','zzzzz','zzzzsnbsp','zzzzsnbsp','zzzzs','zzzzs','zzzzs','zzzzaap','zzzupz','zzzhuh','zzt'\t,'aaaaa','aaaaaaaaaa','aaaaaaaaaaaaaaaa',\t'aaaaaaaaaaaaaaaaaaa','aaaaaaaaaaaaaaaaaaaaaaaaaaaaa','aaaaaaaaaaaaaaaaaaaaaaaaaaaaaaaaaa',\t'aaaaaaaaaaaaaaaaaaaaaaaaaaaaaaaaaaaaa','aaaaaaaaaaaaaaaaaaaaaaaaaaaaaaaaaaaaaaaa','aaaaaaaaaaaaaaaaaaaaaaaaaaaaaaaaaaaaaaaaaaaaaaaaaaaaaaa','aaaaaaaaaaaaaaaaaaaaaaaaaaaaaaaaaaaaaaaah','aaaaaaaaaaaaaaaaaaaaaaaaaaaaaaaaaaaaaaaargh','aaaaaaaaaaaaaaaaaaaaaaaaaaaaaaaaaaaaahhh','aaaaaaaaaaaaaaaaaaaaaaaaaaaaaaaaaagh','aaaaaaaaaaaaaaaaaaaaaaaaaargh','aaaaaaaaaaaaaaaaaaaaaaaaahhhhhhhh','aaaaaaaaaaaaaaaaaaaaaaahhhhhhhhh',\n",
        "'aaaaaaaaaaaaaaaaaahahhahahahahahhahahahahahahha',\t'aaaaaaaaaaaaaaaaargh','aaaaaaaaaaaaaaahhh','aaaaaaaaaaaaaah','aaaaaaaaaaaaaahh','aaaaaaaaaaaaaahhhhhhhhhhhhh','aaaaaaaaaaaaah','aaaaaaaaaaaaaw','aaaaaaaaaaaack','aaaaaaaaaaaahahaha','aaaaaaaaaaaahhhhhhhhh','aaaaaaaaaaaammmmmmmmmmmmmmmmm','aaaaaaaaaaahhahha','aaaaaaaaaaahhhhhhhhh','aaaaaaaaaaahhhhhhhhhhhhhhh',\t'aaaaaaaaaaahhhhhhhhhhhhhhhhhhh','aaaaaaaaaaahhhhhhhhhhhhhhhhhhhhwhat','aaaaaaaaaaargh','aaaaaaaaaaauuugh','aaaaaaaaaahahahahahahahahahaha','aaaaaaaaaahhhhhhhhhh',\n",
        "'aaaaaaaaaahhhhhhhhhhhhh','aaaaaaaaaahhhhhhhhhhhhhhhhhhhhhhhhhhhhhh','aaaaaaaaaggggghhhhh','aaaaaaaaahhhhh','aaaaaaaaahhhhhhh','aaaaaaaaall','aaaaaaaaanyway','aaaaaaaaarg','aaaaaaaaargh','aaaaaaaages','aaaaaaaah','aaaaaaaahhh','aaaaaaaahhhhhhhhhhhhhhh','aaaaaaaahhhhhhhhhhhhhhhhhhhhhhrrrrrrrrrrrrrrrrrrrrrrr','aaaaaaaallllll','aaaaaaaand','aaaaaaaarrrrrrrrggggggggghhhhh','aaaaaaaarrrrrrrrrrrrrgggggggggggghhhhhhhhhhhh','aaaaaaaauuuuuuggggggghhhhhhhh','aaaaaaaawwwwwwwyeeeehhhhh','aaaaaaaggghhh','aaaaaaaggghhhhh','aaaaaaahhhhh','aaaaaaahhhhhhdorable','aaaaaaahhhhhhh','aaaaaaahhhhhhhhhh','aaaaaaahhhhhhhhhhh','aaaaaaahhhhhhhhhhhhhhhhhh','aaaaaaall','aaaaaaargh','aaaaaaarrrrrrrgggggh','aaaaaaarrrrrrrrrrrrrrrrghhhhhhhhhhhhhhh',\n",
        "'aaaaaaawwww','aaaaaackkkk','aaaaaahahahahhahaha','aaaaaahahha','aaaaaahh','aaaaaahhh','aaaaaahhhare','aaaaaahhhhh','aaaaaahhhhhhhh','aaaaaahhhhhhhhhhhhh','aaaaaahhhhhhhhwell',\n",
        "'aaaaaalllll','aaaaaalllllllll','aaaaaalways','aaaaaargghh','aaaaaarhgh','aaaaaarrrggghhh','aaaaaarrrrghh','aaaaaarrrrrrgggggggghhhhhhhhh','aaaaaarrrrrrrghhhhhhhhhh','aaaaack','aaaaagh',\n",
        "'aaaaahahahaha','aaaaahh','aaaaahhhhhhhhhh','aaaaahhhhhhhhhhhh','aaaaahhhhhhhhhhhhhhhhhhhh','aaaaahhhhhhhi','aaaaaieeeeeeee','aaaaaing','aaaaall','aaaaalleluia','aaaaam','aaaaand','aaaaannnnnddddd',\n",
        "'aaaaanyway','aaaaarggggghhhhhhhh','aaaaargh','aaaaarrgggghhhh','aaaaarrrggggh','aaaaarrrrrgggghhhhh','aaaaasmith','aaaaaw','aaaaawwwwww','aaaaccchoooo','aaaack',\n",
        "'aaaafinallyafter','aaaages','aaaagggghhhhhhhhhhh','aaaagh','aaaah','aaaahhh','aaaahhhh','aaaahhhhh','aaaahhhhhh','aaaahhhhhhh','aaaahhhhi','aaaahhhuuhhhh','aaaahing','aaaall','aaaand','aaaandhmmm','aaaa',\t'aaaa','aaaarg','aaaargggggggghhhh','aaaarggggggghhhhhhhh',\n",
        "'aaaargh','aaaarghhno','aaaarrrgggghhhh','aaaarrrgghhhh','aaaarrrghh','aaaarrrrgggg','aaaarrrrgggghhhh','aaaarrrrrrggghh','aaaathmm','aaaawwwjke','aaaawwww','aaabsolutely','aaagggghhhh','aaaggghhh','aaagh','aaah','aaahahahahahahaha','aaahh','aaahha','aaahhh','aaahhhh','aaahhhhh','aaahhhhhhhh','aaahhhhhhhhhhhhhhhhhhhhhhhhhhhhhh','aaahp',\n",
        "'aaahs','aaaiiieeeeeeee','aaalbumen','aaallll','aaalllll','aaa','aaanand','aaand','aaanimaaaniacs','aaannddd','aaannnd','aaannndd','aaannnnd','aaannnndchas',\t\n",
        "'aaannnywayz','aaanyhoo','aaa','aaappp','aaarg','aaargghhhhh','aaargh','aaaroadtrip','aaarrggghhh','aaarrgghh','aaarrrggghh','aaarrrggghhhhh','aaarrrgghhhhhh','aaarrrrgggghhh','aaas','aaass','aaaugh','aaaw','aaawww','aaawwwww','aab']"
      ],
      "execution_count": 10,
      "outputs": []
    },
    {
      "cell_type": "code",
      "metadata": {
        "id": "HlQI0OCoW3hM"
      },
      "source": [
        "finalblogdf1['text'] = finalblogdf1['text'].apply(lambda x: ' '.join([text for text in x.split() if text not in words_to_be_removed]))"
      ],
      "execution_count": null,
      "outputs": []
    },
    {
      "cell_type": "code",
      "metadata": {
        "id": "i0M05R6L0eKa"
      },
      "source": [
        "#finalblogdf1['text'] = finalblogdf1['text'].apply(lambda x: ' '.join([text for text in x.split() if text not in stop_words]))"
      ],
      "execution_count": 198,
      "outputs": []
    },
    {
      "cell_type": "code",
      "metadata": {
        "id": "hPk5a9Xr3oET",
        "outputId": "3aab1054-ce8c-4eba-988c-def91899b5ff",
        "colab": {
          "base_uri": "https://localhost:8080/",
          "height": 225
        }
      },
      "source": [
        "finalblogdf1['text']"
      ],
      "execution_count": 38,
      "outputs": [
        {
          "output_type": "execute_result",
          "data": {
            "text/plain": [
              "1210      cant believe im actually making another online...\n",
              "1211      today boring woke amate breakfast lyn made ama...\n",
              "1212      shitty th july guess wasnt badexcept awkwardne...\n",
              "1213      today pretty damn uneventful wake early mornin...\n",
              "1214      god damn another major reason hate writing onl...\n",
              "                                ...                        \n",
              "114177    seen teeshirt work yesterday shirt designed di...\n",
              "194739    finally watched opening ceremony greek family ...\n",
              "12167     im always looking fresh new jives get party st...\n",
              "446696    complete bubbles click popup ad times get spon...\n",
              "90828     aware went play trivia last night raven well t...\n",
              "Name: text, Length: 93887, dtype: object"
            ]
          },
          "metadata": {
            "tags": []
          },
          "execution_count": 38
        }
      ]
    },
    {
      "cell_type": "code",
      "metadata": {
        "id": "HZWu5VXM2hMH"
      },
      "source": [
        "# #using stemming to remove inflected words\n",
        "# #Function to Stem words\n",
        "# def get_stemmed_text(corpus):\n",
        "#     stemmer = PorterStemmer()\n",
        "#     return [' '.join([stemmer.stem(word) for word in text.split()]) for text in corpus]"
      ],
      "execution_count": 236,
      "outputs": []
    },
    {
      "cell_type": "code",
      "metadata": {
        "id": "qWhCs6ny4WRL"
      },
      "source": [
        "# get_stemmed_text(finalblogdf1['text'][1:2])"
      ],
      "execution_count": 43,
      "outputs": []
    },
    {
      "cell_type": "code",
      "metadata": {
        "id": "8vMcikRn4bCL"
      },
      "source": [
        "# finalblogdf1['text'] = get_stemmed_text(finalblogdf1['text'])"
      ],
      "execution_count": 237,
      "outputs": []
    },
    {
      "cell_type": "code",
      "metadata": {
        "id": "XjkpoDZ86vyL",
        "outputId": "1d6c9191-482d-41a5-f746-a65928f191ef",
        "colab": {
          "base_uri": "https://localhost:8080/",
          "height": 202
        }
      },
      "source": [
        "finalblogdf1.head()"
      ],
      "execution_count": 34,
      "outputs": [
        {
          "output_type": "execute_result",
          "data": {
            "text/html": [
              "<div>\n",
              "<style scoped>\n",
              "    .dataframe tbody tr th:only-of-type {\n",
              "        vertical-align: middle;\n",
              "    }\n",
              "\n",
              "    .dataframe tbody tr th {\n",
              "        vertical-align: top;\n",
              "    }\n",
              "\n",
              "    .dataframe thead th {\n",
              "        text-align: right;\n",
              "    }\n",
              "</style>\n",
              "<table border=\"1\" class=\"dataframe\">\n",
              "  <thead>\n",
              "    <tr style=\"text-align: right;\">\n",
              "      <th></th>\n",
              "      <th>id</th>\n",
              "      <th>gender</th>\n",
              "      <th>age</th>\n",
              "      <th>topic</th>\n",
              "      <th>sign</th>\n",
              "      <th>date</th>\n",
              "      <th>text</th>\n",
              "      <th>index</th>\n",
              "    </tr>\n",
              "  </thead>\n",
              "  <tbody>\n",
              "    <tr>\n",
              "      <th>1210</th>\n",
              "      <td>3785178</td>\n",
              "      <td>male</td>\n",
              "      <td>17</td>\n",
              "      <td>student</td>\n",
              "      <td>virgo</td>\n",
              "      <td>30,June,2004</td>\n",
              "      <td>cant believe im actually making another online...</td>\n",
              "      <td>1210</td>\n",
              "    </tr>\n",
              "    <tr>\n",
              "      <th>1211</th>\n",
              "      <td>3785178</td>\n",
              "      <td>male</td>\n",
              "      <td>17</td>\n",
              "      <td>student</td>\n",
              "      <td>virgo</td>\n",
              "      <td>06,July,2004</td>\n",
              "      <td>today boring woke amate breakfast lyn made ama...</td>\n",
              "      <td>1211</td>\n",
              "    </tr>\n",
              "    <tr>\n",
              "      <th>1212</th>\n",
              "      <td>3785178</td>\n",
              "      <td>male</td>\n",
              "      <td>17</td>\n",
              "      <td>student</td>\n",
              "      <td>virgo</td>\n",
              "      <td>04,July,2004</td>\n",
              "      <td>shitty th july guess wasnt badexcept awkwardne...</td>\n",
              "      <td>1212</td>\n",
              "    </tr>\n",
              "    <tr>\n",
              "      <th>1213</th>\n",
              "      <td>3785178</td>\n",
              "      <td>male</td>\n",
              "      <td>17</td>\n",
              "      <td>student</td>\n",
              "      <td>virgo</td>\n",
              "      <td>03,July,2004</td>\n",
              "      <td>today pretty damn uneventful wake early mornin...</td>\n",
              "      <td>1213</td>\n",
              "    </tr>\n",
              "    <tr>\n",
              "      <th>1214</th>\n",
              "      <td>3785178</td>\n",
              "      <td>male</td>\n",
              "      <td>17</td>\n",
              "      <td>student</td>\n",
              "      <td>virgo</td>\n",
              "      <td>02,July,2004</td>\n",
              "      <td>god damn another major reason hate writing onl...</td>\n",
              "      <td>1214</td>\n",
              "    </tr>\n",
              "  </tbody>\n",
              "</table>\n",
              "</div>"
            ],
            "text/plain": [
              "           id gender  ...                                               text index\n",
              "1210  3785178   male  ...  cant believe im actually making another online...  1210\n",
              "1211  3785178   male  ...  today boring woke amate breakfast lyn made ama...  1211\n",
              "1212  3785178   male  ...  shitty th july guess wasnt badexcept awkwardne...  1212\n",
              "1213  3785178   male  ...  today pretty damn uneventful wake early mornin...  1213\n",
              "1214  3785178   male  ...  god damn another major reason hate writing onl...  1214\n",
              "\n",
              "[5 rows x 8 columns]"
            ]
          },
          "metadata": {
            "tags": []
          },
          "execution_count": 34
        }
      ]
    },
    {
      "cell_type": "code",
      "metadata": {
        "id": "PBpM17CXE_tk",
        "outputId": "e2b51df6-889e-4369-fc5f-3f407b266bcb",
        "colab": {
          "base_uri": "https://localhost:8080/",
          "height": 173
        }
      },
      "source": [
        "finalblogdf1.isna().sum()"
      ],
      "execution_count": 239,
      "outputs": [
        {
          "output_type": "execute_result",
          "data": {
            "text/plain": [
              "id        0\n",
              "gender    0\n",
              "age       0\n",
              "topic     0\n",
              "sign      0\n",
              "date      0\n",
              "text      0\n",
              "index     0\n",
              "dtype: int64"
            ]
          },
          "metadata": {
            "tags": []
          },
          "execution_count": 239
        }
      ]
    },
    {
      "cell_type": "markdown",
      "metadata": {
        "id": "5vX4NRWFz88t"
      },
      "source": [
        ""
      ]
    },
    {
      "cell_type": "markdown",
      "metadata": {
        "id": "IPBojnzSzzld"
      },
      "source": [
        "As we want to make this into a multi-label classification problem, you are required to merge\n",
        "all the label columns together, so that we have all the labels together for a particular sentence"
      ]
    },
    {
      "cell_type": "markdown",
      "metadata": {
        "id": "Z1ec8S4C0AXB"
      },
      "source": [
        "a. Label columns to merge: “gender”, “age”, “topic”, “sign”\n"
      ]
    },
    {
      "cell_type": "code",
      "metadata": {
        "id": "tYPyba_K0BUl"
      },
      "source": [
        "#removing unwanted columns\n"
      ],
      "execution_count": 35,
      "outputs": []
    },
    {
      "cell_type": "code",
      "metadata": {
        "id": "vYeM0O2U0GQM",
        "outputId": "753be9df-d6e5-45aa-fa76-5a6f3bc4f471",
        "colab": {
          "base_uri": "https://localhost:8080/",
          "height": 110
        }
      },
      "source": [
        "newfinaldf.head(2)"
      ],
      "execution_count": 36,
      "outputs": [
        {
          "output_type": "execute_result",
          "data": {
            "text/html": [
              "<div>\n",
              "<style scoped>\n",
              "    .dataframe tbody tr th:only-of-type {\n",
              "        vertical-align: middle;\n",
              "    }\n",
              "\n",
              "    .dataframe tbody tr th {\n",
              "        vertical-align: top;\n",
              "    }\n",
              "\n",
              "    .dataframe thead th {\n",
              "        text-align: right;\n",
              "    }\n",
              "</style>\n",
              "<table border=\"1\" class=\"dataframe\">\n",
              "  <thead>\n",
              "    <tr style=\"text-align: right;\">\n",
              "      <th></th>\n",
              "      <th>gender</th>\n",
              "      <th>age</th>\n",
              "      <th>topic</th>\n",
              "      <th>sign</th>\n",
              "      <th>text</th>\n",
              "    </tr>\n",
              "  </thead>\n",
              "  <tbody>\n",
              "    <tr>\n",
              "      <th>1210</th>\n",
              "      <td>male</td>\n",
              "      <td>17</td>\n",
              "      <td>student</td>\n",
              "      <td>virgo</td>\n",
              "      <td>cant believe im actually making another online...</td>\n",
              "    </tr>\n",
              "    <tr>\n",
              "      <th>1211</th>\n",
              "      <td>male</td>\n",
              "      <td>17</td>\n",
              "      <td>student</td>\n",
              "      <td>virgo</td>\n",
              "      <td>today boring woke amate breakfast lyn made ama...</td>\n",
              "    </tr>\n",
              "  </tbody>\n",
              "</table>\n",
              "</div>"
            ],
            "text/plain": [
              "     gender  age  ...   sign                                               text\n",
              "1210   male   17  ...  virgo  cant believe im actually making another online...\n",
              "1211   male   17  ...  virgo  today boring woke amate breakfast lyn made ama...\n",
              "\n",
              "[2 rows x 5 columns]"
            ]
          },
          "metadata": {
            "tags": []
          },
          "execution_count": 36
        }
      ]
    },
    {
      "cell_type": "code",
      "metadata": {
        "id": "KdL3e7Hx5Eoe",
        "outputId": "65a312b1-217c-4d9c-d8d2-6c9ef3e75e55",
        "colab": {
          "base_uri": "https://localhost:8080/",
          "height": 225
        }
      },
      "source": [
        "newfinaldf.info()"
      ],
      "execution_count": 37,
      "outputs": [
        {
          "output_type": "stream",
          "text": [
            "<class 'pandas.core.frame.DataFrame'>\n",
            "Int64Index: 93917 entries, 1210 to 287939\n",
            "Data columns (total 5 columns):\n",
            " #   Column  Non-Null Count  Dtype \n",
            "---  ------  --------------  ----- \n",
            " 0   gender  93917 non-null  object\n",
            " 1   age     93917 non-null  int64 \n",
            " 2   topic   93917 non-null  object\n",
            " 3   sign    93917 non-null  object\n",
            " 4   text    93917 non-null  object\n",
            "dtypes: int64(1), object(4)\n",
            "memory usage: 4.3+ MB\n"
          ],
          "name": "stdout"
        }
      ]
    },
    {
      "cell_type": "code",
      "metadata": {
        "id": "Cj7XcIOA5Kfr"
      },
      "source": [
        "#newfinaldf['age'] = newfinaldf['age'].astype('str')"
      ],
      "execution_count": 42,
      "outputs": []
    },
    {
      "cell_type": "code",
      "metadata": {
        "id": "NENE-cTe0lQO"
      },
      "source": [
        "# newfinaldf['labels'] = newfinaldf[newfinaldf.columns[0:4]].apply(\n",
        "#     lambda x: ','.join(x.astype(str)), axis=1\n",
        "# )"
      ],
      "execution_count": 65,
      "outputs": []
    },
    {
      "cell_type": "markdown",
      "metadata": {
        "id": "ZheuZgc1I7Nb"
      },
      "source": [
        ""
      ]
    },
    {
      "cell_type": "code",
      "metadata": {
        "id": "GME2lPISZdro"
      },
      "source": [
        "#mergiing gender,topic,sign,age together\n",
        "newfinaldf['labels'] = newfinaldf[newfinaldf.columns[0:4]].apply(\n",
        "    lambda x: ','.join(x.astype(str)), axis=1\n",
        ")"
      ],
      "execution_count": 38,
      "outputs": []
    },
    {
      "cell_type": "code",
      "metadata": {
        "id": "X7GbU_lSY1pi"
      },
      "source": [
        "# list=[]                              # 2D Matrix having list of list\n",
        "# for i in range(newfinaldf.shape[0]):\n",
        "#     labels=[]                          # 1D list of 'gender', 'age', 'topic', 'sign'\n",
        "#     for j in range(newfinaldf.shape[1]):\n",
        "#         # labels.append(newfinaldf.iloc[i][j])\n",
        "#     list.append(labels)"
      ],
      "execution_count": 189,
      "outputs": []
    },
    {
      "cell_type": "code",
      "metadata": {
        "id": "FdMlwglSTLir"
      },
      "source": [
        "#newfinaldf['labels'] = [[a,b,c,d] for a,b,c,d in zip(newfinaldf['gender'], newfinaldf['age'],newfinaldf['topic'],newfinaldf['sign'])]\n"
      ],
      "execution_count": 43,
      "outputs": []
    },
    {
      "cell_type": "code",
      "metadata": {
        "id": "0nznIo752A0r",
        "outputId": "7f7829b6-1c4c-4f1a-f0cf-d8e65af11669",
        "colab": {
          "base_uri": "https://localhost:8080/",
          "height": 79
        }
      },
      "source": [
        "#the data after merging \n",
        "newfinaldf.head(1)"
      ],
      "execution_count": 44,
      "outputs": [
        {
          "output_type": "execute_result",
          "data": {
            "text/html": [
              "<div>\n",
              "<style scoped>\n",
              "    .dataframe tbody tr th:only-of-type {\n",
              "        vertical-align: middle;\n",
              "    }\n",
              "\n",
              "    .dataframe tbody tr th {\n",
              "        vertical-align: top;\n",
              "    }\n",
              "\n",
              "    .dataframe thead th {\n",
              "        text-align: right;\n",
              "    }\n",
              "</style>\n",
              "<table border=\"1\" class=\"dataframe\">\n",
              "  <thead>\n",
              "    <tr style=\"text-align: right;\">\n",
              "      <th></th>\n",
              "      <th>gender</th>\n",
              "      <th>age</th>\n",
              "      <th>topic</th>\n",
              "      <th>sign</th>\n",
              "      <th>text</th>\n",
              "      <th>labels</th>\n",
              "    </tr>\n",
              "  </thead>\n",
              "  <tbody>\n",
              "    <tr>\n",
              "      <th>1210</th>\n",
              "      <td>male</td>\n",
              "      <td>17</td>\n",
              "      <td>student</td>\n",
              "      <td>virgo</td>\n",
              "      <td>cant believe im actually making another online...</td>\n",
              "      <td>[male, 17, student, virgo]</td>\n",
              "    </tr>\n",
              "  </tbody>\n",
              "</table>\n",
              "</div>"
            ],
            "text/plain": [
              "     gender  ...                      labels\n",
              "1210   male  ...  [male, 17, student, virgo]\n",
              "\n",
              "[1 rows x 6 columns]"
            ]
          },
          "metadata": {
            "tags": []
          },
          "execution_count": 44
        }
      ]
    },
    {
      "cell_type": "code",
      "metadata": {
        "id": "A6OWPum4JhDA",
        "outputId": "bddd9d2d-6c52-4a9a-e776-e7fe88472922",
        "colab": {
          "base_uri": "https://localhost:8080/",
          "height": 243
        }
      },
      "source": [
        "newfinaldf.info()"
      ],
      "execution_count": 244,
      "outputs": [
        {
          "output_type": "stream",
          "text": [
            "<class 'pandas.core.frame.DataFrame'>\n",
            "Int64Index: 93862 entries, 1210 to 438548\n",
            "Data columns (total 6 columns):\n",
            " #   Column  Non-Null Count  Dtype \n",
            "---  ------  --------------  ----- \n",
            " 0   gender  93862 non-null  object\n",
            " 1   age     93862 non-null  object\n",
            " 2   topic   93862 non-null  object\n",
            " 3   sign    93862 non-null  object\n",
            " 4   text    93862 non-null  object\n",
            " 5   labels  93862 non-null  object\n",
            "dtypes: object(6)\n",
            "memory usage: 5.0+ MB\n"
          ],
          "name": "stdout"
        }
      ]
    },
    {
      "cell_type": "code",
      "metadata": {
        "id": "eUP71tyN1Lbx"
      },
      "source": [
        "#dropping the merged columns\n",
        "newfinaldf1 = newfinaldf.drop(['gender','age','topic','sign'],axis =1)"
      ],
      "execution_count": 39,
      "outputs": []
    },
    {
      "cell_type": "markdown",
      "metadata": {
        "id": "OLP0uQGF2tUT"
      },
      "source": [
        "B, After completing the previous step, there should be only two columns in your data\n",
        "frame i.e. “text” and “labels” "
      ]
    },
    {
      "cell_type": "code",
      "metadata": {
        "id": "AXe41u4F1Uj_"
      },
      "source": [
        "newfinaldf1 = newfinaldf1.reset_index()"
      ],
      "execution_count": 40,
      "outputs": []
    },
    {
      "cell_type": "code",
      "metadata": {
        "id": "Eaa99RL32wgn"
      },
      "source": [
        "newfinaldf1.drop(['index'],axis = 1,inplace = True)"
      ],
      "execution_count": 41,
      "outputs": []
    },
    {
      "cell_type": "code",
      "metadata": {
        "id": "7BoO-4d9372p",
        "outputId": "e66aca32-eb98-4eca-a0c5-17924daa0534",
        "colab": {
          "base_uri": "https://localhost:8080/",
          "height": 79
        }
      },
      "source": [
        "#the data after merging columns and removing the merged columns\n",
        "newfinaldf1.head(1)"
      ],
      "execution_count": 42,
      "outputs": [
        {
          "output_type": "execute_result",
          "data": {
            "text/html": [
              "<div>\n",
              "<style scoped>\n",
              "    .dataframe tbody tr th:only-of-type {\n",
              "        vertical-align: middle;\n",
              "    }\n",
              "\n",
              "    .dataframe tbody tr th {\n",
              "        vertical-align: top;\n",
              "    }\n",
              "\n",
              "    .dataframe thead th {\n",
              "        text-align: right;\n",
              "    }\n",
              "</style>\n",
              "<table border=\"1\" class=\"dataframe\">\n",
              "  <thead>\n",
              "    <tr style=\"text-align: right;\">\n",
              "      <th></th>\n",
              "      <th>text</th>\n",
              "      <th>labels</th>\n",
              "    </tr>\n",
              "  </thead>\n",
              "  <tbody>\n",
              "    <tr>\n",
              "      <th>0</th>\n",
              "      <td>cant believe im actually making another online...</td>\n",
              "      <td>male,17,student,virgo</td>\n",
              "    </tr>\n",
              "  </tbody>\n",
              "</table>\n",
              "</div>"
            ],
            "text/plain": [
              "                                                text                 labels\n",
              "0  cant believe im actually making another online...  male,17,student,virgo"
            ]
          },
          "metadata": {
            "tags": []
          },
          "execution_count": 42
        }
      ]
    },
    {
      "cell_type": "markdown",
      "metadata": {
        "id": "GWoQcCrU3Rn4"
      },
      "source": [
        "4. Separate features and labels, and split the data into training and testing (5 points)"
      ]
    },
    {
      "cell_type": "code",
      "metadata": {
        "id": "O941f9IW5NI_"
      },
      "source": [
        "#creating text as feature\n",
        "X = newfinaldf1['text']"
      ],
      "execution_count": 43,
      "outputs": []
    },
    {
      "cell_type": "code",
      "metadata": {
        "id": "Z8-KZsxqbALL"
      },
      "source": [
        "#creting labels as label\n",
        "y = newfinaldf1['labels']"
      ],
      "execution_count": 44,
      "outputs": []
    },
    {
      "cell_type": "code",
      "metadata": {
        "id": "ZN3nK0Wl_4e4"
      },
      "source": [
        "#initializing multilablebinarizer for encondign multiple labels\n",
        "label = MultiLabelBinarizer()"
      ],
      "execution_count": 45,
      "outputs": []
    },
    {
      "cell_type": "code",
      "metadata": {
        "id": "uSqWIb2U3TJj"
      },
      "source": [
        "#forming train and test data.consider 25% for testing\n",
        "X_train, X_test , y_train, y_test = train_test_split(X, y, test_size =0.25,random_state = 42 )"
      ],
      "execution_count": 46,
      "outputs": []
    },
    {
      "cell_type": "code",
      "metadata": {
        "id": "VPkSPZdM5bof",
        "outputId": "f1466d98-e4c6-4ecb-ffbd-c6db299bb188",
        "colab": {
          "base_uri": "https://localhost:8080/",
          "height": 35
        }
      },
      "source": [
        "X_train.shape"
      ],
      "execution_count": 47,
      "outputs": [
        {
          "output_type": "execute_result",
          "data": {
            "text/plain": [
              "(70437,)"
            ]
          },
          "metadata": {
            "tags": []
          },
          "execution_count": 47
        }
      ]
    },
    {
      "cell_type": "code",
      "metadata": {
        "id": "NbpTMWIa8FtV",
        "outputId": "20a4f2e0-b9cd-4d15-f5b4-03d3bf813515",
        "colab": {
          "base_uri": "https://localhost:8080/",
          "height": 52
        }
      },
      "source": [
        "X_train[1:2]"
      ],
      "execution_count": 48,
      "outputs": [
        {
          "output_type": "execute_result",
          "data": {
            "text/plain": [
              "79163    leslie born june live one joke family like col...\n",
              "Name: text, dtype: object"
            ]
          },
          "metadata": {
            "tags": []
          },
          "execution_count": 48
        }
      ]
    },
    {
      "cell_type": "code",
      "metadata": {
        "id": "1BOGgq6z5kox",
        "outputId": "8cd9fa85-a968-458f-b672-b5297b81dc51",
        "colab": {
          "base_uri": "https://localhost:8080/",
          "height": 52
        }
      },
      "source": [
        "#viewing train and test data\n",
        "X_test.shape ,X_test[1:2]"
      ],
      "execution_count": 50,
      "outputs": [
        {
          "output_type": "execute_result",
          "data": {
            "text/plain": [
              "((23480,), 66154    first interview went well think may get job go...\n",
              " Name: text, dtype: object)"
            ]
          },
          "metadata": {
            "tags": []
          },
          "execution_count": 50
        }
      ]
    },
    {
      "cell_type": "markdown",
      "metadata": {
        "id": "Yo1B97876Itf"
      },
      "source": [
        "5. Vectorize the features (5 points)\n",
        "a. Create a Bag of Words using count vectorizer\n",
        "i. Use ngram_range=(1, 2)\n",
        "ii. Vectorize training and testing features"
      ]
    },
    {
      "cell_type": "code",
      "metadata": {
        "id": "f0ZcqYFQ5mpm"
      },
      "source": [
        "#initializing countvectorizer with ngrams\n",
        "vectorizer = CountVectorizer(ngram_range = (1,2))"
      ],
      "execution_count": 51,
      "outputs": []
    },
    {
      "cell_type": "code",
      "metadata": {
        "id": "MHSYj_ZV6o7h"
      },
      "source": [
        "\n",
        "X_train = vectorizer.fit_transform(X_train)\n",
        "#fit_transform train data"
      ],
      "execution_count": 52,
      "outputs": []
    },
    {
      "cell_type": "code",
      "metadata": {
        "id": "9EBHazwr60nP",
        "outputId": "a75a729e-a3f5-48b8-ee7c-0a3b208c6d9a",
        "colab": {
          "base_uri": "https://localhost:8080/",
          "height": 52
        }
      },
      "source": [
        "X_train"
      ],
      "execution_count": 53,
      "outputs": [
        {
          "output_type": "execute_result",
          "data": {
            "text/plain": [
              "<70437x4047060 sparse matrix of type '<class 'numpy.int64'>'\n",
              "\twith 12420885 stored elements in Compressed Sparse Row format>"
            ]
          },
          "metadata": {
            "tags": []
          },
          "execution_count": 53
        }
      ]
    },
    {
      "cell_type": "code",
      "metadata": {
        "id": "9dIyXCAf65vP"
      },
      "source": [
        "X_test = vectorizer.transform(X_test)\n",
        "#transform test data"
      ],
      "execution_count": 54,
      "outputs": []
    },
    {
      "cell_type": "code",
      "metadata": {
        "id": "nI6X_9mg7MQa",
        "outputId": "efaedddb-00e2-410d-fbcf-aabecce889c4",
        "colab": {
          "base_uri": "https://localhost:8080/",
          "height": 52
        }
      },
      "source": [
        "X_test"
      ],
      "execution_count": 55,
      "outputs": [
        {
          "output_type": "execute_result",
          "data": {
            "text/plain": [
              "<23480x4047060 sparse matrix of type '<class 'numpy.int64'>'\n",
              "\twith 3120275 stored elements in Compressed Sparse Row format>"
            ]
          },
          "metadata": {
            "tags": []
          },
          "execution_count": 55
        }
      ]
    },
    {
      "cell_type": "code",
      "metadata": {
        "id": "Z9_rdN3-7Q67",
        "outputId": "474cb5c5-5c44-4485-d7dc-18f2f67d2154",
        "colab": {
          "base_uri": "https://localhost:8080/",
          "height": 1000
        }
      },
      "source": [
        "#viewing the voaculary\n",
        "vectorizer.vocabulary_"
      ],
      "execution_count": 56,
      "outputs": [
        {
          "output_type": "execute_result",
          "data": {
            "text/plain": [
              "{'friday': 1302681,\n",
              " 'night': 2385699,\n",
              " 'believe': 312658,\n",
              " 'well': 3877270,\n",
              " 'actually': 27848,\n",
              " 'might': 2217536,\n",
              " 'saturday': 3000326,\n",
              " 'cant': 498030,\n",
              " 'remember': 2880837,\n",
              " 'let': 1965878,\n",
              " 'check': 562630,\n",
              " 'ok': 2451805,\n",
              " 'much': 2300308,\n",
              " 'going': 1418653,\n",
              " 'today': 3589255,\n",
              " 'chris': 587795,\n",
              " 'erik': 1072641,\n",
              " 'continued': 705232,\n",
              " 'search': 3042533,\n",
              " 'wesley': 3892946,\n",
              " 'willis': 3918433,\n",
              " 'cds': 533015,\n",
              " 'got': 1440252,\n",
              " 'copy': 720830,\n",
              " 'eriks': 1072832,\n",
              " 'bands': 266602,\n",
              " 'new': 2367930,\n",
              " 'ep': 1067936,\n",
              " 'went': 3886099,\n",
              " 'dodgeball': 930938,\n",
              " 'wasnt': 3834094,\n",
              " 'expecting': 1129127,\n",
              " 'felt': 1198078,\n",
              " 'justified': 1837408,\n",
              " 'decision': 843754,\n",
              " 'spend': 3275682,\n",
              " 'saw': 3004628,\n",
              " 'megapixel': 2187036,\n",
              " 'camera': 489145,\n",
              " 'best': 323842,\n",
              " 'buy': 466352,\n",
              " 'struck': 3362177,\n",
              " 'good': 1429565,\n",
              " 'enough': 1057266,\n",
              " 'four': 1287465,\n",
              " 'megapixels': 2187047,\n",
              " 'pretty': 2718214,\n",
              " 'dont': 941988,\n",
              " 'particularly': 2545873,\n",
              " 'care': 507766,\n",
              " 'technology': 3472106,\n",
              " 'specifics': 3272283,\n",
              " 'didnt': 889029,\n",
              " 'find': 1219492,\n",
              " 'anything': 145875,\n",
              " 'else': 1026475,\n",
              " 'everywhere': 1107139,\n",
              " 'seemed': 3063012,\n",
              " 'packed': 2519345,\n",
              " 'friends': 1308277,\n",
              " 'acquaintances': 20348,\n",
              " 'nisswa': 2393995,\n",
              " 'movies': 2292496,\n",
              " 'hobe': 1609415,\n",
              " 'houley': 1641490,\n",
              " 'decided': 841796,\n",
              " 'go': 1402956,\n",
              " 'terminal': 3487170,\n",
              " 'sucked': 3384671,\n",
              " 'wanted': 3824095,\n",
              " 'see': 3052778,\n",
              " 'later': 1923574,\n",
              " 'date': 813129,\n",
              " 'want': 3819985,\n",
              " 'fit': 1238214,\n",
              " 'hobsters': 1609560,\n",
              " 'precious': 2705467,\n",
              " 'notions': 2416113,\n",
              " 'maturity': 2160412,\n",
              " 'jock': 1814936,\n",
              " 'asshole': 204106,\n",
              " 'tried': 3650085,\n",
              " 'pick': 2611253,\n",
              " 'fight': 1206759,\n",
              " 'subway': 3381857,\n",
              " 'funny': 1333267,\n",
              " 'made': 2099935,\n",
              " 'look': 2051727,\n",
              " 'totally': 3622140,\n",
              " 'stupid': 3373708,\n",
              " 'first': 1232369,\n",
              " 'said': 2982104,\n",
              " 'im': 1692124,\n",
              " 'kick': 1858385,\n",
              " 'ass': 201260,\n",
              " 'prove': 2755969,\n",
              " 'walked': 3813338,\n",
              " 'called': 479316,\n",
              " 'fag': 1154759,\n",
              " 'asked': 196327,\n",
              " 'homophobic': 1622836,\n",
              " 'blog': 366101,\n",
              " 'boring': 396257,\n",
              " 'past': 2555233,\n",
              " 'days': 825315,\n",
              " 'know': 1882717,\n",
              " 'jeff': 1801589,\n",
              " 'returned': 2915827,\n",
              " 'need': 2349922,\n",
              " 'excitement': 1120083,\n",
              " 'aditlo': 37485,\n",
              " 'kind': 1867535,\n",
              " 'recap': 2846743,\n",
              " 'day': 818493,\n",
              " 'place': 2630087,\n",
              " 'think': 3528465,\n",
              " 'loud': 2072511,\n",
              " 'say': 3007625,\n",
              " 'things': 3523703,\n",
              " 'one': 2463556,\n",
              " 'around': 179377,\n",
              " 'hear': 1554916,\n",
              " 'twentyish': 3681933,\n",
              " 'passed': 2552370,\n",
              " 'summer': 3394002,\n",
              " 'accomplished': 14533,\n",
              " 'tend': 3483571,\n",
              " 'long': 2046517,\n",
              " 'version': 3778700,\n",
              " 'movie': 2289969,\n",
              " 'breakfast': 420234,\n",
              " 'club': 625241,\n",
              " 'suffer': 3388209,\n",
              " 'selfidentity': 3071671,\n",
              " 'problems': 2733278,\n",
              " 'end': 1042082,\n",
              " 'realize': 2833840,\n",
              " 'alright': 93424,\n",
              " 'tons': 3611258,\n",
              " 'fun': 1327288,\n",
              " 'changes': 551096,\n",
              " 'far': 1170309,\n",
              " 'yeah': 4008600,\n",
              " 'arent': 172658,\n",
              " 'always': 102045,\n",
              " 'verge': 3777549,\n",
              " 'discovering': 912924,\n",
              " 'important': 1706665,\n",
              " 'selftruth': 3072834,\n",
              " 'boils': 383871,\n",
              " 'discover': 912067,\n",
              " 'either': 1018207,\n",
              " 'chances': 547735,\n",
              " 'youve': 4038632,\n",
              " 'listening': 2019121,\n",
              " 'emo': 1035654,\n",
              " 'facet': 1150101,\n",
              " 'complex': 672632,\n",
              " 'shining': 3117305,\n",
              " 'gem': 1358297,\n",
              " 'life': 1978913,\n",
              " 'philosophy': 2603272,\n",
              " 'deep': 847289,\n",
              " 'youre': 4035459,\n",
              " 'cool': 715611,\n",
              " 'hope': 1628033,\n",
              " 'ive': 1785933,\n",
              " 'beaten': 291076,\n",
              " 'thing': 3519230,\n",
              " 'deal': 832533,\n",
              " 'hurt': 1668800,\n",
              " 'time': 3568116,\n",
              " 'many': 2134323,\n",
              " 'future': 1337050,\n",
              " 'plans': 2638927,\n",
              " 'write': 3986739,\n",
              " 'list': 2015892,\n",
              " 'right': 2928805,\n",
              " 'continue': 704419,\n",
              " 'money': 2261162,\n",
              " 'frivolously': 1314179,\n",
              " 'attend': 215148,\n",
              " 'warped': 3831564,\n",
              " 'tour': 3626024,\n",
              " 'heckle': 1565380,\n",
              " 'sellouts': 3074034,\n",
              " 'keep': 1846769,\n",
              " 'fashion': 1174370,\n",
              " 'revolution': 2920373,\n",
              " 'rolling': 2950494,\n",
              " 'nicer': 2383107,\n",
              " 'mom': 2254481,\n",
              " 'probably': 2729100,\n",
              " 'wont': 3946072,\n",
              " 'stress': 3356163,\n",
              " 'importance': 1706416,\n",
              " 'free': 1295319,\n",
              " 'music': 2312282,\n",
              " 'longwinded': 2051527,\n",
              " 'selfimportant': 3071705,\n",
              " 'blogs': 371260,\n",
              " 'sleep': 3191737,\n",
              " 'hours': 1643231,\n",
              " 'hometown': 1621589,\n",
              " 'close': 619208,\n",
              " 'towns': 3631141,\n",
              " 'townships': 3631275,\n",
              " 'ie': 1684614,\n",
              " 'johns': 1818298,\n",
              " 'house': 1645423,\n",
              " 'get': 1366461,\n",
              " 'matching': 2153891,\n",
              " 'casualties': 522444,\n",
              " 'nyc': 2427392,\n",
              " 'punk': 2768873,\n",
              " 'rock': 2945305,\n",
              " 'chaos': 553234,\n",
              " 'lighters': 1987589,\n",
              " 'white': 3905123,\n",
              " 'mine': 2229437,\n",
              " 'black': 355112,\n",
              " 'start': 3305664,\n",
              " 'sort': 3253149,\n",
              " 'army': 178430,\n",
              " 'superhero': 3402172,\n",
              " 'team': 3467278,\n",
              " 'light': 1985931,\n",
              " 'hold': 1610521,\n",
              " 'together': 3596487,\n",
              " 'jorge': 1823728,\n",
              " 'grant': 1458206,\n",
              " 'us': 3746094,\n",
              " 'power': 2695752,\n",
              " 'guard': 1481790,\n",
              " 'dogs': 934082,\n",
              " 'concerts': 681058,\n",
              " 'help': 1574694,\n",
              " 'bring': 428361,\n",
              " 'already': 91053,\n",
              " 'selfdestructing': 3071312,\n",
              " 'brainerd': 414911,\n",
              " 'lakes': 1909159,\n",
              " 'scene': 3021888,\n",
              " 'every': 1098225,\n",
              " 'historically': 1601924,\n",
              " 'personally': 2595420,\n",
              " 'meaningful': 2174999,\n",
              " 'regardless': 2864701,\n",
              " 'bet': 326783,\n",
              " 'least': 1944888,\n",
              " 'according': 14976,\n",
              " 'office': 2441592,\n",
              " 'calculator': 474622,\n",
              " 'started': 3308015,\n",
              " 'bluesrock': 377375,\n",
              " 'band': 264946,\n",
              " 'vox': 3802119,\n",
              " 'harmonica': 1536644,\n",
              " 'basically': 277423,\n",
              " 'riffs': 2928514,\n",
              " 'sing': 3167271,\n",
              " 'various': 3771905,\n",
              " 'veneraldisease': 3775921,\n",
              " 'related': 2870739,\n",
              " 'blues': 377168,\n",
              " 'quite': 2791737,\n",
              " 'took': 3612329,\n",
              " 'threw': 3554499,\n",
              " 'lake': 1908486,\n",
              " 'playing': 2647656,\n",
              " 'junkrot': 1836055,\n",
              " 'talking': 3450415,\n",
              " 'girlfriend': 1387167,\n",
              " 'oh': 2447557,\n",
              " 'skitched': 3187566,\n",
              " 'behind': 309209,\n",
              " 'car': 503082,\n",
              " 'happened': 1524595,\n",
              " 'something': 3232279,\n",
              " 'mall': 2122507,\n",
              " 'post': 2685693,\n",
              " 'tonight': 3608921,\n",
              " 'ill': 1688438,\n",
              " 'comment': 655840,\n",
              " 'gather': 1351759,\n",
              " 'thoughts': 3549584,\n",
              " 'flags': 1242587,\n",
              " 'still': 3329832,\n",
              " 'flying': 1255839,\n",
              " 'halfmast': 1510657,\n",
              " 'ronnies': 2952540,\n",
              " 'week': 3864733,\n",
              " 'mourning': 2285165,\n",
              " 'ago': 57487,\n",
              " 'commented': 656907,\n",
              " 'lady': 1905896,\n",
              " 'bank': 267990,\n",
              " 'gave': 1352738,\n",
              " 'sucker': 3385178,\n",
              " 'fahrenheit': 1154981,\n",
              " 'starts': 3311712,\n",
              " 'next': 2376522,\n",
              " 'course': 742029,\n",
              " 'nice': 2380012,\n",
              " 'rastafarian': 2813495,\n",
              " 'fellow': 1197387,\n",
              " 'ticket': 3562344,\n",
              " 'counter': 736264,\n",
              " 'wouldnt': 3981781,\n",
              " 'pull': 2765228,\n",
              " 'claimed': 602822,\n",
              " 'owners': 2516012,\n",
              " 'ten': 3483128,\n",
              " 'fascist': 1174305,\n",
              " 'pigs': 2620751,\n",
              " 'hits': 1605067,\n",
              " 'full': 1324631,\n",
              " 'speed': 3273982,\n",
              " 'charge': 556175,\n",
              " 'booking': 390333,\n",
              " 'michael': 2211926,\n",
              " 'moore': 2271976,\n",
              " 'showman': 3140166,\n",
              " 'hungry': 1666763,\n",
              " 'attention': 216212,\n",
              " 'clever': 614555,\n",
              " 'filmmaker': 1214994,\n",
              " 'sewer': 3097834,\n",
              " 'gremlin': 1469369,\n",
              " 'calls': 483961,\n",
              " 'brings': 430157,\n",
              " 'valid': 3767889,\n",
              " 'points': 2665046,\n",
              " 'makes': 2116918,\n",
              " 'entertaining': 1062353,\n",
              " 'also': 94307,\n",
              " 'seems': 3064069,\n",
              " 'like': 1988910,\n",
              " 'men': 2194108,\n",
              " 'political': 2668899,\n",
              " 'activism': 25257,\n",
              " 'feel': 1189057,\n",
              " 'debt': 838899,\n",
              " 'done': 938428,\n",
              " 'ya': 4001734,\n",
              " 'tomorrow': 3604904,\n",
              " 'three': 3552505,\n",
              " 'weeks': 3870991,\n",
              " 'friday night': 1303390,\n",
              " 'night believe': 2386027,\n",
              " 'believe well': 314828,\n",
              " 'well actually': 3877322,\n",
              " 'actually might': 29389,\n",
              " 'might saturday': 2218899,\n",
              " 'saturday cant': 3000468,\n",
              " 'cant remember': 499276,\n",
              " 'remember let': 2881948,\n",
              " 'let check': 1966131,\n",
              " 'check ok': 563538,\n",
              " 'ok friday': 2452472,\n",
              " 'friday much': 1303367,\n",
              " 'much going': 2302218,\n",
              " 'going today': 1423730,\n",
              " 'today chris': 3589994,\n",
              " 'chris erik': 588014,\n",
              " 'erik continued': 1072655,\n",
              " 'continued search': 705564,\n",
              " 'search wesley': 3043124,\n",
              " 'wesley willis': 3892972,\n",
              " 'willis cds': 3918439,\n",
              " 'cds got': 533173,\n",
              " 'got copy': 1441483,\n",
              " 'copy eriks': 720971,\n",
              " 'eriks bands': 1072834,\n",
              " 'bands new': 266861,\n",
              " 'new ep': 2369262,\n",
              " 'ep went': 1067997,\n",
              " 'went dodgeball': 3887448,\n",
              " 'dodgeball wasnt': 931014,\n",
              " 'wasnt expecting': 3834693,\n",
              " 'expecting much': 1129324,\n",
              " 'much felt': 2301976,\n",
              " 'felt justified': 1198692,\n",
              " 'justified decision': 1837428,\n",
              " 'decision spend': 844223,\n",
              " 'spend saw': 3276088,\n",
              " 'saw megapixel': 3006136,\n",
              " 'megapixel camera': 2187037,\n",
              " 'camera best': 489186,\n",
              " 'best buy': 324129,\n",
              " 'buy today': 467750,\n",
              " 'today struck': 3593196,\n",
              " 'struck good': 3362265,\n",
              " 'good enough': 1431011,\n",
              " 'enough buy': 1057580,\n",
              " 'buy four': 466862,\n",
              " 'four megapixels': 1287955,\n",
              " 'megapixels actually': 2187048,\n",
              " 'actually pretty': 29720,\n",
              " 'pretty good': 2718863,\n",
              " 'good dont': 1430854,\n",
              " 'dont particularly': 943839,\n",
              " 'particularly care': 2545925,\n",
              " 'care technology': 509339,\n",
              " 'technology specifics': 3472562,\n",
              " 'specifics didnt': 3272292,\n",
              " 'didnt find': 889639,\n",
              " 'find anything': 1219620,\n",
              " 'anything else': 146497,\n",
              " 'else everywhere': 1027012,\n",
              " 'everywhere went': 1107604,\n",
              " 'went today': 3891177,\n",
              " 'today seemed': 3592837,\n",
              " 'seemed packed': 3063525,\n",
              " 'packed friends': 2519462,\n",
              " 'friends acquaintances': 1308300,\n",
              " 'acquaintances best': 20353,\n",
              " 'buy nisswa': 467270,\n",
              " 'nisswa movies': 2393998,\n",
              " 'movies hobe': 2292904,\n",
              " 'hobe houley': 1609428,\n",
              " 'houley decided': 1641494,\n",
              " 'decided go': 842297,\n",
              " 'go terminal': 1409194,\n",
              " 'terminal sucked': 3487249,\n",
              " 'sucked wanted': 3385080,\n",
              " 'wanted see': 3825395,\n",
              " 'see later': 3056007,\n",
              " 'later date': 1924016,\n",
              " 'date houley': 813520,\n",
              " 'houley didnt': 1641495,\n",
              " 'didnt want': 890821,\n",
              " 'want see': 3823098,\n",
              " 'see dodgeball': 3054348,\n",
              " 'dodgeball didnt': 930947,\n",
              " 'didnt fit': 889649,\n",
              " 'fit hobsters': 1238502,\n",
              " 'hobsters precious': 1609562,\n",
              " 'precious notions': 2705634,\n",
              " 'notions maturity': 2416141,\n",
              " 'maturity jock': 2160446,\n",
              " 'jock asshole': 1814937,\n",
              " 'asshole tried': 204359,\n",
              " 'tried pick': 3650862,\n",
              " 'pick fight': 2611623,\n",
              " 'fight chris': 1206882,\n",
              " 'chris today': 588557,\n",
              " 'today subway': 3593215,\n",
              " 'subway funny': 3381921,\n",
              " 'funny chris': 1333549,\n",
              " 'chris made': 588246,\n",
              " 'made look': 2101818,\n",
              " 'look totally': 2054463,\n",
              " 'totally stupid': 3623192,\n",
              " 'stupid first': 3374303,\n",
              " 'first said': 1235167,\n",
              " 'said im': 2983977,\n",
              " 'im going': 1694703,\n",
              " 'going kick': 1421283,\n",
              " 'kick ass': 1858404,\n",
              " 'ass chris': 201499,\n",
              " 'chris said': 588441,\n",
              " 'said going': 2983691,\n",
              " 'going prove': 1422507,\n",
              " 'prove walked': 2756320,\n",
              " 'walked called': 3813472,\n",
              " 'called chris': 479881,\n",
              " 'chris fag': 588031,\n",
              " 'fag chris': 1154766,\n",
              " 'chris asked': 587837,\n",
              " 'asked homophobic': 197041,\n",
              " 'homophobic blog': 1622840,\n",
              " 'blog boring': 366373,\n",
              " 'boring past': 396889,\n",
              " 'past days': 2555531,\n",
              " 'days dont': 826005,\n",
              " 'dont know': 943372,\n",
              " 'know jeff': 1885875,\n",
              " 'jeff returned': 1801848,\n",
              " 'returned need': 2916085,\n",
              " 'need excitement': 2350959,\n",
              " 'excitement aditlo': 1120086,\n",
              " 'aditlo kind': 37486,\n",
              " 'kind recap': 1869431,\n",
              " 'recap day': 2846756,\n",
              " 'day kind': 821172,\n",
              " 'kind place': 1869289,\n",
              " 'place think': 2632796,\n",
              " 'think loud': 3531740,\n",
              " 'loud kind': 2072786,\n",
              " 'place say': 2632400,\n",
              " 'say things': 3011777,\n",
              " 'things said': 3526566,\n",
              " 'said day': 2983056,\n",
              " 'day one': 822010,\n",
              " 'one around': 2463980,\n",
              " 'around hear': 181120,\n",
              " 'hear twentyish': 1556483,\n",
              " 'twentyish days': 3681934,\n",
              " 'days passed': 827139,\n",
              " 'passed summer': 2553046,\n",
              " 'summer accomplished': 3394009,\n",
              " 'accomplished tend': 14672,\n",
              " 'tend look': 3483794,\n",
              " 'look summer': 2054309,\n",
              " 'summer kind': 3394622,\n",
              " 'kind day': 1868050,\n",
              " 'day long': 821420,\n",
              " 'long version': 2049032,\n",
              " 'version movie': 3779146,\n",
              " 'movie breakfast': 2290187,\n",
              " 'breakfast club': 420319,\n",
              " 'club things': 626014,\n",
              " 'things suffer': 3526970,\n",
              " 'suffer selfidentity': 3388434,\n",
              " 'selfidentity problems': 3071673,\n",
              " 'problems end': 2733586,\n",
              " 'end realize': 1043961,\n",
              " 'realize alright': 2833860,\n",
              " 'alright tons': 93928,\n",
              " 'tons fun': 3611348,\n",
              " 'fun changes': 1327713,\n",
              " 'changes far': 551253,\n",
              " 'far see': 1171733,\n",
              " 'see yeah': 3059211,\n",
              " 'yeah arent': 4008694,\n",
              " 'arent always': 172685,\n",
              " 'always verge': 104961,\n",
              " 'verge discovering': 3777569,\n",
              " 'discovering important': 912953,\n",
              " 'important selftruth': 1707549,\n",
              " 'selftruth boils': 3072835,\n",
              " 'boils discover': 383883,\n",
              " 'discover either': 912130,\n",
              " 'either arent': 1018284,\n",
              " 'arent alright': 172683,\n",
              " 'alright discover': 93560,\n",
              " 'discover arent': 912083,\n",
              " 'arent chances': 172787,\n",
              " 'chances youve': 547978,\n",
              " 'youve listening': 4038886,\n",
              " 'listening much': 2019856,\n",
              " 'much emo': 2301750,\n",
              " 'emo facet': 1035694,\n",
              " 'facet complex': 1150102,\n",
              " 'complex shining': 672913,\n",
              " 'shining gem': 3117372,\n",
              " 'gem life': 1358328,\n",
              " 'life philosophy': 1981889,\n",
              " 'philosophy deep': 2603338,\n",
              " 'deep chances': 847376,\n",
              " 'chances youre': 547977,\n",
              " 'youre cool': 4035841,\n",
              " 'cool hope': 716560,\n",
              " 'hope youre': 1630245,\n",
              " 'cool know': 716700,\n",
              " 'know ive': 1885828,\n",
              " 'ive beaten': 1786118,\n",
              " 'beaten thing': 291222,\n",
              " 'thing deal': 3520056,\n",
              " 'deal much': 833272,\n",
              " 'much cant': 2300962,\n",
              " 'cant hurt': 498787,\n",
              " 'hurt say': 1669550,\n",
              " 'say one': 3010516,\n",
              " 'one time': 2471960,\n",
              " 'time thing': 3574829,\n",
              " 'thing dont': 3520185,\n",
              " 'dont many': 943588,\n",
              " 'many future': 2135393,\n",
              " 'future plans': 1337829,\n",
              " 'plans summer': 2639534,\n",
              " 'summer actually': 3394016,\n",
              " 'actually going': 28874,\n",
              " 'going write': 1424277,\n",
              " 'write list': 3987593,\n",
              " 'list right': 2016828,\n",
              " 'right continue': 2929613,\n",
              " 'continue spend': 705054,\n",
              " 'spend money': 3275982,\n",
              " 'money frivolously': 2261922,\n",
              " 'frivolously attend': 1314180,\n",
              " 'attend warped': 215499,\n",
              " 'warped tour': 3831599,\n",
              " 'tour heckle': 3626248,\n",
              " 'heckle sellouts': 1565384,\n",
              " 'sellouts keep': 3074039,\n",
              " 'keep fashion': 1847422,\n",
              " 'fashion revolution': 1174609,\n",
              " 'revolution rolling': 2920506,\n",
              " 'rolling nicer': 2950638,\n",
              " 'nicer mom': 2383189,\n",
              " 'mom well': 2256152,\n",
              " 'well probably': 3881320,\n",
              " 'probably wont': 2731184,\n",
              " 'wont stress': 3947199,\n",
              " 'stress importance': 3356381,\n",
              " 'importance free': 1706493,\n",
              " 'free music': 1296375,\n",
              " 'music longwinded': 2313489,\n",
              " 'longwinded selfimportant': 2051545,\n",
              " 'selfimportant blogs': 3071707,\n",
              " 'blogs sleep': 371724,\n",
              " 'sleep hours': 3192437,\n",
              " 'hours day': 1643629,\n",
              " 'day heckle': 820715,\n",
              " 'sellouts hometown': 3074038,\n",
              " 'hometown close': 1621609,\n",
              " 'close towns': 620498,\n",
              " 'towns townships': 3631231,\n",
              " 'townships ie': 3631276,\n",
              " 'ie nisswa': 1684946,\n",
              " 'nisswa johns': 2393996,\n",
              " 'johns house': 1818355,\n",
              " 'house get': 1646497,\n",
              " 'get matching': 1370771,\n",
              " 'matching casualties': 2153901,\n",
              " 'casualties nyc': 522480,\n",
              " 'nyc punk': 2427542,\n",
              " 'punk rock': 2769071,\n",
              " 'rock chaos': 2945446,\n",
              " 'chaos lighters': 553325,\n",
              " 'lighters chris': 1987596,\n",
              " 'chris white': 588615,\n",
              " 'white mine': 3905823,\n",
              " 'mine black': 2229567,\n",
              " 'black start': 356158,\n",
              " 'start sort': 3307556,\n",
              " 'sort casualties': 3253346,\n",
              " 'casualties army': 522446,\n",
              " 'army superhero': 178853,\n",
              " 'superhero team': 3402233,\n",
              " 'team light': 3467968,\n",
              " 'light hold': 1986510,\n",
              " 'hold together': 1611519,\n",
              " 'together say': 3598014,\n",
              " 'say jorge': 3009802,\n",
              " 'jorge grant': 1823748,\n",
              " 'grant us': 1458381,\n",
              " 'us power': 3749760,\n",
              " 'power fight': 2696194,\n",
              " 'fight sellouts': 1207459,\n",
              " 'sellouts guard': 3074037,\n",
              " 'guard dogs': 1481859,\n",
              " 'dogs attend': 934105,\n",
              " 'attend concerts': 215213,\n",
              " 'concerts help': 681115,\n",
              " 'help bring': 1574916,\n",
              " 'bring already': 428385,\n",
              " 'already selfdestructing': 92679,\n",
              " 'selfdestructing brainerd': 3071313,\n",
              " 'brainerd lakes': 414917,\n",
              " 'lakes emo': 1909170,\n",
              " 'emo scene': 1035762,\n",
              " 'scene remember': 3022375,\n",
              " 'remember every': 2881448,\n",
              " 'every day': 1098558,\n",
              " 'day historically': 820774,\n",
              " 'historically personally': 1601950,\n",
              " 'personally meaningful': 2595608,\n",
              " 'meaningful regardless': 2175086,\n",
              " 'regardless dont': 2864753,\n",
              " 'dont bet': 942227,\n",
              " 'bet sleep': 327234,\n",
              " 'sleep least': 3192560,\n",
              " 'least days': 1945308,\n",
              " 'days summer': 827713,\n",
              " 'summer according': 3394010,\n",
              " 'according office': 15423,\n",
              " 'office calculator': 2441766,\n",
              " 'calculator hours': 474641,\n",
              " 'hours chris': 1643505,\n",
              " 'chris started': 588494,\n",
              " 'started bluesrock': 3308234,\n",
              " 'bluesrock band': 377376,\n",
              " 'band day': 265207,\n",
              " 'day vox': 823899,\n",
              " 'vox chris': 3802122,\n",
              " 'chris harmonica': 588111,\n",
              " 'harmonica basically': 1536646,\n",
              " 'basically chris': 277567,\n",
              " 'chris riffs': 588428,\n",
              " 'riffs sing': 2928541,\n",
              " 'sing various': 3167790,\n",
              " 'various veneraldisease': 3772481,\n",
              " 'veneraldisease related': 3775922,\n",
              " 'related blues': 2870784,\n",
              " 'blues quite': 377286,\n",
              " 'quite funny': 2792396,\n",
              " 'funny erik': 1333767,\n",
              " 'erik took': 1072723,\n",
              " 'took harmonica': 3613170,\n",
              " 'harmonica threw': 1536661,\n",
              " 'threw lake': 3554693,\n",
              " 'lake playing': 1908790,\n",
              " 'playing junkrot': 2648421,\n",
              " 'junkrot blues': 1836056,\n",
              " 'blues talking': 377312,\n",
              " 'talking girlfriend': 3451272,\n",
              " 'girlfriend oh': 1387550,\n",
              " 'oh chris': 2447861,\n",
              " 'chris skitched': 588474,\n",
              " 'skitched behind': 3187567,\n",
              " 'behind eriks': 309603,\n",
              " 'eriks car': 1072836,\n",
              " 'car playing': 504441,\n",
              " 'playing harmonica': 2648281,\n",
              " 'harmonica happened': 1536652,\n",
              " 'happened going': 1525143,\n",
              " 'going say': 1422921,\n",
              " 'say something': 3011412,\n",
              " 'something mall': 3234495,\n",
              " 'mall probably': 2122882,\n",
              " 'probably long': 2730179,\n",
              " 'long post': 2048240,\n",
              " 'post tonight': 2687688,\n",
              " 'tonight ill': 3609644,\n",
              " 'ill get': 1689177,\n",
              " 'get time': 1373769,\n",
              " 'time want': 3575355,\n",
              " 'want comment': 3820675,\n",
              " 'comment mall': 656235,\n",
              " 'mall gather': 2122680,\n",
              " 'gather thoughts': 1351889,\n",
              " 'thoughts flags': 3549919,\n",
              " 'flags still': 1242688,\n",
              " 'still flying': 3331278,\n",
              " 'flying halfmast': 1256014,\n",
              " 'halfmast didnt': 1510658,\n",
              " 'didnt ronnies': 890429,\n",
              " 'ronnies week': 2952544,\n",
              " 'week mourning': 3866449,\n",
              " 'mourning end': 2285182,\n",
              " 'end ago': 1042121,\n",
              " 'ago commented': 57787,\n",
              " 'commented lady': 656971,\n",
              " 'lady bank': 1905944,\n",
              " 'bank gave': 268167,\n",
              " 'gave sucker': 1354140,\n",
              " 'sucker fahrenheit': 3385214,\n",
              " 'fahrenheit starts': 1155100,\n",
              " 'starts playing': 3312169,\n",
              " 'playing next': 2648654,\n",
              " 'next friday': 2377167,\n",
              " 'friday course': 1302907,\n",
              " 'course wont': 744515,\n",
              " 'wont playing': 3946940,\n",
              " 'playing brainerd': 2647812,\n",
              " 'brainerd asked': 414913,\n",
              " 'asked nice': 197390,\n",
              " 'nice rastafarian': 2381822,\n",
              " 'rastafarian fellow': 2813496,\n",
              " 'fellow ticket': 1197767,\n",
              " 'ticket counter': 3562416,\n",
              " 'counter said': 736498,\n",
              " 'said wouldnt': 2986518,\n",
              " 'wouldnt pull': 3982491,\n",
              " 'pull enough': 2765394,\n",
              " 'enough money': 1058749,\n",
              " 'money claimed': 2261498,\n",
              " 'claimed owners': 602938,\n",
              " 'owners movies': 2516118,\n",
              " 'movies ten': 2293403,\n",
              " 'ten fascist': 3483232,\n",
              " 'fascist pigs': 1174329,\n",
              " 'pigs said': 2620820,\n",
              " 'said probably': 2985155,\n",
              " 'probably revolution': 2730630,\n",
              " 'revolution hits': 2920449,\n",
              " 'hits full': 1605182,\n",
              " 'full speed': 1325943,\n",
              " 'speed ill': 3274156,\n",
              " 'ill let': 1689451,\n",
              " 'let charge': 1966126,\n",
              " 'charge movie': 556447,\n",
              " 'movie booking': 2290171,\n",
              " 'booking know': 390360,\n",
              " 'know michael': 1886565,\n",
              " 'michael moore': 2212286,\n",
              " 'moore showman': 2272250,\n",
              " 'showman hungry': 3140168,\n",
              " 'hungry attention': 1666788,\n",
              " 'attention quite': 216871,\n",
              " 'quite clever': 2791989,\n",
              " 'clever filmmaker': 614608,\n",
              " 'filmmaker sewer': 1215009,\n",
              " 'sewer gremlin': 3097842,\n",
              " 'gremlin chris': 1469371,\n",
              " 'chris calls': 587897,\n",
              " 'calls brings': 484078,\n",
              " 'brings valid': 430511,\n",
              " 'valid points': 3767964,\n",
              " 'points makes': 2665442,\n",
              " 'makes entertaining': 2117316,\n",
              " 'entertaining movies': 1062521,\n",
              " 'movies also': 2292524,\n",
              " 'also seems': 97839,\n",
              " 'seems like': 3065012,\n",
              " 'like long': 1995552,\n",
              " 'long time': 2048867,\n",
              " 'time ago': 3568244,\n",
              " 'ago stupid': 59012,\n",
              " 'stupid white': 3375620,\n",
              " 'white men': 3905807,\n",
              " 'men got': 2194653,\n",
              " 'got political': 1444610,\n",
              " 'political activism': 2668903,\n",
              " 'activism feel': 25262,\n",
              " 'feel debt': 1189591,\n",
              " 'debt im': 839002,\n",
              " 'im done': 1693846,\n",
              " 'done see': 940343,\n",
              " 'see ya': 3059194,\n",
              " 'ya tomorrow': 4002629,\n",
              " 'tomorrow next': 3605987,\n",
              " 'next day': 2376924,\n",
              " 'day three': 823537,\n",
              " 'three weeks': 3554041,\n",
              " 'leslie': 1962582,\n",
              " 'born': 397469,\n",
              " 'june': 1834548,\n",
              " 'live': 2028387,\n",
              " 'joke': 1820260,\n",
              " 'family': 1164137,\n",
              " 'color': 641302,\n",
              " 'pink': 2623521,\n",
              " 'nah': 2323557,\n",
              " 'love': 2074417,\n",
              " 'god': 1411733,\n",
              " 'toot': 3615612,\n",
              " 'telling': 3479311,\n",
              " 'hate': 1539906,\n",
              " 'cockroaches': 631068,\n",
              " 'backstabbers': 252241,\n",
              " 'dreadfully': 960780,\n",
              " 'desire': 873237,\n",
              " 'haha': 1501237,\n",
              " 'addicted': 34188,\n",
              " 'xa': 3998960,\n",
              " 'butterflies': 465080,\n",
              " 'food': 1263396,\n",
              " 'really': 2836431,\n",
              " 'learn': 1941854,\n",
              " 'hand': 1514296,\n",
              " 'stand': 3299202,\n",
              " 'mehn': 2187708,\n",
              " 'bathe': 281421,\n",
              " 'uhh': 3694995,\n",
              " 'weird': 3874532,\n",
              " 'question': 2785004,\n",
              " 'take': 3437714,\n",
              " 'bath': 281174,\n",
              " 'make': 2112428,\n",
              " 'soap': 3217383,\n",
              " 'water': 3843321,\n",
              " 'shampoo': 3104908,\n",
              " 'towel': 3629122,\n",
              " 'bathroom': 281625,\n",
              " 'duh': 983170,\n",
              " 'last': 1918443,\n",
              " 'magic': 2105731,\n",
              " 'words': 3951905,\n",
              " 'bestfriend': 326476,\n",
              " 'klohdie': 1877828,\n",
              " 'idols': 1684443,\n",
              " 'isare': 1773755,\n",
              " 'hmm': 1606520,\n",
              " 'plentynbsp': 2653603,\n",
              " 'cause': 528162,\n",
              " 'shes': 3113817,\n",
              " 'damn': 800777,\n",
              " 'perfect': 2583705,\n",
              " 'okay': 2453965,\n",
              " 'despise': 875532,\n",
              " 'classmates': 608819,\n",
              " 'knowitalls': 1890663,\n",
              " 'personthing': 2596422,\n",
              " 'wake': 3810550,\n",
              " 'morning': 2274556,\n",
              " 'doggie': 933812,\n",
              " 'nyahaha': 2427337,\n",
              " 'stuff': 3369350,\n",
              " 'memorable': 2192243,\n",
              " 'happend': 1524500,\n",
              " 'oo': 2479661,\n",
              " 'sweetest': 3424541,\n",
              " 'ever': 1094853,\n",
              " 'iswasnbspcant': 1780545,\n",
              " 'choose': 584827,\n",
              " 'person': 2591524,\n",
              " 'everyday': 1100707,\n",
              " 'besty': 326769,\n",
              " 'everyone': 1101476,\n",
              " 'except': 1116176,\n",
              " 'people': 2574724,\n",
              " 'children': 576113,\n",
              " 'often': 2445872,\n",
              " 'ask': 194479,\n",
              " 'come': 645493,\n",
              " 'hahaha': 1502947,\n",
              " 'tinker': 3581178,\n",
              " 'shitty': 3121986,\n",
              " 'crush': 774466,\n",
              " 'wahaha': 3805719,\n",
              " 'wehtuts': 3873065,\n",
              " 'ayy': 239467,\n",
              " 'gosh': 1439389,\n",
              " 'kulet': 1899472,\n",
              " 'sarcastic': 2997064,\n",
              " 'getting': 1376553,\n",
              " 'sleepy': 3194774,\n",
              " 'without': 3932392,\n",
              " 'lostthat': 2067519,\n",
              " 'cried': 766429,\n",
              " 'heart': 1559185,\n",
              " 'flipping': 1248782,\n",
              " 'kidding': 1861122,\n",
              " 'serious': 3085905,\n",
              " 'fall': 1160361,\n",
              " 'somebody': 3227228,\n",
              " 'corz': 726593,\n",
              " 'player': 2645924,\n",
              " 'players': 2646695,\n",
              " 'trippin': 3654202,\n",
              " 'addin': 34782,\n",
              " 'someone': 3229203,\n",
              " 'collection': 638492,\n",
              " 'hell': 1571284,\n",
              " 'needs': 2355104,\n",
              " 'pasiklaban': 2551111,\n",
              " 'na': 2321916,\n",
              " 'toh': 3598850,\n",
              " 'cares': 511262,\n",
              " 'cry': 775432,\n",
              " 'whattaquestion': 3899033,\n",
              " 'highly': 1594514,\n",
              " 'meaning': 2174278,\n",
              " 'sacrificing': 2977550,\n",
              " 'positive': 2682135,\n",
              " 'answer': 136348,\n",
              " 'picky': 2614311,\n",
              " 'sleeping': 3193677,\n",
              " 'mins': 2233700,\n",
              " 'nbsp': 2339510,\n",
              " 'bye': 469227,\n",
              " 'yah': 4003086,\n",
              " 'leslie born': 1962586,\n",
              " 'born june': 397802,\n",
              " 'june live': 1834862,\n",
              " 'live one': 2029715,\n",
              " 'one joke': 2467936,\n",
              " 'joke family': 1820421,\n",
              " 'family like': 1165145,\n",
              " 'like color': 1991106,\n",
              " 'color pink': 641736,\n",
              " 'pink nah': 2623818,\n",
              " 'nah love': 2323644,\n",
              " 'love god': 2076348,\n",
              " 'god family': 1412506,\n",
              " 'family friends': 1164789,\n",
              " 'friends toot': 1311210,\n",
              " 'toot im': 3615617,\n",
              " 'im telling': 1698453,\n",
              " 'telling hate': 3479632,\n",
              " 'hate cockroaches': 1540269,\n",
              " 'cockroaches backstabbers': 631072,\n",
              " 'backstabbers like': 252244,\n",
              " 'like dreadfully': 1992199,\n",
              " 'dreadfully desire': 960784,\n",
              " 'desire haha': 873421,\n",
              " 'haha dreadfully': 1501552,\n",
              " 'dreadfully addicted': 960781,\n",
              " 'addicted xa': 34404,\n",
              " 'xa addicted': 3998961,\n",
              " 'addicted butterflies': 34206,\n",
              " 'butterflies color': 465086,\n",
              " 'pink food': 2623680,\n",
              " 'food really': 1264664,\n",
              " 'really want': 2840818,\n",
              " 'want learn': 3822018,\n",
              " 'learn hand': 1942256,\n",
              " 'hand stand': 1515819,\n",
              " 'stand mehn': 3299750,\n",
              " 'mehn love': 2187710,\n",
              " 'love bathe': 2074793,\n",
              " 'bathe uhh': 281473,\n",
              " 'uhh weird': 3695064,\n",
              " 'weird question': 3875330,\n",
              " 'question thing': 2786115,\n",
              " 'thing need': 3521563,\n",
              " 'need take': 2352950,\n",
              " 'take bath': 3437962,\n",
              " 'bath make': 281293,\n",
              " 'make soap': 2115776,\n",
              " 'soap water': 3217528,\n",
              " 'water shampoo': 3844592,\n",
              " 'shampoo towel': 3104985,\n",
              " 'towel course': 3629141,\n",
              " 'course bathroom': 742196,\n",
              " 'bathroom duh': 281742,\n",
              " ...}"
            ]
          },
          "metadata": {
            "tags": []
          },
          "execution_count": 56
        }
      ]
    },
    {
      "cell_type": "markdown",
      "metadata": {
        "id": "ObJbNQW2bFHZ"
      },
      "source": [
        "**b. Print the term-document matrix**"
      ]
    },
    {
      "cell_type": "markdown",
      "metadata": {
        "id": "dVT6UzsybJWp"
      },
      "source": [
        "Printing first few records as to array consumes more memory and session crashes"
      ]
    },
    {
      "cell_type": "code",
      "metadata": {
        "id": "7Pq9UFV-7a4f",
        "outputId": "7076056a-669f-4a13-9237-2559f0948768",
        "colab": {
          "base_uri": "https://localhost:8080/",
          "height": 238
        }
      },
      "source": [
        "#train DTM\n",
        "pd.DataFrame(X_train[1:5].toarray(), columns = vectorizer.get_feature_names())"
      ],
      "execution_count": 57,
      "outputs": [
        {
          "output_type": "execute_result",
          "data": {
            "text/html": [
              "<div>\n",
              "<style scoped>\n",
              "    .dataframe tbody tr th:only-of-type {\n",
              "        vertical-align: middle;\n",
              "    }\n",
              "\n",
              "    .dataframe tbody tr th {\n",
              "        vertical-align: top;\n",
              "    }\n",
              "\n",
              "    .dataframe thead th {\n",
              "        text-align: right;\n",
              "    }\n",
              "</style>\n",
              "<table border=\"1\" class=\"dataframe\">\n",
              "  <thead>\n",
              "    <tr style=\"text-align: right;\">\n",
              "      <th></th>\n",
              "      <th>aa</th>\n",
              "      <th>aa aa</th>\n",
              "      <th>aa aaand</th>\n",
              "      <th>aa advert</th>\n",
              "      <th>aa alexisonfire</th>\n",
              "      <th>aa apparently</th>\n",
              "      <th>aa assertive</th>\n",
              "      <th>aa back</th>\n",
              "      <th>aa bateries</th>\n",
              "      <th>aa batteries</th>\n",
              "      <th>aa bra</th>\n",
              "      <th>aa browsing</th>\n",
              "      <th>aa bukannya</th>\n",
              "      <th>aa business</th>\n",
              "      <th>aa car</th>\n",
              "      <th>aa certain</th>\n",
              "      <th>aa cruise</th>\n",
              "      <th>aa cutest</th>\n",
              "      <th>aa diamond</th>\n",
              "      <th>aa draft</th>\n",
              "      <th>aa end</th>\n",
              "      <th>aa favoring</th>\n",
              "      <th>aa field</th>\n",
              "      <th>aa gai</th>\n",
              "      <th>aa gaya</th>\n",
              "      <th>aa gaye</th>\n",
              "      <th>aa giving</th>\n",
              "      <th>aa good</th>\n",
              "      <th>aa got</th>\n",
              "      <th>aa grandma</th>\n",
              "      <th>aa group</th>\n",
              "      <th>aa guns</th>\n",
              "      <th>aa ha</th>\n",
              "      <th>aa hahahai</th>\n",
              "      <th>aa hey</th>\n",
              "      <th>aa ive</th>\n",
              "      <th>aa kk</th>\n",
              "      <th>aa last</th>\n",
              "      <th>aa lava</th>\n",
              "      <th>aa lazy</th>\n",
              "      <th>...</th>\n",
              "      <th>zzzzzzz time</th>\n",
              "      <th>zzzzzzzz</th>\n",
              "      <th>zzzzzzzzdamni</th>\n",
              "      <th>zzzzzzzzdamni hate</th>\n",
              "      <th>zzzzzzzzz</th>\n",
              "      <th>zzzzzzzzz gd</th>\n",
              "      <th>zzzzzzzzz good</th>\n",
              "      <th>zzzzzzzzzz</th>\n",
              "      <th>zzzzzzzzzz yeah</th>\n",
              "      <th>zzzzzzzzzzz</th>\n",
              "      <th>zzzzzzzzzzz goto</th>\n",
              "      <th>zzzzzzzzzzz listen</th>\n",
              "      <th>zzzzzzzzzzzespecially</th>\n",
              "      <th>zzzzzzzzzzzespecially wave</th>\n",
              "      <th>zzzzzzzzzzzz</th>\n",
              "      <th>zzzzzzzzzzzz boring</th>\n",
              "      <th>zzzzzzzzzzzz im</th>\n",
              "      <th>zzzzzzzzzzzzz</th>\n",
              "      <th>zzzzzzzzzzzzz radom</th>\n",
              "      <th>zzzzzzzzzzzzz still</th>\n",
              "      <th>zzzzzzzzzzzzzzz</th>\n",
              "      <th>zzzzzzzzzzzzzzzz</th>\n",
              "      <th>zzzzzzzzzzzzzzzz hehehhehez</th>\n",
              "      <th>zzzzzzzzzzzzzzzzsuper</th>\n",
              "      <th>zzzzzzzzzzzzzzzzsuper sleepy</th>\n",
              "      <th>zzzzzzzzzzzzzzzzzzz</th>\n",
              "      <th>zzzzzzzzzzzzzzzzzzz sleeping</th>\n",
              "      <th>zzzzzzzzzzzzzzzzzzzzz</th>\n",
              "      <th>zzzzzzzzzzzzzzzzzzzzz squid</th>\n",
              "      <th>zzzzzzzzzzzzzzzzzzzzzz</th>\n",
              "      <th>zzzzzzzzzzzzzzzzzzzzzz gd</th>\n",
              "      <th>zzzzzzzzzzzzzzzzzzzzzzzzzzzzzzzz</th>\n",
              "      <th>zzzzzzzzzzzzzzzzzzzzzzzzzzzzzzzz ciao</th>\n",
              "      <th>zzzzzzzzzzzzzzzzzzzzzzzzzzzzzzzz second</th>\n",
              "      <th>zzzzzzzzzzzzzzzzzzzzzzzzzzzzzzzzzzzzz</th>\n",
              "      <th>zzzzzzzzzzzzzzzzzzzzzzzzzzzzzzzzzzzzzzzz</th>\n",
              "      <th>zzzzzzzzzzzzzzzzzzzzzzzzzzzzzzzzzzzzzzzzz</th>\n",
              "      <th>zzzzzzzzzzzzzzzzzzzzzzzzzzzzzzzzzzzzzzzzzzzzzzzzzzzzzzzzz</th>\n",
              "      <th>zzzzzzzzzzzzzzzzzzzzzzzzzzzzzzzzzzzzzzzzzzzzzzzzzzzzzzzzz woke</th>\n",
              "      <th>zzzzzzzzzzzzzzzzzzzzzzzzzzzzzzzzzzzzzzzzzzzzzzzzzzzzzzzzzzzzzzzzz</th>\n",
              "    </tr>\n",
              "  </thead>\n",
              "  <tbody>\n",
              "    <tr>\n",
              "      <th>0</th>\n",
              "      <td>0</td>\n",
              "      <td>0</td>\n",
              "      <td>0</td>\n",
              "      <td>0</td>\n",
              "      <td>0</td>\n",
              "      <td>0</td>\n",
              "      <td>0</td>\n",
              "      <td>0</td>\n",
              "      <td>0</td>\n",
              "      <td>0</td>\n",
              "      <td>0</td>\n",
              "      <td>0</td>\n",
              "      <td>0</td>\n",
              "      <td>0</td>\n",
              "      <td>0</td>\n",
              "      <td>0</td>\n",
              "      <td>0</td>\n",
              "      <td>0</td>\n",
              "      <td>0</td>\n",
              "      <td>0</td>\n",
              "      <td>0</td>\n",
              "      <td>0</td>\n",
              "      <td>0</td>\n",
              "      <td>0</td>\n",
              "      <td>0</td>\n",
              "      <td>0</td>\n",
              "      <td>0</td>\n",
              "      <td>0</td>\n",
              "      <td>0</td>\n",
              "      <td>0</td>\n",
              "      <td>0</td>\n",
              "      <td>0</td>\n",
              "      <td>0</td>\n",
              "      <td>0</td>\n",
              "      <td>0</td>\n",
              "      <td>0</td>\n",
              "      <td>0</td>\n",
              "      <td>0</td>\n",
              "      <td>0</td>\n",
              "      <td>0</td>\n",
              "      <td>...</td>\n",
              "      <td>0</td>\n",
              "      <td>0</td>\n",
              "      <td>0</td>\n",
              "      <td>0</td>\n",
              "      <td>0</td>\n",
              "      <td>0</td>\n",
              "      <td>0</td>\n",
              "      <td>0</td>\n",
              "      <td>0</td>\n",
              "      <td>0</td>\n",
              "      <td>0</td>\n",
              "      <td>0</td>\n",
              "      <td>0</td>\n",
              "      <td>0</td>\n",
              "      <td>0</td>\n",
              "      <td>0</td>\n",
              "      <td>0</td>\n",
              "      <td>0</td>\n",
              "      <td>0</td>\n",
              "      <td>0</td>\n",
              "      <td>0</td>\n",
              "      <td>0</td>\n",
              "      <td>0</td>\n",
              "      <td>0</td>\n",
              "      <td>0</td>\n",
              "      <td>0</td>\n",
              "      <td>0</td>\n",
              "      <td>0</td>\n",
              "      <td>0</td>\n",
              "      <td>0</td>\n",
              "      <td>0</td>\n",
              "      <td>0</td>\n",
              "      <td>0</td>\n",
              "      <td>0</td>\n",
              "      <td>0</td>\n",
              "      <td>0</td>\n",
              "      <td>0</td>\n",
              "      <td>0</td>\n",
              "      <td>0</td>\n",
              "      <td>0</td>\n",
              "    </tr>\n",
              "    <tr>\n",
              "      <th>1</th>\n",
              "      <td>0</td>\n",
              "      <td>0</td>\n",
              "      <td>0</td>\n",
              "      <td>0</td>\n",
              "      <td>0</td>\n",
              "      <td>0</td>\n",
              "      <td>0</td>\n",
              "      <td>0</td>\n",
              "      <td>0</td>\n",
              "      <td>0</td>\n",
              "      <td>0</td>\n",
              "      <td>0</td>\n",
              "      <td>0</td>\n",
              "      <td>0</td>\n",
              "      <td>0</td>\n",
              "      <td>0</td>\n",
              "      <td>0</td>\n",
              "      <td>0</td>\n",
              "      <td>0</td>\n",
              "      <td>0</td>\n",
              "      <td>0</td>\n",
              "      <td>0</td>\n",
              "      <td>0</td>\n",
              "      <td>0</td>\n",
              "      <td>0</td>\n",
              "      <td>0</td>\n",
              "      <td>0</td>\n",
              "      <td>0</td>\n",
              "      <td>0</td>\n",
              "      <td>0</td>\n",
              "      <td>0</td>\n",
              "      <td>0</td>\n",
              "      <td>0</td>\n",
              "      <td>0</td>\n",
              "      <td>0</td>\n",
              "      <td>0</td>\n",
              "      <td>0</td>\n",
              "      <td>0</td>\n",
              "      <td>0</td>\n",
              "      <td>0</td>\n",
              "      <td>...</td>\n",
              "      <td>0</td>\n",
              "      <td>0</td>\n",
              "      <td>0</td>\n",
              "      <td>0</td>\n",
              "      <td>0</td>\n",
              "      <td>0</td>\n",
              "      <td>0</td>\n",
              "      <td>0</td>\n",
              "      <td>0</td>\n",
              "      <td>0</td>\n",
              "      <td>0</td>\n",
              "      <td>0</td>\n",
              "      <td>0</td>\n",
              "      <td>0</td>\n",
              "      <td>0</td>\n",
              "      <td>0</td>\n",
              "      <td>0</td>\n",
              "      <td>0</td>\n",
              "      <td>0</td>\n",
              "      <td>0</td>\n",
              "      <td>0</td>\n",
              "      <td>0</td>\n",
              "      <td>0</td>\n",
              "      <td>0</td>\n",
              "      <td>0</td>\n",
              "      <td>0</td>\n",
              "      <td>0</td>\n",
              "      <td>0</td>\n",
              "      <td>0</td>\n",
              "      <td>0</td>\n",
              "      <td>0</td>\n",
              "      <td>0</td>\n",
              "      <td>0</td>\n",
              "      <td>0</td>\n",
              "      <td>0</td>\n",
              "      <td>0</td>\n",
              "      <td>0</td>\n",
              "      <td>0</td>\n",
              "      <td>0</td>\n",
              "      <td>0</td>\n",
              "    </tr>\n",
              "    <tr>\n",
              "      <th>2</th>\n",
              "      <td>0</td>\n",
              "      <td>0</td>\n",
              "      <td>0</td>\n",
              "      <td>0</td>\n",
              "      <td>0</td>\n",
              "      <td>0</td>\n",
              "      <td>0</td>\n",
              "      <td>0</td>\n",
              "      <td>0</td>\n",
              "      <td>0</td>\n",
              "      <td>0</td>\n",
              "      <td>0</td>\n",
              "      <td>0</td>\n",
              "      <td>0</td>\n",
              "      <td>0</td>\n",
              "      <td>0</td>\n",
              "      <td>0</td>\n",
              "      <td>0</td>\n",
              "      <td>0</td>\n",
              "      <td>0</td>\n",
              "      <td>0</td>\n",
              "      <td>0</td>\n",
              "      <td>0</td>\n",
              "      <td>0</td>\n",
              "      <td>0</td>\n",
              "      <td>0</td>\n",
              "      <td>0</td>\n",
              "      <td>0</td>\n",
              "      <td>0</td>\n",
              "      <td>0</td>\n",
              "      <td>0</td>\n",
              "      <td>0</td>\n",
              "      <td>0</td>\n",
              "      <td>0</td>\n",
              "      <td>0</td>\n",
              "      <td>0</td>\n",
              "      <td>0</td>\n",
              "      <td>0</td>\n",
              "      <td>0</td>\n",
              "      <td>0</td>\n",
              "      <td>...</td>\n",
              "      <td>0</td>\n",
              "      <td>0</td>\n",
              "      <td>0</td>\n",
              "      <td>0</td>\n",
              "      <td>0</td>\n",
              "      <td>0</td>\n",
              "      <td>0</td>\n",
              "      <td>0</td>\n",
              "      <td>0</td>\n",
              "      <td>0</td>\n",
              "      <td>0</td>\n",
              "      <td>0</td>\n",
              "      <td>0</td>\n",
              "      <td>0</td>\n",
              "      <td>0</td>\n",
              "      <td>0</td>\n",
              "      <td>0</td>\n",
              "      <td>0</td>\n",
              "      <td>0</td>\n",
              "      <td>0</td>\n",
              "      <td>0</td>\n",
              "      <td>0</td>\n",
              "      <td>0</td>\n",
              "      <td>0</td>\n",
              "      <td>0</td>\n",
              "      <td>0</td>\n",
              "      <td>0</td>\n",
              "      <td>0</td>\n",
              "      <td>0</td>\n",
              "      <td>0</td>\n",
              "      <td>0</td>\n",
              "      <td>0</td>\n",
              "      <td>0</td>\n",
              "      <td>0</td>\n",
              "      <td>0</td>\n",
              "      <td>0</td>\n",
              "      <td>0</td>\n",
              "      <td>0</td>\n",
              "      <td>0</td>\n",
              "      <td>0</td>\n",
              "    </tr>\n",
              "    <tr>\n",
              "      <th>3</th>\n",
              "      <td>0</td>\n",
              "      <td>0</td>\n",
              "      <td>0</td>\n",
              "      <td>0</td>\n",
              "      <td>0</td>\n",
              "      <td>0</td>\n",
              "      <td>0</td>\n",
              "      <td>0</td>\n",
              "      <td>0</td>\n",
              "      <td>0</td>\n",
              "      <td>0</td>\n",
              "      <td>0</td>\n",
              "      <td>0</td>\n",
              "      <td>0</td>\n",
              "      <td>0</td>\n",
              "      <td>0</td>\n",
              "      <td>0</td>\n",
              "      <td>0</td>\n",
              "      <td>0</td>\n",
              "      <td>0</td>\n",
              "      <td>0</td>\n",
              "      <td>0</td>\n",
              "      <td>0</td>\n",
              "      <td>0</td>\n",
              "      <td>0</td>\n",
              "      <td>0</td>\n",
              "      <td>0</td>\n",
              "      <td>0</td>\n",
              "      <td>0</td>\n",
              "      <td>0</td>\n",
              "      <td>0</td>\n",
              "      <td>0</td>\n",
              "      <td>0</td>\n",
              "      <td>0</td>\n",
              "      <td>0</td>\n",
              "      <td>0</td>\n",
              "      <td>0</td>\n",
              "      <td>0</td>\n",
              "      <td>0</td>\n",
              "      <td>0</td>\n",
              "      <td>...</td>\n",
              "      <td>0</td>\n",
              "      <td>0</td>\n",
              "      <td>0</td>\n",
              "      <td>0</td>\n",
              "      <td>0</td>\n",
              "      <td>0</td>\n",
              "      <td>0</td>\n",
              "      <td>0</td>\n",
              "      <td>0</td>\n",
              "      <td>0</td>\n",
              "      <td>0</td>\n",
              "      <td>0</td>\n",
              "      <td>0</td>\n",
              "      <td>0</td>\n",
              "      <td>0</td>\n",
              "      <td>0</td>\n",
              "      <td>0</td>\n",
              "      <td>0</td>\n",
              "      <td>0</td>\n",
              "      <td>0</td>\n",
              "      <td>0</td>\n",
              "      <td>0</td>\n",
              "      <td>0</td>\n",
              "      <td>0</td>\n",
              "      <td>0</td>\n",
              "      <td>0</td>\n",
              "      <td>0</td>\n",
              "      <td>0</td>\n",
              "      <td>0</td>\n",
              "      <td>0</td>\n",
              "      <td>0</td>\n",
              "      <td>0</td>\n",
              "      <td>0</td>\n",
              "      <td>0</td>\n",
              "      <td>0</td>\n",
              "      <td>0</td>\n",
              "      <td>0</td>\n",
              "      <td>0</td>\n",
              "      <td>0</td>\n",
              "      <td>0</td>\n",
              "    </tr>\n",
              "  </tbody>\n",
              "</table>\n",
              "<p>4 rows × 4047060 columns</p>\n",
              "</div>"
            ],
            "text/plain": [
              "   aa  ...  zzzzzzzzzzzzzzzzzzzzzzzzzzzzzzzzzzzzzzzzzzzzzzzzzzzzzzzzzzzzzzzzz\n",
              "0   0  ...                                                  0                \n",
              "1   0  ...                                                  0                \n",
              "2   0  ...                                                  0                \n",
              "3   0  ...                                                  0                \n",
              "\n",
              "[4 rows x 4047060 columns]"
            ]
          },
          "metadata": {
            "tags": []
          },
          "execution_count": 57
        }
      ]
    },
    {
      "cell_type": "code",
      "metadata": {
        "id": "SYrmhjHg7nV7",
        "outputId": "3be6162e-588a-4d5e-e0ba-e46054f9d5d2",
        "colab": {
          "base_uri": "https://localhost:8080/",
          "height": 238
        }
      },
      "source": [
        "#test DTM\n",
        "pd.DataFrame(X_test[1:5].toarray(), columns = vectorizer.get_feature_names())"
      ],
      "execution_count": 58,
      "outputs": [
        {
          "output_type": "execute_result",
          "data": {
            "text/html": [
              "<div>\n",
              "<style scoped>\n",
              "    .dataframe tbody tr th:only-of-type {\n",
              "        vertical-align: middle;\n",
              "    }\n",
              "\n",
              "    .dataframe tbody tr th {\n",
              "        vertical-align: top;\n",
              "    }\n",
              "\n",
              "    .dataframe thead th {\n",
              "        text-align: right;\n",
              "    }\n",
              "</style>\n",
              "<table border=\"1\" class=\"dataframe\">\n",
              "  <thead>\n",
              "    <tr style=\"text-align: right;\">\n",
              "      <th></th>\n",
              "      <th>aa</th>\n",
              "      <th>aa aa</th>\n",
              "      <th>aa aaand</th>\n",
              "      <th>aa advert</th>\n",
              "      <th>aa alexisonfire</th>\n",
              "      <th>aa apparently</th>\n",
              "      <th>aa assertive</th>\n",
              "      <th>aa back</th>\n",
              "      <th>aa bateries</th>\n",
              "      <th>aa batteries</th>\n",
              "      <th>aa bra</th>\n",
              "      <th>aa browsing</th>\n",
              "      <th>aa bukannya</th>\n",
              "      <th>aa business</th>\n",
              "      <th>aa car</th>\n",
              "      <th>aa certain</th>\n",
              "      <th>aa cruise</th>\n",
              "      <th>aa cutest</th>\n",
              "      <th>aa diamond</th>\n",
              "      <th>aa draft</th>\n",
              "      <th>aa end</th>\n",
              "      <th>aa favoring</th>\n",
              "      <th>aa field</th>\n",
              "      <th>aa gai</th>\n",
              "      <th>aa gaya</th>\n",
              "      <th>aa gaye</th>\n",
              "      <th>aa giving</th>\n",
              "      <th>aa good</th>\n",
              "      <th>aa got</th>\n",
              "      <th>aa grandma</th>\n",
              "      <th>aa group</th>\n",
              "      <th>aa guns</th>\n",
              "      <th>aa ha</th>\n",
              "      <th>aa hahahai</th>\n",
              "      <th>aa hey</th>\n",
              "      <th>aa ive</th>\n",
              "      <th>aa kk</th>\n",
              "      <th>aa last</th>\n",
              "      <th>aa lava</th>\n",
              "      <th>aa lazy</th>\n",
              "      <th>...</th>\n",
              "      <th>zzzzzzz time</th>\n",
              "      <th>zzzzzzzz</th>\n",
              "      <th>zzzzzzzzdamni</th>\n",
              "      <th>zzzzzzzzdamni hate</th>\n",
              "      <th>zzzzzzzzz</th>\n",
              "      <th>zzzzzzzzz gd</th>\n",
              "      <th>zzzzzzzzz good</th>\n",
              "      <th>zzzzzzzzzz</th>\n",
              "      <th>zzzzzzzzzz yeah</th>\n",
              "      <th>zzzzzzzzzzz</th>\n",
              "      <th>zzzzzzzzzzz goto</th>\n",
              "      <th>zzzzzzzzzzz listen</th>\n",
              "      <th>zzzzzzzzzzzespecially</th>\n",
              "      <th>zzzzzzzzzzzespecially wave</th>\n",
              "      <th>zzzzzzzzzzzz</th>\n",
              "      <th>zzzzzzzzzzzz boring</th>\n",
              "      <th>zzzzzzzzzzzz im</th>\n",
              "      <th>zzzzzzzzzzzzz</th>\n",
              "      <th>zzzzzzzzzzzzz radom</th>\n",
              "      <th>zzzzzzzzzzzzz still</th>\n",
              "      <th>zzzzzzzzzzzzzzz</th>\n",
              "      <th>zzzzzzzzzzzzzzzz</th>\n",
              "      <th>zzzzzzzzzzzzzzzz hehehhehez</th>\n",
              "      <th>zzzzzzzzzzzzzzzzsuper</th>\n",
              "      <th>zzzzzzzzzzzzzzzzsuper sleepy</th>\n",
              "      <th>zzzzzzzzzzzzzzzzzzz</th>\n",
              "      <th>zzzzzzzzzzzzzzzzzzz sleeping</th>\n",
              "      <th>zzzzzzzzzzzzzzzzzzzzz</th>\n",
              "      <th>zzzzzzzzzzzzzzzzzzzzz squid</th>\n",
              "      <th>zzzzzzzzzzzzzzzzzzzzzz</th>\n",
              "      <th>zzzzzzzzzzzzzzzzzzzzzz gd</th>\n",
              "      <th>zzzzzzzzzzzzzzzzzzzzzzzzzzzzzzzz</th>\n",
              "      <th>zzzzzzzzzzzzzzzzzzzzzzzzzzzzzzzz ciao</th>\n",
              "      <th>zzzzzzzzzzzzzzzzzzzzzzzzzzzzzzzz second</th>\n",
              "      <th>zzzzzzzzzzzzzzzzzzzzzzzzzzzzzzzzzzzzz</th>\n",
              "      <th>zzzzzzzzzzzzzzzzzzzzzzzzzzzzzzzzzzzzzzzz</th>\n",
              "      <th>zzzzzzzzzzzzzzzzzzzzzzzzzzzzzzzzzzzzzzzzz</th>\n",
              "      <th>zzzzzzzzzzzzzzzzzzzzzzzzzzzzzzzzzzzzzzzzzzzzzzzzzzzzzzzzz</th>\n",
              "      <th>zzzzzzzzzzzzzzzzzzzzzzzzzzzzzzzzzzzzzzzzzzzzzzzzzzzzzzzzz woke</th>\n",
              "      <th>zzzzzzzzzzzzzzzzzzzzzzzzzzzzzzzzzzzzzzzzzzzzzzzzzzzzzzzzzzzzzzzzz</th>\n",
              "    </tr>\n",
              "  </thead>\n",
              "  <tbody>\n",
              "    <tr>\n",
              "      <th>0</th>\n",
              "      <td>0</td>\n",
              "      <td>0</td>\n",
              "      <td>0</td>\n",
              "      <td>0</td>\n",
              "      <td>0</td>\n",
              "      <td>0</td>\n",
              "      <td>0</td>\n",
              "      <td>0</td>\n",
              "      <td>0</td>\n",
              "      <td>0</td>\n",
              "      <td>0</td>\n",
              "      <td>0</td>\n",
              "      <td>0</td>\n",
              "      <td>0</td>\n",
              "      <td>0</td>\n",
              "      <td>0</td>\n",
              "      <td>0</td>\n",
              "      <td>0</td>\n",
              "      <td>0</td>\n",
              "      <td>0</td>\n",
              "      <td>0</td>\n",
              "      <td>0</td>\n",
              "      <td>0</td>\n",
              "      <td>0</td>\n",
              "      <td>0</td>\n",
              "      <td>0</td>\n",
              "      <td>0</td>\n",
              "      <td>0</td>\n",
              "      <td>0</td>\n",
              "      <td>0</td>\n",
              "      <td>0</td>\n",
              "      <td>0</td>\n",
              "      <td>0</td>\n",
              "      <td>0</td>\n",
              "      <td>0</td>\n",
              "      <td>0</td>\n",
              "      <td>0</td>\n",
              "      <td>0</td>\n",
              "      <td>0</td>\n",
              "      <td>0</td>\n",
              "      <td>...</td>\n",
              "      <td>0</td>\n",
              "      <td>0</td>\n",
              "      <td>0</td>\n",
              "      <td>0</td>\n",
              "      <td>0</td>\n",
              "      <td>0</td>\n",
              "      <td>0</td>\n",
              "      <td>0</td>\n",
              "      <td>0</td>\n",
              "      <td>0</td>\n",
              "      <td>0</td>\n",
              "      <td>0</td>\n",
              "      <td>0</td>\n",
              "      <td>0</td>\n",
              "      <td>0</td>\n",
              "      <td>0</td>\n",
              "      <td>0</td>\n",
              "      <td>0</td>\n",
              "      <td>0</td>\n",
              "      <td>0</td>\n",
              "      <td>0</td>\n",
              "      <td>0</td>\n",
              "      <td>0</td>\n",
              "      <td>0</td>\n",
              "      <td>0</td>\n",
              "      <td>0</td>\n",
              "      <td>0</td>\n",
              "      <td>0</td>\n",
              "      <td>0</td>\n",
              "      <td>0</td>\n",
              "      <td>0</td>\n",
              "      <td>0</td>\n",
              "      <td>0</td>\n",
              "      <td>0</td>\n",
              "      <td>0</td>\n",
              "      <td>0</td>\n",
              "      <td>0</td>\n",
              "      <td>0</td>\n",
              "      <td>0</td>\n",
              "      <td>0</td>\n",
              "    </tr>\n",
              "    <tr>\n",
              "      <th>1</th>\n",
              "      <td>0</td>\n",
              "      <td>0</td>\n",
              "      <td>0</td>\n",
              "      <td>0</td>\n",
              "      <td>0</td>\n",
              "      <td>0</td>\n",
              "      <td>0</td>\n",
              "      <td>0</td>\n",
              "      <td>0</td>\n",
              "      <td>0</td>\n",
              "      <td>0</td>\n",
              "      <td>0</td>\n",
              "      <td>0</td>\n",
              "      <td>0</td>\n",
              "      <td>0</td>\n",
              "      <td>0</td>\n",
              "      <td>0</td>\n",
              "      <td>0</td>\n",
              "      <td>0</td>\n",
              "      <td>0</td>\n",
              "      <td>0</td>\n",
              "      <td>0</td>\n",
              "      <td>0</td>\n",
              "      <td>0</td>\n",
              "      <td>0</td>\n",
              "      <td>0</td>\n",
              "      <td>0</td>\n",
              "      <td>0</td>\n",
              "      <td>0</td>\n",
              "      <td>0</td>\n",
              "      <td>0</td>\n",
              "      <td>0</td>\n",
              "      <td>0</td>\n",
              "      <td>0</td>\n",
              "      <td>0</td>\n",
              "      <td>0</td>\n",
              "      <td>0</td>\n",
              "      <td>0</td>\n",
              "      <td>0</td>\n",
              "      <td>0</td>\n",
              "      <td>...</td>\n",
              "      <td>0</td>\n",
              "      <td>0</td>\n",
              "      <td>0</td>\n",
              "      <td>0</td>\n",
              "      <td>0</td>\n",
              "      <td>0</td>\n",
              "      <td>0</td>\n",
              "      <td>0</td>\n",
              "      <td>0</td>\n",
              "      <td>0</td>\n",
              "      <td>0</td>\n",
              "      <td>0</td>\n",
              "      <td>0</td>\n",
              "      <td>0</td>\n",
              "      <td>0</td>\n",
              "      <td>0</td>\n",
              "      <td>0</td>\n",
              "      <td>0</td>\n",
              "      <td>0</td>\n",
              "      <td>0</td>\n",
              "      <td>0</td>\n",
              "      <td>0</td>\n",
              "      <td>0</td>\n",
              "      <td>0</td>\n",
              "      <td>0</td>\n",
              "      <td>0</td>\n",
              "      <td>0</td>\n",
              "      <td>0</td>\n",
              "      <td>0</td>\n",
              "      <td>0</td>\n",
              "      <td>0</td>\n",
              "      <td>0</td>\n",
              "      <td>0</td>\n",
              "      <td>0</td>\n",
              "      <td>0</td>\n",
              "      <td>0</td>\n",
              "      <td>0</td>\n",
              "      <td>0</td>\n",
              "      <td>0</td>\n",
              "      <td>0</td>\n",
              "    </tr>\n",
              "    <tr>\n",
              "      <th>2</th>\n",
              "      <td>0</td>\n",
              "      <td>0</td>\n",
              "      <td>0</td>\n",
              "      <td>0</td>\n",
              "      <td>0</td>\n",
              "      <td>0</td>\n",
              "      <td>0</td>\n",
              "      <td>0</td>\n",
              "      <td>0</td>\n",
              "      <td>0</td>\n",
              "      <td>0</td>\n",
              "      <td>0</td>\n",
              "      <td>0</td>\n",
              "      <td>0</td>\n",
              "      <td>0</td>\n",
              "      <td>0</td>\n",
              "      <td>0</td>\n",
              "      <td>0</td>\n",
              "      <td>0</td>\n",
              "      <td>0</td>\n",
              "      <td>0</td>\n",
              "      <td>0</td>\n",
              "      <td>0</td>\n",
              "      <td>0</td>\n",
              "      <td>0</td>\n",
              "      <td>0</td>\n",
              "      <td>0</td>\n",
              "      <td>0</td>\n",
              "      <td>0</td>\n",
              "      <td>0</td>\n",
              "      <td>0</td>\n",
              "      <td>0</td>\n",
              "      <td>0</td>\n",
              "      <td>0</td>\n",
              "      <td>0</td>\n",
              "      <td>0</td>\n",
              "      <td>0</td>\n",
              "      <td>0</td>\n",
              "      <td>0</td>\n",
              "      <td>0</td>\n",
              "      <td>...</td>\n",
              "      <td>0</td>\n",
              "      <td>0</td>\n",
              "      <td>0</td>\n",
              "      <td>0</td>\n",
              "      <td>0</td>\n",
              "      <td>0</td>\n",
              "      <td>0</td>\n",
              "      <td>0</td>\n",
              "      <td>0</td>\n",
              "      <td>0</td>\n",
              "      <td>0</td>\n",
              "      <td>0</td>\n",
              "      <td>0</td>\n",
              "      <td>0</td>\n",
              "      <td>0</td>\n",
              "      <td>0</td>\n",
              "      <td>0</td>\n",
              "      <td>0</td>\n",
              "      <td>0</td>\n",
              "      <td>0</td>\n",
              "      <td>0</td>\n",
              "      <td>0</td>\n",
              "      <td>0</td>\n",
              "      <td>0</td>\n",
              "      <td>0</td>\n",
              "      <td>0</td>\n",
              "      <td>0</td>\n",
              "      <td>0</td>\n",
              "      <td>0</td>\n",
              "      <td>0</td>\n",
              "      <td>0</td>\n",
              "      <td>0</td>\n",
              "      <td>0</td>\n",
              "      <td>0</td>\n",
              "      <td>0</td>\n",
              "      <td>0</td>\n",
              "      <td>0</td>\n",
              "      <td>0</td>\n",
              "      <td>0</td>\n",
              "      <td>0</td>\n",
              "    </tr>\n",
              "    <tr>\n",
              "      <th>3</th>\n",
              "      <td>0</td>\n",
              "      <td>0</td>\n",
              "      <td>0</td>\n",
              "      <td>0</td>\n",
              "      <td>0</td>\n",
              "      <td>0</td>\n",
              "      <td>0</td>\n",
              "      <td>0</td>\n",
              "      <td>0</td>\n",
              "      <td>0</td>\n",
              "      <td>0</td>\n",
              "      <td>0</td>\n",
              "      <td>0</td>\n",
              "      <td>0</td>\n",
              "      <td>0</td>\n",
              "      <td>0</td>\n",
              "      <td>0</td>\n",
              "      <td>0</td>\n",
              "      <td>0</td>\n",
              "      <td>0</td>\n",
              "      <td>0</td>\n",
              "      <td>0</td>\n",
              "      <td>0</td>\n",
              "      <td>0</td>\n",
              "      <td>0</td>\n",
              "      <td>0</td>\n",
              "      <td>0</td>\n",
              "      <td>0</td>\n",
              "      <td>0</td>\n",
              "      <td>0</td>\n",
              "      <td>0</td>\n",
              "      <td>0</td>\n",
              "      <td>0</td>\n",
              "      <td>0</td>\n",
              "      <td>0</td>\n",
              "      <td>0</td>\n",
              "      <td>0</td>\n",
              "      <td>0</td>\n",
              "      <td>0</td>\n",
              "      <td>0</td>\n",
              "      <td>...</td>\n",
              "      <td>0</td>\n",
              "      <td>0</td>\n",
              "      <td>0</td>\n",
              "      <td>0</td>\n",
              "      <td>0</td>\n",
              "      <td>0</td>\n",
              "      <td>0</td>\n",
              "      <td>0</td>\n",
              "      <td>0</td>\n",
              "      <td>0</td>\n",
              "      <td>0</td>\n",
              "      <td>0</td>\n",
              "      <td>0</td>\n",
              "      <td>0</td>\n",
              "      <td>0</td>\n",
              "      <td>0</td>\n",
              "      <td>0</td>\n",
              "      <td>0</td>\n",
              "      <td>0</td>\n",
              "      <td>0</td>\n",
              "      <td>0</td>\n",
              "      <td>0</td>\n",
              "      <td>0</td>\n",
              "      <td>0</td>\n",
              "      <td>0</td>\n",
              "      <td>0</td>\n",
              "      <td>0</td>\n",
              "      <td>0</td>\n",
              "      <td>0</td>\n",
              "      <td>0</td>\n",
              "      <td>0</td>\n",
              "      <td>0</td>\n",
              "      <td>0</td>\n",
              "      <td>0</td>\n",
              "      <td>0</td>\n",
              "      <td>0</td>\n",
              "      <td>0</td>\n",
              "      <td>0</td>\n",
              "      <td>0</td>\n",
              "      <td>0</td>\n",
              "    </tr>\n",
              "  </tbody>\n",
              "</table>\n",
              "<p>4 rows × 4047060 columns</p>\n",
              "</div>"
            ],
            "text/plain": [
              "   aa  ...  zzzzzzzzzzzzzzzzzzzzzzzzzzzzzzzzzzzzzzzzzzzzzzzzzzzzzzzzzzzzzzzzz\n",
              "0   0  ...                                                  0                \n",
              "1   0  ...                                                  0                \n",
              "2   0  ...                                                  0                \n",
              "3   0  ...                                                  0                \n",
              "\n",
              "[4 rows x 4047060 columns]"
            ]
          },
          "metadata": {
            "tags": []
          },
          "execution_count": 58
        }
      ]
    },
    {
      "cell_type": "markdown",
      "metadata": {
        "id": "iuYN984zCecb"
      },
      "source": [
        "Create a dictionary to get the count of every label i.e. the key will be label name and value will\n",
        "be the total count of the label. Check below image for reference (5 points)"
      ]
    },
    {
      "cell_type": "code",
      "metadata": {
        "id": "voeEqMbLDmaK"
      },
      "source": [
        "newfinaldfdict = newfinaldf[['gender', 'age', 'topic', 'sign']]"
      ],
      "execution_count": 59,
      "outputs": []
    },
    {
      "cell_type": "code",
      "metadata": {
        "id": "1hQa3vbMVgMO",
        "outputId": "841d721f-8fa9-429a-9dc9-71770f5fbd7b",
        "colab": {
          "base_uri": "https://localhost:8080/",
          "height": 202
        }
      },
      "source": [
        "newfinaldfdict.head(5)"
      ],
      "execution_count": 60,
      "outputs": [
        {
          "output_type": "execute_result",
          "data": {
            "text/html": [
              "<div>\n",
              "<style scoped>\n",
              "    .dataframe tbody tr th:only-of-type {\n",
              "        vertical-align: middle;\n",
              "    }\n",
              "\n",
              "    .dataframe tbody tr th {\n",
              "        vertical-align: top;\n",
              "    }\n",
              "\n",
              "    .dataframe thead th {\n",
              "        text-align: right;\n",
              "    }\n",
              "</style>\n",
              "<table border=\"1\" class=\"dataframe\">\n",
              "  <thead>\n",
              "    <tr style=\"text-align: right;\">\n",
              "      <th></th>\n",
              "      <th>gender</th>\n",
              "      <th>age</th>\n",
              "      <th>topic</th>\n",
              "      <th>sign</th>\n",
              "    </tr>\n",
              "  </thead>\n",
              "  <tbody>\n",
              "    <tr>\n",
              "      <th>1210</th>\n",
              "      <td>male</td>\n",
              "      <td>17</td>\n",
              "      <td>student</td>\n",
              "      <td>virgo</td>\n",
              "    </tr>\n",
              "    <tr>\n",
              "      <th>1211</th>\n",
              "      <td>male</td>\n",
              "      <td>17</td>\n",
              "      <td>student</td>\n",
              "      <td>virgo</td>\n",
              "    </tr>\n",
              "    <tr>\n",
              "      <th>1212</th>\n",
              "      <td>male</td>\n",
              "      <td>17</td>\n",
              "      <td>student</td>\n",
              "      <td>virgo</td>\n",
              "    </tr>\n",
              "    <tr>\n",
              "      <th>1213</th>\n",
              "      <td>male</td>\n",
              "      <td>17</td>\n",
              "      <td>student</td>\n",
              "      <td>virgo</td>\n",
              "    </tr>\n",
              "    <tr>\n",
              "      <th>1214</th>\n",
              "      <td>male</td>\n",
              "      <td>17</td>\n",
              "      <td>student</td>\n",
              "      <td>virgo</td>\n",
              "    </tr>\n",
              "  </tbody>\n",
              "</table>\n",
              "</div>"
            ],
            "text/plain": [
              "     gender  age    topic   sign\n",
              "1210   male   17  student  virgo\n",
              "1211   male   17  student  virgo\n",
              "1212   male   17  student  virgo\n",
              "1213   male   17  student  virgo\n",
              "1214   male   17  student  virgo"
            ]
          },
          "metadata": {
            "tags": []
          },
          "execution_count": 60
        }
      ]
    },
    {
      "cell_type": "code",
      "metadata": {
        "id": "ljoHaf0UVjgd",
        "outputId": "9d71064f-6e6c-4303-e51e-35a8386f95cb",
        "colab": {
          "base_uri": "https://localhost:8080/",
          "height": 104
        }
      },
      "source": [
        "newfinaldfdict.isna().sum()"
      ],
      "execution_count": 53,
      "outputs": [
        {
          "output_type": "execute_result",
          "data": {
            "text/plain": [
              "gender    0\n",
              "age       0\n",
              "topic     0\n",
              "sign      0\n",
              "dtype: int64"
            ]
          },
          "metadata": {
            "tags": []
          },
          "execution_count": 53
        }
      ]
    },
    {
      "cell_type": "code",
      "metadata": {
        "id": "Uv692sDDDxYj"
      },
      "source": [
        "newfinaldfdict['age'] = newfinaldfdict['age'].astype('str')"
      ],
      "execution_count": 54,
      "outputs": []
    },
    {
      "cell_type": "code",
      "metadata": {
        "id": "Vuu18PyfCgEY"
      },
      "source": [
        "#creating keys as label and count of lables as values in dictionary\n",
        "keys=[] \n",
        "values=[] \n",
        "\n",
        "for i in range(newfinaldfdict.shape[1]): # iterate through all the colummns        \n",
        "    for j in range(newfinaldfdict.iloc[:,i].value_counts().shape[0]): # iterate through all the rows of value_counts of that column\n",
        "        keys.append(newfinaldfdict.iloc[:,i].value_counts().index[j])         \n",
        "        values.append(newfinaldfdict.iloc[:,i].value_counts().iloc[j])"
      ],
      "execution_count": 215,
      "outputs": []
    },
    {
      "cell_type": "code",
      "metadata": {
        "id": "vMfAZGbkENSb",
        "outputId": "e34deca9-b25e-4d29-e435-a4926e9c676d",
        "colab": {
          "base_uri": "https://localhost:8080/",
          "height": 35
        }
      },
      "source": [
        "#viewing keys\n",
        "keys[1:10]"
      ],
      "execution_count": 218,
      "outputs": [
        {
          "output_type": "execute_result",
          "data": {
            "text/plain": [
              "['female', '23', '17', '24', '16', '25', '27', '26', '15']"
            ]
          },
          "metadata": {
            "tags": []
          },
          "execution_count": 218
        }
      ]
    },
    {
      "cell_type": "code",
      "metadata": {
        "id": "AxKs2vZ9EAob",
        "outputId": "16166aeb-d1f8-4c86-a256-54adb8113803",
        "colab": {
          "base_uri": "https://localhost:8080/",
          "height": 35
        }
      },
      "source": [
        "#viewing values\n",
        "values[1:10]"
      ],
      "execution_count": 219,
      "outputs": [
        {
          "output_type": "execute_result",
          "data": {
            "text/plain": [
              "[46921, 12931, 10320, 9991, 9304, 8715, 7993, 6841, 6575]"
            ]
          },
          "metadata": {
            "tags": []
          },
          "execution_count": 219
        }
      ]
    },
    {
      "cell_type": "code",
      "metadata": {
        "id": "gz7jjFCJVBT8"
      },
      "source": [
        "# dict.clear\n"
      ],
      "execution_count": 220,
      "outputs": []
    },
    {
      "cell_type": "code",
      "metadata": {
        "id": "Jtg1bKoeXY6Q",
        "outputId": "56181522-542f-402c-a9b1-40059a2b034d",
        "colab": {
          "base_uri": "https://localhost:8080/",
          "height": 1000
        }
      },
      "source": [
        "#printing the sample dictionary\n",
        "dict(zip(keys,values))"
      ],
      "execution_count": 221,
      "outputs": [
        {
          "output_type": "execute_result",
          "data": {
            "text/plain": [
              "{'13': 1683,\n",
              " '14': 3485,\n",
              " '15': 6575,\n",
              " '16': 9304,\n",
              " '17': 10320,\n",
              " '23': 12931,\n",
              " '24': 9991,\n",
              " '25': 8715,\n",
              " '26': 6841,\n",
              " '27': 7993,\n",
              " '33': 2062,\n",
              " '34': 2553,\n",
              " '35': 2124,\n",
              " '36': 2147,\n",
              " '37': 1141,\n",
              " '38': 655,\n",
              " '39': 926,\n",
              " '40': 773,\n",
              " '41': 484,\n",
              " '42': 638,\n",
              " '43': 473,\n",
              " '44': 194,\n",
              " '45': 727,\n",
              " '46': 543,\n",
              " '47': 355,\n",
              " '48': 284,\n",
              " 'accounting': 688,\n",
              " 'advertising': 754,\n",
              " 'agriculture': 137,\n",
              " 'aquarius': 7873,\n",
              " 'architecture': 159,\n",
              " 'aries': 7834,\n",
              " 'arts': 4550,\n",
              " 'automotive': 56,\n",
              " 'banking': 592,\n",
              " 'biotech': 449,\n",
              " 'businessservices': 618,\n",
              " 'cancer': 7846,\n",
              " 'capricorn': 7843,\n",
              " 'chemicals': 440,\n",
              " 'communications-media': 2433,\n",
              " 'construction': 171,\n",
              " 'consulting': 735,\n",
              " 'education': 4741,\n",
              " 'engineering': 1324,\n",
              " 'environment': 44,\n",
              " 'fashion': 613,\n",
              " 'female': 46921,\n",
              " 'gemini': 7851,\n",
              " 'government': 1025,\n",
              " 'humanresources': 230,\n",
              " 'indunk': 34505,\n",
              " 'internet': 2794,\n",
              " 'investmentbanking': 162,\n",
              " 'law': 1261,\n",
              " 'lawenforcement-security': 212,\n",
              " 'leo': 7803,\n",
              " 'libra': 7829,\n",
              " 'male': 46996,\n",
              " 'manufacturing': 454,\n",
              " 'maritime': 50,\n",
              " 'marketing': 769,\n",
              " 'military': 450,\n",
              " 'museums-libraries': 447,\n",
              " 'non-profit': 1547,\n",
              " 'pisces': 7776,\n",
              " 'publishing': 703,\n",
              " 'realestate': 600,\n",
              " 'religion': 834,\n",
              " 'sagittarius': 7756,\n",
              " 'science': 858,\n",
              " 'scorpio': 7812,\n",
              " 'sports-recreation': 339,\n",
              " 'student': 20327,\n",
              " 'taurus': 7816,\n",
              " 'technology': 6549,\n",
              " 'telecommunications': 426,\n",
              " 'tourism': 437,\n",
              " 'transportation': 434,\n",
              " 'virgo': 7878}"
            ]
          },
          "metadata": {
            "tags": []
          },
          "execution_count": 221
        }
      ]
    },
    {
      "cell_type": "code",
      "metadata": {
        "id": "vCFrX4dLUhUZ",
        "outputId": "d7f1c98f-a155-4c63-e778-144295820dc2",
        "colab": {
          "base_uri": "https://localhost:8080/",
          "height": 225
        }
      },
      "source": [
        "#printing the y_train\n",
        "y_train"
      ],
      "execution_count": 61,
      "outputs": [
        {
          "output_type": "execute_result",
          "data": {
            "text/plain": [
              "6159         male,16,student,taurus\n",
              "79163       female,14,indunk,gemini\n",
              "93859       female,16,student,aries\n",
              "80808    female,23,education,gemini\n",
              "87972       female,34,indunk,cancer\n",
              "                    ...            \n",
              "6265         male,16,student,taurus\n",
              "54886      female,17,indunk,scorpio\n",
              "76820          female,25,indunk,leo\n",
              "860        male,33,non-profit,virgo\n",
              "15795      male,27,banking,aquarius\n",
              "Name: labels, Length: 70437, dtype: object"
            ]
          },
          "metadata": {
            "tags": []
          },
          "execution_count": 61
        }
      ]
    },
    {
      "cell_type": "markdown",
      "metadata": {
        "id": "s7HEWKJwcIMW"
      },
      "source": [
        "Converting y_train and y_test to dictionary as multi label binarizer accepts dictionary ,if dictionary is not passed, binarizer performs transformation for each literal which is inappropriate"
      ]
    },
    {
      "cell_type": "code",
      "metadata": {
        "id": "7tewWAtLGNV2"
      },
      "source": [
        "y_train1 = [set(i.split(',')) for i in y_train]\n",
        "y_test1 = [set(i.split(',')) for i in y_test]"
      ],
      "execution_count": 62,
      "outputs": []
    },
    {
      "cell_type": "code",
      "metadata": {
        "id": "Ks1hy3WlMOLs",
        "outputId": "8437b7f8-358e-4ce3-aa69-e36845867460",
        "colab": {
          "base_uri": "https://localhost:8080/",
          "height": 173
        }
      },
      "source": [
        "#training labels in dictionary form\n",
        "y_train1[1:10]"
      ],
      "execution_count": 63,
      "outputs": [
        {
          "output_type": "execute_result",
          "data": {
            "text/plain": [
              "[{'14', 'female', 'gemini', 'indunk'},\n",
              " {'16', 'aries', 'female', 'student'},\n",
              " {'23', 'education', 'female', 'gemini'},\n",
              " {'34', 'cancer', 'female', 'indunk'},\n",
              " {'16', 'aries', 'female', 'student'},\n",
              " {'17', 'arts', 'female', 'leo'},\n",
              " {'42', 'capricorn', 'indunk', 'male'},\n",
              " {'16', 'aries', 'male', 'student'},\n",
              " {'24', 'female', 'indunk', 'taurus'}]"
            ]
          },
          "metadata": {
            "tags": []
          },
          "execution_count": 63
        }
      ]
    },
    {
      "cell_type": "code",
      "metadata": {
        "id": "EyONgcYzMSDy",
        "outputId": "f1ddb99a-9727-41a0-e9a1-3425715da489",
        "colab": {
          "base_uri": "https://localhost:8080/",
          "height": 173
        }
      },
      "source": [
        "#testing labels in dictionary form\n",
        "y_test1[1:10]"
      ],
      "execution_count": 226,
      "outputs": [
        {
          "output_type": "execute_result",
          "data": {
            "text/plain": [
              "[{'27', 'aquarius', 'female', 'student'},\n",
              " {'14', 'female', 'indunk', 'leo'},\n",
              " {'16', 'chemicals', 'female', 'taurus'},\n",
              " {'13', 'aries', 'male', 'student'},\n",
              " {'27', 'male', 'pisces', 'technology'},\n",
              " {'34', 'aries', 'indunk', 'male'},\n",
              " {'24', 'libra', 'male', 'museums-libraries'},\n",
              " {'25', 'indunk', 'leo', 'male'},\n",
              " {'23', 'male', 'manufacturing', 'scorpio'}]"
            ]
          },
          "metadata": {
            "tags": []
          },
          "execution_count": 226
        }
      ]
    },
    {
      "cell_type": "markdown",
      "metadata": {
        "id": "5Q7R5sl0d2EP"
      },
      "source": [
        "7. Transform the labels - (7.5 points)\n",
        "As we have noticed before, in this task each example can have multiple tags. To deal with\n",
        "such kind of prediction, we need to transform labels in a binary form and the prediction will be\n",
        "a mask of 0s and 1s. For this purpose, it is convenient to use MultiLabelBinarizer from sklearn\n",
        "a. Convert your train and test labels using MultiLabelBinarizer"
      ]
    },
    {
      "cell_type": "code",
      "metadata": {
        "id": "BoyznMQD_4jH"
      },
      "source": [
        "#fit_transforming labels using multiplelabelbinarizer\n",
        "y_trainmlb = label.fit_transform(y_train1)"
      ],
      "execution_count": 71,
      "outputs": []
    },
    {
      "cell_type": "code",
      "metadata": {
        "id": "gs2OKXOZYokJ"
      },
      "source": [
        "y_testmlb = label.transform(y_test1)"
      ],
      "execution_count": 72,
      "outputs": []
    },
    {
      "cell_type": "code",
      "metadata": {
        "id": "SFia-GUaIxEv"
      },
      "source": [
        "# y_train = [[\"\".join(re.findall(\"\\w\",f)) for f in lst] for lst in [s.split(\",\") for s in y_train]]\n",
        "# y_train = MLB.fit_transform(y_train)\n",
        "# Y_test = [[\"\".join(re.findall(\"\\w\",f)) for f in lst] for lst in [s.split(\",\") for s in y_test]]\n",
        "# # y_test_trans = MLB.transform(y_test) "
      ],
      "execution_count": 188,
      "outputs": []
    },
    {
      "cell_type": "code",
      "metadata": {
        "id": "Rq6n8d4cF2vR",
        "outputId": "c451683a-08de-41e9-e246-a79cad68a8f1",
        "colab": {
          "base_uri": "https://localhost:8080/",
          "height": 156
        }
      },
      "source": [
        "#converted lables\n",
        "y_testmlb[1],  y_trainmlb[1]"
      ],
      "execution_count": 73,
      "outputs": [
        {
          "output_type": "execute_result",
          "data": {
            "text/plain": [
              "(array([0, 0, 0, 0, 0, 0, 0, 0, 0, 1, 0, 0, 0, 0, 0, 0, 0, 0, 0, 0, 0, 0,\n",
              "        0, 0, 0, 0, 0, 0, 0, 1, 0, 0, 0, 0, 0, 0, 0, 0, 0, 0, 0, 0, 0, 0,\n",
              "        0, 0, 0, 1, 0, 0, 0, 0, 0, 0, 0, 0, 0, 0, 0, 0, 0, 0, 0, 0, 0, 0,\n",
              "        0, 0, 0, 0, 0, 0, 0, 1, 0, 0, 0, 0, 0, 0]),\n",
              " array([0, 1, 0, 0, 0, 0, 0, 0, 0, 0, 0, 0, 0, 0, 0, 0, 0, 0, 0, 0, 0, 0,\n",
              "        0, 0, 0, 0, 0, 0, 0, 0, 0, 0, 0, 0, 0, 0, 0, 0, 0, 0, 0, 0, 0, 0,\n",
              "        0, 0, 0, 1, 1, 0, 0, 1, 0, 0, 0, 0, 0, 0, 0, 0, 0, 0, 0, 0, 0, 0,\n",
              "        0, 0, 0, 0, 0, 0, 0, 0, 0, 0, 0, 0, 0, 0]))"
            ]
          },
          "metadata": {
            "tags": []
          },
          "execution_count": 73
        }
      ]
    },
    {
      "cell_type": "code",
      "metadata": {
        "id": "IrKFnXxOIogd",
        "outputId": "3b9d14b4-9279-46dd-875d-47e7a9a415eb",
        "colab": {
          "base_uri": "https://localhost:8080/",
          "height": 277
        }
      },
      "source": [
        "#classes present \n",
        "label.classes_"
      ],
      "execution_count": 74,
      "outputs": [
        {
          "output_type": "execute_result",
          "data": {
            "text/plain": [
              "array(['13', '14', '15', '16', '17', '23', '24', '25', '26', '27', '33',\n",
              "       '34', '35', '36', '37', '38', '39', '40', '41', '42', '43', '44',\n",
              "       '45', '46', '47', '48', 'accounting', 'advertising', 'agriculture',\n",
              "       'aquarius', 'architecture', 'aries', 'arts', 'automotive',\n",
              "       'banking', 'biotech', 'businessservices', 'cancer', 'capricorn',\n",
              "       'chemicals', 'communications-media', 'construction', 'consulting',\n",
              "       'education', 'engineering', 'environment', 'fashion', 'female',\n",
              "       'gemini', 'government', 'humanresources', 'indunk', 'internet',\n",
              "       'investmentbanking', 'law', 'lawenforcement-security', 'leo',\n",
              "       'libra', 'male', 'manufacturing', 'maritime', 'marketing',\n",
              "       'military', 'museums-libraries', 'non-profit', 'pisces',\n",
              "       'publishing', 'realestate', 'religion', 'sagittarius', 'science',\n",
              "       'scorpio', 'sports-recreation', 'student', 'taurus', 'technology',\n",
              "       'telecommunications', 'tourism', 'transportation', 'virgo'],\n",
              "      dtype=object)"
            ]
          },
          "metadata": {
            "tags": []
          },
          "execution_count": 74
        }
      ]
    },
    {
      "cell_type": "code",
      "metadata": {
        "id": "V5X9X_zrItvI",
        "outputId": "89e34afb-7775-48e3-a70b-75ee87dd6640",
        "colab": {
          "base_uri": "https://localhost:8080/",
          "height": 35
        }
      },
      "source": [
        "#total number of classes\n",
        "len(label.classes_)"
      ],
      "execution_count": 75,
      "outputs": [
        {
          "output_type": "execute_result",
          "data": {
            "text/plain": [
              "80"
            ]
          },
          "metadata": {
            "tags": []
          },
          "execution_count": 75
        }
      ]
    },
    {
      "cell_type": "code",
      "metadata": {
        "id": "8sAB5RirF7Gj",
        "outputId": "fecd4bb9-91b2-4630-c55b-ae1c7abbe61f",
        "colab": {
          "base_uri": "https://localhost:8080/",
          "height": 35
        }
      },
      "source": [
        "#checking labels by inverse transforming\n",
        "label.inverse_transform(y_trainmlb)[1]"
      ],
      "execution_count": 76,
      "outputs": [
        {
          "output_type": "execute_result",
          "data": {
            "text/plain": [
              "('14', 'female', 'gemini', 'indunk')"
            ]
          },
          "metadata": {
            "tags": []
          },
          "execution_count": 76
        }
      ]
    },
    {
      "cell_type": "code",
      "metadata": {
        "id": "5PDyrMRqIQDc"
      },
      "source": [
        "#initializing logistic regression and linear svc \n",
        "lr = LogisticRegression(solver='lbfgs', multi_class='ovr')\n",
        "svc = LinearSVC()\n",
        "\n",
        "\n"
      ],
      "execution_count": 81,
      "outputs": []
    },
    {
      "cell_type": "code",
      "metadata": {
        "id": "2HnM0llbRUEn"
      },
      "source": [
        "\n",
        "# def j_score(y_true,y_pred):\n",
        "#   jaccard = np.minimum(y_true,y_pred).sum(axis=1)/np.maximum(y_true,y_pred).sum(axis=1)\n",
        "#   return jaccard.mean()*100\n"
      ],
      "execution_count": 207,
      "outputs": []
    },
    {
      "cell_type": "code",
      "metadata": {
        "id": "FTGrKGS4mw-Q"
      },
      "source": [
        "# j_score(y_testmlb,y_pred)"
      ],
      "execution_count": null,
      "outputs": []
    },
    {
      "cell_type": "markdown",
      "metadata": {
        "id": "sNu_8cO4d62h"
      },
      "source": [
        "8. Choose a classifier - (5 points)\n",
        "In this task, we suggest using the One-vs-Rest approach, which is implemented in\n",
        "OneVsRestClassifier class. In this approach k classifiers (= number of tags) are trained. As a\n",
        "basic classifier, use LogisticRegression. It is one of the simplest methods, but often it\n",
        "performs good enough in text classification tasks. It might take some time because the\n",
        "number of classifiers to train is large.\n",
        "a. Use a linear classifier of your choice, wrap it up in OneVsRestClassifier to train it on\n",
        "every label\n",
        "b. As One-vs-Rest approach might not have been discussed in the sessions, we are\n",
        "providing you the code for that\n"
      ]
    },
    {
      "cell_type": "code",
      "metadata": {
        "id": "iui5L6u4NaC8",
        "outputId": "a5264b2c-43a0-4c89-f7db-ae07175533ab",
        "colab": {
          "base_uri": "https://localhost:8080/",
          "height": 191
        }
      },
      "source": [
        "#using oneVsRestClassifier for multi label classification\n",
        "clf = OneVsRestClassifier(lr)\n",
        "clf.fit(X_train, y_trainmlb)\n",
        "  "
      ],
      "execution_count": 82,
      "outputs": [
        {
          "output_type": "execute_result",
          "data": {
            "text/plain": [
              "OneVsRestClassifier(estimator=LogisticRegression(C=1.0, class_weight=None,\n",
              "                                                 dual=False, fit_intercept=True,\n",
              "                                                 intercept_scaling=1,\n",
              "                                                 l1_ratio=None, max_iter=100,\n",
              "                                                 multi_class='ovr', n_jobs=None,\n",
              "                                                 penalty='l2',\n",
              "                                                 random_state=None,\n",
              "                                                 solver='lbfgs', tol=0.0001,\n",
              "                                                 verbose=0, warm_start=False),\n",
              "                    n_jobs=None)"
            ]
          },
          "metadata": {
            "tags": []
          },
          "execution_count": 82
        }
      ]
    },
    {
      "cell_type": "code",
      "metadata": {
        "id": "cmDn5uY7gLye"
      },
      "source": [
        "#predicnt the classes\n",
        "y_pred = clf.predict(X_test)\n",
        "y_proba_ovr = clf.predict_proba(X_test)\n",
        " "
      ],
      "execution_count": 83,
      "outputs": []
    },
    {
      "cell_type": "markdown",
      "metadata": {
        "id": "0kAiN5XreHKA"
      },
      "source": [
        "9. Fit the classifier, make predictions and get the accuracy (5 points)\n",
        "a. Print the following\n",
        "i. Accuracy score\n",
        "ii. F1 score\n",
        "iii. Average precision score\n",
        "iv. Average recall score\n"
      ]
    },
    {
      "cell_type": "code",
      "metadata": {
        "id": "9ZzJPT5vLr4w",
        "outputId": "5841723c-2a02-402a-b6a1-75faebf1d473",
        "colab": {
          "base_uri": "https://localhost:8080/",
          "height": 35
        }
      },
      "source": [
        "from sklearn.metrics import accuracy_score\n",
        "from sklearn.metrics import classification_report\n",
        "accuracy_score(y_pred, y_testmlb)\n",
        "#accuracy is "
      ],
      "execution_count": 84,
      "outputs": [
        {
          "output_type": "execute_result",
          "data": {
            "text/plain": [
              "0.044165247018739355"
            ]
          },
          "metadata": {
            "tags": []
          },
          "execution_count": 84
        }
      ]
    },
    {
      "cell_type": "code",
      "metadata": {
        "id": "WE8ha84XL89p",
        "outputId": "58e997c5-b49f-4296-8a3a-735884ee5e81",
        "colab": {
          "base_uri": "https://localhost:8080/",
          "height": 1000
        }
      },
      "source": [
        "print(classification_report(y_pred, y_testmlb))"
      ],
      "execution_count": 85,
      "outputs": [
        {
          "output_type": "stream",
          "text": [
            "              precision    recall  f1-score   support\n",
            "\n",
            "           0       0.11      0.51      0.18        94\n",
            "           1       0.12      0.48      0.19       207\n",
            "           2       0.16      0.58      0.26       476\n",
            "           3       0.25      0.70      0.37       809\n",
            "           4       0.19      0.61      0.29       770\n",
            "           5       0.17      0.57      0.26       931\n",
            "           6       0.10      0.50      0.17       503\n",
            "           7       0.13      0.66      0.22       455\n",
            "           8       0.09      0.61      0.15       249\n",
            "           9       0.14      0.56      0.22       481\n",
            "          10       0.08      0.62      0.14        64\n",
            "          11       0.12      0.62      0.20       121\n",
            "          12       0.10      0.67      0.18        85\n",
            "          13       0.06      0.52      0.10        58\n",
            "          14       0.08      0.67      0.14        33\n",
            "          15       0.04      0.50      0.07        12\n",
            "          16       0.06      0.42      0.11        33\n",
            "          17       0.20      0.66      0.30        61\n",
            "          18       0.03      0.36      0.06        11\n",
            "          19       0.18      0.69      0.28        36\n",
            "          20       0.03      0.27      0.06        15\n",
            "          21       0.00      0.00      0.00         3\n",
            "          22       0.02      0.24      0.04        17\n",
            "          23       0.12      0.85      0.22        20\n",
            "          24       0.03      0.33      0.05         9\n",
            "          25       0.01      0.33      0.02         3\n",
            "          26       0.31      0.84      0.45        63\n",
            "          27       0.10      0.55      0.16        31\n",
            "          28       0.00      0.00      0.00         1\n",
            "          29       0.13      0.67      0.22       376\n",
            "          30       0.05      0.40      0.09         5\n",
            "          31       0.04      0.32      0.07       224\n",
            "          32       0.05      0.41      0.09       135\n",
            "          33       0.00      0.00      0.00         2\n",
            "          34       0.08      0.67      0.14        18\n",
            "          35       0.02      0.22      0.03         9\n",
            "          36       0.14      0.96      0.25        24\n",
            "          37       0.12      0.61      0.19       378\n",
            "          38       0.11      0.62      0.19       365\n",
            "          39       0.03      0.23      0.05        13\n",
            "          40       0.03      0.32      0.06        57\n",
            "          41       0.05      0.29      0.08         7\n",
            "          42       0.10      0.67      0.17        27\n",
            "          43       0.09      0.57      0.16       188\n",
            "          44       0.05      0.46      0.09        35\n",
            "          45       0.00      0.00      0.00         0\n",
            "          46       0.08      0.48      0.14        25\n",
            "          47       0.68      0.71      0.70     11277\n",
            "          48       0.07      0.49      0.12       264\n",
            "          49       0.08      0.58      0.14        38\n",
            "          50       0.02      0.08      0.03        12\n",
            "          51       0.34      0.54      0.41      5431\n",
            "          52       0.06      0.46      0.11        90\n",
            "          53       0.00      0.00      0.00         5\n",
            "          54       0.05      0.58      0.10        31\n",
            "          55       0.00      0.00      0.00         3\n",
            "          56       0.11      0.59      0.18       351\n",
            "          57       0.03      0.26      0.05       202\n",
            "          58       0.72      0.70      0.71     12203\n",
            "          59       0.16      0.95      0.28        22\n",
            "          60       0.00      0.00      0.00         0\n",
            "          61       0.12      0.54      0.19        41\n",
            "          62       0.05      0.55      0.10        11\n",
            "          63       0.15      0.53      0.23        34\n",
            "          64       0.02      0.32      0.04        28\n",
            "          65       0.06      0.43      0.11       283\n",
            "          66       0.07      0.52      0.12        21\n",
            "          67       0.10      0.56      0.17        27\n",
            "          68       0.12      0.56      0.20        43\n",
            "          69       0.05      0.35      0.09       286\n",
            "          70       0.06      0.45      0.10        29\n",
            "          71       0.11      0.68      0.19       316\n",
            "          72       0.02      0.18      0.04        11\n",
            "          73       0.26      0.57      0.36      2288\n",
            "          74       0.07      0.34      0.11       374\n",
            "          75       0.14      0.66      0.23       367\n",
            "          76       0.01      0.11      0.02         9\n",
            "          77       0.16      0.59      0.25        29\n",
            "          78       0.08      0.89      0.14         9\n",
            "          79       0.12      0.60      0.20       379\n",
            "\n",
            "   micro avg       0.29      0.64      0.39     42053\n",
            "   macro avg       0.10      0.48      0.16     42053\n",
            "weighted avg       0.48      0.64      0.52     42053\n",
            " samples avg       0.29      0.64      0.37     42053\n",
            "\n"
          ],
          "name": "stdout"
        }
      ]
    },
    {
      "cell_type": "code",
      "metadata": {
        "id": "5zdDjOApdeV_"
      },
      "source": [
        ""
      ],
      "execution_count": null,
      "outputs": []
    },
    {
      "cell_type": "markdown",
      "metadata": {
        "id": "gPw4CyZ1dfFA"
      },
      "source": [
        "From the classification report we could see that precision score is lesser compared to recall. Unable to predict all classes with good accuracy"
      ]
    },
    {
      "cell_type": "code",
      "metadata": {
        "id": "jr8wDma5NBrA",
        "outputId": "b3d97b59-8821-428a-b28e-91b18e24c78d",
        "colab": {
          "base_uri": "https://localhost:8080/",
          "height": 69
        }
      },
      "source": [
        "#using micro, macro and weighted averaging score \n",
        "print('f1 score',f1_score(y_testmlb,y_pred, average='micro'))\n",
        "print('Average Precision Score: ',average_precision_score(y_testmlb,y_pred, average='macro'))\n",
        "print('Average Recall Score: ',recall_score(y_testmlb,y_pred, average='weighted'))"
      ],
      "execution_count": 88,
      "outputs": [
        {
          "output_type": "stream",
          "text": [
            "f1 score 0.39421061534275187\n",
            "Average Precision Score:  0.09924346861808644\n",
            "Average Recall Score:  0.2853598807495741\n"
          ],
          "name": "stdout"
        }
      ]
    },
    {
      "cell_type": "markdown",
      "metadata": {
        "id": "QGC3JqNtKyph"
      },
      "source": [
        "10. Print true label and predicted label for any five examples (7.5 points)\n"
      ]
    },
    {
      "cell_type": "code",
      "metadata": {
        "id": "MBx201NvOihC"
      },
      "source": [
        "#printing the first 10 labels\n",
        "predicted = y_pred[0:10]\n",
        "actual = y_testmlb[0:10]"
      ],
      "execution_count": 92,
      "outputs": []
    },
    {
      "cell_type": "code",
      "metadata": {
        "id": "5n7fT8yAO9GL",
        "outputId": "890d317f-d0ee-4439-d2cf-9752e7c66fbb",
        "colab": {
          "base_uri": "https://localhost:8080/",
          "height": 711
        }
      },
      "source": [
        "predicted"
      ],
      "execution_count": 90,
      "outputs": [
        {
          "output_type": "execute_result",
          "data": {
            "text/plain": [
              "array([[0, 0, 0, 1, 0, 0, 0, 0, 0, 0, 0, 0, 0, 0, 0, 0, 0, 0, 0, 0, 0, 0,\n",
              "        0, 0, 0, 0, 0, 0, 0, 0, 0, 0, 0, 0, 0, 0, 0, 0, 0, 0, 0, 0, 0, 0,\n",
              "        0, 0, 0, 0, 0, 0, 0, 0, 0, 0, 0, 0, 0, 0, 1, 0, 0, 0, 0, 0, 0, 0,\n",
              "        0, 0, 0, 0, 0, 0, 0, 0, 0, 0, 0, 0, 0, 0],\n",
              "       [0, 0, 0, 0, 0, 0, 0, 0, 0, 0, 0, 1, 0, 0, 0, 0, 0, 0, 0, 0, 0, 0,\n",
              "        0, 0, 0, 0, 0, 0, 0, 0, 0, 0, 0, 0, 0, 0, 0, 0, 0, 0, 0, 0, 0, 0,\n",
              "        0, 0, 0, 1, 0, 0, 0, 0, 0, 0, 0, 0, 0, 0, 0, 0, 0, 0, 0, 0, 0, 0,\n",
              "        0, 0, 0, 0, 0, 0, 0, 0, 0, 0, 0, 0, 0, 0],\n",
              "       [0, 0, 1, 0, 0, 0, 0, 0, 0, 0, 0, 0, 0, 0, 0, 0, 0, 0, 0, 0, 0, 0,\n",
              "        0, 0, 0, 0, 0, 0, 0, 0, 0, 0, 0, 0, 0, 0, 0, 0, 0, 0, 0, 0, 0, 0,\n",
              "        0, 0, 0, 1, 0, 0, 0, 0, 0, 0, 0, 0, 0, 0, 0, 0, 0, 0, 0, 0, 0, 0,\n",
              "        0, 0, 0, 0, 0, 0, 0, 1, 0, 0, 0, 0, 0, 0],\n",
              "       [0, 0, 0, 0, 0, 0, 0, 0, 0, 0, 0, 0, 0, 0, 0, 0, 0, 0, 0, 0, 0, 0,\n",
              "        0, 0, 0, 0, 0, 0, 0, 0, 0, 0, 0, 0, 0, 0, 0, 0, 0, 0, 0, 0, 0, 0,\n",
              "        0, 0, 0, 0, 0, 0, 0, 1, 0, 0, 0, 0, 0, 0, 1, 0, 0, 0, 0, 0, 0, 0,\n",
              "        0, 0, 0, 0, 0, 0, 0, 0, 0, 0, 0, 0, 0, 0],\n",
              "       [0, 0, 0, 0, 0, 0, 0, 0, 0, 0, 0, 0, 0, 0, 0, 0, 0, 0, 0, 0, 0, 0,\n",
              "        0, 0, 0, 0, 0, 0, 0, 0, 0, 0, 0, 0, 0, 0, 0, 0, 0, 0, 0, 0, 0, 0,\n",
              "        0, 0, 0, 0, 0, 0, 0, 0, 0, 0, 0, 0, 0, 0, 1, 0, 0, 0, 0, 0, 0, 0,\n",
              "        0, 0, 0, 0, 0, 0, 0, 1, 0, 0, 0, 0, 0, 0],\n",
              "       [0, 0, 0, 0, 0, 0, 0, 0, 0, 0, 0, 0, 0, 0, 0, 0, 0, 0, 0, 0, 0, 0,\n",
              "        0, 0, 0, 0, 0, 0, 0, 0, 0, 0, 0, 0, 0, 0, 0, 0, 0, 0, 0, 0, 0, 0,\n",
              "        0, 0, 0, 1, 0, 0, 0, 1, 0, 0, 0, 0, 0, 0, 0, 0, 0, 0, 0, 0, 0, 0,\n",
              "        0, 0, 0, 0, 0, 0, 0, 0, 0, 0, 0, 0, 0, 0],\n",
              "       [0, 0, 0, 0, 0, 0, 0, 0, 0, 0, 0, 0, 0, 0, 0, 0, 0, 0, 0, 0, 0, 0,\n",
              "        0, 0, 0, 0, 0, 0, 0, 0, 0, 0, 0, 0, 0, 0, 0, 0, 0, 0, 0, 0, 0, 0,\n",
              "        0, 0, 0, 0, 0, 0, 0, 0, 0, 0, 0, 0, 0, 0, 1, 0, 0, 0, 0, 0, 0, 0,\n",
              "        0, 0, 0, 0, 0, 0, 0, 0, 0, 0, 0, 0, 0, 0],\n",
              "       [0, 0, 0, 0, 0, 0, 0, 0, 0, 0, 0, 0, 0, 0, 0, 0, 0, 0, 0, 0, 0, 0,\n",
              "        0, 0, 0, 0, 0, 0, 0, 0, 0, 0, 0, 0, 0, 0, 0, 0, 0, 0, 0, 0, 0, 0,\n",
              "        0, 0, 0, 1, 0, 0, 0, 0, 0, 0, 0, 0, 0, 0, 0, 0, 0, 0, 0, 0, 0, 0,\n",
              "        0, 0, 0, 0, 0, 0, 0, 0, 0, 0, 0, 0, 0, 0],\n",
              "       [0, 0, 0, 0, 0, 0, 0, 0, 0, 0, 0, 0, 0, 0, 0, 0, 0, 0, 0, 0, 0, 0,\n",
              "        0, 0, 0, 0, 0, 0, 0, 0, 0, 0, 0, 0, 0, 0, 0, 0, 0, 0, 0, 0, 0, 0,\n",
              "        0, 0, 0, 0, 0, 0, 0, 0, 0, 0, 0, 0, 0, 0, 1, 0, 0, 0, 0, 0, 0, 0,\n",
              "        0, 0, 0, 0, 0, 0, 0, 0, 0, 0, 0, 0, 0, 0],\n",
              "       [0, 0, 0, 0, 0, 0, 0, 0, 0, 0, 0, 0, 0, 0, 0, 0, 0, 0, 0, 0, 0, 0,\n",
              "        0, 0, 0, 0, 0, 0, 0, 0, 0, 0, 0, 0, 0, 0, 0, 0, 0, 0, 0, 0, 0, 0,\n",
              "        0, 0, 0, 0, 0, 0, 0, 0, 0, 0, 0, 0, 0, 0, 1, 0, 0, 0, 0, 0, 0, 0,\n",
              "        0, 0, 0, 0, 0, 0, 0, 0, 0, 0, 0, 0, 0, 0]])"
            ]
          },
          "metadata": {
            "tags": []
          },
          "execution_count": 90
        }
      ]
    },
    {
      "cell_type": "code",
      "metadata": {
        "id": "7EMLLOkgO-xh"
      },
      "source": [
        "actual"
      ],
      "execution_count": null,
      "outputs": []
    },
    {
      "cell_type": "code",
      "metadata": {
        "id": "Utqrj9Y8aFLW",
        "outputId": "6ae3c374-9903-4a98-dfcf-dc3d230396d9",
        "colab": {
          "base_uri": "https://localhost:8080/",
          "height": 191
        }
      },
      "source": [
        "actualtransformed = label.inverse_transform(actual)\n",
        "actualtransformed"
      ],
      "execution_count": 93,
      "outputs": [
        {
          "output_type": "execute_result",
          "data": {
            "text/plain": [
              "[('25', 'aries', 'male', 'student'),\n",
              " ('27', 'aquarius', 'female', 'student'),\n",
              " ('16', 'female', 'leo', 'student'),\n",
              " ('24', 'female', 'student', 'taurus'),\n",
              " ('24', 'aries', 'male', 'student'),\n",
              " ('24', 'education', 'male', 'pisces'),\n",
              " ('24', 'aries', 'government', 'male'),\n",
              " ('17', 'libra', 'male', 'student'),\n",
              " ('27', 'education', 'leo', 'male'),\n",
              " ('25', 'education', 'male', 'scorpio')]"
            ]
          },
          "metadata": {
            "tags": []
          },
          "execution_count": 93
        }
      ]
    },
    {
      "cell_type": "code",
      "metadata": {
        "id": "GyRgvXa8aH7B",
        "outputId": "8d1056f8-752c-439c-a17b-a98373af5a16",
        "colab": {
          "base_uri": "https://localhost:8080/",
          "height": 191
        }
      },
      "source": [
        "predictedtransformed = label.inverse_transform(predicted)\n",
        "predictedtransformed"
      ],
      "execution_count": 94,
      "outputs": [
        {
          "output_type": "execute_result",
          "data": {
            "text/plain": [
              "[('16', 'male'),\n",
              " ('34', 'female'),\n",
              " ('15', 'female', 'student'),\n",
              " ('indunk', 'male'),\n",
              " ('male', 'student'),\n",
              " ('female', 'indunk'),\n",
              " ('male',),\n",
              " ('female',),\n",
              " ('male',),\n",
              " ('male',)]"
            ]
          },
          "metadata": {
            "tags": []
          },
          "execution_count": 94
        }
      ]
    },
    {
      "cell_type": "markdown",
      "metadata": {
        "id": "8HAayJ6Oeakh"
      },
      "source": [
        "Model is unable to predict all the lables."
      ]
    },
    {
      "cell_type": "markdown",
      "metadata": {
        "id": "9jQAMZv8ooVb"
      },
      "source": [
        "\n"
      ]
    },
    {
      "cell_type": "code",
      "metadata": {
        "id": "BKWyk9zGaNAk"
      },
      "source": [
        "# clf1 = OneVsRestClassifier(svc)\n",
        "# clf1.fit(X_train, y_trainmlb)"
      ],
      "execution_count": null,
      "outputs": []
    },
    {
      "cell_type": "code",
      "metadata": {
        "id": "uZxmSmKvosq5"
      },
      "source": [
        "# y_pred1 = clf1.predict(X_test)\n"
      ],
      "execution_count": null,
      "outputs": []
    },
    {
      "cell_type": "code",
      "metadata": {
        "id": "lddD7ImYs5q6"
      },
      "source": [
        "# print(classification_report(y_pred, y_testmlb))"
      ],
      "execution_count": null,
      "outputs": []
    },
    {
      "cell_type": "code",
      "metadata": {
        "id": "X_7ldvBItAhN"
      },
      "source": [
        "# accuracy_score(y_pred1,y_testmlb)"
      ],
      "execution_count": null,
      "outputs": []
    },
    {
      "cell_type": "code",
      "metadata": {
        "id": "Xqq-73uAeUAM"
      },
      "source": [
        "#considering counter vectorizer with ngrams"
      ],
      "execution_count": null,
      "outputs": []
    },
    {
      "cell_type": "markdown",
      "metadata": {
        "id": "Pd3c-VhQfayh"
      },
      "source": [
        "USe case 2: including stop_words and min_df in countvectorizer"
      ]
    },
    {
      "cell_type": "code",
      "metadata": {
        "id": "Jt594-KRvI2p"
      },
      "source": [
        "X_train1, X_test1 , y_train1, y_test1 = train_test_split(X, y, test_size =0.25,random_state = 42 )"
      ],
      "execution_count": 78,
      "outputs": []
    },
    {
      "cell_type": "code",
      "metadata": {
        "id": "2pK3jplJ4Jle"
      },
      "source": [
        "vectorizer = CountVectorizer(ngram_range=(1,2)  ,stop_words = 'english',min_df = 2)\n"
      ],
      "execution_count": 79,
      "outputs": []
    },
    {
      "cell_type": "code",
      "metadata": {
        "id": "IdjZ038jhfqx"
      },
      "source": [
        "\n",
        "X_train1 = vectorizer.fit_transform(X_train1)"
      ],
      "execution_count": 80,
      "outputs": []
    },
    {
      "cell_type": "code",
      "metadata": {
        "id": "_mg-tIOIi4IM",
        "outputId": "1799a758-b724-476e-9e02-4186e1a2e162",
        "colab": {
          "base_uri": "https://localhost:8080/",
          "height": 146
        }
      },
      "source": [
        "pd.DataFrame(X_train1[1:2].toarray(), columns = vectorizer.get_feature_names())"
      ],
      "execution_count": 105,
      "outputs": [
        {
          "output_type": "execute_result",
          "data": {
            "text/html": [
              "<div>\n",
              "<style scoped>\n",
              "    .dataframe tbody tr th:only-of-type {\n",
              "        vertical-align: middle;\n",
              "    }\n",
              "\n",
              "    .dataframe tbody tr th {\n",
              "        vertical-align: top;\n",
              "    }\n",
              "\n",
              "    .dataframe thead th {\n",
              "        text-align: right;\n",
              "    }\n",
              "</style>\n",
              "<table border=\"1\" class=\"dataframe\">\n",
              "  <thead>\n",
              "    <tr style=\"text-align: right;\">\n",
              "      <th></th>\n",
              "      <th>aa</th>\n",
              "      <th>aa batteries</th>\n",
              "      <th>aa car</th>\n",
              "      <th>aa gaye</th>\n",
              "      <th>aa group</th>\n",
              "      <th>aa guns</th>\n",
              "      <th>aa meeting</th>\n",
              "      <th>aaa</th>\n",
              "      <th>aaaa</th>\n",
              "      <th>aaaaaaa</th>\n",
              "      <th>aaaaaaaa</th>\n",
              "      <th>aaaaaaaaaaaaaaaaaaaaaaaaaaaaaaaaaaaa</th>\n",
              "      <th>aaaaaaaaaaaaaaaaaaaaaaaaaaaaaahahahahahahahahahahahaha</th>\n",
              "      <th>aaaaaaaaaaaaaaaaaaaaaaaaaaaaaahahahahahahahahahahahaha fat</th>\n",
              "      <th>aaaaaaaaaaaaaaaaaaaarrrrrrrrrrgggggggggghh</th>\n",
              "      <th>aaaaaaaaaaaaaaaaaaaarrrrrrrrrrgggggggggghh hhhhhhhhhhhhhhhhhhhh</th>\n",
              "      <th>aaaaaaaaaaahhhhhhhhhhhh</th>\n",
              "      <th>aaaaaaaaagh</th>\n",
              "      <th>aaaaaaaaagh really</th>\n",
              "      <th>aaaaaaaaah</th>\n",
              "      <th>aaaaaaaahhhhh</th>\n",
              "      <th>aaaaaaaand</th>\n",
              "      <th>aaaaaaah</th>\n",
              "      <th>aaaaaah</th>\n",
              "      <th>aaaaaahh</th>\n",
              "      <th>aaaaaahhhhh</th>\n",
              "      <th>aaaaaahhhhhhhhh</th>\n",
              "      <th>aaaaaaw</th>\n",
              "      <th>aaaaaggggggghhhhh</th>\n",
              "      <th>aaaaaggggggghhhhh iiiiitttttccccchhhhhh</th>\n",
              "      <th>aaaaagh</th>\n",
              "      <th>aaaaah</th>\n",
              "      <th>aaaaalrightyyyyy</th>\n",
              "      <th>aaaaand</th>\n",
              "      <th>aaaaargh</th>\n",
              "      <th>aaaack</th>\n",
              "      <th>aaaah</th>\n",
              "      <th>aaaahhh</th>\n",
              "      <th>aaaahhhh</th>\n",
              "      <th>aaaand</th>\n",
              "      <th>...</th>\n",
              "      <th>zul</th>\n",
              "      <th>zuls</th>\n",
              "      <th>zulu</th>\n",
              "      <th>zulu warriors</th>\n",
              "      <th>zuluchim</th>\n",
              "      <th>zuma</th>\n",
              "      <th>zumiez</th>\n",
              "      <th>zuo</th>\n",
              "      <th>zur</th>\n",
              "      <th>zuri</th>\n",
              "      <th>zurich</th>\n",
              "      <th>zurich airport</th>\n",
              "      <th>zurich meet</th>\n",
              "      <th>zurich noticed</th>\n",
              "      <th>zwan</th>\n",
              "      <th>zwelleger</th>\n",
              "      <th>zwelleger really</th>\n",
              "      <th>zx</th>\n",
              "      <th>zy</th>\n",
              "      <th>zydrunas</th>\n",
              "      <th>zydrunas ilgauskas</th>\n",
              "      <th>zz</th>\n",
              "      <th>zz packer</th>\n",
              "      <th>zzt</th>\n",
              "      <th>zzt bzzizle</th>\n",
              "      <th>zzz</th>\n",
              "      <th>zzzs</th>\n",
              "      <th>zzzz</th>\n",
              "      <th>zzzzs</th>\n",
              "      <th>zzzzz</th>\n",
              "      <th>zzzzzs</th>\n",
              "      <th>zzzzzz</th>\n",
              "      <th>zzzzzzz</th>\n",
              "      <th>zzzzzzzz</th>\n",
              "      <th>zzzzzzzzz</th>\n",
              "      <th>zzzzzzzzzz</th>\n",
              "      <th>zzzzzzzzzzzz</th>\n",
              "      <th>zzzzzzzzzzzzzzz</th>\n",
              "      <th>zzzzzzzzzzzzzzzzzzzz</th>\n",
              "      <th>zzzzzzzzzzzzzzzzzzzzz</th>\n",
              "    </tr>\n",
              "  </thead>\n",
              "  <tbody>\n",
              "    <tr>\n",
              "      <th>0</th>\n",
              "      <td>0</td>\n",
              "      <td>0</td>\n",
              "      <td>0</td>\n",
              "      <td>0</td>\n",
              "      <td>0</td>\n",
              "      <td>0</td>\n",
              "      <td>0</td>\n",
              "      <td>0</td>\n",
              "      <td>0</td>\n",
              "      <td>0</td>\n",
              "      <td>0</td>\n",
              "      <td>0</td>\n",
              "      <td>0</td>\n",
              "      <td>0</td>\n",
              "      <td>0</td>\n",
              "      <td>0</td>\n",
              "      <td>0</td>\n",
              "      <td>0</td>\n",
              "      <td>0</td>\n",
              "      <td>0</td>\n",
              "      <td>0</td>\n",
              "      <td>0</td>\n",
              "      <td>0</td>\n",
              "      <td>0</td>\n",
              "      <td>0</td>\n",
              "      <td>0</td>\n",
              "      <td>0</td>\n",
              "      <td>0</td>\n",
              "      <td>0</td>\n",
              "      <td>0</td>\n",
              "      <td>0</td>\n",
              "      <td>0</td>\n",
              "      <td>0</td>\n",
              "      <td>0</td>\n",
              "      <td>0</td>\n",
              "      <td>0</td>\n",
              "      <td>0</td>\n",
              "      <td>0</td>\n",
              "      <td>0</td>\n",
              "      <td>0</td>\n",
              "      <td>...</td>\n",
              "      <td>0</td>\n",
              "      <td>0</td>\n",
              "      <td>0</td>\n",
              "      <td>0</td>\n",
              "      <td>0</td>\n",
              "      <td>0</td>\n",
              "      <td>0</td>\n",
              "      <td>0</td>\n",
              "      <td>0</td>\n",
              "      <td>0</td>\n",
              "      <td>0</td>\n",
              "      <td>0</td>\n",
              "      <td>0</td>\n",
              "      <td>0</td>\n",
              "      <td>0</td>\n",
              "      <td>0</td>\n",
              "      <td>0</td>\n",
              "      <td>0</td>\n",
              "      <td>0</td>\n",
              "      <td>0</td>\n",
              "      <td>0</td>\n",
              "      <td>0</td>\n",
              "      <td>0</td>\n",
              "      <td>0</td>\n",
              "      <td>0</td>\n",
              "      <td>0</td>\n",
              "      <td>0</td>\n",
              "      <td>0</td>\n",
              "      <td>0</td>\n",
              "      <td>0</td>\n",
              "      <td>0</td>\n",
              "      <td>0</td>\n",
              "      <td>0</td>\n",
              "      <td>0</td>\n",
              "      <td>0</td>\n",
              "      <td>0</td>\n",
              "      <td>0</td>\n",
              "      <td>0</td>\n",
              "      <td>0</td>\n",
              "      <td>0</td>\n",
              "    </tr>\n",
              "  </tbody>\n",
              "</table>\n",
              "<p>1 rows × 775892 columns</p>\n",
              "</div>"
            ],
            "text/plain": [
              "   aa  aa batteries  ...  zzzzzzzzzzzzzzzzzzzz  zzzzzzzzzzzzzzzzzzzzz\n",
              "0   0             0  ...                     0                      0\n",
              "\n",
              "[1 rows x 775892 columns]"
            ]
          },
          "metadata": {
            "tags": []
          },
          "execution_count": 105
        }
      ]
    },
    {
      "cell_type": "code",
      "metadata": {
        "id": "2UH20Pv_hpgS"
      },
      "source": [
        "X_test1 = vectorizer.transform(X_test1)"
      ],
      "execution_count": 81,
      "outputs": []
    },
    {
      "cell_type": "code",
      "metadata": {
        "id": "HhUMGxY5ibOx"
      },
      "source": [
        "\n",
        "label = MultiLabelBinarizer()"
      ],
      "execution_count": 83,
      "outputs": []
    },
    {
      "cell_type": "code",
      "metadata": {
        "id": "NReo846Qig2l"
      },
      "source": [
        "y_trainmlb = label.fit_transform(y_train1)"
      ],
      "execution_count": 84,
      "outputs": []
    },
    {
      "cell_type": "code",
      "metadata": {
        "id": "d3rBnl1gist6"
      },
      "source": [
        "y_testmlb = label.transform(y_test1)"
      ],
      "execution_count": 85,
      "outputs": []
    },
    {
      "cell_type": "code",
      "metadata": {
        "id": "WOAJUKVMi581",
        "outputId": "66f48c7b-0bfa-43d2-b815-6fd0f8158dc7",
        "colab": {
          "base_uri": "https://localhost:8080/",
          "height": 156
        }
      },
      "source": [
        "y_testmlb[1:2], y_trainmlb[1:2]"
      ],
      "execution_count": 86,
      "outputs": [
        {
          "output_type": "execute_result",
          "data": {
            "text/plain": [
              "(array([[0, 0, 0, 0, 0, 0, 0, 1, 0, 0, 0, 0, 0, 0, 0, 0, 0, 0, 0, 0, 0, 0,\n",
              "         0, 0, 0, 0, 0, 0, 0, 0, 0, 0, 0, 0, 0, 0, 0, 0, 0, 0, 0, 0, 0, 0,\n",
              "         0, 0, 0, 0, 0, 0, 0, 0, 0, 0, 0, 0, 0, 0, 1, 0, 0, 0, 0, 0, 0, 0,\n",
              "         0, 0, 0, 1, 1, 0, 0, 0, 0, 0, 0, 0, 0, 0]]),\n",
              " array([[1, 0, 0, 0, 0, 0, 0, 0, 0, 0, 0, 0, 0, 0, 0, 0, 0, 0, 0, 0, 0, 0,\n",
              "         0, 0, 0, 0, 0, 0, 0, 0, 0, 1, 0, 0, 0, 0, 0, 0, 0, 0, 0, 0, 0, 0,\n",
              "         0, 0, 0, 0, 0, 0, 0, 0, 1, 0, 0, 0, 0, 0, 1, 0, 0, 0, 0, 0, 0, 0,\n",
              "         0, 0, 0, 0, 0, 0, 0, 0, 0, 0, 0, 0, 0, 0]]))"
            ]
          },
          "metadata": {
            "tags": []
          },
          "execution_count": 86
        }
      ]
    },
    {
      "cell_type": "code",
      "metadata": {
        "id": "86hBfx9xi8s2"
      },
      "source": [
        "\n",
        "lr = LogisticRegression(solver='lbfgs', multi_class='ovr')\n",
        "svc = LinearSVC()\n",
        "\n",
        "\n"
      ],
      "execution_count": 88,
      "outputs": []
    },
    {
      "cell_type": "code",
      "metadata": {
        "id": "uv5tofjR3Bfh",
        "outputId": "20eb1e5f-8a85-41d9-d734-bb7c74b3390e",
        "colab": {
          "base_uri": "https://localhost:8080/",
          "height": 191
        }
      },
      "source": [
        "clf2 = OneVsRestClassifier(lr)\n",
        "clf2.fit(X_train1, y_trainmlb)"
      ],
      "execution_count": 89,
      "outputs": [
        {
          "output_type": "execute_result",
          "data": {
            "text/plain": [
              "OneVsRestClassifier(estimator=LogisticRegression(C=1.0, class_weight=None,\n",
              "                                                 dual=False, fit_intercept=True,\n",
              "                                                 intercept_scaling=1,\n",
              "                                                 l1_ratio=None, max_iter=100,\n",
              "                                                 multi_class='ovr', n_jobs=None,\n",
              "                                                 penalty='l2',\n",
              "                                                 random_state=None,\n",
              "                                                 solver='lbfgs', tol=0.0001,\n",
              "                                                 verbose=0, warm_start=False),\n",
              "                    n_jobs=None)"
            ]
          },
          "metadata": {
            "tags": []
          },
          "execution_count": 89
        }
      ]
    },
    {
      "cell_type": "code",
      "metadata": {
        "id": "xvFWVS_U3No1"
      },
      "source": [
        "y_pred2 = clf2.predict(X_test1)\n"
      ],
      "execution_count": 90,
      "outputs": []
    },
    {
      "cell_type": "code",
      "metadata": {
        "id": "6agDSWhV93dU",
        "outputId": "565ae8d9-5d74-41e0-afe7-3b892c8cdffe",
        "colab": {
          "base_uri": "https://localhost:8080/",
          "height": 35
        }
      },
      "source": [
        "accuracy_score(y_testmlb, y_pred2)\n"
      ],
      "execution_count": 94,
      "outputs": [
        {
          "output_type": "execute_result",
          "data": {
            "text/plain": [
              "0.054638406646075194"
            ]
          },
          "metadata": {
            "tags": []
          },
          "execution_count": 94
        }
      ]
    },
    {
      "cell_type": "code",
      "metadata": {
        "id": "jgYeVMd797Ov",
        "outputId": "d8e7250e-28ed-47c2-f647-6c55507f22e6",
        "colab": {
          "base_uri": "https://localhost:8080/",
          "height": 1000
        }
      },
      "source": [
        "print(classification_report(y_testmlb, y_pred2))"
      ],
      "execution_count": 97,
      "outputs": [
        {
          "output_type": "stream",
          "text": [
            "              precision    recall  f1-score   support\n",
            "\n",
            "           0       0.59      0.15      0.24       318\n",
            "           1       0.50      0.17      0.26       667\n",
            "           2       0.53      0.18      0.27      1347\n",
            "           3       0.68      0.28      0.40      1775\n",
            "           4       0.59      0.22      0.32      2073\n",
            "           5       0.53      0.18      0.27      2548\n",
            "           6       0.41      0.11      0.17      2051\n",
            "           7       0.57      0.18      0.27      1778\n",
            "           8       0.47      0.11      0.18      1358\n",
            "           9       0.46      0.16      0.23      1618\n",
            "          10       0.48      0.09      0.15       388\n",
            "          11       0.72      0.18      0.29       517\n",
            "          12       0.71      0.18      0.29       459\n",
            "          13       0.46      0.09      0.15       461\n",
            "          14       0.48      0.10      0.17       200\n",
            "          15       0.78      0.11      0.20       123\n",
            "          16       0.42      0.11      0.18       169\n",
            "          17       0.68      0.19      0.29       162\n",
            "          18       0.33      0.03      0.06       121\n",
            "          19       0.52      0.15      0.23       113\n",
            "          20       0.45      0.04      0.08       114\n",
            "          21       0.17      0.03      0.04        40\n",
            "          22       0.30      0.05      0.09       133\n",
            "          23       0.71      0.14      0.23       108\n",
            "          24       0.30      0.05      0.08        65\n",
            "          25       0.20      0.01      0.03        72\n",
            "          26       0.83      0.24      0.38       156\n",
            "          27       0.64      0.10      0.17       139\n",
            "          28       0.00      0.00      0.00        25\n",
            "          29       0.60      0.18      0.27      1571\n",
            "          30       0.00      0.00      0.00        33\n",
            "          31       0.34      0.06      0.10      1594\n",
            "          32       0.43      0.08      0.14       893\n",
            "          33       0.00      0.00      0.00         3\n",
            "          34       0.56      0.07      0.13       125\n",
            "          35       0.27      0.03      0.06        95\n",
            "          36       0.62      0.12      0.21       128\n",
            "          37       0.57      0.14      0.23      1618\n",
            "          38       0.53      0.15      0.23      1581\n",
            "          39       0.21      0.04      0.06        82\n",
            "          40       0.31      0.05      0.08       502\n",
            "          41       0.40      0.07      0.12        29\n",
            "          42       0.79      0.09      0.17       159\n",
            "          43       0.53      0.12      0.20       916\n",
            "          44       0.44      0.07      0.11       245\n",
            "          45       0.00      0.00      0.00         9\n",
            "          46       0.30      0.05      0.09       117\n",
            "          47       0.70      0.69      0.69      9382\n",
            "          48       0.46      0.10      0.17      1558\n",
            "          49       0.57      0.10      0.17       212\n",
            "          50       0.00      0.00      0.00        43\n",
            "          51       0.54      0.40      0.46      6946\n",
            "          52       0.45      0.07      0.12       554\n",
            "          53       0.00      0.00      0.00        36\n",
            "          54       0.51      0.09      0.15       270\n",
            "          55       0.00      0.00      0.00        36\n",
            "          56       0.56      0.15      0.23      1559\n",
            "          57       0.25      0.05      0.08      1567\n",
            "          58       0.69      0.71      0.70      9396\n",
            "          59       0.75      0.20      0.32        89\n",
            "          60       0.00      0.00      0.00         4\n",
            "          61       0.51      0.12      0.19       153\n",
            "          62       0.50      0.10      0.17        80\n",
            "          63       0.67      0.17      0.27        83\n",
            "          64       0.50      0.05      0.09       315\n",
            "          65       0.54      0.11      0.18      1581\n",
            "          66       0.42      0.08      0.13       131\n",
            "          67       0.58      0.10      0.17       108\n",
            "          68       0.51      0.14      0.22       155\n",
            "          69       0.37      0.09      0.14      1501\n",
            "          70       0.50      0.08      0.13       184\n",
            "          71       0.58      0.14      0.23      1543\n",
            "          72       0.17      0.03      0.05        66\n",
            "          73       0.55      0.29      0.38      4060\n",
            "          74       0.37      0.09      0.15      1546\n",
            "          75       0.59      0.17      0.27      1344\n",
            "          76       0.33      0.03      0.05        71\n",
            "          77       0.70      0.25      0.37       102\n",
            "          78       0.73      0.20      0.31        80\n",
            "          79       0.53      0.16      0.25      1559\n",
            "\n",
            "   micro avg       0.61      0.31      0.41     75112\n",
            "   macro avg       0.46      0.12      0.18     75112\n",
            "weighted avg       0.56      0.31      0.37     75112\n",
            " samples avg       0.62      0.31      0.38     75112\n",
            "\n"
          ],
          "name": "stdout"
        }
      ]
    },
    {
      "cell_type": "markdown",
      "metadata": {
        "id": "Ws1VCbJbh1cY"
      },
      "source": [
        "With the classification report we could observe that model is able to predict most of the classes with better accuracy by using min_df and stop_words"
      ]
    },
    {
      "cell_type": "code",
      "metadata": {
        "id": "btJB_XJ6-PdE",
        "outputId": "7a68098f-2414-4357-bd3a-4392fabf380d",
        "colab": {
          "base_uri": "https://localhost:8080/",
          "height": 69
        }
      },
      "source": [
        "\n",
        "print('f1 score',f1_score(y_testmlb,y_pred2, average='micro'))\n",
        "print('Average Precision Score: ',average_precision_score(y_testmlb,y_pred2, average='macro'))\n",
        "print('Average Recall Score: ',recall_score(y_testmlb,y_pred2, average='weighted'))"
      ],
      "execution_count": 98,
      "outputs": [
        {
          "output_type": "stream",
          "text": [
            "f1 score 0.4102976811645472\n",
            "Average Precision Score:  0.10648358904230164\n",
            "Average Recall Score:  0.3088321439982959\n"
          ],
          "name": "stdout"
        }
      ]
    },
    {
      "cell_type": "code",
      "metadata": {
        "id": "3eqjgmhq_DhS"
      },
      "source": [
        "predicted = y_pred2[0:15]\n",
        "actual = y_test1[0:15]"
      ],
      "execution_count": 101,
      "outputs": []
    },
    {
      "cell_type": "code",
      "metadata": {
        "id": "dNbXTU9W_bcv",
        "outputId": "ba099f63-1894-4e64-ca79-0558ad970ecf",
        "colab": {
          "base_uri": "https://localhost:8080/",
          "height": 277
        }
      },
      "source": [
        "predictedtransformed = label.inverse_transform(predicted)\n",
        "predictedtransformed"
      ],
      "execution_count": 102,
      "outputs": [
        {
          "output_type": "execute_result",
          "data": {
            "text/plain": [
              "[('female',),\n",
              " ('male',),\n",
              " ('female', 'indunk'),\n",
              " ('female',),\n",
              " ('female',),\n",
              " ('indunk', 'male'),\n",
              " ('male',),\n",
              " ('female', 'student'),\n",
              " ('24', 'female'),\n",
              " ('male',),\n",
              " ('aries', 'female', 'student'),\n",
              " ('indunk', 'male'),\n",
              " ('25', 'gemini', 'male'),\n",
              " ('25', 'gemini', 'male', 'tourism'),\n",
              " ('23', 'indunk', 'male')]"
            ]
          },
          "metadata": {
            "tags": []
          },
          "execution_count": 102
        }
      ]
    },
    {
      "cell_type": "code",
      "metadata": {
        "id": "2uYLsXoA_xvd",
        "outputId": "00a028dc-735e-4e8a-cffa-7f91424cf036",
        "colab": {
          "base_uri": "https://localhost:8080/",
          "height": 277
        }
      },
      "source": [
        "actualtransformed = label.inverse_transform(actual)\n",
        "actualtransformed"
      ],
      "execution_count": 104,
      "outputs": [
        {
          "output_type": "execute_result",
          "data": {
            "text/plain": [
              "[('23', 'female', 'libra', 'tourism'),\n",
              " ('25', 'male', 'sagittarius', 'science'),\n",
              " ('23', 'female', 'student', 'virgo'),\n",
              " ('41', 'male', 'taurus', 'technology'),\n",
              " ('44', 'aquarius', 'education', 'female'),\n",
              " ('26', 'aries', 'male', 'non-profit'),\n",
              " ('17', 'aries', 'education', 'female'),\n",
              " ('17', 'capricorn', 'female', 'student'),\n",
              " ('25', 'aquarius', 'arts', 'female'),\n",
              " ('27', 'indunk', 'leo', 'male'),\n",
              " ('16', 'aries', 'female', 'student'),\n",
              " ('16', 'male', 'scorpio', 'student'),\n",
              " ('23', 'leo', 'male', 'tourism'),\n",
              " ('23', 'leo', 'male', 'tourism'),\n",
              " ('23', 'accounting', 'cancer', 'male')]"
            ]
          },
          "metadata": {
            "tags": []
          },
          "execution_count": 104
        }
      ]
    },
    {
      "cell_type": "markdown",
      "metadata": {
        "id": "k7NmBiyLAaLB"
      },
      "source": [
        "*With additional parameters accuracy increased by 1 but still model is unable to predict the classes correctly*"
      ]
    },
    {
      "cell_type": "markdown",
      "metadata": {
        "id": "CM7cCUXYAbgG"
      },
      "source": [
        "Use case 3:USing fewer data to further check for improvement in accuracy"
      ]
    },
    {
      "cell_type": "code",
      "metadata": {
        "id": "mgVpLip3Am2m"
      },
      "source": [
        "\n",
        "# blogfdf1 = blogdf.loc[(blogdf['gender'] == 'female') & (blogdf['sign'] == 'Virgo') ].head(400)\n",
        "# blogfdf2 = blogdf.loc[(blogdf['gender'] == 'female') & (blogdf['sign'] == 'Taurus') ].sample(400)\n",
        "# blogfdf3 = blogdf.loc[(blogdf['gender'] == 'female') & (blogdf['sign'] == 'Scorpio') ].tail(400)\n",
        "# blogfdf4 = blogdf.loc[(blogdf['gender'] == 'female') & (blogdf['sign'] == 'Sagittarius') ].sample(400)\n",
        "# blogfdf5 = blogdf.loc[(blogdf['gender'] == 'female') & (blogdf['sign'] == 'Aquarius') ].head(400)\n",
        "# blogfdf6 = blogdf.loc[(blogdf['gender'] == 'female') & (blogdf['sign'] == 'Pisces') ].tail(400)\n",
        "# blogfdf7 = blogdf.loc[(blogdf['gender'] == 'female') & (blogdf['sign'] == 'Libra') ].sample(400)\n",
        "# blogfdf8 = blogdf.loc[(blogdf['gender'] == 'female') & (blogdf['sign'] == 'Leo') ].head(400)\n",
        "# blogfdf9 = blogdf.loc[(blogdf['gender'] == 'female') & (blogdf['sign'] == 'Gemini') ].sample(400)\n",
        "# blogfdf10 = blogdf.loc[(blogdf['gender'] == 'female') & (blogdf['sign'] == 'Capricorn') ].tail(400)\n",
        "# blogfdf11 = blogdf.loc[(blogdf['gender'] == 'female') & (blogdf['sign'] == 'Cancer') ].sample(400)\n",
        "# blogfdf12 = blogdf.loc[(blogdf['gender'] == 'female') & (blogdf['sign'] == 'Aries') ].sample(400)\n",
        "\n",
        "# blogdf1 = blogdf.loc[(blogdf['gender'] == 'male') & (blogdf['sign'] == 'Virgo') ].head(400)\n",
        "# blogdf2 = blogdf.loc[(blogdf['gender'] == 'male') & (blogdf['sign'] == 'Taurus') ].tail(400)\n",
        "# blogdf3 = blogdf.loc[(blogdf['gender'] == 'male') & (blogdf['sign'] == 'Scorpio') ].sample(400)\n",
        "# blogdf4 = blogdf.loc[(blogdf['gender'] == 'male') & (blogdf['sign'] == 'Sagittarius') ].head(400)\n",
        "# blogdf5 = blogdf.loc[(blogdf['gender'] == 'male') & (blogdf['sign'] == 'Aquarius') ].tail(400)\n",
        "# blogdf6 = blogdf.loc[(blogdf['gender'] == 'male') & (blogdf['sign'] == 'Pisces') ].sample(400)\n",
        "# blogdf7 = blogdf.loc[(blogdf['gender'] == 'male') & (blogdf['sign'] == 'Libra') ].sample(400)\n",
        "# blogdf8 = blogdf.loc[(blogdf['gender'] == 'male') & (blogdf['sign'] == 'Leo') ].head(400)\n",
        "# blogdf9 = blogdf.loc[(blogdf['gender'] == 'male') & (blogdf['sign'] == 'Gemini') ].tail(400)\n",
        "# blogdf10 = blogdf.loc[(blogdf['gender'] == 'male') & (blogdf['sign'] == 'Capricorn') ].sample(400)\n",
        "# blogdf11 = blogdf.loc[(blogdf['gender'] == 'male') & (blogdf['sign'] == 'Cancer') ].head(400)\n",
        "# blogdf12 = blogdf.loc[(blogdf['gender'] == 'male') & (blogdf['sign'] == 'Aries') ].sample(400)\n",
        "\n"
      ],
      "execution_count": 95,
      "outputs": []
    },
    {
      "cell_type": "code",
      "metadata": {
        "id": "YqxgP0cEB56i"
      },
      "source": [
        "# reduceblogdf = pd.concat([blogdf1,blogdf2,blogdf3,blogdf4,blogdf5,blogdf6,blogdf7,blogdf8,blogdf9,blogdf10,blogdf11,blogdf12,blogfdf1,blogfdf2,\n",
        "#                           blogfdf3,blogfdf4,blogfdf5,blogfdf6,blogfdf7,blogfdf8,blogfdf9,blogfdf10,blogfdf11,blogfdf12])"
      ],
      "execution_count": 96,
      "outputs": []
    },
    {
      "cell_type": "code",
      "metadata": {
        "id": "l3278cyVAh-c"
      },
      "source": [
        "#taking random samples\n",
        "reduceblogdf = blogdf.head(10000)"
      ],
      "execution_count": 3,
      "outputs": []
    },
    {
      "cell_type": "code",
      "metadata": {
        "id": "6uvCcqlsB-VC",
        "outputId": "fcd98add-b0d6-4c2b-8fb9-0e367c291d4a",
        "colab": {
          "base_uri": "https://localhost:8080/",
          "height": 35
        }
      },
      "source": [
        "reduceblogdf.shape"
      ],
      "execution_count": 4,
      "outputs": [
        {
          "output_type": "execute_result",
          "data": {
            "text/plain": [
              "(10000, 7)"
            ]
          },
          "metadata": {
            "tags": []
          },
          "execution_count": 4
        }
      ]
    },
    {
      "cell_type": "markdown",
      "metadata": {
        "id": "ImKhlbP0fLHR"
      },
      "source": [
        "*performing all the operations as use case 1*"
      ]
    },
    {
      "cell_type": "code",
      "metadata": {
        "id": "wCOYBzieFeeI",
        "outputId": "708ea4f0-038c-472e-8227-cc941bc9c103",
        "colab": {
          "base_uri": "https://localhost:8080/",
          "height": 202
        }
      },
      "source": [
        "import re\n",
        "reduceblogdf['text']= reduceblogdf['text'].apply(lambda s: s.lower())\n",
        "reduceblogdf['topic']= reduceblogdf['topic'].apply(lambda s: s.lower())\n",
        "reduceblogdf['sign']= reduceblogdf['sign'].apply(lambda s: s.lower())\n",
        "reduceblogdf['gender']= reduceblogdf['gender'].apply(lambda s: s.lower())\n",
        "#converting to lower first to reduce the number of operation in pattern matching\n",
        "reduceblogdf.head()\n"
      ],
      "execution_count": 5,
      "outputs": [
        {
          "output_type": "execute_result",
          "data": {
            "text/html": [
              "<div>\n",
              "<style scoped>\n",
              "    .dataframe tbody tr th:only-of-type {\n",
              "        vertical-align: middle;\n",
              "    }\n",
              "\n",
              "    .dataframe tbody tr th {\n",
              "        vertical-align: top;\n",
              "    }\n",
              "\n",
              "    .dataframe thead th {\n",
              "        text-align: right;\n",
              "    }\n",
              "</style>\n",
              "<table border=\"1\" class=\"dataframe\">\n",
              "  <thead>\n",
              "    <tr style=\"text-align: right;\">\n",
              "      <th></th>\n",
              "      <th>id</th>\n",
              "      <th>gender</th>\n",
              "      <th>age</th>\n",
              "      <th>topic</th>\n",
              "      <th>sign</th>\n",
              "      <th>date</th>\n",
              "      <th>text</th>\n",
              "    </tr>\n",
              "  </thead>\n",
              "  <tbody>\n",
              "    <tr>\n",
              "      <th>0</th>\n",
              "      <td>2059027</td>\n",
              "      <td>male</td>\n",
              "      <td>15</td>\n",
              "      <td>student</td>\n",
              "      <td>leo</td>\n",
              "      <td>14,May,2004</td>\n",
              "      <td>info has been found (+/- 100 pages,...</td>\n",
              "    </tr>\n",
              "    <tr>\n",
              "      <th>1</th>\n",
              "      <td>2059027</td>\n",
              "      <td>male</td>\n",
              "      <td>15</td>\n",
              "      <td>student</td>\n",
              "      <td>leo</td>\n",
              "      <td>13,May,2004</td>\n",
              "      <td>these are the team members:   drewe...</td>\n",
              "    </tr>\n",
              "    <tr>\n",
              "      <th>2</th>\n",
              "      <td>2059027</td>\n",
              "      <td>male</td>\n",
              "      <td>15</td>\n",
              "      <td>student</td>\n",
              "      <td>leo</td>\n",
              "      <td>12,May,2004</td>\n",
              "      <td>in het kader van kernfusie op aarde...</td>\n",
              "    </tr>\n",
              "    <tr>\n",
              "      <th>3</th>\n",
              "      <td>2059027</td>\n",
              "      <td>male</td>\n",
              "      <td>15</td>\n",
              "      <td>student</td>\n",
              "      <td>leo</td>\n",
              "      <td>12,May,2004</td>\n",
              "      <td>testing!!!  testing!!!</td>\n",
              "    </tr>\n",
              "    <tr>\n",
              "      <th>4</th>\n",
              "      <td>3581210</td>\n",
              "      <td>male</td>\n",
              "      <td>33</td>\n",
              "      <td>investmentbanking</td>\n",
              "      <td>aquarius</td>\n",
              "      <td>11,June,2004</td>\n",
              "      <td>thanks to yahoo!'s toolbar i can ...</td>\n",
              "    </tr>\n",
              "  </tbody>\n",
              "</table>\n",
              "</div>"
            ],
            "text/plain": [
              "        id  ...                                               text\n",
              "0  2059027  ...             info has been found (+/- 100 pages,...\n",
              "1  2059027  ...             these are the team members:   drewe...\n",
              "2  2059027  ...             in het kader van kernfusie op aarde...\n",
              "3  2059027  ...                   testing!!!  testing!!!          \n",
              "4  3581210  ...               thanks to yahoo!'s toolbar i can ...\n",
              "\n",
              "[5 rows x 7 columns]"
            ]
          },
          "metadata": {
            "tags": []
          },
          "execution_count": 5
        }
      ]
    },
    {
      "cell_type": "code",
      "metadata": {
        "id": "QJAo40_qFmyc"
      },
      "source": [
        "words_to_be_removed = ['a','aa','aaa',\t'aaaa',\t'aaaaaa',\t'aaaaaaaa',\t'aaaaaaaaaaaaaaaaaaaaaaaaaaaaaah','aaaaaaaaaaaaaaaaaaaaaaaaaaaaaahahahahahahahahahahahaha',\t'aaaaaaaaaaaaaaaaaaaaaaaaaaaaaahahahahahahahahahahahaha','aaaaaaaaaaaaaaaaaaaarrrrrrrrrrgggggggggghh',\t'aaaaaaaaaaaaaaaaaaaarrrrrrrrrrgggggggggghh', 'hhhhhhhhhhhhhhhhhhhh','zzz','zzzs','zzzz','zzzzz','zzzzzz','zzzzzzz','zzzzzzzz','zzzzzzzzz','zzzzzzzzzz','zzzzzzzzzzz','zzzzzzzzzzzz','zzzzzzzzzzzzz\tzzzzzzzzzzzzzzzzzzzzzzzzzzzzzzzz','aaaaaaaaaaaaaaaaaaaarrrrrrrrrrgggggggggghh',\t'aaaaaaaaaaaaaaaaaaaarrrrrrrrrrgggggggggghh', 'hhhhhhhhhhhhhhhhhhhh',\t'aaaaaaaaaaahhhhhhhhhhhh',\t'aaaaaaaaaah',\t'aaaaaaaaaah',\t'aaaaaaaaagh',\t'aaaaaaaaagh','aaaaaaaaah',\t'aaaaaaaahhhhh',\t'aaaaaaa'\t,'aaaaaaah'\t,'aaaaaaand',\t'aaaaaah','aaaaaahhhh','aaaaaahhhhhhh',\t'aaaaaahhhhhhhhh',\t'aaaaaargh',\t'aaaaaaw',\t'aaaaaggggggghhhhh',\t'aaaaaggggggghhhhh', 'iiiiitttttccccchhhhhh',\t'aaaaah','aaaaahhh',\t'aaaaahhhh'\t,'aaaaahhhhh'\t,'aaaaahhhhhh',\t'aaaaargh',\n",
        "'zzzzzzzzzzzzzzzzzzzzz','zzzzzzzzzzzzzzzzzzzzz','zzzzzzzzzzzzzzzzzzzzzzzzzzzzzhuh','zzzzzzzzzzzzzzzzzzzzzzzzzzzzzzzz','zzzzzzzzzzzzzzzzzzz','zzzzzzzzzzzzzzz','zzzzzzzzzzzzz','zzzzzzzzzzzzz','zzzzzzzzzzz','zzzzzzzzzzz','zzzzzzzzi','zzzzzzzzi','zzzzzzwaaah oh','zzzzzzwaaah','zzzzzoh',\n",
        "'zzzzzoh','zzzzz','zzzzsnbsp','zzzzsnbsp','zzzzs','zzzzs','zzzzs','zzzzaap','zzzupz','zzzhuh','zzt'\t,'aaaaa','aaaaaaaaaa','aaaaaaaaaaaaaaaa',\t'aaaaaaaaaaaaaaaaaaa','aaaaaaaaaaaaaaaaaaaaaaaaaaaaa','aaaaaaaaaaaaaaaaaaaaaaaaaaaaaaaaaa',\t'aaaaaaaaaaaaaaaaaaaaaaaaaaaaaaaaaaaaa','aaaaaaaaaaaaaaaaaaaaaaaaaaaaaaaaaaaaaaaa','aaaaaaaaaaaaaaaaaaaaaaaaaaaaaaaaaaaaaaaaaaaaaaaaaaaaaaa','aaaaaaaaaaaaaaaaaaaaaaaaaaaaaaaaaaaaaaaah','aaaaaaaaaaaaaaaaaaaaaaaaaaaaaaaaaaaaaaaargh','aaaaaaaaaaaaaaaaaaaaaaaaaaaaaaaaaaaaahhh','aaaaaaaaaaaaaaaaaaaaaaaaaaaaaaaaaagh','aaaaaaaaaaaaaaaaaaaaaaaaaargh','aaaaaaaaaaaaaaaaaaaaaaaaahhhhhhhh','aaaaaaaaaaaaaaaaaaaaaaahhhhhhhhh',\n",
        "'aaaaaaaaaaaaaaaaaahahhahahahahahhahahahahahahha',\t'aaaaaaaaaaaaaaaaargh','aaaaaaaaaaaaaaahhh','aaaaaaaaaaaaaah','aaaaaaaaaaaaaahh','aaaaaaaaaaaaaahhhhhhhhhhhhh','aaaaaaaaaaaaah','aaaaaaaaaaaaaw','aaaaaaaaaaaack','aaaaaaaaaaaahahaha','aaaaaaaaaaaahhhhhhhhh','aaaaaaaaaaaammmmmmmmmmmmmmmmm','aaaaaaaaaaahhahha','aaaaaaaaaaahhhhhhhhh','aaaaaaaaaaahhhhhhhhhhhhhhh',\t'aaaaaaaaaaahhhhhhhhhhhhhhhhhhh','aaaaaaaaaaahhhhhhhhhhhhhhhhhhhhwhat','aaaaaaaaaaargh','aaaaaaaaaaauuugh','aaaaaaaaaahahahahahahahahahaha','aaaaaaaaaahhhhhhhhhh',\n",
        "'aaaaaaaaaahhhhhhhhhhhhh','aaaaaaaaaahhhhhhhhhhhhhhhhhhhhhhhhhhhhhh','aaaaaaaaaggggghhhhh','aaaaaaaaahhhhh','aaaaaaaaahhhhhhh','aaaaaaaaall','aaaaaaaaanyway','aaaaaaaaarg','aaaaaaaaargh','aaaaaaaages','aaaaaaaah','aaaaaaaahhh','aaaaaaaahhhhhhhhhhhhhhh','aaaaaaaahhhhhhhhhhhhhhhhhhhhhhrrrrrrrrrrrrrrrrrrrrrrr','aaaaaaaallllll','aaaaaaaand','aaaaaaaarrrrrrrrggggggggghhhhh','aaaaaaaarrrrrrrrrrrrrgggggggggggghhhhhhhhhhhh','aaaaaaaauuuuuuggggggghhhhhhhh','aaaaaaaawwwwwwwyeeeehhhhh','aaaaaaaggghhh','aaaaaaaggghhhhh','aaaaaaahhhhh','aaaaaaahhhhhhdorable','aaaaaaahhhhhhh','aaaaaaahhhhhhhhhh','aaaaaaahhhhhhhhhhh','aaaaaaahhhhhhhhhhhhhhhhhh','aaaaaaall','aaaaaaargh','aaaaaaarrrrrrrgggggh','aaaaaaarrrrrrrrrrrrrrrrghhhhhhhhhhhhhhh',\n",
        "'aaaaaaawwww','aaaaaackkkk','aaaaaahahahahhahaha','aaaaaahahha','aaaaaahh','aaaaaahhh','aaaaaahhhare','aaaaaahhhhh','aaaaaahhhhhhhh','aaaaaahhhhhhhhhhhhh','aaaaaahhhhhhhhwell',\n",
        "'aaaaaalllll','aaaaaalllllllll','aaaaaalways','aaaaaargghh','aaaaaarhgh','aaaaaarrrggghhh','aaaaaarrrrghh','aaaaaarrrrrrgggggggghhhhhhhhh','aaaaaarrrrrrrghhhhhhhhhh','aaaaack','aaaaagh',\n",
        "'aaaaahahahaha','aaaaahh','aaaaahhhhhhhhhh','aaaaahhhhhhhhhhhh','aaaaahhhhhhhhhhhhhhhhhhhh','aaaaahhhhhhhi','aaaaaieeeeeeee','aaaaaing','aaaaall','aaaaalleluia','aaaaam','aaaaand','aaaaannnnnddddd',\n",
        "'aaaaanyway','aaaaarggggghhhhhhhh','aaaaargh','aaaaarrgggghhhh','aaaaarrrggggh','aaaaarrrrrgggghhhhh','aaaaasmith','aaaaaw','aaaaawwwwww','aaaaccchoooo','aaaack',\n",
        "'aaaafinallyafter','aaaages','aaaagggghhhhhhhhhhh','aaaagh','aaaah','aaaahhh','aaaahhhh','aaaahhhhh','aaaahhhhhh','aaaahhhhhhh','aaaahhhhi','aaaahhhuuhhhh','aaaahing','aaaall','aaaand','aaaandhmmm','aaaa',\t'aaaa','aaaarg','aaaargggggggghhhh','aaaarggggggghhhhhhhh',\n",
        "'aaaargh','aaaarghhno','aaaarrrgggghhhh','aaaarrrgghhhh','aaaarrrghh','aaaarrrrgggg','aaaarrrrgggghhhh','aaaarrrrrrggghh','aaaathmm','aaaawwwjke','aaaawwww','aaabsolutely','aaagggghhhh','aaaggghhh','aaagh','aaah','aaahahahahahahaha','aaahh','aaahha','aaahhh','aaahhhh','aaahhhhh','aaahhhhhhhh','aaahhhhhhhhhhhhhhhhhhhhhhhhhhhhhh','aaahp',\n",
        "'aaahs','aaaiiieeeeeeee','aaalbumen','aaallll','aaalllll','aaa','aaanand','aaand','aaanimaaaniacs','aaannddd','aaannnd','aaannndd','aaannnnd','aaannnndchas',\t\n",
        "'aaannnywayz','aaanyhoo','aaa','aaappp','aaarg','aaargghhhhh','aaargh','aaaroadtrip','aaarrggghhh','aaarrgghh','aaarrrggghh','aaarrrggghhhhh','aaarrrgghhhhhh','aaarrrrgggghhh','aaas','aaass','aaaugh','aaaw','aaawww','aaawwwww','aab']\n",
        "\n",
        "\n",
        "\n",
        "reduceblogdf['text'] = reduceblogdf['text'].apply(lambda x: ' '.join([text for text in x.split() if text not in words_to_be_removed]))\n"
      ],
      "execution_count": 6,
      "outputs": []
    },
    {
      "cell_type": "code",
      "metadata": {
        "id": "RuHS_jy5GAk3"
      },
      "source": [
        ""
      ],
      "execution_count": 18,
      "outputs": []
    },
    {
      "cell_type": "code",
      "metadata": {
        "id": "PgqebTGQF8Rs",
        "outputId": "c58ba772-da77-4c72-951a-3d30900ea055",
        "colab": {
          "base_uri": "https://localhost:8080/",
          "height": 225
        }
      },
      "source": [
        "reduceblogdf['text']"
      ],
      "execution_count": 7,
      "outputs": [
        {
          "output_type": "execute_result",
          "data": {
            "text/plain": [
              "0       info has been found (+/- 100 pages, and 4.5 mb...\n",
              "1       these are the team members: drewes van der laa...\n",
              "2       in het kader van kernfusie op aarde: maak je e...\n",
              "3                                   testing!!! testing!!!\n",
              "4       thanks to yahoo!'s toolbar i can now 'capture'...\n",
              "                              ...                        \n",
              "9995    take me home with you forever where i may rest...\n",
              "9996    seductive secretness behind doors warning me t...\n",
              "9997    for being so kind to me when i need you most; ...\n",
              "9998    blurry outside sounds as people mingle and pas...\n",
              "9999    my body feels broken while my mind rejoices at...\n",
              "Name: text, Length: 10000, dtype: object"
            ]
          },
          "metadata": {
            "tags": []
          },
          "execution_count": 7
        }
      ]
    },
    {
      "cell_type": "code",
      "metadata": {
        "id": "fe63jKRszIln",
        "outputId": "64da216f-aaf2-47c9-c678-e4b87a306b65",
        "colab": {
          "base_uri": "https://localhost:8080/",
          "height": 55
        }
      },
      "source": [
        "from nltk.corpus import stopwords\n",
        "print(stopwords.words('english'))\n",
        "  \n",
        "stop_words = set(stopwords.words('english')) "
      ],
      "execution_count": 11,
      "outputs": [
        {
          "output_type": "stream",
          "text": [
            "['i', 'me', 'my', 'myself', 'we', 'our', 'ours', 'ourselves', 'you', \"you're\", \"you've\", \"you'll\", \"you'd\", 'your', 'yours', 'yourself', 'yourselves', 'he', 'him', 'his', 'himself', 'she', \"she's\", 'her', 'hers', 'herself', 'it', \"it's\", 'its', 'itself', 'they', 'them', 'their', 'theirs', 'themselves', 'what', 'which', 'who', 'whom', 'this', 'that', \"that'll\", 'these', 'those', 'am', 'is', 'are', 'was', 'were', 'be', 'been', 'being', 'have', 'has', 'had', 'having', 'do', 'does', 'did', 'doing', 'a', 'an', 'the', 'and', 'but', 'if', 'or', 'because', 'as', 'until', 'while', 'of', 'at', 'by', 'for', 'with', 'about', 'against', 'between', 'into', 'through', 'during', 'before', 'after', 'above', 'below', 'to', 'from', 'up', 'down', 'in', 'out', 'on', 'off', 'over', 'under', 'again', 'further', 'then', 'once', 'here', 'there', 'when', 'where', 'why', 'how', 'all', 'any', 'both', 'each', 'few', 'more', 'most', 'other', 'some', 'such', 'no', 'nor', 'not', 'only', 'own', 'same', 'so', 'than', 'too', 'very', 's', 't', 'can', 'will', 'just', 'don', \"don't\", 'should', \"should've\", 'now', 'd', 'll', 'm', 'o', 're', 've', 'y', 'ain', 'aren', \"aren't\", 'couldn', \"couldn't\", 'didn', \"didn't\", 'doesn', \"doesn't\", 'hadn', \"hadn't\", 'hasn', \"hasn't\", 'haven', \"haven't\", 'isn', \"isn't\", 'ma', 'mightn', \"mightn't\", 'mustn', \"mustn't\", 'needn', \"needn't\", 'shan', \"shan't\", 'shouldn', \"shouldn't\", 'wasn', \"wasn't\", 'weren', \"weren't\", 'won', \"won't\", 'wouldn', \"wouldn't\"]\n"
          ],
          "name": "stdout"
        }
      ]
    },
    {
      "cell_type": "code",
      "metadata": {
        "id": "QaEX1FWMFwla"
      },
      "source": [
        "reduceblogdf['text'] = reduceblogdf['text'].apply(lambda s: re.sub('[^a-z ]','',s))\n",
        "\n",
        "\n",
        "reduceblogdf['text'] = reduceblogdf['text'].apply(lambda s: s.strip())\n",
        "\n",
        "reduceblogdf['text'] = reduceblogdf['text'].apply(lambda x: ' '.join([text for text in x.split() if text not in stop_words]))"
      ],
      "execution_count": 12,
      "outputs": []
    },
    {
      "cell_type": "code",
      "metadata": {
        "id": "mHq3eYXMGQH7",
        "outputId": "32b94d2e-9390-4bfd-9419-c77374f5d135",
        "colab": {
          "base_uri": "https://localhost:8080/",
          "height": 202
        }
      },
      "source": [
        "reduceblogdf.head()"
      ],
      "execution_count": 13,
      "outputs": [
        {
          "output_type": "execute_result",
          "data": {
            "text/html": [
              "<div>\n",
              "<style scoped>\n",
              "    .dataframe tbody tr th:only-of-type {\n",
              "        vertical-align: middle;\n",
              "    }\n",
              "\n",
              "    .dataframe tbody tr th {\n",
              "        vertical-align: top;\n",
              "    }\n",
              "\n",
              "    .dataframe thead th {\n",
              "        text-align: right;\n",
              "    }\n",
              "</style>\n",
              "<table border=\"1\" class=\"dataframe\">\n",
              "  <thead>\n",
              "    <tr style=\"text-align: right;\">\n",
              "      <th></th>\n",
              "      <th>id</th>\n",
              "      <th>gender</th>\n",
              "      <th>age</th>\n",
              "      <th>topic</th>\n",
              "      <th>sign</th>\n",
              "      <th>date</th>\n",
              "      <th>text</th>\n",
              "    </tr>\n",
              "  </thead>\n",
              "  <tbody>\n",
              "    <tr>\n",
              "      <th>0</th>\n",
              "      <td>2059027</td>\n",
              "      <td>male</td>\n",
              "      <td>15</td>\n",
              "      <td>student</td>\n",
              "      <td>leo</td>\n",
              "      <td>14,May,2004</td>\n",
              "      <td>info found pages mb pdf files wait untill team...</td>\n",
              "    </tr>\n",
              "    <tr>\n",
              "      <th>1</th>\n",
              "      <td>2059027</td>\n",
              "      <td>male</td>\n",
              "      <td>15</td>\n",
              "      <td>student</td>\n",
              "      <td>leo</td>\n",
              "      <td>13,May,2004</td>\n",
              "      <td>team members drewes van der laag urllink mail ...</td>\n",
              "    </tr>\n",
              "    <tr>\n",
              "      <th>2</th>\n",
              "      <td>2059027</td>\n",
              "      <td>male</td>\n",
              "      <td>15</td>\n",
              "      <td>student</td>\n",
              "      <td>leo</td>\n",
              "      <td>12,May,2004</td>\n",
              "      <td>het kader van kernfusie op aarde maak je eigen...</td>\n",
              "    </tr>\n",
              "    <tr>\n",
              "      <th>3</th>\n",
              "      <td>2059027</td>\n",
              "      <td>male</td>\n",
              "      <td>15</td>\n",
              "      <td>student</td>\n",
              "      <td>leo</td>\n",
              "      <td>12,May,2004</td>\n",
              "      <td>testing testing</td>\n",
              "    </tr>\n",
              "    <tr>\n",
              "      <th>4</th>\n",
              "      <td>3581210</td>\n",
              "      <td>male</td>\n",
              "      <td>33</td>\n",
              "      <td>investmentbanking</td>\n",
              "      <td>aquarius</td>\n",
              "      <td>11,June,2004</td>\n",
              "      <td>thanks yahoos toolbar capture urls popupswhich...</td>\n",
              "    </tr>\n",
              "  </tbody>\n",
              "</table>\n",
              "</div>"
            ],
            "text/plain": [
              "        id  ...                                               text\n",
              "0  2059027  ...  info found pages mb pdf files wait untill team...\n",
              "1  2059027  ...  team members drewes van der laag urllink mail ...\n",
              "2  2059027  ...  het kader van kernfusie op aarde maak je eigen...\n",
              "3  2059027  ...                                    testing testing\n",
              "4  3581210  ...  thanks yahoos toolbar capture urls popupswhich...\n",
              "\n",
              "[5 rows x 7 columns]"
            ]
          },
          "metadata": {
            "tags": []
          },
          "execution_count": 13
        }
      ]
    },
    {
      "cell_type": "code",
      "metadata": {
        "id": "1aJroYayGR1i",
        "outputId": "26e3c195-a933-4eaa-95d9-8e555c0c7d28",
        "colab": {
          "base_uri": "https://localhost:8080/",
          "height": 202
        }
      },
      "source": [
        "reduceblogdf1 = reduceblogdf.drop(['id','date'],axis =1)\n",
        "\n",
        "reduceblogdf1.head()"
      ],
      "execution_count": 14,
      "outputs": [
        {
          "output_type": "execute_result",
          "data": {
            "text/html": [
              "<div>\n",
              "<style scoped>\n",
              "    .dataframe tbody tr th:only-of-type {\n",
              "        vertical-align: middle;\n",
              "    }\n",
              "\n",
              "    .dataframe tbody tr th {\n",
              "        vertical-align: top;\n",
              "    }\n",
              "\n",
              "    .dataframe thead th {\n",
              "        text-align: right;\n",
              "    }\n",
              "</style>\n",
              "<table border=\"1\" class=\"dataframe\">\n",
              "  <thead>\n",
              "    <tr style=\"text-align: right;\">\n",
              "      <th></th>\n",
              "      <th>gender</th>\n",
              "      <th>age</th>\n",
              "      <th>topic</th>\n",
              "      <th>sign</th>\n",
              "      <th>text</th>\n",
              "    </tr>\n",
              "  </thead>\n",
              "  <tbody>\n",
              "    <tr>\n",
              "      <th>0</th>\n",
              "      <td>male</td>\n",
              "      <td>15</td>\n",
              "      <td>student</td>\n",
              "      <td>leo</td>\n",
              "      <td>info found pages mb pdf files wait untill team...</td>\n",
              "    </tr>\n",
              "    <tr>\n",
              "      <th>1</th>\n",
              "      <td>male</td>\n",
              "      <td>15</td>\n",
              "      <td>student</td>\n",
              "      <td>leo</td>\n",
              "      <td>team members drewes van der laag urllink mail ...</td>\n",
              "    </tr>\n",
              "    <tr>\n",
              "      <th>2</th>\n",
              "      <td>male</td>\n",
              "      <td>15</td>\n",
              "      <td>student</td>\n",
              "      <td>leo</td>\n",
              "      <td>het kader van kernfusie op aarde maak je eigen...</td>\n",
              "    </tr>\n",
              "    <tr>\n",
              "      <th>3</th>\n",
              "      <td>male</td>\n",
              "      <td>15</td>\n",
              "      <td>student</td>\n",
              "      <td>leo</td>\n",
              "      <td>testing testing</td>\n",
              "    </tr>\n",
              "    <tr>\n",
              "      <th>4</th>\n",
              "      <td>male</td>\n",
              "      <td>33</td>\n",
              "      <td>investmentbanking</td>\n",
              "      <td>aquarius</td>\n",
              "      <td>thanks yahoos toolbar capture urls popupswhich...</td>\n",
              "    </tr>\n",
              "  </tbody>\n",
              "</table>\n",
              "</div>"
            ],
            "text/plain": [
              "  gender  age  ...      sign                                               text\n",
              "0   male   15  ...       leo  info found pages mb pdf files wait untill team...\n",
              "1   male   15  ...       leo  team members drewes van der laag urllink mail ...\n",
              "2   male   15  ...       leo  het kader van kernfusie op aarde maak je eigen...\n",
              "3   male   15  ...       leo                                    testing testing\n",
              "4   male   33  ...  aquarius  thanks yahoos toolbar capture urls popupswhich...\n",
              "\n",
              "[5 rows x 5 columns]"
            ]
          },
          "metadata": {
            "tags": []
          },
          "execution_count": 14
        }
      ]
    },
    {
      "cell_type": "code",
      "metadata": {
        "id": "QZnUqUPfISqf"
      },
      "source": [
        "\n",
        "\n",
        "#reduceblogdf1['age'] = reduceblogdf1['age'].astype('str')\n"
      ],
      "execution_count": 29,
      "outputs": []
    },
    {
      "cell_type": "code",
      "metadata": {
        "id": "Vp4G-lRdI-Jd"
      },
      "source": [
        "reduceblogdf1['labels'] = reduceblogdf1[reduceblogdf1.columns[0:4]].apply(\n",
        "    lambda x: ','.join(x.astype(str)), axis=1\n",
        ")"
      ],
      "execution_count": 15,
      "outputs": []
    },
    {
      "cell_type": "code",
      "metadata": {
        "id": "gEwCFhSWItI5"
      },
      "source": [
        "# reduceblogdf1['labels'] = [[a,b,c,d] for a,b,c,d in zip(reduceblogdf1['gender'], reduceblogdf1['age'],reduceblogdf1['topic'],reduceblogdf1['sign'])]"
      ],
      "execution_count": 30,
      "outputs": []
    },
    {
      "cell_type": "code",
      "metadata": {
        "id": "Ll6878QpJIf0"
      },
      "source": [
        "newreduceblogdf = reduceblogdf1.drop(['gender','age','topic','sign'],axis =1)"
      ],
      "execution_count": 16,
      "outputs": []
    },
    {
      "cell_type": "code",
      "metadata": {
        "id": "aiYwugMBJTES",
        "outputId": "a8d41475-39e5-422c-84b3-7173534acc83",
        "colab": {
          "base_uri": "https://localhost:8080/",
          "height": 202
        }
      },
      "source": [
        "newreduceblogdf.head()"
      ],
      "execution_count": 17,
      "outputs": [
        {
          "output_type": "execute_result",
          "data": {
            "text/html": [
              "<div>\n",
              "<style scoped>\n",
              "    .dataframe tbody tr th:only-of-type {\n",
              "        vertical-align: middle;\n",
              "    }\n",
              "\n",
              "    .dataframe tbody tr th {\n",
              "        vertical-align: top;\n",
              "    }\n",
              "\n",
              "    .dataframe thead th {\n",
              "        text-align: right;\n",
              "    }\n",
              "</style>\n",
              "<table border=\"1\" class=\"dataframe\">\n",
              "  <thead>\n",
              "    <tr style=\"text-align: right;\">\n",
              "      <th></th>\n",
              "      <th>text</th>\n",
              "      <th>labels</th>\n",
              "    </tr>\n",
              "  </thead>\n",
              "  <tbody>\n",
              "    <tr>\n",
              "      <th>0</th>\n",
              "      <td>info found pages mb pdf files wait untill team...</td>\n",
              "      <td>male,15,student,leo</td>\n",
              "    </tr>\n",
              "    <tr>\n",
              "      <th>1</th>\n",
              "      <td>team members drewes van der laag urllink mail ...</td>\n",
              "      <td>male,15,student,leo</td>\n",
              "    </tr>\n",
              "    <tr>\n",
              "      <th>2</th>\n",
              "      <td>het kader van kernfusie op aarde maak je eigen...</td>\n",
              "      <td>male,15,student,leo</td>\n",
              "    </tr>\n",
              "    <tr>\n",
              "      <th>3</th>\n",
              "      <td>testing testing</td>\n",
              "      <td>male,15,student,leo</td>\n",
              "    </tr>\n",
              "    <tr>\n",
              "      <th>4</th>\n",
              "      <td>thanks yahoos toolbar capture urls popupswhich...</td>\n",
              "      <td>male,33,investmentbanking,aquarius</td>\n",
              "    </tr>\n",
              "  </tbody>\n",
              "</table>\n",
              "</div>"
            ],
            "text/plain": [
              "                                                text                              labels\n",
              "0  info found pages mb pdf files wait untill team...                 male,15,student,leo\n",
              "1  team members drewes van der laag urllink mail ...                 male,15,student,leo\n",
              "2  het kader van kernfusie op aarde maak je eigen...                 male,15,student,leo\n",
              "3                                    testing testing                 male,15,student,leo\n",
              "4  thanks yahoos toolbar capture urls popupswhich...  male,33,investmentbanking,aquarius"
            ]
          },
          "metadata": {
            "tags": []
          },
          "execution_count": 17
        }
      ]
    },
    {
      "cell_type": "code",
      "metadata": {
        "id": "-7kt6QZiGd0c"
      },
      "source": [
        "X = newreduceblogdf['text']\n",
        "\n",
        "y = newreduceblogdf['labels']\n",
        "\n"
      ],
      "execution_count": 18,
      "outputs": []
    },
    {
      "cell_type": "code",
      "metadata": {
        "id": "oh640-OdOjdI",
        "outputId": "cb3b5f2e-e281-44a8-858b-d11f818baf71",
        "colab": {
          "base_uri": "https://localhost:8080/",
          "height": 69
        }
      },
      "source": [
        "X[1:2],y[1:2]"
      ],
      "execution_count": 148,
      "outputs": [
        {
          "output_type": "execute_result",
          "data": {
            "text/plain": [
              "(1    team members drewes van der laag urllink mail ...\n",
              " Name: text, dtype: object, 1    male,15,student,leo\n",
              " Name: labels, dtype: object)"
            ]
          },
          "metadata": {
            "tags": []
          },
          "execution_count": 148
        }
      ]
    },
    {
      "cell_type": "code",
      "metadata": {
        "id": "WXbclEY6Gfmg"
      },
      "source": [
        "\n",
        "X_train, X_test , y_train, y_test = train_test_split(X, y, test_size = 0.25,random_state = 1 )\n",
        "\n",
        "\n"
      ],
      "execution_count": 133,
      "outputs": []
    },
    {
      "cell_type": "code",
      "metadata": {
        "id": "_5g1_yjKGhqR"
      },
      "source": [
        "vectorizer = CountVectorizer(ngram_range = (1,2),min_df=2,stop_words=\"english\")\n"
      ],
      "execution_count": 134,
      "outputs": []
    },
    {
      "cell_type": "code",
      "metadata": {
        "id": "VIp6vAWVL-ct"
      },
      "source": [
        "X_train = vectorizer.fit_transform(X_train)\n"
      ],
      "execution_count": 135,
      "outputs": []
    },
    {
      "cell_type": "code",
      "metadata": {
        "id": "N86EiB6gMAOy"
      },
      "source": [
        "X_test = vectorizer.transform(X_test)\n",
        "#transform test data\n",
        "\n",
        "\n"
      ],
      "execution_count": 136,
      "outputs": []
    },
    {
      "cell_type": "code",
      "metadata": {
        "id": "xiHlWfsu8l2q",
        "outputId": "c719a421-90e6-4ff1-b837-f32392418169",
        "colab": {
          "base_uri": "https://localhost:8080/",
          "height": 1000
        }
      },
      "source": [
        "\n",
        "vectorizer.vocabulary_"
      ],
      "execution_count": 153,
      "outputs": [
        {
          "output_type": "execute_result",
          "data": {
            "text/plain": [
              "{'got': 20622,\n",
              " 'arount': 2064,\n",
              " 'site': 49418,\n",
              " 'think': 54865,\n",
              " 'looking': 32212,\n",
              " 'better': 4066,\n",
              " 'theres': 54344,\n",
              " 'room': 46155,\n",
              " 'improvement': 26069,\n",
              " 'im': 25394,\n",
              " 'busy': 6096,\n",
              " 'right': 45673,\n",
              " 'write': 63021,\n",
              " 'later': 29351,\n",
              " 'lovers': 32800,\n",
              " 'yeah': 63361,\n",
              " 'wish': 61946,\n",
              " 'think looking': 55035,\n",
              " 'better theres': 4175,\n",
              " 'theres room': 54388,\n",
              " 'room improvement': 46176,\n",
              " 'improvement im': 26070,\n",
              " 'im busy': 25448,\n",
              " 'busy right': 6106,\n",
              " 'right write': 45858,\n",
              " 'write later': 63044,\n",
              " 'sesame': 48383,\n",
              " 'street': 51960,\n",
              " 'muppet': 36119,\n",
              " 'blind': 4654,\n",
              " 'quiz': 43456,\n",
              " 'youll': 63896,\n",
              " 'sesame street': 48384,\n",
              " 'street muppet': 51970,\n",
              " 'hey': 23565,\n",
              " 'wanna': 59907,\n",
              " 'download': 13517,\n",
              " 'ddr': 11444,\n",
              " 'thing': 54487,\n",
              " 'come': 8651,\n",
              " 'visit': 59488,\n",
              " 'urllink': 58563,\n",
              " 'pretty': 42311,\n",
              " 'lame': 29197,\n",
              " 'funni': 18734,\n",
              " 'problem': 42619,\n",
              " 'huge': 24792,\n",
              " 'dunno': 13994,\n",
              " 'anyways': 1750,\n",
              " 'bobs': 4968,\n",
              " 'uncle': 58160,\n",
              " 'thing come': 54513,\n",
              " 'come visit': 8783,\n",
              " 'visit site': 59498,\n",
              " 'site urllink': 49444,\n",
              " 'defense': 11779,\n",
              " 'secretary': 47965,\n",
              " 'donald': 13150,\n",
              " 'rumsfeld': 46391,\n",
              " 'warns': 60354,\n",
              " 'syria': 53062,\n",
              " 'considers': 9428,\n",
              " 'military': 34863,\n",
              " 'iraq': 26834,\n",
              " 'hostile': 24462,\n",
              " 'act': 290,\n",
              " 'wonder': 62120,\n",
              " 'iran': 26833,\n",
              " 'felt': 16866,\n",
              " 'way': 60624,\n",
              " 'armed': 2034,\n",
              " 'war': 60290,\n",
              " 'defense secretary': 11784,\n",
              " 'secretary donald': 47967,\n",
              " 'donald rumsfeld': 13151,\n",
              " 'felt way': 16913,\n",
              " 'missile': 35173,\n",
              " 'hits': 23847,\n",
              " 'target': 53417,\n",
              " 'test': 53914,\n",
              " 'missile defense': 35174,\n",
              " 'tinye': 56282,\n",
              " 'eats': 14281,\n",
              " 'pb': 39800,\n",
              " 'sandwich': 46898,\n",
              " 'eat': 14207,\n",
              " 'crow': 10389,\n",
              " 'damn': 10787,\n",
              " 'played': 41282,\n",
              " 'exceptionally': 15507,\n",
              " 'packers': 39153,\n",
              " 'sucked': 52365,\n",
              " 'balls': 3150,\n",
              " 'big': 4239,\n",
              " 'time': 55729,\n",
              " 'lambeau': 29196,\n",
              " 'parking': 39459,\n",
              " 'lot': 32387,\n",
              " 'mom': 35306,\n",
              " 'thought': 55345,\n",
              " 'early': 14099,\n",
              " 'grilling': 21362,\n",
              " 'best': 3955,\n",
              " 'alternative': 1249,\n",
              " 'morning': 35644,\n",
              " 'tailgating': 53112,\n",
              " 'course': 10006,\n",
              " 'little': 31483,\n",
              " 'brother': 5723,\n",
              " 'pleased': 41379,\n",
              " 'eating': 14257,\n",
              " 'slice': 49716,\n",
              " 'spinach': 50890,\n",
              " 'viking': 59422,\n",
              " 'fans': 16273,\n",
              " 'double': 13481,\n",
              " 'cheeseburgers': 7562,\n",
              " 'fresh': 18122,\n",
              " 'corn': 9791,\n",
              " 'cob': 8413,\n",
              " 'boiled': 5014,\n",
              " 'garbage': 18988,\n",
              " 'hardcore': 22580,\n",
              " 'great': 21156,\n",
              " 'game': 18888,\n",
              " 'heaven': 23130,\n",
              " 'earth': 14147,\n",
              " 'friends': 18292,\n",
              " 'oh': 38133,\n",
              " 'rents': 45158,\n",
              " 'met': 34667,\n",
              " 'lee': 29745,\n",
              " 'jeans': 27389,\n",
              " 'liked': 31223,\n",
              " 'sucked balls': 52366,\n",
              " 'big time': 4313,\n",
              " 'time got': 55870,\n",
              " 'parking lot': 39462,\n",
              " 'mom thought': 35342,\n",
              " 'thought way': 55471,\n",
              " 'way early': 60660,\n",
              " 'best alternative': 3959,\n",
              " 'early morning': 14122,\n",
              " 'course little': 10028,\n",
              " 'little brother': 31511,\n",
              " 'eating slice': 14277,\n",
              " 'corn cob': 9792,\n",
              " 'great game': 21197,\n",
              " 'heaven earth': 23131,\n",
              " 'friends oh': 18360,\n",
              " 'lee jeans': 29748,\n",
              " 'think liked': 55030,\n",
              " 'yes': 63674,\n",
              " 'today': 56374,\n",
              " 'day': 11025,\n",
              " 'email': 14564,\n",
              " 'making': 33428,\n",
              " 'rounds': 46281,\n",
              " 'boycott': 5374,\n",
              " 'dont': 13171,\n",
              " 'buy': 6142,\n",
              " 'gas': 19018,\n",
              " 'hurts': 24941,\n",
              " 'guy': 21721,\n",
              " 'clovis': 8347,\n",
              " 'owns': 39114,\n",
              " 'maybe': 34022,\n",
              " 'plan': 41141,\n",
              " 'protest': 42888,\n",
              " 'stop': 51746,\n",
              " 'local': 31874,\n",
              " 'convenience': 9588,\n",
              " 'stores': 51827,\n",
              " 'drink': 13701,\n",
              " 'bag': 3085,\n",
              " 'chips': 7727,\n",
              " 'punish': 43095,\n",
              " 'store': 51812,\n",
              " 'owner': 39109,\n",
              " 'mercy': 34612,\n",
              " 'yes today': 63746,\n",
              " 'today day': 56407,\n",
              " 'dont buy': 13194,\n",
              " 'little guy': 31566,\n",
              " 'stop local': 51767,\n",
              " 'convenience stores': 9589,\n",
              " 'maybe think': 34110,\n",
              " 'miss': 35125,\n",
              " 'sister': 49375,\n",
              " 'terribly': 53891,\n",
              " 'strange': 51915,\n",
              " 'hanging': 22238,\n",
              " 'irritating': 26898,\n",
              " 'joking': 27676,\n",
              " 'week': 60993,\n",
              " 'really': 44104,\n",
              " 'presence': 42229,\n",
              " 'mean': 34175,\n",
              " 'good': 20262,\n",
              " 'scrapbook': 47744,\n",
              " 'tasmania': 53437,\n",
              " 'brings': 5653,\n",
              " 'fond': 17669,\n",
              " 'memories': 34506,\n",
              " 'past': 39628,\n",
              " 'recently': 44561,\n",
              " 'fact': 15988,\n",
              " 'wont': 62182,\n",
              " 'quite': 43373,\n",
              " 'going': 19835,\n",
              " 'bristol': 5665,\n",
              " 'represented': 45229,\n",
              " 'deeper': 11744,\n",
              " 'level': 30087,\n",
              " 'link': 31347,\n",
              " 'family': 16183,\n",
              " 'home': 24011,\n",
              " 'tomorrow': 56759,\n",
              " 'start': 51238,\n",
              " 'new': 36895,\n",
              " 'term': 53872,\n",
              " 'holidays': 23979,\n",
              " 'fly': 17603,\n",
              " 'quickly': 43335,\n",
              " 'honestly': 24210,\n",
              " 'say': 47110,\n",
              " 'eventful': 15353,\n",
              " 'break': 5473,\n",
              " 'travelling': 57294,\n",
              " 'ive': 27057,\n",
              " 'things': 54666,\n",
              " 'seen': 48043,\n",
              " 'luck': 32855,\n",
              " 'job': 27515,\n",
              " 'hunt': 24900,\n",
              " 'favour': 16533,\n",
              " 'lord': 32300,\n",
              " 'semester': 48171,\n",
              " 'promises': 42807,\n",
              " 'challenging': 7250,\n",
              " 'taking': 53171,\n",
              " 'film': 17102,\n",
              " 'subjects': 52285,\n",
              " 'equating': 15128,\n",
              " 'word': 62285,\n",
              " 'essays': 15236,\n",
              " 'middle': 34791,\n",
              " 'hopefully': 24347,\n",
              " 'holding': 23945,\n",
              " 'fort': 17885,\n",
              " 'havent': 22751,\n",
              " 'gotten': 20950,\n",
              " 'round': 46265,\n",
              " 'driving': 13771,\n",
              " 'lessons': 29939,\n",
              " 'saving': 47034,\n",
              " 'money': 35429,\n",
              " 'technically': 53607,\n",
              " 'spent': 50825,\n",
              " 'ordinary': 38815,\n",
              " 'expenses': 15681,\n",
              " 'planning': 41174,\n",
              " 'help': 23295,\n",
              " 'childrens': 7687,\n",
              " 'ministry': 35011,\n",
              " 'church': 7885,\n",
              " 'alpha': 1216,\n",
              " 'sorta': 50495,\n",
              " 'foundation': 17928,\n",
              " 'studies': 52103,\n",
              " 'coz': 10118,\n",
              " 'like': 30477,\n",
              " 'basics': 3361,\n",
              " 'bible': 4219,\n",
              " 'wow': 62955,\n",
              " 'accomplish': 199,\n",
              " 'grace': 21005,\n",
              " 'needed': 36749,\n",
              " 'shawns': 48636,\n",
              " 'means': 34273,\n",
              " 'comp': 9017,\n",
              " 'bud': 5834,\n",
              " 'jons': 27700,\n",
              " 'place': 41014,\n",
              " 'woopadeedoo': 62282,\n",
              " 'kids': 28179,\n",
              " 'em': 14555,\n",
              " 'erm': 15164,\n",
              " 'shawn': 48635,\n",
              " 'pc': 39807,\n",
              " 'hum': 24827,\n",
              " 'egs': 14427,\n",
              " 'point': 41516,\n",
              " 'love': 32522,\n",
              " 'triangle': 57359,\n",
              " 'unless': 58371,\n",
              " 'version': 59320,\n",
              " 'wife': 61772,\n",
              " 'hes': 23468,\n",
              " 'married': 33792,\n",
              " 'mistress': 35197,\n",
              " 'wants': 60263,\n",
              " 'lah': 29172,\n",
              " 'hangs': 22249,\n",
              " 'buddy': 5842,\n",
              " 'gives': 19574,\n",
              " 'lil': 31258,\n",
              " 'space': 50615,\n",
              " 'know': 28522,\n",
              " 'whine': 61646,\n",
              " 'ill': 25222,\n",
              " 'ok': 38262,\n",
              " 'plus': 41433,\n",
              " 'glad': 19597,\n",
              " 'sudden': 52393,\n",
              " 'rants': 43702,\n",
              " 'societys': 50074,\n",
              " 'faults': 16458,\n",
              " 'various': 59210,\n",
              " 'places': 41114,\n",
              " 'melbourne': 34453,\n",
              " 'bloody': 4856,\n",
              " 'ripoff': 45911,\n",
              " 'welcome': 61281,\n",
              " 'week really': 61075,\n",
              " 'felt mean': 16889,\n",
              " 'mean good': 34190,\n",
              " 'good way': 20534,\n",
              " 'fond memories': 17670,\n",
              " 'time past': 55999,\n",
              " 'fact maybe': 16011,\n",
              " 'maybe thought': 34111,\n",
              " 'deeper level': 11746,\n",
              " 'family home': 16203,\n",
              " 'home oh': 24097,\n",
              " 'tomorrow start': 56789,\n",
              " 'start new': 51270,\n",
              " 'honestly say': 24220,\n",
              " 'ive things': 27216,\n",
              " 'things ive': 54749,\n",
              " 'ive seen': 27195,\n",
              " 'luck job': 32860,\n",
              " 'favour lord': 16534,\n",
              " 'semester promises': 48173,\n",
              " 'holding fort': 23948,\n",
              " 'job havent': 27528,\n",
              " 'havent gotten': 22773,\n",
              " 'driving lessons': 13781,\n",
              " 'lessons ive': 29941,\n",
              " 'im planning': 25725,\n",
              " 'ministry church': 35012,\n",
              " 'alpha course': 1217,\n",
              " 'thing good': 54538,\n",
              " 'good coz': 20300,\n",
              " 'like going': 30724,\n",
              " 'wow things': 62976,\n",
              " 'em like': 14559,\n",
              " 'anyways point': 1756,\n",
              " 'point little': 41541,\n",
              " 'little love': 31601,\n",
              " 'version im': 59323,\n",
              " 'hes married': 23516,\n",
              " 'really wants': 44407,\n",
              " 'time know': 55922,\n",
              " 'im pretty': 25736,\n",
              " 'pretty ok': 42370,\n",
              " 'plus im': 41443,\n",
              " 'im glad': 25573,\n",
              " 'fark': 16348,\n",
              " 'headline': 22915,\n",
              " 'duf': 13918,\n",
              " 'trying': 57691,\n",
              " 'save': 47013,\n",
              " 'blog': 4691,\n",
              " 'fer': 16932,\n",
              " 'premature': 42202,\n",
              " 'pill': 40912,\n",
              " 'development': 12205,\n",
              " 'expected': 15665,\n",
              " 'reach': 43785,\n",
              " 'market': 33759,\n",
              " 'fark headline': 16349,\n",
              " 'headline day': 22916,\n",
              " 'day duf': 11088,\n",
              " 'duf trying': 13937,\n",
              " 'trying save': 57737,\n",
              " 'site blog': 49420,\n",
              " 'blog time': 4775,\n",
              " 'remember': 45026,\n",
              " 'january': 27321,\n",
              " 'movie': 35869,\n",
              " 'killer': 28242,\n",
              " 'online': 38582,\n",
              " 'claimed': 8031,\n",
              " 'blockbuster': 4686,\n",
              " 'review': 45544,\n",
              " 'watch': 60479,\n",
              " 'update': 58468,\n",
              " 'watched': 60507,\n",
              " 'didnt': 12280,\n",
              " 'finish': 17270,\n",
              " 'bad': 2974,\n",
              " 'bother': 5262,\n",
              " 'fun': 18593,\n",
              " 'add': 470,\n",
              " 'collection': 8562,\n",
              " 'youve': 64090,\n",
              " 'thats': 54093,\n",
              " 'movie urllink': 35934,\n",
              " 'movie review': 35914,\n",
              " 'didnt finish': 12319,\n",
              " 'bad dont': 2991,\n",
              " 'dont bother': 13190,\n",
              " 'youve seen': 64106,\n",
              " 'gone': 20162,\n",
              " 'started': 51306,\n",
              " 'shitty': 48824,\n",
              " 'bed': 3608,\n",
              " 'stay': 51503,\n",
              " 'safe': 46575,\n",
              " 'sleep': 49619,\n",
              " 'pillow': 40915,\n",
              " 'blanket': 4607,\n",
              " 'ah': 874,\n",
              " 'escape': 15186,\n",
              " 'night': 37317,\n",
              " 'soul': 50507,\n",
              " 'wonders': 62177,\n",
              " 'free': 18032,\n",
              " 'search': 47841,\n",
              " 'forget': 17823,\n",
              " 'heart': 23049,\n",
              " 'feel': 16620,\n",
              " 'open': 38634,\n",
              " 'engulf': 14913,\n",
              " 'world': 62667,\n",
              " 'mind': 34921,\n",
              " 'escapes': 15190,\n",
              " 'journeys': 27741,\n",
              " 'far': 16293,\n",
              " 'experiencing': 15711,\n",
              " 'guilt': 21653,\n",
              " 'shame': 48554,\n",
              " 'body': 4973,\n",
              " 'rest': 45372,\n",
              " 'self': 48122,\n",
              " 'healing': 22931,\n",
              " 'young': 63921,\n",
              " 'wake': 59769,\n",
              " 'day gone': 11119,\n",
              " 'didnt better': 12288,\n",
              " 'better bed': 4074,\n",
              " 'stay safe': 51523,\n",
              " 'search new': 47846,\n",
              " 'forget past': 17833,\n",
              " 'past night': 39651,\n",
              " 'heart free': 23064,\n",
              " 'world night': 62747,\n",
              " 'sleep wake': 49672,\n",
              " 'wake day': 59770,\n",
              " 'day day': 11072,\n",
              " 'turned': 57856,\n",
              " 'tv': 57904,\n",
              " 'channel': 7369,\n",
              " 'showed': 48989,\n",
              " 'episode': 15109,\n",
              " 'girl': 19443,\n",
              " 'particular': 39492,\n",
              " 'hilarious': 23719,\n",
              " 'min': 34918,\n",
              " 'skit': 49554,\n",
              " 'titled': 56348,\n",
              " 'nbsp': 36434,\n",
              " 'girls': 19506,\n",
              " 'life': 30193,\n",
              " 'emc': 14630,\n",
              " 'guys': 21829,\n",
              " 'quotes': 43482,\n",
              " 'story': 51845,\n",
              " 'goes': 19801,\n",
              " 'lines': 31334,\n",
              " 'teenage': 53639,\n",
              " 'jessica': 27439,\n",
              " 'simpson': 49283,\n",
              " 'intended': 26574,\n",
              " 'knock': 28510,\n",
              " 'characters': 7401,\n",
              " 'asian': 2198,\n",
              " 'baby': 2893,\n",
              " 'headnbsp': 22920,\n",
              " 'lets': 30030,\n",
              " 'bimbo': 4373,\n",
              " 'sitting': 49454,\n",
              " 'table': 53069,\n",
              " 'introduces': 26753,\n",
              " 'saying': 47329,\n",
              " 'discussing': 12761,\n",
              " 'upcoming': 58465,\n",
              " 'prom': 42795,\n",
              " 'dance': 10837,\n",
              " 'fight': 17025,\n",
              " 'happens': 22356,\n",
              " 'realise': 44037,\n",
              " 'bought': 5278,\n",
              " 'dress': 13673,\n",
              " 'ultimate': 58085,\n",
              " 'divine': 12931,\n",
              " 'says': 47375,\n",
              " 'tech': 53599,\n",
              " 'soo': 50339,\n",
              " 'wise': 61938,\n",
              " 'grandfather': 21076,\n",
              " 'understood': 58253,\n",
              " 'said': 46597,\n",
              " 'cos': 9836,\n",
              " 'understand': 58214,\n",
              " 'note': 37706,\n",
              " 'blonde': 4839,\n",
              " 'guess': 21536,\n",
              " 'saw': 47043,\n",
              " 'convinced': 9634,\n",
              " 'dad': 10712,\n",
              " 'slams': 49588,\n",
              " 'whats': 61580,\n",
              " 'wrong': 63143,\n",
              " 'exact': 15450,\n",
              " 'thinking': 55218,\n",
              " 'biatch': 4218,\n",
              " 'current': 10549,\n",
              " 'mental': 34564,\n",
              " 'laughing': 29463,\n",
              " 'acting': 301,\n",
              " 'paired': 39248,\n",
              " 'exaggerated': 15472,\n",
              " 'resolve': 45327,\n",
              " 'issue': 26975,\n",
              " 'gets': 19249,\n",
              " 'wear': 60882,\n",
              " 'ye': 63357,\n",
              " 'thatd': 54081,\n",
              " 'work': 62359,\n",
              " 'white': 61675,\n",
              " 'hair': 21995,\n",
              " 'black': 4547,\n",
              " 'stuff': 52126,\n",
              " 'ur': 58545,\n",
              " 'wouldnt': 62901,\n",
              " 'stupid': 52222,\n",
              " 'bout': 5320,\n",
              " 'tape': 53402,\n",
              " 'real': 43986,\n",
              " 'cool': 9663,\n",
              " 'turned tv': 57876,\n",
              " 'girl tv': 19485,\n",
              " 'girls life': 19520,\n",
              " 'life like': 30302,\n",
              " 'nbsp watch': 36493,\n",
              " 'watch guys': 60487,\n",
              " 'story goes': 51854,\n",
              " 'jessica simpson': 27442,\n",
              " 'friends think': 18399,\n",
              " 'nbsp characters': 36441,\n",
              " 'girls sitting': 19532,\n",
              " 'sitting table': 49475,\n",
              " 'story nbsp': 51866,\n",
              " 'baby oh': 2915,\n",
              " 'oh wow': 38228,\n",
              " 'understood said': 58255,\n",
              " 'cos didnt': 9838,\n",
              " 'didnt understand': 12410,\n",
              " 'guess know': 21577,\n",
              " 'saw day': 47055,\n",
              " 'baby think': 2921,\n",
              " 'think im': 55004,\n",
              " 'im going': 25577,\n",
              " 'whats wrong': 61617,\n",
              " 'dress like': 13676,\n",
              " 'like mean': 30861,\n",
              " 'mean girls': 34189,\n",
              " 'way acting': 60626,\n",
              " 'way resolve': 60770,\n",
              " 'resolve issue': 45328,\n",
              " 'work like': 62467,\n",
              " 'like like': 30830,\n",
              " 'like know': 30814,\n",
              " 'dress white': 13679,\n",
              " 'know like': 28715,\n",
              " 'like black': 30527,\n",
              " 'cos ur': 9842,\n",
              " 'girl wouldnt': 19491,\n",
              " 'thats stupid': 54228,\n",
              " 'baby dont': 2902,\n",
              " 'dont understand': 13379,\n",
              " 'girl dont': 19448,\n",
              " 'ye thats': 63359,\n",
              " 'thats right': 54213,\n",
              " 'right nbsp': 45775,\n",
              " 'nbsp guys': 36450,\n",
              " 'like watch': 31168,\n",
              " 'tape know': 53403,\n",
              " 'like really': 30983,\n",
              " 'really know': 44256,\n",
              " 'ya': 63270,\n",
              " 'boyfriend': 5376,\n",
              " 'tells': 53797,\n",
              " 'disappointed': 12696,\n",
              " 'mainly': 33122,\n",
              " 'drinking': 13723,\n",
              " 'tired': 56293,\n",
              " 'late': 29298,\n",
              " 'leave': 29669,\n",
              " 'disappointing': 12700,\n",
              " 'predictable': 42172,\n",
              " 'regular': 44848,\n",
              " 'doesnt': 13025,\n",
              " 'want': 59937,\n",
              " 'comes': 8809,\n",
              " 'cheated': 7482,\n",
              " 'broken': 5702,\n",
              " 'reason': 44446,\n",
              " 'person': 40423,\n",
              " 'focusing': 17624,\n",
              " 'thinks': 55285,\n",
              " 'personally': 40533,\n",
              " 'anymore': 1708,\n",
              " 'change': 7294,\n",
              " 'changes': 7358,\n",
              " 'necessary': 36564,\n",
              " 'ya know': 63285,\n",
              " 'disappointed says': 12698,\n",
              " 'says time': 47427,\n",
              " 'time mainly': 55955,\n",
              " 'dont stay': 13357,\n",
              " 'stay late': 51518,\n",
              " 'tired time': 56317,\n",
              " 'time work': 56157,\n",
              " 'work week': 62561,\n",
              " 'things home': 54742,\n",
              " 'home lets': 24080,\n",
              " 'lets know': 30044,\n",
              " 'know doesnt': 28601,\n",
              " 'doesnt want': 13084,\n",
              " 'want doesnt': 59989,\n",
              " 'doesnt know': 13053,\n",
              " 'want feel': 60003,\n",
              " 'feel like': 16688,\n",
              " 'like better': 30521,\n",
              " 'better comes': 4084,\n",
              " 'time girls': 55862,\n",
              " 'like break': 30544,\n",
              " 'think reason': 55105,\n",
              " 'wants wants': 60286,\n",
              " 'personally dont': 40534,\n",
              " 'saying good': 47338,\n",
              " 'popular': 41762,\n",
              " 'uprising': 58520,\n",
              " 'coalition': 8401,\n",
              " 'forces': 17770,\n",
              " 'report': 45207,\n",
              " 'jocks': 27582,\n",
              " 'cheerleaders': 7552,\n",
              " 'rich': 45606,\n",
              " 'situation': 49482,\n",
              " 'hands': 22198,\n",
              " 'members': 34487,\n",
              " 'marching': 33713,\n",
              " 'band': 3167,\n",
              " 'chorus': 7797,\n",
              " 'arts': 2148,\n",
              " 'clubs': 8365,\n",
              " 'remain': 45003,\n",
              " 'coalition forces': 8402,\n",
              " 'rich kids': 45610,\n",
              " 'marching band': 33714,\n",
              " 'hell': 23210,\n",
              " 'confused': 9316,\n",
              " 'hell going': 23224,\n",
              " 'going im': 19954,\n",
              " 'im confused': 25467,\n",
              " 'firmly': 17331,\n",
              " 'completely': 9117,\n",
              " 'unable': 58122,\n",
              " 'comprehend': 9165,\n",
              " 'emotionally': 14660,\n",
              " 'la': 29089,\n",
              " 'chronicles': 7864,\n",
              " 'washing': 60390,\n",
              " 'clothes': 8319,\n",
              " 'gifts': 19410,\n",
              " 'repacking': 45162,\n",
              " 'weekend': 61112,\n",
              " 'wedding': 60962,\n",
              " 'festivities': 16972,\n",
              " 'away': 2700,\n",
              " 'days': 11322,\n",
              " 'meantime': 34321,\n",
              " 'anna': 1559,\n",
              " 'child': 7644,\n",
              " 'read': 43804,\n",
              " 'comment': 8924,\n",
              " 'needs': 36783,\n",
              " 'washing clothes': 60391,\n",
              " 'ill away': 25232,\n",
              " 'yes yes': 63757,\n",
              " 'read comment': 43816,\n",
              " 'comment urllink': 8938,\n",
              " 'james': 27300,\n",
              " 'aunt': 2586,\n",
              " 'pam': 39278,\n",
              " 'left': 29753,\n",
              " 'millionaire': 34899,\n",
              " 'concrete': 9248,\n",
              " 'company': 9027,\n",
              " 'artist': 2143,\n",
              " 'earrings': 14144,\n",
              " 'kid': 28146,\n",
              " 'gorgeous': 20607,\n",
              " 'land': 29209,\n",
              " 'mazatlan': 34139,\n",
              " 'wanted': 60181,\n",
              " 'spring': 51000,\n",
              " 'went': 61333,\n",
              " 'ashland': 2187,\n",
              " 'instead': 26494,\n",
              " 'haha': 21958,\n",
              " 'extent': 15792,\n",
              " 'hung': 24881,\n",
              " 'house': 24646,\n",
              " 'took': 56883,\n",
              " 'christopher': 7858,\n",
              " 'mitchell': 35205,\n",
              " 'look': 32089,\n",
              " 'private': 42517,\n",
              " 'school': 47543,\n",
              " 'accepted': 176,\n",
              " 'weekends': 61175,\n",
              " 'relationship': 44908,\n",
              " 'sure': 52685,\n",
              " 'college': 8571,\n",
              " 'hate': 22664,\n",
              " 'theyre': 54428,\n",
              " 'bunch': 5943,\n",
              " 'pissy': 40979,\n",
              " 'bitches': 4521,\n",
              " 'fucking': 18531,\n",
              " 'dentist': 11979,\n",
              " 'scared': 47460,\n",
              " 'left days': 29763,\n",
              " 'little kid': 31584,\n",
              " 'spring break': 51002,\n",
              " 'break went': 5499,\n",
              " 'thats extent': 54122,\n",
              " 'hung house': 24884,\n",
              " 'house mom': 24689,\n",
              " 'mom took': 35345,\n",
              " 'private school': 42523,\n",
              " 'home weekends': 24155,\n",
              " 'oh great': 38164,\n",
              " 'great relationship': 21247,\n",
              " 'thats sure': 54230,\n",
              " 'sure like': 52732,\n",
              " 'like ive': 30795,\n",
              " 'ive gone': 27116,\n",
              " 'gone college': 20166,\n",
              " 'hate family': 22677,\n",
              " 'family theyre': 16228,\n",
              " 'fucking hell': 18540,\n",
              " 'tomorrow im': 56772,\n",
              " 'im scared': 25771,\n",
              " 'john': 27599,\n",
              " 'important': 26010,\n",
              " 'ii': 25213,\n",
              " 'actively': 321,\n",
              " 'participate': 39483,\n",
              " 'thread': 55526,\n",
              " 'let': 29946,\n",
              " 'present': 42234,\n",
              " 'accounted': 225,\n",
              " 'thanks': 54036,\n",
              " 'ben': 3893,\n",
              " 'inviting': 26805,\n",
              " 'sandbox': 46890,\n",
              " 'missed': 35161,\n",
              " 'discussion': 12764,\n",
              " 'threads': 55528,\n",
              " 'loved': 32767,\n",
              " 'sniff': 49973,\n",
              " 'sob': 50027,\n",
              " 'sputter': 51018,\n",
              " 'shannon': 48572,\n",
              " 'seen episode': 48051,\n",
              " 'episode ii': 15111,\n",
              " 'ii actively': 25214,\n",
              " 'actively participate': 322,\n",
              " 'participate current': 39484,\n",
              " 'current thread': 10567,\n",
              " 'thread wanted': 55527,\n",
              " 'wanted let': 60214,\n",
              " 'let know': 29982,\n",
              " 'know present': 28780,\n",
              " 'present accounted': 42235,\n",
              " 'accounted thanks': 226,\n",
              " 'thanks ben': 54040,\n",
              " 'ben inviting': 3899,\n",
              " 'inviting sandbox': 26806,\n",
              " 'sandbox missed': 46891,\n",
              " 'missed discussion': 35166,\n",
              " 'discussion threads': 12767,\n",
              " 'threads feel': 55529,\n",
              " 'feel loved': 16693,\n",
              " 'loved like': 32774,\n",
              " 'really really': 44330,\n",
              " 'really like': 44262,\n",
              " 'like right': 30998,\n",
              " 'right sniff': 45816,\n",
              " 'sniff sob': 49975,\n",
              " 'sob sputter': 50029,\n",
              " 'news': 37129,\n",
              " 'flash': 17431,\n",
              " 'supposed': 52641,\n",
              " 'high': 23650,\n",
              " 'fricking': 18143,\n",
              " 'degrees': 11837,\n",
              " 'phoenix': 40659,\n",
              " 'solid': 50135,\n",
              " 'news flash': 37139,\n",
              " 'today solid': 56534,\n",
              " 'afternoon': 719,\n",
              " 'couple': 9966,\n",
              " 'intelligent': 26570,\n",
              " 'ppl': 42080,\n",
              " 'credit': 10279,\n",
              " 'chance': 7265,\n",
              " 'date': 10968,\n",
              " 'getting': 19279,\n",
              " 'ffs': 16989,\n",
              " 'personality': 40523,\n",
              " 'fiddle': 17007,\n",
              " 'sachin': 46504,\n",
              " 'pointed': 41575,\n",
              " 'lunch': 32900,\n",
              " 'buti': 6116,\n",
              " 'expectations': 15662,\n",
              " 'couple days': 9969,\n",
              " 'days ive': 11365,\n",
              " 'ive busy': 27073,\n",
              " 'know credit': 28582,\n",
              " 'chance hell': 7275,\n",
              " 'hes good': 23496,\n",
              " 'good im': 20378,\n",
              " 'im getting': 25569,\n",
              " 'getting chance': 19297,\n",
              " 'stupid things': 52245,\n",
              " 'things like': 54758,\n",
              " 'remember expectations': 45039,\n",
              " 'oct': 38033,\n",
              " 'brought': 5745,\n",
              " 'quizilla': 43460,\n",
              " 'dream': 13619,\n",
              " 'true': 57523,\n",
              " 'madonna': 33048,\n",
              " 'urllink oct': 58788,\n",
              " 'oct film': 38034,\n",
              " 'film brought': 17103,\n",
              " 'brought urllink': 5757,\n",
              " 'urllink quizilla': 58819,\n",
              " 'dream come': 13622,\n",
              " 'come true': 8777,\n",
              " 'true little': 57541,\n",
              " 'little girl': 31560,\n",
              " 'girl ive': 19458,\n",
              " 'ive wanted': 27229,\n",
              " 'slightly': 49732,\n",
              " 'coincidental': 8487,\n",
              " 'greece': 21297,\n",
              " 'prevailed': 42417,\n",
              " 'sport': 50961,\n",
              " 'soccer': 50039,\n",
              " 'european': 15299,\n",
              " 'championships': 7261,\n",
              " 'held': 23201,\n",
              " 'country': 9923,\n",
              " 'portugal': 41812,\n",
              " 'troy': 57508,\n",
              " 'dvd': 14031,\n",
              " 'guessed': 21629,\n",
              " 'plays': 41360,\n",
              " 'integral': 26559,\n",
              " 'todays': 56606,\n",
              " 'society': 50070,\n",
              " 'exemplified': 15596,\n",
              " 'hordes': 24391,\n",
              " 'people': 39931,\n",
              " 'gathering': 19041,\n",
              " 'respective': 45348,\n",
              " 'cultural': 10492,\n",
              " 'centres': 7152,\n",
              " 'yesterdays': 63825,\n",
              " 'thrilling': 55553,\n",
              " 'final': 17124,\n",
              " 'play': 41214,\n",
              " 'successfully': 52342,\n",
              " 'lives': 31779,\n",
              " 'miserable': 35105,\n",
              " 'tennis': 53848,\n",
              " 'basketball': 3371,\n",
              " 'rugby': 46354,\n",
              " 'kind': 28258,\n",
              " 'emotion': 14654,\n",
              " 'wimbledon': 61831,\n",
              " 'sharapova': 48584,\n",
              " 'champions': 7259,\n",
              " 'end': 14732,\n",
              " 'matches': 33906,\n",
              " 'example': 15481,\n",
              " 'pure': 43117,\n",
              " 'ecstasy': 14322,\n",
              " 'joy': 27746,\n",
              " 'goodness': 20568,\n",
              " 'positive': 41832,\n",
              " 'seemingly': 48041,\n",
              " 'random': 43659,\n",
              " 'state': 51435,\n",
              " 'unsurprisingly': 58445,\n",
              " 'arena': 1969,\n",
              " 'andy': 1479,\n",
              " 'england': 14891,\n",
              " 'club': 8351,\n",
              " 'threw': 55545,\n",
              " 'kitchen': 28414,\n",
              " 'sink': 49349,\n",
              " 'bathroom': 3414,\n",
              " 'tub': 57772,\n",
              " 'press': 42282,\n",
              " 'conference': 9279,\n",
              " 'long': 31969,\n",
              " 'skirt': 49551,\n",
              " 'short': 48901,\n",
              " 'champion': 7258,\n",
              " 'crash': 10190,\n",
              " 'humour': 24868,\n",
              " 'daily': 10756,\n",
              " 'drudgery': 13826,\n",
              " 'funny': 18744,\n",
              " 'goodwill': 20578,\n",
              " 'gracious': 21015,\n",
              " 'defeat': 11762,\n",
              " 'ronaldo': 46148,\n",
              " 'crying': 10445,\n",
              " 'euro': 15296,\n",
              " 'bringing': 5651,\n",
              " 'sheer': 48649,\n",
              " 'delight': 11876,\n",
              " 'king': 28367,\n",
              " 'embracing': 14627,\n",
              " 'successful': 52338,\n",
              " 'troops': 57474,\n",
              " 'permanently': 40395,\n",
              " 'remove': 45130,\n",
              " 'hisher': 23779,\n",
              " 'negative': 36804,\n",
              " 'beliefs': 3774,\n",
              " 'consuming': 9481,\n",
              " 'media': 34346,\n",
              " 'nowadays': 37798,\n",
              " 'usually': 59072,\n",
              " 'sees': 48096,\n",
              " 'negatives': 36808,\n",
              " 'drugs': 13835,\n",
              " 'athletics': 2450,\n",
              " 'cycling': 10687,\n",
              " 'sad': 46514,\n",
              " 'view': 59399,\n",
              " 'hundreds': 24877,\n",
              " 'disgust': 12780,\n",
              " 'disgusts': 12786,\n",
              " 'longer': 32060,\n",
              " 'live': 31698,\n",
              " 'age': 756,\n",
              " 'constantly': 9450,\n",
              " 'brainwashed': 5425,\n",
              " 'tactics': 53097,\n",
              " 'tonight': 56822,\n",
              " 'marks': 33773,\n",
              " 'era': 15142,\n",
              " 'underdogs': 58196,\n",
              " 'embrace': 14624,\n",
              " 'deny': 11984,\n",
              " 'totally': 57008,\n",
              " 'organise': 38826,\n",
              " 'zone': 64181,\n",
              " 'andys': 1484,\n",
              " 'obviously': 37991,\n",
              " 'drunk': 13861,\n",
              " 'condone': 9269,\n",
              " 'alcohol': 1074,\n",
              " 'cougars': 9876,\n",
              " 'thanx': 54075,\n",
              " 'reading': 43909,\n",
              " 'plenty': 41393,\n",
              " ...}"
            ]
          },
          "metadata": {
            "tags": []
          },
          "execution_count": 153
        }
      ]
    },
    {
      "cell_type": "code",
      "metadata": {
        "id": "iGDPkcvANktl",
        "outputId": "8236e3c5-e0a5-4bcb-b4e9-2d1ca8dc39e7",
        "colab": {
          "base_uri": "https://localhost:8080/",
          "height": 87
        }
      },
      "source": [
        "X_train , X_test"
      ],
      "execution_count": 154,
      "outputs": [
        {
          "output_type": "execute_result",
          "data": {
            "text/plain": [
              "(<7500x64193 sparse matrix of type '<class 'numpy.int64'>'\n",
              " \twith 548004 stored elements in Compressed Sparse Row format>,\n",
              " <2500x64193 sparse matrix of type '<class 'numpy.int64'>'\n",
              " \twith 153455 stored elements in Compressed Sparse Row format>)"
            ]
          },
          "metadata": {
            "tags": []
          },
          "execution_count": 154
        }
      ]
    },
    {
      "cell_type": "code",
      "metadata": {
        "id": "lfoI8_1iNZML",
        "outputId": "e5a2e9c7-8656-4049-cea1-dcbd1492e5ed",
        "colab": {
          "base_uri": "https://localhost:8080/",
          "height": 146
        }
      },
      "source": [
        "pd.DataFrame(X_train[1:2].toarray(), columns = vectorizer.get_feature_names())"
      ],
      "execution_count": 155,
      "outputs": [
        {
          "output_type": "execute_result",
          "data": {
            "text/html": [
              "<div>\n",
              "<style scoped>\n",
              "    .dataframe tbody tr th:only-of-type {\n",
              "        vertical-align: middle;\n",
              "    }\n",
              "\n",
              "    .dataframe tbody tr th {\n",
              "        vertical-align: top;\n",
              "    }\n",
              "\n",
              "    .dataframe thead th {\n",
              "        text-align: right;\n",
              "    }\n",
              "</style>\n",
              "<table border=\"1\" class=\"dataframe\">\n",
              "  <thead>\n",
              "    <tr style=\"text-align: right;\">\n",
              "      <th></th>\n",
              "      <th>aa</th>\n",
              "      <th>aaron</th>\n",
              "      <th>aaron im</th>\n",
              "      <th>aarons</th>\n",
              "      <th>ab</th>\n",
              "      <th>aba</th>\n",
              "      <th>aback</th>\n",
              "      <th>aback bit</th>\n",
              "      <th>abandon</th>\n",
              "      <th>abandoned</th>\n",
              "      <th>abandoning</th>\n",
              "      <th>abandonment</th>\n",
              "      <th>abbey</th>\n",
              "      <th>abbott</th>\n",
              "      <th>abby</th>\n",
              "      <th>abc</th>\n",
              "      <th>abc news</th>\n",
              "      <th>abcnewscom</th>\n",
              "      <th>abercrombie</th>\n",
              "      <th>aberrant</th>\n",
              "      <th>abhor</th>\n",
              "      <th>abide</th>\n",
              "      <th>abilities</th>\n",
              "      <th>ability</th>\n",
              "      <th>ability function</th>\n",
              "      <th>ability generate</th>\n",
              "      <th>ability make</th>\n",
              "      <th>able</th>\n",
              "      <th>able answer</th>\n",
              "      <th>able avoid</th>\n",
              "      <th>able blow</th>\n",
              "      <th>able buy</th>\n",
              "      <th>able car</th>\n",
              "      <th>able catch</th>\n",
              "      <th>able check</th>\n",
              "      <th>able close</th>\n",
              "      <th>able come</th>\n",
              "      <th>able communicate</th>\n",
              "      <th>able create</th>\n",
              "      <th>able decide</th>\n",
              "      <th>...</th>\n",
              "      <th>zelo</th>\n",
              "      <th>zen</th>\n",
              "      <th>zenith</th>\n",
              "      <th>zeppelin</th>\n",
              "      <th>zero</th>\n",
              "      <th>zero tolerance</th>\n",
              "      <th>zhadoxero</th>\n",
              "      <th>zhao</th>\n",
              "      <th>zheng</th>\n",
              "      <th>zhentarim</th>\n",
              "      <th>zhentil</th>\n",
              "      <th>ziggy</th>\n",
              "      <th>ziggy stardust</th>\n",
              "      <th>zillion</th>\n",
              "      <th>zimbabwe</th>\n",
              "      <th>zimmer</th>\n",
              "      <th>zion</th>\n",
              "      <th>zionist</th>\n",
              "      <th>zip</th>\n",
              "      <th>zip code</th>\n",
              "      <th>zipper</th>\n",
              "      <th>zipping</th>\n",
              "      <th>zmx</th>\n",
              "      <th>zodiac</th>\n",
              "      <th>zodiac forecasts</th>\n",
              "      <th>zodiac sign</th>\n",
              "      <th>zoe</th>\n",
              "      <th>zombie</th>\n",
              "      <th>zone</th>\n",
              "      <th>zones</th>\n",
              "      <th>zoo</th>\n",
              "      <th>zoo animal</th>\n",
              "      <th>zoolander</th>\n",
              "      <th>zoom</th>\n",
              "      <th>zoomed</th>\n",
              "      <th>zooming</th>\n",
              "      <th>zooms</th>\n",
              "      <th>zoos</th>\n",
              "      <th>zuluchim</th>\n",
              "      <th>zzzs</th>\n",
              "    </tr>\n",
              "  </thead>\n",
              "  <tbody>\n",
              "    <tr>\n",
              "      <th>0</th>\n",
              "      <td>0</td>\n",
              "      <td>0</td>\n",
              "      <td>0</td>\n",
              "      <td>0</td>\n",
              "      <td>0</td>\n",
              "      <td>0</td>\n",
              "      <td>0</td>\n",
              "      <td>0</td>\n",
              "      <td>0</td>\n",
              "      <td>0</td>\n",
              "      <td>0</td>\n",
              "      <td>0</td>\n",
              "      <td>0</td>\n",
              "      <td>0</td>\n",
              "      <td>0</td>\n",
              "      <td>0</td>\n",
              "      <td>0</td>\n",
              "      <td>0</td>\n",
              "      <td>0</td>\n",
              "      <td>0</td>\n",
              "      <td>0</td>\n",
              "      <td>0</td>\n",
              "      <td>0</td>\n",
              "      <td>0</td>\n",
              "      <td>0</td>\n",
              "      <td>0</td>\n",
              "      <td>0</td>\n",
              "      <td>0</td>\n",
              "      <td>0</td>\n",
              "      <td>0</td>\n",
              "      <td>0</td>\n",
              "      <td>0</td>\n",
              "      <td>0</td>\n",
              "      <td>0</td>\n",
              "      <td>0</td>\n",
              "      <td>0</td>\n",
              "      <td>0</td>\n",
              "      <td>0</td>\n",
              "      <td>0</td>\n",
              "      <td>0</td>\n",
              "      <td>...</td>\n",
              "      <td>0</td>\n",
              "      <td>0</td>\n",
              "      <td>0</td>\n",
              "      <td>0</td>\n",
              "      <td>0</td>\n",
              "      <td>0</td>\n",
              "      <td>0</td>\n",
              "      <td>0</td>\n",
              "      <td>0</td>\n",
              "      <td>0</td>\n",
              "      <td>0</td>\n",
              "      <td>0</td>\n",
              "      <td>0</td>\n",
              "      <td>0</td>\n",
              "      <td>0</td>\n",
              "      <td>0</td>\n",
              "      <td>0</td>\n",
              "      <td>0</td>\n",
              "      <td>0</td>\n",
              "      <td>0</td>\n",
              "      <td>0</td>\n",
              "      <td>0</td>\n",
              "      <td>0</td>\n",
              "      <td>0</td>\n",
              "      <td>0</td>\n",
              "      <td>0</td>\n",
              "      <td>0</td>\n",
              "      <td>0</td>\n",
              "      <td>0</td>\n",
              "      <td>0</td>\n",
              "      <td>0</td>\n",
              "      <td>0</td>\n",
              "      <td>0</td>\n",
              "      <td>0</td>\n",
              "      <td>0</td>\n",
              "      <td>0</td>\n",
              "      <td>0</td>\n",
              "      <td>0</td>\n",
              "      <td>0</td>\n",
              "      <td>0</td>\n",
              "    </tr>\n",
              "  </tbody>\n",
              "</table>\n",
              "<p>1 rows × 64193 columns</p>\n",
              "</div>"
            ],
            "text/plain": [
              "   aa  aaron  aaron im  aarons  ab  ...  zooming  zooms  zoos  zuluchim  zzzs\n",
              "0   0      0         0       0   0  ...        0      0     0         0     0\n",
              "\n",
              "[1 rows x 64193 columns]"
            ]
          },
          "metadata": {
            "tags": []
          },
          "execution_count": 155
        }
      ]
    },
    {
      "cell_type": "code",
      "metadata": {
        "id": "mzqgmMRLO38M",
        "outputId": "d882f44f-435b-46b2-a173-14977630d6ab",
        "colab": {
          "base_uri": "https://localhost:8080/",
          "height": 146
        }
      },
      "source": [
        "pd.DataFrame(X_test[1:2].toarray(), columns = vectorizer.get_feature_names())"
      ],
      "execution_count": 156,
      "outputs": [
        {
          "output_type": "execute_result",
          "data": {
            "text/html": [
              "<div>\n",
              "<style scoped>\n",
              "    .dataframe tbody tr th:only-of-type {\n",
              "        vertical-align: middle;\n",
              "    }\n",
              "\n",
              "    .dataframe tbody tr th {\n",
              "        vertical-align: top;\n",
              "    }\n",
              "\n",
              "    .dataframe thead th {\n",
              "        text-align: right;\n",
              "    }\n",
              "</style>\n",
              "<table border=\"1\" class=\"dataframe\">\n",
              "  <thead>\n",
              "    <tr style=\"text-align: right;\">\n",
              "      <th></th>\n",
              "      <th>aa</th>\n",
              "      <th>aaron</th>\n",
              "      <th>aaron im</th>\n",
              "      <th>aarons</th>\n",
              "      <th>ab</th>\n",
              "      <th>aba</th>\n",
              "      <th>aback</th>\n",
              "      <th>aback bit</th>\n",
              "      <th>abandon</th>\n",
              "      <th>abandoned</th>\n",
              "      <th>abandoning</th>\n",
              "      <th>abandonment</th>\n",
              "      <th>abbey</th>\n",
              "      <th>abbott</th>\n",
              "      <th>abby</th>\n",
              "      <th>abc</th>\n",
              "      <th>abc news</th>\n",
              "      <th>abcnewscom</th>\n",
              "      <th>abercrombie</th>\n",
              "      <th>aberrant</th>\n",
              "      <th>abhor</th>\n",
              "      <th>abide</th>\n",
              "      <th>abilities</th>\n",
              "      <th>ability</th>\n",
              "      <th>ability function</th>\n",
              "      <th>ability generate</th>\n",
              "      <th>ability make</th>\n",
              "      <th>able</th>\n",
              "      <th>able answer</th>\n",
              "      <th>able avoid</th>\n",
              "      <th>able blow</th>\n",
              "      <th>able buy</th>\n",
              "      <th>able car</th>\n",
              "      <th>able catch</th>\n",
              "      <th>able check</th>\n",
              "      <th>able close</th>\n",
              "      <th>able come</th>\n",
              "      <th>able communicate</th>\n",
              "      <th>able create</th>\n",
              "      <th>able decide</th>\n",
              "      <th>...</th>\n",
              "      <th>zelo</th>\n",
              "      <th>zen</th>\n",
              "      <th>zenith</th>\n",
              "      <th>zeppelin</th>\n",
              "      <th>zero</th>\n",
              "      <th>zero tolerance</th>\n",
              "      <th>zhadoxero</th>\n",
              "      <th>zhao</th>\n",
              "      <th>zheng</th>\n",
              "      <th>zhentarim</th>\n",
              "      <th>zhentil</th>\n",
              "      <th>ziggy</th>\n",
              "      <th>ziggy stardust</th>\n",
              "      <th>zillion</th>\n",
              "      <th>zimbabwe</th>\n",
              "      <th>zimmer</th>\n",
              "      <th>zion</th>\n",
              "      <th>zionist</th>\n",
              "      <th>zip</th>\n",
              "      <th>zip code</th>\n",
              "      <th>zipper</th>\n",
              "      <th>zipping</th>\n",
              "      <th>zmx</th>\n",
              "      <th>zodiac</th>\n",
              "      <th>zodiac forecasts</th>\n",
              "      <th>zodiac sign</th>\n",
              "      <th>zoe</th>\n",
              "      <th>zombie</th>\n",
              "      <th>zone</th>\n",
              "      <th>zones</th>\n",
              "      <th>zoo</th>\n",
              "      <th>zoo animal</th>\n",
              "      <th>zoolander</th>\n",
              "      <th>zoom</th>\n",
              "      <th>zoomed</th>\n",
              "      <th>zooming</th>\n",
              "      <th>zooms</th>\n",
              "      <th>zoos</th>\n",
              "      <th>zuluchim</th>\n",
              "      <th>zzzs</th>\n",
              "    </tr>\n",
              "  </thead>\n",
              "  <tbody>\n",
              "    <tr>\n",
              "      <th>0</th>\n",
              "      <td>0</td>\n",
              "      <td>0</td>\n",
              "      <td>0</td>\n",
              "      <td>0</td>\n",
              "      <td>0</td>\n",
              "      <td>0</td>\n",
              "      <td>0</td>\n",
              "      <td>0</td>\n",
              "      <td>0</td>\n",
              "      <td>0</td>\n",
              "      <td>0</td>\n",
              "      <td>0</td>\n",
              "      <td>0</td>\n",
              "      <td>0</td>\n",
              "      <td>0</td>\n",
              "      <td>0</td>\n",
              "      <td>0</td>\n",
              "      <td>0</td>\n",
              "      <td>0</td>\n",
              "      <td>0</td>\n",
              "      <td>0</td>\n",
              "      <td>0</td>\n",
              "      <td>0</td>\n",
              "      <td>0</td>\n",
              "      <td>0</td>\n",
              "      <td>0</td>\n",
              "      <td>0</td>\n",
              "      <td>0</td>\n",
              "      <td>0</td>\n",
              "      <td>0</td>\n",
              "      <td>0</td>\n",
              "      <td>0</td>\n",
              "      <td>0</td>\n",
              "      <td>0</td>\n",
              "      <td>0</td>\n",
              "      <td>0</td>\n",
              "      <td>0</td>\n",
              "      <td>0</td>\n",
              "      <td>0</td>\n",
              "      <td>0</td>\n",
              "      <td>...</td>\n",
              "      <td>0</td>\n",
              "      <td>0</td>\n",
              "      <td>0</td>\n",
              "      <td>0</td>\n",
              "      <td>0</td>\n",
              "      <td>0</td>\n",
              "      <td>0</td>\n",
              "      <td>0</td>\n",
              "      <td>0</td>\n",
              "      <td>0</td>\n",
              "      <td>0</td>\n",
              "      <td>0</td>\n",
              "      <td>0</td>\n",
              "      <td>0</td>\n",
              "      <td>0</td>\n",
              "      <td>0</td>\n",
              "      <td>0</td>\n",
              "      <td>0</td>\n",
              "      <td>0</td>\n",
              "      <td>0</td>\n",
              "      <td>0</td>\n",
              "      <td>0</td>\n",
              "      <td>0</td>\n",
              "      <td>0</td>\n",
              "      <td>0</td>\n",
              "      <td>0</td>\n",
              "      <td>0</td>\n",
              "      <td>0</td>\n",
              "      <td>0</td>\n",
              "      <td>0</td>\n",
              "      <td>0</td>\n",
              "      <td>0</td>\n",
              "      <td>0</td>\n",
              "      <td>0</td>\n",
              "      <td>0</td>\n",
              "      <td>0</td>\n",
              "      <td>0</td>\n",
              "      <td>0</td>\n",
              "      <td>0</td>\n",
              "      <td>0</td>\n",
              "    </tr>\n",
              "  </tbody>\n",
              "</table>\n",
              "<p>1 rows × 64193 columns</p>\n",
              "</div>"
            ],
            "text/plain": [
              "   aa  aaron  aaron im  aarons  ab  ...  zooming  zooms  zoos  zuluchim  zzzs\n",
              "0   0      0         0       0   0  ...        0      0     0         0     0\n",
              "\n",
              "[1 rows x 64193 columns]"
            ]
          },
          "metadata": {
            "tags": []
          },
          "execution_count": 156
        }
      ]
    },
    {
      "cell_type": "code",
      "metadata": {
        "id": "D8zd1ZGPPP9P",
        "outputId": "1a86939d-402d-4fde-c1e7-2bcc318ad8ee",
        "colab": {
          "base_uri": "https://localhost:8080/",
          "height": 225
        }
      },
      "source": [
        "y"
      ],
      "execution_count": 157,
      "outputs": [
        {
          "output_type": "execute_result",
          "data": {
            "text/plain": [
              "0                      male,15,student,leo\n",
              "1                      male,15,student,leo\n",
              "2                      male,15,student,leo\n",
              "3                      male,15,student,leo\n",
              "4       male,33,investmentbanking,aquarius\n",
              "                       ...                \n",
              "9995               female,25,indunk,pisces\n",
              "9996               female,25,indunk,pisces\n",
              "9997               female,25,indunk,pisces\n",
              "9998               female,25,indunk,pisces\n",
              "9999               female,25,indunk,pisces\n",
              "Name: labels, Length: 10000, dtype: object"
            ]
          },
          "metadata": {
            "tags": []
          },
          "execution_count": 157
        }
      ]
    },
    {
      "cell_type": "code",
      "metadata": {
        "id": "RnUbT7sqPCDH"
      },
      "source": [
        "# vectorizer_labels = CountVectorizer(min_df = 1,ngram_range = (1,1),stop_words = \"english\")\n",
        "# # labels_vector = vectorizer_labels.fit_transform(y)\n"
      ],
      "execution_count": 124,
      "outputs": []
    },
    {
      "cell_type": "code",
      "metadata": {
        "id": "JI46nYu5PG4t"
      },
      "source": [
        "# label_classes=[]\n",
        "# for  key in vectorizer_labels.vocabulary_.keys():\n",
        "#   label_classes.append(key)\n"
      ],
      "execution_count": 36,
      "outputs": []
    },
    {
      "cell_type": "code",
      "metadata": {
        "id": "WEUHv4SFLyxV"
      },
      "source": [
        "label = MultiLabelBinarizer()\n"
      ],
      "execution_count": 137,
      "outputs": []
    },
    {
      "cell_type": "code",
      "metadata": {
        "id": "i63QrXwzPXiK"
      },
      "source": [
        "y_train1 = [set(i.split(',')) for i in y_train]\n",
        "y_test1 = [set(i.split(',')) for i in y_test]"
      ],
      "execution_count": 138,
      "outputs": []
    },
    {
      "cell_type": "code",
      "metadata": {
        "id": "X5d-RHC4N1-c"
      },
      "source": [
        "y_train_lbl = label.fit_transform(y_train1)"
      ],
      "execution_count": 139,
      "outputs": []
    },
    {
      "cell_type": "code",
      "metadata": {
        "id": "TEjQdpA2N9Ce"
      },
      "source": [
        "y_test_lbl = label.transform(y_test1)"
      ],
      "execution_count": 140,
      "outputs": []
    },
    {
      "cell_type": "code",
      "metadata": {
        "id": "nuOeBfsROEyQ",
        "outputId": "f769eb90-fafb-461e-9583-626ea5a452e5",
        "colab": {
          "base_uri": "https://localhost:8080/",
          "height": 953
        }
      },
      "source": [
        "y_train_lbl[1:10], y_test_lbl[1:10]"
      ],
      "execution_count": 98,
      "outputs": [
        {
          "output_type": "execute_result",
          "data": {
            "text/plain": [
              "(array([[0, 0, 0, 0, 0, 0, 0, 0, 0, 0, 0, 0, 0, 1, 0, 0, 0, 0, 0, 0, 0, 0,\n",
              "         0, 0, 0, 0, 1, 0, 0, 0, 0, 0, 0, 0, 0, 0, 0, 1, 0, 0, 0, 0, 0, 0,\n",
              "         0, 0, 0, 0, 1, 0, 0, 0, 0, 0, 0, 0, 0, 0, 0, 0, 0, 0, 0, 0],\n",
              "        [0, 0, 1, 0, 0, 0, 0, 0, 0, 0, 0, 0, 0, 0, 0, 0, 0, 0, 0, 0, 0, 0,\n",
              "         0, 0, 0, 0, 0, 0, 0, 0, 0, 0, 0, 0, 0, 0, 0, 0, 0, 0, 0, 0, 0, 0,\n",
              "         0, 0, 0, 0, 1, 0, 0, 0, 0, 0, 0, 0, 0, 0, 0, 1, 0, 0, 0, 1],\n",
              "        [0, 0, 0, 0, 0, 0, 0, 0, 0, 0, 0, 0, 1, 0, 0, 0, 0, 0, 0, 0, 0, 0,\n",
              "         0, 0, 0, 0, 1, 0, 0, 0, 0, 0, 0, 0, 0, 0, 0, 0, 0, 0, 0, 0, 0, 0,\n",
              "         0, 0, 0, 0, 1, 0, 0, 0, 0, 0, 0, 0, 0, 0, 0, 0, 0, 1, 0, 0],\n",
              "        [0, 0, 0, 0, 0, 0, 0, 0, 0, 1, 0, 0, 0, 0, 0, 0, 0, 0, 0, 0, 0, 0,\n",
              "         0, 0, 0, 0, 0, 0, 0, 0, 0, 0, 0, 0, 0, 0, 0, 0, 1, 0, 0, 1, 0, 0,\n",
              "         0, 0, 0, 0, 0, 0, 0, 0, 0, 0, 0, 0, 0, 0, 0, 0, 1, 0, 0, 0],\n",
              "        [0, 0, 0, 0, 0, 0, 0, 0, 0, 0, 0, 0, 0, 1, 0, 0, 0, 0, 0, 0, 0, 0,\n",
              "         0, 0, 0, 0, 1, 0, 0, 0, 0, 0, 0, 0, 0, 0, 0, 1, 0, 0, 0, 0, 0, 0,\n",
              "         0, 0, 0, 0, 1, 0, 0, 0, 0, 0, 0, 0, 0, 0, 0, 0, 0, 0, 0, 0],\n",
              "        [0, 0, 0, 0, 0, 0, 0, 0, 0, 0, 0, 0, 0, 0, 0, 0, 1, 0, 0, 0, 0, 0,\n",
              "         0, 0, 0, 0, 0, 0, 0, 0, 0, 0, 0, 1, 0, 0, 0, 0, 0, 0, 0, 0, 0, 0,\n",
              "         0, 0, 0, 1, 1, 0, 0, 0, 0, 0, 0, 0, 0, 0, 0, 0, 0, 0, 0, 0],\n",
              "        [0, 0, 0, 0, 0, 0, 1, 0, 0, 0, 0, 0, 0, 0, 0, 0, 0, 0, 0, 0, 0, 0,\n",
              "         0, 0, 0, 0, 0, 0, 0, 0, 0, 0, 0, 0, 0, 0, 0, 0, 1, 0, 0, 1, 0, 0,\n",
              "         0, 0, 0, 0, 0, 0, 0, 0, 0, 0, 0, 0, 0, 1, 0, 0, 0, 0, 0, 0],\n",
              "        [0, 0, 0, 0, 0, 0, 0, 0, 0, 0, 0, 0, 0, 1, 0, 0, 0, 0, 0, 0, 0, 0,\n",
              "         0, 0, 0, 0, 1, 0, 0, 0, 0, 0, 0, 0, 0, 0, 0, 1, 0, 0, 0, 0, 0, 0,\n",
              "         0, 0, 0, 0, 1, 0, 0, 0, 0, 0, 0, 0, 0, 0, 0, 0, 0, 0, 0, 0],\n",
              "        [0, 0, 0, 0, 0, 0, 0, 0, 0, 1, 0, 0, 0, 0, 0, 0, 0, 0, 0, 0, 0, 0,\n",
              "         0, 0, 0, 0, 0, 0, 0, 0, 0, 0, 0, 0, 0, 0, 0, 0, 1, 0, 0, 1, 0, 0,\n",
              "         0, 0, 0, 0, 0, 0, 0, 0, 0, 0, 0, 0, 0, 0, 0, 0, 1, 0, 0, 0]]),\n",
              " array([[0, 1, 0, 0, 0, 0, 0, 0, 0, 0, 0, 0, 0, 0, 0, 0, 0, 0, 0, 0, 0, 0,\n",
              "         0, 0, 0, 0, 0, 0, 0, 0, 0, 0, 0, 0, 0, 0, 0, 0, 0, 0, 0, 0, 0, 0,\n",
              "         0, 0, 0, 0, 1, 0, 0, 0, 1, 0, 0, 0, 0, 0, 0, 1, 0, 0, 0, 0],\n",
              "        [0, 0, 0, 0, 1, 0, 0, 0, 0, 0, 0, 0, 0, 0, 0, 0, 0, 0, 0, 0, 0, 0,\n",
              "         0, 0, 0, 0, 0, 0, 0, 0, 0, 0, 0, 0, 0, 0, 0, 0, 1, 0, 0, 1, 0, 0,\n",
              "         0, 0, 0, 0, 0, 0, 0, 0, 0, 0, 0, 0, 0, 1, 0, 0, 0, 0, 0, 0],\n",
              "        [0, 0, 0, 0, 0, 0, 0, 0, 0, 0, 0, 0, 0, 1, 0, 0, 0, 0, 0, 0, 0, 0,\n",
              "         0, 0, 0, 0, 0, 0, 0, 0, 0, 0, 0, 0, 0, 0, 0, 0, 1, 0, 0, 1, 0, 0,\n",
              "         0, 0, 0, 0, 0, 0, 0, 0, 1, 0, 0, 0, 0, 0, 0, 0, 0, 0, 0, 0],\n",
              "        [0, 0, 0, 0, 1, 0, 0, 0, 0, 0, 0, 0, 0, 0, 0, 0, 0, 0, 0, 0, 0, 0,\n",
              "         0, 0, 0, 0, 0, 0, 0, 0, 0, 0, 0, 0, 0, 0, 0, 0, 1, 0, 0, 1, 0, 0,\n",
              "         0, 0, 0, 0, 0, 0, 0, 0, 0, 0, 0, 0, 0, 1, 0, 0, 0, 0, 0, 0],\n",
              "        [0, 1, 0, 0, 0, 0, 0, 0, 0, 0, 0, 0, 0, 0, 0, 0, 0, 0, 0, 0, 0, 0,\n",
              "         0, 0, 0, 0, 0, 0, 0, 0, 0, 1, 0, 0, 0, 0, 0, 0, 0, 0, 0, 0, 0, 0,\n",
              "         0, 0, 0, 0, 1, 0, 0, 0, 0, 0, 0, 0, 0, 0, 0, 1, 0, 0, 0, 0],\n",
              "        [0, 0, 0, 0, 0, 0, 0, 0, 0, 0, 0, 0, 1, 0, 0, 0, 0, 0, 0, 0, 0, 0,\n",
              "         0, 0, 0, 0, 1, 0, 0, 0, 0, 0, 0, 0, 0, 0, 0, 0, 0, 0, 0, 0, 0, 0,\n",
              "         0, 0, 0, 0, 1, 0, 0, 0, 0, 0, 0, 0, 0, 0, 0, 0, 0, 1, 0, 0],\n",
              "        [0, 0, 0, 0, 0, 0, 0, 0, 0, 0, 0, 0, 1, 0, 0, 0, 0, 0, 0, 0, 0, 0,\n",
              "         0, 0, 0, 0, 1, 0, 0, 0, 0, 0, 0, 0, 0, 0, 0, 0, 0, 0, 0, 0, 0, 0,\n",
              "         0, 0, 0, 0, 1, 0, 0, 0, 0, 0, 0, 0, 0, 0, 0, 0, 0, 1, 0, 0],\n",
              "        [0, 0, 0, 0, 0, 0, 0, 0, 0, 0, 0, 0, 1, 0, 0, 0, 0, 0, 0, 0, 0, 0,\n",
              "         0, 0, 0, 0, 1, 0, 0, 0, 0, 0, 0, 0, 0, 0, 0, 0, 0, 0, 0, 0, 0, 0,\n",
              "         0, 0, 0, 0, 1, 0, 0, 0, 0, 0, 0, 0, 0, 0, 0, 0, 0, 1, 0, 0],\n",
              "        [0, 0, 0, 1, 0, 0, 0, 0, 0, 0, 0, 0, 0, 0, 0, 0, 0, 0, 0, 0, 0, 0,\n",
              "         0, 0, 0, 0, 0, 0, 0, 0, 0, 0, 1, 0, 0, 0, 0, 0, 1, 0, 0, 1, 0, 0,\n",
              "         0, 0, 0, 0, 0, 0, 0, 0, 0, 0, 0, 0, 0, 0, 0, 0, 0, 0, 0, 0]]))"
            ]
          },
          "metadata": {
            "tags": []
          },
          "execution_count": 98
        }
      ]
    },
    {
      "cell_type": "code",
      "metadata": {
        "id": "vSNXKyFSQXV1"
      },
      "source": [
        "label.classes"
      ],
      "execution_count": 99,
      "outputs": []
    },
    {
      "cell_type": "code",
      "metadata": {
        "id": "q0vMxfn78v01",
        "outputId": "c9a941a3-7c08-4230-c3d3-bfc37045c72d",
        "colab": {
          "base_uri": "https://localhost:8080/",
          "height": 35
        }
      },
      "source": [
        "#now the classes are reduced with reduced data. only 64 classes are present compared to earlier use case which had 80 classes to predict\n",
        "len(label.classes_)"
      ],
      "execution_count": 100,
      "outputs": [
        {
          "output_type": "execute_result",
          "data": {
            "text/plain": [
              "64"
            ]
          },
          "metadata": {
            "tags": []
          },
          "execution_count": 100
        }
      ]
    },
    {
      "cell_type": "code",
      "metadata": {
        "id": "lCfK7EXWOFTP"
      },
      "source": [
        "lr = LogisticRegression(solver='lbfgs', multi_class='ovr')\n",
        "svc = LinearSVC()\n"
      ],
      "execution_count": 141,
      "outputs": []
    },
    {
      "cell_type": "code",
      "metadata": {
        "id": "o_YlfeZ5PLgZ",
        "outputId": "5c16898f-2529-4e52-af47-8692da0fdf08",
        "colab": {
          "base_uri": "https://localhost:8080/",
          "height": 191
        }
      },
      "source": [
        "clf = OneVsRestClassifier(lr)\n",
        "clf.fit(X_train, y_train_lbl)\n"
      ],
      "execution_count": 142,
      "outputs": [
        {
          "output_type": "execute_result",
          "data": {
            "text/plain": [
              "OneVsRestClassifier(estimator=LogisticRegression(C=1.0, class_weight=None,\n",
              "                                                 dual=False, fit_intercept=True,\n",
              "                                                 intercept_scaling=1,\n",
              "                                                 l1_ratio=None, max_iter=100,\n",
              "                                                 multi_class='ovr', n_jobs=None,\n",
              "                                                 penalty='l2',\n",
              "                                                 random_state=None,\n",
              "                                                 solver='lbfgs', tol=0.0001,\n",
              "                                                 verbose=0, warm_start=False),\n",
              "                    n_jobs=None)"
            ]
          },
          "metadata": {
            "tags": []
          },
          "execution_count": 142
        }
      ]
    },
    {
      "cell_type": "code",
      "metadata": {
        "id": "pE67TxFqxrFQ"
      },
      "source": [
        "#predict probab of first data\n",
        "y_proba_ovr = clf.predict_proba(X_test)[:1]"
      ],
      "execution_count": 157,
      "outputs": []
    },
    {
      "cell_type": "code",
      "metadata": {
        "id": "6HD8MLVsxtGW",
        "outputId": "24732f01-8352-4cdf-a821-2f5851fd98f2",
        "colab": {
          "base_uri": "https://localhost:8080/",
          "height": 35
        }
      },
      "source": [
        "import numpy as np\n",
        "np.argmax(y_proba_ovr)"
      ],
      "execution_count": 158,
      "outputs": [
        {
          "output_type": "execute_result",
          "data": {
            "text/plain": [
              "48"
            ]
          },
          "metadata": {
            "tags": []
          },
          "execution_count": 158
        }
      ]
    },
    {
      "cell_type": "code",
      "metadata": {
        "id": "NFJeVpLuPN9k",
        "outputId": "581d5684-0356-4e50-f8c5-5a69e673ddd6",
        "colab": {
          "base_uri": "https://localhost:8080/",
          "height": 1000
        }
      },
      "source": [
        "y_pred = clf.predict(X_test)\n",
        "\n",
        "print(classification_report(y_test_lbl, y_pred))"
      ],
      "execution_count": 143,
      "outputs": [
        {
          "output_type": "stream",
          "text": [
            "              precision    recall  f1-score   support\n",
            "\n",
            "           0       1.00      0.40      0.57        10\n",
            "           1       0.67      0.11      0.18        57\n",
            "           2       0.66      0.30      0.42       141\n",
            "           3       0.81      0.29      0.43       117\n",
            "           4       0.74      0.36      0.48       289\n",
            "           5       0.50      0.04      0.07        51\n",
            "           6       0.67      0.18      0.29       180\n",
            "           7       0.47      0.10      0.16        93\n",
            "           8       0.29      0.04      0.07        50\n",
            "           9       0.79      0.40      0.53       239\n",
            "          10       0.92      0.33      0.49        33\n",
            "          11       0.96      0.70      0.81       158\n",
            "          12       0.71      0.63      0.66       563\n",
            "          13       0.93      0.54      0.68       455\n",
            "          14       0.00      0.00      0.00         7\n",
            "          15       1.00      0.13      0.24        15\n",
            "          16       0.50      0.03      0.06        31\n",
            "          17       0.00      0.00      0.00         0\n",
            "          18       0.00      0.00      0.00         5\n",
            "          19       0.00      0.00      0.00         0\n",
            "          20       0.00      0.00      0.00         1\n",
            "          21       0.00      0.00      0.00         0\n",
            "          22       0.00      0.00      0.00         3\n",
            "          23       0.00      0.00      0.00         2\n",
            "          24       0.00      0.00      0.00         2\n",
            "          25       0.77      0.37      0.50       130\n",
            "          26       0.77      0.81      0.79      1050\n",
            "          27       1.00      0.06      0.12        16\n",
            "          28       0.00      0.00      0.00         2\n",
            "          29       0.00      0.00      0.00         4\n",
            "          30       0.67      0.20      0.31        20\n",
            "          31       0.75      0.34      0.47       121\n",
            "          32       0.81      0.22      0.35        59\n",
            "          33       0.67      0.06      0.11        35\n",
            "          34       0.00      0.00      0.00         2\n",
            "          35       0.57      0.14      0.22        59\n",
            "          36       0.75      0.15      0.25        40\n",
            "          37       0.93      0.57      0.71       434\n",
            "          38       0.79      0.68      0.73      1015\n",
            "          39       0.33      0.03      0.05        35\n",
            "          40       0.00      0.00      0.00         0\n",
            "          41       0.73      0.56      0.63       835\n",
            "          42       0.50      0.06      0.11        32\n",
            "          43       1.00      0.56      0.71        18\n",
            "          44       0.00      0.00      0.00         3\n",
            "          45       0.00      0.00      0.00         2\n",
            "          46       0.60      0.09      0.16        66\n",
            "          47       0.64      0.22      0.33       131\n",
            "          48       0.80      0.88      0.84      1485\n",
            "          49       1.00      0.53      0.69        34\n",
            "          50       0.00      0.00      0.00         2\n",
            "          51       0.25      0.06      0.10        17\n",
            "          52       0.89      0.29      0.44       106\n",
            "          53       0.00      0.00      0.00         1\n",
            "          54       0.00      0.00      0.00         1\n",
            "          55       0.89      0.46      0.60       304\n",
            "          56       1.00      0.14      0.25        14\n",
            "          57       0.80      0.27      0.40       256\n",
            "          58       1.00      0.35      0.52        20\n",
            "          59       0.64      0.36      0.46       257\n",
            "          60       0.71      0.29      0.41       188\n",
            "          61       0.72      0.63      0.67       649\n",
            "          62       0.00      0.00      0.00         1\n",
            "          63       0.71      0.22      0.34        54\n",
            "\n",
            "   micro avg       0.78      0.56      0.65     10000\n",
            "   macro avg       0.52      0.22      0.29     10000\n",
            "weighted avg       0.77      0.56      0.62     10000\n",
            " samples avg       0.75      0.56      0.61     10000\n",
            "\n"
          ],
          "name": "stdout"
        }
      ]
    },
    {
      "cell_type": "code",
      "metadata": {
        "id": "YEK2YlgCyiNw"
      },
      "source": [
        ""
      ],
      "execution_count": 159,
      "outputs": []
    },
    {
      "cell_type": "markdown",
      "metadata": {
        "id": "uDP1V3yofjPr"
      },
      "source": [
        "calculating jaccard score and hamming losst for multi label classification problem"
      ]
    },
    {
      "cell_type": "code",
      "metadata": {
        "id": "NG-02G-cQ3ho",
        "outputId": "7ed0b5dc-8b4b-4c01-f3d4-c9eacef92dee",
        "colab": {
          "base_uri": "https://localhost:8080/",
          "height": 35
        }
      },
      "source": [
        "#calculating Jaccard score for multi label classification probelm\n",
        "j_score(y_test_lbl,y_pred)\n",
        "\n",
        "def j_score(y_true,y_pred):\n",
        "  jaccard = np.minimum(y_true,y_pred).sum(axis=1)/np.maximum(y_true,y_pred).sum(axis=1)\n",
        "  return jaccard.mean()*100\n"
      ],
      "execution_count": 106,
      "outputs": [
        {
          "output_type": "execute_result",
          "data": {
            "text/plain": [
              "53.65742857142857"
            ]
          },
          "metadata": {
            "tags": []
          },
          "execution_count": 106
        }
      ]
    },
    {
      "cell_type": "code",
      "metadata": {
        "id": "5sHwBlVEUgYC"
      },
      "source": [
        "import sklearn.metrics as metrics"
      ],
      "execution_count": 112,
      "outputs": []
    },
    {
      "cell_type": "code",
      "metadata": {
        "id": "luWiFX5oUhta"
      },
      "source": [
        "hamming_loss = metrics.hamming_loss(y_test_lbl,y_pred)"
      ],
      "execution_count": 113,
      "outputs": []
    },
    {
      "cell_type": "code",
      "metadata": {
        "id": "BI55JovKUoiC",
        "outputId": "d0631882-a8b2-4a79-a18e-728d09fc9df2",
        "colab": {
          "base_uri": "https://localhost:8080/",
          "height": 35
        }
      },
      "source": [
        "print('calculating hamming loss for multilabel classification problem',hamming_loss)"
      ],
      "execution_count": 114,
      "outputs": [
        {
          "output_type": "stream",
          "text": [
            "calculating hamming loss for multilabel classification problem 0.03740625\n"
          ],
          "name": "stdout"
        }
      ]
    },
    {
      "cell_type": "code",
      "metadata": {
        "id": "55xssS6bQ7HI"
      },
      "source": [
        "y_predtrain = clf.predict(X_train)"
      ],
      "execution_count": 145,
      "outputs": []
    },
    {
      "cell_type": "code",
      "metadata": {
        "id": "3whsTOYzvR4A",
        "outputId": "87f88234-9a6c-43a5-bc2f-3879420fd4b3",
        "colab": {
          "base_uri": "https://localhost:8080/",
          "height": 35
        }
      },
      "source": [
        "accuracy_score(y_train_lbl, y_predtrain)\n",
        "#training accuracy is 91%"
      ],
      "execution_count": 146,
      "outputs": [
        {
          "output_type": "execute_result",
          "data": {
            "text/plain": [
              "0.9125333333333333"
            ]
          },
          "metadata": {
            "tags": []
          },
          "execution_count": 146
        }
      ]
    },
    {
      "cell_type": "code",
      "metadata": {
        "id": "HcDvkNevTE_W",
        "outputId": "2f2f231c-7da6-4ae2-fb38-adb8e3749b14",
        "colab": {
          "base_uri": "https://localhost:8080/",
          "height": 35
        }
      },
      "source": [
        "accuracy_score(y_test_lbl, y_pred)"
      ],
      "execution_count": 107,
      "outputs": [
        {
          "output_type": "execute_result",
          "data": {
            "text/plain": [
              "0.3236"
            ]
          },
          "metadata": {
            "tags": []
          },
          "execution_count": 107
        }
      ]
    },
    {
      "cell_type": "code",
      "metadata": {
        "id": "ft-056V6wYbY",
        "outputId": "e222b49f-442c-4563-f85f-ebfdd99c6f97",
        "colab": {
          "base_uri": "https://localhost:8080/",
          "height": 69
        }
      },
      "source": [
        "print('f1 score',f1_score(y_test_lbl,y_pred, average='macro'))\n",
        "\n",
        "print('Average Precision Score: ',average_precision_score(y_test_lbl,y_pred, average='macro'))\n",
        "\n",
        "print('Average Recall Score: ',recall_score(y_test_lbl,y_pred, average='macro'))\n",
        "\n"
      ],
      "execution_count": 147,
      "outputs": [
        {
          "output_type": "stream",
          "text": [
            "f1 score 0.28756520568637045\n",
            "Average Precision Score:  nan\n",
            "Average Recall Score:  0.22132519675636297\n"
          ],
          "name": "stdout"
        }
      ]
    },
    {
      "cell_type": "code",
      "metadata": {
        "id": "lRWeNoSpRNWH",
        "outputId": "62298f9e-c68a-403f-e2bd-791df65ccc71",
        "colab": {
          "base_uri": "https://localhost:8080/",
          "height": 69
        }
      },
      "source": [
        "print('f1 score',f1_score(y_test_lbl,y_pred, average='micro'))\n",
        "\n",
        "print('Average Precision Score: ',average_precision_score(y_test_lbl,y_pred, average='micro'))\n",
        "\n",
        "print('Average Recall Score: ',recall_score(y_test_lbl,y_pred, average='micro'))\n",
        "\n"
      ],
      "execution_count": 148,
      "outputs": [
        {
          "output_type": "stream",
          "text": [
            "f1 score 0.6522976819845465\n",
            "Average Precision Score:  0.46435962324968805\n",
            "Average Recall Score:  0.5614\n"
          ],
          "name": "stdout"
        }
      ]
    },
    {
      "cell_type": "code",
      "metadata": {
        "id": "-7noSHwowgGl",
        "outputId": "a4bd5c8a-adfc-4de6-e520-b5844f3f959d",
        "colab": {
          "base_uri": "https://localhost:8080/",
          "height": 69
        }
      },
      "source": [
        "print('f1 score',f1_score(y_test_lbl,y_pred, average='weighted'))\n",
        "\n",
        "print('Average Precision Score: ',average_precision_score(y_test_lbl,y_pred, average='weighted'))\n",
        "\n",
        "print('Average Recall Score: ',recall_score(y_test_lbl,y_pred, average='weighted'))\n"
      ],
      "execution_count": 149,
      "outputs": [
        {
          "output_type": "stream",
          "text": [
            "f1 score 0.6218608290265367\n",
            "Average Precision Score:  0.5197222903215486\n",
            "Average Recall Score:  0.5614\n"
          ],
          "name": "stdout"
        }
      ]
    },
    {
      "cell_type": "markdown",
      "metadata": {
        "id": "frpZJmqrftXk"
      },
      "source": [
        "Model accuracy is increased to 32%. From the classification report we could find that few classes are predicted with 100% accuracy, while some of the classes are not predicted by the model"
      ]
    },
    {
      "cell_type": "code",
      "metadata": {
        "id": "R6G3IjFeRUYC"
      },
      "source": [
        "predicted = y_pred[1:10]\n",
        "actual = y_test_lbl[1:10]\n"
      ],
      "execution_count": 169,
      "outputs": []
    },
    {
      "cell_type": "code",
      "metadata": {
        "id": "FT7bGNhlRRk1",
        "outputId": "164d7c10-8156-4a2e-c627-0fa07f91868e",
        "colab": {
          "base_uri": "https://localhost:8080/",
          "height": 173
        }
      },
      "source": [
        "\n",
        "\n",
        "predictedtransformed = label.inverse_transform(predicted)\n",
        "predictedtransformed\n",
        "  "
      ],
      "execution_count": 170,
      "outputs": [
        {
          "output_type": "execute_result",
          "data": {
            "text/plain": [
              "[('aries', 'male'),\n",
              " ('35', 'aries', 'male', 'technology'),\n",
              " ('36', 'female', 'indunk'),\n",
              " ('17', 'indunk', 'male'),\n",
              " ('male',),\n",
              " ('35', 'aries', 'male', 'technology'),\n",
              " ('35', 'aries', 'male', 'technology'),\n",
              " ('35', 'aries', 'male', 'technology'),\n",
              " ('male',)]"
            ]
          },
          "metadata": {
            "tags": []
          },
          "execution_count": 170
        }
      ]
    },
    {
      "cell_type": "code",
      "metadata": {
        "id": "VsXbrmpkRYhg",
        "outputId": "b1cfaf9f-2c71-4c78-8544-8f839adb4631",
        "colab": {
          "base_uri": "https://localhost:8080/",
          "height": 173
        }
      },
      "source": [
        "actualtransformed = label.inverse_transform(actual)\n",
        "actualtransformed"
      ],
      "execution_count": 171,
      "outputs": [
        {
          "output_type": "execute_result",
          "data": {
            "text/plain": [
              "[('14', 'male', 'pisces', 'student'),\n",
              " ('17', 'female', 'indunk', 'scorpio'),\n",
              " ('36', 'female', 'indunk', 'pisces'),\n",
              " ('17', 'female', 'indunk', 'scorpio'),\n",
              " ('14', 'cancer', 'male', 'student'),\n",
              " ('35', 'aries', 'male', 'technology'),\n",
              " ('35', 'aries', 'male', 'technology'),\n",
              " ('35', 'aries', 'male', 'technology'),\n",
              " ('16', 'capricorn', 'female', 'indunk')]"
            ]
          },
          "metadata": {
            "tags": []
          },
          "execution_count": 171
        }
      ]
    },
    {
      "cell_type": "markdown",
      "metadata": {
        "id": "_7XzGMXRgNM4"
      },
      "source": [
        "Comapring the actual and predicted , model is able to predict most of the classes correctly"
      ]
    },
    {
      "cell_type": "markdown",
      "metadata": {
        "id": "5hA6K7vUgVlc"
      },
      "source": [
        "USing SVC classifier to check the model performance"
      ]
    },
    {
      "cell_type": "code",
      "metadata": {
        "id": "8twMSdWHUFGO",
        "outputId": "729e4f0c-be1d-49b5-da2e-ef02d2791e36",
        "colab": {
          "base_uri": "https://localhost:8080/",
          "height": 139
        }
      },
      "source": [
        "clf2 = OneVsRestClassifier(svc)\n",
        "clf2.fit(X_train, y_train_lbl)\n"
      ],
      "execution_count": 172,
      "outputs": [
        {
          "output_type": "execute_result",
          "data": {
            "text/plain": [
              "OneVsRestClassifier(estimator=LinearSVC(C=1.0, class_weight=None, dual=True,\n",
              "                                        fit_intercept=True, intercept_scaling=1,\n",
              "                                        loss='squared_hinge', max_iter=1000,\n",
              "                                        multi_class='ovr', penalty='l2',\n",
              "                                        random_state=None, tol=0.0001,\n",
              "                                        verbose=0),\n",
              "                    n_jobs=None)"
            ]
          },
          "metadata": {
            "tags": []
          },
          "execution_count": 172
        }
      ]
    },
    {
      "cell_type": "code",
      "metadata": {
        "id": "UxrcJhqZB4VR",
        "outputId": "73d31711-13ce-4543-b3a4-d890646d9bc4",
        "colab": {
          "base_uri": "https://localhost:8080/",
          "height": 35
        }
      },
      "source": [
        "y_pred2 = clf.predict(X_test)\n",
        "accuracy_score(y_test_lbl, y_pred2)\n"
      ],
      "execution_count": 174,
      "outputs": [
        {
          "output_type": "execute_result",
          "data": {
            "text/plain": [
              "0.3236"
            ]
          },
          "metadata": {
            "tags": []
          },
          "execution_count": 174
        }
      ]
    },
    {
      "cell_type": "code",
      "metadata": {
        "id": "yudtmUUWqVeB"
      },
      "source": [
        "y_proba_ovr = clf.predict_proba(X_test)[:1]"
      ],
      "execution_count": 127,
      "outputs": []
    },
    {
      "cell_type": "code",
      "metadata": {
        "id": "0ZgrZorvCJ11",
        "outputId": "d6fd9bb2-1154-4223-ef37-51b8fe8030b8",
        "colab": {
          "base_uri": "https://localhost:8080/",
          "height": 1000
        }
      },
      "source": [
        "print(classification_report(y_test_lbl, y_pred2))\n",
        "\n",
        "print('f1 score',f1_score(y_test_lbl,y_pred2, average='micro'))\n",
        "print('Average Precision Score: ',average_precision_score(y_test_lbl,y_pred2, average='micro'))\n",
        "print('Average Recall Score: ',recall_score(y_test_lbl,y_pred2, average='weighted'))\n",
        "\n"
      ],
      "execution_count": 176,
      "outputs": [
        {
          "output_type": "stream",
          "text": [
            "              precision    recall  f1-score   support\n",
            "\n",
            "           0       1.00      0.40      0.57        10\n",
            "           1       0.67      0.11      0.18        57\n",
            "           2       0.66      0.30      0.42       141\n",
            "           3       0.81      0.29      0.43       117\n",
            "           4       0.74      0.36      0.48       289\n",
            "           5       0.50      0.04      0.07        51\n",
            "           6       0.67      0.18      0.29       180\n",
            "           7       0.47      0.10      0.16        93\n",
            "           8       0.29      0.04      0.07        50\n",
            "           9       0.79      0.40      0.53       239\n",
            "          10       0.92      0.33      0.49        33\n",
            "          11       0.96      0.70      0.81       158\n",
            "          12       0.71      0.63      0.66       563\n",
            "          13       0.93      0.54      0.68       455\n",
            "          14       0.00      0.00      0.00         7\n",
            "          15       1.00      0.13      0.24        15\n",
            "          16       0.50      0.03      0.06        31\n",
            "          17       0.00      0.00      0.00         0\n",
            "          18       0.00      0.00      0.00         5\n",
            "          19       0.00      0.00      0.00         0\n",
            "          20       0.00      0.00      0.00         1\n",
            "          21       0.00      0.00      0.00         0\n",
            "          22       0.00      0.00      0.00         3\n",
            "          23       0.00      0.00      0.00         2\n",
            "          24       0.00      0.00      0.00         2\n",
            "          25       0.77      0.37      0.50       130\n",
            "          26       0.77      0.81      0.79      1050\n",
            "          27       1.00      0.06      0.12        16\n",
            "          28       0.00      0.00      0.00         2\n",
            "          29       0.00      0.00      0.00         4\n",
            "          30       0.67      0.20      0.31        20\n",
            "          31       0.75      0.34      0.47       121\n",
            "          32       0.81      0.22      0.35        59\n",
            "          33       0.67      0.06      0.11        35\n",
            "          34       0.00      0.00      0.00         2\n",
            "          35       0.57      0.14      0.22        59\n",
            "          36       0.75      0.15      0.25        40\n",
            "          37       0.93      0.57      0.71       434\n",
            "          38       0.79      0.68      0.73      1015\n",
            "          39       0.33      0.03      0.05        35\n",
            "          40       0.00      0.00      0.00         0\n",
            "          41       0.73      0.56      0.63       835\n",
            "          42       0.50      0.06      0.11        32\n",
            "          43       1.00      0.56      0.71        18\n",
            "          44       0.00      0.00      0.00         3\n",
            "          45       0.00      0.00      0.00         2\n",
            "          46       0.60      0.09      0.16        66\n",
            "          47       0.64      0.22      0.33       131\n",
            "          48       0.80      0.88      0.84      1485\n",
            "          49       1.00      0.53      0.69        34\n",
            "          50       0.00      0.00      0.00         2\n",
            "          51       0.25      0.06      0.10        17\n",
            "          52       0.89      0.29      0.44       106\n",
            "          53       0.00      0.00      0.00         1\n",
            "          54       0.00      0.00      0.00         1\n",
            "          55       0.89      0.46      0.60       304\n",
            "          56       1.00      0.14      0.25        14\n",
            "          57       0.80      0.27      0.40       256\n",
            "          58       1.00      0.35      0.52        20\n",
            "          59       0.64      0.36      0.46       257\n",
            "          60       0.71      0.29      0.41       188\n",
            "          61       0.72      0.63      0.67       649\n",
            "          62       0.00      0.00      0.00         1\n",
            "          63       0.71      0.22      0.34        54\n",
            "\n",
            "   micro avg       0.78      0.56      0.65     10000\n",
            "   macro avg       0.52      0.22      0.29     10000\n",
            "weighted avg       0.77      0.56      0.62     10000\n",
            " samples avg       0.75      0.56      0.61     10000\n",
            "\n",
            "f1 score 0.6522976819845465\n",
            "Average Precision Score:  0.46435962324968805\n",
            "Average Recall Score:  0.5614\n"
          ],
          "name": "stdout"
        }
      ]
    },
    {
      "cell_type": "code",
      "metadata": {
        "id": "OGokGNZdCOac",
        "outputId": "7cc7d1cf-36cc-4c75-f7bf-a53c91112cf1",
        "colab": {
          "base_uri": "https://localhost:8080/",
          "height": 277
        }
      },
      "source": [
        "predicted = y_pred2[0:15]\n",
        "actual = y_test_lbl[0:15]\n",
        "\n",
        "\n",
        "actualtransformed = label.inverse_transform(actual)\n",
        "actualtransformed"
      ],
      "execution_count": 177,
      "outputs": [
        {
          "output_type": "execute_result",
          "data": {
            "text/plain": [
              "[('16', 'capricorn', 'female', 'indunk'),\n",
              " ('14', 'male', 'pisces', 'student'),\n",
              " ('17', 'female', 'indunk', 'scorpio'),\n",
              " ('36', 'female', 'indunk', 'pisces'),\n",
              " ('17', 'female', 'indunk', 'scorpio'),\n",
              " ('14', 'cancer', 'male', 'student'),\n",
              " ('35', 'aries', 'male', 'technology'),\n",
              " ('35', 'aries', 'male', 'technology'),\n",
              " ('35', 'aries', 'male', 'technology'),\n",
              " ('16', 'capricorn', 'female', 'indunk'),\n",
              " ('23', 'aquarius', 'internet', 'male'),\n",
              " ('35', 'aries', 'male', 'technology'),\n",
              " ('36', 'aries', 'fashion', 'male'),\n",
              " ('26', 'accounting', 'aquarius', 'female'),\n",
              " ('36', 'aries', 'fashion', 'male')]"
            ]
          },
          "metadata": {
            "tags": []
          },
          "execution_count": 177
        }
      ]
    },
    {
      "cell_type": "code",
      "metadata": {
        "id": "x_xm0Pu0C1Ph",
        "outputId": "03407bc5-c466-443f-a2f9-342c8f9a8ce8",
        "colab": {
          "base_uri": "https://localhost:8080/",
          "height": 277
        }
      },
      "source": [
        "\n",
        "predictedtransformed = label.inverse_transform(predicted)\n",
        "predictedtransformed"
      ],
      "execution_count": 178,
      "outputs": [
        {
          "output_type": "execute_result",
          "data": {
            "text/plain": [
              "[('male',),\n",
              " ('aries', 'male'),\n",
              " ('35', 'aries', 'male', 'technology'),\n",
              " ('36', 'female', 'indunk'),\n",
              " ('17', 'indunk', 'male'),\n",
              " ('male',),\n",
              " ('35', 'aries', 'male', 'technology'),\n",
              " ('35', 'aries', 'male', 'technology'),\n",
              " ('35', 'aries', 'male', 'technology'),\n",
              " ('male',),\n",
              " ('female',),\n",
              " ('35', 'aries', 'male', 'technology'),\n",
              " ('36', 'aries', 'fashion', 'male'),\n",
              " ('female',),\n",
              " ('36', 'aries', 'fashion', 'male')]"
            ]
          },
          "metadata": {
            "tags": []
          },
          "execution_count": 178
        }
      ]
    },
    {
      "cell_type": "markdown",
      "metadata": {
        "id": "DUfSqTqIgkR2"
      },
      "source": [
        "LinearSVC model is performing more or less similar to LogisticRegression"
      ]
    },
    {
      "cell_type": "markdown",
      "metadata": {
        "id": "_BwLLcfKgsGU"
      },
      "source": [
        "Using countvectorizer with only ngrams\n",
        "\n"
      ]
    },
    {
      "cell_type": "code",
      "metadata": {
        "id": "oXx0RsRjC7WC"
      },
      "source": [
        "\n",
        "vectorizer1 = CountVectorizer(ngram_range = (1,2))\n"
      ],
      "execution_count": 180,
      "outputs": []
    },
    {
      "cell_type": "code",
      "metadata": {
        "id": "KYM0fOsAECnW"
      },
      "source": [
        "X_train = vectorizer1.fit_transform(X_train)\n",
        "X_test = vectorizer1.transform(X_test)\n",
        "#transform test data\n"
      ],
      "execution_count": 181,
      "outputs": []
    },
    {
      "cell_type": "code",
      "metadata": {
        "id": "8H5Rzpw8EJTv"
      },
      "source": [
        "label = MultiLabelBinarizer()\n",
        "y_train1 = [set(i.split(',')) for i in y_train]\n",
        "y_test1 = [set(i.split(',')) for i in y_test]\n"
      ],
      "execution_count": 182,
      "outputs": []
    },
    {
      "cell_type": "code",
      "metadata": {
        "id": "c25kYAXQEOn2"
      },
      "source": [
        "y_train_lbl = label.fit_transform(y_train1)\n",
        "\n",
        "y_test_lbl = label.transform(y_test1)\n",
        "\n"
      ],
      "execution_count": 183,
      "outputs": []
    },
    {
      "cell_type": "code",
      "metadata": {
        "id": "_6qn-Rb4ERpG"
      },
      "source": [
        "lr = LogisticRegression(solver='lbfgs', multi_class='ovr',max_iter=10)\n",
        "\n"
      ],
      "execution_count": 184,
      "outputs": []
    },
    {
      "cell_type": "code",
      "metadata": {
        "id": "1wvFxz3oEcz2",
        "outputId": "a2fd5138-61be-47ce-f143-ee8f6ce04844",
        "colab": {
          "base_uri": "https://localhost:8080/",
          "height": 191
        }
      },
      "source": [
        "clf = OneVsRestClassifier(lr)\n",
        "clf.fit(X_train, y_train_lbl)\n"
      ],
      "execution_count": 185,
      "outputs": [
        {
          "output_type": "execute_result",
          "data": {
            "text/plain": [
              "OneVsRestClassifier(estimator=LogisticRegression(C=1.0, class_weight=None,\n",
              "                                                 dual=False, fit_intercept=True,\n",
              "                                                 intercept_scaling=1,\n",
              "                                                 l1_ratio=None, max_iter=10,\n",
              "                                                 multi_class='ovr', n_jobs=None,\n",
              "                                                 penalty='l2',\n",
              "                                                 random_state=None,\n",
              "                                                 solver='lbfgs', tol=0.0001,\n",
              "                                                 verbose=0, warm_start=False),\n",
              "                    n_jobs=None)"
            ]
          },
          "metadata": {
            "tags": []
          },
          "execution_count": 185
        }
      ]
    },
    {
      "cell_type": "code",
      "metadata": {
        "id": "8rDVSu9REfEl",
        "outputId": "a119fc6b-3883-480e-eaa9-3b1f13bc4f10",
        "colab": {
          "base_uri": "https://localhost:8080/",
          "height": 1000
        }
      },
      "source": [
        "y_pred = clf.predict(X_test)\n",
        "\n",
        "print(classification_report(y_test_lbl, y_pred))\n",
        "\n"
      ],
      "execution_count": 186,
      "outputs": [
        {
          "output_type": "stream",
          "text": [
            "              precision    recall  f1-score   support\n",
            "\n",
            "           0       1.00      0.40      0.57        10\n",
            "           1       0.83      0.09      0.16        57\n",
            "           2       0.52      0.28      0.37       141\n",
            "           3       0.70      0.22      0.34       117\n",
            "           4       0.70      0.35      0.47       289\n",
            "           5       0.40      0.04      0.07        51\n",
            "           6       0.73      0.13      0.23       180\n",
            "           7       0.55      0.06      0.12        93\n",
            "           8       0.50      0.04      0.07        50\n",
            "           9       0.79      0.38      0.51       239\n",
            "          10       0.94      0.45      0.61        33\n",
            "          11       0.98      0.82      0.89       158\n",
            "          12       0.72      0.61      0.66       563\n",
            "          13       0.94      0.45      0.61       455\n",
            "          14       0.00      0.00      0.00         7\n",
            "          15       1.00      0.07      0.12        15\n",
            "          16       1.00      0.03      0.06        31\n",
            "          17       0.00      0.00      0.00         0\n",
            "          18       0.00      0.00      0.00         5\n",
            "          19       0.00      0.00      0.00         0\n",
            "          20       0.00      0.00      0.00         1\n",
            "          21       0.00      0.00      0.00         0\n",
            "          22       0.00      0.00      0.00         3\n",
            "          23       0.00      0.00      0.00         2\n",
            "          24       0.00      0.00      0.00         2\n",
            "          25       0.67      0.38      0.48       130\n",
            "          26       0.74      0.80      0.76      1050\n",
            "          27       0.50      0.06      0.11        16\n",
            "          28       0.00      0.00      0.00         2\n",
            "          29       0.00      0.00      0.00         4\n",
            "          30       0.80      0.20      0.32        20\n",
            "          31       0.57      0.34      0.42       121\n",
            "          32       0.86      0.20      0.33        59\n",
            "          33       1.00      0.03      0.06        35\n",
            "          34       0.00      0.00      0.00         2\n",
            "          35       0.57      0.07      0.12        59\n",
            "          36       0.86      0.15      0.26        40\n",
            "          37       0.84      0.53      0.65       434\n",
            "          38       0.77      0.71      0.74      1015\n",
            "          39       0.00      0.00      0.00        35\n",
            "          40       0.00      0.00      0.00         0\n",
            "          41       0.71      0.50      0.58       835\n",
            "          42       1.00      0.03      0.06        32\n",
            "          43       1.00      0.56      0.71        18\n",
            "          44       0.00      0.00      0.00         3\n",
            "          45       0.00      0.00      0.00         2\n",
            "          46       0.71      0.08      0.14        66\n",
            "          47       0.58      0.19      0.29       131\n",
            "          48       0.81      0.86      0.83      1485\n",
            "          49       1.00      0.50      0.67        34\n",
            "          50       0.00      0.00      0.00         2\n",
            "          51       0.33      0.06      0.10        17\n",
            "          52       0.84      0.35      0.49       106\n",
            "          53       0.00      0.00      0.00         1\n",
            "          54       0.00      0.00      0.00         1\n",
            "          55       0.90      0.45      0.60       304\n",
            "          56       1.00      0.14      0.25        14\n",
            "          57       0.67      0.28      0.39       256\n",
            "          58       1.00      0.50      0.67        20\n",
            "          59       0.61      0.30      0.40       257\n",
            "          60       0.64      0.25      0.36       188\n",
            "          61       0.69      0.63      0.66       649\n",
            "          62       0.00      0.00      0.00         1\n",
            "          63       0.56      0.19      0.28        54\n",
            "\n",
            "   micro avg       0.76      0.54      0.63     10000\n",
            "   macro avg       0.52      0.21      0.27     10000\n",
            "weighted avg       0.75      0.54      0.60     10000\n",
            " samples avg       0.73      0.54      0.60     10000\n",
            "\n"
          ],
          "name": "stdout"
        }
      ]
    },
    {
      "cell_type": "code",
      "metadata": {
        "id": "-H-v9gnyEhwP",
        "outputId": "8f356d21-9d03-4389-d1ce-4c4829f42e96",
        "colab": {
          "base_uri": "https://localhost:8080/",
          "height": 35
        }
      },
      "source": [
        "accuracy_score(y_test_lbl, y_pred)\n",
        "\n"
      ],
      "execution_count": 187,
      "outputs": [
        {
          "output_type": "execute_result",
          "data": {
            "text/plain": [
              "0.298"
            ]
          },
          "metadata": {
            "tags": []
          },
          "execution_count": 187
        }
      ]
    },
    {
      "cell_type": "code",
      "metadata": {
        "id": "L9YcN95iEk5O",
        "outputId": "f18f6248-ee14-49d6-e931-9ee6410b7d62",
        "colab": {
          "base_uri": "https://localhost:8080/",
          "height": 69
        }
      },
      "source": [
        "print('f1 score',f1_score(y_test_lbl,y_pred, average='micro'))\n",
        "print('Average Precision Score: ',average_precision_score(y_test_lbl,y_pred, average='micro'))\n",
        "print('Average Recall Score: ',recall_score(y_test_lbl,y_pred, average='weighted'))\n",
        "\n",
        "\n"
      ],
      "execution_count": 188,
      "outputs": [
        {
          "output_type": "stream",
          "text": [
            "f1 score 0.6338791445719947\n",
            "Average Precision Score:  0.441615047653959\n",
            "Average Recall Score:  0.5439\n"
          ],
          "name": "stdout"
        }
      ]
    },
    {
      "cell_type": "code",
      "metadata": {
        "id": "tlpTXLI8Emki",
        "outputId": "ea95b807-8c87-424c-d595-61226b295dfc",
        "colab": {
          "base_uri": "https://localhost:8080/",
          "height": 173
        }
      },
      "source": [
        "predicted = y_pred[1:10]\n",
        "actual = y_test_lbl[1:10]\n",
        "\n",
        "\n",
        "\n",
        "predictedtransformed = label.inverse_transform(predicted)\n",
        "predictedtransformed\n",
        "\n"
      ],
      "execution_count": 189,
      "outputs": [
        {
          "output_type": "execute_result",
          "data": {
            "text/plain": [
              "[('35', 'aries', 'male', 'technology'),\n",
              " ('35', 'aries', 'male', 'technology'),\n",
              " ('female', 'indunk', 'pisces'),\n",
              " ('male',),\n",
              " ('male',),\n",
              " ('35', 'aries', 'male', 'technology'),\n",
              " ('35', 'aries', 'male', 'technology'),\n",
              " ('aries', 'male'),\n",
              " ('24', 'capricorn', 'education', 'female', 'virgo')]"
            ]
          },
          "metadata": {
            "tags": []
          },
          "execution_count": 189
        }
      ]
    },
    {
      "cell_type": "code",
      "metadata": {
        "id": "PSoBvSKaEpQs",
        "outputId": "650b9a1f-6124-4943-d68f-6ed261a24283",
        "colab": {
          "base_uri": "https://localhost:8080/",
          "height": 173
        }
      },
      "source": [
        "actualtransformed = label.inverse_transform(actual)\n",
        "actualtransformed"
      ],
      "execution_count": 190,
      "outputs": [
        {
          "output_type": "execute_result",
          "data": {
            "text/plain": [
              "[('14', 'male', 'pisces', 'student'),\n",
              " ('17', 'female', 'indunk', 'scorpio'),\n",
              " ('36', 'female', 'indunk', 'pisces'),\n",
              " ('17', 'female', 'indunk', 'scorpio'),\n",
              " ('14', 'cancer', 'male', 'student'),\n",
              " ('35', 'aries', 'male', 'technology'),\n",
              " ('35', 'aries', 'male', 'technology'),\n",
              " ('35', 'aries', 'male', 'technology'),\n",
              " ('16', 'capricorn', 'female', 'indunk')]"
            ]
          },
          "metadata": {
            "tags": []
          },
          "execution_count": 190
        }
      ]
    },
    {
      "cell_type": "markdown",
      "metadata": {
        "id": "XlXMPQghg33-"
      },
      "source": [
        "Model accuracy dropperd by 2 % by using only ngram_Range in countvectorizer without min_df and stop_words"
      ]
    },
    {
      "cell_type": "markdown",
      "metadata": {
        "id": "UjzATbGAi4C2"
      },
      "source": [
        "Use case4: checking model performance by increasing min_df =4"
      ]
    },
    {
      "cell_type": "code",
      "metadata": {
        "id": "LjOgYUp5jAxU",
        "outputId": "31cc7dcd-2d04-4323-b327-437957b6aace",
        "colab": {
          "base_uri": "https://localhost:8080/",
          "height": 191
        }
      },
      "source": [
        "vectorizer = CountVectorizer(ngram_range = (1,2),min_df=4,stop_words=\"english\")\n",
        "X_train = vectorizer.fit_transform(X_train)\n",
        "X_test = vectorizer.transform(X_test)\n",
        "#transform test data\n",
        "label = MultiLabelBinarizer()\n",
        "y_train1 = [set(i.split(',')) for i in y_train]\n",
        "y_test1 = [set(i.split(',')) for i in y_test]\n",
        "y_train_lbl = label.fit_transform(y_train1)\n",
        "\n",
        "y_test_lbl = label.transform(y_test1)\n",
        "\n",
        "lr = LogisticRegression(solver='lbfgs', multi_class='ovr')\n",
        "\n",
        "clf = OneVsRestClassifier(lr)\n",
        "clf.fit(X_train, y_train_lbl)\n"
      ],
      "execution_count": 118,
      "outputs": [
        {
          "output_type": "execute_result",
          "data": {
            "text/plain": [
              "OneVsRestClassifier(estimator=LogisticRegression(C=1.0, class_weight=None,\n",
              "                                                 dual=False, fit_intercept=True,\n",
              "                                                 intercept_scaling=1,\n",
              "                                                 l1_ratio=None, max_iter=100,\n",
              "                                                 multi_class='ovr', n_jobs=None,\n",
              "                                                 penalty='l2',\n",
              "                                                 random_state=None,\n",
              "                                                 solver='lbfgs', tol=0.0001,\n",
              "                                                 verbose=0, warm_start=False),\n",
              "                    n_jobs=None)"
            ]
          },
          "metadata": {
            "tags": []
          },
          "execution_count": 118
        }
      ]
    },
    {
      "cell_type": "code",
      "metadata": {
        "id": "SyfTVZw-jIXp",
        "outputId": "8f90b41f-3783-4a06-daf9-f4b9963eb8a5",
        "colab": {
          "base_uri": "https://localhost:8080/",
          "height": 1000
        }
      },
      "source": [
        "y_pred = clf.predict(X_test)\n",
        "\n",
        "print(classification_report(y_test_lbl, y_pred))\n",
        "\n"
      ],
      "execution_count": 119,
      "outputs": [
        {
          "output_type": "stream",
          "text": [
            "              precision    recall  f1-score   support\n",
            "\n",
            "           0       1.00      0.30      0.46        10\n",
            "           1       0.55      0.11      0.18        57\n",
            "           2       0.64      0.33      0.44       141\n",
            "           3       0.70      0.28      0.40       117\n",
            "           4       0.70      0.39      0.51       289\n",
            "           5       0.25      0.04      0.07        51\n",
            "           6       0.65      0.19      0.29       180\n",
            "           7       0.48      0.12      0.19        93\n",
            "           8       0.29      0.04      0.07        50\n",
            "           9       0.75      0.42      0.54       239\n",
            "          10       0.85      0.33      0.48        33\n",
            "          11       0.96      0.70      0.81       158\n",
            "          12       0.71      0.63      0.67       563\n",
            "          13       0.90      0.56      0.69       455\n",
            "          14       0.00      0.00      0.00         7\n",
            "          15       1.00      0.07      0.12        15\n",
            "          16       0.50      0.03      0.06        31\n",
            "          17       0.00      0.00      0.00         0\n",
            "          18       0.00      0.00      0.00         5\n",
            "          19       0.00      0.00      0.00         0\n",
            "          20       0.00      0.00      0.00         1\n",
            "          21       0.00      0.00      0.00         0\n",
            "          22       0.00      0.00      0.00         3\n",
            "          23       0.00      0.00      0.00         2\n",
            "          24       0.00      0.00      0.00         2\n",
            "          25       0.74      0.38      0.51       130\n",
            "          26       0.76      0.80      0.78      1050\n",
            "          27       1.00      0.06      0.12        16\n",
            "          28       0.00      0.00      0.00         2\n",
            "          29       0.00      0.00      0.00         4\n",
            "          30       0.67      0.20      0.31        20\n",
            "          31       0.75      0.34      0.47       121\n",
            "          32       0.79      0.25      0.38        59\n",
            "          33       0.67      0.06      0.11        35\n",
            "          34       0.00      0.00      0.00         2\n",
            "          35       0.45      0.17      0.25        59\n",
            "          36       0.70      0.17      0.28        40\n",
            "          37       0.91      0.59      0.71       434\n",
            "          38       0.78      0.68      0.73      1015\n",
            "          39       0.25      0.03      0.05        35\n",
            "          40       0.00      0.00      0.00         0\n",
            "          41       0.71      0.57      0.63       835\n",
            "          42       0.50      0.06      0.11        32\n",
            "          43       1.00      0.56      0.71        18\n",
            "          44       0.00      0.00      0.00         3\n",
            "          45       0.00      0.00      0.00         2\n",
            "          46       0.53      0.12      0.20        66\n",
            "          47       0.63      0.24      0.35       131\n",
            "          48       0.80      0.87      0.83      1485\n",
            "          49       0.95      0.53      0.68        34\n",
            "          50       0.00      0.00      0.00         2\n",
            "          51       0.25      0.06      0.10        17\n",
            "          52       0.78      0.30      0.44       106\n",
            "          53       0.00      0.00      0.00         1\n",
            "          54       0.00      0.00      0.00         1\n",
            "          55       0.86      0.47      0.61       304\n",
            "          56       1.00      0.14      0.25        14\n",
            "          57       0.76      0.29      0.42       256\n",
            "          58       0.88      0.35      0.50        20\n",
            "          59       0.63      0.38      0.47       257\n",
            "          60       0.67      0.32      0.44       188\n",
            "          61       0.72      0.62      0.67       649\n",
            "          62       0.00      0.00      0.00         1\n",
            "          63       0.69      0.20      0.31        54\n",
            "\n",
            "   micro avg       0.76      0.57      0.65     10000\n",
            "   macro avg       0.50      0.22      0.29     10000\n",
            "weighted avg       0.75      0.57      0.62     10000\n",
            " samples avg       0.74      0.57      0.61     10000\n",
            "\n"
          ],
          "name": "stdout"
        }
      ]
    },
    {
      "cell_type": "code",
      "metadata": {
        "id": "SxQr3CcqjLs6",
        "outputId": "e19df17d-6278-4fc8-8207-223496464d30",
        "colab": {
          "base_uri": "https://localhost:8080/",
          "height": 35
        }
      },
      "source": [
        "accuracy_score(y_test_lbl, y_pred)\n",
        "\n"
      ],
      "execution_count": 120,
      "outputs": [
        {
          "output_type": "execute_result",
          "data": {
            "text/plain": [
              "0.318"
            ]
          },
          "metadata": {
            "tags": []
          },
          "execution_count": 120
        }
      ]
    },
    {
      "cell_type": "code",
      "metadata": {
        "id": "dDcYXHjSjP1c",
        "outputId": "2c6d54c1-2c4d-4834-e8b1-f06f343f58f4",
        "colab": {
          "base_uri": "https://localhost:8080/",
          "height": 69
        }
      },
      "source": [
        "print('f1 score',f1_score(y_test_lbl,y_pred, average='micro'))\n",
        "print('Average Precision Score: ',average_precision_score(y_test_lbl,y_pred, average='micro'))\n",
        "print('Average Recall Score: ',recall_score(y_test_lbl,y_pred, average='weighted'))\n",
        "\n",
        "\n"
      ],
      "execution_count": 121,
      "outputs": [
        {
          "output_type": "stream",
          "text": [
            "f1 score 0.6500975777752267\n",
            "Average Precision Score:  0.4591942182026408\n",
            "Average Recall Score:  0.5663\n"
          ],
          "name": "stdout"
        }
      ]
    },
    {
      "cell_type": "code",
      "metadata": {
        "id": "P3Az9vPgjSX4"
      },
      "source": [
        "predicted = y_pred[1:10]\n",
        "actual = y_test_lbl[1:10]\n",
        "\n",
        "\n",
        "\n"
      ],
      "execution_count": 122,
      "outputs": []
    },
    {
      "cell_type": "code",
      "metadata": {
        "id": "EsYqUh5kjT0i",
        "outputId": "638f683d-be8b-49b9-f5e6-2fa955751445",
        "colab": {
          "base_uri": "https://localhost:8080/",
          "height": 173
        }
      },
      "source": [
        "predictedtransformed = label.inverse_transform(predicted)\n",
        "predictedtransformed\n",
        "\n"
      ],
      "execution_count": 125,
      "outputs": [
        {
          "output_type": "execute_result",
          "data": {
            "text/plain": [
              "[('male',),\n",
              " ('35', 'aries', 'male', 'technology'),\n",
              " ('36', 'female', 'indunk'),\n",
              " ('17', 'indunk', 'male'),\n",
              " ('male',),\n",
              " ('35', 'aries', 'male', 'technology'),\n",
              " ('35', 'aries', 'male', 'technology'),\n",
              " ('35', 'aries', 'male', 'technology'),\n",
              " ('male',)]"
            ]
          },
          "metadata": {
            "tags": []
          },
          "execution_count": 125
        }
      ]
    },
    {
      "cell_type": "code",
      "metadata": {
        "id": "xWOjDwXGjV0B",
        "outputId": "854fae40-6adc-4186-b69d-59b9a45c3250",
        "colab": {
          "base_uri": "https://localhost:8080/",
          "height": 173
        }
      },
      "source": [
        "actualtransformed = label.inverse_transform(actual)\n",
        "actualtransformed\n",
        "\n"
      ],
      "execution_count": 124,
      "outputs": [
        {
          "output_type": "execute_result",
          "data": {
            "text/plain": [
              "[('14', 'male', 'pisces', 'student'),\n",
              " ('17', 'female', 'indunk', 'scorpio'),\n",
              " ('36', 'female', 'indunk', 'pisces'),\n",
              " ('17', 'female', 'indunk', 'scorpio'),\n",
              " ('14', 'cancer', 'male', 'student'),\n",
              " ('35', 'aries', 'male', 'technology'),\n",
              " ('35', 'aries', 'male', 'technology'),\n",
              " ('35', 'aries', 'male', 'technology'),\n",
              " ('16', 'capricorn', 'female', 'indunk')]"
            ]
          },
          "metadata": {
            "tags": []
          },
          "execution_count": 124
        }
      ]
    },
    {
      "cell_type": "code",
      "metadata": {
        "id": "0AcDqQUzjXaF"
      },
      "source": [
        "\n",
        "def j_score(y_true,y_pred):\n",
        "  jaccard = np.minimum(y_true,y_pred).sum(axis=1)/np.maximum(y_true,y_pred).sum(axis=1)\n",
        "  return jaccard.mean()*100\n",
        "\n",
        "j_score(y_testmlb,y_pred)"
      ],
      "execution_count": null,
      "outputs": []
    },
    {
      "cell_type": "markdown",
      "metadata": {
        "id": "xqqBthx4hE7g"
      },
      "source": [
        "Use case5 :  using TFIDF vector to check the model performance in predicting multiple labels similar to use case 1"
      ]
    },
    {
      "cell_type": "code",
      "metadata": {
        "id": "WuoNMlILJB9S"
      },
      "source": [
        "from sklearn.feature_extraction.text import TfidfVectorizer"
      ],
      "execution_count": 25,
      "outputs": []
    },
    {
      "cell_type": "code",
      "metadata": {
        "id": "Pn6lZu5vNcbH"
      },
      "source": [
        "\n",
        "X_train, X_test , y_train, y_test = train_test_split(X, y, test_size = 0.25,random_state = 1 )\n"
      ],
      "execution_count": 73,
      "outputs": []
    },
    {
      "cell_type": "code",
      "metadata": {
        "id": "-onY1WypI3a3"
      },
      "source": [
        "vectorizer = TfidfVectorizer(min_df=2)\n",
        "X_traint = vectorizer.fit_transform(X_train)\n"
      ],
      "execution_count": null,
      "outputs": []
    },
    {
      "cell_type": "code",
      "metadata": {
        "id": "NANOeKvwKZ8O"
      },
      "source": [
        "X_testt = vectorizer.transform(X_test)"
      ],
      "execution_count": 75,
      "outputs": []
    },
    {
      "cell_type": "code",
      "metadata": {
        "id": "IEmmFkSGNjd8",
        "outputId": "4f98141f-1c30-4252-941c-e9d6bca465b1",
        "colab": {
          "base_uri": "https://localhost:8080/",
          "height": 35
        }
      },
      "source": [
        "X_testt.shape , X_traint.shape"
      ],
      "execution_count": 76,
      "outputs": [
        {
          "output_type": "execute_result",
          "data": {
            "text/plain": [
              "((2500, 23046), (7500, 23046))"
            ]
          },
          "metadata": {
            "tags": []
          },
          "execution_count": 76
        }
      ]
    },
    {
      "cell_type": "code",
      "metadata": {
        "id": "c4YgUDTMLc52"
      },
      "source": [
        "label = MultiLabelBinarizer()\n"
      ],
      "execution_count": 77,
      "outputs": []
    },
    {
      "cell_type": "code",
      "metadata": {
        "id": "J7yy4XyuMaZU"
      },
      "source": [
        "y_train1 = [set(i.split(',')) for i in y_train]\n",
        "y_test1 = [set(i.split(',')) for i in y_test]\n",
        "\n",
        "\n"
      ],
      "execution_count": 78,
      "outputs": []
    },
    {
      "cell_type": "code",
      "metadata": {
        "id": "cd75pD-MMdpi"
      },
      "source": [
        "y_train_lbl = label.fit_transform(y_train1)\n",
        "\n",
        "y_test_lbl = label.transform(y_test1)\n",
        "\n"
      ],
      "execution_count": 79,
      "outputs": []
    },
    {
      "cell_type": "code",
      "metadata": {
        "id": "k2nqz_rWNsDO",
        "outputId": "4d77fb17-4d2c-460a-d628-2d2af8521597",
        "colab": {
          "base_uri": "https://localhost:8080/",
          "height": 121
        }
      },
      "source": [
        "y_train_lbl[1:2],y_test_lbl[1:2]"
      ],
      "execution_count": 80,
      "outputs": [
        {
          "output_type": "execute_result",
          "data": {
            "text/plain": [
              "(array([[0, 0, 0, 0, 0, 0, 0, 0, 0, 0, 0, 0, 0, 1, 0, 0, 0, 0, 0, 0, 0, 0,\n",
              "         0, 0, 0, 0, 1, 0, 0, 0, 0, 0, 0, 0, 0, 0, 0, 1, 0, 0, 0, 0, 0, 0,\n",
              "         0, 0, 0, 0, 1, 0, 0, 0, 0, 0, 0, 0, 0, 0, 0, 0, 0, 0, 0, 0]]),\n",
              " array([[0, 1, 0, 0, 0, 0, 0, 0, 0, 0, 0, 0, 0, 0, 0, 0, 0, 0, 0, 0, 0, 0,\n",
              "         0, 0, 0, 0, 0, 0, 0, 0, 0, 0, 0, 0, 0, 0, 0, 0, 0, 0, 0, 0, 0, 0,\n",
              "         0, 0, 0, 0, 1, 0, 0, 0, 1, 0, 0, 0, 0, 0, 0, 1, 0, 0, 0, 0]]))"
            ]
          },
          "metadata": {
            "tags": []
          },
          "execution_count": 80
        }
      ]
    },
    {
      "cell_type": "code",
      "metadata": {
        "id": "b074kGQPMlUq"
      },
      "source": [
        "lr = LogisticRegression(solver='lbfgs', multi_class='ovr')\n",
        "\n"
      ],
      "execution_count": 81,
      "outputs": []
    },
    {
      "cell_type": "code",
      "metadata": {
        "id": "pj5jjT09Mnas",
        "outputId": "de29491f-a36a-4b37-849c-81433cc06eb6",
        "colab": {
          "base_uri": "https://localhost:8080/",
          "height": 191
        }
      },
      "source": [
        "clf = OneVsRestClassifier(lr)\n",
        "clf.fit(X_traint, y_train_lbl)\n"
      ],
      "execution_count": 82,
      "outputs": [
        {
          "output_type": "execute_result",
          "data": {
            "text/plain": [
              "OneVsRestClassifier(estimator=LogisticRegression(C=1.0, class_weight=None,\n",
              "                                                 dual=False, fit_intercept=True,\n",
              "                                                 intercept_scaling=1,\n",
              "                                                 l1_ratio=None, max_iter=100,\n",
              "                                                 multi_class='ovr', n_jobs=None,\n",
              "                                                 penalty='l2',\n",
              "                                                 random_state=None,\n",
              "                                                 solver='lbfgs', tol=0.0001,\n",
              "                                                 verbose=0, warm_start=False),\n",
              "                    n_jobs=None)"
            ]
          },
          "metadata": {
            "tags": []
          },
          "execution_count": 82
        }
      ]
    },
    {
      "cell_type": "code",
      "metadata": {
        "id": "iweAx61nMqFa"
      },
      "source": [
        "y_pred = clf.predict(X_testt)\n",
        "\n"
      ],
      "execution_count": 83,
      "outputs": []
    },
    {
      "cell_type": "code",
      "metadata": {
        "id": "mgDDXauyMsmZ",
        "outputId": "e19a0b0e-d3c3-4f77-ed47-67e06fe05aba",
        "colab": {
          "base_uri": "https://localhost:8080/",
          "height": 1000
        }
      },
      "source": [
        "print(classification_report(y_test_lbl, y_pred))\n",
        "\n"
      ],
      "execution_count": 84,
      "outputs": [
        {
          "output_type": "stream",
          "text": [
            "              precision    recall  f1-score   support\n",
            "\n",
            "           0       0.00      0.00      0.00        10\n",
            "           1       0.00      0.00      0.00        57\n",
            "           2       1.00      0.02      0.04       141\n",
            "           3       1.00      0.03      0.05       117\n",
            "           4       0.94      0.11      0.19       289\n",
            "           5       0.00      0.00      0.00        51\n",
            "           6       1.00      0.01      0.02       180\n",
            "           7       0.00      0.00      0.00        93\n",
            "           8       0.00      0.00      0.00        50\n",
            "           9       0.83      0.15      0.25       239\n",
            "          10       0.00      0.00      0.00        33\n",
            "          11       0.97      0.23      0.37       158\n",
            "          12       0.84      0.37      0.52       563\n",
            "          13       0.99      0.31      0.47       455\n",
            "          14       0.00      0.00      0.00         7\n",
            "          15       0.00      0.00      0.00        15\n",
            "          16       0.00      0.00      0.00        31\n",
            "          17       0.00      0.00      0.00         0\n",
            "          18       0.00      0.00      0.00         5\n",
            "          19       0.00      0.00      0.00         0\n",
            "          20       0.00      0.00      0.00         1\n",
            "          21       0.00      0.00      0.00         0\n",
            "          22       0.00      0.00      0.00         3\n",
            "          23       0.00      0.00      0.00         2\n",
            "          24       0.00      0.00      0.00         2\n",
            "          25       1.00      0.07      0.13       130\n",
            "          26       0.81      0.69      0.74      1050\n",
            "          27       0.00      0.00      0.00        16\n",
            "          28       0.00      0.00      0.00         2\n",
            "          29       0.00      0.00      0.00         4\n",
            "          30       0.00      0.00      0.00        20\n",
            "          31       0.90      0.07      0.14       121\n",
            "          32       0.00      0.00      0.00        59\n",
            "          33       0.00      0.00      0.00        35\n",
            "          34       0.00      0.00      0.00         2\n",
            "          35       0.00      0.00      0.00        59\n",
            "          36       0.00      0.00      0.00        40\n",
            "          37       1.00      0.32      0.48       434\n",
            "          38       0.80      0.64      0.71      1015\n",
            "          39       0.00      0.00      0.00        35\n",
            "          40       0.00      0.00      0.00         0\n",
            "          41       0.84      0.40      0.54       835\n",
            "          42       0.00      0.00      0.00        32\n",
            "          43       0.00      0.00      0.00        18\n",
            "          44       0.00      0.00      0.00         3\n",
            "          45       0.00      0.00      0.00         2\n",
            "          46       0.00      0.00      0.00        66\n",
            "          47       1.00      0.04      0.07       131\n",
            "          48       0.78      0.89      0.83      1485\n",
            "          49       1.00      0.15      0.26        34\n",
            "          50       0.00      0.00      0.00         2\n",
            "          51       0.00      0.00      0.00        17\n",
            "          52       1.00      0.10      0.19       106\n",
            "          53       0.00      0.00      0.00         1\n",
            "          54       0.00      0.00      0.00         1\n",
            "          55       0.98      0.20      0.34       304\n",
            "          56       0.00      0.00      0.00        14\n",
            "          57       1.00      0.01      0.02       256\n",
            "          58       0.00      0.00      0.00        20\n",
            "          59       0.96      0.10      0.18       257\n",
            "          60       0.52      0.06      0.11       188\n",
            "          61       0.84      0.39      0.53       649\n",
            "          62       0.00      0.00      0.00         1\n",
            "          63       0.00      0.00      0.00        54\n",
            "\n",
            "   micro avg       0.82      0.40      0.54     10000\n",
            "   macro avg       0.33      0.08      0.11     10000\n",
            "weighted avg       0.79      0.40      0.47     10000\n",
            " samples avg       0.77      0.40      0.50     10000\n",
            "\n"
          ],
          "name": "stdout"
        }
      ]
    },
    {
      "cell_type": "code",
      "metadata": {
        "id": "Rs6RWfGsMuUz",
        "outputId": "aab6ff1e-7d38-4f3b-dbf2-e0d2621a4c2e",
        "colab": {
          "base_uri": "https://localhost:8080/",
          "height": 35
        }
      },
      "source": [
        "accuracy_score(y_test_lbl, y_pred)\n",
        "\n"
      ],
      "execution_count": 85,
      "outputs": [
        {
          "output_type": "execute_result",
          "data": {
            "text/plain": [
              "0.1576"
            ]
          },
          "metadata": {
            "tags": []
          },
          "execution_count": 85
        }
      ]
    },
    {
      "cell_type": "code",
      "metadata": {
        "id": "wX3Hn3d1MwYQ",
        "outputId": "100ba23f-3ca0-4a3b-e508-56698deaea74",
        "colab": {
          "base_uri": "https://localhost:8080/",
          "height": 69
        }
      },
      "source": [
        "print('f1 score',f1_score(y_test_lbl,y_pred, average='micro'))\n",
        "print('Average Precision Score: ',average_precision_score(y_test_lbl,y_pred, average='micro'))\n",
        "print('Average Recall Score: ',recall_score(y_test_lbl,y_pred, average='weighted'))\n",
        "\n",
        "\n"
      ],
      "execution_count": 86,
      "outputs": [
        {
          "output_type": "stream",
          "text": [
            "f1 score 0.5400979800013421\n",
            "Average Precision Score:  0.36774330748826767\n",
            "Average Recall Score:  0.4024\n"
          ],
          "name": "stdout"
        }
      ]
    },
    {
      "cell_type": "code",
      "metadata": {
        "id": "z9fQCjw1MyUy"
      },
      "source": [
        "predicted = y_pred[1:10]\n",
        "actual = y_test_lbl[1:10]\n",
        "\n"
      ],
      "execution_count": 87,
      "outputs": []
    },
    {
      "cell_type": "code",
      "metadata": {
        "id": "C8aKXhJ5MgJH",
        "outputId": "a7b66622-52f8-413e-d6c7-5034a910195e",
        "colab": {
          "base_uri": "https://localhost:8080/",
          "height": 173
        }
      },
      "source": [
        "\n",
        "actualtransformed = label.inverse_transform(actual)\n",
        "actualtransformed"
      ],
      "execution_count": 88,
      "outputs": [
        {
          "output_type": "execute_result",
          "data": {
            "text/plain": [
              "[('14', 'male', 'pisces', 'student'),\n",
              " ('17', 'female', 'indunk', 'scorpio'),\n",
              " ('36', 'female', 'indunk', 'pisces'),\n",
              " ('17', 'female', 'indunk', 'scorpio'),\n",
              " ('14', 'cancer', 'male', 'student'),\n",
              " ('35', 'aries', 'male', 'technology'),\n",
              " ('35', 'aries', 'male', 'technology'),\n",
              " ('35', 'aries', 'male', 'technology'),\n",
              " ('16', 'capricorn', 'female', 'indunk')]"
            ]
          },
          "metadata": {
            "tags": []
          },
          "execution_count": 88
        }
      ]
    },
    {
      "cell_type": "code",
      "metadata": {
        "id": "oVwfNnA5OAkw",
        "outputId": "a0f7f02f-5b76-47af-d4c3-8d117171bdaa",
        "colab": {
          "base_uri": "https://localhost:8080/",
          "height": 173
        }
      },
      "source": [
        "predictedtransformed = label.inverse_transform(predicted)\n",
        "predictedtransformed\n"
      ],
      "execution_count": 89,
      "outputs": [
        {
          "output_type": "execute_result",
          "data": {
            "text/plain": [
              "[('aries', 'male'),\n",
              " ('male',),\n",
              " ('female', 'indunk'),\n",
              " ('female', 'indunk'),\n",
              " ('female',),\n",
              " ('35', 'aries', 'male', 'technology'),\n",
              " ('aries', 'male'),\n",
              " ('aries', 'male'),\n",
              " ('male',)]"
            ]
          },
          "metadata": {
            "tags": []
          },
          "execution_count": 89
        }
      ]
    },
    {
      "cell_type": "markdown",
      "metadata": {
        "id": "_Kd4cYqxhYLJ"
      },
      "source": [
        "Model accuracy dropped by 15% using TFIDF vectorizer"
      ]
    },
    {
      "cell_type": "markdown",
      "metadata": {
        "id": "nOmCxRwLiWOb"
      },
      "source": [
        "Inference:\n",
        "We built different model to check the model performance.\n",
        "1. With 96000 blogs, there were 80 classes to predict. Blogs consist of only english language and removed foreign languages. The model accuracy was very less with 4% uby wraping Logistic regeression with OneVsRest classifier and using countvectorizer(ngram_range)for converting words to vector.\n",
        "2. Model accuracy increased to 5% with using additional features in countvectorizer(ngram_range,min_df,stop_words ) for transforming words to numbers\n",
        "3. Build model with first 10000 records without removing foreign language,the model performed with 32% accuracy by wrapping logisticregression and LinearSVC in OneVsRestClassifier. The model was able to predict few classes with 90,100 and unable to predict most of the classes.We also saw jaccard score and hamming loss for multilabel classification problem\n",
        "4. The model performance dropped to 29% by just  countvectorizer with(ngram_range) parameter alone\n",
        "5. Checked the model performance using TDFIDF vectorizer as well, accuracy dropped to 15% with it.\n",
        "\n",
        "Separting blogs into different dataframe and predicting smaller number of labels can help in predicting all the labels appropriately."
      ]
    },
    {
      "cell_type": "code",
      "metadata": {
        "id": "duzM6M3jp_65"
      },
      "source": [
        ""
      ],
      "execution_count": null,
      "outputs": []
    }
  ]
}