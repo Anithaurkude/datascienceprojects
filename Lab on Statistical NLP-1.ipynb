{
 "cells": [
  {
   "cell_type": "markdown",
   "metadata": {
    "colab_type": "text",
    "id": "FU-HwvIdH0M-"
   },
   "source": [
    "# Sentiment analysis \n",
    "\n",
    "The objective of this problem is to perform Sentiment analysis from the tweets collected from the users targeted at various mobile devices.\n",
    "Based on the tweet posted by a user (text), we will classify if the sentiment of the user targeted at a particular mobile device is positive or not."
   ]
  },
  {
   "cell_type": "markdown",
   "metadata": {
    "colab_type": "text",
    "id": "aIWWfNks5sYa"
   },
   "source": [
    "## Question 1"
   ]
  },
  {
   "cell_type": "markdown",
   "metadata": {
    "colab_type": "text",
    "id": "nAQDiZHRH0M_"
   },
   "source": [
    "### Read the data\n",
    "- read tweets.csv\n",
    "- use latin encoding if it gives encoding error while loading"
   ]
  },
  {
   "cell_type": "code",
   "execution_count": 59,
   "metadata": {},
   "outputs": [],
   "source": [
    "from sklearn.metrics import accuracy_score\n",
    "import warnings\n",
    "warnings.filterwarnings(\"ignore\")"
   ]
  },
  {
   "cell_type": "code",
   "execution_count": 60,
   "metadata": {
    "colab": {},
    "colab_type": "code",
    "id": "3eXGIe-SH0NA"
   },
   "outputs": [],
   "source": [
    "import pandas as pd\n",
    "import seaborn as sns\n",
    "import matplotlib.pyplot as plt\n",
    "df= pd.read_csv('tweets.csv',encoding= 'unicode_escape')"
   ]
  },
  {
   "cell_type": "markdown",
   "metadata": {
    "colab_type": "text",
    "id": "39pqw0aE5sYe"
   },
   "source": [
    "### Drop null values\n",
    "- drop all the rows with null values"
   ]
  },
  {
   "cell_type": "code",
   "execution_count": 61,
   "metadata": {},
   "outputs": [
    {
     "data": {
      "text/plain": [
       "(9093, 3)"
      ]
     },
     "execution_count": 61,
     "metadata": {},
     "output_type": "execute_result"
    }
   ],
   "source": [
    "#checkign the shape of the dataframe\n",
    "df.shape"
   ]
  },
  {
   "cell_type": "code",
   "execution_count": 62,
   "metadata": {},
   "outputs": [
    {
     "name": "stdout",
     "output_type": "stream",
     "text": [
      "<class 'pandas.core.frame.DataFrame'>\n",
      "RangeIndex: 9093 entries, 0 to 9092\n",
      "Data columns (total 3 columns):\n",
      " #   Column                                              Non-Null Count  Dtype \n",
      "---  ------                                              --------------  ----- \n",
      " 0   tweet_text                                          9092 non-null   object\n",
      " 1   emotion_in_tweet_is_directed_at                     3291 non-null   object\n",
      " 2   is_there_an_emotion_directed_at_a_brand_or_product  9093 non-null   object\n",
      "dtypes: object(3)\n",
      "memory usage: 213.2+ KB\n"
     ]
    }
   ],
   "source": [
    "#checkign the datatype of the dataframe\n",
    "df.info()"
   ]
  },
  {
   "cell_type": "code",
   "execution_count": 63,
   "metadata": {
    "colab": {},
    "colab_type": "code",
    "id": "BF_69oyI5sYf"
   },
   "outputs": [
    {
     "data": {
      "text/plain": [
       "tweet_text                                               1\n",
       "emotion_in_tweet_is_directed_at                       5802\n",
       "is_there_an_emotion_directed_at_a_brand_or_product       0\n",
       "dtype: int64"
      ]
     },
     "execution_count": 63,
     "metadata": {},
     "output_type": "execute_result"
    }
   ],
   "source": [
    "#checking for null values\n",
    "df.isna().sum()"
   ]
  },
  {
   "cell_type": "code",
   "execution_count": 64,
   "metadata": {},
   "outputs": [],
   "source": [
    "#we could observe that for the emotion_in_tweet_is_directed_at field there are 5802 null values."
   ]
  },
  {
   "cell_type": "code",
   "execution_count": 65,
   "metadata": {},
   "outputs": [
    {
     "data": {
      "text/plain": [
       "array(['iPhone', 'iPad or iPhone App', 'iPad', 'Google', nan, 'Android',\n",
       "       'Apple', 'Android App', 'Other Google product or service',\n",
       "       'Other Apple product or service'], dtype=object)"
      ]
     },
     "execution_count": 65,
     "metadata": {},
     "output_type": "execute_result"
    }
   ],
   "source": [
    "#checkign for unique values\n",
    "df['emotion_in_tweet_is_directed_at'].unique()"
   ]
  },
  {
   "cell_type": "code",
   "execution_count": 66,
   "metadata": {},
   "outputs": [],
   "source": [
    "# As emotion_in_tweet_is_directed_at is text column, replacing null values with most frequently occured values"
   ]
  },
  {
   "cell_type": "code",
   "execution_count": 67,
   "metadata": {},
   "outputs": [
    {
     "data": {
      "text/plain": [
       "0    iPad\n",
       "dtype: object"
      ]
     },
     "execution_count": 67,
     "metadata": {},
     "output_type": "execute_result"
    }
   ],
   "source": [
    "#the most appeared value of emotion_in_tweet_is_directed_at is ipag\n",
    "df['emotion_in_tweet_is_directed_at'].mode()"
   ]
  },
  {
   "cell_type": "code",
   "execution_count": 68,
   "metadata": {},
   "outputs": [],
   "source": [
    "#instead of dropping null values replacing null values wiht mode\n",
    "df['emotion_in_tweet_is_directed_at'] = df['emotion_in_tweet_is_directed_at'].fillna(df['emotion_in_tweet_is_directed_at'].mode()[0])"
   ]
  },
  {
   "cell_type": "code",
   "execution_count": 69,
   "metadata": {},
   "outputs": [
    {
     "data": {
      "text/plain": [
       "0"
      ]
     },
     "execution_count": 69,
     "metadata": {},
     "output_type": "execute_result"
    }
   ],
   "source": [
    "#the null vlaues are removed\n",
    "df['emotion_in_tweet_is_directed_at'].isna().sum()"
   ]
  },
  {
   "cell_type": "code",
   "execution_count": 70,
   "metadata": {},
   "outputs": [
    {
     "data": {
      "text/plain": [
       "array(['iPhone', 'iPad or iPhone App', 'iPad', 'Google', 'Android',\n",
       "       'Apple', 'Android App', 'Other Google product or service',\n",
       "       'Other Apple product or service'], dtype=object)"
      ]
     },
     "execution_count": 70,
     "metadata": {},
     "output_type": "execute_result"
    }
   ],
   "source": [
    "df['emotion_in_tweet_is_directed_at'].unique()"
   ]
  },
  {
   "cell_type": "code",
   "execution_count": 71,
   "metadata": {},
   "outputs": [
    {
     "data": {
      "text/plain": [
       "tweet_text                                            1\n",
       "emotion_in_tweet_is_directed_at                       0\n",
       "is_there_an_emotion_directed_at_a_brand_or_product    0\n",
       "dtype: int64"
      ]
     },
     "execution_count": 71,
     "metadata": {},
     "output_type": "execute_result"
    }
   ],
   "source": [
    "df.isna().sum()"
   ]
  },
  {
   "cell_type": "code",
   "execution_count": 72,
   "metadata": {},
   "outputs": [],
   "source": [
    "#dropping the remaining null values from the field tweet_text"
   ]
  },
  {
   "cell_type": "code",
   "execution_count": 73,
   "metadata": {},
   "outputs": [],
   "source": [
    "df = df.dropna()"
   ]
  },
  {
   "cell_type": "code",
   "execution_count": 74,
   "metadata": {},
   "outputs": [
    {
     "data": {
      "text/plain": [
       "tweet_text                                            0\n",
       "emotion_in_tweet_is_directed_at                       0\n",
       "is_there_an_emotion_directed_at_a_brand_or_product    0\n",
       "dtype: int64"
      ]
     },
     "execution_count": 74,
     "metadata": {},
     "output_type": "execute_result"
    }
   ],
   "source": [
    "df.isna().sum()"
   ]
  },
  {
   "cell_type": "code",
   "execution_count": 75,
   "metadata": {},
   "outputs": [
    {
     "data": {
      "text/plain": [
       "(9092, 3)"
      ]
     },
     "execution_count": 75,
     "metadata": {},
     "output_type": "execute_result"
    }
   ],
   "source": [
    "#shape of the dataframe after removing null value is\n",
    "df.shape"
   ]
  },
  {
   "cell_type": "markdown",
   "metadata": {
    "colab_type": "text",
    "id": "0bm4bDiy5sYg"
   },
   "source": [
    "### Print the dataframe\n",
    "- print initial 5 rows of the data\n",
    "- use df.head()"
   ]
  },
  {
   "cell_type": "code",
   "execution_count": 76,
   "metadata": {
    "colab": {},
    "colab_type": "code",
    "id": "ceSlvAVa5sYh",
    "scrolled": true
   },
   "outputs": [
    {
     "data": {
      "text/html": [
       "<div>\n",
       "<style scoped>\n",
       "    .dataframe tbody tr th:only-of-type {\n",
       "        vertical-align: middle;\n",
       "    }\n",
       "\n",
       "    .dataframe tbody tr th {\n",
       "        vertical-align: top;\n",
       "    }\n",
       "\n",
       "    .dataframe thead th {\n",
       "        text-align: right;\n",
       "    }\n",
       "</style>\n",
       "<table border=\"1\" class=\"dataframe\">\n",
       "  <thead>\n",
       "    <tr style=\"text-align: right;\">\n",
       "      <th></th>\n",
       "      <th>tweet_text</th>\n",
       "      <th>emotion_in_tweet_is_directed_at</th>\n",
       "      <th>is_there_an_emotion_directed_at_a_brand_or_product</th>\n",
       "    </tr>\n",
       "  </thead>\n",
       "  <tbody>\n",
       "    <tr>\n",
       "      <th>0</th>\n",
       "      <td>.@wesley83 I have a 3G iPhone. After 3 hrs twe...</td>\n",
       "      <td>iPhone</td>\n",
       "      <td>Negative emotion</td>\n",
       "    </tr>\n",
       "    <tr>\n",
       "      <th>1</th>\n",
       "      <td>@jessedee Know about @fludapp ? Awesome iPad/i...</td>\n",
       "      <td>iPad or iPhone App</td>\n",
       "      <td>Positive emotion</td>\n",
       "    </tr>\n",
       "    <tr>\n",
       "      <th>2</th>\n",
       "      <td>@swonderlin Can not wait for #iPad 2 also. The...</td>\n",
       "      <td>iPad</td>\n",
       "      <td>Positive emotion</td>\n",
       "    </tr>\n",
       "    <tr>\n",
       "      <th>3</th>\n",
       "      <td>@sxsw I hope this year's festival isn't as cra...</td>\n",
       "      <td>iPad or iPhone App</td>\n",
       "      <td>Negative emotion</td>\n",
       "    </tr>\n",
       "    <tr>\n",
       "      <th>4</th>\n",
       "      <td>@sxtxstate great stuff on Fri #SXSW: Marissa M...</td>\n",
       "      <td>Google</td>\n",
       "      <td>Positive emotion</td>\n",
       "    </tr>\n",
       "  </tbody>\n",
       "</table>\n",
       "</div>"
      ],
      "text/plain": [
       "                                          tweet_text  \\\n",
       "0  .@wesley83 I have a 3G iPhone. After 3 hrs twe...   \n",
       "1  @jessedee Know about @fludapp ? Awesome iPad/i...   \n",
       "2  @swonderlin Can not wait for #iPad 2 also. The...   \n",
       "3  @sxsw I hope this year's festival isn't as cra...   \n",
       "4  @sxtxstate great stuff on Fri #SXSW: Marissa M...   \n",
       "\n",
       "  emotion_in_tweet_is_directed_at  \\\n",
       "0                          iPhone   \n",
       "1              iPad or iPhone App   \n",
       "2                            iPad   \n",
       "3              iPad or iPhone App   \n",
       "4                          Google   \n",
       "\n",
       "  is_there_an_emotion_directed_at_a_brand_or_product  \n",
       "0                                   Negative emotion  \n",
       "1                                   Positive emotion  \n",
       "2                                   Positive emotion  \n",
       "3                                   Negative emotion  \n",
       "4                                   Positive emotion  "
      ]
     },
     "execution_count": 76,
     "metadata": {},
     "output_type": "execute_result"
    }
   ],
   "source": [
    "#printing first 5 rows of the dataframe\n",
    "df.head()"
   ]
  },
  {
   "cell_type": "markdown",
   "metadata": {
    "colab_type": "text",
    "id": "jcWfPVqG5sYi"
   },
   "source": [
    "## Question 2"
   ]
  },
  {
   "cell_type": "markdown",
   "metadata": {
    "colab_type": "text",
    "id": "JBbAeip_5sYj"
   },
   "source": [
    "### Preprocess data\n",
    "- convert all text to lowercase - use .lower()\n",
    "- select only numbers, alphabets, and #+_ from text - use re.sub()\n",
    "- strip all the text - use .strip()\n",
    "    - this is for removing extra spaces"
   ]
  },
  {
   "cell_type": "code",
   "execution_count": 77,
   "metadata": {},
   "outputs": [],
   "source": [
    "import re\n",
    "#improting regex function"
   ]
  },
  {
   "cell_type": "code",
   "execution_count": 29,
   "metadata": {
    "colab": {},
    "colab_type": "code",
    "id": "PE4Bn_YT5sYj"
   },
   "outputs": [],
   "source": [
    "# df['tweet_text'] = df['tweet_text'].applymap(lambda s: re.sub('[^0-9a-z #+_]','',s))\n",
    "# df['tweet_text'] = df['tweet_text'].applymap(lambda s: s.lower())\n",
    "# df['tweet_text'] = df['tweet_text'].applymap(lambda s:s.strip())"
   ]
  },
  {
   "cell_type": "code",
   "execution_count": 78,
   "metadata": {},
   "outputs": [],
   "source": [
    "#converting to lower\n",
    "df= df.applymap(lambda s: s.lower())"
   ]
  },
  {
   "cell_type": "code",
   "execution_count": 79,
   "metadata": {},
   "outputs": [],
   "source": [
    "#replacing special characters with blank values\n",
    "df = df.applymap(lambda s: re.sub('[^0-9a-z #+_]','',s))"
   ]
  },
  {
   "cell_type": "code",
   "execution_count": 80,
   "metadata": {},
   "outputs": [
    {
     "data": {
      "text/html": [
       "<div>\n",
       "<style scoped>\n",
       "    .dataframe tbody tr th:only-of-type {\n",
       "        vertical-align: middle;\n",
       "    }\n",
       "\n",
       "    .dataframe tbody tr th {\n",
       "        vertical-align: top;\n",
       "    }\n",
       "\n",
       "    .dataframe thead th {\n",
       "        text-align: right;\n",
       "    }\n",
       "</style>\n",
       "<table border=\"1\" class=\"dataframe\">\n",
       "  <thead>\n",
       "    <tr style=\"text-align: right;\">\n",
       "      <th></th>\n",
       "      <th>tweet_text</th>\n",
       "      <th>emotion_in_tweet_is_directed_at</th>\n",
       "      <th>is_there_an_emotion_directed_at_a_brand_or_product</th>\n",
       "    </tr>\n",
       "  </thead>\n",
       "  <tbody>\n",
       "    <tr>\n",
       "      <th>0</th>\n",
       "      <td>wesley83 i have a 3g iphone after 3 hrs tweeti...</td>\n",
       "      <td>iphone</td>\n",
       "      <td>negative emotion</td>\n",
       "    </tr>\n",
       "    <tr>\n",
       "      <th>1</th>\n",
       "      <td>jessedee know about fludapp  awesome ipadiphon...</td>\n",
       "      <td>ipad or iphone app</td>\n",
       "      <td>positive emotion</td>\n",
       "    </tr>\n",
       "    <tr>\n",
       "      <th>2</th>\n",
       "      <td>swonderlin can not wait for #ipad 2 also they ...</td>\n",
       "      <td>ipad</td>\n",
       "      <td>positive emotion</td>\n",
       "    </tr>\n",
       "    <tr>\n",
       "      <th>3</th>\n",
       "      <td>sxsw i hope this years festival isnt as crashy...</td>\n",
       "      <td>ipad or iphone app</td>\n",
       "      <td>negative emotion</td>\n",
       "    </tr>\n",
       "    <tr>\n",
       "      <th>4</th>\n",
       "      <td>sxtxstate great stuff on fri #sxsw marissa may...</td>\n",
       "      <td>google</td>\n",
       "      <td>positive emotion</td>\n",
       "    </tr>\n",
       "  </tbody>\n",
       "</table>\n",
       "</div>"
      ],
      "text/plain": [
       "                                          tweet_text  \\\n",
       "0  wesley83 i have a 3g iphone after 3 hrs tweeti...   \n",
       "1  jessedee know about fludapp  awesome ipadiphon...   \n",
       "2  swonderlin can not wait for #ipad 2 also they ...   \n",
       "3  sxsw i hope this years festival isnt as crashy...   \n",
       "4  sxtxstate great stuff on fri #sxsw marissa may...   \n",
       "\n",
       "  emotion_in_tweet_is_directed_at  \\\n",
       "0                          iphone   \n",
       "1              ipad or iphone app   \n",
       "2                            ipad   \n",
       "3              ipad or iphone app   \n",
       "4                          google   \n",
       "\n",
       "  is_there_an_emotion_directed_at_a_brand_or_product  \n",
       "0                                   negative emotion  \n",
       "1                                   positive emotion  \n",
       "2                                   positive emotion  \n",
       "3                                   negative emotion  \n",
       "4                                   positive emotion  "
      ]
     },
     "execution_count": 80,
     "metadata": {},
     "output_type": "execute_result"
    }
   ],
   "source": [
    "\n",
    "df.head(5)"
   ]
  },
  {
   "cell_type": "code",
   "execution_count": 81,
   "metadata": {},
   "outputs": [],
   "source": [
    "df = df.applymap(lambda s: s.strip())"
   ]
  },
  {
   "cell_type": "markdown",
   "metadata": {
    "colab_type": "text",
    "id": "QlMvbtrK5sYl"
   },
   "source": [
    "print dataframe"
   ]
  },
  {
   "cell_type": "code",
   "execution_count": 82,
   "metadata": {
    "colab": {},
    "colab_type": "code",
    "id": "afocjaUn5sYm"
   },
   "outputs": [
    {
     "data": {
      "text/html": [
       "<div>\n",
       "<style scoped>\n",
       "    .dataframe tbody tr th:only-of-type {\n",
       "        vertical-align: middle;\n",
       "    }\n",
       "\n",
       "    .dataframe tbody tr th {\n",
       "        vertical-align: top;\n",
       "    }\n",
       "\n",
       "    .dataframe thead th {\n",
       "        text-align: right;\n",
       "    }\n",
       "</style>\n",
       "<table border=\"1\" class=\"dataframe\">\n",
       "  <thead>\n",
       "    <tr style=\"text-align: right;\">\n",
       "      <th></th>\n",
       "      <th>tweet_text</th>\n",
       "      <th>emotion_in_tweet_is_directed_at</th>\n",
       "      <th>is_there_an_emotion_directed_at_a_brand_or_product</th>\n",
       "    </tr>\n",
       "  </thead>\n",
       "  <tbody>\n",
       "    <tr>\n",
       "      <th>0</th>\n",
       "      <td>wesley83 i have a 3g iphone after 3 hrs tweeti...</td>\n",
       "      <td>iphone</td>\n",
       "      <td>negative emotion</td>\n",
       "    </tr>\n",
       "    <tr>\n",
       "      <th>1</th>\n",
       "      <td>jessedee know about fludapp  awesome ipadiphon...</td>\n",
       "      <td>ipad or iphone app</td>\n",
       "      <td>positive emotion</td>\n",
       "    </tr>\n",
       "    <tr>\n",
       "      <th>2</th>\n",
       "      <td>swonderlin can not wait for #ipad 2 also they ...</td>\n",
       "      <td>ipad</td>\n",
       "      <td>positive emotion</td>\n",
       "    </tr>\n",
       "    <tr>\n",
       "      <th>3</th>\n",
       "      <td>sxsw i hope this years festival isnt as crashy...</td>\n",
       "      <td>ipad or iphone app</td>\n",
       "      <td>negative emotion</td>\n",
       "    </tr>\n",
       "    <tr>\n",
       "      <th>4</th>\n",
       "      <td>sxtxstate great stuff on fri #sxsw marissa may...</td>\n",
       "      <td>google</td>\n",
       "      <td>positive emotion</td>\n",
       "    </tr>\n",
       "  </tbody>\n",
       "</table>\n",
       "</div>"
      ],
      "text/plain": [
       "                                          tweet_text  \\\n",
       "0  wesley83 i have a 3g iphone after 3 hrs tweeti...   \n",
       "1  jessedee know about fludapp  awesome ipadiphon...   \n",
       "2  swonderlin can not wait for #ipad 2 also they ...   \n",
       "3  sxsw i hope this years festival isnt as crashy...   \n",
       "4  sxtxstate great stuff on fri #sxsw marissa may...   \n",
       "\n",
       "  emotion_in_tweet_is_directed_at  \\\n",
       "0                          iphone   \n",
       "1              ipad or iphone app   \n",
       "2                            ipad   \n",
       "3              ipad or iphone app   \n",
       "4                          google   \n",
       "\n",
       "  is_there_an_emotion_directed_at_a_brand_or_product  \n",
       "0                                   negative emotion  \n",
       "1                                   positive emotion  \n",
       "2                                   positive emotion  \n",
       "3                                   negative emotion  \n",
       "4                                   positive emotion  "
      ]
     },
     "execution_count": 82,
     "metadata": {},
     "output_type": "execute_result"
    }
   ],
   "source": [
    "\n",
    "#checkign the dataframe\n",
    "df.head(5)"
   ]
  },
  {
   "cell_type": "code",
   "execution_count": 83,
   "metadata": {},
   "outputs": [
    {
     "data": {
      "text/plain": [
       "(9092, 3)"
      ]
     },
     "execution_count": 83,
     "metadata": {},
     "output_type": "execute_result"
    }
   ],
   "source": [
    "#pringing the shape\n",
    "df.shape"
   ]
  },
  {
   "cell_type": "markdown",
   "metadata": {
    "colab_type": "text",
    "id": "bcTUnvtg5sYn"
   },
   "source": [
    "## Question 3"
   ]
  },
  {
   "cell_type": "markdown",
   "metadata": {
    "colab_type": "text",
    "id": "4gnaeSXZ5sYo"
   },
   "source": [
    "### Preprocess data\n",
    "- in column \"is_there_an_emotion_directed_at_a_brand_or_product\"\n",
    "    - select only those rows where value equal to \"positive emotion\" or \"negative emotion\"\n",
    "- find the value counts of \"positive emotion\" and \"negative emotion\""
   ]
  },
  {
   "cell_type": "code",
   "execution_count": 84,
   "metadata": {
    "colab": {},
    "colab_type": "code",
    "id": "nLewJh_35sYp"
   },
   "outputs": [
    {
     "data": {
      "text/plain": [
       "array(['negative emotion', 'positive emotion',\n",
       "       'no emotion toward brand or product', 'i cant tell'], dtype=object)"
      ]
     },
     "execution_count": 84,
     "metadata": {},
     "output_type": "execute_result"
    }
   ],
   "source": [
    "#chekcing the unique values in dataframe\n",
    "df['is_there_an_emotion_directed_at_a_brand_or_product'].unique()"
   ]
  },
  {
   "cell_type": "code",
   "execution_count": 85,
   "metadata": {
    "colab": {},
    "colab_type": "code",
    "id": "3VFYB4eh5sYr"
   },
   "outputs": [
    {
     "data": {
      "text/plain": [
       "no emotion toward brand or product    5388\n",
       "positive emotion                      2978\n",
       "negative emotion                       570\n",
       "i cant tell                            156\n",
       "Name: is_there_an_emotion_directed_at_a_brand_or_product, dtype: int64"
      ]
     },
     "execution_count": 85,
     "metadata": {},
     "output_type": "execute_result"
    }
   ],
   "source": [
    "#checking for value_counts\n",
    "df['is_there_an_emotion_directed_at_a_brand_or_product'].value_counts()"
   ]
  },
  {
   "cell_type": "code",
   "execution_count": 86,
   "metadata": {},
   "outputs": [],
   "source": [
    "#forming dataframe with only positive and neagtive emotion and removing other empotions\n",
    "newdf = df.loc[(df['is_there_an_emotion_directed_at_a_brand_or_product'] == 'positive emotion') | (df['is_there_an_emotion_directed_at_a_brand_or_product'] == 'negative emotion')]"
   ]
  },
  {
   "cell_type": "code",
   "execution_count": 87,
   "metadata": {},
   "outputs": [
    {
     "data": {
      "text/html": [
       "<div>\n",
       "<style scoped>\n",
       "    .dataframe tbody tr th:only-of-type {\n",
       "        vertical-align: middle;\n",
       "    }\n",
       "\n",
       "    .dataframe tbody tr th {\n",
       "        vertical-align: top;\n",
       "    }\n",
       "\n",
       "    .dataframe thead th {\n",
       "        text-align: right;\n",
       "    }\n",
       "</style>\n",
       "<table border=\"1\" class=\"dataframe\">\n",
       "  <thead>\n",
       "    <tr style=\"text-align: right;\">\n",
       "      <th></th>\n",
       "      <th>tweet_text</th>\n",
       "      <th>emotion_in_tweet_is_directed_at</th>\n",
       "      <th>is_there_an_emotion_directed_at_a_brand_or_product</th>\n",
       "    </tr>\n",
       "  </thead>\n",
       "  <tbody>\n",
       "    <tr>\n",
       "      <th>0</th>\n",
       "      <td>wesley83 i have a 3g iphone after 3 hrs tweeti...</td>\n",
       "      <td>iphone</td>\n",
       "      <td>negative emotion</td>\n",
       "    </tr>\n",
       "    <tr>\n",
       "      <th>1</th>\n",
       "      <td>jessedee know about fludapp  awesome ipadiphon...</td>\n",
       "      <td>ipad or iphone app</td>\n",
       "      <td>positive emotion</td>\n",
       "    </tr>\n",
       "    <tr>\n",
       "      <th>2</th>\n",
       "      <td>swonderlin can not wait for #ipad 2 also they ...</td>\n",
       "      <td>ipad</td>\n",
       "      <td>positive emotion</td>\n",
       "    </tr>\n",
       "    <tr>\n",
       "      <th>3</th>\n",
       "      <td>sxsw i hope this years festival isnt as crashy...</td>\n",
       "      <td>ipad or iphone app</td>\n",
       "      <td>negative emotion</td>\n",
       "    </tr>\n",
       "    <tr>\n",
       "      <th>4</th>\n",
       "      <td>sxtxstate great stuff on fri #sxsw marissa may...</td>\n",
       "      <td>google</td>\n",
       "      <td>positive emotion</td>\n",
       "    </tr>\n",
       "    <tr>\n",
       "      <th>...</th>\n",
       "      <td>...</td>\n",
       "      <td>...</td>\n",
       "      <td>...</td>\n",
       "    </tr>\n",
       "    <tr>\n",
       "      <th>9077</th>\n",
       "      <td>mention your pr guy just convinced me to switc...</td>\n",
       "      <td>iphone</td>\n",
       "      <td>positive emotion</td>\n",
       "    </tr>\n",
       "    <tr>\n",
       "      <th>9079</th>\n",
       "      <td>quotpapyrussort of like the ipadquot  nice lol...</td>\n",
       "      <td>ipad</td>\n",
       "      <td>positive emotion</td>\n",
       "    </tr>\n",
       "    <tr>\n",
       "      <th>9080</th>\n",
       "      <td>diller says google tv quotmight be run over by...</td>\n",
       "      <td>other google product or service</td>\n",
       "      <td>negative emotion</td>\n",
       "    </tr>\n",
       "    <tr>\n",
       "      <th>9085</th>\n",
       "      <td>ive always used camera+ for my iphone bc it ha...</td>\n",
       "      <td>ipad or iphone app</td>\n",
       "      <td>positive emotion</td>\n",
       "    </tr>\n",
       "    <tr>\n",
       "      <th>9088</th>\n",
       "      <td>ipad everywhere #sxsw link</td>\n",
       "      <td>ipad</td>\n",
       "      <td>positive emotion</td>\n",
       "    </tr>\n",
       "  </tbody>\n",
       "</table>\n",
       "<p>3548 rows × 3 columns</p>\n",
       "</div>"
      ],
      "text/plain": [
       "                                             tweet_text  \\\n",
       "0     wesley83 i have a 3g iphone after 3 hrs tweeti...   \n",
       "1     jessedee know about fludapp  awesome ipadiphon...   \n",
       "2     swonderlin can not wait for #ipad 2 also they ...   \n",
       "3     sxsw i hope this years festival isnt as crashy...   \n",
       "4     sxtxstate great stuff on fri #sxsw marissa may...   \n",
       "...                                                 ...   \n",
       "9077  mention your pr guy just convinced me to switc...   \n",
       "9079  quotpapyrussort of like the ipadquot  nice lol...   \n",
       "9080  diller says google tv quotmight be run over by...   \n",
       "9085  ive always used camera+ for my iphone bc it ha...   \n",
       "9088                         ipad everywhere #sxsw link   \n",
       "\n",
       "      emotion_in_tweet_is_directed_at  \\\n",
       "0                              iphone   \n",
       "1                  ipad or iphone app   \n",
       "2                                ipad   \n",
       "3                  ipad or iphone app   \n",
       "4                              google   \n",
       "...                               ...   \n",
       "9077                           iphone   \n",
       "9079                             ipad   \n",
       "9080  other google product or service   \n",
       "9085               ipad or iphone app   \n",
       "9088                             ipad   \n",
       "\n",
       "     is_there_an_emotion_directed_at_a_brand_or_product  \n",
       "0                                      negative emotion  \n",
       "1                                      positive emotion  \n",
       "2                                      positive emotion  \n",
       "3                                      negative emotion  \n",
       "4                                      positive emotion  \n",
       "...                                                 ...  \n",
       "9077                                   positive emotion  \n",
       "9079                                   positive emotion  \n",
       "9080                                   negative emotion  \n",
       "9085                                   positive emotion  \n",
       "9088                                   positive emotion  \n",
       "\n",
       "[3548 rows x 3 columns]"
      ]
     },
     "execution_count": 87,
     "metadata": {},
     "output_type": "execute_result"
    }
   ],
   "source": [
    "newdf"
   ]
  },
  {
   "cell_type": "code",
   "execution_count": 88,
   "metadata": {
    "scrolled": false
   },
   "outputs": [
    {
     "data": {
      "text/plain": [
       "positive emotion    2978\n",
       "negative emotion     570\n",
       "Name: is_there_an_emotion_directed_at_a_brand_or_product, dtype: int64"
      ]
     },
     "execution_count": 88,
     "metadata": {},
     "output_type": "execute_result"
    }
   ],
   "source": [
    "#chekcign the value counts after deleting the other emotions\n",
    "newdf['is_there_an_emotion_directed_at_a_brand_or_product'].value_counts()\n",
    "#there are 2978 positive emotions and 570 negative emoitions"
   ]
  },
  {
   "cell_type": "markdown",
   "metadata": {
    "colab_type": "text",
    "id": "6icGcVTE5sYz"
   },
   "source": [
    "## Question 4"
   ]
  },
  {
   "cell_type": "markdown",
   "metadata": {
    "colab_type": "text",
    "id": "Rg0rSepj5sYz"
   },
   "source": [
    "### Encode labels\n",
    "- in column \"is_there_an_emotion_directed_at_a_brand_or_product\"\n",
    "    - change \"positive emotion\" to 1\n",
    "    - change \"negative emotion\" to 0\n",
    "- use map function to replace values"
   ]
  },
  {
   "cell_type": "code",
   "execution_count": 41,
   "metadata": {
    "colab": {},
    "colab_type": "code",
    "id": "YftKwFv7H0N9"
   },
   "outputs": [
    {
     "name": "stderr",
     "output_type": "stream",
     "text": [
      "C:\\ProgramData\\Anaconda3\\lib\\site-packages\\ipykernel_launcher.py:3: SettingWithCopyWarning: \n",
      "A value is trying to be set on a copy of a slice from a DataFrame.\n",
      "Try using .loc[row_indexer,col_indexer] = value instead\n",
      "\n",
      "See the caveats in the documentation: https://pandas.pydata.org/pandas-docs/stable/user_guide/indexing.html#returning-a-view-versus-a-copy\n",
      "  This is separate from the ipykernel package so we can avoid doing imports until\n"
     ]
    }
   ],
   "source": [
    "#one way to replace postive emotion and negative emotion with one and zero\n",
    "di = {'positive emotion':1, 'negative emotion':0}\n",
    "newdf['is_there_an_emotion_directed_at_a_brand_or_product'] = newdf['is_there_an_emotion_directed_at_a_brand_or_product'].map(di)"
   ]
  },
  {
   "cell_type": "code",
   "execution_count": 9,
   "metadata": {},
   "outputs": [],
   "source": [
    "#other way to replace positive and negative emotion to one and zero"
   ]
  },
  {
   "cell_type": "code",
   "execution_count": 89,
   "metadata": {},
   "outputs": [],
   "source": [
    "newdf['is_there_an_emotion_directed_at_a_brand_or_product'] = newdf['is_there_an_emotion_directed_at_a_brand_or_product'].replace(\"positive emotion\",1)"
   ]
  },
  {
   "cell_type": "code",
   "execution_count": 90,
   "metadata": {},
   "outputs": [],
   "source": [
    "newdf['is_there_an_emotion_directed_at_a_brand_or_product'] = newdf['is_there_an_emotion_directed_at_a_brand_or_product'].replace(\"negative emotion\",0)"
   ]
  },
  {
   "cell_type": "code",
   "execution_count": 91,
   "metadata": {},
   "outputs": [],
   "source": [
    "# di = {'Positive emotion':1, 'Negative emotion':0}\n",
    "# df['is_there_an_emotion_directed_at_a_brand_or_product'] = df['is_there_an_emotion_directed_at_a_brand_or_product'].map(di)"
   ]
  },
  {
   "cell_type": "code",
   "execution_count": 92,
   "metadata": {},
   "outputs": [
    {
     "data": {
      "text/html": [
       "<div>\n",
       "<style scoped>\n",
       "    .dataframe tbody tr th:only-of-type {\n",
       "        vertical-align: middle;\n",
       "    }\n",
       "\n",
       "    .dataframe tbody tr th {\n",
       "        vertical-align: top;\n",
       "    }\n",
       "\n",
       "    .dataframe thead th {\n",
       "        text-align: right;\n",
       "    }\n",
       "</style>\n",
       "<table border=\"1\" class=\"dataframe\">\n",
       "  <thead>\n",
       "    <tr style=\"text-align: right;\">\n",
       "      <th></th>\n",
       "      <th>tweet_text</th>\n",
       "      <th>emotion_in_tweet_is_directed_at</th>\n",
       "      <th>is_there_an_emotion_directed_at_a_brand_or_product</th>\n",
       "    </tr>\n",
       "  </thead>\n",
       "  <tbody>\n",
       "    <tr>\n",
       "      <th>0</th>\n",
       "      <td>wesley83 i have a 3g iphone after 3 hrs tweeti...</td>\n",
       "      <td>iphone</td>\n",
       "      <td>0</td>\n",
       "    </tr>\n",
       "    <tr>\n",
       "      <th>1</th>\n",
       "      <td>jessedee know about fludapp  awesome ipadiphon...</td>\n",
       "      <td>ipad or iphone app</td>\n",
       "      <td>1</td>\n",
       "    </tr>\n",
       "    <tr>\n",
       "      <th>2</th>\n",
       "      <td>swonderlin can not wait for #ipad 2 also they ...</td>\n",
       "      <td>ipad</td>\n",
       "      <td>1</td>\n",
       "    </tr>\n",
       "    <tr>\n",
       "      <th>3</th>\n",
       "      <td>sxsw i hope this years festival isnt as crashy...</td>\n",
       "      <td>ipad or iphone app</td>\n",
       "      <td>0</td>\n",
       "    </tr>\n",
       "    <tr>\n",
       "      <th>4</th>\n",
       "      <td>sxtxstate great stuff on fri #sxsw marissa may...</td>\n",
       "      <td>google</td>\n",
       "      <td>1</td>\n",
       "    </tr>\n",
       "  </tbody>\n",
       "</table>\n",
       "</div>"
      ],
      "text/plain": [
       "                                          tweet_text  \\\n",
       "0  wesley83 i have a 3g iphone after 3 hrs tweeti...   \n",
       "1  jessedee know about fludapp  awesome ipadiphon...   \n",
       "2  swonderlin can not wait for #ipad 2 also they ...   \n",
       "3  sxsw i hope this years festival isnt as crashy...   \n",
       "4  sxtxstate great stuff on fri #sxsw marissa may...   \n",
       "\n",
       "  emotion_in_tweet_is_directed_at  \\\n",
       "0                          iphone   \n",
       "1              ipad or iphone app   \n",
       "2                            ipad   \n",
       "3              ipad or iphone app   \n",
       "4                          google   \n",
       "\n",
       "   is_there_an_emotion_directed_at_a_brand_or_product  \n",
       "0                                                  0   \n",
       "1                                                  1   \n",
       "2                                                  1   \n",
       "3                                                  0   \n",
       "4                                                  1   "
      ]
     },
     "execution_count": 92,
     "metadata": {},
     "output_type": "execute_result"
    }
   ],
   "source": [
    "newdf.head()"
   ]
  },
  {
   "cell_type": "code",
   "execution_count": 93,
   "metadata": {},
   "outputs": [
    {
     "data": {
      "text/plain": [
       "array([0, 1], dtype=int64)"
      ]
     },
     "execution_count": 93,
     "metadata": {},
     "output_type": "execute_result"
    }
   ],
   "source": [
    "newdf['is_there_an_emotion_directed_at_a_brand_or_product'].unique()"
   ]
  },
  {
   "cell_type": "markdown",
   "metadata": {
    "colab_type": "text",
    "id": "sC1qSe3h5sY2"
   },
   "source": [
    "## Question 5"
   ]
  },
  {
   "cell_type": "markdown",
   "metadata": {
    "colab_type": "text",
    "id": "aWlAN_Ts5sY2"
   },
   "source": [
    "### Get feature and label\n",
    "- get column \"tweet_text\" as feature\n",
    "- get column \"is_there_an_emotion_directed_at_a_brand_or_product\" as label"
   ]
  },
  {
   "cell_type": "code",
   "execution_count": 94,
   "metadata": {
    "colab": {},
    "colab_type": "code",
    "id": "9A3sOZzR5sY4"
   },
   "outputs": [],
   "source": [
    "#forming the featrue\n",
    "X = newdf['tweet_text']"
   ]
  },
  {
   "cell_type": "code",
   "execution_count": 95,
   "metadata": {},
   "outputs": [],
   "source": [
    "#forming the label\n",
    "y = newdf['is_there_an_emotion_directed_at_a_brand_or_product']"
   ]
  },
  {
   "cell_type": "markdown",
   "metadata": {
    "colab_type": "text",
    "id": "3YErwYLCH0N_"
   },
   "source": [
    "### Create train and test data\n",
    "- use train_test_split to get train and test set\n",
    "- set a random_state\n",
    "- test_size: 0.25"
   ]
  },
  {
   "cell_type": "code",
   "execution_count": 96,
   "metadata": {
    "colab": {},
    "colab_type": "code",
    "id": "lNkwrGgEH0OA"
   },
   "outputs": [],
   "source": [
    "from sklearn.model_selection import train_test_split"
   ]
  },
  {
   "cell_type": "code",
   "execution_count": 97,
   "metadata": {},
   "outputs": [],
   "source": [
    "#splitting into train and test\n",
    "X_train,X_test, y_train,y_test = train_test_split(X,y,test_size=0.25,random_state=42)"
   ]
  },
  {
   "cell_type": "markdown",
   "metadata": {
    "colab_type": "text",
    "id": "gMok2IX35sY8"
   },
   "source": [
    "## Question 6"
   ]
  },
  {
   "cell_type": "markdown",
   "metadata": {
    "colab_type": "text",
    "id": "dSqYjPuT5sY8"
   },
   "source": [
    "### Vectorize data\n",
    "- create document-term matrix\n",
    "- use CountVectorizer()\n",
    "    - ngram_range: (1, 2)\n",
    "    - stop_words: 'english'\n",
    "    - min_df: 2   \n",
    "- do fit_transform on X_train\n",
    "- do transform on X_test"
   ]
  },
  {
   "cell_type": "code",
   "execution_count": 98,
   "metadata": {
    "colab": {},
    "colab_type": "code",
    "id": "bb9PnnqT5sY8"
   },
   "outputs": [],
   "source": [
    "#initializing count vectorizer\n",
    "from sklearn.feature_extraction.text import CountVectorizer\n",
    "vectorizer = CountVectorizer(ngram_range=(1,2),stop_words = 'english',min_df =2)"
   ]
  },
  {
   "cell_type": "code",
   "execution_count": 99,
   "metadata": {},
   "outputs": [],
   "source": [
    "X_train = vectorizer.fit_transform(X_train)\n",
    "#fit_transform train data"
   ]
  },
  {
   "cell_type": "code",
   "execution_count": 100,
   "metadata": {},
   "outputs": [
    {
     "data": {
      "text/plain": [
       "<2661x5901 sparse matrix of type '<class 'numpy.int64'>'\n",
       "\twith 41880 stored elements in Compressed Sparse Row format>"
      ]
     },
     "execution_count": 100,
     "metadata": {},
     "output_type": "execute_result"
    }
   ],
   "source": [
    "X_train"
   ]
  },
  {
   "cell_type": "code",
   "execution_count": 101,
   "metadata": {},
   "outputs": [],
   "source": [
    "X_test = vectorizer.transform(X_test)\n",
    "#transform test data"
   ]
  },
  {
   "cell_type": "code",
   "execution_count": 102,
   "metadata": {},
   "outputs": [
    {
     "name": "stdout",
     "output_type": "stream",
     "text": [
      "['10', '10 attendees', '10 hot', '10 link', '100', '1000', '101', '101 link', '11', '11ntc', '11ntc sxsw', '12', '12 months', '12b', '12b miles', '136', '136 google', '1413', '15', '15 minute', '15 minutes', '150', '150 million', '1500', '1500 macbook', '15k', '16gb', '16gb wifi', '1986', '1986quot', '1st', '1st prize', '1st time', '20', '20 min', '2011', '2011 computing', '2011 google', '2011 link', '2011 mention', '2011 novelty', '2011 prizes', '2011 weekend', '2011_', '2011_ link', '21', '21 fail', '22', '22 tracks', '247', '247 amp', '247 stream', '250k', '250k new', '2day', '2nd', '2nd place', '2nd prize', '2not', '2not worry', '2quot', '2quot mention', '2s', '2s austin', '2s sxsw', '30', '30 android', '313', '315', '315 details', '330pm', '36', '37', '3d', '3d buildings', '3g', '3g 64mb', '3g ipad', '3gs', '3rd', '3x', '3x speedup', '40', '40 google', '40 use', '40 users', '43', '43 just', '4chan', '4g', '4g austin', '4sq', '4sq sxsw', '4square', '4year', '4year olds', '50', '52', '52 looks', '55', '5pm', '5pm sxsw', '64gb', '64gb wifi', '64gig', '64gig wifi', '64mb', '64mb apple', '654', '654 link', '6th', '6th amp', '6th congress', '6th st', '6th time', '70', '70 1st', '70 digital', '70 went', '80s', '80s party', '80sthemed', '80sthemed costume', '89', '89 startups', '911tweets', '911tweets panel', '915', '915 hard', '930', '96', '96 apple', '99', '______', 'aapl', 'aapl open', 'able', 'absolutely', 'abt', 'abuzz', 'accessibility', 'accessible', 'accessory', 'accesssxsw', 'accordion', 'accordion toodamnlucky', 'account', 'aclu', 'aclu google', 'aclugoogle', 'acquired', 'acquired 89', 'action', 'action having', 'action link', 'action showcase', 'action sxsw', 'actsofsharingcom', 'actsofsharingcom tonight', 'actual', 'actually', 'actually buy', 'actually task', 'ad', 'ad hoc', 'ad youd', 'add', 'added', 'added clean', 'added sxsw', 'addition', 'admired', 'admired intelligent', 'admit', 'admit apple', 'admits', 'admits google', 'adoption', 'ads', 'advertising', 'advice', 'advice google', 'affirmative', 'affirmative action', 'afternoon', 'afternoon sxsw', 'agchat', 'age', 'agencies', 'agencies push', 'agileagency', 'agileagency sxsw', 'ago', 'agree', 'agreed', 'agreed novelty', 'ahead', 'ahhh', 'aint', 'air', 'air ipad', 'airline', 'airline mentioned', 'airport', 'airport people', 'airports', 'alarm', 'alarm google', 'album', 'album sxsw', 'alex', 'algorithm', 'alive', 'alive loving', 'allhat3', 'allow', 'allowing', 'alternate', 'alternate routes', 'amazing', 'amazing apple', 'amazing people', 'amazing sxsw', 'amazingly', 'amazingly easy', 'america', 'america launched', 'america user', 'americaquot', 'americaquot flipboard', 'americaquot kara', 'americaquot says', 'amp', 'amp bing', 'amp check', 'amp congress', 'amp droid', 'amp enter', 'amp foursquare', 'amp google', 'amp ipad', 'amp iphone', 'amp light', 'amp live', 'amp mention', 'amp mobile', 'amp physical', 'amp track', 'amp wifi', 'ampipad', 'ampipad launch', 'analytics', 'analytics track', 'andoid', 'andoid app', 'android', 'android 21', 'android 30', 'android app', 'android app11', 'android apps', 'android available', 'android camera', 'android choice', 'android fan', 'android flaming', 'android geeks', 'android iphone', 'android just', 'android link', 'android looking', 'android market', 'android marketplace', 'android party', 'android passes', 'android phone', 'android phones', 'android pretty', 'android rt', 'android says', 'android sxsw', 'android tablet', 'androidiphone', 'androidiphone cool', 'androidsxsw', 'androidsxsw sxsw', 'announce', 'announce details', 'announce music', 'announced', 'announced sxsw', 'announcing', 'announcing great', 'annoying', 'answer', 'anybody', 'anymore', 'ap', 'api', 'apis', 'app', 'app amp', 'app android', 'app available', 'app awesome', 'app bizzy', 'app built', 'app checking', 'app date', 'app demo', 'app download', 'app example', 'app far', 'app foodspotting', 'app free', 'app got', 'app highlight', 'app holler', 'app ipad', 'app iphone', 'app just', 'app lets', 'app link', 'app live', 'app madebymany', 'app makes', 'app mention', 'app moonbot', 'app nicely', 'app overlay', 'app ready', 'app really', 'app rt', 'app share', 'app song', 'app store', 'app sxsw', 'app team', 'app thanks', 'app time', 'app updates', 'app use', 'app way', 'app week', 'app11', 'app11 kthxbai', 'apparently', 'appears', 'appears trending', 'apple', 'apple ad', 'apple austin', 'apple autocorrect', 'apple begins', 'apple built', 'apple classiest', 'apple credit', 'apple devices', 'apple does', 'apple drumroll', 'apple employees', 'apple fan', 'apple fanboy', 'apple fanboys', 'apple fans', 'apple far', 'apple gets', 'apple google', 'apple great', 'apple hawk', 'apple intentionally', 'apple ipad', 'apple ipad2', 'apple ipod', 'apple just', 'apple knows', 'apple like', 'apple link', 'apple marketing', 'apple mention', 'apple open', 'apple opened', 'apple opening', 'apple opens', 'apple pagemaker', 'apple played', 'apple pop', 'apple popup', 'apple popupstore', 'apple product', 'apple products', 'apple puts', 'apple quarter', 'apple quotthe', 'apple really', 'apple releasing', 'apple saves', 'apple schools', 'apple sell', 'apple set', 'apple sets', 'apple setting', 'apple smart', 'apple smartphone', 'apple store', 'apple stores', 'apple stuff', 'apple survival', 'apple sxsw', 'apple tablet', 'apple temporary', 'apple tv', 'apple winning', 'apple wins', 'apple winssxsw', 'apple_store', 'appleatxdt', 'applequot', 'applequotthe', 'applequotthe classiest', 'apples', 'apples continued', 'apples notes', 'apples opening', 'apples popup', 'apples store', 'apples taking', 'apples temporary', 'application', 'application link', 'appolicious', 'appolicious app', 'approaches', 'approval', 'approved', 'approved new', 'apps', 'apps connected', 'apps fades', 'apps grooving', 'apps ipad', 'apps iphone', 'apps make', 'apps mention', 'apps speech', 'apps survive', 'apps sxsw', 'apps using', 'apps weve', 'apps youre', 'appstore', 'aquent', 'arduino', 'arduino android', 'arent', 'arm', 'aron', 'aron pilhofer', 'arrived', 'art', 'art ice', 'art interactive', 'art museums', 'art project', 'article', 'article sxsw', 'artist', 'artist mention', 'artists', 'artists grab', 'artistsquot', 'artwork', 'ask', 'asked', 'asks', 'asleep', 'ass', 'atampt', 'atampt iphone', 'atampt phone', 'att', 'attend', 'attendees', 'attendees blame', 'attendees course', 'attendees ipad2', 'attendees mac', 'attendees need', 'attending', 'attending sxsw', 'attention', 'atx', 'audience', 'audience sharing', 'audio', 'audio game', 'augmented', 'augmented reality', 'aus', 'aus sxsw', 'austin', 'austin apple', 'austin bbq', 'austin convention', 'austin details', 'austin eats', 'austin guide', 'austin ipad', 'austin iphone', 'austin java', 'austin just', 'austin link', 'austin mention', 'austin nerds', 'austin open', 'austin people', 'austin pics', 'austin pop', 'austin sell', 'austin store', 'austin support', 'austin swarms', 'austin sxsw', 'austin tacos', 'austin tests', 'austin texas', 'austin tx', 'austinbound', 'austinbound apple', 'austins', 'autocorrect', 'autocorrect tried', 'autocorrect weird', 'autocorrects', 'autocorrects idiocy', 'available', 'available android', 'available iphone', 'available link', 'available online', 'ave', 'average', 'avoid', 'avoid traffic', 'avoiding', 'aw', 'aw sxsw', 'awards', 'awards thanks', 'away', 'away apple', 'away free', 'away ipad', 'awesome', 'awesome austin', 'awesome day', 'awesome got', 'awesome integration', 'awesome ipad', 'awesome iphone', 'awesome link', 'awesome new', 'awesome rt', 'awesome sxsw', 'awesomely', 'awesomely rad', 'awesomeness', 'awesomeness apple', 'awkward', 'baby', 'background', 'backup', 'backup charger', 'bad', 'bad just', 'bad news', 'badge', 'badge gets', 'bag', 'bajillions', 'bajillions ipad2s', 'ballroom', 'banality', 'banality link', 'band', 'bands', 'bands food', 'bank', 'bank america', 'banking', 'banking coming', 'bankinnovation', 'bankinnovation sxsw', 'banks', 'bar', 'bar charge', 'barely', 'barry', 'barry diller', 'bars', 'barton', 'based', 'basis', 'basis design', 'battery', 'battery dies', 'battery life', 'battery sxsw', 'batterykiller', 'batterykiller sxsw', 'battle', 'bavcid', 'bavcid sxsw', 'bb', 'bbq', 'bbq iphone', 'bbq sxsw', 'bc', 'beach', 'beard', 'beard ipad', 'beat', 'beat free', 'beautiful', 'beautiful day', 'beautiful elegant', 'beauty', 'beauty web', 'bed', 'beer', 'begins', 'begins apple', 'begins sxsw', 'behavior', 'behavior understand', 'believe', 'belinsky', 'belinsky 911tweets', 'beluga', 'beluga iphone', 'benefit', 'best', 'best andoid', 'best apps', 'best ipad', 'best looking', 'best swag', 'best sxsw', 'best thing', 'bet', 'bet sell', 'beta', 'beta testing', 'better', 'better hisxsw', 'better ipad', 'better iphone', 'better rest', 'better serve', 'better sxsw', 'bettercloud', 'betterquot', 'betterquot mention', 'betterquot protecting', 'betterquot sxsw', 'big', 'big apple', 'big chunky', 'big news', 'big place', 'big social', 'big sxsw', 'big twitter', 'bigger', 'bigger ipad', 'bigger sxsw', 'biggest', 'biggest events', 'billion', 'billion pixel', 'bing', 'bing smackdown', 'bing sxsw', 'bings', 'bings search', 'biomimicry', 'biomimicry basis', 'birds', 'bit', 'bit book', 'bit jealous', 'bitlyg03mzb', 'bitlyi41h53', 'bitlyi41h53 mention', 'biz', 'biz ipad2', 'bizzy', 'black', 'blackberry', 'blackberry big', 'blackberry sxsw', 'blackberry users', 'blame', 'blame microsoft', 'block', 'block sxsw', 'blocks', 'blocks long', 'blog', 'blog post', 'blog quotbig', 'blogger', 'blogger update', 'blogging', 'blogs', 'blogs link', 'bloody', 'bloody banality', 'blue', 'blue hair', 'bnet', 'bnet biz', 'board', 'book', 'book fetishism', 'book ipad', 'book iphone', 'book killer', 'books', 'boom', 'booth', 'booth 1413', 'booth fun', 'booth sxsw', 'booyah', 'bored', 'bored keynote', 'born', 'bought', 'bought ipad', 'bought ipad2', 'bought lunch', 'bought sxsw', 'bounced', 'bounced catch', 'bout', 'boxes', 'boxes electronics', 'boyfriend', 'boyfriend aw', 'bpm', 'bracket', 'brain', 'brain search', 'brainwashed', 'brainwashed lines', 'brand', 'brand values', 'bread', 'bread going', 'bread great', 'break', 'breakdown', 'breakdown sxsw', 'breaking', 'breakout', 'brick', 'brick austin', 'brilliance', 'brilliant', 'brilliant apple', 'brilliant idea', 'brilliant sxsw', 'bring', 'bring hot', 'bring ipad', 'bring ipad2', 'bringing', 'bringing griddler', 'broadfeed', 'brought', 'browser', 'browserwars', 'browserwars panel', 'browsing', 'btchin', 'btchin party', 'build', 'building', 'building netflix', 'building nextflix', 'building real', 'building sxsw', 'buildings', 'built', 'built html5', 'built sxsw', 'burn', 'burn sxsw', 'business', 'business apple', 'business instead', 'business vs', 'busy', 'busy sxsw', 'button', 'button heat', 'button iphone', 'buttons', 'butts', 'butts sxsw', 'buy', 'buy ipad', 'buy new', 'buy rt', 'buy sxsw', 'buyers', 'buyers report', 'buying', 'buying ipad', 'buys', 'buys ipad', 'buzz', 'buzz doubt', 'buzz link', 'buzz sxsw', 'buzzing', 'cab', 'cabbies', 'cabbies tech', 'cake', 'cake like', 'calendar', 'calendar featuring', 'calendar ur', 'california', 'called', 'called circles', 'called zms', 'cam', 'cam default', 'came', 'camera', 'camera app', 'camera link', 'camera sxsw', 'cameras', 'canada', 'canada 2nd', 'canadian', 'canadian tuxedo', 'cancel', 'capture', 'capture device', 'car', 'car sighting', 'carbon', 'carbon project', 'card', 'care', 'caring', 'caring business', 'carry', 'case', 'case boyfriend', 'case catch', 'case etchasketch', 'case mention', 'case study', 'case sxsw', 'case zazzlesxsw', 'cases', 'cases check', 'cases rad', 'cases sxsw', 'cash', 'cashmore', 'cashmore ipad', 'cashmore think', 'catch', 'catch googles', 'catch sxsw', 'catching', 'cause', 'cause love', 'cbatsxsw', 'cc', 'cc mention', 'celebrate', 'celebrating', 'cell', 'cell phone', 'center', 'center mention', 'center today', 'centers', 'ceo', 'ceo mention', 'chance', 'chance win', 'change', 'change quotcoworkersquot', 'changed', 'changes', 'changes gowalla', 'channels', 'charge', 'charge bar', 'charge iphone', 'charged', 'charger', 'charger iphone', 'charger sxsw', 'chargers', 'charging', 'charging iphone', 'charity', 'charm', 'check', 'check blog', 'check dokobots', 'check free', 'check googletv', 'check holler', 'check latest', 'check link', 'check mention', 'check new', 'check podcast', 'check rt', 'check sxsw', 'checked', 'checkin', 'checking', 'checking ipad', 'checkins', 'checkins sxsw', 'checkout', 'checkout line', 'cheeky', 'cheeky app', 'chevysmc', 'choice', 'choice awards', 'choice control', 'choice sxsw', 'chris', 'christmas', 'chrome', 'chunky', 'chunky elements', 'circle', 'circles', 'circles coming', 'circles launch', 'circles link', 'circles lucky', 'circles new', 'circles possibly', 'circles social', 'circles sxsw', 'circles today', 'circlesquot', 'city', 'city end', 'clarity', 'clarity trumps', 'clark', 'clarks', 'class', 'classiest', 'classiest fascist', 'classy', 'classy successful', 'cle', 'clean', 'clean organize', 'clean title', 'clear', 'clearly', 'clearly iphone', 'clever', 'clients', 'clocks', 'close', 'closely', 'clothes', 'cloud', 'cnet', 'cnet blogs', 'cnet link', 'cnet news', 'cnn', 'cnn article', 'cnn iphone', 'cnngrill', 'cnnmoney', 'cnnmoney sxsw', 'cnnmoneysxsw', 'code', 'code link', 'coffee', 'coincide', 'coincide sxsw', 'collab', 'collab brilliant', 'collection', 'collection egomaniacs', 'collectively', 'collectively saving', 'colors', 'come', 'come check', 'come day', 'come link', 'come mention', 'come mobile', 'come party', 'come play', 'come pubcamp', 'come running', 'come sxsw', 'comes', 'comes cool', 'comes sxsw', 'coming', 'coming ipad', 'coming mention', 'coming mobile', 'coming nowand', 'coming soon', 'coming sxsw', 'coming tonight', 'communication', 'communication showcased', 'communications', 'community', 'community human', 'companies', 'company', 'company america', 'company americaquot', 'compared', 'competition', 'competition sxsw', 'complete', 'completely', 'composed', 'computer', 'computer choice', 'computing', 'computing device', 'concept', 'concept sxsw', 'concert', 'concert use', 'conf', 'conf hours', 'conference', 'conference link', 'conference room', 'conferencesquot', 'conferencesquot mention', 'confirmed', 'confirmed apple', 'congrats', 'congrats mention', 'congrats rt', 'congrats sxsw', 'congratulations', 'congress', 'congress austin', 'congress ave', 'congress deal', 'congress signs', 'congress sxsw', 'connect', 'connect digital', 'connect social', 'connected', 'connected tv', 'connectedtv', 'constant', 'consumer', 'cont', 'cont link', 'contact', 'contact group', 'content', 'contest', 'contextual', 'contextual discovery', 'continued', 'continued survival', 'continues', 'continues rise', 'control', 'control define', 'conv', 'convention', 'convention center', 'conversation', 'convinced', 'cool', 'cool app', 'cool apple', 'cool apps', 'cool free', 'cool geogames', 'cool heatmap', 'cool iphone', 'cool link', 'cool rt', 'cool stuff', 'cool sxsw', 'cool technology', 'cooler', 'coolest', 'coolest ipad', 'coordinate', 'coordinate sxsw4japan', 'copy', 'cord', 'core', 'core sxsw', 'corner', 'corner 6th', 'corner googleio', 'correct', 'cost', 'costume', 'costume party', 'couple', 'course', 'course link', 'courtesy', 'courtyard', 'cover', 'coverage', 'covered', 'crafty', 'crafty genius', 'crashes', 'crashes time', 'crashing', 'crave', 'crave link', 'craving', 'craving sxsw', 'crazy', 'cream', 'cream nifty', 'create', 'created', 'created app', 'creating', 'creating dynamic', 'creative', 'creative lab', 'credit', 'credit fixing', 'crew', 'crisis', 'cross', 'crowd', 'crowd austin', 'crowd baby', 'crowd swarms', 'crowd sxsw', 'crowded', 'crowds', 'crowdsourcing', 'crowley', 'crowley cashmore', 'crowley gets', 'ctia', 'ctia corner', 'cult', 'curiosity', 'curiosity wonderwe', 'custom', 'custom iphone', 'custom mention', 'customer', 'customer service', 'customer waiting', 'customers', 'customers bankinnovation', 'cut', 'cute', 'cuz', 'dahl', 'dahl minimalistprogramming', 'daily', 'daily sxsw', 'damn', 'damn google', 'damon', 'dance', 'dance party', 'dang', 'dang sxsw', 'dark', 'dark party', 'data', 'data sxsw', 'date', 'dawns', 'dawns ipad', 'day', 'day apple', 'day austin', 'day bank', 'day business', 'day good', 'day google', 'day ipad2', 'day lp', 'day mention', 'day sxsw', 'days', 'days ipad', 'days sxsw', 'deadly', 'deal', 'deal mass', 'dealing', 'deals', 'dear', 'dear sxsw', 'death', 'debut', 'debut sxsw', 'debuting', 'debuts', 'decide', 'decided', 'decided la', 'decided need', 'decision', 'def', 'def end', 'default', 'default video', 'define', 'define google', 'defining', 'defining google', 'definitely', 'definitely iphone', 'deforestation', 'deforestation real', 'delegates', 'delegates link', 'delete', 'delete button', 'deleting', 'delicious', 'delicious tmobile', 'delightful', 'delightful like', 'delivered', 'delivered google', 'dell', 'demand', 'demand link', 'demo', 'demo meet', 'demo mention', 'demo sxsw', 'democracy', 'demoed', 'demoing', 'demoing google', 'demonstrates', 'demonstrates pause', 'demos', 'denies', 'denies launch', 'dennis', 'dennis crowley', 'density', 'density tap', 'design', 'design big', 'design good', 'design headaches', 'design ipad', 'design malady', 'design panel', 'design principles', 'design problem', 'design sxsw', 'designed', 'designing', 'designing ipad', 'desktop', 'destroyed', 'destroyed lttitlegt', 'detailed', 'details', 'details ipad', 'details link', 'details revealed', 'dev', 'dev house', 'developers', 'developing', 'developing iphone', 'development', 'deviantart', 'deviantart buys', 'deviantart sxsw', 'device', 'device beautiful', 'device bigger', 'device sxsw', 'devices', 'devices maps', 'did', 'didnt', 'didnt bring', 'die', 'dies', 'different', 'digital', 'digital amp', 'digital delegates', 'digital sales', 'diller', 'diller says', 'diller sxsw', 'dinner', 'directions', 'directions gone', 'director', 'director mention', 'disagree', 'disappointed', 'disappointed ipad', 'disc', 'discotalk', 'discotalk sxsw', 'discover', 'discover new', 'discovery', 'discovery google', 'discovr', 'discovr available', 'discovr iphone', 'discovr named', 'discuss', 'discuss new', 'display', 'displaying', 'displaying place', 'disruptive', 'disruptive innovation', 'dj', 'dj mention', 'dl', 'dl appolicious', 'dm', 'doc', 'doc mention', 'does', 'does great', 'does ipad', 'does look', 'does right', 'doesnt', 'doesnt look', 'doesnt work', 'dogs', 'dogs sxsw', 'doing', 'doing disruptive', 'doing great', 'doing sxsw', 'doing work', 'doityourself', 'doityourself iphone', 'dokobots', 'dokobots game', 'dollars', 'dollars new', 'domain', 'dont', 'dont conferencesquot', 'dont forget', 'dont ipad', 'dont know', 'dont miss', 'dont need', 'dont think', 'doodle', 'doodles', 'doodles googledoodle', 'door', 'door sxsw', 'double', 'doubt', 'doubt rt', 'douche', 'douche cake', 'download', 'download check', 'download qrank', 'downloaded', 'downloads', 'downtown', 'downtown apple', 'downtown austin', 'draw', 'drawing', 'drawing super', 'dream', 'drink', 'drink free', 'drinks', 'drinks music', 'drive', 'drive 12b', 'driven', 'driven google', 'drivers', 'drivers time', 'drivers yrsday', 'drives', 'driving', 'droid', 'drooling', 'drop', 'dropped', 'dropping', 'drowning', 'drumroll', 'drumroll mention', 'drunk', 'dt', 'dude', 'dynamic', 'dynamic google', 'early', 'early help', 'early nerdbird', 'earplugs', 'ears', 'ears rt', 'earth', 'earth engine', 'earthquake', 'earthquake ipad', 'easier', 'easy', 'easy connect', 'easy details', 'eat', 'eatdrinktweet', 'eats', 'eats bbq', 'ecosystem', 'edit', 'edtech', 'edtech sxsw', 'efficient', 'effort', 'egomaniacs', 'egomaniacs historyquot', 'elbow', 'elbow hate', 'electronics', 'electronics awesome', 'elegant', 'elegant apple', 'elegant fascist', 'elements', 'elements generous', 'elevate', 'email', 'embarrassed', 'embarrassed iphone', 'emc', 'emotional', 'emotional thing', 'employees', 'employees just', 'enchantment', 'enchantment mention', 'enchantment sxsw', 'end', 'end recs', 'end sxsw', 'energy', 'engagement', 'engaging', 'engine', 'engine monitor', 'engine share', 'enjoy', 'enjoy sxsw', 'enjoying', 'enjoying changes', 'enjoying sxsw', 'enter', 'enter link', 'enter win', 'enterprise', 'entertaining', 'entire', 'entire inventory', 'entry', 'entry amazingly', 'entry friends', 'environment', 'envy', 'envy roof', 'epic', 'error', 'esp', 'especially', 'essential', 'essentials', 'etchasketch', 'etchasketch sxsw', 'etsy', 'europe', 'event', 'events', 'events day', 'events today', 'eventseekr', 'evernote', 'everybody', 'everyones', 'example', 'example good', 'example retail', 'examples', 'excellent', 'excellent way', 'excited', 'excited apple', 'excited know', 'excited meet', 'excited sxsw', 'exciting', 'exclusive', 'exclusive apple', 'exclusive shot', 'excuse', 'exhibit', 'exhibit hall', 'exist', 'existence', 'existence godquot', 'exists', 'exists awesome', 'expect', 'expect google', 'expected', 'expecting', 'expensive', 'expensive seo', 'experience', 'experience iphone', 'experience sxsw', 'experience sxswlink', 'experiment', 'experts', 'experts cnet', 'experts link', 'experts sxsw', 'expertsquot', 'expertsquot link', 'explanation', 'explanation apples', 'explanation instantly', 'explorer', 'explorer app', 'extended', 'extra', 'extraordinary', 'extraordinary h4ckers', 'extraordinary hackers', 'eyeballed', 'eyeballed ip4', 'fabulous', 'face', 'facebook', 'fact', 'factor', 'facts', 'fades', 'fades fast', 'fail', 'fail link', 'fail sxsw', 'fail whale', 'failed', 'failure', 'fair', 'false', 'false alarm', 'fam', 'fam showing', 'fan', 'fan just', 'fan new', 'fanboy', 'fanboys', 'fanboys link', 'fandango', 'fandango karaoke', 'fandango tkts', 'fans', 'fans peek', 'fantastic', 'far', 'far apple', 'far best', 'far computer', 'far sxsw', 'farmers', 'fascist', 'fascist company', 'fashion', 'fast', 'fast deviantart', 'fast digital', 'fast fun', 'fast mention', 'fast rt', 'fast society', 'fast sxsw', 'faster', 'faulty', 'fav', 'fave', 'fave ipad', 'fave new', 'favorite', 'fb', 'fb page', 'fear', 'feature', 'feature gives', 'feature saving', 'featured', 'featured artists', 'featured mention', 'features', 'features v5', 'featuring', 'featuring parties', 'feed', 'feed geek', 'feel', 'feel like', 'feeling', 'feelings', 'feels', 'feels like', 'fell', 'fell asleep', 'fellow', 'fest', 'festival', 'festival explorer', 'festival popup', 'festival time', 'fetishism', 'fetishism ipads', 'fh', 'field', 'field trip', 'fight', 'fight way', 'figure', 'film', 'filmaster', 'filmaster iphone', 'filming', 'final', 'finally', 'finally iphone', 'finder', 'finding', 'fine', 'fingers', 'finished', 'finished taking', 'firstworldproblems', 'fit', 'fix', 'fixing', 'fixing christmas', 'flaming', 'flaming skulls', 'flannel', 'flannel shirt', 'flash', 'flash apple', 'flash looks', 'flash mobs', 'flawless', 'flight', 'flight sxsw', 'flights', 'flip', 'flip cam', 'flipboard', 'flipboard developing', 'flipboard iphone', 'flipboard sxsw', 'flipboards', 'flipboards platform', 'flocking', 'flocking swarming', 'flow', 'focus', 'focusing', 'folks', 'folks line', 'folks sxsw', 'follow', 'followers', 'food', 'food art', 'food dont', 'food drink', 'food drinks', 'foodspotting', 'foodspotting link', 'forbes', 'forbes sxsw', 'force', 'force sxsw', 'forget', 'forget march', 'forget snap', 'forgot', 'forgotten', 'form', 'formula', 'forward', 'forward delicious', 'forward hearing', 'forward learning', 'forward seeing', 'forward smcdallas', 'foursquare', 'foursquare gowalla', 'foursquare sleeves', 'foursquare sxsw', 'foursquare ups', 'fr', 'fr mention', 'freaking', 'free', 'free android', 'free beer', 'free coffee', 'free drinks', 'free food', 'free ipad', 'free iphone', 'free itunes', 'free limited', 'free link', 'free lp', 'free march', 'free nexus', 'free pi', 'free portable', 'free sxsw', 'free texting', 'free thanks', 'free today', 'fri', 'friday', 'fridaythe', 'fridaythe austin', 'friend', 'friendly', 'friends', 'friends city', 'friends house', 'friends sxsw', 'fruit', 'fruit link', 'ft', 'ftw', 'fuck', 'fucking', 'fuel', 'fuel link', 'fully', 'fun', 'fun austin', 'fun creating', 'fun future', 'fun google', 'fun interactive', 'fun mention', 'fun session', 'fun sxsw', 'function', 'function saves', 'fundraising', 'fundraising kiosk', 'funny', 'funny moment', 'fusion', 'fusion tables', 'future', 'future google', 'future link', 'future marissa', 'future registers', 'futuremf', 'futuremf trajan', 'fwd', 'fwd ipad', 'fyi', 'gadget', 'gadgets', 'gadgetzilla', 'gadgetzilla fun', 'galaxy', 'galaxy running', 'game', 'game chance', 'game iphone', 'game just', 'game launches', 'game mechanics', 'game mention', 'game sxsw', 'game theyre', 'games', 'gap', 'gave', 'gave ipad', 'geek', 'geek influx', 'geek power', 'geek programming', 'geek sxsw', 'geekout', 'geeks', 'geeks sxsw', 'gen', 'generous', 'generous space', 'genius', 'genius apple', 'genius bars', 'genius link', 'genius you_', 'geo', 'geogames', 'geogames sxsw', 'geolocation', 'gets', 'gets apple', 'gets free', 'gets ipad', 'gets plus', 'gets tax', 'gets temporary', 'getting', 'getting ipad', 'getting ipad2', 'getting iphone', 'getting ready', 'giant', 'giant quotoquot', 'giddy', 'giddy announce', 'gift', 'girl', 'giveaway', 'giveaway coming', 'giveaway sxsw', 'gives', 'gives alternate', 'gives iphone', 'giving', 'giving away', 'giving free', 'glad', 'glass', 'god', 'godquot', 'godquot guykawasaki', 'godquot mention', 'goers', 'goes', 'goes sale', 'goggles', 'goin', 'goin sxsw', 'going', 'going amazing', 'going busy', 'going long', 'going revolutionary', 'going sxsw', 'gold', 'golds', 'golds gym', 'gone', 'gone says', 'gonna', 'gonna miss', 'good', 'good cnn', 'good flash', 'good future', 'good idea', 'good info', 'good job', 'good luck', 'good navigation', 'good news', 'good sxsw', 'good time', 'good times', 'good ui', 'goodness', 'google', 'google aclu', 'google amp', 'google analytics', 'google announcing', 'google apps', 'google art', 'google bing', 'google booth', 'google brand', 'google bread', 'google building', 'google built', 'google buzz', 'google calendar', 'google canadian', 'google circles', 'google connect', 'google denies', 'google destroyed', 'google did', 'google directions', 'google doc', 'google doodle', 'google doodles', 'google earth', 'google eat', 'google h4ckers', 'google handing', 'google hotpot', 'google incapable', 'google industry', 'google just', 'google kill', 'google labs', 'google latitude', 'google launch', 'google launched', 'google launching', 'google lego', 'google link', 'google literally', 'google lost', 'google map', 'google maps', 'google mobile', 'google needs', 'google party', 'google partyawesome', 'google people', 'google photobooth', 'google pic', 'google places', 'google plans', 'google presentation', 'google presenting', 'google preview', 'google product', 'google productsquot', 'google quotgot', 'google reader', 'google right', 'google saving', 'google says', 'google search', 'google set', 'google showing', 'google social', 'google street', 'google studying', 'google sxsw', 'google takes', 'google theatre', 'google throw', 'google tonight', 'google tool', 'google tops', 'google tries', 'google tv', 'google verizon', 'google voice', 'google win', 'googlebing', 'googlebing qa', 'googlebing qampa', 'googledoodle', 'googledoodle sxsw', 'googledoodles', 'googleio', 'googleio hop', 'googlemaps', 'googlemaps mobile', 'googles', 'googles art', 'googles league', 'googles marissa', 'googles mayer', 'googles mention', 'googles new', 'googles route', 'googletv', 'googletv ipad', 'got', 'got 250k', 'got craving', 'got free', 'got ipad', 'got netbook', 'got shiny', 'got sxsw', 'got turkey', 'gotta', 'gotta love', 'gotto', 'gotto ipad2', 'gowalla', 'gowalla 30', 'gowalla link', 'gowalla wins', 'gps', 'grab', 'grab missed', 'grabbed', 'gram', 'gram app', 'gram cheeky', 'gram ipad', 'granted', 'graph', 'graph protocol', 'grateful', 'great', 'great community', 'great day', 'great example', 'great features', 'great google', 'great idea', 'great ipad', 'great job', 'great mention', 'great panel', 'great party', 'great recap', 'great rt', 'great session', 'great sxsw', 'great talk', 'great talks', 'great virtual', 'great way', 'greater', 'greatest', 'greatest collection', 'griddler', 'griddler ipad', 'grill', 'grooving', 'grooving sxsw', 'group', 'group mention', 'groupme', 'groups', 'growing', 'gsdampm', 'gsdampm google', 'gsdm', 'gsdm google', 'gsdm sxsw', 'gt', 'gt rt', 'gtgt', 'gtgt good', 'guard', 'guess', 'guess won', 'guide', 'guide austin', 'guide iphone', 'guilty', 'gun', 'gun mention', 'guy', 'guy just', 'guy kawasaki', 'guykawasaki', 'guykawasaki sxsw', 'guys', 'guys like', 'guys plan', 'guys sxsw', 'gym', 'h4ckers', 'h4ckers sxsw', 'ha', 'ha rt', 'hack', 'hackathon', 'hackathon competition', 'hackers', 'hackers events', 'haha', 'haha awesomely', 'hair', 'hair ive', 'hairy', 'hairy butts', 'half', 'hall', 'hall ipad', 'hand', 'hand packed', 'handing', 'handing free', 'handle', 'handle sxsw', 'hands', 'hands contest', 'hands thing', 'hang', 'hanging', 'hanging mention', 'happen', 'happen sxsw', 'happened', 'happening', 'happily', 'happy', 'happy dev', 'happy discovr', 'happy thank', 'happydance', 'happyquot', 'happyquot tapworthy', 'hard', 'hard beat', 'hard time', 'hashtags', 'hate', 'hate ipads', 'havent', 'havent used', 'having', 'having fun', 'having hard', 'having ipad', 'having trouble', 'having women', 'hawk', 'hawk ipad', 'head', 'head iphone', 'headaches', 'headaches sxsw', 'headaches tablet', 'headaches tablets', 'headed', 'headed sxsw', 'heading', 'heading austin', 'heading sxsw', 'heads', 'headsets', 'hear', 'hear marissa', 'hear mention', 'heard', 'heard apples', 'heard dont', 'heard weekend', 'hearing', 'heart', 'heart sxsw', 'heat', 'heat million', 'heat tracker', 'heatmap', 'heatmap iphone', 'heck', 'held', 'hell', 'hello', 'help', 'help prep', 'helped', 'helping', 'helping clean', 'helps', 'herequot', 'heres', 'heres delete', 'hes', 'hey', 'hey apple', 'hey lucky', 'hey marissa', 'hey mention', 'hey sxsw', 'hey tweeps', 'hey vufinders', 'high', 'higher', 'highlight', 'highlight sxsw', 'highly', 'highly recommended', 'hilarious', 'hilton', 'hipster', 'hipsters', 'history', 'historyquot', 'historyquot haha', 'hisxsw', 'hisxsw sxsw', 'hit', 'hivethinkquot', 'hivethinkquot apple', 'hmm', 'hmm ipad', 'hobo', 'hoc', 'hoc apple', 'hold', 'hold ipad', 'hold new', 'holding', 'holding ipad', 'holler', 'holler gram', 'hollergram', 'hollergram ipad', 'hollergram sxsw', 'holy', 'holy smokes', 'holytrafficjams', 'home', 'home read', 'home sxsw', 'homeless', 'homeless guy', 'hoo', 'hoo mention', 'hooray', 'hop', 'hop skip', 'hope', 'hope mention', 'hopefully', 'hopes', 'hoping', 'hoping ill', 'horrible', 'hosted', 'hosted google', 'hot', 'hot just', 'hot latest', 'hot mention', 'hot ones', 'hot pot', 'hot spots', 'hotel', 'hotpot', 'hotpot integrated', 'hotpot social', 'hotpot sxsw', 'hotpot watch', 'hotpot yelp', 'hotspot', 'hottest', 'hour', 'hour tonight', 'hours', 'hours announce', 'hoursquot', 'house', 'house google', 'house sxsw', 'hows', 'hows atampt', 'html5', 'html5 flash', 'httpbitlyhtdfim', 'httpbitlyhtdfim hollergram', 'httpsmarketandroidcomdetailsidcomborderstyloretrollect', 'huge', 'huge win', 'human', 'human solutionquot', 'hundreds', 'hunt', 'hunt austin', 'hunts', 'hunts link', 'huzzah', 'huzzah rt', 'hyatt', 'ical', 'ical amp', 'ice', 'ice cream', 'id', 'id love', 'idea', 'idea rt', 'idiocy', 'idiocy ogilvynotes', 'ie9', 'ie9 launch', 'il', 'ill', 'ill able', 'ill austin', 'ill forget', 'ill use', 'ill win', 'illegal', 'illegal deforestation', 'im', 'im austin', 'im bringing', 'im coming', 'im going', 'im happy', 'im heading', 'im jealous', 'im late', 'im listening', 'im looking', 'im missing', 'im pretty', 'im scared', 'im sorry', 'im starting', 'im sxsw', 'imacs', 'image', 'image starry', 'imanoutcast', 'immersive', 'immersive audio', 'important', 'important social', 'impossible', 'impressed', 'impression', 'impressive', 'impressive integration', 'impressive lines', 'improve', 'improve website', 'improvement', 'improvement worth', 'incapable', 'incapable doing', 'incl', 'incl billion', 'incl mention', 'included', 'includes', 'includes uberguide', 'including', 'including google', 'including tim', 'indoor', 'industry', 'industry 70', 'industry party', 'influence', 'influx', 'influx ipad2', 'info', 'info delivered', 'info link', 'info mention', 'info select', 'info songs', 'info stickers', 'informal', 'informal unscientific', 'information', 'innovate', 'innovation', 'innovation acquired', 'innovation banking', 'innovators', 'innovators apple', 'innovators link', 'insane', 'insane sxsw', 'insanely', 'insanely amp', 'inside', 'inside google', 'insiders', 'insiders guide', 'insight', 'insightful', 'insights', 'insights tapworthy', 'instagram', 'installed', 'installed sxsw', 'installing', 'installing mention', 'instantly', 'instantly knew', 'instead', 'instead link', 'instead sxsw', 'instead users', 'integrated', 'integrated ratingrecommendation', 'integration', 'integration link', 'integration personalized', 'intelligent', 'intelligent classy', 'intentionally', 'intentionally scheduled', 'interactive', 'interactive book', 'interactive link', 'interactive maps', 'interested', 'interested hear', 'interesting', 'interesting link', 'interesting new', 'interesting presentation', 'interesting rt', 'interface', 'interface metaphor', 'interfaces', 'interfaces new', 'international', 'internet', 'interrupt', 'interrupt regularly', 'interview', 'interview mention', 'intimate', 'introduced', 'inventory', 'inventory justsaying', 'invite', 'invites', 'ios', 'ios 43', 'ios android', 'ios tweetdeck', 'ip4', 'ipad', 'ipad 2not', 'ipad 2quot', 'ipad 2s', 'ipad 3g', 'ipad amp', 'ipad android', 'ipad app', 'ipad apple', 'ipad apps', 'ipad art', 'ipad austin', 'ipad available', 'ipad awesome', 'ipad better', 'ipad booth', 'ipad brainwashed', 'ipad case', 'ipad cases', 'ipad come', 'ipad coming', 'ipad cooler', 'ipad courtesy', 'ipad day', 'ipad design', 'ipad display', 'ipad dj', 'ipad dont', 'ipad droid', 'ipad elbow', 'ipad envy', 'ipad fail', 'ipad game', 'ipad gave', 'ipad gets', 'ipad giveaway', 'ipad gives', 'ipad goes', 'ipad going', 'ipad great', 'ipad hand', 'ipad ill', 'ipad imanoutcast', 'ipad interface', 'ipad interfaces', 'ipad ipad', 'ipad ipad2', 'ipad iphone', 'ipad just', 'ipad kick', 'ipad kinda', 'ipad launch', 'ipad leave', 'ipad like', 'ipad line', 'ipad link', 'ipad listen', 'ipad looked', 'ipad lounge', 'ipad magazine', 'ipad march', 'ipad mention', 'ipad minor', 'ipad money', 'ipad musthave', 'ipad navigation', 'ipad news', 'ipad owners', 'ipad pass', 'ipad photos', 'ipad physical', 'ipad popup', 'ipad pretty', 'ipad quibids', 'ipad quite', 'ipad quotthe', 'ipad ready', 'ipad release', 'ipad resulting', 'ipad review', 'ipad right', 'ipad rt', 'ipad said', 'ipad sale', 'ipad sales', 'ipad seriously', 'ipad session', 'ipad sold', 'ipad soldout', 'ipad south', 'ipad store', 'ipad sxsw', 'ipad tablet', 'ipad takes', 'ipad think', 'ipad time', 'ipad today', 'ipad tomorrow', 'ipad unsix', 'ipad upgrade', 'ipad users', 'ipad usguys', 'ipad wait', 'ipad webdoccom', 'ipad women', 'ipad year', 'ipad2', 'ipad2 ad', 'ipad2 apple', 'ipad2 austin', 'ipad2 cc', 'ipad2 comes', 'ipad2 giant', 'ipad2 launch', 'ipad2 link', 'ipad2 mention', 'ipad2 people', 'ipad2 popup', 'ipad2 release', 'ipad2 replacing', 'ipad2 sxsw', 'ipad2 today', 'ipad2 unboxing', 'ipad2s', 'ipad2s sxsw', 'ipadiphone', 'ipadiphone app', 'ipadiphone come', 'ipadquot', 'ipadquot mention', 'ipads', 'ipads 16gb', 'ipads bitlyi41h53', 'ipads button', 'ipads link', 'ipads slowly', 'ipads sxsw', 'ipads teach', 'ipadwinning', 'ipadwinning performance', 'iphone', 'iphone 96', 'iphone actually', 'iphone alarm', 'iphone amp', 'iphone android', 'iphone app', 'iphone application', 'iphone apps', 'iphone autocorrect', 'iphone available', 'iphone awesome', 'iphone battery', 'iphone blackberry', 'iphone called', 'iphone case', 'iphone cases', 'iphone ceo', 'iphone charger', 'iphone chargers', 'iphone charging', 'iphone crowd', 'iphone dont', 'iphone free', 'iphone fun', 'iphone game', 'iphone guide', 'iphone hand', 'iphone ical', 'iphone im', 'iphone ipad', 'iphone just', 'iphone kicking', 'iphone laptop', 'iphone link', 'iphone makes', 'iphone mention', 'iphone new', 'iphone plus', 'iphone rt', 'iphone scavenger', 'iphone streaming', 'iphone sxsw', 'iphone table', 'iphone team', 'iphone thanks', 'iphone tweet', 'iphone useful', 'iphone users', 'iphone version', 'iphone video', 'iphone vs', 'iphone woot', 'iphoneandroid', 'iphoneipad', 'iphonequot', 'iphonequot link', 'iphones', 'iphones geolocation', 'ipod', 'ipod iphone', 'ireport', 'ireport link', 'iron', 'iron hot', 'ironic', 'isnt', 'issue', 'issues', 'itunes', 'itunes album', 'itunes austin', 'itunes link', 'ive', 'ive eyeballed', 'ive got', 'ive heard', 'ive seen', 'japan', 'japan earthquake', 'japan read', 'japan relief', 'japan sxsw', 'japanese', 'java', 'java spy', 'jealous', 'jeans', 'jeans flannel', 'job', 'job ipad', 'job mention', 'jobs', 'jobs crafty', 'join', 'join actsofsharingcom', 'join sxswbarcrawl', 'joined', 'joins', 'joke', 'jonathan', 'jonathan dahl', 'jonathan zaggle', 'josh', 'josh clark', 'josh clarks', 'jr', 'js', 'js party', 'juice', 'juice pack', 'jump', 'jump good', 'june', 'just', 'just added', 'just announced', 'just approved', 'just asked', 'just bought', 'just downloaded', 'just fight', 'just finished', 'just gave', 'just google', 'just got', 'just held', 'just installed', 'just ipad', 'just kidding', 'just launched', 'just learning', 'just left', 'just look', 'just new', 'just picked', 'just read', 'just saw', 'just showed', 'just starting', 'just sxsw', 'just time', 'just took', 'just used', 'just visit', 'just walked', 'just want', 'just won', 'justsaying', 'kara', 'kara swisher', 'karaoke', 'karaoke 1st', 'kawasaki', 'kawasaki delightful', 'keeping', 'keeps', 'kek', 'keyboard', 'keynote', 'keynote sxsw', 'khoi', 'khoi vinh', 'kick', 'kick ass', 'kick sxsw', 'kick sxswi', 'kick time', 'kicking', 'kicking hairy', 'kid', 'kidding', 'kidding good', 'kids', 'kids museums', 'kill', 'kill discovery', 'killcommunity', 'killcommunity room', 'killer', 'killer impressive', 'killer photoes', 'killers', 'killing', 'killing sxsw', 'kind', 'kinda', 'kinda cool', 'kinda embarrassed', 'kindle', 'kiosk', 'kiosk japan', 'kirkus', 'kirkus sxsw', 'kit', 'knew', 'knew use', 'know', 'know apple', 'know google', 'know heart', 'know im', 'know mention', 'knows', 'knows game', 'kthxbai', 'kthxbai sxsw', 'la', 'la instead', 'lab', 'lab strategy', 'labs', 'ladies', 'lame', 'laptop', 'laptop amp', 'laptop sxsw', 'laptops', 'largest', 'late', 'later', 'latest', 'latest stream', 'latest version', 'latitude', 'launch', 'launch apple', 'launch bitlyg03mzb', 'launch circles', 'launch day', 'launch downtown', 'launch genius', 'launch link', 'launch major', 'launch mention', 'launch new', 'launch sxsw', 'launch today', 'launched', 'launched iphone', 'launched months', 'launched spins', 'launched sxsw', 'launches', 'launches android', 'launches doityourself', 'launching', 'launching sxsw', 'law', 'layed', 'layed future', 'lbs', 'leading', 'league', 'league extraordinary', 'leanstartup', 'leanstartup sxsw', 'learn', 'learned', 'learning', 'learning things', 'leave', 'leave vuvuzela', 'leaving', 'leaving sxsw', 'left', 'left brain', 'left sxsw', 'leftbrain', 'leftbrain rt', 'lego', 'lego hackathon', 'let', 'let make', 'lets', 'letting', 'level', 'life', 'life better', 'life im', 'life sxsw', 'light', 'light hold', 'lighters', 'lighters rock', 'likability', 'likability virgin', 'like', 'like 1986quot', 'like apple', 'like fun', 'like going', 'like google', 'like group', 'like im', 'like iphone', 'like lighters', 'like losers', 'like mention', 'like people', 'like street', 'like sxsw', 'like walking', 'like worlds', 'likely', 'likes', 'likes pay', 'lil', 'limited', 'limited time', 'line', 'line 6th', 'line apple', 'line austin', 'line block', 'line buy', 'line great', 'line ipad', 'line ipad2', 'line like', 'line long', 'line mention', 'line moving', 'line new', 'line outside', 'line sxsw', 'line temp', 'lines', 'lines im', 'lines sxsw', 'lineup', 'lining', 'link', 'link 3x', 'link android', 'link app', 'link apple', 'link austin', 'link bands', 'link bnet', 'link built', 'link channels', 'link cnet', 'link cnn', 'link eatdrinktweet', 'link entry', 'link google', 'link hollergram', 'link im', 'link ipad', 'link ipad2', 'link iphone', 'link itunes', 'link join', 'link link', 'link lp', 'link lt', 'link mashable', 'link media', 'link mention', 'link opening', 'link photo', 'link played', 'link rt', 'link seo', 'link socialmedia', 'link sxsw', 'link sxswh', 'link sxswi', 'link tech', 'link tech_news', 'link technology', 'link tip', 'link travel', 'link wssxsw', 'linking', 'links', 'links virtual', 'lisa', 'list', 'listen', 'listen annoying', 'listened', 'listened temp', 'listening', 'listening googles', 'literally', 'literally product', 'little', 'live', 'live free', 'live iphone', 'live link', 'live video', 'lives', 'lives sxsw', 'living', 'living ipad', 'load', 'local', 'localmind', 'location', 'location based', 'location data', 'locationbased', 'locationbased fast', 'locationbased tools', 'logo', 'lol', 'lol gadgetzilla', 'lol rt', 'lol sxsw', 'lonelyplanet', 'lonelyplanet austin', 'long', 'long days', 'long line', 'long lines', 'long sxsw', 'long time', 'longer', 'look', 'look blue', 'look interesting', 'look like', 'look sxsw', 'look weird', 'look zomg', 'looked', 'looked like', 'looking', 'looking android', 'looking forward', 'looking fwd', 'looks', 'looks awesome', 'looks great', 'looks interesting', 'looks like', 'looks technical', 'lose', 'lose curiosity', 'lose hour', 'lose hoursquot', 'losers', 'losers sxsw', 'lost', 'lost sxsw', 'lost way', 'lot', 'lot betterquot', 'lots', 'lots ipad', 'loud', 'louisiana', 'louisiana cool', 'lounge', 'lounge sxsw', 'love', 'love android', 'love apple', 'love google', 'love ipad2', 'love mention', 'love new', 'love rt', 'love sxsw', 'love yall', 'loved', 'lovely', 'lovely review', 'loving', 'loving great', 'lp', 'lp austin', 'lp travel', 'lt', 'lt guess', 'lt3', 'ltlt', 'lttitlegt', 'lttitlegt tag', 'luck', 'luck sxsw', 'lucky', 'lucky folks', 'lug', 'lugging', 'lugging laptop', 'lunch', 'lunch line', 'lustre', 'lustre pearl', 'lynn', 'mac', 'mac ipad', 'macbook', 'macbook air', 'macbook ipad', 'macbook pro', 'machines', 'machines mystery', 'mad', 'madebymany', 'madebymany httpbitlyhtdfim', 'madness', 'maes', 'maes 101', 'maes pic', 'magazine', 'magazines', 'maggie', 'maggie maes', 'magic', 'magic iphone', 'magnet', 'mags', 'major', 'major new', 'make', 'make custom', 'make iphone', 'make quick', 'make sense', 'make sxsw', 'makes', 'makes easy', 'makes feel', 'makes good', 'makes happyquot', 'makes im', 'makes want', 'makeshift', 'makeshift apple', 'makeshift sxsw', 'making', 'making sxsw', 'malady', 'malady ipad', 'mall', 'man', 'man google', 'man need', 'manage', 'map', 'map sxsw', 'map usage', 'mappers', 'mappers entry', 'mapping', 'mapquest', 'maps', 'maps 150', 'maps 40', 'maps 52', 'maps feature', 'maps im', 'maps interesting', 'maps mention', 'maps mobile', 'maps navigation', 'maps phone', 'maps route', 'maps street', 'maps sxsw', 'maps usage', 'maps use', 'maps users', 'march', 'march 11', 'march 2011', 'march 915', 'marissa', 'marissa mayer', 'marissa mayers', 'marissagoogle', 'marissagoogle sxsw', 'marissamayer', 'mark', 'mark belinsky', 'market', 'market link', 'market share', 'market sxsw', 'marketing', 'marketing experts', 'marketing expertsquot', 'marketing link', 'marketing sxsw', 'marketplace', 'marketplace hot', 'mashable', 'mashable link', 'mass', 'mass geek', 'massive', 'matching', 'matching people', 'matt', 'matter', 'maybe', 'mayer', 'mayer admits', 'mayer defining', 'mayer discuss', 'mayer google', 'mayer locationbased', 'mayer marissagoogle', 'mayer speak', 'mayer sxsw', 'mayer tell', 'mayers', 'mean', 'mean sliced', 'means', 'means ipad', 'meant', 'measuring', 'measuring displaying', 'mechanics', 'media', 'media sxsw', 'meet', 'meet link', 'meet mention', 'meeting', 'meetup', 'meetup sxsw', 'memolane', 'memolane yall', 'memories', 'mention', 'mention 10', 'mention 150', 'mention 247', 'mention 40', 'mention aapl', 'mention agencies', 'mention alive', 'mention allhat3', 'mention amp', 'mention android', 'mention app', 'mention apple', 'mention apples', 'mention apps', 'mention austin', 'mention awesome', 'mention bad', 'mention begins', 'mention best', 'mention bigger', 'mention bings', 'mention blackberry', 'mention book', 'mention bored', 'mention brilliant', 'mention buy', 'mention case', 'mention cc', 'mention charge', 'mention charging', 'mention check', 'mention cnngrill', 'mention come', 'mention confirmed', 'mention congrats', 'mention congratulations', 'mention cool', 'mention dark', 'mention day', 'mention decided', 'mention demonstrates', 'mention details', 'mention deviantart', 'mention did', 'mention diller', 'mention does', 'mention doing', 'mention download', 'mention enchantment', 'mention engine', 'mention excited', 'mention false', 'mention fam', 'mention favorite', 'mention feeling', 'mention finally', 'mention flipboards', 'mention free', 'mention game', 'mention getting', 'mention giving', 'mention glad', 'mention going', 'mention good', 'mention google', 'mention googles', 'mention got', 'mention great', 'mention grill', 'mention gsdampm', 'mention gt', 'mention ha', 'mention having', 'mention head', 'mention heading', 'mention heard', 'mention hes', 'mention hey', 'mention hollergram', 'mention hope', 'mention hot', 'mention hours', 'mention hunt', 'mention id', 'mention ill', 'mention im', 'mention improve', 'mention informal', 'mention interesting', 'mention interrupt', 'mention ipad', 'mention ipad2', 'mention iphone', 'mention just', 'mention know', 'mention leanstartup', 'mention life', 'mention line', 'mention link', 'mention live', 'mention living', 'mention lol', 'mention look', 'mention looking', 'mention looks', 'mention lose', 'mention lots', 'mention lounge', 'mention love', 'mention lustre', 'mention maggie', 'mention marissa', 'mention mention', 'mention mentionr', 'mention need', 'mention new', 'mention news', 'mention nice', 'mention official', 'mention oh', 'mention opposite', 'mention party', 'mention peter', 'mention psych', 'mention pull', 'mention putting', 'mention quotapple', 'mention quotgoogle', 'mention quotits', 'mention quotno', 'mention quotthe', 'mention random', 'mention ready', 'mention really', 'mention release', 'mention rock', 'mention roll', 'mention route', 'mention rt', 'mention rumor', 'mention sadly', 'mention said', 'mention saw', 'mention says', 'mention second', 'mention set', 'mention smart', 'mention smartphone', 'mention social', 'mention speakeasy', 'mention spread', 'mention stop', 'mention store', 'mention studies', 'mention sxsw', 'mention talk', 'mention talking', 'mention tapworthy', 'mention team', 'mention tech', 'mention tell', 'mention temp', 'mention thank', 'mention thanks', 'mention thats', 'mention theres', 'mention theyre', 'mention think', 'mention time', 'mention totally', 'mention twitter', 'mention updated', 'mention used', 'mention uses', 'mention w00t', 'mention wait', 'mention whats', 'mention win', 'mention winning', 'mention won', 'mention wonder', 'mention wow', 'mention wrote', 'mention yes', 'mention youll', 'mention zazzlsxsw', 'mentioned', 'mentioned guy', 'mentionr', 'message', 'messages', 'messaging', 'messaging platform', 'metaphor', 'microsoft', 'microsoft apple', 'midnight', 'midnight sxsw', 'mike', 'mike tyson', 'miles', 'miles year', 'million', 'million mobile', 'million suns', 'million users', 'min', 'min wait', 'mind', 'minds', 'minds created', 'minimalistprogramming', 'minimalistprogramming googles', 'minor', 'minor improvement', 'minor step', 'minute', 'minutes', 'miss', 'miss mention', 'missed', 'missed link', 'missing', 'missing sxsw', 'mistakes', 'mistakes building', 'mitharvard', 'mktg', 'mobile', 'mobile 3d', 'mobile 52', 'mobile apps', 'mobile devices', 'mobile google', 'mobile innovators', 'mobile link', 'mobile maps', 'mobile marissa', 'mobile roadie', 'mobile space', 'mobile sxsw', 'mobile topnews', 'mobile users', 'mobilefarm', 'mobilefarm sxsw', 'mobs', 'mobs hivethinkquot', 'mode', 'model', 'mom', 'moment', 'moment sxsw', 'money', 'money burn', 'money japan', 'money sxsw', 'monitor', 'monitor illegal', 'monopoly', 'month', 'months', 'months ago', 'months says', 'moonbot', 'moonbot studios', 'mophie', 'mophie juice', 'moreknowledge', 'moreknowledge sxsw', 'morning', 'morning link', 'morning sxsw', 'mosaicxm', 'mosaicxm link', 'motherboard', 'motherboard rt', 'movie', 'moving', 'mt', 'mt mention', 'muro', 'muro drawing', 'murphy', 'murphy usa', 'museum', 'museums', 'museums world', 'music', 'music big', 'music industry', 'music iphone', 'music link', 'music photos', 'music sampler', 'music sxsw', 'music withme', 'musthave', 'musthave apps', 'mute', 'mwrc11', 'mwrc11 leftbrain', 'mystery', 'mystery boxes', 'named', 'named musthave', 'native', 'natural', 'navigating', 'navigation', 'navigation jr', 'navigation uxdes', 'near', 'near sxsw', 'need', 'need ipad', 'need serendipity', 'need social', 'need sxsw', 'need things', 'need win', 'need workspace', 'needs', 'needs way', 'nerd', 'nerdbird', 'nerdbird sxsw', 'nerds', 'nerds town', 'netbook', 'netbook ipad', 'netflix', 'netflix iphone', 'network', 'network called', 'network circles', 'network debut', 'network sxsw', 'networking', 'networkquot', 'networks', 'networks people', 'new', 'new android', 'new app', 'new blog', 'new buyers', 'new customers', 'new design', 'new foursquare', 'new google', 'new ipad', 'new ipad2', 'new ipads', 'new iphone', 'new mention', 'new music', 'new navigation', 'new old', 'new post', 'new product', 'new products', 'new quotroutearoundquot', 'new quotthink', 'new social', 'new sxsw', 'new toy', 'new ubersocial', 'new update', 'new version', 'new video', 'new web', 'new whrrl', 'new york', 'newest', 'newest ios', 'news', 'news apps', 'news austin', 'news austinbound', 'news google', 'news iphone', 'news link', 'news sxsw', 'newsapps', 'newsapps sxsw', 'newscontent', 'newscontent mention', 'nextflix', 'nextflix iphonequot', 'nexus', 'nexus androidsxsw', 'nfc', 'nice', 'nice apple', 'nice mention', 'nice rt', 'nice sxsw', 'nicely', 'nifty', 'nifty interactive', 'night', 'night dang', 'ning', 'ning amp', 'noon', 'note', 'notes', 'notes app', 'notes sxsw', 'novelty', 'novelty ipad', 'nowand', 'nowand probably', 'npr', 'npr music', 'nptech', 'nten', 'nten 11ntc', 'number', 'nuts', 'nyt', 'object', 'object tagging', 'observation', 'observation apple', 'observer', 'obsolete', 'obviously', 'obviously want', 'offer', 'offer unofficial', 'offers', 'office', 'official', 'official people', 'official sxsw', 'officially', 'officially sxsw', 'offsite', 'offsite links', 'ogilvy', 'ogilvy autocorrects', 'ogilvynotes', 'ogilvynotes sxsw', 'oh', 'oh god', 'ok', 'ok presenters', 'okay', 'okay really', 'old', 'old ipads', 'olds', 'olds explanation', 'omg', 'omg im', 'ones', 'ones heard', 'ones link', 'online', 'online ordering', 'open', 'open graph', 'open pop', 'open popup', 'open sxsw', 'open temporary', 'open til', 'openbeta', 'openbeta vip', 'opened', 'opened popup', 'opening', 'opening downtown', 'opening popup', 'opening store', 'opening sxsw', 'opening temp', 'opening temporary', 'opens', 'opens popup', 'opens quotpopupquot', 'opens temporary', 'opinions', 'opinions holding', 'opposite', 'opposite sides', 'optimistic', 'optiscan', 'ordering', 'ordering urs', 'oreilly', 'oreilly sxsw', 'oreily', 'oreily say', 'organize', 'organize newscontent', 'organizing', 'original', 'ouch', 'outlet', 'outquot', 'outside', 'outside apple', 'outside popup', 'outside sxsw', 'overflow', 'overheard', 'overheard sxsw', 'overlay', 'overlay foursquare', 'overload', 'overload info', 'owners', 'owners hold', 'owners sxsw', 'owns', 'pack', 'packed', 'packed room', 'packing', 'pacman', 'page', 'page enter', 'page info', 'pagemaker', 'paid', 'panel', 'panel apple', 'panel dennis', 'panel good', 'panel ipad', 'panel like', 'panel sxsw', 'panel wguys', 'panels', 'panels ipad', 'papa', 'papa sangre', 'papasangre', 'papasangre sxsw', 'paper', 'parties', 'parties cases', 'parties sxsw', 'party', 'party calendar', 'party come', 'party details', 'party google', 'party gsdampm', 'party hosted', 'party ipad', 'party kinda', 'party link', 'party maggie', 'party mention', 'party shout', 'party sxsw', 'party tonight', 'party wed', 'partyawesome', 'partyawesome sxsw', 'partying', 'pass', 'pass mobile', 'passed', 'passes', 'passes blackberry', 'past', 'past 12', 'pause', 'pause video', 'pay', 'pay thats', 'pc', 'pearl', 'pearl teamandroidsxsw', 'pedicab', 'peek', 'peek space', 'peeps', 'pen', 'people', 'people apple', 'people doing', 'people ipad2', 'people like', 'people link', 'people meet', 'people obviously', 'people people', 'people planesairports', 'people putting', 'people really', 'people spent', 'people standing', 'people sxsw', 'people using', 'people walmart', 'people work', 'perfect', 'perfect sxsw', 'perfectly', 'performance', 'performance link', 'person', 'person friends', 'person sxsw', 'personal', 'personalized', 'personalized recommendations', 'peter', 'peter cashmore', 'phone', 'phone doing', 'phone google', 'phone info', 'phone sxsw', 'phones', 'phones sxsw', 'photo', 'photo booth', 'photo just', 'photo session', 'photo win', 'photobooth', 'photobooth know', 'photoes', 'photoes iphone', 'photos', 'photos airport', 'photos google', 'photos just', 'photos video', 'photos videos', 'physical', 'physical messaging', 'physical worlds', 'pi', 'pi day', 'pi pi', 'pic', 'pic ipadwinning', 'pic link', 'pic sxsw', 'pick', 'pick ipad', 'pick spot', 'picked', 'picked ipad', 'picked mention', 'pics', 'pics gowalla', 'picture', 'piece', 'pilhofer', 'pilhofer new', 'pixel', 'pixel image', 'place', 'place fandango', 'place line', 'place makes', 'places', 'places hotpot', 'plan', 'plan attending', 'plan schedule', 'plane', 'planesairports', 'planesairports downloaded', 'planner', 'planning', 'plans', 'platform', 'platform flipboard', 'platform holler', 'platform iphone', 'play', 'play android', 'play mention', 'played', 'played apple', 'played fruit', 'player', 'player pick', 'players', 'players tell', 'playing', 'playing fave', 'playing ipad', 'playsxsw', 'plenty', 'plugin', 'plus', 'plus cost', 'plus iphone', 'plus source', 'pm', 'pm sxsw', 'pnid', 'pnid sxsw', 'pocket', 'podcast', 'point', 'point yes', 'politics', 'politics html5', 'poor', 'pop', 'pop apple', 'pop fundraising', 'pop genius', 'pop mention', 'pop shop', 'pop store', 'popping', 'poppop', 'popstore', 'popstore ipads', 'popular', 'popup', 'popup apple', 'popup austin', 'popup ipad2s', 'popup retail', 'popup shop', 'popup store', 'popup sxsw', 'popupstore', 'portable', 'portable iphone', 'possible', 'possible launch', 'possible sxsw', 'possibly', 'possibly today', 'post', 'post mention', 'pot', 'pot google', 'potential', 'poursite', 'poursite sxsw', 'power', 'power herequot', 'power link', 'powermatteam', 'ppl', 'ppl wont', 'pr', 'pre', 'pre sxsw', 'prefer', 'prep', 'prep sxsw', 'preparation', 'presence', 'present', 'presentation', 'presentation building', 'presentation google', 'presentation mention', 'presentation sxsw', 'presenters', 'presenters using', 'presenting', 'preso', 'press', 'pretty', 'pretty cool', 'pretty excited', 'pretty sure', 'preview', 'preview big', 'price', 'principles', 'priorities', 'privacy', 'privacy law', 'privacy locationbased', 'prize', 'prize useful', 'prize yr', 'prizes', 'pro', 'probably', 'probably link', 'problem', 'problem solving', 'producers', 'product', 'product apple', 'product betterquot', 'product sxsw', 'product team', 'products', 'products google', 'products including', 'products sxsw', 'productsquot', 'productsquot mayer', 'professionals', 'programming', 'programming big', 'project', 'project google', 'project great', 'project like', 'promo', 'promotion', 'promotion chevysmc', 'proof', 'props', 'protecting', 'protecting users', 'protip', 'protocol', 'protocol added', 'ps', 'ps mention', 'psych', 'psych sxsw', 'pub', 'pub 6th', 'pubcamp', 'pubcamp kirkus', 'pubcamp sxsw', 'public', 'pull', 'pulling', 'purchase', 'purchase ipad', 'purchased', 'pure', 'purpose', 'push', 'push google', 'puts', 'putting', 'putting apples', 'putting gun', 'qa', 'qa session', 'qagb', 'qagb sxsw', 'qampa', 'qampa panel', 'qr', 'qr code', 'qrank', 'qrank ipadiphone', 'quake', 'quake link', 'quality', 'quality trumps', 'quantity', 'quantity tapworthy', 'quarter', 'quarter music', 'question', 'queue', 'queue sxsw', 'quibids', 'quibids custom', 'quick', 'quick dollars', 'quicker', 'quickly', 'quit', 'quite', 'quite scene', 'quot', 'quotapple', 'quotapple comes', 'quotapple elegant', 'quotapple greatest', 'quotat', 'quotat sxsw', 'quotbig', 'quotbig stereoquot', 'quotbizzyquot', 'quotbizzyquot link', 'quotcirclesquot', 'quotcirclesquot trending', 'quotcoolquot', 'quotcoworkersquot', 'quotcoworkersquot quotvisigothsquot', 'quotgoogle', 'quotgoogle circlesquot', 'quotgoogle launch', 'quotgoogle looks', 'quotgoogle tweetquot', 'quotgot', 'quotgot lot', 'quothow', 'quoti', 'quoti gave', 'quotif', 'quotif theres', 'quotim', 'quotim just', 'quotipad', 'quotits', 'quotits affirmative', 'quotmention', 'quotmention google', 'quotmistakes', 'quotmistakes building', 'quotmobile', 'quotno', 'quotno uses', 'quotoquot', 'quotparty', 'quotparty like', 'quotpetting', 'quotpetting iphone', 'quotpopupquot', 'quotpopupquot apple', 'quotpopupquot store', 'quotroutearoundquot', 'quotroutearoundquot feature', 'quotthe', 'quotthe classiest', 'quotthe power', 'quotthere', 'quotthere explanation', 'quottheres', 'quotthink', 'quotthink speakquot', 'quottransparency', 'quottransparency choice', 'quotvisigothsquot', 'quotvisigothsquot going', 'quotyou', 'quotyou google', 'rad', 'rad ipad', 'rad ready', 'raises', 'raises hand', 'ran', 'random', 'random apple', 'rank', 'ranking', 'rankings', 'rankings advice', 'rate', 'ratingrecommendation', 'ratingrecommendation androidiphone', 'read', 'read apple', 'read google', 'read link', 'reader', 'reader feed', 'reader iphone', 'ready', 'ready poursite', 'ready stop', 'ready sxsw', 'ready word', 'real', 'real time', 'reality', 'realize', 'realized', 'really', 'really amazing', 'really dont', 'really enjoying', 'really fast', 'really need', 'really nice', 'really want', 'really yay', 'reason', 'recap', 'recharge', 'recommendations', 'recommendations really', 'recommendations sxsw', 'recommended', 'recommended papasangre', 'recommends', 'recs', 'recs def', 'recs discotalk', 'red', 'refine', 'refrigerator', 'registers', 'registers checkout', 'regular', 'regularly', 'regularly scheduled', 'reid', 'release', 'release coincide', 'release genius', 'release ipad', 'released', 'releasing', 'releasing ios', 'relevant', 'relief', 'relief dont', 'relief effort', 'remaining', 'remember', 'rendering', 'replaced', 'replacement', 'replacing', 'replacing flip', 'report', 'report link', 'research', 'resist', 'respect', 'response', 'rest', 'rest link', 'rest sxsw', 'resulting', 'resulting shameless', 'results', 'results sxsw', 'retail', 'retail store', 'retrollect', 'retrollect android', 'return', 'retweet', 'revealed', 'revealed link', 'revenue', 'review', 'review better', 'review forbes', 'reviews', 'revolutionary', 'revolutionary sxsw', 'rewards', 'ride', 'ridic', 'ridic sxsw', 'ridiculous', 'ridiculous taking', 'ridiculously', 'right', 'right brain', 'right sxsw', 'right thing', 'rightbrain', 'rightbrain mwrc11', 'rise', 'rise 136', 'river', 'rji', 'road', 'roadie', 'roadie thrilled', 'robot', 'robot wars', 'robots', 'rock', 'rock concert', 'rock sxsw', 'rocked', 'rockin', 'rocks', 'rocks sxsw', 'roll', 'roll tractor', 'roof', 'roof thanks', 'room', 'room doesnt', 'room raises', 'room socialviewing', 'room sxsw', 'route', 'route traffic', 'routes', 'routes avoid', 'rt', 'rt haha', 'rt mention', 'rt sxsw', 'rtmention', 'rtmention google', 'rtmention sxsw', 'rules', 'rules sxsw', 'rumor', 'rumor apple', 'rumor google', 'rumored', 'rumors', 'rumors apple', 'rumors true', 'rumours', 'run', 'running', 'running android', 'runs', 'sad', 'sadly', 'sadly wasnt', 'said', 'sale', 'sale fridaythe', 'sale sxsw', 'sales', 'sales sxsw', 'sales touchingstories', 'salon', 'sampler', 'sampler itunes', 'samsung', 'san', 'sangre', 'sangre immersive', 'sauce', 'save', 'savebrands', 'savebrands sxsw', 'saved', 'saved apple', 'saves', 'saves sxsw', 'saves users', 'saveustechies', 'saving', 'saving drivers', 'saving ipad', 'saving users', 'savvy', 'savvy thats', 'saw', 'say', 'say exists', 'saying', 'says', 'says creative', 'says douche', 'says mayer', 'says mention', 'says ppl', 'says sxsw', 'scale', 'scan', 'scarborough', 'scarborough building', 'scared', 'scared got', 'scavenger', 'scavenger hunts', 'scene', 'scene geek', 'schedule', 'schedule app', 'scheduled', 'scheduled ipad2', 'scheduled sxsw', 'scheduling', 'schools', 'schools marketing', 'schwag', 'score', 'score ipad', 'screen', 'screenquot', 'screenquot 4year', 'sea', 'search', 'search engine', 'search google', 'search results', 'search sxsw', 'searches', 'second', 'second day', 'secret', 'secret new', 'security', 'security guard', 'seeing', 'seeing amp', 'seeing ipad', 'seen', 'seen apple', 'seen best', 'seen impressive', 'seen sxsw', 'sees', 'select', 'select streams', 'self', 'sell', 'sell bajillions', 'sell entire', 'sell ipad', 'sell ipad2', 'sell ipads', 'sell new', 'sell sxsw', 'selling', 'selling ipad', 'selling ipad2', 'sem', 'sem googlemaps', 'semantic', 'semantic web', 'send', 'sense', 'seo', 'seo open', 'seo sem', 'separate', 'serendipity', 'serendipity sxsw', 'seriously', 'seriously sxsw', 'serve', 'serve inside', 'service', 'services', 'session', 'session ipad', 'session mention', 'session sxsw', 'sessions', 'sessions sxsw', 'set', 'set launch', 'set open', 'set popup', 'set sxsw', 'set temporary', 'sets', 'sets temporary', 'setting', 'setting popup', 'setting temporary', 'shakespeares', 'shakespeares pub', 'shame', 'shameless', 'shameless promotion', 'share', 'share continues', 'share photos', 'sharing', 'sharing opinions', 'shell', 'shell 1500', 'shiny', 'shiny new', 'shirt', 'shirt beard', 'shit', 'shitty', 'shocked', 'shoot', 'shop', 'shop austin', 'shop core', 'shop mention', 'shop sxsw', 'short', 'shot', 'shot sxsw', 'shout', 'shout spazmatics', 'showcase', 'showcase new', 'showcased', 'showcased sxsw', 'showed', 'showed cool', 'showed force', 'showed mention', 'showing', 'showing iphone', 'showing new', 'shows', 'sick', 'sides', 'sides killcommunity', 'sigh', 'sighting', 'sighting sxsw', 'sign', 'signs', 'signs point', 'silly', 'silver', 'simple', 'single', 'sister', 'site', 'site coming', 'sites', 'sitting', 'skiers', 'skinny', 'skinny jeans', 'skip', 'skip jump', 'skulls', 'skulls link', 'slated', 'slated popup', 'sleep', 'sleep sxsw', 'sleeves', 'sleeves sxsw', 'sliced', 'sliced bread', 'slides', 'slim', 'slips', 'sloanxsw', 'slowly', 'slowly surely', 'smackdown', 'smackdown bloody', 'small', 'smart', 'smart apple', 'smart phones', 'smart played', 'smart rt', 'smartphone', 'smartphone breakdown', 'smartphone ive', 'smartphone rules', 'smartthings', 'smcdallas', 'smcdallas pre', 'smileyparty', 'smmnextgen', 'smokes', 'smokes ipad2', 'snap', 'snap photo', 'sneakers', 'social', 'social apps', 'social media', 'social network', 'social networks', 'social proof', 'social recs', 'social strategy', 'social sxsw', 'social web', 'socially', 'socialmedia', 'socialviewing', 'socialviewing session', 'society', 'socks', 'software', 'sold', 'sold 64gig', 'sold 70', 'soldout', 'soldout 70', 'solid', 'solutionquot', 'solutionquot sxsw', 'solutions', 'solutions theyre', 'solving', 'solving google', 'song', 'song info', 'songs', 'songs 247', 'sony', 'sony xperia', 'soon', 'sorry', 'sound', 'sounds', 'sounds awesome', 'sounds like', 'source', 'source code', 'south', 'south southwest', 'southwest', 'southwest interactive', 'southwest sxsw', 'space', 'space buzz', 'space clarity', 'space thats', 'spazmatics', 'spazmatics sxsw', 'speak', 'speak admired', 'speakeasy', 'speakeasy link', 'speakquot', 'speakquot mark', 'special', 'special apple', 'special sxsw', 'speech', 'speech ipad', 'speech therapy', 'speedup', 'speedup object', 'spending', 'spent', 'spins', 'spins ipad', 'sponsored', 'sponsored cont', 'sponsored mashable', 'spot', 'spot ipad', 'spots', 'spotted', 'spotted sxsw', 'spread', 'spread word', 'sprint', 'sprint galaxy', 'spy', 'spy game', 'srsly', 'st', 'st heres', 'stand', 'stand line', 'standing', 'standing line', 'star', 'staring', 'starry', 'starry night', 'start', 'start sxsw', 'started', 'started working', 'starting', 'starting ctia', 'starting transfer', 'starts', 'startup', 'startupbus', 'startupbus cle', 'startups', 'startups years', 'stats', 'stay', 'stay contact', 'stay tuned', 'steampunk', 'steampunk time', 'step', 'step tell', 'stereoquot', 'stereoquot ipad2', 'steve', 'steve jobs', 'steve wozniak', 'stickers', 'stickers mention', 'stock', 'stock sxsw', 'stop', 'stop let', 'stop sxsw', 'stop tomorrow', 'stopped', 'store', 'store 6th', 'store android', 'store appears', 'store austin', 'store come', 'store coming', 'store days', 'store downtown', 'store gets', 'store going', 'store handle', 'store includes', 'store ipad', 'store ipad2', 'store just', 'store layed', 'store like', 'store line', 'store link', 'store mention', 'store near', 'store open', 'store opening', 'store people', 'store popup', 'store right', 'store set', 'store sold', 'store sxsw', 'store thats', 'store today', 'store tomorrow', 'store week', 'store wish', 'stores', 'stores sxsw', 'stories', 'story', 'strategy', 'strategy 80sthemed', 'strategy director', 'stream', 'stream apples', 'stream live', 'streaming', 'streaming sxsw', 'streaming time', 'streaming twitter', 'streams', 'streams incl', 'street', 'street view', 'striking', 'striking iron', 'strong', 'struggle', 'struggle sxsw', 'stuck', 'studies', 'studies players', 'studios', 'studios louisiana', 'study', 'studying', 'studying flocking', 'stuff', 'stuff sxsw', 'stumbling', 'stumbling lost', 'stupid', 'stupid iphone', 'style', 'subscriptions', 'success', 'success apple', 'success google', 'success sxsw', 'successful', 'suck', 'sucks', 'sucks sxsw', 'suggestions', 'sunday', 'sunglasses', 'sunny', 'suns', 'suns tapworthy', 'super', 'super fast', 'super happy', 'support', 'support ipad2', 'supposedly', 'sure', 'surely', 'surprise', 'surprise apple', 'surprise customer', 'surrounded', 'surui', 'surui carbon', 'survival', 'survival existence', 'survival kit', 'survive', 'survive sxsw', 'survived', 'swag', 'swag thanks', 'swarming', 'swarming behavior', 'swarms', 'swarms ipad', 'sweet', 'swisher', 'swisher sxsw', 'switch', 'sxflip', 'sxflip sxsw', 'sxsh', 'sxsw', 'sxsw 10', 'sxsw 2011', 'sxsw 2011_', 'sxsw 6th', 'sxsw accordion', 'sxsw action', 'sxsw amp', 'sxsw ampipad', 'sxsw android', 'sxsw app', 'sxsw apple', 'sxsw atampt', 'sxsw attendees', 'sxsw atx', 'sxsw audience', 'sxsw austin', 'sxsw awesomeness', 'sxsw badge', 'sxsw bankinnovation', 'sxsw best', 'sxsw bet', 'sxsw beta', 'sxsw bring', 'sxsw cabbies', 'sxsw california', 'sxsw cbatsxsw', 'sxsw cc', 'sxsw check', 'sxsw checkins', 'sxsw clearly', 'sxsw cnet', 'sxsw cnn', 'sxsw come', 'sxsw coming', 'sxsw conf', 'sxsw conference', 'sxsw connectedtv', 'sxsw cool', 'sxsw crowd', 'sxsw day', 'sxsw definitely', 'sxsw demand', 'sxsw details', 'sxsw didnt', 'sxsw discover', 'sxsw does', 'sxsw doesnt', 'sxsw dont', 'sxsw double', 'sxsw download', 'sxsw easier', 'sxsw elevate', 'sxsw enchantment', 'sxsw excellent', 'sxsw exhibit', 'sxsw fail', 'sxsw far', 'sxsw fb', 'sxsw featured', 'sxsw festival', 'sxsw fh', 'sxsw flights', 'sxsw folks', 'sxsw free', 'sxsw fun', 'sxsw geek', 'sxsw gets', 'sxsw getting', 'sxsw giddy', 'sxsw going', 'sxsw good', 'sxsw google', 'sxsw googledoodles', 'sxsw googles', 'sxsw got', 'sxsw gotto', 'sxsw great', 'sxsw gsdm', 'sxsw gt', 'sxsw gtgt', 'sxsw guy', 'sxsw hands', 'sxsw happydance', 'sxsw holytrafficjams', 'sxsw hope', 'sxsw hows', 'sxsw httpsmarketandroidcomdetailsidcomborderstyloretrollect', 'sxsw huge', 'sxsw il', 'sxsw im', 'sxsw important', 'sxsw including', 'sxsw insiders', 'sxsw installing', 'sxsw interactive', 'sxsw ipad', 'sxsw ipad2', 'sxsw iphone', 'sxsw iphoneipad', 'sxsw just', 'sxsw kek', 'sxsw keynote', 'sxsw launch', 'sxsw lets', 'sxsw like', 'sxsw line', 'sxsw link', 'sxsw look', 'sxsw lots', 'sxsw love', 'sxsw make', 'sxsw making', 'sxsw man', 'sxsw mappers', 'sxsw marissa', 'sxsw means', 'sxsw meeting', 'sxsw memolane', 'sxsw mention', 'sxsw minds', 'sxsw mistakes', 'sxsw mitharvard', 'sxsw mobile', 'sxsw mosaicxm', 'sxsw music', 'sxsw need', 'sxsw needs', 'sxsw new', 'sxsw news', 'sxsw nice', 'sxsw nptech', 'sxsw panel', 'sxsw parties', 'sxsw party', 'sxsw peeps', 'sxsw people', 'sxsw pic', 'sxsw pnid', 'sxsw pop', 'sxsw poppop', 'sxsw popstore', 'sxsw popup', 'sxsw popupstore', 'sxsw possible', 'sxsw poursite', 'sxsw presentation', 'sxsw qagb', 'sxsw quotapple', 'sxsw quotbizzyquot', 'sxsw quoti', 'sxsw quotmistakes', 'sxsw quotpopupquot', 'sxsw release', 'sxsw report', 'sxsw retweet', 'sxsw rightbrain', 'sxsw rt', 'sxsw sampler', 'sxsw seeing', 'sxsw seen', 'sxsw sell', 'sxsw session', 'sxsw set', 'sxsw silly', 'sxsw sloanxsw', 'sxsw smartthings', 'sxsw socialmedia', 'sxsw soon', 'sxsw special', 'sxsw sponsored', 'sxsw sprint', 'sxsw startupbus', 'sxsw stay', 'sxsw steve', 'sxsw store', 'sxsw style', 'sxsw sucks', 'sxsw sure', 'sxsw sxsw', 'sxsw sxswchi', 'sxsw sxswi', 'sxsw talk', 'sxsw tapworthy', 'sxsw tech', 'sxsw thank', 'sxsw thanks', 'sxsw things', 'sxsw think', 'sxsw thought', 'sxsw timely', 'sxsw tmsxsw', 'sxsw today', 'sxsw tomorrow', 'sxsw tons', 'sxsw trade', 'sxsw tradeshow', 'sxsw trend', 'sxsw tuesday', 'sxsw tweets', 'sxsw twitter', 'sxsw user', 'sxsw using', 'sxsw vb', 'sxsw video', 'sxsw virtualoffice', 'sxsw wait', 'sxsw want', 'sxsw wearing', 'sxsw week', 'sxsw weekend', 'sxsw weeks', 'sxsw went', 'sxsw whats', 'sxsw win', 'sxsw winning', 'sxsw wins', 'sxsw winwin', 'sxsw wish', 'sxsw yay', 'sxsw year', 'sxsw yep', 'sxsw zazzlesxsw', 'sxsw2011', 'sxsw4japan', 'sxsw4japan relief', 'sxswand', 'sxswbarcrawl', 'sxswbarcrawl sxswi', 'sxswchi', 'sxswchi link', 'sxswers', 'sxswh', 'sxswi', 'sxswi link', 'sxswi mention', 'sxswi sxsw', 'sxswlink', 'sxswlink sxsw', 'sxswmobileapps', 'sxswmobileapps sxsw', 'sxswmoot', 'sxswmoot sxsw', 'sxswnui', 'sxswparty', 'sxswquot', 'sxtxstate', 'sync', 'table', 'table wanted', 'tables', 'tablet', 'tablet morning', 'tablet sxsw', 'tablets', 'tacos', 'tacos super', 'tag', 'tag instead', 'tag websites', 'tagging', 'tagging outside', 'taken', 'takes', 'takes action', 'takes sxsw', 'taking', 'taking notes', 'taking old', 'taking photo', 'taking photos', 'talent', 'talented', 'talk', 'talk demoing', 'talk mention', 'talk striking', 'talk sxsw', 'talked', 'talking', 'talking ipad', 'talks', 'talks jonathan', 'tap', 'tap quality', 'tap quantity', 'tapworthy', 'tapworthy hisxsw', 'tapworthy ipad', 'tapworthy sxsw', 'target', 'target audience', 'task', 'task sxsw', 'taught', 'tax', 'tax writeoff', 'tbwasxsw', 'tbwasxsw sxsw', 'tc', 'teach', 'teach america', 'team', 'team android', 'team google', 'team started', 'teamandroidsxsw', 'teamandroidsxsw cause', 'tech', 'tech apple', 'tech begins', 'tech check', 'tech savvy', 'tech sxsw', 'tech4good', 'tech4good sxsw', 'tech_news', 'tech_news apple', 'techcrunch', 'techcrunch link', 'techies', 'technews', 'technical', 'technical solutions', 'technology', 'technology dont', 'technology ones', 'tee', 'tell', 'tell iphone', 'tell new', 'tell people', 'tell quotpetting', 'tell sxsw', 'tells', 'temp', 'temp apple', 'temp store', 'temporary', 'temporary apple', 'temporary austin', 'temporary ipad', 'temporary store', 'temptation', 'tempted', 'terms', 'terrible', 'test', 'testing', 'testing interactive', 'tests', 'tests muro', 'texas', 'text', 'texting', 'texting app', 'thank', 'thank bavcid', 'thank god', 'thank rt', 'thanks', 'thanks apple', 'thanks google', 'thanks mention', 'thanks person', 'thanks sxsw', 'thats', 'thats apple', 'thats iphone', 'thats slated', 'theatre', 'theatre ok', 'theirs', 'theme', 'therapy', 'therapy communication', 'theres', 'theres line', 'theres thing', 'theyd', 'theyll', 'theyre', 'theyre doing', 'theyre giving', 'theyre going', 'theyre great', 'theyre sxsw', 'theyve', 'thing', 'thing insanely', 'thing ipad', 'thing ive', 'thing japan', 'thing sxsw', 'things', 'things screenquot', 'things skinny', 'think', 'think apple', 'think google', 'think ipad', 'think link', 'think sxsw', 'thinking', 'thinks', 'thought', 'thoughts', 'thousands', 'thrilled', 'thrilled offer', 'throw', 'throw btchin', 'throwing', 'thumbs', 'thx', 'ticket', 'tidbit', 'tigerblood', 'til', 'til midnight', 'tim', 'tim oreilly', 'tim oreily', 'time', 'time android', 'time day', 'time fuel', 'time ipad2', 'time link', 'time machines', 'time mention', 'time omg', 'time open', 'time sxsw', 'time tech', 'time tech4good', 'time tweeting', 'time users', 'timely', 'timely rt', 'times', 'times sxsw', 'timing', 'tiny', 'tip', 'tip mention', 'tips', 'title', 'title tag', 'tkts', 'tkts useless', 'tmobile', 'tmobile 4g', 'tmsxsw', 'today', 'today 10', 'today apple', 'today big', 'today highly', 'today ipad', 'today link', 'today mention', 'today share', 'today sxsw', 'today sxswi', 'todays', 'tomlinson', 'tomorrow', 'tomorrow apple', 'tomorrow link', 'tomorrow sxsw', 'ton', 'ton ipad2', 'tonight', 'tonight google', 'tonight great', 'tonight person', 'tonight rt', 'tonight sxsw', 'tons', 'tons ipad2s', 'tons music', 'toodamnlucky', 'took', 'tool', 'tool measuring', 'tools', 'tools past', 'topnews', 'tops', 'tops 654', 'total', 'totally', 'totally agree', 'touch', 'touched', 'touchingstories', 'touchingstories tbwasxsw', 'town', 'town sxsw', 'toy', 'track', 'track offsite', 'track whats', 'tracker', 'tracker cool', 'tracks', 'tractor', 'tractor trailer', 'trade', 'traded', 'traded xoom', 'tradeshow', 'tradeshow demo', 'traffic', 'traffic collectively', 'traffic function', 'traffic google', 'traffic saving', 'traffic sxsw', 'trailer', 'trailer ipads', 'trajan', 'trajan google', 'transfer', 'transfer bit', 'travel', 'trend', 'trend audience', 'trending', 'trending sxsw', 'trending sxswi', 'tried', 'tried change', 'tries', 'tries launch', 'trip', 'trip kids', 'tron', 'trouble', 'truck', 'true', 'true come', 'true rt', 'trumps', 'trumps density', 'trumps tap', 'trustworthiness', 'trustworthiness zappos', 'try', 'trying', 'trying steve', 'ts', 'tshirt', 'tsunami', 'tuesday', 'tuesday 315', 'tuned', 'turkey', 'turkey rt', 'turn', 'turn ipad', 'turned', 'turning', 'tuxedo', 'tuxedo lose', 'tv', 'tv experience', 'tv room', 'tweeps', 'tweet', 'tweet sxsw', 'tweetdeck', 'tweetdeck unstable', 'tweeted', 'tweeting', 'tweeting using', 'tweetquot', 'tweetquot new', 'tweets', 'tweetup', 'tweetup thanks', 'twit', 'twitter', 'twitter app', 'twitter fail', 'twitter iphone', 'twitter mention', 'twitter sxsw', 'tx', 'tx link', 'type', 'typing', 'typing ipad', 'tyson', 'uber', 'uberguide', 'uberguide sxsw', 'ubersocial', 'ubersocial iphone', 'ui', 'ui insights', 'umm', 'unboxing', 'unboxing outside', 'understand', 'understand collab', 'unique', 'unless', 'unless money', 'unofficial', 'unofficial sxsw', 'unpack', 'unscientific', 'unscientific observation', 'unsix', 'unsix tweetup', 'unstable', 'unstable nten', 'unveiling', 'update', 'update google', 'update iphone', 'update mention', 'updated', 'updated iphone', 'updated npr', 'updates', 'updates iphone', 'updating', 'upgrade', 'upgrade newest', 'ups', 'ups game', 'ur', 'ur iphone', 'urs', 'urs sxsw', 'usa', 'usa better', 'usage', 'usage mobile', 'usb', 'use', 'use google', 'use ipad', 'use sxsw', 'use time', 'used', 'used ipad', 'used mention', 'useful', 'useful brick', 'useful ipad', 'useless', 'useless canada', 'user', 'user gets', 'users', 'users 40', 'users drive', 'users feel', 'users google', 'users mention', 'users mobile', 'users privacy', 'users struggle', 'users sxsw', 'users tim', 'users years', 'uses', 'uses google', 'uses windows', 'usguys', 'usguys sxsw', 'using', 'using google', 'using ipad', 'using iphone', 'using south', 'using sxsw', 'ux', 'uxdes', 'uxdes sxsw', 'v2', 'v5', 'v5 sxsw', 'valley', 'valuable', 'valuable device', 'values', 'values sxsw', 'vb', 'vb mention', 'vector', 'vegas', 'verizon', 'verizon iphone', 'verizon sxsw', 'version', 'version android', 'version flipboard', 'version mention', 'version whrrl', 'vid', 'video', 'video biggest', 'video camera', 'video capture', 'video ipad', 'video ireport', 'video link', 'video mention', 'video new', 'video player', 'video streaming', 'video surui', 'videos', 'videos whatcha', 'view', 'view art', 'view car', 'viewed', 'views', 'views using', 'vinh', 'vip', 'vip badge', 'virgin', 'virgin product', 'virtual', 'virtual field', 'virtualoffice', 'visit', 'visit fb', 'visiting', 'visual', 'visualization', 'voice', 'voluntarilyquot', 'voluntarilyquot quotapple', 'vs', 'vs apple', 'vs users', 'vufinders', 'vufinders awesome', 'vuvuzela', 'vuvuzela home', 'w00t', 'w00t mention', 'wa', 'wait', 'wait concert', 'wait ipad', 'wait line', 'waited', 'waiting', 'waiting line', 'walk', 'walk conference', 'walked', 'walked dl', 'walking', 'walking ipad', 'walking sxsw', 'walmart', 'walmart airports', 'wanna', 'want', 'want demo', 'want home', 'want ipad', 'want iphone', 'want make', 'want shell', 'want sxsw', 'want win', 'wanted', 'wanted buy', 'wants', 'wants new', 'wars', 'wars steampunk', 'wasnt', 'wasted', 'wasted time', 'watch', 'watch yelp', 'watched', 'watching', 'water', 'wave', 'way', 'way apple', 'way caring', 'way coordinate', 'way queue', 'way sxsw', 'ways', 'wearing', 'wearing openbeta', 'web', 'web industry', 'web innovators', 'web mention', 'web site', 'webdoccom', 'webdoccom sxsw', 'website', 'website ranking', 'website rankings', 'websites', 'websites seo', 'webvisions', 'wed', 'wed hoping', 'week', 'week early', 'week popup', 'week sxsw', 'weekend', 'weekend japan', 'weekend sxsw', 'weeks', 'weird', 'weird ogilvy', 'weird sxsw', 'welcome', 'went', 'went new', 'weve', 'weve seen', 'wguys', 'wguys fr', 'whale', 'whale artist', 'whatcha', 'whatcha think', 'whats', 'whats goin', 'whats going', 'whats sxsw', 'white', 'white 3g', 'white ipad', 'white ipad2', 'whoa', 'whos', 'whos going', 'whrrl', 'whrrl app', 'whrrl available', 'wife', 'wifi', 'wifi 3g', 'wifi 64gb', 'wifi amp', 'wifi available', 'wifi sxsw', 'wifi white', 'wild', 'willing', 'win', 'win awesome', 'win free', 'win ipad', 'win macbook', 'win sony', 'win sxsw', 'windows', 'windows voluntarilyquot', 'winner', 'winning', 'winning ipad2', 'winning mention', 'winning sxsw', 'winning tigerblood', 'wins', 'wins best', 'wins ipad', 'wins mention', 'wins sxsw', 'winssxsw', 'winssxsw link', 'winwin', 'winwin winning', 'wired', 'wise', 'wish', 'wish android', 'wish ipad', 'wish purchase', 'wish sxsw', 'wishing', 'withme', 'withme android', 'wjchat', 'wknd', 'wo', 'woah', 'woah expect', 'woman', 'women', 'women hands', 'women product', 'won', 'won 2nd', 'won google', 'won ipad', 'won js', 'won sxsw', 'wonder', 'wonder apple', 'wondering', 'wonderwe', 'wonderwe need', 'wont', 'wont lose', 'woo', 'woo hoo', 'woohoo', 'woohoo rt', 'wooooo', 'woot', 'woot just', 'woot link', 'woot rt', 'word', 'word motherboard', 'word quotcirclesquot', 'word sxsw', 'wordpress', 'work', 'work agileagency', 'work google', 'work people', 'working', 'working ipad', 'working sxsw', 'works', 'works google', 'workspace', 'workspace book', 'world', 'world edtech', 'world incl', 'world sxsw', 'worlds', 'worlds expensive', 'worlds mobile', 'worry', 'worry link', 'worst', 'worth', 'worth unless', 'wouldnt', 'wow', 'wow apple', 'wow mention', 'wow rock', 'wow rt', 'wow shakespeares', 'wow sxsw', 'wow thing', 'wozniak', 'wozniak drink', 'write', 'writeoff', 'writeoff buy', 'wrong', 'wrote', 'wrote hollergram', 'wssxsw', 'xoom', 'xoom won', 'xperia', 'xperia play', 'ya', 'yall', 'yall sxsw', 'yay', 'yay new', 'yay rt', 'yeah', 'yeah rt', 'year', 'year google', 'year ipad', 'year old', 'year sxsw', 'years', 'years day', 'years mention', 'years time', 'yelp', 'yelp killer', 'yelp sxsw', 'yep', 'yep link', 'yes', 'yes gowalla', 'yes im', 'yes link', 'yes rumors', 'yes updated', 'yesterday', 'yo', 'york', 'york times', 'you_', 'youd', 'youd think', 'youll', 'youll make', 'youll want', 'youre', 'youre austin', 'youre having', 'youre heading', 'youtube', 'youve', 'yr', 'yr fandango', 'yrs', 'yrsday', 'yrsday sxsw', 'yup', 'zaggle', 'zaggle showed', 'zappos', 'zazzlesxsw', 'zazzlesxsw sxsw', 'zazzlesxsw sxswi', 'zazzlsxsw', 'zazzlsxsw youll', 'zms', 'zms mention', 'zombies', 'zomg', 'zomg mention', 'zoom']\n"
     ]
    }
   ],
   "source": [
    "print(vectorizer.get_feature_names())"
   ]
  },
  {
   "cell_type": "code",
   "execution_count": 103,
   "metadata": {},
   "outputs": [
    {
     "data": {
      "text/plain": [
       "{'theyre': 5241,\n",
       " 'giving': 1888,\n",
       " 'away': 549,\n",
       " 'ipad': 2484,\n",
       " '2s': 62,\n",
       " 'boxes': 746,\n",
       " 'books': 728,\n",
       " 'mention': 3255,\n",
       " 'sxsw': 4860,\n",
       " 'theyre giving': 5243,\n",
       " 'giving away': 1889,\n",
       " 'away ipad': 552,\n",
       " 'ipad 2s': 2487,\n",
       " 'mention sxsw': 3410,\n",
       " 'setting': 4501,\n",
       " 'ipad2': 2590,\n",
       " 'service': 4485,\n",
       " 'morning': 3525,\n",
       " 'apple': 349,\n",
       " 'popup': 3978,\n",
       " 'store': 4739,\n",
       " 'morning sxsw': 3527,\n",
       " 'sxsw apple': 4871,\n",
       " 'apple popup': 387,\n",
       " 'popup store': 3984,\n",
       " 'time': 5283,\n",
       " 'google': 1931,\n",
       " 'launch': 2849,\n",
       " 'new': 3597,\n",
       " 'social': 4607,\n",
       " 'network': 3588,\n",
       " 'cnet': 988,\n",
       " 'news': 3631,\n",
       " 'link': 2956,\n",
       " 'google launch': 1967,\n",
       " 'launch new': 2859,\n",
       " 'new social': 3619,\n",
       " 'social network': 4610,\n",
       " 'network sxsw': 3592,\n",
       " 'sxsw cnet': 4891,\n",
       " 'cnet news': 991,\n",
       " 'news link': 3637,\n",
       " 'used': 5508,\n",
       " 'think': 5257,\n",
       " 'started': 4706,\n",
       " 'making': 3159,\n",
       " 'great': 2062,\n",
       " 'apps': 436,\n",
       " 'official': 3689,\n",
       " 'app': 300,\n",
       " 'site': 4560,\n",
       " 'mention used': 3428,\n",
       " 'official sxsw': 3691,\n",
       " 'sxsw app': 4870,\n",
       " 'app ipad': 318,\n",
       " 'hopefully': 2279,\n",
       " 'best': 641,\n",
       " 'thing': 5248,\n",
       " 'comes': 1022,\n",
       " 'isnt': 2690,\n",
       " 'fact': 1590,\n",
       " 'people': 3839,\n",
       " 'austin': 500,\n",
       " 'pick': 3902,\n",
       " 'best thing': 648,\n",
       " 'comes sxsw': 1024,\n",
       " 'pick ipad': 3903,\n",
       " 'things': 5254,\n",
       " 'missing': 3478,\n",
       " '80s': 119,\n",
       " 'dance': 1198,\n",
       " 'party': 3801,\n",
       " 'missing sxsw': 3479,\n",
       " 'dance party': 1199,\n",
       " 'biggest': 676,\n",
       " 'far': 1618,\n",
       " 'looks': 3058,\n",
       " 'going': 1903,\n",
       " 'iphone': 2624,\n",
       " 'sxsw far': 4917,\n",
       " 'theyre going': 5244,\n",
       " 'expect': 1558,\n",
       " 'lots': 3075,\n",
       " 'buzz': 822,\n",
       " 'tomorrow': 5327,\n",
       " 'support': 4830,\n",
       " 'flash': 1701,\n",
       " 'maybe': 3224,\n",
       " 'ipad sxsw': 2575,\n",
       " 'queue': 4118,\n",
       " 'long': 3038,\n",
       " 'store sxsw': 4768,\n",
       " 'theres': 5236,\n",
       " 'way': 5652,\n",
       " 'line': 2934,\n",
       " 'pop': 3966,\n",
       " 'shop': 4524,\n",
       " 'goes': 1898,\n",
       " 'sale': 4369,\n",
       " 'pop shop': 3971,\n",
       " 'shop sxsw': 4528,\n",
       " 'ipad goes': 2521,\n",
       " 'goes sale': 1899,\n",
       " 'won': 5765,\n",
       " 'gift': 1880,\n",
       " 'meetup': 3250,\n",
       " 'hooray': 2274,\n",
       " 'apple sxsw': 408,\n",
       " 'win': 5722,\n",
       " 'free': 1759,\n",
       " 'webdoccom': 5666,\n",
       " 'rt': 4344,\n",
       " 'win free': 5724,\n",
       " 'free ipad': 1765,\n",
       " 'ipad webdoccom': 2587,\n",
       " 'webdoccom sxsw': 5667,\n",
       " 'sxsw rt': 5017,\n",
       " 'maps': 3175,\n",
       " '50': 96,\n",
       " 'guys': 2118,\n",
       " 'huge': 2317,\n",
       " 'marissa': 3196,\n",
       " 'mayer': 3225,\n",
       " 'google maps': 1975,\n",
       " 'marissa mayer': 3197,\n",
       " 'mayer sxsw': 3233,\n",
       " 'hanging': 2151,\n",
       " 'checking': 933,\n",
       " 'awesome': 553,\n",
       " 'ask': 472,\n",
       " 'lounge': 3080,\n",
       " '10': 0,\n",
       " 'hanging mention': 2152,\n",
       " 'awesome new': 561,\n",
       " 'new iphone': 3609,\n",
       " 'iphone app': 2630,\n",
       " 'sxsw mention': 4979,\n",
       " 'mention lounge': 3363,\n",
       " '10 link': 3,\n",
       " 'googles': 2023,\n",
       " 'quotroutearoundquot': 4177,\n",
       " 'feature': 1645,\n",
       " 'gives': 1885,\n",
       " 'alternate': 217,\n",
       " 'routes': 4342,\n",
       " 'avoid': 542,\n",
       " 'traffic': 5374,\n",
       " 'collectively': 1008,\n",
       " 'saving': 4392,\n",
       " 'drivers': 1425,\n",
       " 'yrsday': 5884,\n",
       " 'rt mention': 4346,\n",
       " 'mention googles': 3321,\n",
       " 'googles new': 2029,\n",
       " 'new quotroutearoundquot': 3617,\n",
       " 'quotroutearoundquot feature': 4178,\n",
       " 'feature gives': 1646,\n",
       " 'gives alternate': 1886,\n",
       " 'alternate routes': 218,\n",
       " 'routes avoid': 4343,\n",
       " 'avoid traffic': 543,\n",
       " 'traffic collectively': 5375,\n",
       " 'collectively saving': 1009,\n",
       " 'saving drivers': 4393,\n",
       " 'drivers yrsday': 1427,\n",
       " 'yrsday sxsw': 5885,\n",
       " 'circle': 951,\n",
       " 'game': 1831,\n",
       " 'tries': 5394,\n",
       " 'called': 836,\n",
       " 'circles': 952,\n",
       " 'mention mention': 3368,\n",
       " 'mention google': 3320,\n",
       " 'google tries': 2008,\n",
       " 'tries launch': 5395,\n",
       " 'network called': 3589,\n",
       " 'called circles': 837,\n",
       " 'circles link': 955,\n",
       " 'link sxsw': 2990,\n",
       " 'quotgoogle': 4145,\n",
       " 'technical': 5182,\n",
       " 'solutions': 4632,\n",
       " 'community': 1036,\n",
       " 'human': 2319,\n",
       " 'solutionquot': 4630,\n",
       " 'quotgoogle looks': 4148,\n",
       " 'looks technical': 3063,\n",
       " 'technical solutions': 5183,\n",
       " 'solutions theyre': 4633,\n",
       " 'theyre great': 5245,\n",
       " 'great community': 2063,\n",
       " 'community human': 1037,\n",
       " 'human solutionquot': 2320,\n",
       " 'solutionquot sxsw': 4631,\n",
       " 'airline': 201,\n",
       " 'mentioned': 3442,\n",
       " 'guy': 2113,\n",
       " 'kawasaki': 2777,\n",
       " 'delightful': 1259,\n",
       " 'like': 2911,\n",
       " 'drumroll': 1436,\n",
       " 'congrats': 1065,\n",
       " 'airline mentioned': 202,\n",
       " 'mentioned guy': 3443,\n",
       " 'guy kawasaki': 2115,\n",
       " 'kawasaki delightful': 2778,\n",
       " 'delightful like': 1260,\n",
       " 'like apple': 2913,\n",
       " 'apple drumroll': 359,\n",
       " 'drumroll mention': 1437,\n",
       " 'mention congrats': 3290,\n",
       " 'congrats sxsw': 1068,\n",
       " 'gotta': 2042,\n",
       " 'sleep': 4573,\n",
       " 'score': 4428,\n",
       " 'damn': 1195,\n",
       " 'sleep sxsw': 4574,\n",
       " 'score ipad': 4429,\n",
       " 'love': 3082,\n",
       " 'quotapple': 4130,\n",
       " 'cool': 1103,\n",
       " 'technology': 5184,\n",
       " 'ones': 3712,\n",
       " 'heard': 2197,\n",
       " 'dont': 1387,\n",
       " 'conferencesquot': 1061,\n",
       " 'mention love': 3364,\n",
       " 'love mention': 3087,\n",
       " 'sxsw quotapple': 5008,\n",
       " 'quotapple comes': 4131,\n",
       " 'comes cool': 1023,\n",
       " 'cool technology': 1115,\n",
       " 'technology ones': 5186,\n",
       " 'ones heard': 3713,\n",
       " 'heard dont': 2199,\n",
       " 'dont conferencesquot': 1388,\n",
       " 'schools': 4425,\n",
       " 'marketing': 3208,\n",
       " 'experts': 1569,\n",
       " 'ltlt': 3103,\n",
       " 'true': 5401,\n",
       " 'does': 1365,\n",
       " 'apple schools': 397,\n",
       " 'schools marketing': 4426,\n",
       " 'marketing experts': 3209,\n",
       " 'experts link': 1571,\n",
       " 'link mention': 2983,\n",
       " 'realized': 4224,\n",
       " 'logo': 3031,\n",
       " 'loving': 3095,\n",
       " 'hearing': 2201,\n",
       " 'googledoodle': 2016,\n",
       " 'team': 5162,\n",
       " 'gsdm': 2097,\n",
       " 'gsdm sxsw': 2099,\n",
       " 'android': 255,\n",
       " 'props': 4070,\n",
       " 'amp': 232,\n",
       " 'app android': 302,\n",
       " 'mention amp': 3264,\n",
       " 'ive': 2697,\n",
       " 'weekend': 5680,\n",
       " 'quoti': 4153,\n",
       " 'gave': 1842,\n",
       " 'money': 3508,\n",
       " 'japan': 2702,\n",
       " 'relief': 4263,\n",
       " 'need': 3569,\n",
       " 'mention rt': 3394,\n",
       " 'mention best': 3274,\n",
       " 'thing ive': 5251,\n",
       " 'ive heard': 2700,\n",
       " 'heard weekend': 2200,\n",
       " 'weekend sxsw': 5682,\n",
       " 'sxsw quoti': 5010,\n",
       " 'quoti gave': 4154,\n",
       " 'gave ipad': 1843,\n",
       " 'ipad money': 2547,\n",
       " 'money japan': 3510,\n",
       " 'japan relief': 2705,\n",
       " 'relief dont': 4264,\n",
       " 'dont need': 1393,\n",
       " 'need ipad': 3570,\n",
       " 'whrrl': 5709,\n",
       " 'live': 3013,\n",
       " 'marketplace': 3213,\n",
       " 'hot': 2286,\n",
       " 'just': 2738,\n",
       " 'mention new': 3371,\n",
       " 'new whrrl': 3627,\n",
       " 'whrrl app': 5710,\n",
       " 'app live': 323,\n",
       " 'live iphone': 3015,\n",
       " 'app store': 335,\n",
       " 'store android': 4741,\n",
       " 'android marketplace': 272,\n",
       " 'marketplace hot': 3214,\n",
       " 'hot just': 2287,\n",
       " 'just time': 2765,\n",
       " 'time sxsw': 5293,\n",
       " 'vid': 5564,\n",
       " 'unboxing': 5463,\n",
       " 'video': 5565,\n",
       " 'mention ipad2': 3347,\n",
       " 'apple store': 404,\n",
       " 'video link': 5571,\n",
       " '6th': 110,\n",
       " 'congress': 1070,\n",
       " 'dude': 1440,\n",
       " '6th congress': 112,\n",
       " 'saving ipad': 4394,\n",
       " 'sxsw link': 4967,\n",
       " 'mt': 3534,\n",
       " 'swisher': 4854,\n",
       " 'quotthe': 4179,\n",
       " 'classiest': 970,\n",
       " 'fascist': 1624,\n",
       " 'company': 1039,\n",
       " 'americaquot': 228,\n",
       " 'sxflip': 4857,\n",
       " 'mt mention': 3535,\n",
       " 'apple quotthe': 393,\n",
       " 'quotthe classiest': 4180,\n",
       " 'classiest fascist': 971,\n",
       " 'fascist company': 1625,\n",
       " 'company americaquot': 1041,\n",
       " 'sxflip sxsw': 4858,\n",
       " 'ha': 2125,\n",
       " 'quotpopupquot': 4174,\n",
       " 'event': 1527,\n",
       " 'planner': 3928,\n",
       " 'mention ha': 3327,\n",
       " 'line ipad2': 2942,\n",
       " 'ipad2 sxsw': 2604,\n",
       " 'sxsw quotpopupquot': 5012,\n",
       " 'quotpopupquot apple': 4175,\n",
       " 'papa': 3793,\n",
       " 'sangre': 4380,\n",
       " 'panel': 3783,\n",
       " 'amazing': 219,\n",
       " 'totally': 5352,\n",
       " 'sxswi': 5093,\n",
       " 'papa sangre': 3794,\n",
       " 'awesome sxsw': 563,\n",
       " 'sxsw sxswi': 5041,\n",
       " 'im': 2350,\n",
       " 'looking': 3054,\n",
       " 'forward': 1745,\n",
       " 'smcdallas': 4598,\n",
       " 'pre': 4008,\n",
       " 'wed': 5674,\n",
       " 'hoping': 2281,\n",
       " 'ill': 2342,\n",
       " 'resulting': 4282,\n",
       " 'shameless': 4507,\n",
       " 'promotion': 4067,\n",
       " 'chevysmc': 941,\n",
       " 'im looking': 2360,\n",
       " 'looking forward': 3056,\n",
       " 'forward smcdallas': 1750,\n",
       " 'smcdallas pre': 4599,\n",
       " 'pre sxsw': 4009,\n",
       " 'sxsw party': 4994,\n",
       " 'party wed': 3816,\n",
       " 'wed hoping': 5675,\n",
       " 'hoping ill': 2282,\n",
       " 'ill win': 2347,\n",
       " 'win ipad': 5725,\n",
       " 'ipad resulting': 2562,\n",
       " 'resulting shameless': 4283,\n",
       " 'shameless promotion': 4508,\n",
       " 'promotion chevysmc': 4068,\n",
       " 'lets': 2898,\n",
       " 'meet': 3246,\n",
       " 'use': 5503,\n",
       " 'phone': 3870,\n",
       " 'works': 5799,\n",
       " 'mention im': 3341,\n",
       " 'im going': 2354,\n",
       " 'going sxsw': 1908,\n",
       " 'sxsw lets': 4964,\n",
       " 'mention android': 3265,\n",
       " 'android phone': 275,\n",
       " 'june': 2737,\n",
       " 'survived': 4846,\n",
       " 'drop': 1432,\n",
       " 'drowning': 1435,\n",
       " 'suggestions': 4821,\n",
       " 'coming': 1025,\n",
       " 'coming mention': 1027,\n",
       " 'downloaded': 1408,\n",
       " 'just downloaded': 2744,\n",
       " 'ipad app': 2491,\n",
       " 'austin sxsw': 522,\n",
       " 'march': 3192,\n",
       " '11': 8,\n",
       " '2011': 35,\n",
       " 'ipad march': 2544,\n",
       " 'march 11': 3193,\n",
       " 'interesting': 2458,\n",
       " 'analytics': 251,\n",
       " 'track': 5361,\n",
       " 'offsite': 3694,\n",
       " 'links': 3000,\n",
       " 'virtual': 5590,\n",
       " 'views': 5583,\n",
       " 'using': 5535,\n",
       " 'moreknowledge': 3523,\n",
       " 'mitharvard': 3482,\n",
       " 'interesting rt': 2462,\n",
       " 'google analytics': 1934,\n",
       " 'analytics track': 252,\n",
       " 'track offsite': 5362,\n",
       " 'offsite links': 3695,\n",
       " 'links virtual': 3001,\n",
       " 'views using': 5584,\n",
       " 'moreknowledge sxsw': 3524,\n",
       " 'sxsw mitharvard': 4982,\n",
       " 'bing': 680,\n",
       " 'smackdown': 4585,\n",
       " 'bloody': 716,\n",
       " 'banality': 582,\n",
       " 'sxsw 2011': 4862,\n",
       " '2011 google': 37,\n",
       " 'google bing': 1938,\n",
       " 'bing smackdown': 681,\n",
       " 'smackdown bloody': 4586,\n",
       " 'bloody banality': 717,\n",
       " 'banality link': 583,\n",
       " 'joke': 2723,\n",
       " 'apple pop': 386,\n",
       " 'pop store': 3972,\n",
       " 'fear': 1644,\n",
       " 'sxswers': 5091,\n",
       " 'confirmed': 1063,\n",
       " 'week': 5676,\n",
       " 'mention confirmed': 3289,\n",
       " 'confirmed apple': 1064,\n",
       " 'store week': 4772,\n",
       " 'week popup': 5678,\n",
       " 'popup austin': 3980,\n",
       " 'opening': 3728,\n",
       " 'lt': 3100,\n",
       " 'ya': 5837,\n",
       " 'hand': 2141,\n",
       " 'apple opening': 382,\n",
       " 'opening popup': 3730,\n",
       " 'store austin': 4743,\n",
       " 'link lt': 2980,\n",
       " 'spotted': 4685,\n",
       " 'man': 3164,\n",
       " 'spotted sxsw': 4686,\n",
       " 'sxsw man': 4973,\n",
       " 'man need': 3166,\n",
       " 'ipad link': 2539,\n",
       " 'link sxswi': 2992,\n",
       " 'need sxsw': 3573,\n",
       " 'come': 1011,\n",
       " 'tonight': 5333,\n",
       " 'bands': 585,\n",
       " 'food': 1727,\n",
       " 'art': 459,\n",
       " 'ice': 2331,\n",
       " 'cream': 1150,\n",
       " 'nifty': 3654,\n",
       " 'interactive': 2452,\n",
       " 'mention come': 3288,\n",
       " 'come party': 1017,\n",
       " 'party google': 3805,\n",
       " 'google tonight': 2005,\n",
       " 'tonight sxsw': 5338,\n",
       " 'link bands': 2962,\n",
       " 'bands food': 586,\n",
       " 'food art': 1728,\n",
       " 'art ice': 460,\n",
       " 'ice cream': 2332,\n",
       " 'cream nifty': 1151,\n",
       " 'nifty interactive': 3655,\n",
       " 'interactive maps': 2455,\n",
       " 'barry': 597,\n",
       " 'diller': 1329,\n",
       " 'york': 5867,\n",
       " 'times': 5300,\n",
       " 'lunch': 3113,\n",
       " 'hotel': 2293,\n",
       " 'barry diller': 598,\n",
       " 'new york': 3628,\n",
       " 'york times': 5868,\n",
       " 'google party': 1978,\n",
       " 'big': 665,\n",
       " 'foursquare': 1751,\n",
       " 'thanks': 5220,\n",
       " 'really': 4225,\n",
       " 'care': 859,\n",
       " 'big apple': 666,\n",
       " 'new foursquare': 3604,\n",
       " 'thanks sxsw': 5225,\n",
       " 'people really': 3850,\n",
       " 'false': 1602,\n",
       " 'alarm': 206,\n",
       " 'nowand': 3667,\n",
       " 'probably': 4043,\n",
       " 'mention false': 3307,\n",
       " 'false alarm': 1603,\n",
       " 'alarm google': 207,\n",
       " 'google circles': 1947,\n",
       " 'circles coming': 953,\n",
       " 'coming nowand': 1029,\n",
       " 'nowand probably': 3668,\n",
       " 'probably link': 4044,\n",
       " 'link google': 2970,\n",
       " 'circles social': 959,\n",
       " 'social sxsw': 4615,\n",
       " 'srsly': 4693,\n",
       " 'rumor': 4353,\n",
       " 'temporary': 5198,\n",
       " 'downtown': 1410,\n",
       " 'mention rumor': 3395,\n",
       " 'rumor apple': 4354,\n",
       " 'apple temporary': 410,\n",
       " 'temporary store': 5202,\n",
       " 'store downtown': 4747,\n",
       " 'downtown austin': 1412,\n",
       " 'sxsw ipad': 4956,\n",
       " 'ipad launch': 2535,\n",
       " 'launch link': 2856,\n",
       " 'sorry': 4643,\n",
       " 'im sorry': 2364,\n",
       " 'mention party': 3377,\n",
       " 'party sxsw': 3814,\n",
       " 'sxsw iphone': 4958,\n",
       " 'convention': 1099,\n",
       " 'center': 892,\n",
       " 'today': 5314,\n",
       " 'fam': 1604,\n",
       " 'showing': 4542,\n",
       " 'mention ill': 3340,\n",
       " 'ill austin': 2344,\n",
       " 'austin convention': 503,\n",
       " 'convention center': 1100,\n",
       " 'center today': 894,\n",
       " 'today mention': 5321,\n",
       " 'mention fam': 3308,\n",
       " 'fam showing': 1605,\n",
       " 'showing new': 4544,\n",
       " 'iphone game': 2649,\n",
       " 'game sxsw': 1838,\n",
       " 'friends': 1785,\n",
       " 'finally': 1684,\n",
       " 'outquot': 3757,\n",
       " 'disc': 1340,\n",
       " 'mention finally': 3311,\n",
       " 'android app': 258,\n",
       " 'app amp': 301,\n",
       " 'fridaythe': 1781,\n",
       " 'busy': 803,\n",
       " 'mention ipad': 3346,\n",
       " 'sale fridaythe': 4370,\n",
       " 'fridaythe austin': 1782,\n",
       " 'austin apple': 501,\n",
       " 'store going': 4749,\n",
       " 'going busy': 1905,\n",
       " 'busy sxsw': 804,\n",
       " 'chris': 946,\n",
       " 'dropping': 1434,\n",
       " 'web': 5661,\n",
       " 'hyatt': 2328,\n",
       " 'right': 4308,\n",
       " 'right sxsw': 4310,\n",
       " 'industry': 2397,\n",
       " 'industry party': 2399,\n",
       " 'gsdm google': 2098,\n",
       " 'uber': 5455,\n",
       " 'brand': 756,\n",
       " 'smart': 4588,\n",
       " 'gonna': 1914,\n",
       " 'ton': 5331,\n",
       " 'ton ipad2': 5332,\n",
       " 'ipad2 apple': 2592,\n",
       " 'popup shop': 3983,\n",
       " 'shop austin': 4525,\n",
       " 'sxsw google': 4932,\n",
       " 'verizon': 5556,\n",
       " 'better': 653,\n",
       " 'issue': 2691,\n",
       " 'blackberry': 698,\n",
       " 'tweeted': 5434,\n",
       " 'wjchat': 5756,\n",
       " 'better sxsw': 659,\n",
       " 'check': 918,\n",
       " 'mention check': 3286,\n",
       " 'check new': 927,\n",
       " 'new mention': 3610,\n",
       " 'mention app': 3266,\n",
       " 'app link': 322,\n",
       " 'week sxsw': 5679,\n",
       " 'asked': 473,\n",
       " 'year': 5845,\n",
       " 'deadly': 1223,\n",
       " 'death': 1230,\n",
       " 'valley': 5547,\n",
       " 'guy just': 2114,\n",
       " 'just asked': 2742,\n",
       " 'googles mayer': 2027,\n",
       " 'release': 4255,\n",
       " 'taking': 5126,\n",
       " 'sadly': 4366,\n",
       " 'sxsw weekend': 5070,\n",
       " 'ipad release': 2561,\n",
       " 'head': 2181,\n",
       " 'sunday': 4822,\n",
       " 'songs': 4638,\n",
       " 'takes': 5123,\n",
       " 'new ipad2': 3607,\n",
       " 'charging': 914,\n",
       " 'awesome iphone': 559,\n",
       " 'iphone charging': 2644,\n",
       " 'lounge sxsw': 3081,\n",
       " 'nyt': 3676,\n",
       " 'serve': 4483,\n",
       " 'market': 3204,\n",
       " 'newsapps': 3639,\n",
       " 'knows': 2827,\n",
       " 'begins': 630,\n",
       " 'winssxsw': 5742,\n",
       " 'apple knows': 375,\n",
       " 'begins apple': 631,\n",
       " 'apple winssxsw': 414,\n",
       " 'winssxsw link': 5743,\n",
       " 'drunk': 1438,\n",
       " 'techies': 5180,\n",
       " 'offer': 3685,\n",
       " 'compared': 1042,\n",
       " 'photo': 3877,\n",
       " 'booth': 730,\n",
       " 'photo booth': 3878,\n",
       " 'check sxsw': 930,\n",
       " 'apple marketing': 378,\n",
       " 'rtmention': 4348,\n",
       " 'major': 3141,\n",
       " 'possibly': 3992,\n",
       " 'mention looks': 3360,\n",
       " 'looks interesting': 3061,\n",
       " 'rtmention google': 4349,\n",
       " 'launch major': 2857,\n",
       " 'major new': 3142,\n",
       " 'circles possibly': 958,\n",
       " 'possibly today': 3993,\n",
       " 'today link': 5320,\n",
       " 'opposite': 3741,\n",
       " 'crowdsourcing': 1171,\n",
       " 'steve': 4727,\n",
       " 'jobs': 2716,\n",
       " 'tells': 5194,\n",
       " 'want': 5628,\n",
       " 'steve jobs': 4728,\n",
       " 'rock': 4324,\n",
       " 'solid': 4629,\n",
       " 'cc': 886,\n",
       " 'mention iphone': 3348,\n",
       " 'sxsw cc': 4887,\n",
       " 'cc mention': 887,\n",
       " 'navigating': 3563,\n",
       " 'crowded': 1169,\n",
       " 'sucks': 4819,\n",
       " 'face': 1588,\n",
       " 'iphone sxsw': 2666,\n",
       " 'ui': 5460,\n",
       " 'demo': 1266,\n",
       " 'xoom': 5833,\n",
       " 'tech': 5168,\n",
       " 'tablet': 5111,\n",
       " 'demo mention': 1268,\n",
       " 'mention link': 3354,\n",
       " 'sxsw android': 4869,\n",
       " 'based': 601,\n",
       " 'quotcirclesquot': 4140,\n",
       " 'facebook': 1589,\n",
       " 'killer': 2803,\n",
       " 'supposedly': 4832,\n",
       " 'saw': 4398,\n",
       " 'big sxsw': 671,\n",
       " 'rumor google': 4355,\n",
       " 'mention saw': 3398,\n",
       " 'share': 4509,\n",
       " 'youd': 5870,\n",
       " 'know': 2821,\n",
       " 'apparently': 346,\n",
       " 'market share': 3206,\n",
       " 'bad': 573,\n",
       " 'make': 3143,\n",
       " 'blogging': 713,\n",
       " 'efficient': 1465,\n",
       " 'beautiful': 623,\n",
       " 'case': 863,\n",
       " 'mention bad': 3272,\n",
       " 'sxsw make': 4971,\n",
       " 'stream': 4781,\n",
       " 'working': 5796,\n",
       " 'fail': 1595,\n",
       " 'working ipad': 5797,\n",
       " 'ipad fail': 2515,\n",
       " 'fail link': 1596,\n",
       " 'example': 1535,\n",
       " 'retail': 4286,\n",
       " 'layed': 2873,\n",
       " 'future': 1815,\n",
       " 'registers': 4249,\n",
       " 'checkout': 937,\n",
       " 'mention apple': 3267,\n",
       " 'apple great': 368,\n",
       " 'great example': 2065,\n",
       " 'example retail': 1537,\n",
       " 'retail store': 4287,\n",
       " 'store layed': 4755,\n",
       " 'layed future': 2874,\n",
       " 'future registers': 1819,\n",
       " 'registers checkout': 4250,\n",
       " 'checkout line': 938,\n",
       " 'line sxsw': 2949,\n",
       " 'presenting': 4023,\n",
       " 'hotpot': 2294,\n",
       " 'google presenting': 1986,\n",
       " 'hotpot sxsw': 2297,\n",
       " 'sxswi mention': 5095,\n",
       " 'mention austin': 3270,\n",
       " 'center mention': 893,\n",
       " 'addition': 170,\n",
       " 'place': 3916,\n",
       " 'calendar': 832,\n",
       " 'designed': 1293,\n",
       " 'interface': 2463,\n",
       " 'metaphor': 3449,\n",
       " 'uses': 5530,\n",
       " 'tapworthy': 5146,\n",
       " 'interface metaphor': 2464,\n",
       " 'tapworthy sxsw': 5149,\n",
       " 'whos': 5707,\n",
       " 'excited': 1541,\n",
       " 'network circles': 3590,\n",
       " 'circles sxsw': 960,\n",
       " 'route': 4340,\n",
       " 'years': 5850,\n",
       " 'day': 1209,\n",
       " 'finding': 1687,\n",
       " 'route traffic': 4341,\n",
       " 'traffic saving': 5378,\n",
       " 'years time': 5853,\n",
       " 'time day': 5285,\n",
       " 'badge': 576,\n",
       " 'google sxsw': 2001,\n",
       " 'join': 2718,\n",
       " 'actsofsharingcom': 157,\n",
       " 'person': 3862,\n",
       " 'city': 963,\n",
       " 'end': 1490,\n",
       " 'wins': 5737,\n",
       " 'join actsofsharingcom': 2719,\n",
       " 'actsofsharingcom tonight': 158,\n",
       " 'tonight person': 5336,\n",
       " 'person friends': 3863,\n",
       " 'friends city': 1786,\n",
       " 'city end': 964,\n",
       " 'end sxsw': 1492,\n",
       " 'sxsw wins': 5076,\n",
       " 'wins ipad': 5739,\n",
       " 'said': 4368,\n",
       " 'yrs': 5883,\n",
       " 'glad': 1891,\n",
       " 'customer': 1183,\n",
       " 'better iphone': 656,\n",
       " 'mention glad': 3317,\n",
       " 'swag': 4847,\n",
       " 'best swag': 646,\n",
       " 'swag thanks': 4848,\n",
       " 'thanks mention': 5223,\n",
       " 'mention charging': 3285,\n",
       " 'charging iphone': 915,\n",
       " 'iphone thanks': 2669,\n",
       " 'thought': 5265,\n",
       " 'announcing': 291,\n",
       " 'google announcing': 1935,\n",
       " 'dear': 1228,\n",
       " 'photobooth': 3882,\n",
       " 'google photobooth': 1981,\n",
       " 'sucks sxsw': 4820,\n",
       " 'seeing': 4446,\n",
       " 'presence': 4014,\n",
       " 'launched': 2862,\n",
       " 'spins': 4677,\n",
       " 'tons': 5339,\n",
       " 'music': 3543,\n",
       " 'photos': 3886,\n",
       " 'videos': 5577,\n",
       " 'whatcha': 5696,\n",
       " 'just launched': 2754,\n",
       " 'launched spins': 2865,\n",
       " 'spins ipad': 4678,\n",
       " 'app sxsw': 336,\n",
       " 'sxsw tons': 5054,\n",
       " 'tons music': 5341,\n",
       " 'music photos': 3548,\n",
       " 'photos videos': 3891,\n",
       " 'videos whatcha': 5578,\n",
       " 'whatcha think': 5697,\n",
       " 'think link': 5261,\n",
       " 'speech': 4670,\n",
       " 'therapy': 5234,\n",
       " 'communication': 1033,\n",
       " 'showcased': 4536,\n",
       " 'conference': 1058,\n",
       " 'sxsh': 4859,\n",
       " 'sxswh': 5092,\n",
       " 'new ipad': 3606,\n",
       " 'ipad apps': 2493,\n",
       " 'apps speech': 444,\n",
       " 'speech therapy': 4672,\n",
       " 'therapy communication': 5235,\n",
       " 'communication showcased': 1034,\n",
       " 'showcased sxsw': 4537,\n",
       " 'sxsw conference': 4896,\n",
       " 'conference link': 1059,\n",
       " 'bored': 735,\n",
       " 'try': 5409,\n",
       " 'cases': 871,\n",
       " 'iphone cases': 2640,\n",
       " 'purpose': 4092,\n",
       " 'object': 3677,\n",
       " 'survive': 4844,\n",
       " 'search': 4434,\n",
       " 'useful': 5511,\n",
       " 'info': 2403,\n",
       " 'sneakers': 4606,\n",
       " 'performance': 3860,\n",
       " 'google search': 1995,\n",
       " 'opening temporary': 3734,\n",
       " 'sxsw amp': 4867,\n",
       " 'amp ipad': 240,\n",
       " 'meant': 3240,\n",
       " 'itunes': 2693,\n",
       " 'doesnt': 1370,\n",
       " 'work': 5792,\n",
       " 'run': 4361,\n",
       " 'software': 4623,\n",
       " 'desktop': 1296,\n",
       " 'dl': 1360,\n",
       " 'doesnt work': 1372,\n",
       " 'just sxsw': 2764,\n",
       " 'watch': 5646,\n",
       " 'ears': 1447,\n",
       " 'ears rt': 1448,\n",
       " 'keynote': 2783,\n",
       " 'mayers': 3235,\n",
       " '12': 11,\n",
       " 'billion': 678,\n",
       " 'miles': 3456,\n",
       " 'driven': 1423,\n",
       " 'navigation': 3564,\n",
       " 'yr': 5881,\n",
       " 'users': 5518,\n",
       " 'total': 5351,\n",
       " 'wow': 5816,\n",
       " 'sxsw keynote': 4962,\n",
       " 'marissa mayers': 3198,\n",
       " 'driven google': 1424,\n",
       " 'maps navigation': 3184,\n",
       " 'saving users': 4395,\n",
       " 'rocks': 4329,\n",
       " 'having': 2173,\n",
       " 'issues': 2692,\n",
       " 'services': 4486,\n",
       " 'using google': 5536,\n",
       " 'mike': 3454,\n",
       " 'tyson': 5454,\n",
       " 'mike tyson': 3455,\n",
       " 'launched iphone': 2863,\n",
       " 'game mention': 1837,\n",
       " 'link tech': 2993,\n",
       " 'lot': 3073,\n",
       " 'good': 1916,\n",
       " 'tweet': 5430,\n",
       " 'mention looking': 3359,\n",
       " 'tweet sxsw': 5431,\n",
       " 'learning': 2883,\n",
       " 'design': 1283,\n",
       " 'forward learning': 1748,\n",
       " 'ipad design': 2508,\n",
       " 'design sxsw': 1292,\n",
       " 'wait': 5611,\n",
       " 'buy': 811,\n",
       " 'guess': 2105,\n",
       " 'sxsw wait': 5066,\n",
       " 'wait line': 5614,\n",
       " 'line buy': 2939,\n",
       " 'nice': 3648,\n",
       " 'stuff': 4805,\n",
       " 'sxsw nice': 4990,\n",
       " 'nice apple': 3649,\n",
       " 'apple stuff': 406,\n",
       " 'cashmore': 876,\n",
       " 'checkins': 935,\n",
       " 'ouch': 3755,\n",
       " 'just gave': 2747,\n",
       " 'sxsw checkins': 4889,\n",
       " 'league': 2877,\n",
       " 'extraordinary': 1582,\n",
       " 'h4ckers': 2123,\n",
       " 'league extraordinary': 2878,\n",
       " 'extraordinary h4ckers': 1583,\n",
       " 'google link': 1971,\n",
       " 'rad': 4193,\n",
       " 'ready': 4215,\n",
       " 'stop': 4734,\n",
       " 'zazzlesxsw': 5890,\n",
       " 'cases rad': 873,\n",
       " 'rad ready': 4195,\n",
       " 'ready stop': 4217,\n",
       " 'stop tomorrow': 4737,\n",
       " 'tomorrow sxsw': 5330,\n",
       " 'sxsw zazzlesxsw': 5082,\n",
       " 'zazzlesxsw sxswi': 5892,\n",
       " 'sxswi link': 5094,\n",
       " 'outside': 3758,\n",
       " 'ipad2 unboxing': 2606,\n",
       " 'unboxing outside': 5464,\n",
       " 'outside sxsw': 3761,\n",
       " 'store link': 4758,\n",
       " 'twitter': 5443,\n",
       " 'days': 1220,\n",
       " 'heading': 2189,\n",
       " 'help': 2213,\n",
       " 'mention twitter': 3426,\n",
       " 'twitter iphone': 5446,\n",
       " 'heading sxsw': 2191,\n",
       " 'sxsw want': 5067,\n",
       " 'wondering': 5773,\n",
       " 'revenue': 4294,\n",
       " 'account': 146,\n",
       " 'austin mention': 512,\n",
       " 'mention store': 3408,\n",
       " 'hey': 2223,\n",
       " 'texas': 5212,\n",
       " 'fav': 1637,\n",
       " 'usguys': 5533,\n",
       " 'mention hey': 3333,\n",
       " 'app far': 312,\n",
       " 'trying': 5410,\n",
       " 'update': 5480,\n",
       " '40': 82,\n",
       " 'download': 1405,\n",
       " 'luck': 3106,\n",
       " 'wonder': 5771,\n",
       " 'def': 1240,\n",
       " 'tweeting': 5435,\n",
       " 'pretty': 4026,\n",
       " 'use ipad': 5505,\n",
       " 'sxsw today': 5052,\n",
       " 'yelp': 5854,\n",
       " 'impressive': 2378,\n",
       " 'integration': 2445,\n",
       " 'personalized': 3866,\n",
       " 'recommendations': 4237,\n",
       " 'fast': 1627,\n",
       " 'google hotpot': 1960,\n",
       " 'hotpot yelp': 2299,\n",
       " 'yelp killer': 5855,\n",
       " 'killer impressive': 2804,\n",
       " 'impressive integration': 2379,\n",
       " 'integration personalized': 2447,\n",
       " 'personalized recommendations': 3867,\n",
       " 'recommendations really': 4238,\n",
       " 'really fast': 4229,\n",
       " 'fast mention': 1631,\n",
       " 'likability': 2909,\n",
       " 'virgin': 5588,\n",
       " 'trustworthiness': 5407,\n",
       " 'zappos': 5889,\n",
       " 'product': 4048,\n",
       " 'pnid': 3957,\n",
       " 'enchantment': 1487,\n",
       " 'likability virgin': 2910,\n",
       " 'trustworthiness zappos': 5408,\n",
       " 'product apple': 4049,\n",
       " 'apple mention': 379,\n",
       " 'pnid sxsw': 3958,\n",
       " 'sxsw enchantment': 4913,\n",
       " 'cool apple': 1105,\n",
       " 'store ipad2': 4753,\n",
       " 'ipad2 launch': 2597,\n",
       " 'launch sxsw': 2860,\n",
       " 'freaking': 1758,\n",
       " 'mac': 3118,\n",
       " 'ipad iphone': 2531,\n",
       " 'wow sxsw': 5822,\n",
       " 'linking': 2999,\n",
       " 'closely': 985,\n",
       " 'peeps': 3837,\n",
       " 'connect': 1076,\n",
       " 'booyah': 734,\n",
       " 'unsix': 5475,\n",
       " ...}"
      ]
     },
     "execution_count": 103,
     "metadata": {},
     "output_type": "execute_result"
    }
   ],
   "source": [
    "#the vocabularies are \n",
    "vectorizer.vocabulary_"
   ]
  },
  {
   "cell_type": "code",
   "execution_count": 104,
   "metadata": {},
   "outputs": [
    {
     "data": {
      "text/plain": [
       "5901"
      ]
     },
     "execution_count": 104,
     "metadata": {},
     "output_type": "execute_result"
    }
   ],
   "source": [
    "len(vectorizer.vocabulary_)"
   ]
  },
  {
   "cell_type": "code",
   "execution_count": 105,
   "metadata": {},
   "outputs": [
    {
     "data": {
      "text/plain": [
       "(2661, 5901)"
      ]
     },
     "execution_count": 105,
     "metadata": {},
     "output_type": "execute_result"
    }
   ],
   "source": [
    "#shape of X_train\n",
    "X_train.shape"
   ]
  },
  {
   "cell_type": "code",
   "execution_count": 106,
   "metadata": {},
   "outputs": [
    {
     "data": {
      "text/plain": [
       "(887, 5901)"
      ]
     },
     "execution_count": 106,
     "metadata": {},
     "output_type": "execute_result"
    }
   ],
   "source": [
    "#shape of X_test\n",
    "X_test.shape"
   ]
  },
  {
   "cell_type": "markdown",
   "metadata": {
    "colab_type": "text",
    "id": "qanDXve15sY_"
   },
   "source": [
    "## Question 7"
   ]
  },
  {
   "cell_type": "markdown",
   "metadata": {
    "colab_type": "text",
    "id": "uMaRNFkV5sY_"
   },
   "source": [
    "### Select classifier logistic regression\n",
    "- use logistic regression for predicting sentiment of the given tweet\n",
    "- initialize classifier"
   ]
  },
  {
   "cell_type": "code",
   "execution_count": 107,
   "metadata": {
    "colab": {},
    "colab_type": "code",
    "id": "GT3dNgB55sZA"
   },
   "outputs": [],
   "source": [
    "from sklearn.linear_model import LogisticRegression"
   ]
  },
  {
   "cell_type": "code",
   "execution_count": 108,
   "metadata": {},
   "outputs": [],
   "source": [
    "#intiializing logisticregression models\n",
    "lr =  LogisticRegression()\n"
   ]
  },
  {
   "cell_type": "markdown",
   "metadata": {
    "colab_type": "text",
    "id": "pqQ6_HX35sZD"
   },
   "source": [
    "### Fit the classifer\n",
    "- fit logistic regression classifier"
   ]
  },
  {
   "cell_type": "code",
   "execution_count": 109,
   "metadata": {
    "colab": {},
    "colab_type": "code",
    "id": "EIzvnNkq5sZD"
   },
   "outputs": [
    {
     "data": {
      "text/plain": [
       "LogisticRegression(C=1.0, class_weight=None, dual=False, fit_intercept=True,\n",
       "                   intercept_scaling=1, l1_ratio=None, max_iter=100,\n",
       "                   multi_class='auto', n_jobs=None, penalty='l2',\n",
       "                   random_state=None, solver='lbfgs', tol=0.0001, verbose=0,\n",
       "                   warm_start=False)"
      ]
     },
     "execution_count": 109,
     "metadata": {},
     "output_type": "execute_result"
    }
   ],
   "source": [
    "lr.fit(X_train, y_train)"
   ]
  },
  {
   "cell_type": "markdown",
   "metadata": {
    "colab_type": "text",
    "id": "SZpMsYQF5sZF"
   },
   "source": [
    "## Question 8"
   ]
  },
  {
   "cell_type": "markdown",
   "metadata": {
    "colab_type": "text",
    "id": "KGnQnUww5sZF"
   },
   "source": [
    "### Select classifier naive bayes\n",
    "- use naive bayes for predicting sentiment of the given tweet\n",
    "- initialize classifier\n",
    "- use MultinomialNB"
   ]
  },
  {
   "cell_type": "code",
   "execution_count": 110,
   "metadata": {
    "colab": {},
    "colab_type": "code",
    "id": "2AbVYssaH0OE"
   },
   "outputs": [],
   "source": [
    "from sklearn.naive_bayes import MultinomialNB\n"
   ]
  },
  {
   "cell_type": "markdown",
   "metadata": {
    "colab_type": "text",
    "id": "QEaG942m5sZI"
   },
   "source": [
    "### Fit the classifer\n",
    "- fit naive bayes classifier"
   ]
  },
  {
   "cell_type": "code",
   "execution_count": 111,
   "metadata": {
    "colab": {},
    "colab_type": "code",
    "id": "rLwRBj1R5sZI"
   },
   "outputs": [],
   "source": [
    "#initializing multinomialNB model\n",
    "nb =MultinomialNB()"
   ]
  },
  {
   "cell_type": "code",
   "execution_count": 112,
   "metadata": {},
   "outputs": [
    {
     "data": {
      "text/plain": [
       "MultinomialNB(alpha=1.0, class_prior=None, fit_prior=True)"
      ]
     },
     "execution_count": 112,
     "metadata": {},
     "output_type": "execute_result"
    }
   ],
   "source": [
    "nb.fit(X_train.toarray(), y_train)"
   ]
  },
  {
   "cell_type": "markdown",
   "metadata": {
    "colab_type": "text",
    "id": "A7mgwYDJ5sZM"
   },
   "source": [
    "## Question 9"
   ]
  },
  {
   "cell_type": "markdown",
   "metadata": {
    "colab_type": "text",
    "id": "sZkA3tce5sZN"
   },
   "source": [
    "### Make predictions on logistic regression\n",
    "- use your trained logistic regression model to make predictions on X_test"
   ]
  },
  {
   "cell_type": "code",
   "execution_count": 113,
   "metadata": {},
   "outputs": [],
   "source": [
    "#Predicitng wiht logistic regression\n",
    "y_predict = lr.predict(X_test)"
   ]
  },
  {
   "cell_type": "markdown",
   "metadata": {
    "colab_type": "text",
    "id": "lrIxjMUB5sZQ"
   },
   "source": [
    "### Make predictions on naive bayes\n",
    "- use your trained naive bayes model to make predictions on X_test\n",
    "- use a different variable name to store predictions so that they are kept separately"
   ]
  },
  {
   "cell_type": "code",
   "execution_count": 114,
   "metadata": {
    "colab": {},
    "colab_type": "code",
    "id": "ZSQnwyLU5sZQ"
   },
   "outputs": [],
   "source": [
    "#predicitng with multinomial nb\n",
    "y_predictnb = nb.predict(X_test.toarray())"
   ]
  },
  {
   "cell_type": "markdown",
   "metadata": {
    "colab_type": "text",
    "id": "rwXQUE7b5sZS"
   },
   "source": [
    "## Question 10"
   ]
  },
  {
   "cell_type": "markdown",
   "metadata": {
    "colab_type": "text",
    "id": "E6SITIE75sZT"
   },
   "source": [
    "### Calculate accuracy of logistic regression\n",
    "- check accuracy of logistic regression classifer\n",
    "- use sklearn.metrics.accuracy_score"
   ]
  },
  {
   "cell_type": "code",
   "execution_count": 115,
   "metadata": {
    "colab": {},
    "colab_type": "code",
    "id": "clv2X0kKH0Ok"
   },
   "outputs": [
    {
     "data": {
      "text/plain": [
       "0.8804960541149943"
      ]
     },
     "execution_count": 115,
     "metadata": {},
     "output_type": "execute_result"
    }
   ],
   "source": [
    "#accuracy score is\n",
    "accuracy_score(y_predict,y_test)"
   ]
  },
  {
   "cell_type": "code",
   "execution_count": 116,
   "metadata": {},
   "outputs": [],
   "source": [
    "from sklearn.metrics import confusion_matrix"
   ]
  },
  {
   "cell_type": "code",
   "execution_count": 117,
   "metadata": {},
   "outputs": [
    {
     "name": "stdout",
     "output_type": "stream",
     "text": [
      "confusion matrix\n"
     ]
    },
    {
     "data": {
      "image/png": "[encoded data removed]",
      "text/plain": [
       "<Figure size 432x288 with 2 Axes>"
      ]
     },
     "metadata": {
      "needs_background": "light"
     },
     "output_type": "display_data"
    }
   ],
   "source": [
    "#confusion matrix is \n",
    "cm = confusion_matrix(y_predict,y_test)\n",
    "print('confusion matrix')\n",
    "\n",
    "class_label = ['negative emotion','positive emotion']\n",
    "df_cm = pd.DataFrame(cm, index = class_label, columns = class_label)\n",
    "sns.heatmap(df_cm, annot = True, fmt = \"d\")\n",
    "plt.title(\"Confusion Matrix\")\n",
    "plt.xlabel(\"Predicted\")\n",
    "plt.ylabel(\"Actuals\")\n",
    "plt.show()\n",
    "#model is able to classify 733 positive emotions"
   ]
  },
  {
   "cell_type": "markdown",
   "metadata": {
    "colab_type": "text",
    "id": "1Fd_Gnd05sZV"
   },
   "source": [
    "### Calculate accuracy of naive bayes\n",
    "- check accuracy of naive bayes classifer\n",
    "- use sklearn.metrics.accuracy_score"
   ]
  },
  {
   "cell_type": "code",
   "execution_count": 118,
   "metadata": {
    "colab": {},
    "colab_type": "code",
    "id": "d32uBpHi5sZW"
   },
   "outputs": [
    {
     "data": {
      "text/plain": [
       "0.8579481397970687"
      ]
     },
     "execution_count": 118,
     "metadata": {},
     "output_type": "execute_result"
    }
   ],
   "source": [
    "#accruacy wiht naive bayes\n",
    "accuracy_score(y_predictnb,y_test)"
   ]
  },
  {
   "cell_type": "code",
   "execution_count": 119,
   "metadata": {},
   "outputs": [
    {
     "name": "stdout",
     "output_type": "stream",
     "text": [
      "confusion matrix\n"
     ]
    },
    {
     "data": {
      "image/png": "[encoded data removed]",
      "text/plain": [
       "<Figure size 432x288 with 2 Axes>"
      ]
     },
     "metadata": {
      "needs_background": "light"
     },
     "output_type": "display_data"
    }
   ],
   "source": [
    "#confusion matrix iwht naive bayes\n",
    "cm = confusion_matrix(y_predictnb,y_test)\n",
    "print('confusion matrix')\n",
    "\n",
    "class_label = ['negative emotion','positive emotion']\n",
    "df_cm = pd.DataFrame(cm, index = class_label, columns = class_label)\n",
    "sns.heatmap(df_cm, annot = True, fmt = \"d\")\n",
    "plt.title(\"Confusion Matrix\")\n",
    "plt.xlabel(\"Predicted\")\n",
    "plt.ylabel(\"Actuals\")\n",
    "plt.show()"
   ]
  },
  {
   "cell_type": "code",
   "execution_count": 120,
   "metadata": {},
   "outputs": [],
   "source": [
    "#writing a review and loading it to do sentiment analysis"
   ]
  },
  {
   "cell_type": "code",
   "execution_count": 133,
   "metadata": {},
   "outputs": [],
   "source": [
    "df1 = pd.read_csv('sample.csv')"
   ]
  },
  {
   "cell_type": "code",
   "execution_count": 134,
   "metadata": {},
   "outputs": [
    {
     "data": {
      "text/plain": [
       "(3, 1)"
      ]
     },
     "execution_count": 134,
     "metadata": {},
     "output_type": "execute_result"
    }
   ],
   "source": [
    "df1.shape"
   ]
  },
  {
   "cell_type": "code",
   "execution_count": 146,
   "metadata": {},
   "outputs": [
    {
     "data": {
      "text/html": [
       "<div>\n",
       "<style scoped>\n",
       "    .dataframe tbody tr th:only-of-type {\n",
       "        vertical-align: middle;\n",
       "    }\n",
       "\n",
       "    .dataframe tbody tr th {\n",
       "        vertical-align: top;\n",
       "    }\n",
       "\n",
       "    .dataframe thead th {\n",
       "        text-align: right;\n",
       "    }\n",
       "</style>\n",
       "<table border=\"1\" class=\"dataframe\">\n",
       "  <thead>\n",
       "    <tr style=\"text-align: right;\">\n",
       "      <th></th>\n",
       "      <th>tweet_text</th>\n",
       "    </tr>\n",
       "  </thead>\n",
       "  <tbody>\n",
       "    <tr>\n",
       "      <th>0</th>\n",
       "      <td>got iphone which hangs after opening whatsapp ...</td>\n",
       "    </tr>\n",
       "    <tr>\n",
       "      <th>1</th>\n",
       "      <td>didnt like iphone which is of very bad hile pl...</td>\n",
       "    </tr>\n",
       "    <tr>\n",
       "      <th>2</th>\n",
       "      <td>ounting down the days to sxsw plus strong anad...</td>\n",
       "    </tr>\n",
       "  </tbody>\n",
       "</table>\n",
       "</div>"
      ],
      "text/plain": [
       "                                          tweet_text\n",
       "0  got iphone which hangs after opening whatsapp ...\n",
       "1  didnt like iphone which is of very bad hile pl...\n",
       "2  ounting down the days to sxsw plus strong anad..."
      ]
     },
     "execution_count": 146,
     "metadata": {},
     "output_type": "execute_result"
    }
   ],
   "source": [
    "df1.head()"
   ]
  },
  {
   "cell_type": "code",
   "execution_count": 135,
   "metadata": {},
   "outputs": [],
   "source": [
    "df1 = df1.applymap(lambda s: re.sub('[^0-9a-z #+_]','',s))"
   ]
  },
  {
   "cell_type": "code",
   "execution_count": 136,
   "metadata": {},
   "outputs": [],
   "source": [
    "df1 = df1.applymap(lambda s:s.lower())"
   ]
  },
  {
   "cell_type": "code",
   "execution_count": 137,
   "metadata": {},
   "outputs": [],
   "source": [
    "df1 = df1.applymap(lambda s:s.strip())"
   ]
  },
  {
   "cell_type": "code",
   "execution_count": null,
   "metadata": {},
   "outputs": [],
   "source": []
  },
  {
   "cell_type": "code",
   "execution_count": 138,
   "metadata": {},
   "outputs": [
    {
     "data": {
      "text/html": [
       "<div>\n",
       "<style scoped>\n",
       "    .dataframe tbody tr th:only-of-type {\n",
       "        vertical-align: middle;\n",
       "    }\n",
       "\n",
       "    .dataframe tbody tr th {\n",
       "        vertical-align: top;\n",
       "    }\n",
       "\n",
       "    .dataframe thead th {\n",
       "        text-align: right;\n",
       "    }\n",
       "</style>\n",
       "<table border=\"1\" class=\"dataframe\">\n",
       "  <thead>\n",
       "    <tr style=\"text-align: right;\">\n",
       "      <th></th>\n",
       "      <th>tweet_text</th>\n",
       "    </tr>\n",
       "  </thead>\n",
       "  <tbody>\n",
       "    <tr>\n",
       "      <th>0</th>\n",
       "      <td>got iphone which hangs after opening whatsapp ...</td>\n",
       "    </tr>\n",
       "  </tbody>\n",
       "</table>\n",
       "</div>"
      ],
      "text/plain": [
       "                                          tweet_text\n",
       "0  got iphone which hangs after opening whatsapp ..."
      ]
     },
     "execution_count": 138,
     "metadata": {},
     "output_type": "execute_result"
    }
   ],
   "source": [
    "df1.head(1)"
   ]
  },
  {
   "cell_type": "code",
   "execution_count": 139,
   "metadata": {},
   "outputs": [],
   "source": [
    "data = df1['tweet_text']"
   ]
  },
  {
   "cell_type": "code",
   "execution_count": 140,
   "metadata": {},
   "outputs": [],
   "source": [
    "X_testreal = vectorizer.transform(data)"
   ]
  },
  {
   "cell_type": "code",
   "execution_count": 141,
   "metadata": {},
   "outputs": [
    {
     "data": {
      "text/plain": [
       "(3, 5901)"
      ]
     },
     "execution_count": 141,
     "metadata": {},
     "output_type": "execute_result"
    }
   ],
   "source": [
    "X_testreal.shape"
   ]
  },
  {
   "cell_type": "code",
   "execution_count": 142,
   "metadata": {},
   "outputs": [
    {
     "data": {
      "text/plain": [
       "<3x5901 sparse matrix of type '<class 'numpy.int64'>'\n",
       "\twith 25 stored elements in Compressed Sparse Row format>"
      ]
     },
     "execution_count": 142,
     "metadata": {},
     "output_type": "execute_result"
    }
   ],
   "source": [
    "X_testreal"
   ]
  },
  {
   "cell_type": "code",
   "execution_count": 144,
   "metadata": {},
   "outputs": [],
   "source": [
    "y_preidcto = lr.predict(X_testreal)"
   ]
  },
  {
   "cell_type": "code",
   "execution_count": 145,
   "metadata": {},
   "outputs": [
    {
     "data": {
      "text/plain": [
       "array([1, 0, 1], dtype=int64)"
      ]
     },
     "execution_count": 145,
     "metadata": {},
     "output_type": "execute_result"
    }
   ],
   "source": [
    "y_preidcto"
   ]
  },
  {
   "cell_type": "code",
   "execution_count": null,
   "metadata": {},
   "outputs": [],
   "source": [
    "#model is predicting appropriately\n"
   ]
  }
 ],
 "metadata": {
  "accelerator": "GPU",
  "colab": {
   "collapsed_sections": [],
   "name": "Questions - Lab on Statistical NLP.ipynb",
   "provenance": []
  },
  "kernelspec": {
   "display_name": "Python 3",
   "language": "python",
   "name": "python3"
  },
  "language_info": {
   "codemirror_mode": {
    "name": "ipython",
    "version": 3
   },
   "file_extension": ".py",
   "mimetype": "text/x-python",
   "name": "python",
   "nbconvert_exporter": "python",
   "pygments_lexer": "ipython3",
   "version": "3.7.6"
  }
 },
 "nbformat": 4,
 "nbformat_minor": 1
}
