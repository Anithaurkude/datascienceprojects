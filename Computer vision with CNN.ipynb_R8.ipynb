{
  "nbformat": 4,
  "nbformat_minor": 0,
  "metadata": {
    "colab": {
      "name": "InternalLab_Questions_FMNIST_Simple_CNN_CIFAR_DATA_Augment.ipynb",
      "provenance": [],
      "collapsed_sections": []
    },
    "kernelspec": {
      "name": "python3",
      "display_name": "Python 3"
    },
    "accelerator": "GPU"
  },
  "cells": [
    {
      "cell_type": "markdown",
      "metadata": {
        "id": "MyfMmMnPJjvn",
        "colab_type": "text"
      },
      "source": [
        "## Train a simple convnet on the Fashion MNIST dataset"
      ]
    },
    {
      "cell_type": "markdown",
      "metadata": {
        "id": "zjcGOJhcJjvp",
        "colab_type": "text"
      },
      "source": [
        "In this, we will see how to deal with image data and train a convnet for image classification task."
      ]
    },
    {
      "cell_type": "markdown",
      "metadata": {
        "id": "jR0Pl2XjJjvq",
        "colab_type": "text"
      },
      "source": [
        "### Load the  `fashion_mnist`  dataset\n",
        "\n",
        "** Use keras.datasets to load the dataset **"
      ]
    },
    {
      "cell_type": "code",
      "metadata": {
        "id": "Qr75v_UYJjvs",
        "colab_type": "code",
        "colab": {}
      },
      "source": [
        "#loading dataset\n",
        "from keras.datasets import fashion_mnist\n",
        "(X_train, y_train), (X_test, y_test) = fashion_mnist.load_data()"
      ],
      "execution_count": 1,
      "outputs": []
    },
    {
      "cell_type": "code",
      "metadata": {
        "id": "fir_YYG4dSmf",
        "colab_type": "code",
        "colab": {}
      },
      "source": [
        "\n",
        "# Loading the necessary libraries\n",
        "%load_ext tensorboard\n",
        "import tensorflow as tf\n",
        "from keras.models import Sequential\n",
        "from keras.layers import Dense, Dropout, LSTM, BatchNormalization,Flatten\n",
        "import matplotlib.pyplot as plt\n",
        "from keras.optimizers import SGD\n",
        "import pandas as pd\n",
        "import warnings\n",
        "warnings.filterwarnings(\"ignore\")"
      ],
      "execution_count": 2,
      "outputs": []
    },
    {
      "cell_type": "markdown",
      "metadata": {
        "id": "hTI42-0qJjvw",
        "colab_type": "text"
      },
      "source": [
        "### Find no.of samples are there in training and test datasets"
      ]
    },
    {
      "cell_type": "code",
      "metadata": {
        "id": "g2sf67VoJjvx",
        "colab_type": "code",
        "colab": {
          "base_uri": "https://localhost:8080/",
          "height": 295
        },
        "outputId": "88ceb4df-9ef6-4e02-f652-851942a525e1"
      },
      "source": [
        "#checking the rows of training dataset\n",
        "print('The training features data shape is',X_train.shape)\n",
        "print(X_train[0:2])"
      ],
      "execution_count": 3,
      "outputs": [
        {
          "output_type": "stream",
          "text": [
            "The training features data shape is 60000\n",
            "[[[0 0 0 ... 0 0 0]\n",
            "  [0 0 0 ... 0 0 0]\n",
            "  [0 0 0 ... 0 0 0]\n",
            "  ...\n",
            "  [0 0 0 ... 0 0 0]\n",
            "  [0 0 0 ... 0 0 0]\n",
            "  [0 0 0 ... 0 0 0]]\n",
            "\n",
            " [[0 0 0 ... 0 0 0]\n",
            "  [0 0 0 ... 0 0 0]\n",
            "  [0 0 0 ... 0 0 0]\n",
            "  ...\n",
            "  [0 0 0 ... 0 0 0]\n",
            "  [0 0 0 ... 0 0 0]\n",
            "  [0 0 0 ... 0 0 0]]]\n"
          ],
          "name": "stdout"
        }
      ]
    },
    {
      "cell_type": "code",
      "metadata": {
        "id": "zewyDcBlJjv1",
        "colab_type": "code",
        "colab": {
          "base_uri": "https://localhost:8080/",
          "height": 295
        },
        "outputId": "29700af1-3db3-4509-87cb-988dc5c5b6f2"
      },
      "source": [
        "#checking rows of test dataset\n",
        "print('The testing features data shape is',X_test.shape[0])\n",
        "print(X_test[0:2])"
      ],
      "execution_count": 4,
      "outputs": [
        {
          "output_type": "stream",
          "text": [
            "The testing features data shape is 10000\n",
            "[[[0 0 0 ... 0 0 0]\n",
            "  [0 0 0 ... 0 0 0]\n",
            "  [0 0 0 ... 0 0 0]\n",
            "  ...\n",
            "  [0 0 0 ... 0 0 0]\n",
            "  [0 0 0 ... 0 0 0]\n",
            "  [0 0 0 ... 0 0 0]]\n",
            "\n",
            " [[0 0 0 ... 0 0 0]\n",
            "  [0 0 0 ... 0 0 0]\n",
            "  [0 0 0 ... 0 0 0]\n",
            "  ...\n",
            "  [0 0 0 ... 0 0 0]\n",
            "  [0 0 0 ... 0 0 0]\n",
            "  [0 0 0 ... 0 0 0]]]\n"
          ],
          "name": "stdout"
        }
      ]
    },
    {
      "cell_type": "markdown",
      "metadata": {
        "id": "WytT2eRnJjv4",
        "colab_type": "text"
      },
      "source": [
        "### Find dimensions of an image in the dataset"
      ]
    },
    {
      "cell_type": "code",
      "metadata": {
        "id": "XycQGBSGJjv5",
        "colab_type": "code",
        "colab": {
          "base_uri": "https://localhost:8080/",
          "height": 69
        },
        "outputId": "53f64a26-7b35-4905-b569-c381d4a2db1a"
      },
      "source": [
        "print('train data size is',X_train.shape[1:3]), print('test data size is',X_test.shape[1:3])"
      ],
      "execution_count": 5,
      "outputs": [
        {
          "output_type": "stream",
          "text": [
            "train data size is (28, 28)\n",
            "test data size is (28, 28)\n"
          ],
          "name": "stdout"
        },
        {
          "output_type": "execute_result",
          "data": {
            "text/plain": [
              "(None, None)"
            ]
          },
          "metadata": {
            "tags": []
          },
          "execution_count": 5
        }
      ]
    },
    {
      "cell_type": "markdown",
      "metadata": {
        "id": "5jtdZ7RqJjv8",
        "colab_type": "text"
      },
      "source": [
        "### Convert train and test labels to one hot vectors\n",
        "\n",
        "** check `keras.utils.to_categorical()` **"
      ]
    },
    {
      "cell_type": "code",
      "metadata": {
        "id": "sAD3q5I6Jjv9",
        "colab_type": "code",
        "colab": {
          "base_uri": "https://localhost:8080/",
          "height": 139
        },
        "outputId": "963d9a28-b990-4943-ffed-46d44a244649"
      },
      "source": [
        "num_classes =10\n",
        "y_trainn = tf.keras.utils.to_categorical(y_train,num_classes)\n",
        "y_trainn"
      ],
      "execution_count": 17,
      "outputs": [
        {
          "output_type": "execute_result",
          "data": {
            "text/plain": [
              "array([[0., 0., 0., ..., 0., 0., 1.],\n",
              "       [1., 0., 0., ..., 0., 0., 0.],\n",
              "       [1., 0., 0., ..., 0., 0., 0.],\n",
              "       ...,\n",
              "       [0., 0., 0., ..., 0., 0., 0.],\n",
              "       [1., 0., 0., ..., 0., 0., 0.],\n",
              "       [0., 0., 0., ..., 0., 0., 0.]], dtype=float32)"
            ]
          },
          "metadata": {
            "tags": []
          },
          "execution_count": 17
        }
      ]
    },
    {
      "cell_type": "code",
      "metadata": {
        "id": "mgHSCXy3JjwA",
        "colab_type": "code",
        "colab": {
          "base_uri": "https://localhost:8080/",
          "height": 139
        },
        "outputId": "97789d8e-935b-4850-9241-83c483403cee"
      },
      "source": [
        "y_testn = tf.keras.utils.to_categorical(y_test,num_classes)\n",
        "y_testn"
      ],
      "execution_count": 18,
      "outputs": [
        {
          "output_type": "execute_result",
          "data": {
            "text/plain": [
              "array([[0., 0., 0., ..., 0., 0., 1.],\n",
              "       [0., 0., 1., ..., 0., 0., 0.],\n",
              "       [0., 1., 0., ..., 0., 0., 0.],\n",
              "       ...,\n",
              "       [0., 0., 0., ..., 0., 1., 0.],\n",
              "       [0., 1., 0., ..., 0., 0., 0.],\n",
              "       [0., 0., 0., ..., 0., 0., 0.]], dtype=float32)"
            ]
          },
          "metadata": {
            "tags": []
          },
          "execution_count": 18
        }
      ]
    },
    {
      "cell_type": "code",
      "metadata": {
        "id": "PLoWVZ08hQiu",
        "colab_type": "code",
        "colab": {
          "base_uri": "https://localhost:8080/",
          "height": 35
        },
        "outputId": "feea145d-90dc-4178-d7f5-24f7ae83e0b2"
      },
      "source": [
        "y_test"
      ],
      "execution_count": 8,
      "outputs": [
        {
          "output_type": "execute_result",
          "data": {
            "text/plain": [
              "array([9, 2, 1, ..., 8, 1, 5], dtype=uint8)"
            ]
          },
          "metadata": {
            "tags": []
          },
          "execution_count": 8
        }
      ]
    },
    {
      "cell_type": "markdown",
      "metadata": {
        "id": "xO5BRBzBJjwD",
        "colab_type": "text"
      },
      "source": [
        "### Normalize both the train and test image data from 0-255 to 0-1"
      ]
    },
    {
      "cell_type": "code",
      "metadata": {
        "id": "3fUQpMHxJjwE",
        "colab_type": "code",
        "colab": {}
      },
      "source": [
        "#normalizing the data\n",
        "\n",
        "X_train = X_train.astype('float32')\n",
        "X_test = X_test.astype('float32')\n",
        "X_trains = X_train/255.0\n",
        "X_tests = X_test/255.0"
      ],
      "execution_count": 6,
      "outputs": []
    },
    {
      "cell_type": "code",
      "metadata": {
        "id": "Okwo_SB5JjwI",
        "colab_type": "code",
        "colab": {
          "base_uri": "https://localhost:8080/",
          "height": 277
        },
        "outputId": "934d1a52-31a6-46e6-c9f0-b996398502b3"
      },
      "source": [
        "X_trains[1:3]"
      ],
      "execution_count": 10,
      "outputs": [
        {
          "output_type": "execute_result",
          "data": {
            "text/plain": [
              "array([[[0., 0., 0., ..., 0., 0., 0.],\n",
              "        [0., 0., 0., ..., 0., 0., 0.],\n",
              "        [0., 0., 0., ..., 0., 0., 0.],\n",
              "        ...,\n",
              "        [0., 0., 0., ..., 0., 0., 0.],\n",
              "        [0., 0., 0., ..., 0., 0., 0.],\n",
              "        [0., 0., 0., ..., 0., 0., 0.]],\n",
              "\n",
              "       [[0., 0., 0., ..., 0., 0., 0.],\n",
              "        [0., 0., 0., ..., 0., 0., 0.],\n",
              "        [0., 0., 0., ..., 0., 0., 0.],\n",
              "        ...,\n",
              "        [0., 0., 0., ..., 0., 0., 0.],\n",
              "        [0., 0., 0., ..., 0., 0., 0.],\n",
              "        [0., 0., 0., ..., 0., 0., 0.]]], dtype=float32)"
            ]
          },
          "metadata": {
            "tags": []
          },
          "execution_count": 10
        }
      ]
    },
    {
      "cell_type": "markdown",
      "metadata": {
        "id": "da5-DwgrJjwM",
        "colab_type": "text"
      },
      "source": [
        "### Reshape the data from 28x28 to 28x28x1 to match input dimensions in Conv2D layer in keras"
      ]
    },
    {
      "cell_type": "code",
      "metadata": {
        "id": "LPGVQ-JJJjwN",
        "colab_type": "code",
        "colab": {}
      },
      "source": [
        "#reshaping the data \n",
        "X_trainr = X_trains.reshape(X_trains.shape[0],28,28,1)\n",
        "X_testr = X_tests.reshape(X_tests.shape[0],28,28,1)"
      ],
      "execution_count": 8,
      "outputs": []
    },
    {
      "cell_type": "markdown",
      "metadata": {
        "id": "OFRRTJq8JjwQ",
        "colab_type": "text"
      },
      "source": [
        "### Import the necessary layers from keras to build the model"
      ]
    },
    {
      "cell_type": "code",
      "metadata": {
        "id": "dWTZYnKSJjwR",
        "colab_type": "code",
        "colab": {}
      },
      "source": [
        "#loading necessary libraries\n",
        "from keras.models import Sequential\n",
        "from keras.layers import Dense,Activation,Dropout,Flatten,Reshape,BatchNormalization\n",
        "from keras.layers import Convolution2D, MaxPooling2D\n"
      ],
      "execution_count": 9,
      "outputs": []
    },
    {
      "cell_type": "markdown",
      "metadata": {
        "id": "C18AoS7eJjwU",
        "colab_type": "text"
      },
      "source": [
        "### Build a model \n",
        "\n",
        "** with 2 Conv layers having `32 3x3 filters` in both convolutions with `relu activations` and `flatten` before passing the feature map into 2 fully connected layers (or Dense Layers) having 128 and 10 neurons with `relu` and `softmax` activations respectively. Now, using `categorical_crossentropy` loss with `adam` optimizer train the model with early stopping `patience=5` and no.of `epochs=10`. **"
      ]
    },
    {
      "cell_type": "code",
      "metadata": {
        "id": "DORCLgSwJjwV",
        "colab_type": "code",
        "colab": {
          "base_uri": "https://localhost:8080/",
          "height": 364
        },
        "outputId": "6b0b30d4-b648-4170-a35a-7bde0c655fca"
      },
      "source": [
        "#building sequential model\n",
        "model = Sequential()\n",
        "\n",
        "\n",
        "#Add a Convolutional Layer with 32 filters of size 3X3 and activation function as 'ReLU' \n",
        "model.add(Convolution2D(32, kernel_size=(3, 3),\n",
        "                 activation='relu',\n",
        "                 name='conv_1'))\n",
        "\n",
        "#Add a Convolutional Layer with 32 filters of size 3X3 and activation function as 'ReLU' \n",
        "model.add(Convolution2D(32, (3, 3), activation='relu',name='conv_2'))\n",
        "\n",
        "\n",
        "model.add(Flatten())\n",
        "\n",
        "\n",
        "#Add Fully Connected Layer with 128 units and activation function as 'ReLU'\n",
        "model.add(Dense(128, activation='relu',name='dense_1'))\n",
        "\n",
        "\n",
        "#Add Fully Connected Layer with 10 units and activation function as 'softmax'\n",
        "model.add(Dense(10, activation='softmax',name='dense_2'))\n",
        "callback = tf.keras.callbacks.EarlyStopping(monitor='loss', patience=5,mode ='auto', verbose =1)\n",
        "model.compile(loss='categorical_crossentropy',\n",
        "              optimizer='adam',\n",
        "              metrics=['accuracy'])\n",
        "output = model.fit(X_trainr, y_trainn, validation_data=(X_testr, y_testn), epochs=10, batch_size = 30,callbacks = [callback])"
      ],
      "execution_count": 13,
      "outputs": [
        {
          "output_type": "stream",
          "text": [
            "Epoch 1/10\n",
            "2000/2000 [==============================] - 6s 3ms/step - loss: 0.3697 - accuracy: 0.8679 - val_loss: 0.3089 - val_accuracy: 0.8913\n",
            "Epoch 2/10\n",
            "2000/2000 [==============================] - 6s 3ms/step - loss: 0.2290 - accuracy: 0.9155 - val_loss: 0.2546 - val_accuracy: 0.9082\n",
            "Epoch 3/10\n",
            "2000/2000 [==============================] - 6s 3ms/step - loss: 0.1660 - accuracy: 0.9392 - val_loss: 0.2595 - val_accuracy: 0.9128\n",
            "Epoch 4/10\n",
            "2000/2000 [==============================] - 6s 3ms/step - loss: 0.1171 - accuracy: 0.9566 - val_loss: 0.2726 - val_accuracy: 0.9096\n",
            "Epoch 5/10\n",
            "2000/2000 [==============================] - 6s 3ms/step - loss: 0.0756 - accuracy: 0.9718 - val_loss: 0.3152 - val_accuracy: 0.9154\n",
            "Epoch 6/10\n",
            "2000/2000 [==============================] - 6s 3ms/step - loss: 0.0539 - accuracy: 0.9802 - val_loss: 0.3514 - val_accuracy: 0.9118\n",
            "Epoch 7/10\n",
            "2000/2000 [==============================] - 6s 3ms/step - loss: 0.0379 - accuracy: 0.9866 - val_loss: 0.3990 - val_accuracy: 0.9130\n",
            "Epoch 8/10\n",
            "2000/2000 [==============================] - 6s 3ms/step - loss: 0.0295 - accuracy: 0.9895 - val_loss: 0.4672 - val_accuracy: 0.9114\n",
            "Epoch 9/10\n",
            "2000/2000 [==============================] - 6s 3ms/step - loss: 0.0239 - accuracy: 0.9920 - val_loss: 0.5103 - val_accuracy: 0.9142\n",
            "Epoch 10/10\n",
            "2000/2000 [==============================] - 6s 3ms/step - loss: 0.0193 - accuracy: 0.9933 - val_loss: 0.4952 - val_accuracy: 0.9114\n"
          ],
          "name": "stdout"
        }
      ]
    },
    {
      "cell_type": "markdown",
      "metadata": {
        "id": "ju69vKdIJjwX",
        "colab_type": "text"
      },
      "source": [
        "### Now, to the above model add `max` pooling layer of `filter size 2x2` and `dropout` layer with `p=0.25` after the 2 conv layers and run the model"
      ]
    },
    {
      "cell_type": "code",
      "metadata": {
        "id": "L2hAP94vJjwY",
        "colab_type": "code",
        "colab": {
          "base_uri": "https://localhost:8080/",
          "height": 711
        },
        "outputId": "9b415993-fb37-49fc-df9f-ce67eab320fc"
      },
      "source": [
        "#Introducing dropout and maxpool layers\n",
        "\n",
        "model2 = Sequential()\n",
        "\n",
        "\n",
        "#Add a Convolutional Layer with 32 filters of size 3X3 and activation function as 'ReLU' \n",
        "model2.add(BatchNormalization())\n",
        "model2.add(Convolution2D(32, kernel_size=(3, 3),\n",
        "                 activation='relu',\n",
        "                 name='conv_1'))\n",
        "\n",
        "#Add a Convolutional Layer with 32 filters of size 3X3 and activation function as 'ReLU' \n",
        "model2.add(Convolution2D(32, (3, 3), activation='relu',name='conv_2'))\n",
        "model2.add(MaxPooling2D(pool_size=(2, 2),name='max_1'))\n",
        "model2.add(Dropout(0.25,name='drop_1'))\n",
        "model2.add(Flatten())\n",
        "\n",
        "\n",
        "#Add Fully Connected Layer with 128 units and activation function as 'ReLU'\n",
        "model2.add(Dense(128, activation='relu',name='dense_1'))\n",
        "model2.add(Dropout(0.25,name='drop_2'))\n",
        "#Add Fully Connected Layer with 10 units and activation function as 'softmax'\n",
        "model2.add(Dense(10, activation='softmax',name='dense_2'))\n",
        "callback = tf.keras.callbacks.EarlyStopping(monitor='loss', patience=5,verbose = 1,mode ='auto')\n",
        "model2.compile(loss='categorical_crossentropy',\n",
        "              optimizer='adam',\n",
        "              metrics=['accuracy'])\n",
        "output2 = model2.fit(X_trainr, y_trainn, validation_data=(X_testr, y_testn), epochs=20, batch_size = 30,callbacks = [callback])"
      ],
      "execution_count": 14,
      "outputs": [
        {
          "output_type": "stream",
          "text": [
            "Epoch 1/20\n",
            "2000/2000 [==============================] - 6s 3ms/step - loss: 0.4009 - accuracy: 0.8556 - val_loss: 0.2788 - val_accuracy: 0.8970\n",
            "Epoch 2/20\n",
            "2000/2000 [==============================] - 6s 3ms/step - loss: 0.2671 - accuracy: 0.9017 - val_loss: 0.2447 - val_accuracy: 0.9113\n",
            "Epoch 3/20\n",
            "2000/2000 [==============================] - 6s 3ms/step - loss: 0.2240 - accuracy: 0.9153 - val_loss: 0.2396 - val_accuracy: 0.9122\n",
            "Epoch 4/20\n",
            "2000/2000 [==============================] - 6s 3ms/step - loss: 0.1956 - accuracy: 0.9256 - val_loss: 0.2347 - val_accuracy: 0.9164\n",
            "Epoch 5/20\n",
            "2000/2000 [==============================] - 6s 3ms/step - loss: 0.1733 - accuracy: 0.9355 - val_loss: 0.2255 - val_accuracy: 0.9217\n",
            "Epoch 6/20\n",
            "2000/2000 [==============================] - 6s 3ms/step - loss: 0.1547 - accuracy: 0.9420 - val_loss: 0.2242 - val_accuracy: 0.9236\n",
            "Epoch 7/20\n",
            "2000/2000 [==============================] - 6s 3ms/step - loss: 0.1413 - accuracy: 0.9463 - val_loss: 0.2349 - val_accuracy: 0.9230\n",
            "Epoch 8/20\n",
            "2000/2000 [==============================] - 6s 3ms/step - loss: 0.1257 - accuracy: 0.9523 - val_loss: 0.2284 - val_accuracy: 0.9256\n",
            "Epoch 9/20\n",
            "2000/2000 [==============================] - 6s 3ms/step - loss: 0.1181 - accuracy: 0.9555 - val_loss: 0.2421 - val_accuracy: 0.9271\n",
            "Epoch 10/20\n",
            "2000/2000 [==============================] - 6s 3ms/step - loss: 0.1088 - accuracy: 0.9583 - val_loss: 0.2522 - val_accuracy: 0.9255\n",
            "Epoch 11/20\n",
            "2000/2000 [==============================] - 6s 3ms/step - loss: 0.0999 - accuracy: 0.9625 - val_loss: 0.2482 - val_accuracy: 0.9280\n",
            "Epoch 12/20\n",
            "2000/2000 [==============================] - 6s 3ms/step - loss: 0.0958 - accuracy: 0.9645 - val_loss: 0.2545 - val_accuracy: 0.9260\n",
            "Epoch 13/20\n",
            "2000/2000 [==============================] - 6s 3ms/step - loss: 0.0888 - accuracy: 0.9669 - val_loss: 0.2624 - val_accuracy: 0.9272\n",
            "Epoch 14/20\n",
            "2000/2000 [==============================] - 6s 3ms/step - loss: 0.0846 - accuracy: 0.9680 - val_loss: 0.2882 - val_accuracy: 0.9265\n",
            "Epoch 15/20\n",
            "2000/2000 [==============================] - 6s 3ms/step - loss: 0.0801 - accuracy: 0.9696 - val_loss: 0.2995 - val_accuracy: 0.9285\n",
            "Epoch 16/20\n",
            "2000/2000 [==============================] - 6s 3ms/step - loss: 0.0758 - accuracy: 0.9715 - val_loss: 0.2706 - val_accuracy: 0.9273\n",
            "Epoch 17/20\n",
            "2000/2000 [==============================] - 6s 3ms/step - loss: 0.0724 - accuracy: 0.9726 - val_loss: 0.2971 - val_accuracy: 0.9278\n",
            "Epoch 18/20\n",
            "2000/2000 [==============================] - 6s 3ms/step - loss: 0.0695 - accuracy: 0.9737 - val_loss: 0.2969 - val_accuracy: 0.9274\n",
            "Epoch 19/20\n",
            "2000/2000 [==============================] - 6s 3ms/step - loss: 0.0653 - accuracy: 0.9766 - val_loss: 0.3002 - val_accuracy: 0.9279\n",
            "Epoch 20/20\n",
            "2000/2000 [==============================] - 6s 3ms/step - loss: 0.0621 - accuracy: 0.9772 - val_loss: 0.3128 - val_accuracy: 0.9283\n"
          ],
          "name": "stdout"
        }
      ]
    },
    {
      "cell_type": "markdown",
      "metadata": {
        "id": "lGTA3bfEJjwa",
        "colab_type": "text"
      },
      "source": [
        "### Now, to the above model, lets add Data Augmentation "
      ]
    },
    {
      "cell_type": "markdown",
      "metadata": {
        "id": "F6gX8n5SJjwb",
        "colab_type": "text"
      },
      "source": [
        "### Import the ImageDataGenrator from keras and fit the training images"
      ]
    },
    {
      "cell_type": "code",
      "metadata": {
        "id": "Cbz4uHBuJjwc",
        "colab_type": "code",
        "colab": {}
      },
      "source": [
        "from keras.preprocessing.image import ImageDataGenerator\n",
        "img_generator = ImageDataGenerator(featurewise_center =False,\n",
        "                                                                samplewise_center = False,\n",
        "                                                                samplewise_std_normalization=False,\n",
        "                                                                featurewise_std_normalization = False,\n",
        "                                                                rotation_range = 50,\n",
        "                                                                zca_whitening = False,\n",
        "                                                                width_shift_range=0.1,\n",
        "                                                                height_shift_range=0.1,\n",
        "                                                                horizontal_flip=False,\n",
        "                                                                vertical_flip = False)\n",
        "img_generator.fit(X_trainr)                                                    "
      ],
      "execution_count": 12,
      "outputs": []
    },
    {
      "cell_type": "markdown",
      "metadata": {
        "id": "pl-8dOo7Jjwf",
        "colab_type": "text"
      },
      "source": [
        "#### Showing 5 versions of the first image in training dataset using image datagenerator.flow()"
      ]
    },
    {
      "cell_type": "code",
      "metadata": {
        "id": "RG_tCdOQok7t",
        "colab_type": "code",
        "colab": {
          "base_uri": "https://localhost:8080/",
          "height": 89
        },
        "outputId": "dab9de6e-9df9-4a98-b908-12285bf3739a"
      },
      "source": [
        "from matplotlib import pyplot as plt\n",
        "gen = img_generator.flow(X_trainr[0:1], batch_size=1)\n",
        "for i in range(1, 6):\n",
        "    plt.subplot(1,5,i)\n",
        "    plt.axis(\"off\")\n",
        "    plt.imshow(gen.next().squeeze(), cmap='gray')\n",
        "    plt.plot()\n",
        "plt.show()"
      ],
      "execution_count": 13,
      "outputs": [
        {
          "output_type": "display_data",
          "data": {
            "image/png": "[encoded data removed]",
            "text/plain": [
              "<Figure size 432x288 with 5 Axes>"
            ]
          },
          "metadata": {
            "tags": [],
            "needs_background": "light"
          }
        }
      ]
    },
    {
      "cell_type": "markdown",
      "metadata": {
        "id": "dmPl5yE8Jjwm",
        "colab_type": "text"
      },
      "source": [
        "### Run the above model using fit_generator()"
      ]
    },
    {
      "cell_type": "code",
      "metadata": {
        "id": "UPBkNAIH6cby",
        "colab_type": "code",
        "colab": {}
      },
      "source": [
        "from keras.callbacks import ModelCheckpoint\n",
        "model_checkpoint = ModelCheckpoint('/content/gdrive/My Drive/MNIST.h5', \n",
        "                                                    save_best_only=True, \n",
        "                                                    monitor='val_accuracy', \n",
        "                                                    mode='max', \n",
        "                                                    verbose=1)"
      ],
      "execution_count": 14,
      "outputs": []
    },
    {
      "cell_type": "code",
      "metadata": {
        "id": "lfiQVskL69qr",
        "colab_type": "code",
        "colab": {
          "base_uri": "https://localhost:8080/",
          "height": 35
        },
        "outputId": "6da1215b-d75f-4d5e-b247-1914ac7f3096"
      },
      "source": [
        "len(X_trainr) , len(X_testr)"
      ],
      "execution_count": 33,
      "outputs": [
        {
          "output_type": "execute_result",
          "data": {
            "text/plain": [
              "(60000, 10000)"
            ]
          },
          "metadata": {
            "tags": []
          },
          "execution_count": 33
        }
      ]
    },
    {
      "cell_type": "code",
      "metadata": {
        "id": "wUQXvjI77iXY",
        "colab_type": "code",
        "colab": {}
      },
      "source": [
        "#building model iwth augmented data\n",
        "\n",
        "model3 = Sequential()\n",
        "\n",
        "\n",
        "#Add a Convolutional Layer with 32 filters of size 3X3 and activation function as 'ReLU' \n",
        "model3.add(BatchNormalization())\n",
        "model3.add(Convolution2D(32, kernel_size=(3, 3),\n",
        "                 activation='relu',\n",
        "                 name='conv_1'))\n",
        "\n",
        "#Add a Convolutional Layer with 32 filters of size 3X3 and activation function as 'ReLU' \n",
        "model3.add(Convolution2D(32, (3, 3), activation='relu',name='conv_2'))\n",
        "model3.add(MaxPooling2D(pool_size=(2, 2),name='max_1'))\n",
        "model3.add(Dropout(0.25,name='drop_1'))\n",
        "\n",
        "\n",
        "model3.add(Flatten())\n",
        "\n",
        "\n",
        "#Add Fully Connected Layer with 128 units and activation function as 'ReLU'\n",
        "model3.add(Dense(128, activation='relu',name='dense_1'))\n",
        "model3.add(Dropout(0.25,name='drop_2'))\n",
        "#Add Fully Connected Layer with 10 units and activation function as 'softmax'\n",
        "model3.add(Dense(10, activation='softmax',name='dense_2'))\n",
        "callback = tf.keras.callbacks.EarlyStopping(monitor='loss', patience=5,verbose = 1,mode ='auto')\n",
        "model3.compile(loss='categorical_crossentropy',\n",
        "              optimizer='adam',\n",
        "              metrics=['accuracy'])\n",
        "#output3 = model3.fit(X_trainr, y_trainn, validation_data=(X_testr, y_testn), epochs=20, batch_size = 30,callbacks = [callback])"
      ],
      "execution_count": 34,
      "outputs": []
    },
    {
      "cell_type": "code",
      "metadata": {
        "id": "44ZnDdJYJjwn",
        "colab_type": "code",
        "colab": {
          "base_uri": "https://localhost:8080/",
          "height": 1000
        },
        "outputId": "ff8c5dc9-312e-4119-93ff-86f7b4607684"
      },
      "source": [
        "output3 = model3.fit_generator(img_generator.flow(X_trainr,y_trainn),\n",
        "                    epochs=20,\n",
        "                    steps_per_epoch=60000/100,  #Number of training images//batch_size\n",
        "                    validation_data=(X_testr,y_testn),\n",
        "                    validation_steps = 10000//100, #Number of test images//batch_size\n",
        "                    callbacks = [callback,model_checkpoint])"
      ],
      "execution_count": 37,
      "outputs": [
        {
          "output_type": "stream",
          "text": [
            "Epoch 1/20\n",
            "596/600 [============================>.] - ETA: 0s - loss: 1.0351 - accuracy: 0.6163\n",
            "Epoch 00001: val_accuracy improved from -inf to 0.74390, saving model to /content/gdrive/My Drive/MNIST.h5\n",
            "600/600 [==============================] - 5s 9ms/step - loss: 1.0327 - accuracy: 0.6174 - val_loss: 0.6535 - val_accuracy: 0.7439\n",
            "Epoch 2/20\n",
            "596/600 [============================>.] - ETA: 0s - loss: 0.7756 - accuracy: 0.7111\n",
            "Epoch 00002: val_accuracy improved from 0.74390 to 0.78170, saving model to /content/gdrive/My Drive/MNIST.h5\n",
            "600/600 [==============================] - 5s 9ms/step - loss: 0.7756 - accuracy: 0.7111 - val_loss: 0.5659 - val_accuracy: 0.7817\n",
            "Epoch 3/20\n",
            "595/600 [============================>.] - ETA: 0s - loss: 0.7173 - accuracy: 0.7261\n",
            "Epoch 00003: val_accuracy improved from 0.78170 to 0.78490, saving model to /content/gdrive/My Drive/MNIST.h5\n",
            "600/600 [==============================] - 5s 9ms/step - loss: 0.7170 - accuracy: 0.7266 - val_loss: 0.5614 - val_accuracy: 0.7849\n",
            "Epoch 4/20\n",
            "600/600 [==============================] - ETA: 0s - loss: 0.6654 - accuracy: 0.7511\n",
            "Epoch 00004: val_accuracy improved from 0.78490 to 0.80110, saving model to /content/gdrive/My Drive/MNIST.h5\n",
            "600/600 [==============================] - 5s 9ms/step - loss: 0.6654 - accuracy: 0.7511 - val_loss: 0.5231 - val_accuracy: 0.8011\n",
            "Epoch 5/20\n",
            "598/600 [============================>.] - ETA: 0s - loss: 0.6471 - accuracy: 0.7560\n",
            "Epoch 00005: val_accuracy improved from 0.80110 to 0.81440, saving model to /content/gdrive/My Drive/MNIST.h5\n",
            "600/600 [==============================] - 5s 9ms/step - loss: 0.6468 - accuracy: 0.7560 - val_loss: 0.5015 - val_accuracy: 0.8144\n",
            "Epoch 6/20\n",
            "597/600 [============================>.] - ETA: 0s - loss: 0.6009 - accuracy: 0.7743\n",
            "Epoch 00006: val_accuracy improved from 0.81440 to 0.82640, saving model to /content/gdrive/My Drive/MNIST.h5\n",
            "600/600 [==============================] - 5s 9ms/step - loss: 0.6006 - accuracy: 0.7746 - val_loss: 0.4660 - val_accuracy: 0.8264\n",
            "Epoch 7/20\n",
            "599/600 [============================>.] - ETA: 0s - loss: 0.5964 - accuracy: 0.7755\n",
            "Epoch 00007: val_accuracy improved from 0.82640 to 0.83160, saving model to /content/gdrive/My Drive/MNIST.h5\n",
            "600/600 [==============================] - 5s 9ms/step - loss: 0.5964 - accuracy: 0.7755 - val_loss: 0.4697 - val_accuracy: 0.8316\n",
            "Epoch 8/20\n",
            "595/600 [============================>.] - ETA: 0s - loss: 0.5753 - accuracy: 0.7866\n",
            "Epoch 00008: val_accuracy improved from 0.83160 to 0.83440, saving model to /content/gdrive/My Drive/MNIST.h5\n",
            "600/600 [==============================] - 5s 9ms/step - loss: 0.5755 - accuracy: 0.7865 - val_loss: 0.4592 - val_accuracy: 0.8344\n",
            "Epoch 9/20\n",
            "596/600 [============================>.] - ETA: 0s - loss: 0.5571 - accuracy: 0.7936\n",
            "Epoch 00009: val_accuracy improved from 0.83440 to 0.83720, saving model to /content/gdrive/My Drive/MNIST.h5\n",
            "600/600 [==============================] - 5s 9ms/step - loss: 0.5574 - accuracy: 0.7932 - val_loss: 0.4556 - val_accuracy: 0.8372\n",
            "Epoch 10/20\n",
            "598/600 [============================>.] - ETA: 0s - loss: 0.5461 - accuracy: 0.7976\n",
            "Epoch 00010: val_accuracy did not improve from 0.83720\n",
            "600/600 [==============================] - 5s 9ms/step - loss: 0.5472 - accuracy: 0.7973 - val_loss: 0.4430 - val_accuracy: 0.8317\n",
            "Epoch 11/20\n",
            "599/600 [============================>.] - ETA: 0s - loss: 0.5496 - accuracy: 0.7936\n",
            "Epoch 00011: val_accuracy improved from 0.83720 to 0.84030, saving model to /content/gdrive/My Drive/MNIST.h5\n",
            "600/600 [==============================] - 5s 9ms/step - loss: 0.5493 - accuracy: 0.7937 - val_loss: 0.4289 - val_accuracy: 0.8403\n",
            "Epoch 12/20\n",
            "599/600 [============================>.] - ETA: 0s - loss: 0.5397 - accuracy: 0.7991\n",
            "Epoch 00012: val_accuracy improved from 0.84030 to 0.84670, saving model to /content/gdrive/My Drive/MNIST.h5\n",
            "600/600 [==============================] - 5s 9ms/step - loss: 0.5401 - accuracy: 0.7989 - val_loss: 0.4225 - val_accuracy: 0.8467\n",
            "Epoch 13/20\n",
            "597/600 [============================>.] - ETA: 0s - loss: 0.5275 - accuracy: 0.8012\n",
            "Epoch 00013: val_accuracy did not improve from 0.84670\n",
            "600/600 [==============================] - 5s 9ms/step - loss: 0.5278 - accuracy: 0.8010 - val_loss: 0.4265 - val_accuracy: 0.8459\n",
            "Epoch 14/20\n",
            "599/600 [============================>.] - ETA: 0s - loss: 0.5238 - accuracy: 0.8056\n",
            "Epoch 00014: val_accuracy did not improve from 0.84670\n",
            "600/600 [==============================] - 5s 9ms/step - loss: 0.5237 - accuracy: 0.8056 - val_loss: 0.4370 - val_accuracy: 0.8430\n",
            "Epoch 15/20\n",
            "598/600 [============================>.] - ETA: 0s - loss: 0.5116 - accuracy: 0.8101\n",
            "Epoch 00015: val_accuracy improved from 0.84670 to 0.84770, saving model to /content/gdrive/My Drive/MNIST.h5\n",
            "600/600 [==============================] - 5s 9ms/step - loss: 0.5118 - accuracy: 0.8102 - val_loss: 0.4163 - val_accuracy: 0.8477\n",
            "Epoch 16/20\n",
            "596/600 [============================>.] - ETA: 0s - loss: 0.5041 - accuracy: 0.8136\n",
            "Epoch 00016: val_accuracy improved from 0.84770 to 0.85010, saving model to /content/gdrive/My Drive/MNIST.h5\n",
            "600/600 [==============================] - 5s 9ms/step - loss: 0.5036 - accuracy: 0.8135 - val_loss: 0.4136 - val_accuracy: 0.8501\n",
            "Epoch 17/20\n",
            "597/600 [============================>.] - ETA: 0s - loss: 0.5045 - accuracy: 0.8106\n",
            "Epoch 00017: val_accuracy improved from 0.85010 to 0.85020, saving model to /content/gdrive/My Drive/MNIST.h5\n",
            "600/600 [==============================] - 6s 9ms/step - loss: 0.5046 - accuracy: 0.8105 - val_loss: 0.4150 - val_accuracy: 0.8502\n",
            "Epoch 18/20\n",
            "600/600 [==============================] - ETA: 0s - loss: 0.4902 - accuracy: 0.8195\n",
            "Epoch 00018: val_accuracy improved from 0.85020 to 0.85810, saving model to /content/gdrive/My Drive/MNIST.h5\n",
            "600/600 [==============================] - 6s 9ms/step - loss: 0.4902 - accuracy: 0.8195 - val_loss: 0.3970 - val_accuracy: 0.8581\n",
            "Epoch 19/20\n",
            "597/600 [============================>.] - ETA: 0s - loss: 0.4875 - accuracy: 0.8201\n",
            "Epoch 00019: val_accuracy improved from 0.85810 to 0.86220, saving model to /content/gdrive/My Drive/MNIST.h5\n",
            "600/600 [==============================] - 5s 9ms/step - loss: 0.4884 - accuracy: 0.8197 - val_loss: 0.3892 - val_accuracy: 0.8622\n",
            "Epoch 20/20\n",
            "597/600 [============================>.] - ETA: 0s - loss: 0.4834 - accuracy: 0.8226\n",
            "Epoch 00020: val_accuracy did not improve from 0.86220\n",
            "600/600 [==============================] - 5s 9ms/step - loss: 0.4832 - accuracy: 0.8227 - val_loss: 0.4017 - val_accuracy: 0.8553\n"
          ],
          "name": "stdout"
        }
      ]
    },
    {
      "cell_type": "code",
      "metadata": {
        "id": "YPpLR2WS9s8L",
        "colab_type": "code",
        "colab": {}
      },
      "source": [
        "#increasing two more convolutional layer to check if accuracy increases\n",
        "\n",
        "model4 = Sequential()\n",
        "\n",
        "\n",
        "#Add a Convolutional Layer with 32 filters of size 3X3 and activation function as 'ReLU' \n",
        "model4.add(BatchNormalization())\n",
        "model4.add(Convolution2D(32, kernel_size=(3, 3),\n",
        "                 activation='relu',\n",
        "                 name='conv_1'))\n",
        "\n",
        "#Add a Convolutional Layer with 32 filters of size 3X3 and activation function as 'ReLU' \n",
        "model4.add(Convolution2D(32, (3, 3), activation='relu',name='conv_2'))\n",
        "model4.add(MaxPooling2D(pool_size=(2, 2),name='max_1'))\n",
        "\n",
        "\n",
        "model4.add(BatchNormalization())\n",
        "model4.add(Convolution2D(64, kernel_size=(3, 3),\n",
        "                 activation='relu',\n",
        "                 name='conv_3'))\n",
        "\n",
        "#Add a Convolutional Layer with 32 filters of size 3X3 and activation function as 'ReLU' \n",
        "model4.add(Convolution2D(64, (3, 3), activation='relu',name='conv_4'))\n",
        "model4.add(MaxPooling2D(pool_size=(2, 2),name='max_2'))\n",
        "model4.add(Dropout(0.25,name='drop_2'))\n",
        "\n",
        "\n",
        "model4.add(Flatten())\n",
        "#Add Fully Connected Layer with 128 units and activation function as 'ReLU'\n",
        "model4.add(Dense(128, activation='relu',name='dense_1'))\n",
        "\n",
        "#Add Fully Connected Layer with 10 units and activation function as 'softmax'\n",
        "model4.add(Dense(10, activation='softmax',name='dense_2'))\n",
        "callback = tf.keras.callbacks.EarlyStopping(monitor='loss', patience=5,verbose = 1,mode ='auto')\n",
        "model4.compile(loss='categorical_crossentropy',\n",
        "              optimizer='adam',\n",
        "              metrics=['accuracy'])\n",
        "#output3 = model3.fit(X_trainr, y_trainn, validation_data=(X_testr, y_testn), epochs=20, batch_size = 30,callbacks = [callback])"
      ],
      "execution_count": null,
      "outputs": []
    },
    {
      "cell_type": "code",
      "metadata": {
        "id": "bpz6BExc9uUW",
        "colab_type": "code",
        "colab": {
          "base_uri": "https://localhost:8080/",
          "height": 904
        },
        "outputId": "95e90591-58ee-42a9-e615-0385d9c52ff9"
      },
      "source": [
        "output4 = model4.fit_generator(img_generator.flow(X_trainr,y_trainn),\n",
        "                    epochs=40,\n",
        "                    steps_per_epoch=60000/32,  #Number of training images//batch_size\n",
        "                    initial_epoch = 25,\n",
        "                    validation_data=(X_testr,y_testn),\n",
        "                    validation_steps = 10000//32, #Number of test images//batch_size\n",
        "                    callbacks = [callback,model_checkpoint])"
      ],
      "execution_count": 19,
      "outputs": [
        {
          "output_type": "stream",
          "text": [
            "WARNING:tensorflow:From <ipython-input-19-505a8acaa508>:7: Model.fit_generator (from tensorflow.python.keras.engine.training) is deprecated and will be removed in a future version.\n",
            "Instructions for updating:\n",
            "Please use Model.fit, which supports generators.\n",
            "Epoch 26/40\n",
            "1874/1875 [============================>.] - ETA: 0s - loss: 0.7580 - accuracy: 0.7160WARNING:tensorflow:Your input ran out of data; interrupting training. Make sure that your dataset or generator can generate at least `steps_per_epoch * epochs` batches (in this case, 312 batches). You may need to use the repeat() function when building your dataset.\n",
            "\n",
            "Epoch 00026: val_accuracy improved from -inf to 0.80900, saving model to /content/gdrive/My Drive/MNIST.h5\n",
            "1875/1875 [==============================] - 17s 9ms/step - loss: 0.7579 - accuracy: 0.7161 - val_loss: 0.5088 - val_accuracy: 0.8090\n",
            "Epoch 27/40\n",
            "1873/1875 [============================>.] - ETA: 0s - loss: 0.5513 - accuracy: 0.7924WARNING:tensorflow:Can save best model only with val_accuracy available, skipping.\n",
            "1875/1875 [==============================] - 17s 9ms/step - loss: 0.5514 - accuracy: 0.7924\n",
            "Epoch 28/40\n",
            "1873/1875 [============================>.] - ETA: 0s - loss: 0.4905 - accuracy: 0.8181WARNING:tensorflow:Can save best model only with val_accuracy available, skipping.\n",
            "1875/1875 [==============================] - 17s 9ms/step - loss: 0.4904 - accuracy: 0.8181\n",
            "Epoch 29/40\n",
            "1872/1875 [============================>.] - ETA: 0s - loss: 0.4545 - accuracy: 0.8325WARNING:tensorflow:Can save best model only with val_accuracy available, skipping.\n",
            "1875/1875 [==============================] - 17s 9ms/step - loss: 0.4547 - accuracy: 0.8323\n",
            "Epoch 30/40\n",
            "1873/1875 [============================>.] - ETA: 0s - loss: 0.4300 - accuracy: 0.8408WARNING:tensorflow:Can save best model only with val_accuracy available, skipping.\n",
            "1875/1875 [==============================] - 17s 9ms/step - loss: 0.4299 - accuracy: 0.8408\n",
            "Epoch 31/40\n",
            "1872/1875 [============================>.] - ETA: 0s - loss: 0.4125 - accuracy: 0.8488WARNING:tensorflow:Can save best model only with val_accuracy available, skipping.\n",
            "1875/1875 [==============================] - 16s 9ms/step - loss: 0.4123 - accuracy: 0.8488\n",
            "Epoch 32/40\n",
            "1873/1875 [============================>.] - ETA: 0s - loss: 0.4029 - accuracy: 0.8497WARNING:tensorflow:Can save best model only with val_accuracy available, skipping.\n",
            "1875/1875 [==============================] - 17s 9ms/step - loss: 0.4028 - accuracy: 0.8497\n",
            "Epoch 33/40\n",
            "1871/1875 [============================>.] - ETA: 0s - loss: 0.3904 - accuracy: 0.8557WARNING:tensorflow:Can save best model only with val_accuracy available, skipping.\n",
            "1875/1875 [==============================] - 17s 9ms/step - loss: 0.3906 - accuracy: 0.8556\n",
            "Epoch 34/40\n",
            "1872/1875 [============================>.] - ETA: 0s - loss: 0.3768 - accuracy: 0.8633WARNING:tensorflow:Can save best model only with val_accuracy available, skipping.\n",
            "1875/1875 [==============================] - 16s 9ms/step - loss: 0.3766 - accuracy: 0.8634\n",
            "Epoch 35/40\n",
            "1870/1875 [============================>.] - ETA: 0s - loss: 0.3737 - accuracy: 0.8635WARNING:tensorflow:Can save best model only with val_accuracy available, skipping.\n",
            "1875/1875 [==============================] - 16s 9ms/step - loss: 0.3735 - accuracy: 0.8636\n",
            "Epoch 36/40\n",
            "1870/1875 [============================>.] - ETA: 0s - loss: 0.3635 - accuracy: 0.8662WARNING:tensorflow:Can save best model only with val_accuracy available, skipping.\n",
            "1875/1875 [==============================] - 16s 9ms/step - loss: 0.3635 - accuracy: 0.8662\n",
            "Epoch 37/40\n",
            "1870/1875 [============================>.] - ETA: 0s - loss: 0.3608 - accuracy: 0.8686WARNING:tensorflow:Can save best model only with val_accuracy available, skipping.\n",
            "1875/1875 [==============================] - 16s 9ms/step - loss: 0.3611 - accuracy: 0.8686\n",
            "Epoch 38/40\n",
            "1871/1875 [============================>.] - ETA: 0s - loss: 0.3486 - accuracy: 0.8727WARNING:tensorflow:Can save best model only with val_accuracy available, skipping.\n",
            "1875/1875 [==============================] - 17s 9ms/step - loss: 0.3486 - accuracy: 0.8727\n",
            "Epoch 39/40\n",
            "1873/1875 [============================>.] - ETA: 0s - loss: 0.3473 - accuracy: 0.8737WARNING:tensorflow:Can save best model only with val_accuracy available, skipping.\n",
            "1875/1875 [==============================] - 16s 9ms/step - loss: 0.3474 - accuracy: 0.8736\n",
            "Epoch 40/40\n",
            "1874/1875 [============================>.] - ETA: 0s - loss: 0.3434 - accuracy: 0.8739WARNING:tensorflow:Can save best model only with val_accuracy available, skipping.\n",
            "1875/1875 [==============================] - 16s 9ms/step - loss: 0.3434 - accuracy: 0.8738\n"
          ],
          "name": "stdout"
        }
      ]
    },
    {
      "cell_type": "markdown",
      "metadata": {
        "id": "MwQQW5iOJjwq",
        "colab_type": "text"
      },
      "source": [
        "###  Report the final train and validation accuracy"
      ]
    },
    {
      "cell_type": "code",
      "metadata": {
        "id": "c1SrtBEPJjwq",
        "colab_type": "code",
        "colab": {
          "base_uri": "https://localhost:8080/",
          "height": 52
        },
        "outputId": "93c9af58-bbcc-4925-8003-5305f1cb8652"
      },
      "source": [
        "model4.evaluate(X_testr,y_testn)"
      ],
      "execution_count": 20,
      "outputs": [
        {
          "output_type": "stream",
          "text": [
            "313/313 [==============================] - 1s 2ms/step - loss: 0.3264 - accuracy: 0.8807\n"
          ],
          "name": "stdout"
        },
        {
          "output_type": "execute_result",
          "data": {
            "text/plain": [
              "[0.3264395296573639, 0.8806999921798706]"
            ]
          },
          "metadata": {
            "tags": []
          },
          "execution_count": 20
        }
      ]
    },
    {
      "cell_type": "code",
      "metadata": {
        "id": "ZBwVWNQC2qZD",
        "colab_type": "code",
        "colab": {
          "base_uri": "https://localhost:8080/",
          "height": 52
        },
        "outputId": "0afde1e7-e1a0-41a1-f78b-251b71788f17"
      },
      "source": [
        "model4.evaluate(X_trainr,y_trainn)"
      ],
      "execution_count": 21,
      "outputs": [
        {
          "output_type": "stream",
          "text": [
            "1875/1875 [==============================] - 4s 2ms/step - loss: 0.2906 - accuracy: 0.8913\n"
          ],
          "name": "stdout"
        },
        {
          "output_type": "execute_result",
          "data": {
            "text/plain": [
              "[0.2905520796775818, 0.8912500143051147]"
            ]
          },
          "metadata": {
            "tags": []
          },
          "execution_count": 21
        }
      ]
    },
    {
      "cell_type": "code",
      "metadata": {
        "id": "ON3Uo3pO_jCf",
        "colab_type": "code",
        "colab": {
          "base_uri": "https://localhost:8080/",
          "height": 572
        },
        "outputId": "b12be9ab-6977-424f-b261-835dc7db9075"
      },
      "source": [
        "model4.summary()"
      ],
      "execution_count": 60,
      "outputs": [
        {
          "output_type": "stream",
          "text": [
            "Model: \"sequential_5\"\n",
            "_________________________________________________________________\n",
            "Layer (type)                 Output Shape              Param #   \n",
            "=================================================================\n",
            "batch_normalization_6 (Batch (None, None, None, 1)     4         \n",
            "_________________________________________________________________\n",
            "conv_1 (Conv2D)              (None, None, None, 32)    320       \n",
            "_________________________________________________________________\n",
            "conv_2 (Conv2D)              (None, None, None, 32)    9248      \n",
            "_________________________________________________________________\n",
            "max_1 (MaxPooling2D)         (None, None, None, 32)    0         \n",
            "_________________________________________________________________\n",
            "batch_normalization_7 (Batch (None, None, None, 32)    128       \n",
            "_________________________________________________________________\n",
            "conv_3 (Conv2D)              (None, None, None, 64)    18496     \n",
            "_________________________________________________________________\n",
            "conv_4 (Conv2D)              (None, None, None, 64)    36928     \n",
            "_________________________________________________________________\n",
            "max_2 (MaxPooling2D)         (None, None, None, 64)    0         \n",
            "_________________________________________________________________\n",
            "drop_2 (Dropout)             (None, None, None, 64)    0         \n",
            "_________________________________________________________________\n",
            "flatten_4 (Flatten)          (None, None)              0         \n",
            "_________________________________________________________________\n",
            "dense_1 (Dense)              (None, 128)               131200    \n",
            "_________________________________________________________________\n",
            "dense_2 (Dense)              (None, 10)                1290      \n",
            "=================================================================\n",
            "Total params: 197,614\n",
            "Trainable params: 197,548\n",
            "Non-trainable params: 66\n",
            "_________________________________________________________________\n"
          ],
          "name": "stdout"
        }
      ]
    },
    {
      "cell_type": "code",
      "metadata": {
        "id": "OPiAg4LbRZHH",
        "colab_type": "code",
        "colab": {}
      },
      "source": [
        "#after introduing 2 additional conv layer with 64 3*3 filter model accuracy increased to 88 from 85 %"
      ],
      "execution_count": null,
      "outputs": []
    },
    {
      "cell_type": "code",
      "metadata": {
        "id": "d7DKbbpSNqOf",
        "colab_type": "code",
        "colab": {
          "base_uri": "https://localhost:8080/",
          "height": 35
        },
        "outputId": "b7c7a590-72ae-408e-c7f2-5c0fc8f136d0"
      },
      "source": [
        "X_testr.shape"
      ],
      "execution_count": 26,
      "outputs": [
        {
          "output_type": "execute_result",
          "data": {
            "text/plain": [
              "(10000, 28, 28, 1)"
            ]
          },
          "metadata": {
            "tags": []
          },
          "execution_count": 26
        }
      ]
    },
    {
      "cell_type": "code",
      "metadata": {
        "id": "TsE_5P_INiyH",
        "colab_type": "code",
        "colab": {
          "base_uri": "https://localhost:8080/",
          "height": 35
        },
        "outputId": "d552f149-352c-486e-e142-536d000de1c6"
      },
      "source": [
        "X_test = np.squeeze(X_testr)\n",
        "X_test.shape"
      ],
      "execution_count": 25,
      "outputs": [
        {
          "output_type": "execute_result",
          "data": {
            "text/plain": [
              "(10000, 28, 28)"
            ]
          },
          "metadata": {
            "tags": []
          },
          "execution_count": 25
        }
      ]
    },
    {
      "cell_type": "code",
      "metadata": {
        "id": "8AbIs1kdK_NM",
        "colab_type": "code",
        "colab": {
          "base_uri": "https://localhost:8080/",
          "height": 294
        },
        "outputId": "66232413-94b9-4f32-9501-364c0574e320"
      },
      "source": [
        "import numpy as np\n",
        "#Prediction\n",
        "#actual and #prediction are same for the below class\n",
        "img_num = np.random.randint(0, X_testr.shape[0])\n",
        "\n",
        "\n",
        "prediction = model4.predict(np.expand_dims(X_testr[img_num], axis=0))\n",
        "\n",
        "#class with the highest probability \n",
        "predicted_class = np.argmax(prediction[0])\n",
        "\n",
        "#Show results\n",
        "plt.imshow(X_test[img_num],cmap='gray') #Show the image from test dataset\n",
        "plt.suptitle('Actual: ' + str(np.argmax(y_testn[img_num])) + ', Predicted: ' + str(predicted_class))\n",
        "plt.show()"
      ],
      "execution_count": 33,
      "outputs": [
        {
          "output_type": "display_data",
          "data": {
            "image/png": "[encoded data removed]",
            "text/plain": [
              "<Figure size 432x288 with 1 Axes>"
            ]
          },
          "metadata": {
            "tags": [],
            "needs_background": "light"
          }
        }
      ]
    },
    {
      "cell_type": "markdown",
      "metadata": {
        "id": "8KXqmUDW2rM1",
        "colab_type": "text"
      },
      "source": [
        "## **DATA AUGMENTATION ON CIFAR10 DATASET**"
      ]
    },
    {
      "cell_type": "markdown",
      "metadata": {
        "id": "8mja6OgQ3L18",
        "colab_type": "text"
      },
      "source": [
        "One of the best ways to improve the performance of a Deep Learning model is to add more data to the training set. Aside from gathering more instances from the wild that are representative of the distinction task, we want to develop a set of methods that enhance the data we already have. There are many ways to augment existing datasets and produce more robust models. In the image domain, these are done to utilize the full power of the convolutional neural network, which is able to capture translational invariance. This translational invariance is what makes image recognition such a difficult task in the first place. You want the dataset to be representative of the many different positions, angles, lightings, and miscellaneous distortions that are of interest to the vision task."
      ]
    },
    {
      "cell_type": "markdown",
      "metadata": {
        "id": "6HzVTPUM3WZJ",
        "colab_type": "text"
      },
      "source": [
        "### **Import neessary libraries for data augmentation**"
      ]
    },
    {
      "cell_type": "code",
      "metadata": {
        "id": "PPM558TX4KMb",
        "colab_type": "code",
        "colab": {}
      },
      "source": [
        "from keras.datasets import cifar10,mnist"
      ],
      "execution_count": 63,
      "outputs": []
    },
    {
      "cell_type": "markdown",
      "metadata": {
        "id": "W6hicLwP4SqY",
        "colab_type": "text"
      },
      "source": [
        "### **Load CIFAR10 dataset**"
      ]
    },
    {
      "cell_type": "code",
      "metadata": {
        "id": "NQ1WzrXd4WNk",
        "colab_type": "code",
        "colab": {
          "base_uri": "https://localhost:8080/",
          "height": 52
        },
        "outputId": "51042b9f-8c56-434b-8ed7-67c7e0d0334f"
      },
      "source": [
        "#loading CIFAR10 dataset\n",
        "(X_train, y_train), (X_test, y_test) = cifar10.load_data()"
      ],
      "execution_count": 64,
      "outputs": [
        {
          "output_type": "stream",
          "text": [
            "Downloading data from https://www.cs.toronto.edu/~kriz/cifar-10-python.tar.gz\n",
            "170500096/170498071 [==============================] - 11s 0us/step\n"
          ],
          "name": "stdout"
        }
      ]
    },
    {
      "cell_type": "code",
      "metadata": {
        "colab_type": "code",
        "id": "fzsycaGcDc5g",
        "colab": {
          "base_uri": "https://localhost:8080/",
          "height": 35
        },
        "outputId": "046d9bfa-6c32-4995-90b8-2952068e9dbb"
      },
      "source": [
        "print('The testing features data shape is',X_test.shape[0])\n"
      ],
      "execution_count": 68,
      "outputs": [
        {
          "output_type": "stream",
          "text": [
            "The testing features data shape is 10000\n"
          ],
          "name": "stdout"
        }
      ]
    },
    {
      "cell_type": "code",
      "metadata": {
        "colab_type": "code",
        "id": "hk2OaQEFDbdq",
        "colab": {
          "base_uri": "https://localhost:8080/",
          "height": 35
        },
        "outputId": "59e5d1a8-f475-45be-c16b-f3daed44c678"
      },
      "source": [
        "print('The training features data shape is',X_train.shape[0])\n"
      ],
      "execution_count": 69,
      "outputs": [
        {
          "output_type": "stream",
          "text": [
            "The training features data shape is 50000\n"
          ],
          "name": "stdout"
        }
      ]
    },
    {
      "cell_type": "code",
      "metadata": {
        "id": "3n28ccU6Hp6s",
        "colab_type": "code",
        "colab": {
          "base_uri": "https://localhost:8080/",
          "height": 35
        },
        "outputId": "2e397690-6489-43b9-de26-0889aaf3a64f"
      },
      "source": [
        "X_test.shape , X_train.shape"
      ],
      "execution_count": 70,
      "outputs": [
        {
          "output_type": "execute_result",
          "data": {
            "text/plain": [
              "((10000, 32, 32, 3), (50000, 32, 32, 3))"
            ]
          },
          "metadata": {
            "tags": []
          },
          "execution_count": 70
        }
      ]
    },
    {
      "cell_type": "markdown",
      "metadata": {
        "id": "JN3vYYhK4W0u",
        "colab_type": "text"
      },
      "source": [
        "### **Create a data_gen funtion to genererator with image rotation,shifting image horizontally and vertically with random flip horizontally.**"
      ]
    },
    {
      "cell_type": "code",
      "metadata": {
        "id": "E1Daa_bmFUbK",
        "colab_type": "code",
        "colab": {}
      },
      "source": [
        "#normalizing data\n",
        "X_train = X_train.astype('float32')\n",
        "X_test = X_test.astype('float32')\n",
        "X_trains = X_train/255.0\n",
        "X_tests = X_test/255.0"
      ],
      "execution_count": 78,
      "outputs": []
    },
    {
      "cell_type": "code",
      "metadata": {
        "id": "EGhG55ChGGzu",
        "colab_type": "code",
        "colab": {}
      },
      "source": [
        "#reshaping data\n",
        "X_train = X_trains.reshape(X_trains.shape[0],32,32,3)\n",
        "X_testr = X_tests.reshape(X_tests.shape[0],32,32,3)"
      ],
      "execution_count": 85,
      "outputs": []
    },
    {
      "cell_type": "code",
      "metadata": {
        "id": "JJbekTKi4cmM",
        "colab_type": "code",
        "colab": {}
      },
      "source": [
        "from keras.preprocessing.image import ImageDataGenerator\n",
        "img_generator1 = ImageDataGenerator(featurewise_center =False,\n",
        "                                  samplewise_center = False,\n",
        "                                  samplewise_std_normalization=False,\n",
        "                                  featurewise_std_normalization = False,\n",
        "                                  rotation_range = 20,\n",
        "                                  zca_whitening = False,\n",
        "                                  width_shift_range=0.1,\n",
        "                                  height_shift_range=0.1,\n",
        "                                  horizontal_flip=True,\n",
        "                                  vertical_flip = True)\n",
        "                                                 "
      ],
      "execution_count": 86,
      "outputs": []
    },
    {
      "cell_type": "markdown",
      "metadata": {
        "id": "e-SLtUhC4dK2",
        "colab_type": "text"
      },
      "source": [
        "### **Prepare/fit the generator.**"
      ]
    },
    {
      "cell_type": "code",
      "metadata": {
        "id": "CSw8Bv2_4hb0",
        "colab_type": "code",
        "colab": {}
      },
      "source": [
        "#fitting generator\n",
        "img_generator1.fit(X_train)   "
      ],
      "execution_count": 87,
      "outputs": []
    },
    {
      "cell_type": "markdown",
      "metadata": {
        "id": "gYyF-P8O4jQ8",
        "colab_type": "text"
      },
      "source": [
        "### **Generate 5 images for 1 of the image of CIFAR10 train dataset.**"
      ]
    },
    {
      "cell_type": "code",
      "metadata": {
        "id": "mXug4z234mwQ",
        "colab_type": "code",
        "colab": {
          "base_uri": "https://localhost:8080/",
          "height": 89
        },
        "outputId": "d82daeb8-44de-41d2-d611-02879fa1eb2a"
      },
      "source": [
        "#viewing im,ages from generator\n",
        "from matplotlib import pyplot as plt\n",
        "gen1 = img_generator1.flow(X_train[0:3], batch_size=1)\n",
        "for i in range(1, 6):\n",
        "    plt.subplot(1,5,i)\n",
        "    plt.axis(\"off\")\n",
        "    plt.imshow(gen1.next().squeeze())\n",
        "    plt.plot()\n",
        "plt.show()"
      ],
      "execution_count": 88,
      "outputs": [
        {
          "output_type": "display_data",
          "data": {
            "image/png": "[encoded data removed]",
            "text/plain": [
              "<Figure size 432x288 with 5 Axes>"
            ]
          },
          "metadata": {
            "tags": [],
            "needs_background": "light"
          }
        }
      ]
    },
    {
      "cell_type": "code",
      "metadata": {
        "id": "gNHjmxi2HEgR",
        "colab_type": "code",
        "colab": {
          "base_uri": "https://localhost:8080/",
          "height": 567
        },
        "outputId": "cf639d84-6d4d-4f1d-d9ac-0563f89f642e"
      },
      "source": [
        "from matplotlib import pyplot as plt\n",
        "gen1 = img_generator1.flow(X_train[5:9], batch_size=1)\n",
        "for i in range(1, 6):\n",
        "    plt.subplots(figsize=(10,9))\n",
        "    plt.subplot(1,5,i,)\n",
        "    plt.axis(\"off\")\n",
        "    plt.imshow(gen1.next().squeeze())\n",
        "    plt.plot()\n",
        "    plt.show()"
      ],
      "execution_count": 99,
      "outputs": [
        {
          "output_type": "display_data",
          "data": {
            "image/png": "[encoded data removed]",
            "text/plain": [
              "<Figure size 720x648 with 1 Axes>"
            ]
          },
          "metadata": {
            "tags": [],
            "needs_background": "light"
          }
        },
        {
          "output_type": "display_data",
          "data": {
            "image/png": "[encoded data removed]",
            "text/plain": [
              "<Figure size 720x648 with 1 Axes>"
            ]
          },
          "metadata": {
            "tags": [],
            "needs_background": "light"
          }
        },
        {
          "output_type": "display_data",
          "data": {
            "image/png": "[encoded data removed]",
            "text/plain": [
              "<Figure size 720x648 with 1 Axes>"
            ]
          },
          "metadata": {
            "tags": [],
            "needs_background": "light"
          }
        },
        {
          "output_type": "display_data",
          "data": {
            "image/png": "[encoded data removed]",
            "text/plain": [
              "<Figure size 720x648 with 1 Axes>"
            ]
          },
          "metadata": {
            "tags": [],
            "needs_background": "light"
          }
        },
        {
          "output_type": "display_data",
          "data": {
            "image/png": "[encoded data removed]",
            "text/plain": [
              "<Figure size 720x648 with 1 Axes>"
            ]
          },
          "metadata": {
            "tags": [],
            "needs_background": "light"
          }
        }
      ]
    },
    {
      "cell_type": "code",
      "metadata": {
        "id": "EYFkXsw1HNwf",
        "colab_type": "code",
        "colab": {
          "base_uri": "https://localhost:8080/",
          "height": 566
        },
        "outputId": "bf838565-d526-4d4b-8ed8-b31b34a938de"
      },
      "source": [
        "from matplotlib import pyplot as plt\n",
        "gen1 = img_generator1.flow(X_train[10:19], batch_size=1)\n",
        "for i in range(1, 10):\n",
        "    plt.subplots(figsize=(10,9))\n",
        "    plt.subplot(1,10,i)\n",
        "    plt.axis(\"off\")\n",
        "    plt.imshow(gen1.next().squeeze())\n",
        "    plt.plot()\n",
        "plt.show()"
      ],
      "execution_count": 100,
      "outputs": [
        {
          "output_type": "display_data",
          "data": {
            "image/png": "[encoded data removed]",
            "text/plain": [
              "<Figure size 720x648 with 1 Axes>"
            ]
          },
          "metadata": {
            "tags": [],
            "needs_background": "light"
          }
        },
        {
          "output_type": "display_data",
          "data": {
            "image/png": "[encoded data removed]",
            "text/plain": [
              "<Figure size 720x648 with 1 Axes>"
            ]
          },
          "metadata": {
            "tags": [],
            "needs_background": "light"
          }
        },
        {
          "output_type": "display_data",
          "data": {
            "image/png": "[encoded data removed]",
            "text/plain": [
              "<Figure size 720x648 with 1 Axes>"
            ]
          },
          "metadata": {
            "tags": [],
            "needs_background": "light"
          }
        },
        {
          "output_type": "display_data",
          "data": {
            "image/png": "[encoded data removed]",
            "text/plain": [
              "<Figure size 720x648 with 1 Axes>"
            ]
          },
          "metadata": {
            "tags": [],
            "needs_background": "light"
          }
        },
        {
          "output_type": "display_data",
          "data": {
            "image/png": "[encoded data removed]",
            "text/plain": [
              "<Figure size 720x648 with 1 Axes>"
            ]
          },
          "metadata": {
            "tags": [],
            "needs_background": "light"
          }
        },
        {
          "output_type": "display_data",
          "data": {
            "image/png": "[encoded data removed]",
            "text/plain": [
              "<Figure size 720x648 with 1 Axes>"
            ]
          },
          "metadata": {
            "tags": [],
            "needs_background": "light"
          }
        },
        {
          "output_type": "display_data",
          "data": {
            "image/png": "[encoded data removed]",
            "text/plain": [
              "<Figure size 720x648 with 1 Axes>"
            ]
          },
          "metadata": {
            "tags": [],
            "needs_background": "light"
          }
        },
        {
          "output_type": "display_data",
          "data": {
            "image/png": "[encoded data removed]",
            "text/plain": [
              "<Figure size 720x648 with 1 Axes>"
            ]
          },
          "metadata": {
            "tags": [],
            "needs_background": "light"
          }
        },
        {
          "output_type": "display_data",
          "data": {
            "image/png": "[encoded data removed]",
            "text/plain": [
              "<Figure size 720x648 with 1 Axes>"
            ]
          },
          "metadata": {
            "tags": [],
            "needs_background": "light"
          }
        }
      ]
    }
  ]
}