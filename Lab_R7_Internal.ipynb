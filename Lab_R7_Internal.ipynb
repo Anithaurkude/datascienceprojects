{
  "nbformat": 4,
  "nbformat_minor": 0,
  "metadata": {
    "colab": {
      "name": "Questions_Internal_R7_AIML_Labs.ipynb",
      "provenance": [],
      "collapsed_sections": []
    },
    "kernelspec": {
      "display_name": "Python 3",
      "language": "python",
      "name": "python3"
    },
    "language_info": {
      "codemirror_mode": {
        "name": "ipython",
        "version": 3
      },
      "file_extension": ".py",
      "mimetype": "text/x-python",
      "name": "python",
      "nbconvert_exporter": "python",
      "pygments_lexer": "ipython3",
      "version": "3.7.2"
    },
    "accelerator": "GPU"
  },
  "cells": [
    {
      "cell_type": "markdown",
      "metadata": {
        "colab_type": "text",
        "id": "YeoiMbH7djEv"
      },
      "source": [
        "# Stock prices dataset\n",
        "The data is of tock exchange's stock listings for each trading day of 2010 to 2016.\n",
        "\n",
        "## Description\n",
        "A brief description of columns.\n",
        "- open: The opening market price of the equity symbol on the date\n",
        "- high: The highest market price of the equity symbol on the date\n",
        "- low: The lowest recorded market price of the equity symbol on the date\n",
        "- close: The closing recorded price of the equity symbol on the date\n",
        "- symbol: Symbol of the listed company\n",
        "- volume: Total traded volume of the equity symbol on the date\n",
        "- date: Date of record"
      ]
    },
    {
      "cell_type": "markdown",
      "metadata": {
        "colab_type": "text",
        "id": "RSoYY2nII_UW"
      },
      "source": [
        "In this assignment, we will work on the stock prices dataset named \"prices.csv\". Task is to create a Neural Network to classify closing price for a stock based on some parameters."
      ]
    },
    {
      "cell_type": "code",
      "metadata": {
        "colab_type": "code",
        "id": "PGqq9f8VdLba",
        "colab": {}
      },
      "source": [
        "# Initialize the random number generator\n",
        "import random\n",
        "random.seed(0)\n",
        "import pandas as pd\n",
        "# Ignore the warnings\n",
        "import warnings\n",
        "warnings.filterwarnings(\"ignore\")\n",
        "import io"
      ],
      "execution_count": 6,
      "outputs": []
    },
    {
      "cell_type": "markdown",
      "metadata": {
        "colab_type": "text",
        "id": "_88voqAH-O6J"
      },
      "source": [
        "## Question 1"
      ]
    },
    {
      "cell_type": "markdown",
      "metadata": {
        "colab_type": "text",
        "id": "dRHCeJqP-evf"
      },
      "source": [
        "### Load the data\n",
        "- load the csv file and read it using pandas\n",
        "- file name is prices.csv"
      ]
    },
    {
      "cell_type": "code",
      "metadata": {
        "colab_type": "code",
        "id": "cKVH5v7r-RmC",
        "colab": {
          "resources": {
            "http://localhost:8080/nbextensions/google.colab/files.js": {
              "data": "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",
              "ok": true,
              "headers": [
                [
                  "content-type",
                  "application/javascript"
                ]
              ],
              "status": 200,
              "status_text": ""
            }
          },
          "base_uri": "https://localhost:8080/",
          "height": 73
        },
        "outputId": "8c546e29-d56f-4f4a-9ea6-a73ead72a519"
      },
      "source": [
        "# run this cell to upload file using GUI if you are using google colab\n",
        "\n",
        "from google.colab import files\n",
        "uploaded = files.upload()"
      ],
      "execution_count": 2,
      "outputs": [
        {
          "output_type": "display_data",
          "data": {
            "text/html": [
              "\n",
              "     <input type=\"file\" id=\"files-68cbfca7-962f-469d-8a53-ceb1d869fac8\" name=\"files[]\" multiple disabled\n",
              "        style=\"border:none\" />\n",
              "     <output id=\"result-68cbfca7-962f-469d-8a53-ceb1d869fac8\">\n",
              "      Upload widget is only available when the cell has been executed in the\n",
              "      current browser session. Please rerun this cell to enable.\n",
              "      </output>\n",
              "      <script src=\"/nbextensions/google.colab/files.js\"></script> "
            ],
            "text/plain": [
              "<IPython.core.display.HTML object>"
            ]
          },
          "metadata": {
            "tags": []
          }
        },
        {
          "output_type": "stream",
          "text": [
            "Saving prices.csv to prices.csv\n"
          ],
          "name": "stdout"
        }
      ]
    },
    {
      "cell_type": "code",
      "metadata": {
        "colab_type": "code",
        "id": "Gr4YcffYd1FQ",
        "colab": {}
      },
      "source": [
        "# run this cell to to mount the google drive if you are using google colab\n",
        "\n",
        "from google.colab import drive\n",
        "drive.mount('/content/drive/My Drive/')"
      ],
      "execution_count": null,
      "outputs": []
    },
    {
      "cell_type": "code",
      "metadata": {
        "id": "FkLUC7Rs90tX",
        "colab_type": "code",
        "colab": {}
      },
      "source": [
        "#loading the data\n",
        "df = pd.read_csv(io.StringIO(uploaded['prices.csv'].decode('utf-8')))"
      ],
      "execution_count": 7,
      "outputs": []
    },
    {
      "cell_type": "markdown",
      "metadata": {
        "colab_type": "text",
        "id": "HlLKVPVH_BCT"
      },
      "source": [
        "## Question 2"
      ]
    },
    {
      "cell_type": "markdown",
      "metadata": {
        "colab_type": "text",
        "id": "ZxoGynuBeO4t"
      },
      "source": [
        "### Drop null\n",
        "- Drop null values if any"
      ]
    },
    {
      "cell_type": "code",
      "metadata": {
        "colab_type": "code",
        "id": "_yuwJJIeeUaD",
        "colab": {
          "base_uri": "https://localhost:8080/",
          "height": 35
        },
        "outputId": "b2e604a3-5492-4444-a8fd-c5de10b323c9"
      },
      "source": [
        "#checking the shape\n",
        "df.shape"
      ],
      "execution_count": 8,
      "outputs": [
        {
          "output_type": "execute_result",
          "data": {
            "text/plain": [
              "(851264, 7)"
            ]
          },
          "metadata": {
            "tags": []
          },
          "execution_count": 8
        }
      ]
    },
    {
      "cell_type": "code",
      "metadata": {
        "id": "RarFB4vePBC9",
        "colab_type": "code",
        "colab": {
          "base_uri": "https://localhost:8080/",
          "height": 260
        },
        "outputId": "d47dcd6c-1c05-4fa9-a583-ef563deffa08"
      },
      "source": [
        "#checking the info\n",
        "df.info()"
      ],
      "execution_count": 9,
      "outputs": [
        {
          "output_type": "stream",
          "text": [
            "<class 'pandas.core.frame.DataFrame'>\n",
            "RangeIndex: 851264 entries, 0 to 851263\n",
            "Data columns (total 7 columns):\n",
            " #   Column  Non-Null Count   Dtype  \n",
            "---  ------  --------------   -----  \n",
            " 0   date    851264 non-null  object \n",
            " 1   symbol  851264 non-null  object \n",
            " 2   open    851264 non-null  float64\n",
            " 3   close   851264 non-null  float64\n",
            " 4   low     851264 non-null  float64\n",
            " 5   high    851264 non-null  float64\n",
            " 6   volume  851264 non-null  float64\n",
            "dtypes: float64(5), object(2)\n",
            "memory usage: 45.5+ MB\n"
          ],
          "name": "stdout"
        }
      ]
    },
    {
      "cell_type": "code",
      "metadata": {
        "id": "duMOANb7PBrZ",
        "colab_type": "code",
        "colab": {
          "base_uri": "https://localhost:8080/",
          "height": 156
        },
        "outputId": "aee56fe3-8022-494f-f962-aa826ae32ddf"
      },
      "source": [
        "#checking is there is any null\n",
        "df.isna().sum()"
      ],
      "execution_count": 10,
      "outputs": [
        {
          "output_type": "execute_result",
          "data": {
            "text/plain": [
              "date      0\n",
              "symbol    0\n",
              "open      0\n",
              "close     0\n",
              "low       0\n",
              "high      0\n",
              "volume    0\n",
              "dtype: int64"
            ]
          },
          "metadata": {
            "tags": []
          },
          "execution_count": 10
        }
      ]
    },
    {
      "cell_type": "code",
      "metadata": {
        "id": "7XVPGy_qPB4O",
        "colab_type": "code",
        "colab": {
          "base_uri": "https://localhost:8080/",
          "height": 202
        },
        "outputId": "cfb34249-8514-4bf7-9141-84af8a808bba"
      },
      "source": [
        "#priting the data\n",
        "df.head()"
      ],
      "execution_count": 11,
      "outputs": [
        {
          "output_type": "execute_result",
          "data": {
            "text/html": [
              "<div>\n",
              "<style scoped>\n",
              "    .dataframe tbody tr th:only-of-type {\n",
              "        vertical-align: middle;\n",
              "    }\n",
              "\n",
              "    .dataframe tbody tr th {\n",
              "        vertical-align: top;\n",
              "    }\n",
              "\n",
              "    .dataframe thead th {\n",
              "        text-align: right;\n",
              "    }\n",
              "</style>\n",
              "<table border=\"1\" class=\"dataframe\">\n",
              "  <thead>\n",
              "    <tr style=\"text-align: right;\">\n",
              "      <th></th>\n",
              "      <th>date</th>\n",
              "      <th>symbol</th>\n",
              "      <th>open</th>\n",
              "      <th>close</th>\n",
              "      <th>low</th>\n",
              "      <th>high</th>\n",
              "      <th>volume</th>\n",
              "    </tr>\n",
              "  </thead>\n",
              "  <tbody>\n",
              "    <tr>\n",
              "      <th>0</th>\n",
              "      <td>2016-01-05 00:00:00</td>\n",
              "      <td>WLTW</td>\n",
              "      <td>123.430000</td>\n",
              "      <td>125.839996</td>\n",
              "      <td>122.309998</td>\n",
              "      <td>126.250000</td>\n",
              "      <td>2163600.0</td>\n",
              "    </tr>\n",
              "    <tr>\n",
              "      <th>1</th>\n",
              "      <td>2016-01-06 00:00:00</td>\n",
              "      <td>WLTW</td>\n",
              "      <td>125.239998</td>\n",
              "      <td>119.980003</td>\n",
              "      <td>119.940002</td>\n",
              "      <td>125.540001</td>\n",
              "      <td>2386400.0</td>\n",
              "    </tr>\n",
              "    <tr>\n",
              "      <th>2</th>\n",
              "      <td>2016-01-07 00:00:00</td>\n",
              "      <td>WLTW</td>\n",
              "      <td>116.379997</td>\n",
              "      <td>114.949997</td>\n",
              "      <td>114.930000</td>\n",
              "      <td>119.739998</td>\n",
              "      <td>2489500.0</td>\n",
              "    </tr>\n",
              "    <tr>\n",
              "      <th>3</th>\n",
              "      <td>2016-01-08 00:00:00</td>\n",
              "      <td>WLTW</td>\n",
              "      <td>115.480003</td>\n",
              "      <td>116.620003</td>\n",
              "      <td>113.500000</td>\n",
              "      <td>117.440002</td>\n",
              "      <td>2006300.0</td>\n",
              "    </tr>\n",
              "    <tr>\n",
              "      <th>4</th>\n",
              "      <td>2016-01-11 00:00:00</td>\n",
              "      <td>WLTW</td>\n",
              "      <td>117.010002</td>\n",
              "      <td>114.970001</td>\n",
              "      <td>114.089996</td>\n",
              "      <td>117.330002</td>\n",
              "      <td>1408600.0</td>\n",
              "    </tr>\n",
              "  </tbody>\n",
              "</table>\n",
              "</div>"
            ],
            "text/plain": [
              "                  date symbol        open  ...         low        high     volume\n",
              "0  2016-01-05 00:00:00   WLTW  123.430000  ...  122.309998  126.250000  2163600.0\n",
              "1  2016-01-06 00:00:00   WLTW  125.239998  ...  119.940002  125.540001  2386400.0\n",
              "2  2016-01-07 00:00:00   WLTW  116.379997  ...  114.930000  119.739998  2489500.0\n",
              "3  2016-01-08 00:00:00   WLTW  115.480003  ...  113.500000  117.440002  2006300.0\n",
              "4  2016-01-11 00:00:00   WLTW  117.010002  ...  114.089996  117.330002  1408600.0\n",
              "\n",
              "[5 rows x 7 columns]"
            ]
          },
          "metadata": {
            "tags": []
          },
          "execution_count": 11
        }
      ]
    },
    {
      "cell_type": "markdown",
      "metadata": {
        "colab_type": "text",
        "id": "9J4BlzVA_gZd"
      },
      "source": [
        "### Drop columns\n",
        "- Now, we don't need \"date\", \"volume\" and \"symbol\" column\n",
        "- drop \"date\", \"volume\" and \"symbol\" column from the data\n"
      ]
    },
    {
      "cell_type": "code",
      "metadata": {
        "id": "NEGS-LX4PAPU",
        "colab_type": "code",
        "colab": {}
      },
      "source": [
        "#droppign the columns\n",
        "newstockdf = df.drop(['date','volume','symbol'],axis =1 )"
      ],
      "execution_count": 13,
      "outputs": []
    },
    {
      "cell_type": "code",
      "metadata": {
        "id": "jDcACJ_HPAb9",
        "colab_type": "code",
        "colab": {}
      },
      "source": [
        ""
      ],
      "execution_count": null,
      "outputs": []
    },
    {
      "cell_type": "code",
      "metadata": {
        "colab_type": "code",
        "id": "IKEK8aEE_Csx",
        "colab": {}
      },
      "source": [
        ""
      ],
      "execution_count": null,
      "outputs": []
    },
    {
      "cell_type": "markdown",
      "metadata": {
        "colab_type": "text",
        "id": "cTPhO6v-AiZt"
      },
      "source": [
        "## Question 3"
      ]
    },
    {
      "cell_type": "markdown",
      "metadata": {
        "colab_type": "text",
        "id": "SsZXmF3NAkna"
      },
      "source": [
        "### Print the dataframe\n",
        "- print the modified dataframe"
      ]
    },
    {
      "cell_type": "code",
      "metadata": {
        "colab_type": "code",
        "id": "aKs04iIHAjxN",
        "colab": {
          "base_uri": "https://localhost:8080/",
          "height": 202
        },
        "outputId": "d6a2e968-b83d-445e-8ead-bc59b108d221"
      },
      "source": [
        "#printing the modified data\n",
        "newstockdf.tail()"
      ],
      "execution_count": 15,
      "outputs": [
        {
          "output_type": "execute_result",
          "data": {
            "text/html": [
              "<div>\n",
              "<style scoped>\n",
              "    .dataframe tbody tr th:only-of-type {\n",
              "        vertical-align: middle;\n",
              "    }\n",
              "\n",
              "    .dataframe tbody tr th {\n",
              "        vertical-align: top;\n",
              "    }\n",
              "\n",
              "    .dataframe thead th {\n",
              "        text-align: right;\n",
              "    }\n",
              "</style>\n",
              "<table border=\"1\" class=\"dataframe\">\n",
              "  <thead>\n",
              "    <tr style=\"text-align: right;\">\n",
              "      <th></th>\n",
              "      <th>open</th>\n",
              "      <th>close</th>\n",
              "      <th>low</th>\n",
              "      <th>high</th>\n",
              "    </tr>\n",
              "  </thead>\n",
              "  <tbody>\n",
              "    <tr>\n",
              "      <th>851259</th>\n",
              "      <td>103.309998</td>\n",
              "      <td>103.199997</td>\n",
              "      <td>102.849998</td>\n",
              "      <td>103.930000</td>\n",
              "    </tr>\n",
              "    <tr>\n",
              "      <th>851260</th>\n",
              "      <td>43.070000</td>\n",
              "      <td>43.040001</td>\n",
              "      <td>42.689999</td>\n",
              "      <td>43.310001</td>\n",
              "    </tr>\n",
              "    <tr>\n",
              "      <th>851261</th>\n",
              "      <td>53.639999</td>\n",
              "      <td>53.529999</td>\n",
              "      <td>53.270000</td>\n",
              "      <td>53.740002</td>\n",
              "    </tr>\n",
              "    <tr>\n",
              "      <th>851262</th>\n",
              "      <td>44.730000</td>\n",
              "      <td>45.450001</td>\n",
              "      <td>44.410000</td>\n",
              "      <td>45.590000</td>\n",
              "    </tr>\n",
              "    <tr>\n",
              "      <th>851263</th>\n",
              "      <td>54.200001</td>\n",
              "      <td>53.630001</td>\n",
              "      <td>53.389999</td>\n",
              "      <td>54.480000</td>\n",
              "    </tr>\n",
              "  </tbody>\n",
              "</table>\n",
              "</div>"
            ],
            "text/plain": [
              "              open       close         low        high\n",
              "851259  103.309998  103.199997  102.849998  103.930000\n",
              "851260   43.070000   43.040001   42.689999   43.310001\n",
              "851261   53.639999   53.529999   53.270000   53.740002\n",
              "851262   44.730000   45.450001   44.410000   45.590000\n",
              "851263   54.200001   53.630001   53.389999   54.480000"
            ]
          },
          "metadata": {
            "tags": []
          },
          "execution_count": 15
        }
      ]
    },
    {
      "cell_type": "code",
      "metadata": {
        "colab_type": "code",
        "id": "fkAavkExPS3u",
        "colab": {
          "base_uri": "https://localhost:8080/",
          "height": 202
        },
        "outputId": "fc015ccd-66c8-4d92-ccf7-4a2fb6c8c240"
      },
      "source": [
        "newstockdf.head()"
      ],
      "execution_count": 14,
      "outputs": [
        {
          "output_type": "execute_result",
          "data": {
            "text/html": [
              "<div>\n",
              "<style scoped>\n",
              "    .dataframe tbody tr th:only-of-type {\n",
              "        vertical-align: middle;\n",
              "    }\n",
              "\n",
              "    .dataframe tbody tr th {\n",
              "        vertical-align: top;\n",
              "    }\n",
              "\n",
              "    .dataframe thead th {\n",
              "        text-align: right;\n",
              "    }\n",
              "</style>\n",
              "<table border=\"1\" class=\"dataframe\">\n",
              "  <thead>\n",
              "    <tr style=\"text-align: right;\">\n",
              "      <th></th>\n",
              "      <th>open</th>\n",
              "      <th>close</th>\n",
              "      <th>low</th>\n",
              "      <th>high</th>\n",
              "    </tr>\n",
              "  </thead>\n",
              "  <tbody>\n",
              "    <tr>\n",
              "      <th>0</th>\n",
              "      <td>123.430000</td>\n",
              "      <td>125.839996</td>\n",
              "      <td>122.309998</td>\n",
              "      <td>126.250000</td>\n",
              "    </tr>\n",
              "    <tr>\n",
              "      <th>1</th>\n",
              "      <td>125.239998</td>\n",
              "      <td>119.980003</td>\n",
              "      <td>119.940002</td>\n",
              "      <td>125.540001</td>\n",
              "    </tr>\n",
              "    <tr>\n",
              "      <th>2</th>\n",
              "      <td>116.379997</td>\n",
              "      <td>114.949997</td>\n",
              "      <td>114.930000</td>\n",
              "      <td>119.739998</td>\n",
              "    </tr>\n",
              "    <tr>\n",
              "      <th>3</th>\n",
              "      <td>115.480003</td>\n",
              "      <td>116.620003</td>\n",
              "      <td>113.500000</td>\n",
              "      <td>117.440002</td>\n",
              "    </tr>\n",
              "    <tr>\n",
              "      <th>4</th>\n",
              "      <td>117.010002</td>\n",
              "      <td>114.970001</td>\n",
              "      <td>114.089996</td>\n",
              "      <td>117.330002</td>\n",
              "    </tr>\n",
              "  </tbody>\n",
              "</table>\n",
              "</div>"
            ],
            "text/plain": [
              "         open       close         low        high\n",
              "0  123.430000  125.839996  122.309998  126.250000\n",
              "1  125.239998  119.980003  119.940002  125.540001\n",
              "2  116.379997  114.949997  114.930000  119.739998\n",
              "3  115.480003  116.620003  113.500000  117.440002\n",
              "4  117.010002  114.970001  114.089996  117.330002"
            ]
          },
          "metadata": {
            "tags": []
          },
          "execution_count": 14
        }
      ]
    },
    {
      "cell_type": "markdown",
      "metadata": {
        "colab_type": "text",
        "id": "C8u_jlbABTip"
      },
      "source": [
        "### Get features and label from the dataset in separate variable\n",
        "- Let's separate labels and features now. We are going to predict the value for \"close\" column so that will be our label. Our features will be \"open\", \"low\", \"high\"\n",
        "- Take \"open\" \"low\", \"high\" columns as features\n",
        "- Take \"close\" column as label"
      ]
    },
    {
      "cell_type": "code",
      "metadata": {
        "colab_type": "code",
        "id": "xQjCMzUXBJbg",
        "colab": {}
      },
      "source": [
        "#forming train and test data\n",
        "X = newstockdf[['open','low','high']]\n",
        "y= newstockdf[['close']]\n"
      ],
      "execution_count": 16,
      "outputs": []
    },
    {
      "cell_type": "markdown",
      "metadata": {
        "colab_type": "text",
        "id": "6vGtnapgBIJm"
      },
      "source": [
        "## Question 4"
      ]
    },
    {
      "cell_type": "markdown",
      "metadata": {
        "colab_type": "text",
        "id": "8pZAKdJ5gcrm"
      },
      "source": [
        "### Create train and test sets\n",
        "- Split the data into training and testing"
      ]
    },
    {
      "cell_type": "code",
      "metadata": {
        "colab_type": "code",
        "id": "KalRqA6Rgqsn",
        "colab": {
          "base_uri": "https://localhost:8080/",
          "height": 35
        },
        "outputId": "6b299ef3-cff1-4368-823f-9b52b29964cd"
      },
      "source": [
        "from sklearn.model_selection import train_test_split\n",
        "from sklearn.preprocessing import StandardScaler\n",
        "import numpy as np\n",
        "import tensorflow as tf\n",
        "from keras.models import Sequential\n",
        "from keras.layers import Dense, Dropout, BatchNormalization,Flatten\n",
        "from sklearn.model_selection import GridSearchCV\n",
        "from sklearn.model_selection import RandomizedSearchCV\n",
        "import matplotlib.pyplot as plt\n",
        "from keras.optimizers import SGD\n",
        "import keras"
      ],
      "execution_count": 25,
      "outputs": [
        {
          "output_type": "stream",
          "text": [
            "Using TensorFlow backend.\n"
          ],
          "name": "stderr"
        }
      ]
    },
    {
      "cell_type": "code",
      "metadata": {
        "id": "8yUsfmUbPlOm",
        "colab_type": "code",
        "colab": {}
      },
      "source": [
        "#doing train test split\n",
        "X_train , X_test , y_train, y_test = train_test_split(X, y, test_size=0.20, random_state = 1)"
      ],
      "execution_count": 19,
      "outputs": []
    },
    {
      "cell_type": "markdown",
      "metadata": {
        "colab_type": "text",
        "id": "aTAKzlxZBz0z"
      },
      "source": [
        "## Question 5"
      ]
    },
    {
      "cell_type": "markdown",
      "metadata": {
        "colab_type": "text",
        "id": "O7BU2qxEg0Ki"
      },
      "source": [
        "### Scaling\n",
        "- Scale the data (features only)\n",
        "- Use StandarScaler"
      ]
    },
    {
      "cell_type": "code",
      "metadata": {
        "colab_type": "code",
        "id": "AcO8SlhPhBkR",
        "colab": {}
      },
      "source": [
        "#scaling the data\n",
        "sc = StandardScaler()\n",
        "X_trainsc = sc.fit_transform(X_train)\n",
        "X_testsc = sc.transform(X_test)"
      ],
      "execution_count": 27,
      "outputs": []
    },
    {
      "cell_type": "markdown",
      "metadata": {
        "colab_type": "text",
        "id": "3TWpN0nVTpUx"
      },
      "source": [
        "## Question 6"
      ]
    },
    {
      "cell_type": "markdown",
      "metadata": {
        "colab_type": "text",
        "id": "_sj0LYNkhR-L"
      },
      "source": [
        "### Convert data to NumPy array\n",
        "- Convert features and labels to numpy array"
      ]
    },
    {
      "cell_type": "code",
      "metadata": {
        "colab_type": "code",
        "id": "X6mIfuTxhbTT",
        "colab": {}
      },
      "source": [
        "#converting feature into numpy array\n",
        "y_train = np.array(y_train)\n"
      ],
      "execution_count": 28,
      "outputs": []
    },
    {
      "cell_type": "code",
      "metadata": {
        "colab_type": "code",
        "id": "K4rYLZylP4fo",
        "colab": {}
      },
      "source": [
        "y_test = np.array(y_test)"
      ],
      "execution_count": 39,
      "outputs": []
    },
    {
      "cell_type": "markdown",
      "metadata": {
        "colab_type": "text",
        "id": "wmXUGc2oTspa"
      },
      "source": [
        "## Question 7"
      ]
    },
    {
      "cell_type": "markdown",
      "metadata": {
        "colab_type": "text",
        "id": "cl2M9whFh6mh"
      },
      "source": [
        "### Define Model\n",
        "- Initialize a Sequential model\n",
        "- Add a Flatten layer\n",
        "- Add a Dense layer with one neuron as output\n",
        "  - add 'linear' as activation function\n"
      ]
    },
    {
      "cell_type": "code",
      "metadata": {
        "colab_type": "code",
        "id": "TkiBpORmiegL",
        "colab": {}
      },
      "source": [
        "#intializing the model\n",
        "model = tf.keras.Sequential()"
      ],
      "execution_count": 120,
      "outputs": []
    },
    {
      "cell_type": "code",
      "metadata": {
        "id": "rUlrHFhPQ6IV",
        "colab_type": "code",
        "colab": {}
      },
      "source": [
        "model.add(tf.keras.layers.Flatten(input_shape=(3,)))\n",
        "model.add(tf.keras.layers.Dense(1, activation='linear'))"
      ],
      "execution_count": 121,
      "outputs": []
    },
    {
      "cell_type": "markdown",
      "metadata": {
        "colab_type": "text",
        "id": "8a0wr94aTyjg"
      },
      "source": [
        "## Question 8"
      ]
    },
    {
      "cell_type": "markdown",
      "metadata": {
        "colab_type": "text",
        "id": "BNZPb5lKioX0"
      },
      "source": [
        "### Compile the model\n",
        "- Compile the model\n",
        "- Use \"sgd\" optimizer\n",
        "- for calculating loss, use mean squared error"
      ]
    },
    {
      "cell_type": "code",
      "metadata": {
        "colab_type": "code",
        "id": "ZEQUP3VaiuT2",
        "colab": {}
      },
      "source": [
        "model.compile(optimizer='sgd',loss=tf.keras.losses.MeanSquaredError())\n"
      ],
      "execution_count": 122,
      "outputs": []
    },
    {
      "cell_type": "markdown",
      "metadata": {
        "colab_type": "text",
        "id": "ZbBpnOtfT0wd"
      },
      "source": [
        "## Question 9"
      ]
    },
    {
      "cell_type": "markdown",
      "metadata": {
        "colab_type": "text",
        "id": "n9o45OHdjDhA"
      },
      "source": [
        "### Fit the model\n",
        "- epochs: 50\n",
        "- batch size: 128\n",
        "- specify validation data"
      ]
    },
    {
      "cell_type": "code",
      "metadata": {
        "colab_type": "code",
        "id": "-Y6tA30XjOH2",
        "colab": {
          "base_uri": "https://localhost:8080/",
          "height": 1000
        },
        "outputId": "070ff206-85ce-4b73-cfc1-17a4cf1eb012"
      },
      "source": [
        "#fitting the model with 50 epochs and batch_size 128\n",
        "output = model.fit(X_trainsc, y_train , validation_data= (X_testsc, y_test), epochs = 50,batch_size=128)"
      ],
      "execution_count": 123,
      "outputs": [
        {
          "output_type": "stream",
          "text": [
            "Epoch 1/50\n",
            "5321/5321 [==============================] - 14s 3ms/step - loss: 36.1073 - val_loss: 1.0744\n",
            "Epoch 2/50\n",
            "5321/5321 [==============================] - 15s 3ms/step - loss: 0.9631 - val_loss: 0.9971\n",
            "Epoch 3/50\n",
            "5321/5321 [==============================] - 15s 3ms/step - loss: 0.9559 - val_loss: 1.0065\n",
            "Epoch 4/50\n",
            "5321/5321 [==============================] - 15s 3ms/step - loss: 0.9472 - val_loss: 0.9839\n",
            "Epoch 5/50\n",
            "5321/5321 [==============================] - 15s 3ms/step - loss: 0.9400 - val_loss: 0.9921\n",
            "Epoch 6/50\n",
            "5321/5321 [==============================] - 14s 3ms/step - loss: 0.9314 - val_loss: 0.9744\n",
            "Epoch 7/50\n",
            "5321/5321 [==============================] - 14s 3ms/step - loss: 0.9254 - val_loss: 0.9777\n",
            "Epoch 8/50\n",
            "5321/5321 [==============================] - 14s 3ms/step - loss: 0.9169 - val_loss: 0.9696\n",
            "Epoch 9/50\n",
            "5321/5321 [==============================] - 15s 3ms/step - loss: 0.9098 - val_loss: 0.9432\n",
            "Epoch 10/50\n",
            "5321/5321 [==============================] - 15s 3ms/step - loss: 0.9039 - val_loss: 0.9693\n",
            "Epoch 11/50\n",
            "5321/5321 [==============================] - 14s 3ms/step - loss: 0.8987 - val_loss: 0.9317\n",
            "Epoch 12/50\n",
            "5321/5321 [==============================] - 15s 3ms/step - loss: 0.8895 - val_loss: 0.9445\n",
            "Epoch 13/50\n",
            "5321/5321 [==============================] - 14s 3ms/step - loss: 0.8823 - val_loss: 0.9155\n",
            "Epoch 14/50\n",
            "5321/5321 [==============================] - 14s 3ms/step - loss: 0.8756 - val_loss: 1.0158\n",
            "Epoch 15/50\n",
            "5321/5321 [==============================] - 14s 3ms/step - loss: 0.8708 - val_loss: 0.9077\n",
            "Epoch 16/50\n",
            "5321/5321 [==============================] - 15s 3ms/step - loss: 0.8646 - val_loss: 0.8978\n",
            "Epoch 17/50\n",
            "5321/5321 [==============================] - 14s 3ms/step - loss: 0.8565 - val_loss: 0.8911\n",
            "Epoch 18/50\n",
            "5321/5321 [==============================] - 14s 3ms/step - loss: 0.8512 - val_loss: 0.8978\n",
            "Epoch 19/50\n",
            "5321/5321 [==============================] - 14s 3ms/step - loss: 0.8451 - val_loss: 0.9259\n",
            "Epoch 20/50\n",
            "5321/5321 [==============================] - 14s 3ms/step - loss: 0.8386 - val_loss: 0.8715\n",
            "Epoch 21/50\n",
            "5321/5321 [==============================] - 14s 3ms/step - loss: 0.8334 - val_loss: 0.8646\n",
            "Epoch 22/50\n",
            "5321/5321 [==============================] - 14s 3ms/step - loss: 0.8265 - val_loss: 0.8656\n",
            "Epoch 23/50\n",
            "5321/5321 [==============================] - 14s 3ms/step - loss: 0.8221 - val_loss: 0.8562\n",
            "Epoch 24/50\n",
            "5321/5321 [==============================] - 15s 3ms/step - loss: 0.8153 - val_loss: 0.8544\n",
            "Epoch 25/50\n",
            "5321/5321 [==============================] - 14s 3ms/step - loss: 0.8091 - val_loss: 0.8412\n",
            "Epoch 26/50\n",
            "5321/5321 [==============================] - 15s 3ms/step - loss: 0.8046 - val_loss: 0.8657\n",
            "Epoch 27/50\n",
            "5321/5321 [==============================] - 14s 3ms/step - loss: 0.7999 - val_loss: 0.8423\n",
            "Epoch 28/50\n",
            "5321/5321 [==============================] - 14s 3ms/step - loss: 0.7930 - val_loss: 0.8271\n",
            "Epoch 29/50\n",
            "5321/5321 [==============================] - 14s 3ms/step - loss: 0.7882 - val_loss: 0.8338\n",
            "Epoch 30/50\n",
            "5321/5321 [==============================] - 14s 3ms/step - loss: 0.7827 - val_loss: 0.8127\n",
            "Epoch 31/50\n",
            "5321/5321 [==============================] - 14s 3ms/step - loss: 0.7773 - val_loss: 0.8164\n",
            "Epoch 32/50\n",
            "5321/5321 [==============================] - 14s 3ms/step - loss: 0.7717 - val_loss: 0.8162\n",
            "Epoch 33/50\n",
            "5321/5321 [==============================] - 14s 3ms/step - loss: 0.7674 - val_loss: 0.8101\n",
            "Epoch 34/50\n",
            "5321/5321 [==============================] - 15s 3ms/step - loss: 0.7637 - val_loss: 0.8010\n",
            "Epoch 35/50\n",
            "5321/5321 [==============================] - 14s 3ms/step - loss: 0.7580 - val_loss: 0.7923\n",
            "Epoch 36/50\n",
            "5321/5321 [==============================] - 14s 3ms/step - loss: 0.7531 - val_loss: 0.7844\n",
            "Epoch 37/50\n",
            "5321/5321 [==============================] - 14s 3ms/step - loss: 0.7485 - val_loss: 0.7779\n",
            "Epoch 38/50\n",
            "5321/5321 [==============================] - 15s 3ms/step - loss: 0.7433 - val_loss: 0.7732\n",
            "Epoch 39/50\n",
            "5321/5321 [==============================] - 14s 3ms/step - loss: 0.7396 - val_loss: 0.7744\n",
            "Epoch 40/50\n",
            "5321/5321 [==============================] - 14s 3ms/step - loss: 0.7350 - val_loss: 0.7630\n",
            "Epoch 41/50\n",
            "5321/5321 [==============================] - 14s 3ms/step - loss: 0.7303 - val_loss: 0.7600\n",
            "Epoch 42/50\n",
            "5321/5321 [==============================] - 14s 3ms/step - loss: 0.7261 - val_loss: 0.7540\n",
            "Epoch 43/50\n",
            "5321/5321 [==============================] - 14s 3ms/step - loss: 0.7222 - val_loss: 0.7493\n",
            "Epoch 44/50\n",
            "5321/5321 [==============================] - 14s 3ms/step - loss: 0.7168 - val_loss: 0.7521\n",
            "Epoch 45/50\n",
            "5321/5321 [==============================] - 14s 3ms/step - loss: 0.7139 - val_loss: 0.7499\n",
            "Epoch 46/50\n",
            "5321/5321 [==============================] - 14s 3ms/step - loss: 0.7095 - val_loss: 0.7561\n",
            "Epoch 47/50\n",
            "5321/5321 [==============================] - 14s 3ms/step - loss: 0.7042 - val_loss: 0.7321\n",
            "Epoch 48/50\n",
            "5321/5321 [==============================] - 14s 3ms/step - loss: 0.7008 - val_loss: 0.7501\n",
            "Epoch 49/50\n",
            "5321/5321 [==============================] - 14s 3ms/step - loss: 0.6964 - val_loss: 0.7239\n",
            "Epoch 50/50\n",
            "5321/5321 [==============================] - 14s 3ms/step - loss: 0.6926 - val_loss: 0.7312\n"
          ],
          "name": "stdout"
        }
      ]
    },
    {
      "cell_type": "markdown",
      "metadata": {
        "colab_type": "text",
        "id": "AW4SEP8kT2ls"
      },
      "source": [
        "## Question 10"
      ]
    },
    {
      "cell_type": "markdown",
      "metadata": {
        "colab_type": "text",
        "id": "EJDoix_7JU61"
      },
      "source": [
        "### Evaluate the model\n",
        "- Evaluate the model on test data"
      ]
    },
    {
      "cell_type": "code",
      "metadata": {
        "colab_type": "code",
        "id": "HdH8pYBIjHGL",
        "colab": {
          "base_uri": "https://localhost:8080/",
          "height": 35
        },
        "outputId": "e280a2b0-a100-48ce-9445-4db159fa671f"
      },
      "source": [
        "#evaluating the model\n",
        "trainloss = model.evaluate(X_trainsc, y_train, verbose=0)\n",
        "trainloss"
      ],
      "execution_count": 124,
      "outputs": [
        {
          "output_type": "execute_result",
          "data": {
            "text/plain": [
              "0.6943287253379822"
            ]
          },
          "metadata": {
            "tags": []
          },
          "execution_count": 124
        }
      ]
    },
    {
      "cell_type": "code",
      "metadata": {
        "id": "pPWW0Yy4bNUO",
        "colab_type": "code",
        "colab": {
          "base_uri": "https://localhost:8080/",
          "height": 35
        },
        "outputId": "9f5b79cc-3d85-443a-f588-73fa898f0432"
      },
      "source": [
        "testloss = model.evaluate(X_testsc, y_test, verbose=0)\n",
        "testloss"
      ],
      "execution_count": 125,
      "outputs": [
        {
          "output_type": "execute_result",
          "data": {
            "text/plain": [
              "0.7311927676200867"
            ]
          },
          "metadata": {
            "tags": []
          },
          "execution_count": 125
        }
      ]
    },
    {
      "cell_type": "code",
      "metadata": {
        "id": "VLUR4_zzb3Fr",
        "colab_type": "code",
        "colab": {
          "base_uri": "https://localhost:8080/",
          "height": 195
        },
        "outputId": "17aa2107-881d-4117-fe63-3344c9ae91c6"
      },
      "source": [
        "from matplotlib import pyplot\n",
        "pyplot.subplot(211)\n",
        "pyplot.title('Loss')\n",
        "pyplot.plot(output.history['loss'], label='train')\n",
        "pyplot.plot(output.history['val_loss'], label='test')\n",
        "pyplot.xlabel('epochs')\n",
        "pyplot.ylabel('error')"
      ],
      "execution_count": 152,
      "outputs": [
        {
          "output_type": "execute_result",
          "data": {
            "text/plain": [
              "Text(0, 0.5, 'error')"
            ]
          },
          "metadata": {
            "tags": []
          },
          "execution_count": 152
        },
        {
          "output_type": "display_data",
          "data": {
            "image/png": "[encoded data removed]",
            "text/plain": [
              "<Figure size 432x288 with 1 Axes>"
            ]
          },
          "metadata": {
            "tags": [],
            "needs_background": "light"
          }
        }
      ]
    },
    {
      "cell_type": "markdown",
      "metadata": {
        "colab_type": "text",
        "id": "hUpDD74Xjh01"
      },
      "source": [
        "### Manual predictions\n",
        "- Test the predictions on manual inputs\n",
        "- We have scaled out training data, so we need to transform our custom inputs using the object of the scaler\n",
        "- Example of manual input: [123.430000,\t122.30999, 116.250000]"
      ]
    },
    {
      "cell_type": "code",
      "metadata": {
        "id": "hsg_0CNSdDNh",
        "colab_type": "code",
        "colab": {
          "base_uri": "https://localhost:8080/",
          "height": 156
        },
        "outputId": "53920f97-14c8-4ad8-fb28-eb2539dda2d6"
      },
      "source": [
        "#predicting the test data\n",
        "prediction = model.predict(X_testsc) \n",
        "print(prediction.flatten()) \n",
        "print(y_test)"
      ],
      "execution_count": 127,
      "outputs": [
        {
          "output_type": "stream",
          "text": [
            "[ 40.310207 293.03973   70.77762  ...  45.659233  61.27362   33.33824 ]\n",
            "[[ 40.02    ]\n",
            " [292.440002]\n",
            " [ 71.589996]\n",
            " ...\n",
            " [ 45.639999]\n",
            " [ 61.990002]\n",
            " [ 33.25    ]]\n"
          ],
          "name": "stdout"
        }
      ]
    },
    {
      "cell_type": "code",
      "metadata": {
        "id": "nszMqvv6dMZ0",
        "colab_type": "code",
        "colab": {}
      },
      "source": [
        "maninput = np.array([[123.430000, 122.30999, 116.250000]])"
      ],
      "execution_count": 65,
      "outputs": []
    },
    {
      "cell_type": "code",
      "metadata": {
        "id": "5n7mtKOgdS7M",
        "colab_type": "code",
        "colab": {
          "base_uri": "https://localhost:8080/",
          "height": 35
        },
        "outputId": "8ac391d0-6ea4-48e8-e376-5e0af6b66b17"
      },
      "source": [
        "#withoutscaling the data for manual prediction\n",
        "model.predict(maninput)\n",
        "#sc.transform(maninput)"
      ],
      "execution_count": 128,
      "outputs": [
        {
          "output_type": "execute_result",
          "data": {
            "text/plain": [
              "array([[10077.31]], dtype=float32)"
            ]
          },
          "metadata": {
            "tags": []
          },
          "execution_count": 128
        }
      ]
    },
    {
      "cell_type": "code",
      "metadata": {
        "id": "NIKEhfJVhKED",
        "colab_type": "code",
        "colab": {}
      },
      "source": [
        "#scaling as we have trained data with scaling\n",
        "maninputsc = sc.transform(maninput)"
      ],
      "execution_count": 129,
      "outputs": []
    },
    {
      "cell_type": "code",
      "metadata": {
        "id": "DwWd-pUthKAT",
        "colab_type": "code",
        "colab": {
          "base_uri": "https://localhost:8080/",
          "height": 35
        },
        "outputId": "154f501a-7b3a-455e-e60c-375c2d67514b"
      },
      "source": [
        "model.predict(maninputsc)"
      ],
      "execution_count": 130,
      "outputs": [
        {
          "output_type": "execute_result",
          "data": {
            "text/plain": [
              "array([[119.82937]], dtype=float32)"
            ]
          },
          "metadata": {
            "tags": []
          },
          "execution_count": 130
        }
      ]
    },
    {
      "cell_type": "code",
      "metadata": {
        "id": "DkasBZbOsXP4",
        "colab_type": "code",
        "colab": {
          "base_uri": "https://localhost:8080/",
          "height": 225
        },
        "outputId": "3ee8216d-3de6-48a5-a1cb-5b2142ac57a1"
      },
      "source": [
        "model.summary()"
      ],
      "execution_count": 131,
      "outputs": [
        {
          "output_type": "stream",
          "text": [
            "Model: \"sequential_4\"\n",
            "_________________________________________________________________\n",
            "Layer (type)                 Output Shape              Param #   \n",
            "=================================================================\n",
            "flatten_1 (Flatten)          (None, 3)                 0         \n",
            "_________________________________________________________________\n",
            "dense_12 (Dense)             (None, 1)                 4         \n",
            "=================================================================\n",
            "Total params: 4\n",
            "Trainable params: 4\n",
            "Non-trainable params: 0\n",
            "_________________________________________________________________\n"
          ],
          "name": "stdout"
        }
      ]
    },
    {
      "cell_type": "markdown",
      "metadata": {
        "colab_type": "text",
        "id": "4WH1Pr4KQlCh"
      },
      "source": [
        "# Build a DNN"
      ]
    },
    {
      "cell_type": "code",
      "metadata": {
        "id": "Vufxds5cdSMp",
        "colab_type": "code",
        "colab": {}
      },
      "source": [
        ""
      ],
      "execution_count": null,
      "outputs": []
    },
    {
      "cell_type": "markdown",
      "metadata": {
        "colab_type": "text",
        "id": "74cQBsi5QlCw"
      },
      "source": [
        "### Collect Fashion mnist data from tf.keras.datasets "
      ]
    },
    {
      "cell_type": "code",
      "metadata": {
        "colab_type": "code",
        "id": "wVWy0oDTr2Kj",
        "colab": {
          "base_uri": "https://localhost:8080/",
          "height": 35
        },
        "outputId": "647cbefd-febc-4b5e-9c72-45952a25a966"
      },
      "source": [
        "#collecting fashion_mnist data\n",
        "(trainX, trainY), (testX, testY) = keras.datasets.fashion_mnist.load_data()\n",
        "print('The training features data shape is',trainX.shape)"
      ],
      "execution_count": 84,
      "outputs": [
        {
          "output_type": "stream",
          "text": [
            "The training features data shape is (60000, 28, 28)\n"
          ],
          "name": "stdout"
        }
      ]
    },
    {
      "cell_type": "code",
      "metadata": {
        "id": "WVjrfJ4QjY6W",
        "colab_type": "code",
        "colab": {
          "base_uri": "https://localhost:8080/",
          "height": 52
        },
        "outputId": "a26e94e9-6577-4ccc-ec83-8282740e36cf"
      },
      "source": [
        "print('The testing features data shape is',testX.shape)\n",
        "print(trainY[0:10])"
      ],
      "execution_count": 85,
      "outputs": [
        {
          "output_type": "stream",
          "text": [
            "The testing features data shape is (10000, 28, 28)\n",
            "[9 0 0 3 0 2 7 2 5 5]\n"
          ],
          "name": "stdout"
        }
      ]
    },
    {
      "cell_type": "code",
      "metadata": {
        "id": "BltSX1kDjZqG",
        "colab_type": "code",
        "colab": {}
      },
      "source": [
        ""
      ],
      "execution_count": 85,
      "outputs": []
    },
    {
      "cell_type": "markdown",
      "metadata": {
        "colab_type": "text",
        "id": "no7aWYZyQlC1"
      },
      "source": [
        "### Change train and test labels into one-hot vectors"
      ]
    },
    {
      "cell_type": "code",
      "metadata": {
        "colab_type": "code",
        "id": "UX6otc4wQlC2",
        "colab": {}
      },
      "source": [
        "#converting into one hot vectors\n",
        "trainYn = tf.keras.utils.to_categorical(trainY)"
      ],
      "execution_count": 86,
      "outputs": []
    },
    {
      "cell_type": "code",
      "metadata": {
        "id": "zMtCSIBbj9n9",
        "colab_type": "code",
        "colab": {}
      },
      "source": [
        "testYn = tf.keras.utils.to_categorical(testY)"
      ],
      "execution_count": 87,
      "outputs": []
    },
    {
      "cell_type": "code",
      "metadata": {
        "id": "wTN9iNltj-qX",
        "colab_type": "code",
        "colab": {
          "base_uri": "https://localhost:8080/",
          "height": 121
        },
        "outputId": "2f5f5145-ed5a-4abe-e47f-f54f556990f6"
      },
      "source": [
        "print(trainYn.shape)\n",
        "print('First 5 examples now are: ', trainYn[0:5])"
      ],
      "execution_count": 88,
      "outputs": [
        {
          "output_type": "stream",
          "text": [
            "(60000, 10)\n",
            "First 5 examples now are:  [[0. 0. 0. 0. 0. 0. 0. 0. 0. 1.]\n",
            " [1. 0. 0. 0. 0. 0. 0. 0. 0. 0.]\n",
            " [1. 0. 0. 0. 0. 0. 0. 0. 0. 0.]\n",
            " [0. 0. 0. 1. 0. 0. 0. 0. 0. 0.]\n",
            " [1. 0. 0. 0. 0. 0. 0. 0. 0. 0.]]\n"
          ],
          "name": "stdout"
        }
      ]
    },
    {
      "cell_type": "code",
      "metadata": {
        "id": "M0PiXwsIj_JR",
        "colab_type": "code",
        "colab": {
          "base_uri": "https://localhost:8080/",
          "height": 35
        },
        "outputId": "1b71b633-d479-4130-9dc2-6172efcaaf5e"
      },
      "source": [
        "print(testYn.shape)\n"
      ],
      "execution_count": 89,
      "outputs": [
        {
          "output_type": "stream",
          "text": [
            "(10000, 10)\n"
          ],
          "name": "stdout"
        }
      ]
    },
    {
      "cell_type": "code",
      "metadata": {
        "id": "iw1NV9Qbj_AZ",
        "colab_type": "code",
        "colab": {
          "base_uri": "https://localhost:8080/",
          "height": 35
        },
        "outputId": "a95f1931-6436-426d-bd3c-85d726941db1"
      },
      "source": [
        "print(trainYn.shape)\n"
      ],
      "execution_count": 90,
      "outputs": [
        {
          "output_type": "stream",
          "text": [
            "(60000, 10)\n"
          ],
          "name": "stdout"
        }
      ]
    },
    {
      "cell_type": "code",
      "metadata": {
        "id": "iuIcfcpaj-2v",
        "colab_type": "code",
        "colab": {
          "base_uri": "https://localhost:8080/",
          "height": 35
        },
        "outputId": "84f8aa16-68d2-47d8-e1ed-e96c4be74bd5"
      },
      "source": [
        "print(testY[0:10])#scaling the data between 0 to 1\n",
        "trainX = trainX/255.0\n",
        "testX = testX/255.0"
      ],
      "execution_count": 82,
      "outputs": [
        {
          "output_type": "stream",
          "text": [
            "[9 2 1 1 6 1 4 6 5 7]\n"
          ],
          "name": "stdout"
        }
      ]
    },
    {
      "cell_type": "markdown",
      "metadata": {
        "colab_type": "text",
        "id": "QjNrRTdoQlC5"
      },
      "source": [
        "### Build the Graph"
      ]
    },
    {
      "cell_type": "markdown",
      "metadata": {
        "colab_type": "text",
        "id": "CDJ9DHVNQlC7"
      },
      "source": [
        "### Initialize model, reshape & normalize data"
      ]
    },
    {
      "cell_type": "code",
      "metadata": {
        "colab_type": "code",
        "id": "pCDQs_g1QlC8",
        "colab": {}
      },
      "source": [
        "#intializing the model\n",
        "model1  = tf.keras.Sequential()"
      ],
      "execution_count": 156,
      "outputs": []
    },
    {
      "cell_type": "code",
      "metadata": {
        "id": "IjvgwPKzle9M",
        "colab_type": "code",
        "colab": {}
      },
      "source": [
        "model1.add(tf.keras.layers.Reshape((784,),input_shape=(28,28,)))\n",
        "model1.add(tf.keras.layers.BatchNormalization())"
      ],
      "execution_count": 157,
      "outputs": []
    },
    {
      "cell_type": "code",
      "metadata": {
        "id": "SR_HsqvalmjO",
        "colab_type": "code",
        "colab": {}
      },
      "source": [
        ""
      ],
      "execution_count": 80,
      "outputs": []
    },
    {
      "cell_type": "markdown",
      "metadata": {
        "colab_type": "text",
        "id": "kBGwTTilQlDD"
      },
      "source": [
        "### Add two fully connected layers with 200 and 100 neurons respectively with `relu` activations. Add a dropout layer with `p=0.25`"
      ]
    },
    {
      "cell_type": "code",
      "metadata": {
        "colab_type": "code",
        "id": "IXbfpfOzQlDF",
        "colab": {}
      },
      "source": [
        "#including hidden and dropout layers\n",
        "model1.add(tf.keras.layers.Dense(200, activation='relu'))\n",
        "model1.add(tf.keras.layers.Dropout(0.25))\n",
        "model1.add(tf.keras.layers.Dense(100, activation='relu'))\n",
        "model1.add(tf.keras.layers.Dropout(0.25))"
      ],
      "execution_count": 158,
      "outputs": []
    },
    {
      "cell_type": "markdown",
      "metadata": {
        "colab_type": "text",
        "id": "5I8f5otcQlDJ"
      },
      "source": [
        "### Add the output layer with a fully connected layer with 10 neurons with `softmax` activation. Use `categorical_crossentropy` loss and `adam` optimizer and train the network. And, report the final validation."
      ]
    },
    {
      "cell_type": "code",
      "metadata": {
        "colab_type": "code",
        "id": "JZkvKymSd0Sr",
        "colab": {}
      },
      "source": [
        "#using softmax activation function and optimizer as adam and loss function as categorical crossentropy\n",
        "model1.add(tf.keras.layers.Dense(10, activation='softmax'))\n"
      ],
      "execution_count": 159,
      "outputs": []
    },
    {
      "cell_type": "code",
      "metadata": {
        "id": "rxWo8Ux290uG",
        "colab_type": "code",
        "colab": {}
      },
      "source": [
        "model1.compile(optimizer='adam',loss='categorical_crossentropy',metrics=[\"accuracy\"])"
      ],
      "execution_count": 160,
      "outputs": []
    },
    {
      "cell_type": "code",
      "metadata": {
        "colab_type": "code",
        "id": "WSiMhJPpk3GO",
        "colab": {
          "base_uri": "https://localhost:8080/",
          "height": 1000
        },
        "outputId": "8d65943d-2de1-4c6f-9837-f8b38b2ca2d9"
      },
      "source": [
        "output1 = model1.fit(trainX,trainYn,validation_data=(testX, testYn),epochs=50,batch_size=120)"
      ],
      "execution_count": 161,
      "outputs": [
        {
          "output_type": "stream",
          "text": [
            "Epoch 1/50\n",
            "500/500 [==============================] - 2s 4ms/step - loss: 0.5660 - accuracy: 0.8000 - val_loss: 0.4017 - val_accuracy: 0.8534\n",
            "Epoch 2/50\n",
            "500/500 [==============================] - 2s 4ms/step - loss: 0.4149 - accuracy: 0.8494 - val_loss: 0.3699 - val_accuracy: 0.8639\n",
            "Epoch 3/50\n",
            "500/500 [==============================] - 2s 4ms/step - loss: 0.3718 - accuracy: 0.8647 - val_loss: 0.3668 - val_accuracy: 0.8672\n",
            "Epoch 4/50\n",
            "500/500 [==============================] - 2s 4ms/step - loss: 0.3526 - accuracy: 0.8719 - val_loss: 0.3491 - val_accuracy: 0.8727\n",
            "Epoch 5/50\n",
            "500/500 [==============================] - 2s 4ms/step - loss: 0.3336 - accuracy: 0.8769 - val_loss: 0.3315 - val_accuracy: 0.8779\n",
            "Epoch 6/50\n",
            "500/500 [==============================] - 2s 4ms/step - loss: 0.3155 - accuracy: 0.8837 - val_loss: 0.3281 - val_accuracy: 0.8807\n",
            "Epoch 7/50\n",
            "500/500 [==============================] - 2s 4ms/step - loss: 0.3058 - accuracy: 0.8852 - val_loss: 0.3321 - val_accuracy: 0.8800\n",
            "Epoch 8/50\n",
            "500/500 [==============================] - 2s 4ms/step - loss: 0.2963 - accuracy: 0.8918 - val_loss: 0.3276 - val_accuracy: 0.8791\n",
            "Epoch 9/50\n",
            "500/500 [==============================] - 2s 4ms/step - loss: 0.2851 - accuracy: 0.8936 - val_loss: 0.3235 - val_accuracy: 0.8842\n",
            "Epoch 10/50\n",
            "500/500 [==============================] - 2s 4ms/step - loss: 0.2749 - accuracy: 0.8967 - val_loss: 0.3214 - val_accuracy: 0.8861\n",
            "Epoch 11/50\n",
            "500/500 [==============================] - 2s 4ms/step - loss: 0.2652 - accuracy: 0.9002 - val_loss: 0.3261 - val_accuracy: 0.8823\n",
            "Epoch 12/50\n",
            "500/500 [==============================] - 2s 4ms/step - loss: 0.2623 - accuracy: 0.9015 - val_loss: 0.3146 - val_accuracy: 0.8889\n",
            "Epoch 13/50\n",
            "500/500 [==============================] - 2s 4ms/step - loss: 0.2571 - accuracy: 0.9035 - val_loss: 0.3164 - val_accuracy: 0.8881\n",
            "Epoch 14/50\n",
            "500/500 [==============================] - 2s 4ms/step - loss: 0.2514 - accuracy: 0.9045 - val_loss: 0.3107 - val_accuracy: 0.8879\n",
            "Epoch 15/50\n",
            "500/500 [==============================] - 2s 4ms/step - loss: 0.2426 - accuracy: 0.9082 - val_loss: 0.3043 - val_accuracy: 0.8929\n",
            "Epoch 16/50\n",
            "500/500 [==============================] - 2s 4ms/step - loss: 0.2387 - accuracy: 0.9107 - val_loss: 0.3157 - val_accuracy: 0.8898\n",
            "Epoch 17/50\n",
            "500/500 [==============================] - 2s 4ms/step - loss: 0.2340 - accuracy: 0.9117 - val_loss: 0.3198 - val_accuracy: 0.8915\n",
            "Epoch 18/50\n",
            "500/500 [==============================] - 2s 4ms/step - loss: 0.2289 - accuracy: 0.9145 - val_loss: 0.3240 - val_accuracy: 0.8907\n",
            "Epoch 19/50\n",
            "500/500 [==============================] - 2s 4ms/step - loss: 0.2249 - accuracy: 0.9157 - val_loss: 0.3180 - val_accuracy: 0.8907\n",
            "Epoch 20/50\n",
            "500/500 [==============================] - 2s 4ms/step - loss: 0.2206 - accuracy: 0.9174 - val_loss: 0.3193 - val_accuracy: 0.8906\n",
            "Epoch 21/50\n",
            "500/500 [==============================] - 2s 4ms/step - loss: 0.2165 - accuracy: 0.9189 - val_loss: 0.3181 - val_accuracy: 0.8933\n",
            "Epoch 22/50\n",
            "500/500 [==============================] - 2s 4ms/step - loss: 0.2130 - accuracy: 0.9196 - val_loss: 0.3312 - val_accuracy: 0.8908\n",
            "Epoch 23/50\n",
            "500/500 [==============================] - 2s 4ms/step - loss: 0.2090 - accuracy: 0.9209 - val_loss: 0.3193 - val_accuracy: 0.8914\n",
            "Epoch 24/50\n",
            "500/500 [==============================] - 2s 4ms/step - loss: 0.2037 - accuracy: 0.9226 - val_loss: 0.3337 - val_accuracy: 0.8917\n",
            "Epoch 25/50\n",
            "500/500 [==============================] - 2s 4ms/step - loss: 0.2003 - accuracy: 0.9243 - val_loss: 0.3291 - val_accuracy: 0.8933\n",
            "Epoch 26/50\n",
            "500/500 [==============================] - 2s 4ms/step - loss: 0.2005 - accuracy: 0.9237 - val_loss: 0.3352 - val_accuracy: 0.8913\n",
            "Epoch 27/50\n",
            "500/500 [==============================] - 2s 4ms/step - loss: 0.1965 - accuracy: 0.9245 - val_loss: 0.3351 - val_accuracy: 0.8880\n",
            "Epoch 28/50\n",
            "500/500 [==============================] - 2s 4ms/step - loss: 0.1930 - accuracy: 0.9261 - val_loss: 0.3262 - val_accuracy: 0.8960\n",
            "Epoch 29/50\n",
            "500/500 [==============================] - 2s 4ms/step - loss: 0.1904 - accuracy: 0.9268 - val_loss: 0.3241 - val_accuracy: 0.8932\n",
            "Epoch 30/50\n",
            "500/500 [==============================] - 2s 4ms/step - loss: 0.1869 - accuracy: 0.9287 - val_loss: 0.3366 - val_accuracy: 0.8998\n",
            "Epoch 31/50\n",
            "500/500 [==============================] - 2s 4ms/step - loss: 0.1869 - accuracy: 0.9292 - val_loss: 0.3366 - val_accuracy: 0.8930\n",
            "Epoch 32/50\n",
            "500/500 [==============================] - 2s 4ms/step - loss: 0.1852 - accuracy: 0.9304 - val_loss: 0.3416 - val_accuracy: 0.8929\n",
            "Epoch 33/50\n",
            "500/500 [==============================] - 2s 4ms/step - loss: 0.1845 - accuracy: 0.9306 - val_loss: 0.3449 - val_accuracy: 0.8910\n",
            "Epoch 34/50\n",
            "500/500 [==============================] - 2s 4ms/step - loss: 0.1758 - accuracy: 0.9336 - val_loss: 0.3561 - val_accuracy: 0.8920\n",
            "Epoch 35/50\n",
            "500/500 [==============================] - 2s 4ms/step - loss: 0.1753 - accuracy: 0.9329 - val_loss: 0.3570 - val_accuracy: 0.8931\n",
            "Epoch 36/50\n",
            "500/500 [==============================] - 2s 4ms/step - loss: 0.1763 - accuracy: 0.9329 - val_loss: 0.3417 - val_accuracy: 0.8952\n",
            "Epoch 37/50\n",
            "500/500 [==============================] - 2s 4ms/step - loss: 0.1729 - accuracy: 0.9346 - val_loss: 0.3491 - val_accuracy: 0.8927\n",
            "Epoch 38/50\n",
            "500/500 [==============================] - 2s 4ms/step - loss: 0.1701 - accuracy: 0.9358 - val_loss: 0.3453 - val_accuracy: 0.8984\n",
            "Epoch 39/50\n",
            "500/500 [==============================] - 2s 4ms/step - loss: 0.1667 - accuracy: 0.9363 - val_loss: 0.3507 - val_accuracy: 0.8972\n",
            "Epoch 40/50\n",
            "500/500 [==============================] - 2s 4ms/step - loss: 0.1661 - accuracy: 0.9364 - val_loss: 0.3549 - val_accuracy: 0.8925\n",
            "Epoch 41/50\n",
            "500/500 [==============================] - 2s 4ms/step - loss: 0.1654 - accuracy: 0.9373 - val_loss: 0.3502 - val_accuracy: 0.8932\n",
            "Epoch 42/50\n",
            "500/500 [==============================] - 2s 4ms/step - loss: 0.1632 - accuracy: 0.9380 - val_loss: 0.3470 - val_accuracy: 0.8972\n",
            "Epoch 43/50\n",
            "500/500 [==============================] - 2s 4ms/step - loss: 0.1633 - accuracy: 0.9375 - val_loss: 0.3684 - val_accuracy: 0.8949\n",
            "Epoch 44/50\n",
            "500/500 [==============================] - 2s 4ms/step - loss: 0.1599 - accuracy: 0.9391 - val_loss: 0.3587 - val_accuracy: 0.8965\n",
            "Epoch 45/50\n",
            "500/500 [==============================] - 2s 4ms/step - loss: 0.1586 - accuracy: 0.9401 - val_loss: 0.3627 - val_accuracy: 0.8934\n",
            "Epoch 46/50\n",
            "500/500 [==============================] - 2s 4ms/step - loss: 0.1552 - accuracy: 0.9414 - val_loss: 0.3640 - val_accuracy: 0.8941\n",
            "Epoch 47/50\n",
            "500/500 [==============================] - 2s 4ms/step - loss: 0.1571 - accuracy: 0.9402 - val_loss: 0.3640 - val_accuracy: 0.8947\n",
            "Epoch 48/50\n",
            "500/500 [==============================] - 2s 4ms/step - loss: 0.1554 - accuracy: 0.9415 - val_loss: 0.3577 - val_accuracy: 0.8969\n",
            "Epoch 49/50\n",
            "500/500 [==============================] - 2s 4ms/step - loss: 0.1530 - accuracy: 0.9430 - val_loss: 0.3761 - val_accuracy: 0.8934\n",
            "Epoch 50/50\n",
            "500/500 [==============================] - 2s 4ms/step - loss: 0.1502 - accuracy: 0.9426 - val_loss: 0.3632 - val_accuracy: 0.8978\n"
          ],
          "name": "stdout"
        }
      ]
    },
    {
      "cell_type": "code",
      "metadata": {
        "id": "IXw7B5FA6EZ5",
        "colab_type": "code",
        "colab": {}
      },
      "source": [
        ""
      ],
      "execution_count": null,
      "outputs": []
    },
    {
      "cell_type": "code",
      "metadata": {
        "id": "L7nZC4ImrJ9T",
        "colab_type": "code",
        "colab": {}
      },
      "source": [
        "trainloss, trainaccuracy = model1.evaluate(trainX, trainYn, verbose=0)\n",
        "testloss,testaccuracy = model1.evaluate(testX, testYn, verbose=0)\n"
      ],
      "execution_count": 162,
      "outputs": []
    },
    {
      "cell_type": "code",
      "metadata": {
        "id": "kBRiWygaxUL_",
        "colab_type": "code",
        "colab": {
          "base_uri": "https://localhost:8080/",
          "height": 52
        },
        "outputId": "ca61cebc-7f8e-4a25-adc6-a2a727991cfc"
      },
      "source": [
        "print('Train: %.3f, Test: %.3f loss' % (trainloss, testloss))\n",
        "print('Train: %.3f, Test: %.3f Accuracy' % (trainaccuracy, testaccuracy))"
      ],
      "execution_count": 163,
      "outputs": [
        {
          "output_type": "stream",
          "text": [
            "Train: 0.091, Test: 0.363 loss\n",
            "Train: 0.969, Test: 0.898 Accuracy\n"
          ],
          "name": "stdout"
        }
      ]
    },
    {
      "cell_type": "code",
      "metadata": {
        "id": "VBJTI_unueII",
        "colab_type": "code",
        "colab": {
          "base_uri": "https://localhost:8080/",
          "height": 399
        },
        "outputId": "2831896e-8ca6-4b80-a8ee-4cc3816902e6"
      },
      "source": [
        "model1.summary()\n"
      ],
      "execution_count": 164,
      "outputs": [
        {
          "output_type": "stream",
          "text": [
            "Model: \"sequential_5\"\n",
            "_________________________________________________________________\n",
            "Layer (type)                 Output Shape              Param #   \n",
            "=================================================================\n",
            "reshape_3 (Reshape)          (None, 784)               0         \n",
            "_________________________________________________________________\n",
            "batch_normalization_3 (Batch (None, 784)               3136      \n",
            "_________________________________________________________________\n",
            "dense_13 (Dense)             (None, 200)               157000    \n",
            "_________________________________________________________________\n",
            "dropout_6 (Dropout)          (None, 200)               0         \n",
            "_________________________________________________________________\n",
            "dense_14 (Dense)             (None, 100)               20100     \n",
            "_________________________________________________________________\n",
            "dropout_7 (Dropout)          (None, 100)               0         \n",
            "_________________________________________________________________\n",
            "dense_15 (Dense)             (None, 10)                1010      \n",
            "=================================================================\n",
            "Total params: 181,246\n",
            "Trainable params: 179,678\n",
            "Non-trainable params: 1,568\n",
            "_________________________________________________________________\n"
          ],
          "name": "stdout"
        }
      ]
    },
    {
      "cell_type": "code",
      "metadata": {
        "id": "ilXrdn2augdg",
        "colab_type": "code",
        "colab": {
          "base_uri": "https://localhost:8080/",
          "height": 195
        },
        "outputId": "509fc1b0-a61a-4c6c-8612-5b9bf25a9593"
      },
      "source": [
        "from matplotlib import pyplot\n",
        "pyplot.subplot(211)\n",
        "pyplot.title('Loss')\n",
        "pyplot.plot(output1.history['loss'], label='train')\n",
        "pyplot.plot(output1.history['val_loss'], label='test')\n",
        "pyplot.xlabel('epochs')\n",
        "pyplot.ylabel('error')"
      ],
      "execution_count": 165,
      "outputs": [
        {
          "output_type": "execute_result",
          "data": {
            "text/plain": [
              "Text(0, 0.5, 'error')"
            ]
          },
          "metadata": {
            "tags": []
          },
          "execution_count": 165
        },
        {
          "output_type": "display_data",
          "data": {
            "image/png": "[encoded data removed]",
            "text/plain": [
              "<Figure size 432x288 with 1 Axes>"
            ]
          },
          "metadata": {
            "tags": [],
            "needs_background": "light"
          }
        }
      ]
    },
    {
      "cell_type": "code",
      "metadata": {
        "id": "w85ZSoXQwX5Q",
        "colab_type": "code",
        "colab": {
          "base_uri": "https://localhost:8080/",
          "height": 195
        },
        "outputId": "fcae0e55-079c-490f-c969-04764517823b"
      },
      "source": [
        "from matplotlib import pyplot\n",
        "pyplot.subplot(211)\n",
        "pyplot.title('accuracy')\n",
        "pyplot.plot(output1.history['accuracy'], label='train')\n",
        "pyplot.plot(output1.history['val_accuracy'], label='test')\n",
        "pyplot.xlabel('epochs')\n",
        "pyplot.ylabel('accuracy')"
      ],
      "execution_count": 166,
      "outputs": [
        {
          "output_type": "execute_result",
          "data": {
            "text/plain": [
              "Text(0, 0.5, 'accuracy')"
            ]
          },
          "metadata": {
            "tags": []
          },
          "execution_count": 166
        },
        {
          "output_type": "display_data",
          "data": {
            "image/png": "[encoded data removed]",
            "text/plain": [
              "<Figure size 432x288 with 1 Axes>"
            ]
          },
          "metadata": {
            "tags": [],
            "needs_background": "light"
          }
        }
      ]
    },
    {
      "cell_type": "code",
      "metadata": {
        "id": "vjnEk7yGwr6l",
        "colab_type": "code",
        "colab": {}
      },
      "source": [
        "import math\n",
        "class_names = {i:cn for i, cn in enumerate(['T-shirt/top', 'Trouser', 'Pullover', 'Dress', 'Coat',\n",
        "               'Sandal', 'Shirt', 'Sneaker', 'Bag', 'Ankle boot']) }\n",
        "def plot(images, labels, predictions=None):\n",
        "    \"\"\"Helper function to plot images, labels and predictions\n",
        "    Parameters\n",
        "    ----------\n",
        "    images : 3D matrix of image\n",
        "    labels : 1D array\n",
        "    predictions (optional): 1D array\n",
        "    \"\"\"\n",
        "    # create a grid with 5 columns\n",
        "    n_cols = min(5, len(images))\n",
        "    n_rows = math.ceil(len(images) / n_cols)\n",
        "    fig, axes = plt.subplots(n_rows, n_cols, figsize=(n_cols+3, n_rows+4))\n",
        "    \n",
        "    if predictions is None:\n",
        "        predictions = [None] * len(labels)\n",
        "        \n",
        "    for i, (x, y_true, y_pred) in enumerate(zip(images, labels, predictions)):\n",
        "        ax = axes.flat[i]\n",
        "        ax.imshow(x, cmap=plt.cm.binary)\n",
        "        \n",
        "        ax.set_title(f\"lbl: {class_names[y_true]}\")\n",
        "        if y_pred is not None:\n",
        "            ax.set_xlabel(f\"pred: {class_names[y_pred]}\")\n",
        "        \n",
        "        ax.set_xticks([])\n",
        "        ax.set_yticks([])"
      ],
      "execution_count": 167,
      "outputs": []
    },
    {
      "cell_type": "code",
      "metadata": {
        "id": "mu8r509Cw5-I",
        "colab_type": "code",
        "colab": {
          "base_uri": "https://localhost:8080/",
          "height": 316
        },
        "outputId": "99a38775-b223-45a4-e8ff-0208676e3e5e"
      },
      "source": [
        "#predicting the model classes\n",
        "preds = model1.predict_classes(testX)\n",
        "\n",
        "# plot 10 random data\n",
        "rand_idxs = np.random.permutation(len(testX))[:10]\n",
        "\n",
        "plot(testX[rand_idxs], testY[rand_idxs], preds[rand_idxs])"
      ],
      "execution_count": 168,
      "outputs": [
        {
          "output_type": "display_data",
          "data": {
            "image/png": "[encoded data removed]",
            "text/plain": [
              "<Figure size 576x432 with 10 Axes>"
            ]
          },
          "metadata": {
            "tags": []
          }
        }
      ]
    },
    {
      "cell_type": "code",
      "metadata": {
        "id": "TvFBX0NaxkgW",
        "colab_type": "code",
        "colab": {
          "base_uri": "https://localhost:8080/",
          "height": 35
        },
        "outputId": "9e3b7b09-a072-4324-fb68-c637621f2ea0"
      },
      "source": [
        "\n",
        "#predicting the lables for test data \n",
        "n = 15\n",
        "result = []\n",
        "for i in range (n):\n",
        "  results= model1.predict_classes(testX)[i]\n",
        "  result.append(results)\n",
        "  i=i+1\n",
        "  if(i == n):\n",
        "    break\n",
        "print(result)"
      ],
      "execution_count": 169,
      "outputs": [
        {
          "output_type": "stream",
          "text": [
            "[9, 2, 1, 1, 6, 1, 4, 6, 5, 7, 4, 5, 5, 3, 4]\n"
          ],
          "name": "stdout"
        }
      ]
    },
    {
      "cell_type": "code",
      "metadata": {
        "id": "-gKzRjkDxqzT",
        "colab_type": "code",
        "colab": {
          "base_uri": "https://localhost:8080/",
          "height": 35
        },
        "outputId": "89cc327b-f300-403b-8714-038b5ff9b25f"
      },
      "source": [
        "y_pred = model1.predict_classes(testX)\n",
        "print(y_pred)\n"
      ],
      "execution_count": 170,
      "outputs": [
        {
          "output_type": "stream",
          "text": [
            "[9 2 1 ... 8 1 5]\n"
          ],
          "name": "stdout"
        }
      ]
    },
    {
      "cell_type": "code",
      "metadata": {
        "id": "5ByRaxQn1rg5",
        "colab_type": "code",
        "colab": {
          "base_uri": "https://localhost:8080/",
          "height": 35
        },
        "outputId": "26f0b8a0-0861-4a92-afa7-63693e3daf20"
      },
      "source": [
        "\n",
        "rounded_labels=np.argmax(testYn, axis=1)\n",
        "rounded_labels[1]"
      ],
      "execution_count": 171,
      "outputs": [
        {
          "output_type": "execute_result",
          "data": {
            "text/plain": [
              "2"
            ]
          },
          "metadata": {
            "tags": []
          },
          "execution_count": 171
        }
      ]
    },
    {
      "cell_type": "code",
      "metadata": {
        "id": "IIlNkRQfxAW8",
        "colab_type": "code",
        "colab": {
          "base_uri": "https://localhost:8080/",
          "height": 312
        },
        "outputId": "15e475c0-752b-4ff8-8eed-909e666bd50c"
      },
      "source": [
        "#printinh the classification report\n",
        "from sklearn.metrics import classification_report\n",
        "print(classification_report(rounded_labels, y_pred))"
      ],
      "execution_count": 172,
      "outputs": [
        {
          "output_type": "stream",
          "text": [
            "              precision    recall  f1-score   support\n",
            "\n",
            "           0       0.84      0.86      0.85      1000\n",
            "           1       0.99      0.98      0.98      1000\n",
            "           2       0.80      0.84      0.82      1000\n",
            "           3       0.90      0.91      0.91      1000\n",
            "           4       0.83      0.83      0.83      1000\n",
            "           5       0.98      0.97      0.97      1000\n",
            "           6       0.75      0.70      0.72      1000\n",
            "           7       0.93      0.97      0.95      1000\n",
            "           8       0.98      0.97      0.98      1000\n",
            "           9       0.97      0.95      0.96      1000\n",
            "\n",
            "    accuracy                           0.90     10000\n",
            "   macro avg       0.90      0.90      0.90     10000\n",
            "weighted avg       0.90      0.90      0.90     10000\n",
            "\n"
          ],
          "name": "stdout"
        }
      ]
    },
    {
      "cell_type": "code",
      "metadata": {
        "id": "61aFv_X_xpcy",
        "colab_type": "code",
        "colab": {
          "base_uri": "https://localhost:8080/",
          "height": 311
        },
        "outputId": "11609813-2f36-42da-ee23-4cc14cb756c0"
      },
      "source": [
        "import itertools\n",
        "def plot_confusion_matrix(cm, classes, normalize=False, title='Confusion matrix', cmap=plt.cm.Blues):\n",
        "    \"\"\"\n",
        "    This function prints and plots the confusion matrix.\n",
        "    Normalization can be applied by setting `normalize=True`.\n",
        "    \"\"\"\n",
        "    plt.imshow(cm, interpolation='nearest', cmap=cmap)\n",
        "    plt.title(title)\n",
        "    plt.colorbar()\n",
        "    tick_marks = np.arange(len(classes))\n",
        "    plt.xticks(tick_marks, classes, rotation=45)\n",
        "    plt.yticks(tick_marks, classes)\n",
        "\n",
        "    if normalize:\n",
        "        cm = cm.astype('float') / cm.sum(axis=1)[:, np.newaxis]\n",
        "\n",
        "    thresh = cm.max() / 2.\n",
        "    for i, j in itertools.product(range(cm.shape[0]), range(cm.shape[1])):\n",
        "        plt.text(j, i, cm[i, j],\n",
        "                 horizontalalignment=\"center\",\n",
        "                 color=\"white\" if cm[i, j] > thresh else \"black\")\n",
        "\n",
        "    plt.tight_layout()\n",
        "    plt.ylabel('True label')\n",
        "    plt.xlabel('Predicted label')\n",
        "\n",
        "\n",
        "\n",
        "# plot the confusion matrix\n",
        "plot_confusion_matrix(conf_mat, classes=range(10))\n"
      ],
      "execution_count": 173,
      "outputs": [
        {
          "output_type": "display_data",
          "data": {
            "image/png": "[encoded data removed]",
            "text/plain": [
              "<Figure size 432x288 with 2 Axes>"
            ]
          },
          "metadata": {
            "tags": [],
            "needs_background": "light"
          }
        }
      ]
    },
    {
      "cell_type": "code",
      "metadata": {
        "id": "5MEcg_Byxc32",
        "colab_type": "code",
        "colab": {}
      },
      "source": [
        "#plotting confusion matrix\n",
        "from sklearn.metrics import confusion_matrix\n",
        "conf_mat = confusion_matrix(rounded_labels, y_pred)"
      ],
      "execution_count": 174,
      "outputs": []
    },
    {
      "cell_type": "code",
      "metadata": {
        "id": "Oyxys0vqyGLe",
        "colab_type": "code",
        "colab": {}
      },
      "source": [
        ""
      ],
      "execution_count": 174,
      "outputs": []
    }
  ]
}